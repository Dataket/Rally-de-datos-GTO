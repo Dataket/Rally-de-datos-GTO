{
 "cells": [
  {
   "cell_type": "markdown",
   "source": "# Rally de Datos GTO\n## _Semana 2_: Género",
   "metadata": {
    "tags": [],
    "cell_id": "00000-519cb53d-2823-49f3-bece-940fffd96adf",
    "deepnote_cell_type": "markdown"
   }
  },
  {
   "cell_type": "code",
   "metadata": {
    "tags": [],
    "cell_id": "00000-c68be5b7-03db-48c9-8799-1e2a8f95ed8b",
    "deepnote_to_be_reexecuted": false,
    "source_hash": "479dd977",
    "execution_start": 1632418586909,
    "execution_millis": 0,
    "deepnote_cell_type": "code"
   },
   "source": "# Se importan las librerías para el análisis de datos\nimport pandas as pd\nimport numpy as np\nimport matplotlib.pyplot as plt\nimport seaborn as sns\nimport plotly\nimport plotly.express as px\n\n# Se define el estilo de las gráficas\nsns.set_context('talk')\n\n# Se define la paleta de colores de las gráficas\ncolors = [\"#264653\", \"#2a9d8f\", \"#e9C46a\", \"#F4A261\", \"#E76F51\"]\nsns.set_palette(sns.color_palette(colors))",
   "execution_count": 28,
   "outputs": []
  },
  {
   "cell_type": "markdown",
   "source": "En específico, se estudiarán los __PP__ y los __PED__ relacionados con el __ODS 10__ (_Reducción de la Desigualdad_).",
   "metadata": {
    "tags": [],
    "cell_id": "00002-45813f38-2a3e-4d83-88d1-96294f3bb076",
    "deepnote_cell_type": "markdown"
   }
  },
  {
   "cell_type": "code",
   "metadata": {
    "tags": [],
    "cell_id": "00003-082856b0-d085-4f1c-867f-2d8171b69cca",
    "deepnote_to_be_reexecuted": false,
    "source_hash": "d75c355e",
    "execution_start": 1632417254974,
    "execution_millis": 1353,
    "deepnote_cell_type": "code"
   },
   "source": "# Se define el url donde se encuentra el archivo (en el repositorio de Github)\nurl = \"https://github.com/GOLF-fisica/Dataket/blob/main/Semana2/pps-a-2021.xlsx?raw=true\"\n\n# Se lee el archivo\n# Se usa lo del engine porque en deepnote lanzaba error sin esa opción\n# Para usar ese engine se necesita instalar previamente (se encuentra en requierements.txt)\ndf = pd.read_excel(url, sheet_name=\"pps-aprobado-2021\", engine='openpyxl')",
   "execution_count": 2,
   "outputs": []
  },
  {
   "cell_type": "code",
   "metadata": {
    "tags": [],
    "cell_id": "00004-056b098a-309d-463c-9157-3c984684f73a",
    "deepnote_to_be_reexecuted": false,
    "source_hash": "8d674921",
    "execution_start": 1632417256335,
    "execution_millis": 32,
    "deepnote_cell_type": "code"
   },
   "source": "# Se calcula el presupuesto aprobado por PP\npp_dinero = df.groupby(\"id_programa_presupuestario\").sum()[\"aprobado\"]",
   "execution_count": 3,
   "outputs": []
  },
  {
   "cell_type": "markdown",
   "source": "## 1. Alineación de los PP con los ODS",
   "metadata": {
    "tags": [],
    "cell_id": "00002-1c21f235-ffdb-4e21-aa5c-a346aa0eeef5",
    "deepnote_cell_type": "markdown"
   }
  },
  {
   "cell_type": "code",
   "metadata": {
    "tags": [],
    "cell_id": "00002-e7a7e3bc-572a-4f38-95d6-7df90b117ab1",
    "deepnote_to_be_reexecuted": false,
    "source_hash": "3971d567",
    "execution_start": 1632417256367,
    "execution_millis": 432,
    "deepnote_cell_type": "code"
   },
   "source": "# Se define el url donde se encuentra el archivo (en el repositorio de Github)\nurl_pp = \"https://github.com/GOLF-fisica/Dataket/raw/main/Semana2/alineacion_pp_ods.csv\"\n\n# Se lee el archivo\ndf_pp = pd.read_csv(url_pp, encoding=\"latin\")",
   "execution_count": 4,
   "outputs": []
  },
  {
   "cell_type": "code",
   "metadata": {
    "tags": [],
    "cell_id": "00004-ce8178b5-1c9a-4fb1-92ed-2cf85dc2983f",
    "deepnote_to_be_reexecuted": false,
    "source_hash": "372548e5",
    "execution_start": 1632417256804,
    "execution_millis": 42,
    "deepnote_cell_type": "code"
   },
   "source": "# Se filtran los registros que pertenecen al ODS 10: Reducción de la desigualdad\n# además, se omiten las columnas que se hacen redundantes (pues refieren al ODS)\ndf_pp_10 = df_pp[ df_pp[\"id_ods\"]==10 ].drop([\"id_ods\", \"descripcion_ods\"], axis=1)",
   "execution_count": 5,
   "outputs": []
  },
  {
   "cell_type": "code",
   "metadata": {
    "tags": [],
    "cell_id": "00006-5636fdc3-8d1b-4a48-97ac-28730a614eec",
    "deepnote_to_be_reexecuted": false,
    "source_hash": "f29ccd6b",
    "execution_start": 1632417256847,
    "execution_millis": 0,
    "deepnote_cell_type": "code"
   },
   "source": "# Los programas presupuestarios que soportan ese ODS\npps_10 = df_pp_10[\"id_programa_presupuestario\"].unique()\npps_10_dinero = pp_dinero[pp_dinero.index.isin(pps_10)].sort_values(ascending=False)",
   "execution_count": 6,
   "outputs": []
  },
  {
   "cell_type": "code",
   "metadata": {
    "tags": [],
    "cell_id": "00009-ed745995-9043-4226-a18f-40cea5c58faa",
    "deepnote_to_be_reexecuted": false,
    "source_hash": "10174b6a",
    "execution_start": 1632417256847,
    "execution_millis": 5,
    "deepnote_cell_type": "code"
   },
   "source": "# Los PP que aparecen en df_pp con el ODS 10\npps_10",
   "execution_count": 7,
   "outputs": [
    {
     "output_type": "execute_result",
     "execution_count": 7,
     "data": {
      "text/plain": "array(['E010', 'S008', 'E009', 'R009', 'E022', 'E007'], dtype=object)"
     },
     "metadata": {}
    }
   ]
  },
  {
   "cell_type": "code",
   "metadata": {
    "tags": [],
    "cell_id": "00011-1011067f-4c56-4d79-ab5b-2cd005da9d31",
    "deepnote_to_be_reexecuted": false,
    "source_hash": "648918ba",
    "execution_start": 1632417256890,
    "execution_millis": 0,
    "deepnote_cell_type": "code"
   },
   "source": "# Los PP aprobados que coinciden con pps_10\n# Note que en este caso no aparece E022,\n# esto significa que este PP no fue aprobado\npps_10_dinero",
   "execution_count": 8,
   "outputs": [
    {
     "output_type": "execute_result",
     "execution_count": 8,
     "data": {
      "text/plain": "id_programa_presupuestario\nE010    1.695605e+08\nE009    8.909447e+07\nE007    3.337231e+07\nS008    1.481824e+07\nR009    0.000000e+00\nName: aprobado, dtype: float64"
     },
     "metadata": {}
    }
   ]
  },
  {
   "cell_type": "code",
   "metadata": {
    "tags": [],
    "cell_id": "00011-10cb2469-f537-4cb2-acdf-85ff17b6e56c",
    "deepnote_to_be_reexecuted": false,
    "source_hash": "1f124c41",
    "execution_start": 1632417256891,
    "execution_millis": 255,
    "deepnote_cell_type": "code"
   },
   "source": "# Gráfica del presupuesto por programa alineado al ODS 10\nplt.figure(figsize=(10, 6.5))\n\nsns.barplot(x=pps_10_dinero/1_000_000, y=pps_10_dinero.index)\n\nplt.title(\"Presupuesto aprobado en programas presupuestarios\\nasociados con el ODS 10 en 2021\")\nplt.ylabel(\"\")\nplt.xlabel(\"Presupuesto aprobado (mdp)\")\n\nplt.show()",
   "execution_count": 9,
   "outputs": [
    {
     "data": {
      "text/plain": "<Figure size 720x468 with 1 Axes>",
      "image/png": "[encoded data removed]"
     },
     "metadata": {
      "needs_background": "light",
      "image/png": {
       "width": 627,
       "height": 461
      }
     },
     "output_type": "display_data"
    }
   ]
  },
  {
   "cell_type": "code",
   "metadata": {
    "tags": [],
    "cell_id": "00013-24bac6d4-029c-415b-8408-15f8cf117018",
    "deepnote_to_be_reexecuted": false,
    "source_hash": "a1a5b6e8",
    "execution_start": 1632417257200,
    "execution_millis": 6,
    "deepnote_cell_type": "code"
   },
   "source": "# Para ver de qué trataba E022, el PP que no fue aprobado\ndf_pp[df_pp[\"id_programa_presupuestario\"]==\"E022\"]",
   "execution_count": 10,
   "outputs": [
    {
     "output_type": "execute_result",
     "execution_count": 10,
     "data": {
      "application/vnd.deepnote.dataframe.v2+json": {
       "row_count": 3,
       "column_count": 18,
       "columns": [
        {
         "name": "id_eje",
         "dtype": "int64",
         "stats": {
          "unique_count": 1,
          "nan_count": 0,
          "min": "7",
          "max": "7",
          "histogram": [
           {
            "bin_start": 6.5,
            "bin_end": 6.6,
            "count": 0
           },
           {
            "bin_start": 6.6,
            "bin_end": 6.7,
            "count": 0
           },
           {
            "bin_start": 6.7,
            "bin_end": 6.8,
            "count": 0
           },
           {
            "bin_start": 6.8,
            "bin_end": 6.9,
            "count": 0
           },
           {
            "bin_start": 6.9,
            "bin_end": 7,
            "count": 0
           },
           {
            "bin_start": 7,
            "bin_end": 7.1,
            "count": 3
           },
           {
            "bin_start": 7.1,
            "bin_end": 7.2,
            "count": 0
           },
           {
            "bin_start": 7.2,
            "bin_end": 7.3,
            "count": 0
           },
           {
            "bin_start": 7.3,
            "bin_end": 7.4,
            "count": 0
           },
           {
            "bin_start": 7.4,
            "bin_end": 7.5,
            "count": 0
           }
          ]
         }
        },
        {
         "name": "descripcion_eje",
         "dtype": "object",
         "stats": {
          "unique_count": 1,
          "nan_count": 0,
          "categories": [
           {
            "name": "Poderes y Autónomos",
            "count": 3
           }
          ]
         }
        },
        {
         "name": "id_programa_presupuestario",
         "dtype": "object",
         "stats": {
          "unique_count": 1,
          "nan_count": 0,
          "categories": [
           {
            "name": "E022",
            "count": 3
           }
          ]
         }
        },
        {
         "name": "descripcion_programa_presupuestario",
         "dtype": "object",
         "stats": {
          "unique_count": 1,
          "nan_count": 0,
          "categories": [
           {
            "name": "Confianza en el Instituto Electoral del Estado de Guanajuato",
            "count": 3
           }
          ]
         }
        },
        {
         "name": "id_componente",
         "dtype": "object",
         "stats": {
          "unique_count": 3,
          "nan_count": 0,
          "categories": [
           {
            "name": "E022.C03",
            "count": 1
           },
           {
            "name": "E022.C01",
            "count": 1
           },
           {
            "name": "E022.C02",
            "count": 1
           }
          ]
         }
        },
        {
         "name": "descripcion_componente",
         "dtype": "object",
         "stats": {
          "unique_count": 3,
          "nan_count": 0,
          "categories": [
           {
            "name": "Gestión institucional mejorada.",
            "count": 1
           },
           {
            "name": "Proceso electoral local 2020-2021 celebrado.",
            "count": 1
           },
           {
            "name": "Programas de educación cívica y participación ciudadana, ejecutados.",
            "count": 1
           }
          ]
         }
        },
        {
         "name": "id_siglas",
         "dtype": "object",
         "stats": {
          "unique_count": 1,
          "nan_count": 0,
          "categories": [
           {
            "name": "IEEG",
            "count": 3
           }
          ]
         }
        },
        {
         "name": "descripcion_siglas",
         "dtype": "object",
         "stats": {
          "unique_count": 1,
          "nan_count": 0,
          "categories": [
           {
            "name": "Instituto Electoral del Estado de Guanajuato",
            "count": 3
           }
          ]
         }
        },
        {
         "name": "id_ods",
         "dtype": "int64",
         "stats": {
          "unique_count": 2,
          "nan_count": 0,
          "min": "10",
          "max": "16",
          "histogram": [
           {
            "bin_start": 10,
            "bin_end": 10.6,
            "count": 1
           },
           {
            "bin_start": 10.6,
            "bin_end": 11.2,
            "count": 0
           },
           {
            "bin_start": 11.2,
            "bin_end": 11.8,
            "count": 0
           },
           {
            "bin_start": 11.8,
            "bin_end": 12.4,
            "count": 0
           },
           {
            "bin_start": 12.4,
            "bin_end": 13,
            "count": 0
           },
           {
            "bin_start": 13,
            "bin_end": 13.6,
            "count": 0
           },
           {
            "bin_start": 13.6,
            "bin_end": 14.2,
            "count": 0
           },
           {
            "bin_start": 14.2,
            "bin_end": 14.8,
            "count": 0
           },
           {
            "bin_start": 14.8,
            "bin_end": 15.399999999999999,
            "count": 0
           },
           {
            "bin_start": 15.399999999999999,
            "bin_end": 16,
            "count": 2
           }
          ]
         }
        },
        {
         "name": "descripcion_ods",
         "dtype": "object",
         "stats": {
          "unique_count": 2,
          "nan_count": 0,
          "categories": [
           {
            "name": "Objetivo 16: Promover sociedades, justas, pacíficas e inclusivas",
            "count": 2
           },
           {
            "name": "Objetivo 10: Reducir la desigualdad en y entre los países",
            "count": 1
           }
          ]
         }
        },
        {
         "name": "id_meta",
         "dtype": "object",
         "stats": {
          "unique_count": 2,
          "nan_count": 0,
          "categories": [
           {
            "name": "16.6",
            "count": 2
           },
           {
            "name": "10.2",
            "count": 1
           }
          ]
         }
        },
        {
         "name": "descripcion_meta",
         "dtype": "object",
         "stats": {
          "unique_count": 2,
          "nan_count": 0,
          "categories": [
           {
            "name": "16.6 Crear a todos los niveles instituciones eficaces y transparentes que rindan cuentas.",
            "count": 2
           },
           {
            "name": "10.2 Potenciar y promover la inclusión social, económica y política de todos, independientemente de su edad, sexo, discapacidad, raza, etnia, origen, religión o situación económica u otra condición.",
            "count": 1
           }
          ]
         }
        },
        {
         "name": "id_tema_general",
         "dtype": "int64",
         "stats": {
          "unique_count": 1,
          "nan_count": 0,
          "min": "3",
          "max": "3",
          "histogram": [
           {
            "bin_start": 2.5,
            "bin_end": 2.6,
            "count": 0
           },
           {
            "bin_start": 2.6,
            "bin_end": 2.7,
            "count": 0
           },
           {
            "bin_start": 2.7,
            "bin_end": 2.8,
            "count": 0
           },
           {
            "bin_start": 2.8,
            "bin_end": 2.9,
            "count": 0
           },
           {
            "bin_start": 2.9,
            "bin_end": 3,
            "count": 0
           },
           {
            "bin_start": 3,
            "bin_end": 3.1,
            "count": 3
           },
           {
            "bin_start": 3.1,
            "bin_end": 3.2,
            "count": 0
           },
           {
            "bin_start": 3.2,
            "bin_end": 3.3,
            "count": 0
           },
           {
            "bin_start": 3.3,
            "bin_end": 3.4,
            "count": 0
           },
           {
            "bin_start": 3.4,
            "bin_end": 3.5,
            "count": 0
           }
          ]
         }
        },
        {
         "name": "descripcion_tema_general",
         "dtype": "object",
         "stats": {
          "unique_count": 1,
          "nan_count": 0,
          "categories": [
           {
            "name": "Desarrollo social",
            "count": 3
           }
          ]
         }
        },
        {
         "name": "id_tema_objetivo",
         "dtype": "float64",
         "stats": {
          "unique_count": 2,
          "nan_count": 0,
          "min": "3.1",
          "max": "3.6",
          "histogram": [
           {
            "bin_start": 3.1,
            "bin_end": 3.15,
            "count": 2
           },
           {
            "bin_start": 3.15,
            "bin_end": 3.2,
            "count": 0
           },
           {
            "bin_start": 3.2,
            "bin_end": 3.25,
            "count": 0
           },
           {
            "bin_start": 3.25,
            "bin_end": 3.3000000000000003,
            "count": 0
           },
           {
            "bin_start": 3.3000000000000003,
            "bin_end": 3.35,
            "count": 0
           },
           {
            "bin_start": 3.35,
            "bin_end": 3.4000000000000004,
            "count": 0
           },
           {
            "bin_start": 3.4000000000000004,
            "bin_end": 3.45,
            "count": 0
           },
           {
            "bin_start": 3.45,
            "bin_end": 3.5,
            "count": 0
           },
           {
            "bin_start": 3.5,
            "bin_end": 3.5500000000000003,
            "count": 0
           },
           {
            "bin_start": 3.5500000000000003,
            "bin_end": 3.6,
            "count": 1
           }
          ]
         }
        },
        {
         "name": "descripcion_tema_objetivo",
         "dtype": "object",
         "stats": {
          "unique_count": 2,
          "nan_count": 0,
          "categories": [
           {
            "name": "Sociedades justas",
            "count": 2
           },
           {
            "name": "Desigualdad",
            "count": 1
           }
          ]
         }
        },
        {
         "name": "id_meta_rubro_propuesta",
         "dtype": "object",
         "stats": {
          "unique_count": 2,
          "nan_count": 0,
          "categories": [
           {
            "name": "3.1.1",
            "count": 2
           },
           {
            "name": "3.6.1",
            "count": 1
           }
          ]
         }
        },
        {
         "name": "descripcion_meta_rubro_propuesta",
         "dtype": "object",
         "stats": {
          "unique_count": 2,
          "nan_count": 0,
          "categories": [
           {
            "name": "Paz, justicia e instituciones",
            "count": 2
           },
           {
            "name": "Reducción de desigualdades",
            "count": 1
           }
          ]
         }
        },
        {
         "name": "_deepnote_index_column",
         "dtype": "int64"
        }
       ],
       "rows_top": [
        {
         "id_eje": 7,
         "descripcion_eje": "Poderes y Autónomos",
         "id_programa_presupuestario": "E022",
         "descripcion_programa_presupuestario": "Confianza en el Instituto Electoral del Estado de Guanajuato",
         "id_componente": "E022.C03",
         "descripcion_componente": "Gestión institucional mejorada.",
         "id_siglas": "IEEG",
         "descripcion_siglas": "Instituto Electoral del Estado de Guanajuato",
         "id_ods": 16,
         "descripcion_ods": "Objetivo 16: Promover sociedades, justas, pacíficas e inclusivas",
         "id_meta": "16.6",
         "descripcion_meta": "16.6 Crear a todos los niveles instituciones eficaces y transparentes que rindan cuentas.",
         "id_tema_general": 3,
         "descripcion_tema_general": "Desarrollo social",
         "id_tema_objetivo": 3.1,
         "descripcion_tema_objetivo": "Sociedades justas",
         "id_meta_rubro_propuesta": "3.1.1",
         "descripcion_meta_rubro_propuesta": "Paz, justicia e instituciones",
         "_deepnote_index_column": 378
        },
        {
         "id_eje": 7,
         "descripcion_eje": "Poderes y Autónomos",
         "id_programa_presupuestario": "E022",
         "descripcion_programa_presupuestario": "Confianza en el Instituto Electoral del Estado de Guanajuato",
         "id_componente": "E022.C01",
         "descripcion_componente": "Proceso electoral local 2020-2021 celebrado.",
         "id_siglas": "IEEG",
         "descripcion_siglas": "Instituto Electoral del Estado de Guanajuato",
         "id_ods": 16,
         "descripcion_ods": "Objetivo 16: Promover sociedades, justas, pacíficas e inclusivas",
         "id_meta": "16.6",
         "descripcion_meta": "16.6 Crear a todos los niveles instituciones eficaces y transparentes que rindan cuentas.",
         "id_tema_general": 3,
         "descripcion_tema_general": "Desarrollo social",
         "id_tema_objetivo": 3.1,
         "descripcion_tema_objetivo": "Sociedades justas",
         "id_meta_rubro_propuesta": "3.1.1",
         "descripcion_meta_rubro_propuesta": "Paz, justicia e instituciones",
         "_deepnote_index_column": 482
        },
        {
         "id_eje": 7,
         "descripcion_eje": "Poderes y Autónomos",
         "id_programa_presupuestario": "E022",
         "descripcion_programa_presupuestario": "Confianza en el Instituto Electoral del Estado de Guanajuato",
         "id_componente": "E022.C02",
         "descripcion_componente": "Programas de educación cívica y participación ciudadana, ejecutados.",
         "id_siglas": "IEEG",
         "descripcion_siglas": "Instituto Electoral del Estado de Guanajuato",
         "id_ods": 10,
         "descripcion_ods": "Objetivo 10: Reducir la desigualdad en y entre los países",
         "id_meta": "10.2",
         "descripcion_meta": "10.2 Potenciar y promover la inclusión social, económica y política de todos, independientemente de…",
         "id_tema_general": 3,
         "descripcion_tema_general": "Desarrollo social",
         "id_tema_objetivo": 3.6,
         "descripcion_tema_objetivo": "Desigualdad",
         "id_meta_rubro_propuesta": "3.6.1",
         "descripcion_meta_rubro_propuesta": "Reducción de desigualdades",
         "_deepnote_index_column": 493
        }
       ],
       "rows_bottom": null
      },
      "text/plain": "     id_eje      descripcion_eje id_programa_presupuestario  \\\n378       7  Poderes y Autónomos                       E022   \n482       7  Poderes y Autónomos                       E022   \n493       7  Poderes y Autónomos                       E022   \n\n                   descripcion_programa_presupuestario id_componente  \\\n378  Confianza en el Instituto Electoral del Estado...      E022.C03   \n482  Confianza en el Instituto Electoral del Estado...      E022.C01   \n493  Confianza en el Instituto Electoral del Estado...      E022.C02   \n\n                                descripcion_componente id_siglas  \\\n378                    Gestión institucional mejorada.      IEEG   \n482       Proceso electoral local 2020-2021 celebrado.      IEEG   \n493  Programas de educación cívica y participación ...      IEEG   \n\n                               descripcion_siglas  id_ods  \\\n378  Instituto Electoral del Estado de Guanajuato      16   \n482  Instituto Electoral del Estado de Guanajuato      16   \n493  Instituto Electoral del Estado de Guanajuato      10   \n\n                                       descripcion_ods id_meta  \\\n378  Objetivo 16: Promover sociedades, justas, pací...    16.6   \n482  Objetivo 16: Promover sociedades, justas, pací...    16.6   \n493  Objetivo 10: Reducir la desigualdad en y entre...    10.2   \n\n                                      descripcion_meta  id_tema_general  \\\n378  16.6 Crear a todos los niveles instituciones e...                3   \n482  16.6 Crear a todos los niveles instituciones e...                3   \n493  10.2 Potenciar y promover la inclusión social,...                3   \n\n    descripcion_tema_general  id_tema_objetivo descripcion_tema_objetivo  \\\n378        Desarrollo social               3.1         Sociedades justas   \n482        Desarrollo social               3.1         Sociedades justas   \n493        Desarrollo social               3.6               Desigualdad   \n\n    id_meta_rubro_propuesta descripcion_meta_rubro_propuesta  \n378                   3.1.1    Paz, justicia e instituciones  \n482                   3.1.1    Paz, justicia e instituciones  \n493                   3.6.1       Reducción de desigualdades  ",
      "text/html": "<div>\n<style scoped>\n    .dataframe tbody tr th:only-of-type {\n        vertical-align: middle;\n    }\n\n    .dataframe tbody tr th {\n        vertical-align: top;\n    }\n\n    .dataframe thead th {\n        text-align: right;\n    }\n</style>\n<table border=\"1\" class=\"dataframe\">\n  <thead>\n    <tr style=\"text-align: right;\">\n      <th></th>\n      <th>id_eje</th>\n      <th>descripcion_eje</th>\n      <th>id_programa_presupuestario</th>\n      <th>descripcion_programa_presupuestario</th>\n      <th>id_componente</th>\n      <th>descripcion_componente</th>\n      <th>id_siglas</th>\n      <th>descripcion_siglas</th>\n      <th>id_ods</th>\n      <th>descripcion_ods</th>\n      <th>id_meta</th>\n      <th>descripcion_meta</th>\n      <th>id_tema_general</th>\n      <th>descripcion_tema_general</th>\n      <th>id_tema_objetivo</th>\n      <th>descripcion_tema_objetivo</th>\n      <th>id_meta_rubro_propuesta</th>\n      <th>descripcion_meta_rubro_propuesta</th>\n    </tr>\n  </thead>\n  <tbody>\n    <tr>\n      <th>378</th>\n      <td>7</td>\n      <td>Poderes y Autónomos</td>\n      <td>E022</td>\n      <td>Confianza en el Instituto Electoral del Estado...</td>\n      <td>E022.C03</td>\n      <td>Gestión institucional mejorada.</td>\n      <td>IEEG</td>\n      <td>Instituto Electoral del Estado de Guanajuato</td>\n      <td>16</td>\n      <td>Objetivo 16: Promover sociedades, justas, pací...</td>\n      <td>16.6</td>\n      <td>16.6 Crear a todos los niveles instituciones e...</td>\n      <td>3</td>\n      <td>Desarrollo social</td>\n      <td>3.1</td>\n      <td>Sociedades justas</td>\n      <td>3.1.1</td>\n      <td>Paz, justicia e instituciones</td>\n    </tr>\n    <tr>\n      <th>482</th>\n      <td>7</td>\n      <td>Poderes y Autónomos</td>\n      <td>E022</td>\n      <td>Confianza en el Instituto Electoral del Estado...</td>\n      <td>E022.C01</td>\n      <td>Proceso electoral local 2020-2021 celebrado.</td>\n      <td>IEEG</td>\n      <td>Instituto Electoral del Estado de Guanajuato</td>\n      <td>16</td>\n      <td>Objetivo 16: Promover sociedades, justas, pací...</td>\n      <td>16.6</td>\n      <td>16.6 Crear a todos los niveles instituciones e...</td>\n      <td>3</td>\n      <td>Desarrollo social</td>\n      <td>3.1</td>\n      <td>Sociedades justas</td>\n      <td>3.1.1</td>\n      <td>Paz, justicia e instituciones</td>\n    </tr>\n    <tr>\n      <th>493</th>\n      <td>7</td>\n      <td>Poderes y Autónomos</td>\n      <td>E022</td>\n      <td>Confianza en el Instituto Electoral del Estado...</td>\n      <td>E022.C02</td>\n      <td>Programas de educación cívica y participación ...</td>\n      <td>IEEG</td>\n      <td>Instituto Electoral del Estado de Guanajuato</td>\n      <td>10</td>\n      <td>Objetivo 10: Reducir la desigualdad en y entre...</td>\n      <td>10.2</td>\n      <td>10.2 Potenciar y promover la inclusión social,...</td>\n      <td>3</td>\n      <td>Desarrollo social</td>\n      <td>3.6</td>\n      <td>Desigualdad</td>\n      <td>3.6.1</td>\n      <td>Reducción de desigualdades</td>\n    </tr>\n  </tbody>\n</table>\n</div>"
     },
     "metadata": {}
    }
   ]
  },
  {
   "cell_type": "code",
   "metadata": {
    "tags": [],
    "cell_id": "00012-5850898c-5829-4c08-81e0-c7e866f740c4",
    "deepnote_to_be_reexecuted": false,
    "source_hash": "9da17d19",
    "execution_start": 1632417257211,
    "execution_millis": 60,
    "deepnote_cell_type": "code"
   },
   "source": "# Para ver de qué trata R009 que parece haber sido aprobado pero sin dinero\ndf[df[\"id_programa_presupuestario\"]==\"R009\"]",
   "execution_count": 11,
   "outputs": [
    {
     "output_type": "execute_result",
     "execution_count": 11,
     "data": {
      "application/vnd.deepnote.dataframe.v2+json": {
       "row_count": 7,
       "column_count": 16,
       "columns": [
        {
         "name": "ciclo ",
         "dtype": "int64",
         "stats": {
          "unique_count": 1,
          "nan_count": 0,
          "min": "2021",
          "max": "2021",
          "histogram": [
           {
            "bin_start": 2020.5,
            "bin_end": 2020.6,
            "count": 0
           },
           {
            "bin_start": 2020.6,
            "bin_end": 2020.7,
            "count": 0
           },
           {
            "bin_start": 2020.7,
            "bin_end": 2020.8,
            "count": 0
           },
           {
            "bin_start": 2020.8,
            "bin_end": 2020.9,
            "count": 0
           },
           {
            "bin_start": 2020.9,
            "bin_end": 2021,
            "count": 0
           },
           {
            "bin_start": 2021,
            "bin_end": 2021.1,
            "count": 7
           },
           {
            "bin_start": 2021.1,
            "bin_end": 2021.2,
            "count": 0
           },
           {
            "bin_start": 2021.2,
            "bin_end": 2021.3,
            "count": 0
           },
           {
            "bin_start": 2021.3,
            "bin_end": 2021.4,
            "count": 0
           },
           {
            "bin_start": 2021.4,
            "bin_end": 2021.5,
            "count": 0
           }
          ]
         }
        },
        {
         "name": "periodo",
         "dtype": "datetime64[ns]",
         "stats": {
          "unique_count": 1,
          "nan_count": 0,
          "min": "2021-01-01 00:00:00",
          "max": "2021-01-01 00:00:00",
          "histogram": null
         }
        },
        {
         "name": "id_eje",
         "dtype": "int64",
         "stats": {
          "unique_count": 1,
          "nan_count": 0,
          "min": "6",
          "max": "6",
          "histogram": [
           {
            "bin_start": 5.5,
            "bin_end": 5.6,
            "count": 0
           },
           {
            "bin_start": 5.6,
            "bin_end": 5.7,
            "count": 0
           },
           {
            "bin_start": 5.7,
            "bin_end": 5.8,
            "count": 0
           },
           {
            "bin_start": 5.8,
            "bin_end": 5.9,
            "count": 0
           },
           {
            "bin_start": 5.9,
            "bin_end": 6,
            "count": 0
           },
           {
            "bin_start": 6,
            "bin_end": 6.1,
            "count": 7
           },
           {
            "bin_start": 6.1,
            "bin_end": 6.2,
            "count": 0
           },
           {
            "bin_start": 6.2,
            "bin_end": 6.3,
            "count": 0
           },
           {
            "bin_start": 6.3,
            "bin_end": 6.4,
            "count": 0
           },
           {
            "bin_start": 6.4,
            "bin_end": 6.5,
            "count": 0
           }
          ]
         }
        },
        {
         "name": "descripcion_eje",
         "dtype": "object",
         "stats": {
          "unique_count": 1,
          "nan_count": 0,
          "categories": [
           {
            "name": "Gobierno humano y eficaz",
            "count": 7
           }
          ]
         }
        },
        {
         "name": "id_division",
         "dtype": "int64",
         "stats": {
          "unique_count": 1,
          "nan_count": 0,
          "min": "3031",
          "max": "3031",
          "histogram": [
           {
            "bin_start": 3030.5,
            "bin_end": 3030.6,
            "count": 0
           },
           {
            "bin_start": 3030.6,
            "bin_end": 3030.7,
            "count": 0
           },
           {
            "bin_start": 3030.7,
            "bin_end": 3030.8,
            "count": 0
           },
           {
            "bin_start": 3030.8,
            "bin_end": 3030.9,
            "count": 0
           },
           {
            "bin_start": 3030.9,
            "bin_end": 3031,
            "count": 0
           },
           {
            "bin_start": 3031,
            "bin_end": 3031.1,
            "count": 7
           },
           {
            "bin_start": 3031.1,
            "bin_end": 3031.2,
            "count": 0
           },
           {
            "bin_start": 3031.2,
            "bin_end": 3031.3,
            "count": 0
           },
           {
            "bin_start": 3031.3,
            "bin_end": 3031.4,
            "count": 0
           },
           {
            "bin_start": 3031.4,
            "bin_end": 3031.5,
            "count": 0
           }
          ]
         }
        },
        {
         "name": "descripcion_division",
         "dtype": "object",
         "stats": {
          "unique_count": 1,
          "nan_count": 0,
          "categories": [
           {
            "name": "Instituto de Seguridad Social del Estado de Guanajuato",
            "count": 7
           }
          ]
         }
        },
        {
         "name": "id_centro_gestor",
         "dtype": "object",
         "stats": {
          "unique_count": 1,
          "nan_count": 0,
          "categories": [
           {
            "name": "3031",
            "count": 7
           }
          ]
         }
        },
        {
         "name": "descripcion_centro gestor",
         "dtype": "object",
         "stats": {
          "unique_count": 1,
          "nan_count": 0,
          "categories": [
           {
            "name": "Instituto de Seguridad Social del Estado de Guanajuato",
            "count": 7
           }
          ]
         }
        },
        {
         "name": "id_modalidad",
         "dtype": "object",
         "stats": {
          "unique_count": 1,
          "nan_count": 0,
          "categories": [
           {
            "name": "R",
            "count": 7
           }
          ]
         }
        },
        {
         "name": "descripcion_modalidad",
         "dtype": "object",
         "stats": {
          "unique_count": 1,
          "nan_count": 0,
          "categories": [
           {
            "name": "Funciones de Gobierno Específicos",
            "count": 7
           }
          ]
         }
        },
        {
         "name": "id_programa_presupuestario",
         "dtype": "object",
         "stats": {
          "unique_count": 1,
          "nan_count": 0,
          "categories": [
           {
            "name": "R009",
            "count": 7
           }
          ]
         }
        },
        {
         "name": "descripcion_programa_presupuestario",
         "dtype": "object",
         "stats": {
          "unique_count": 1,
          "nan_count": 0,
          "categories": [
           {
            "name": "Garantizar el otorgamiento y pago de seguros y prestaciones de los afiliados del ISSEG",
            "count": 7
           }
          ]
         }
        },
        {
         "name": "id_proceso_proyecto",
         "dtype": "object",
         "stats": {
          "unique_count": 7,
          "nan_count": 0,
          "categories": [
           {
            "name": "P3117",
            "count": 1
           },
           {
            "name": "P3118",
            "count": 1
           },
           {
            "name": "5 others",
            "count": 5
           }
          ]
         }
        },
        {
         "name": "descripcion__proceso_proyecto",
         "dtype": "object",
         "stats": {
          "unique_count": 7,
          "nan_count": 0,
          "categories": [
           {
            "name": "Optimización del proceso de otorgamiento y pago de seguros",
            "count": 1
           },
           {
            "name": "Optimización del proceso de otorgamiento y pago de prestaciones",
            "count": 1
           },
           {
            "name": "5 others",
            "count": 5
           }
          ]
         }
        },
        {
         "name": "detalle",
         "dtype": "object",
         "stats": {
          "unique_count": 7,
          "nan_count": 0,
          "categories": [
           {
            "name": "Otorgamiento de los seguros  contempladas en la Ley del ISSEG.",
            "count": 1
           },
           {
            "name": "Préstamos otorgados en sus diferentes modalidades de conformidad con la Ley de Seguridad Social",
            "count": 1
           },
           {
            "name": "5 others",
            "count": 5
           }
          ]
         }
        },
        {
         "name": "aprobado",
         "dtype": "float64",
         "stats": {
          "unique_count": 1,
          "nan_count": 0,
          "min": "0.0",
          "max": "0.0",
          "histogram": [
           {
            "bin_start": -0.5,
            "bin_end": -0.4,
            "count": 0
           },
           {
            "bin_start": -0.4,
            "bin_end": -0.3,
            "count": 0
           },
           {
            "bin_start": -0.3,
            "bin_end": -0.19999999999999996,
            "count": 0
           },
           {
            "bin_start": -0.19999999999999996,
            "bin_end": -0.09999999999999998,
            "count": 0
           },
           {
            "bin_start": -0.09999999999999998,
            "bin_end": 0,
            "count": 0
           },
           {
            "bin_start": 0,
            "bin_end": 0.10000000000000009,
            "count": 7
           },
           {
            "bin_start": 0.10000000000000009,
            "bin_end": 0.20000000000000007,
            "count": 0
           },
           {
            "bin_start": 0.20000000000000007,
            "bin_end": 0.30000000000000004,
            "count": 0
           },
           {
            "bin_start": 0.30000000000000004,
            "bin_end": 0.4,
            "count": 0
           },
           {
            "bin_start": 0.4,
            "bin_end": 0.5,
            "count": 0
           }
          ]
         }
        },
        {
         "name": "_deepnote_index_column",
         "dtype": "int64"
        }
       ],
       "rows_top": [
        {
         "ciclo ": 2021,
         "periodo": "2021-01-01T00:00:00.000000",
         "id_eje": 6,
         "descripcion_eje": "Gobierno humano y eficaz",
         "id_division": 3031,
         "descripcion_division": "Instituto de Seguridad Social del Estado de Guanajuato",
         "id_centro_gestor": "3031",
         "descripcion_centro gestor": "Instituto de Seguridad Social del Estado de Guanajuato",
         "id_modalidad": "R",
         "descripcion_modalidad": "Funciones de Gobierno Específicos",
         "id_programa_presupuestario": "R009",
         "descripcion_programa_presupuestario": "Garantizar el otorgamiento y pago de seguros y prestaciones de los afiliados del ISSEG",
         "id_proceso_proyecto": "P3117",
         "descripcion__proceso_proyecto": "Optimización del proceso de otorgamiento y pago de seguros",
         "detalle": "Otorgamiento de los seguros  contempladas en la Ley del ISSEG.",
         "aprobado": 0,
         "_deepnote_index_column": 1299
        },
        {
         "ciclo ": 2021,
         "periodo": "2021-01-01T00:00:00.000000",
         "id_eje": 6,
         "descripcion_eje": "Gobierno humano y eficaz",
         "id_division": 3031,
         "descripcion_division": "Instituto de Seguridad Social del Estado de Guanajuato",
         "id_centro_gestor": "3031",
         "descripcion_centro gestor": "Instituto de Seguridad Social del Estado de Guanajuato",
         "id_modalidad": "R",
         "descripcion_modalidad": "Funciones de Gobierno Específicos",
         "id_programa_presupuestario": "R009",
         "descripcion_programa_presupuestario": "Garantizar el otorgamiento y pago de seguros y prestaciones de los afiliados del ISSEG",
         "id_proceso_proyecto": "P3118",
         "descripcion__proceso_proyecto": "Optimización del proceso de otorgamiento y pago de prestaciones",
         "detalle": "Préstamos otorgados en sus diferentes modalidades de conformidad con la Ley de Seguridad Social",
         "aprobado": 0,
         "_deepnote_index_column": 1300
        },
        {
         "ciclo ": 2021,
         "periodo": "2021-01-01T00:00:00.000000",
         "id_eje": 6,
         "descripcion_eje": "Gobierno humano y eficaz",
         "id_division": 3031,
         "descripcion_division": "Instituto de Seguridad Social del Estado de Guanajuato",
         "id_centro_gestor": "3031",
         "descripcion_centro gestor": "Instituto de Seguridad Social del Estado de Guanajuato",
         "id_modalidad": "R",
         "descripcion_modalidad": "Funciones de Gobierno Específicos",
         "id_programa_presupuestario": "R009",
         "descripcion_programa_presupuestario": "Garantizar el otorgamiento y pago de seguros y prestaciones de los afiliados del ISSEG",
         "id_proceso_proyecto": "P3119",
         "descripcion__proceso_proyecto": "Optimización del proceso de afiliación, vigencia de derechos y cobranza",
         "detalle": "Optimización del proceso de vigilancia del cumplimiento de las obligaciones de los sujetos obligado…",
         "aprobado": 0,
         "_deepnote_index_column": 1301
        },
        {
         "ciclo ": 2021,
         "periodo": "2021-01-01T00:00:00.000000",
         "id_eje": 6,
         "descripcion_eje": "Gobierno humano y eficaz",
         "id_division": 3031,
         "descripcion_division": "Instituto de Seguridad Social del Estado de Guanajuato",
         "id_centro_gestor": "3031",
         "descripcion_centro gestor": "Instituto de Seguridad Social del Estado de Guanajuato",
         "id_modalidad": "R",
         "descripcion_modalidad": "Funciones de Gobierno Específicos",
         "id_programa_presupuestario": "R009",
         "descripcion_programa_presupuestario": "Garantizar el otorgamiento y pago de seguros y prestaciones de los afiliados del ISSEG",
         "id_proceso_proyecto": "P3120",
         "descripcion__proceso_proyecto": "Diversificación y optimización de inversiones inmobiliarias",
         "detalle": "Administración y comercialización eficiente de los inmuebles propiedad del Instituto.",
         "aprobado": 0,
         "_deepnote_index_column": 1302
        },
        {
         "ciclo ": 2021,
         "periodo": "2021-01-01T00:00:00.000000",
         "id_eje": 6,
         "descripcion_eje": "Gobierno humano y eficaz",
         "id_division": 3031,
         "descripcion_division": "Instituto de Seguridad Social del Estado de Guanajuato",
         "id_centro_gestor": "3031",
         "descripcion_centro gestor": "Instituto de Seguridad Social del Estado de Guanajuato",
         "id_modalidad": "R",
         "descripcion_modalidad": "Funciones de Gobierno Específicos",
         "id_programa_presupuestario": "R009",
         "descripcion_programa_presupuestario": "Garantizar el otorgamiento y pago de seguros y prestaciones de los afiliados del ISSEG",
         "id_proceso_proyecto": "P3121",
         "descripcion__proceso_proyecto": "Optimización de inversiones financieras",
         "detalle": "Análisis y optimización de inversiones en los mercados financieros",
         "aprobado": 0,
         "_deepnote_index_column": 1303
        },
        {
         "ciclo ": 2021,
         "periodo": "2021-01-01T00:00:00.000000",
         "id_eje": 6,
         "descripcion_eje": "Gobierno humano y eficaz",
         "id_division": 3031,
         "descripcion_division": "Instituto de Seguridad Social del Estado de Guanajuato",
         "id_centro_gestor": "3031",
         "descripcion_centro gestor": "Instituto de Seguridad Social del Estado de Guanajuato",
         "id_modalidad": "R",
         "descripcion_modalidad": "Funciones de Gobierno Específicos",
         "id_programa_presupuestario": "R009",
         "descripcion_programa_presupuestario": "Garantizar el otorgamiento y pago de seguros y prestaciones de los afiliados del ISSEG",
         "id_proceso_proyecto": "P3122",
         "descripcion__proceso_proyecto": "Impulso al rendimiento asociado al otorgamiento de préstamos",
         "detalle": "Promoción de otorgamiento de préstamos para la generación de intereses derivados de éstos",
         "aprobado": 0,
         "_deepnote_index_column": 1304
        },
        {
         "ciclo ": 2021,
         "periodo": "2021-01-01T00:00:00.000000",
         "id_eje": 6,
         "descripcion_eje": "Gobierno humano y eficaz",
         "id_division": 3031,
         "descripcion_division": "Instituto de Seguridad Social del Estado de Guanajuato",
         "id_centro_gestor": "3031",
         "descripcion_centro gestor": "Instituto de Seguridad Social del Estado de Guanajuato",
         "id_modalidad": "R",
         "descripcion_modalidad": "Funciones de Gobierno Específicos",
         "id_programa_presupuestario": "R009",
         "descripcion_programa_presupuestario": "Garantizar el otorgamiento y pago de seguros y prestaciones de los afiliados del ISSEG",
         "id_proceso_proyecto": "P3123",
         "descripcion__proceso_proyecto": "Optimización de la cadena de farmacias ISSEG",
         "detalle": "Implementación de estategias comerciales eficientes en la cadena de farmacias ISSEG",
         "aprobado": 0,
         "_deepnote_index_column": 1305
        }
       ],
       "rows_bottom": null
      },
      "text/plain": "      ciclo     periodo  id_eje           descripcion_eje  id_division  \\\n1299    2021 2021-01-01       6  Gobierno humano y eficaz         3031   \n1300    2021 2021-01-01       6  Gobierno humano y eficaz         3031   \n1301    2021 2021-01-01       6  Gobierno humano y eficaz         3031   \n1302    2021 2021-01-01       6  Gobierno humano y eficaz         3031   \n1303    2021 2021-01-01       6  Gobierno humano y eficaz         3031   \n1304    2021 2021-01-01       6  Gobierno humano y eficaz         3031   \n1305    2021 2021-01-01       6  Gobierno humano y eficaz         3031   \n\n                                   descripcion_division id_centro_gestor  \\\n1299  Instituto de Seguridad Social del Estado de Gu...             3031   \n1300  Instituto de Seguridad Social del Estado de Gu...             3031   \n1301  Instituto de Seguridad Social del Estado de Gu...             3031   \n1302  Instituto de Seguridad Social del Estado de Gu...             3031   \n1303  Instituto de Seguridad Social del Estado de Gu...             3031   \n1304  Instituto de Seguridad Social del Estado de Gu...             3031   \n1305  Instituto de Seguridad Social del Estado de Gu...             3031   \n\n                              descripcion_centro gestor id_modalidad  \\\n1299  Instituto de Seguridad Social del Estado de Gu...            R   \n1300  Instituto de Seguridad Social del Estado de Gu...            R   \n1301  Instituto de Seguridad Social del Estado de Gu...            R   \n1302  Instituto de Seguridad Social del Estado de Gu...            R   \n1303  Instituto de Seguridad Social del Estado de Gu...            R   \n1304  Instituto de Seguridad Social del Estado de Gu...            R   \n1305  Instituto de Seguridad Social del Estado de Gu...            R   \n\n                  descripcion_modalidad id_programa_presupuestario  \\\n1299  Funciones de Gobierno Específicos                       R009   \n1300  Funciones de Gobierno Específicos                       R009   \n1301  Funciones de Gobierno Específicos                       R009   \n1302  Funciones de Gobierno Específicos                       R009   \n1303  Funciones de Gobierno Específicos                       R009   \n1304  Funciones de Gobierno Específicos                       R009   \n1305  Funciones de Gobierno Específicos                       R009   \n\n                    descripcion_programa_presupuestario id_proceso_proyecto  \\\n1299  Garantizar el otorgamiento y pago de seguros y...               P3117   \n1300  Garantizar el otorgamiento y pago de seguros y...               P3118   \n1301  Garantizar el otorgamiento y pago de seguros y...               P3119   \n1302  Garantizar el otorgamiento y pago de seguros y...               P3120   \n1303  Garantizar el otorgamiento y pago de seguros y...               P3121   \n1304  Garantizar el otorgamiento y pago de seguros y...               P3122   \n1305  Garantizar el otorgamiento y pago de seguros y...               P3123   \n\n                          descripcion__proceso_proyecto  \\\n1299  Optimización del proceso de otorgamiento y pag...   \n1300  Optimización del proceso de otorgamiento y pag...   \n1301  Optimización del proceso de afiliación, vigenc...   \n1302  Diversificación y optimización de inversiones ...   \n1303            Optimización de inversiones financieras   \n1304  Impulso al rendimiento asociado al otorgamient...   \n1305       Optimización de la cadena de farmacias ISSEG   \n\n                                                detalle  aprobado  \n1299  Otorgamiento de los seguros  contempladas en l...       0.0  \n1300  Préstamos otorgados en sus diferentes modalida...       0.0  \n1301  Optimización del proceso de vigilancia del cum...       0.0  \n1302  Administración y comercialización eficiente de...       0.0  \n1303  Análisis y optimización de inversiones en los ...       0.0  \n1304  Promoción de otorgamiento de préstamos para la...       0.0  \n1305  Implementación de estategias comerciales efici...       0.0  ",
      "text/html": "<div>\n<style scoped>\n    .dataframe tbody tr th:only-of-type {\n        vertical-align: middle;\n    }\n\n    .dataframe tbody tr th {\n        vertical-align: top;\n    }\n\n    .dataframe thead th {\n        text-align: right;\n    }\n</style>\n<table border=\"1\" class=\"dataframe\">\n  <thead>\n    <tr style=\"text-align: right;\">\n      <th></th>\n      <th>ciclo</th>\n      <th>periodo</th>\n      <th>id_eje</th>\n      <th>descripcion_eje</th>\n      <th>id_division</th>\n      <th>descripcion_division</th>\n      <th>id_centro_gestor</th>\n      <th>descripcion_centro gestor</th>\n      <th>id_modalidad</th>\n      <th>descripcion_modalidad</th>\n      <th>id_programa_presupuestario</th>\n      <th>descripcion_programa_presupuestario</th>\n      <th>id_proceso_proyecto</th>\n      <th>descripcion__proceso_proyecto</th>\n      <th>detalle</th>\n      <th>aprobado</th>\n    </tr>\n  </thead>\n  <tbody>\n    <tr>\n      <th>1299</th>\n      <td>2021</td>\n      <td>2021-01-01</td>\n      <td>6</td>\n      <td>Gobierno humano y eficaz</td>\n      <td>3031</td>\n      <td>Instituto de Seguridad Social del Estado de Gu...</td>\n      <td>3031</td>\n      <td>Instituto de Seguridad Social del Estado de Gu...</td>\n      <td>R</td>\n      <td>Funciones de Gobierno Específicos</td>\n      <td>R009</td>\n      <td>Garantizar el otorgamiento y pago de seguros y...</td>\n      <td>P3117</td>\n      <td>Optimización del proceso de otorgamiento y pag...</td>\n      <td>Otorgamiento de los seguros  contempladas en l...</td>\n      <td>0.0</td>\n    </tr>\n    <tr>\n      <th>1300</th>\n      <td>2021</td>\n      <td>2021-01-01</td>\n      <td>6</td>\n      <td>Gobierno humano y eficaz</td>\n      <td>3031</td>\n      <td>Instituto de Seguridad Social del Estado de Gu...</td>\n      <td>3031</td>\n      <td>Instituto de Seguridad Social del Estado de Gu...</td>\n      <td>R</td>\n      <td>Funciones de Gobierno Específicos</td>\n      <td>R009</td>\n      <td>Garantizar el otorgamiento y pago de seguros y...</td>\n      <td>P3118</td>\n      <td>Optimización del proceso de otorgamiento y pag...</td>\n      <td>Préstamos otorgados en sus diferentes modalida...</td>\n      <td>0.0</td>\n    </tr>\n    <tr>\n      <th>1301</th>\n      <td>2021</td>\n      <td>2021-01-01</td>\n      <td>6</td>\n      <td>Gobierno humano y eficaz</td>\n      <td>3031</td>\n      <td>Instituto de Seguridad Social del Estado de Gu...</td>\n      <td>3031</td>\n      <td>Instituto de Seguridad Social del Estado de Gu...</td>\n      <td>R</td>\n      <td>Funciones de Gobierno Específicos</td>\n      <td>R009</td>\n      <td>Garantizar el otorgamiento y pago de seguros y...</td>\n      <td>P3119</td>\n      <td>Optimización del proceso de afiliación, vigenc...</td>\n      <td>Optimización del proceso de vigilancia del cum...</td>\n      <td>0.0</td>\n    </tr>\n    <tr>\n      <th>1302</th>\n      <td>2021</td>\n      <td>2021-01-01</td>\n      <td>6</td>\n      <td>Gobierno humano y eficaz</td>\n      <td>3031</td>\n      <td>Instituto de Seguridad Social del Estado de Gu...</td>\n      <td>3031</td>\n      <td>Instituto de Seguridad Social del Estado de Gu...</td>\n      <td>R</td>\n      <td>Funciones de Gobierno Específicos</td>\n      <td>R009</td>\n      <td>Garantizar el otorgamiento y pago de seguros y...</td>\n      <td>P3120</td>\n      <td>Diversificación y optimización de inversiones ...</td>\n      <td>Administración y comercialización eficiente de...</td>\n      <td>0.0</td>\n    </tr>\n    <tr>\n      <th>1303</th>\n      <td>2021</td>\n      <td>2021-01-01</td>\n      <td>6</td>\n      <td>Gobierno humano y eficaz</td>\n      <td>3031</td>\n      <td>Instituto de Seguridad Social del Estado de Gu...</td>\n      <td>3031</td>\n      <td>Instituto de Seguridad Social del Estado de Gu...</td>\n      <td>R</td>\n      <td>Funciones de Gobierno Específicos</td>\n      <td>R009</td>\n      <td>Garantizar el otorgamiento y pago de seguros y...</td>\n      <td>P3121</td>\n      <td>Optimización de inversiones financieras</td>\n      <td>Análisis y optimización de inversiones en los ...</td>\n      <td>0.0</td>\n    </tr>\n    <tr>\n      <th>1304</th>\n      <td>2021</td>\n      <td>2021-01-01</td>\n      <td>6</td>\n      <td>Gobierno humano y eficaz</td>\n      <td>3031</td>\n      <td>Instituto de Seguridad Social del Estado de Gu...</td>\n      <td>3031</td>\n      <td>Instituto de Seguridad Social del Estado de Gu...</td>\n      <td>R</td>\n      <td>Funciones de Gobierno Específicos</td>\n      <td>R009</td>\n      <td>Garantizar el otorgamiento y pago de seguros y...</td>\n      <td>P3122</td>\n      <td>Impulso al rendimiento asociado al otorgamient...</td>\n      <td>Promoción de otorgamiento de préstamos para la...</td>\n      <td>0.0</td>\n    </tr>\n    <tr>\n      <th>1305</th>\n      <td>2021</td>\n      <td>2021-01-01</td>\n      <td>6</td>\n      <td>Gobierno humano y eficaz</td>\n      <td>3031</td>\n      <td>Instituto de Seguridad Social del Estado de Gu...</td>\n      <td>3031</td>\n      <td>Instituto de Seguridad Social del Estado de Gu...</td>\n      <td>R</td>\n      <td>Funciones de Gobierno Específicos</td>\n      <td>R009</td>\n      <td>Garantizar el otorgamiento y pago de seguros y...</td>\n      <td>P3123</td>\n      <td>Optimización de la cadena de farmacias ISSEG</td>\n      <td>Implementación de estategias comerciales efici...</td>\n      <td>0.0</td>\n    </tr>\n  </tbody>\n</table>\n</div>"
     },
     "metadata": {}
    }
   ]
  },
  {
   "cell_type": "code",
   "metadata": {
    "tags": [],
    "cell_id": "00007-74789bee-7d2d-4657-8355-53c8ce42a74d",
    "deepnote_to_be_reexecuted": false,
    "source_hash": "8d010814",
    "execution_start": 1632417257295,
    "execution_millis": 5,
    "deepnote_cell_type": "code"
   },
   "source": "# Las dependencias que soportan el ODS\ndf_pp_10.groupby([\"id_siglas\", \"id_programa_presupuestario\"]).size()",
   "execution_count": 12,
   "outputs": [
    {
     "output_type": "execute_result",
     "execution_count": 12,
     "data": {
      "text/plain": "id_siglas  id_programa_presupuestario\nDIF        E009                          1\n           E010                          2\nIEEG       E022                          1\nINGUDIS    E007                          2\nISSEG      R009                          3\nSDSH       E010                          2\nSMEI       S008                          2\ndtype: int64"
     },
     "metadata": {}
    }
   ]
  },
  {
   "cell_type": "code",
   "metadata": {
    "tags": [],
    "cell_id": "00014-9e62ccdd-15f7-4e0f-9c9d-6d307a2f60f1",
    "deepnote_to_be_reexecuted": false,
    "source_hash": "5236007c",
    "execution_start": 1632417257296,
    "execution_millis": 4,
    "deepnote_cell_type": "code"
   },
   "source": "# Las dependencias de los presupuestos aprobados que soportan el ODS\n# (esto es para verificar la consistencia entre el resultado de esta base de\n# datos y la anterior: dd_pp_10)\ndf[df[\"id_programa_presupuestario\"].isin(pps_10)].groupby([\"descripcion_division\", \"descripcion_centro gestor\", \"id_programa_presupuestario\"]).size()",
   "execution_count": 13,
   "outputs": [
    {
     "output_type": "execute_result",
     "execution_count": 13,
     "data": {
      "text/plain": "descripcion_division                                        descripcion_centro gestor                                   id_programa_presupuestario\nInstituto Guanajuatense para las Personas con Discapacidad  Instituto Guanajuatense para las Personas con Discapacidad  E007                          4\nInstituto de Seguridad Social del Estado de Guanajuato      Instituto de Seguridad Social del Estado de Guanajuato      R009                          7\nSecretaría de Desarrollo Social y Humano                    Dirección General de Articulación Regional                  E010                          2\n                                                            Dirección General de Centros Impulso Social                 E010                          1\n                                                            Dirección General de desarrollo Humano y Comunitario        E010                          6\nSecretaría del Migrante y Enlace Internacional              Despacho del C. Secretario                                  S008                          1\n                                                            Subsecretaría de Asistencia Integral al Migrante            S008                          3\n                                                            Subsecretaría de Hospitalidad e Interculturalidad           S008                          1\nSistema Estatal Para el desarrollo Integral de la Familia   Sistema Estatal Para el desarrollo Integral de la Familia   E009                          2\n                                                                                                                        E010                          1\ndtype: int64"
     },
     "metadata": {}
    }
   ]
  },
  {
   "cell_type": "code",
   "source": "# Un df que se modificará para tener una linda gráfica\ndf_dummy = df[df[\"id_programa_presupuestario\"].isin(pps_10)]\n\n# Se cambian los nombres de las dependencias por sus siglas\ndiccionario = {\"Instituto Guanajuatense para las Personas con Discapacidad\": \"INGUDIS\",\n               \"Instituto de Seguridad Social del Estado de Guanajuato\": \"ISSEG\",\n               \"Secretaría de Desarrollo Social y Humano\": \"SDSH\",\n               \"Secretaría del Migrante y Enlace Internacional\": \"SMEI\",\n               \"Sistema Estatal Para el desarrollo Integral de la Familia\": \"DIF\"}\ndf_dummy[\"Siglas de la dependencia\"] = df_dummy[\"descripcion_division\"].map(diccionario)\n\n# Se añade un directorio base y se coloca el presupuesto en términos de mdp\ndf_dummy[\"ODS 10\"] = \"Dependencias y Pp's alineadas al ODS 10\"\ndf_dummy[\"Presupuesto aprobado (mdp)\"] = round(df_dummy[\"aprobado\"].copy()/1_000_000, 2)\n\nfig = px.treemap(df_dummy,\n                 path=[\"ODS 10\", \"Siglas de la dependencia\", \"id_programa_presupuestario\"],\n                 values=\"Presupuesto aprobado (mdp)\")\n\nplotly.offline.plot(fig, filename='/work/treemap.html')\n\nfig.show()",
   "metadata": {
    "tags": [],
    "cell_id": "00016-c5f2a0bc-6113-4f4f-928e-b543eeabadd1",
    "deepnote_to_be_reexecuted": false,
    "source_hash": "8f3f7d6f",
    "execution_start": 1632418915369,
    "execution_millis": 128,
    "deepnote_cell_type": "code"
   },
   "outputs": [
    {
     "name": "stderr",
     "text": "/shared-libs/python3.7/py-core/lib/python3.7/site-packages/ipykernel_launcher.py:10: SettingWithCopyWarning:\n\n\nA value is trying to be set on a copy of a slice from a DataFrame.\nTry using .loc[row_indexer,col_indexer] = value instead\n\nSee the caveats in the documentation: https://pandas.pydata.org/pandas-docs/stable/user_guide/indexing.html#returning-a-view-versus-a-copy\n\n/shared-libs/python3.7/py-core/lib/python3.7/site-packages/ipykernel_launcher.py:13: SettingWithCopyWarning:\n\n\nA value is trying to be set on a copy of a slice from a DataFrame.\nTry using .loc[row_indexer,col_indexer] = value instead\n\nSee the caveats in the documentation: https://pandas.pydata.org/pandas-docs/stable/user_guide/indexing.html#returning-a-view-versus-a-copy\n\n/shared-libs/python3.7/py-core/lib/python3.7/site-packages/ipykernel_launcher.py:14: SettingWithCopyWarning:\n\n\nA value is trying to be set on a copy of a slice from a DataFrame.\nTry using .loc[row_indexer,col_indexer] = value instead\n\nSee the caveats in the documentation: https://pandas.pydata.org/pandas-docs/stable/user_guide/indexing.html#returning-a-view-versus-a-copy\n\n",
     "output_type": "stream"
    },
    {
     "data": {
      "text/html": "<html>\n<head><meta charset=\"utf-8\" /></head>\n<body>\n    <div>            <script src=\"https://cdnjs.cloudflare.com/ajax/libs/mathjax/2.7.5/MathJax.js?config=TeX-AMS-MML_SVG\"></script><script type=\"text/javascript\">if (window.MathJax) {MathJax.Hub.Config({SVG: {font: \"STIX-Web\"}});}</script>                <script type=\"text/javascript\">window.PlotlyConfig = {MathJaxConfig: 'local'};</script>\n        <script src=\"https://cdn.plot.ly/plotly-2.4.2.min.js\"></script>                <div id=\"8b69f0e3-6251-4b5e-b805-e43a817e3110\" class=\"plotly-graph-div\" style=\"height:525px; width:100%;\"></div>            <script type=\"text/javascript\">                                    window.PLOTLYENV=window.PLOTLYENV || {};                                    if (document.getElementById(\"8b69f0e3-6251-4b5e-b805-e43a817e3110\")) {                    Plotly.newPlot(                        \"8b69f0e3-6251-4b5e-b805-e43a817e3110\",                        [{\"branchvalues\":\"total\",\"domain\":{\"x\":[0.0,1.0],\"y\":[0.0,1.0]},\"hovertemplate\":\"labels=%{label}<br>Presupuesto aprobado (mdp)=%{value}<br>parent=%{parent}<br>id=%{id}<extra></extra>\",\"ids\":[\"Dependencias y Pp's alineadas al ODS 10/INGUDIS/E007\",\"Dependencias y Pp's alineadas al ODS 10/DIF/E009\",\"Dependencias y Pp's alineadas al ODS 10/DIF/E010\",\"Dependencias y Pp's alineadas al ODS 10/SDSH/E010\",\"Dependencias y Pp's alineadas al ODS 10/ISSEG/R009\",\"Dependencias y Pp's alineadas al ODS 10/SMEI/S008\",\"Dependencias y Pp's alineadas al ODS 10/DIF\",\"Dependencias y Pp's alineadas al ODS 10/INGUDIS\",\"Dependencias y Pp's alineadas al ODS 10/ISSEG\",\"Dependencias y Pp's alineadas al ODS 10/SDSH\",\"Dependencias y Pp's alineadas al ODS 10/SMEI\",\"Dependencias y Pp's alineadas al ODS 10\"],\"labels\":[\"E007\",\"E009\",\"E010\",\"E010\",\"R009\",\"S008\",\"DIF\",\"INGUDIS\",\"ISSEG\",\"SDSH\",\"SMEI\",\"Dependencias y Pp's alineadas al ODS 10\"],\"name\":\"\",\"parents\":[\"Dependencias y Pp's alineadas al ODS 10/INGUDIS\",\"Dependencias y Pp's alineadas al ODS 10/DIF\",\"Dependencias y Pp's alineadas al ODS 10/DIF\",\"Dependencias y Pp's alineadas al ODS 10/SDSH\",\"Dependencias y Pp's alineadas al ODS 10/ISSEG\",\"Dependencias y Pp's alineadas al ODS 10/SMEI\",\"Dependencias y Pp's alineadas al ODS 10\",\"Dependencias y Pp's alineadas al ODS 10\",\"Dependencias y Pp's alineadas al ODS 10\",\"Dependencias y Pp's alineadas al ODS 10\",\"Dependencias y Pp's alineadas al ODS 10\",\"\"],\"type\":\"treemap\",\"values\":[33.36,89.09,6.38,163.18,0.0,14.82,95.47,33.36,0.0,163.18,14.82,306.83]}],                        {\"legend\":{\"tracegroupgap\":0},\"margin\":{\"t\":60},\"template\":{\"data\":{\"bar\":[{\"error_x\":{\"color\":\"#2a3f5f\"},\"error_y\":{\"color\":\"#2a3f5f\"},\"marker\":{\"line\":{\"color\":\"#E5ECF6\",\"width\":0.5},\"pattern\":{\"fillmode\":\"overlay\",\"size\":10,\"solidity\":0.2}},\"type\":\"bar\"}],\"barpolar\":[{\"marker\":{\"line\":{\"color\":\"#E5ECF6\",\"width\":0.5},\"pattern\":{\"fillmode\":\"overlay\",\"size\":10,\"solidity\":0.2}},\"type\":\"barpolar\"}],\"carpet\":[{\"aaxis\":{\"endlinecolor\":\"#2a3f5f\",\"gridcolor\":\"white\",\"linecolor\":\"white\",\"minorgridcolor\":\"white\",\"startlinecolor\":\"#2a3f5f\"},\"baxis\":{\"endlinecolor\":\"#2a3f5f\",\"gridcolor\":\"white\",\"linecolor\":\"white\",\"minorgridcolor\":\"white\",\"startlinecolor\":\"#2a3f5f\"},\"type\":\"carpet\"}],\"choropleth\":[{\"colorbar\":{\"outlinewidth\":0,\"ticks\":\"\"},\"type\":\"choropleth\"}],\"contour\":[{\"colorbar\":{\"outlinewidth\":0,\"ticks\":\"\"},\"colorscale\":[[0.0,\"#0d0887\"],[0.1111111111111111,\"#46039f\"],[0.2222222222222222,\"#7201a8\"],[0.3333333333333333,\"#9c179e\"],[0.4444444444444444,\"#bd3786\"],[0.5555555555555556,\"#d8576b\"],[0.6666666666666666,\"#ed7953\"],[0.7777777777777778,\"#fb9f3a\"],[0.8888888888888888,\"#fdca26\"],[1.0,\"#f0f921\"]],\"type\":\"contour\"}],\"contourcarpet\":[{\"colorbar\":{\"outlinewidth\":0,\"ticks\":\"\"},\"type\":\"contourcarpet\"}],\"heatmap\":[{\"colorbar\":{\"outlinewidth\":0,\"ticks\":\"\"},\"colorscale\":[[0.0,\"#0d0887\"],[0.1111111111111111,\"#46039f\"],[0.2222222222222222,\"#7201a8\"],[0.3333333333333333,\"#9c179e\"],[0.4444444444444444,\"#bd3786\"],[0.5555555555555556,\"#d8576b\"],[0.6666666666666666,\"#ed7953\"],[0.7777777777777778,\"#fb9f3a\"],[0.8888888888888888,\"#fdca26\"],[1.0,\"#f0f921\"]],\"type\":\"heatmap\"}],\"heatmapgl\":[{\"colorbar\":{\"outlinewidth\":0,\"ticks\":\"\"},\"colorscale\":[[0.0,\"#0d0887\"],[0.1111111111111111,\"#46039f\"],[0.2222222222222222,\"#7201a8\"],[0.3333333333333333,\"#9c179e\"],[0.4444444444444444,\"#bd3786\"],[0.5555555555555556,\"#d8576b\"],[0.6666666666666666,\"#ed7953\"],[0.7777777777777778,\"#fb9f3a\"],[0.8888888888888888,\"#fdca26\"],[1.0,\"#f0f921\"]],\"type\":\"heatmapgl\"}],\"histogram\":[{\"marker\":{\"pattern\":{\"fillmode\":\"overlay\",\"size\":10,\"solidity\":0.2}},\"type\":\"histogram\"}],\"histogram2d\":[{\"colorbar\":{\"outlinewidth\":0,\"ticks\":\"\"},\"colorscale\":[[0.0,\"#0d0887\"],[0.1111111111111111,\"#46039f\"],[0.2222222222222222,\"#7201a8\"],[0.3333333333333333,\"#9c179e\"],[0.4444444444444444,\"#bd3786\"],[0.5555555555555556,\"#d8576b\"],[0.6666666666666666,\"#ed7953\"],[0.7777777777777778,\"#fb9f3a\"],[0.8888888888888888,\"#fdca26\"],[1.0,\"#f0f921\"]],\"type\":\"histogram2d\"}],\"histogram2dcontour\":[{\"colorbar\":{\"outlinewidth\":0,\"ticks\":\"\"},\"colorscale\":[[0.0,\"#0d0887\"],[0.1111111111111111,\"#46039f\"],[0.2222222222222222,\"#7201a8\"],[0.3333333333333333,\"#9c179e\"],[0.4444444444444444,\"#bd3786\"],[0.5555555555555556,\"#d8576b\"],[0.6666666666666666,\"#ed7953\"],[0.7777777777777778,\"#fb9f3a\"],[0.8888888888888888,\"#fdca26\"],[1.0,\"#f0f921\"]],\"type\":\"histogram2dcontour\"}],\"mesh3d\":[{\"colorbar\":{\"outlinewidth\":0,\"ticks\":\"\"},\"type\":\"mesh3d\"}],\"parcoords\":[{\"line\":{\"colorbar\":{\"outlinewidth\":0,\"ticks\":\"\"}},\"type\":\"parcoords\"}],\"pie\":[{\"automargin\":true,\"type\":\"pie\"}],\"scatter\":[{\"marker\":{\"colorbar\":{\"outlinewidth\":0,\"ticks\":\"\"}},\"type\":\"scatter\"}],\"scatter3d\":[{\"line\":{\"colorbar\":{\"outlinewidth\":0,\"ticks\":\"\"}},\"marker\":{\"colorbar\":{\"outlinewidth\":0,\"ticks\":\"\"}},\"type\":\"scatter3d\"}],\"scattercarpet\":[{\"marker\":{\"colorbar\":{\"outlinewidth\":0,\"ticks\":\"\"}},\"type\":\"scattercarpet\"}],\"scattergeo\":[{\"marker\":{\"colorbar\":{\"outlinewidth\":0,\"ticks\":\"\"}},\"type\":\"scattergeo\"}],\"scattergl\":[{\"marker\":{\"colorbar\":{\"outlinewidth\":0,\"ticks\":\"\"}},\"type\":\"scattergl\"}],\"scattermapbox\":[{\"marker\":{\"colorbar\":{\"outlinewidth\":0,\"ticks\":\"\"}},\"type\":\"scattermapbox\"}],\"scatterpolar\":[{\"marker\":{\"colorbar\":{\"outlinewidth\":0,\"ticks\":\"\"}},\"type\":\"scatterpolar\"}],\"scatterpolargl\":[{\"marker\":{\"colorbar\":{\"outlinewidth\":0,\"ticks\":\"\"}},\"type\":\"scatterpolargl\"}],\"scatterternary\":[{\"marker\":{\"colorbar\":{\"outlinewidth\":0,\"ticks\":\"\"}},\"type\":\"scatterternary\"}],\"surface\":[{\"colorbar\":{\"outlinewidth\":0,\"ticks\":\"\"},\"colorscale\":[[0.0,\"#0d0887\"],[0.1111111111111111,\"#46039f\"],[0.2222222222222222,\"#7201a8\"],[0.3333333333333333,\"#9c179e\"],[0.4444444444444444,\"#bd3786\"],[0.5555555555555556,\"#d8576b\"],[0.6666666666666666,\"#ed7953\"],[0.7777777777777778,\"#fb9f3a\"],[0.8888888888888888,\"#fdca26\"],[1.0,\"#f0f921\"]],\"type\":\"surface\"}],\"table\":[{\"cells\":{\"fill\":{\"color\":\"#EBF0F8\"},\"line\":{\"color\":\"white\"}},\"header\":{\"fill\":{\"color\":\"#C8D4E3\"},\"line\":{\"color\":\"white\"}},\"type\":\"table\"}]},\"layout\":{\"annotationdefaults\":{\"arrowcolor\":\"#2a3f5f\",\"arrowhead\":0,\"arrowwidth\":1},\"autotypenumbers\":\"strict\",\"coloraxis\":{\"colorbar\":{\"outlinewidth\":0,\"ticks\":\"\"}},\"colorscale\":{\"diverging\":[[0,\"#8e0152\"],[0.1,\"#c51b7d\"],[0.2,\"#de77ae\"],[0.3,\"#f1b6da\"],[0.4,\"#fde0ef\"],[0.5,\"#f7f7f7\"],[0.6,\"#e6f5d0\"],[0.7,\"#b8e186\"],[0.8,\"#7fbc41\"],[0.9,\"#4d9221\"],[1,\"#276419\"]],\"sequential\":[[0.0,\"#0d0887\"],[0.1111111111111111,\"#46039f\"],[0.2222222222222222,\"#7201a8\"],[0.3333333333333333,\"#9c179e\"],[0.4444444444444444,\"#bd3786\"],[0.5555555555555556,\"#d8576b\"],[0.6666666666666666,\"#ed7953\"],[0.7777777777777778,\"#fb9f3a\"],[0.8888888888888888,\"#fdca26\"],[1.0,\"#f0f921\"]],\"sequentialminus\":[[0.0,\"#0d0887\"],[0.1111111111111111,\"#46039f\"],[0.2222222222222222,\"#7201a8\"],[0.3333333333333333,\"#9c179e\"],[0.4444444444444444,\"#bd3786\"],[0.5555555555555556,\"#d8576b\"],[0.6666666666666666,\"#ed7953\"],[0.7777777777777778,\"#fb9f3a\"],[0.8888888888888888,\"#fdca26\"],[1.0,\"#f0f921\"]]},\"colorway\":[\"#636efa\",\"#EF553B\",\"#00cc96\",\"#ab63fa\",\"#FFA15A\",\"#19d3f3\",\"#FF6692\",\"#B6E880\",\"#FF97FF\",\"#FECB52\"],\"font\":{\"color\":\"#2a3f5f\"},\"geo\":{\"bgcolor\":\"white\",\"lakecolor\":\"white\",\"landcolor\":\"#E5ECF6\",\"showlakes\":true,\"showland\":true,\"subunitcolor\":\"white\"},\"hoverlabel\":{\"align\":\"left\"},\"hovermode\":\"closest\",\"mapbox\":{\"style\":\"light\"},\"paper_bgcolor\":\"white\",\"plot_bgcolor\":\"#E5ECF6\",\"polar\":{\"angularaxis\":{\"gridcolor\":\"white\",\"linecolor\":\"white\",\"ticks\":\"\"},\"bgcolor\":\"#E5ECF6\",\"radialaxis\":{\"gridcolor\":\"white\",\"linecolor\":\"white\",\"ticks\":\"\"}},\"scene\":{\"xaxis\":{\"backgroundcolor\":\"#E5ECF6\",\"gridcolor\":\"white\",\"gridwidth\":2,\"linecolor\":\"white\",\"showbackground\":true,\"ticks\":\"\",\"zerolinecolor\":\"white\"},\"yaxis\":{\"backgroundcolor\":\"#E5ECF6\",\"gridcolor\":\"white\",\"gridwidth\":2,\"linecolor\":\"white\",\"showbackground\":true,\"ticks\":\"\",\"zerolinecolor\":\"white\"},\"zaxis\":{\"backgroundcolor\":\"#E5ECF6\",\"gridcolor\":\"white\",\"gridwidth\":2,\"linecolor\":\"white\",\"showbackground\":true,\"ticks\":\"\",\"zerolinecolor\":\"white\"}},\"shapedefaults\":{\"line\":{\"color\":\"#2a3f5f\"}},\"ternary\":{\"aaxis\":{\"gridcolor\":\"white\",\"linecolor\":\"white\",\"ticks\":\"\"},\"baxis\":{\"gridcolor\":\"white\",\"linecolor\":\"white\",\"ticks\":\"\"},\"bgcolor\":\"#E5ECF6\",\"caxis\":{\"gridcolor\":\"white\",\"linecolor\":\"white\",\"ticks\":\"\"}},\"title\":{\"x\":0.05},\"xaxis\":{\"automargin\":true,\"gridcolor\":\"white\",\"linecolor\":\"white\",\"ticks\":\"\",\"title\":{\"standoff\":15},\"zerolinecolor\":\"white\",\"zerolinewidth\":2},\"yaxis\":{\"automargin\":true,\"gridcolor\":\"white\",\"linecolor\":\"white\",\"ticks\":\"\",\"title\":{\"standoff\":15},\"zerolinecolor\":\"white\",\"zerolinewidth\":2}}}},                        {\"responsive\": true}                    ).then(function(){\n                            \nvar gd = document.getElementById('8b69f0e3-6251-4b5e-b805-e43a817e3110');\nvar x = new MutationObserver(function (mutations, observer) {{\n        var display = window.getComputedStyle(gd).display;\n        if (!display || display === 'none') {{\n            console.log([gd, 'removed!']);\n            Plotly.purge(gd);\n            observer.disconnect();\n        }}\n}});\n\n// Listen for the removal of the full notebook cells\nvar notebookContainer = gd.closest('#notebook-container');\nif (notebookContainer) {{\n    x.observe(notebookContainer, {childList: true});\n}}\n\n// Listen for the clearing of the current output cell\nvar outputEl = gd.closest('.output');\nif (outputEl) {{\n    x.observe(outputEl, {childList: true});\n}}\n\n                        })                };                            </script>        </div>\n</body>\n</html>"
     },
     "metadata": {},
     "output_type": "display_data"
    }
   ],
   "execution_count": 31
  },
  {
   "cell_type": "markdown",
   "source": "## 2. Alineación de los PED con los ODS",
   "metadata": {
    "tags": [],
    "cell_id": "00004-309aee46-3d0c-490f-a530-2d679fc75765",
    "deepnote_cell_type": "markdown"
   }
  },
  {
   "cell_type": "code",
   "metadata": {
    "tags": [],
    "cell_id": "00005-6b8cf7ba-515e-4a72-a325-4e659e446207",
    "deepnote_to_be_reexecuted": false,
    "source_hash": "bc5a0069",
    "execution_start": 1632417257297,
    "execution_millis": 269,
    "deepnote_cell_type": "code"
   },
   "source": "# Se define el url donde se encuentra el archivo (en el repositorio de Github)\nurl_ped = \"https://github.com/GOLF-fisica/Dataket/raw/main/Semana2/alineacion_ped_ods.csv\"\n\n# Se lee el archivo\ndf_ped = pd.read_csv(url_ped, encoding=\"latin\")",
   "execution_count": 14,
   "outputs": []
  },
  {
   "cell_type": "code",
   "metadata": {
    "tags": [],
    "cell_id": "00008-8096485b-9401-4d20-a5a5-7f6b242aaa34",
    "deepnote_to_be_reexecuted": false,
    "source_hash": "82ccf505",
    "execution_start": 1632417257572,
    "execution_millis": 1,
    "deepnote_cell_type": "code"
   },
   "source": "# Se filtran los registros que pertenecen al ODS 10: Reducción de la desigualdad\n# además, se omiten las columnas que se hacen redundantes (pues refieren al ODS)\ndf_ped_10 = df_ped[ df_ped[\"id_ods\"]==\"ODS.10\" ].drop([\"id_ods\", \"descripcion_ods\"], axis=1)",
   "execution_count": 15,
   "outputs": []
  },
  {
   "cell_type": "code",
   "metadata": {
    "tags": [],
    "cell_id": "00018-5603fa81-cc83-4836-85ad-04ca228cf414",
    "deepnote_to_be_reexecuted": false,
    "source_hash": "2852dfff",
    "execution_start": 1632417257617,
    "execution_millis": 12,
    "deepnote_cell_type": "code"
   },
   "source": "df_ped_10",
   "execution_count": 16,
   "outputs": [
    {
     "output_type": "execute_result",
     "execution_count": 16,
     "data": {
      "application/vnd.deepnote.dataframe.v2+json": {
       "row_count": 34,
       "column_count": 10,
       "columns": [
        {
         "name": "id_dimension_ped",
         "dtype": "object",
         "stats": {
          "unique_count": 1,
          "nan_count": 0,
          "categories": [
           {
            "name": "PED.D01",
            "count": 34
           }
          ]
         }
        },
        {
         "name": "descripcion_dimension_ped",
         "dtype": "object",
         "stats": {
          "unique_count": 1,
          "nan_count": 0,
          "categories": [
           {
            "name": "Humana y Social",
            "count": 34
           }
          ]
         }
        },
        {
         "name": "id_linea_estrategica_ped",
         "dtype": "object",
         "stats": {
          "unique_count": 2,
          "nan_count": 0,
          "categories": [
           {
            "name": "PED.01.01",
            "count": 28
           },
           {
            "name": "PED.01.03",
            "count": 6
           }
          ]
         }
        },
        {
         "name": "descripcion_linea_estrategica_ped",
         "dtype": "object",
         "stats": {
          "unique_count": 2,
          "nan_count": 0,
          "categories": [
           {
            "name": "Bienestar Social",
            "count": 28
           },
           {
            "name": "Grupos de Atención Prioritaria",
            "count": 6
           }
          ]
         }
        },
        {
         "name": "id_objetivo_ped",
         "dtype": "object",
         "stats": {
          "unique_count": 3,
          "nan_count": 0,
          "categories": [
           {
            "name": "PED.01.01.01",
            "count": 24
           },
           {
            "name": "PED.01.03.01",
            "count": 6
           },
           {
            "name": "PED.01.01.02",
            "count": 4
           }
          ]
         }
        },
        {
         "name": "descripcion_objetivo_ped",
         "dtype": "object",
         "stats": {
          "unique_count": 3,
          "nan_count": 0,
          "categories": [
           {
            "name": "Abatir la pobreza en todas sus vertientes y desde sus causas.",
            "count": 24
           },
           {
            "name": "Asegurar las condiciones para el desarrollo pleno e igualitario de los grupos prioritarios del estado.",
            "count": 6
           },
           {
            "name": "Otorgar servicios de salud oportunos, con altos estándares de calidad y seguridad para las y los pacientes.",
            "count": 4
           }
          ]
         }
        },
        {
         "name": "id_estrategia_ped",
         "dtype": "object",
         "stats": {
          "unique_count": 16,
          "nan_count": 0,
          "categories": [
           {
            "name": "PED.01.01.01.01",
            "count": 4
           },
           {
            "name": "PED.01.01.01.02",
            "count": 4
           },
           {
            "name": "14 others",
            "count": 26
           }
          ]
         }
        },
        {
         "name": "descripcion_estrategia_ped",
         "dtype": "object",
         "stats": {
          "unique_count": 16,
          "nan_count": 0,
          "categories": [
           {
            "name": "Incremento de las opciones de empleo y el ingreso digno, en condiciones de igualdad.",
            "count": 4
           },
           {
            "name": "Mejora de la alimentación y nutrición de la población guanajuatense, particular­ mente de las personas en condición de vulnerabilidad.",
            "count": 4
           },
           {
            "name": "14 others",
            "count": 26
           }
          ]
         }
        },
        {
         "name": "id_metas_ods",
         "dtype": "object",
         "stats": {
          "unique_count": 4,
          "nan_count": 0,
          "categories": [
           {
            "name": "MM.10.02",
            "count": 16
           },
           {
            "name": "MM.10.03",
            "count": 6
           },
           {
            "name": "2 others",
            "count": 12
           }
          ]
         }
        },
        {
         "name": "descripción_metas_ods",
         "dtype": "object",
         "stats": {
          "unique_count": 4,
          "nan_count": 0,
          "categories": [
           {
            "name": "10.2 Potenciar y promover la inclusión social, económica y política de todos, independientemente de su edad, sexo, discapacidad, raza, etnia, origen, religión o situación económica u otra condición.",
            "count": 16
           },
           {
            "name": "10.3 Garantizar la igualdad de oportunidades y reducir la desigualdad de resultados, incluso eliminando las leyes, políticas y prácticas discriminatorias y promoviendo legislaciones, políticas y medidas adecuadas a ese respecto.",
            "count": 6
           },
           {
            "name": "2 others",
            "count": 12
           }
          ]
         }
        },
        {
         "name": "_deepnote_index_column",
         "dtype": "int64"
        }
       ],
       "rows_top": [
        {
         "id_dimension_ped": "PED.D01",
         "descripcion_dimension_ped": "Humana y Social",
         "id_linea_estrategica_ped": "PED.01.01",
         "descripcion_linea_estrategica_ped": "Bienestar Social",
         "id_objetivo_ped": "PED.01.01.01",
         "descripcion_objetivo_ped": "Abatir la pobreza en todas sus vertientes y desde sus causas.",
         "id_estrategia_ped": "PED.01.01.01.01",
         "descripcion_estrategia_ped": "Incremento de las opciones de empleo y el ingreso digno, en condiciones de igualdad.",
         "id_metas_ods": "MM.10.02",
         "descripción_metas_ods": "10.2 Potenciar y promover la inclusión social, económica y política de todos, independientemente de…",
         "_deepnote_index_column": 57
        },
        {
         "id_dimension_ped": "PED.D01",
         "descripcion_dimension_ped": "Humana y Social",
         "id_linea_estrategica_ped": "PED.01.01",
         "descripcion_linea_estrategica_ped": "Bienestar Social",
         "id_objetivo_ped": "PED.01.01.01",
         "descripcion_objetivo_ped": "Abatir la pobreza en todas sus vertientes y desde sus causas.",
         "id_estrategia_ped": "PED.01.01.01.02",
         "descripcion_estrategia_ped": "Mejora de la alimentación y nutrición de la población guanajuatense, particular­ mente de las perso…",
         "id_metas_ods": "MM.10.02",
         "descripción_metas_ods": "10.2 Potenciar y promover la inclusión social, económica y política de todos, independientemente de…",
         "_deepnote_index_column": 58
        },
        {
         "id_dimension_ped": "PED.D01",
         "descripcion_dimension_ped": "Humana y Social",
         "id_linea_estrategica_ped": "PED.01.01",
         "descripcion_linea_estrategica_ped": "Bienestar Social",
         "id_objetivo_ped": "PED.01.01.01",
         "descripcion_objetivo_ped": "Abatir la pobreza en todas sus vertientes y desde sus causas.",
         "id_estrategia_ped": "PED.01.01.01.03",
         "descripcion_estrategia_ped": "Cobertura universal de los servicios básicos.",
         "id_metas_ods": "MM.10.02",
         "descripción_metas_ods": "10.2 Potenciar y promover la inclusión social, económica y política de todos, independientemente de…",
         "_deepnote_index_column": 59
        },
        {
         "id_dimension_ped": "PED.D01",
         "descripcion_dimension_ped": "Humana y Social",
         "id_linea_estrategica_ped": "PED.01.01",
         "descripcion_linea_estrategica_ped": "Bienestar Social",
         "id_objetivo_ped": "PED.01.01.01",
         "descripcion_objetivo_ped": "Abatir la pobreza en todas sus vertientes y desde sus causas.",
         "id_estrategia_ped": "PED.01.01.01.04",
         "descripcion_estrategia_ped": "Impulso a la familia como la institución que promueve valores y principios para generar personas re…",
         "id_metas_ods": "MM.10.02",
         "descripción_metas_ods": "10.2 Potenciar y promover la inclusión social, económica y política de todos, independientemente de…",
         "_deepnote_index_column": 60
        },
        {
         "id_dimension_ped": "PED.D01",
         "descripcion_dimension_ped": "Humana y Social",
         "id_linea_estrategica_ped": "PED.01.01",
         "descripcion_linea_estrategica_ped": "Bienestar Social",
         "id_objetivo_ped": "PED.01.01.01",
         "descripcion_objetivo_ped": "Abatir la pobreza en todas sus vertientes y desde sus causas.",
         "id_estrategia_ped": "PED.01.01.01.05",
         "descripcion_estrategia_ped": "Incremento de los niveles de cohesión social de las comunidades.",
         "id_metas_ods": "MM.10.02",
         "descripción_metas_ods": "10.2 Potenciar y promover la inclusión social, económica y política de todos, independientemente de…",
         "_deepnote_index_column": 61
        },
        {
         "id_dimension_ped": "PED.D01",
         "descripcion_dimension_ped": "Humana y Social",
         "id_linea_estrategica_ped": "PED.01.01",
         "descripcion_linea_estrategica_ped": "Bienestar Social",
         "id_objetivo_ped": "PED.01.01.01",
         "descripcion_objetivo_ped": "Abatir la pobreza en todas sus vertientes y desde sus causas.",
         "id_estrategia_ped": "PED.01.01.01.06",
         "descripcion_estrategia_ped": "Promoción de la innovación social con la participación de las y los ciudadanos.",
         "id_metas_ods": "MM.10.02",
         "descripción_metas_ods": "10.2 Potenciar y promover la inclusión social, económica y política de todos, independientemente de…",
         "_deepnote_index_column": 62
        },
        {
         "id_dimension_ped": "PED.D01",
         "descripcion_dimension_ped": "Humana y Social",
         "id_linea_estrategica_ped": "PED.01.01",
         "descripcion_linea_estrategica_ped": "Bienestar Social",
         "id_objetivo_ped": "PED.01.01.02",
         "descripcion_objetivo_ped": "Otorgar servicios de salud oportunos, con altos estándares de calidad y seguridad para las y los pa…",
         "id_estrategia_ped": "PED.01.01.02.01",
         "descripcion_estrategia_ped": "Consolidación de un sistema de salud universal con un enfoque participativo, preventivo, oportuno y…",
         "id_metas_ods": "MM.10.02",
         "descripción_metas_ods": "10.2 Potenciar y promover la inclusión social, económica y política de todos, independientemente de…",
         "_deepnote_index_column": 63
        },
        {
         "id_dimension_ped": "PED.D01",
         "descripcion_dimension_ped": "Humana y Social",
         "id_linea_estrategica_ped": "PED.01.01",
         "descripcion_linea_estrategica_ped": "Bienestar Social",
         "id_objetivo_ped": "PED.01.01.02",
         "descripcion_objetivo_ped": "Otorgar servicios de salud oportunos, con altos estándares de calidad y seguridad para las y los pa…",
         "id_estrategia_ped": "PED.01.01.02.02",
         "descripcion_estrategia_ped": "Profesionalización de las y los trabajadores de la salud, para la prestación de servicios accesible…",
         "id_metas_ods": "MM.10.02",
         "descripción_metas_ods": "10.2 Potenciar y promover la inclusión social, económica y política de todos, independientemente de…",
         "_deepnote_index_column": 64
        },
        {
         "id_dimension_ped": "PED.D01",
         "descripcion_dimension_ped": "Humana y Social",
         "id_linea_estrategica_ped": "PED.01.01",
         "descripcion_linea_estrategica_ped": "Bienestar Social",
         "id_objetivo_ped": "PED.01.01.02",
         "descripcion_objetivo_ped": "Otorgar servicios de salud oportunos, con altos estándares de calidad y seguridad para las y los pa…",
         "id_estrategia_ped": "PED.01.01.02.03",
         "descripcion_estrategia_ped": "Fortalecimiento de las unidades médicas con equipo y tecnología que permita prestar servicios con l…",
         "id_metas_ods": "MM.10.02",
         "descripción_metas_ods": "10.2 Potenciar y promover la inclusión social, económica y política de todos, independientemente de…",
         "_deepnote_index_column": 65
        },
        {
         "id_dimension_ped": "PED.D01",
         "descripcion_dimension_ped": "Humana y Social",
         "id_linea_estrategica_ped": "PED.01.01",
         "descripcion_linea_estrategica_ped": "Bienestar Social",
         "id_objetivo_ped": "PED.01.01.02",
         "descripcion_objetivo_ped": "Otorgar servicios de salud oportunos, con altos estándares de calidad y seguridad para las y los pa…",
         "id_estrategia_ped": "PED.01.01.02.04",
         "descripcion_estrategia_ped": "Garantía de la cercanía de los servicios de salud a la población.",
         "id_metas_ods": "MM.10.02",
         "descripción_metas_ods": "10.2 Potenciar y promover la inclusión social, económica y política de todos, independientemente de…",
         "_deepnote_index_column": 66
        },
        {
         "id_dimension_ped": "PED.D01",
         "descripcion_dimension_ped": "Humana y Social",
         "id_linea_estrategica_ped": "PED.01.03",
         "descripcion_linea_estrategica_ped": "Grupos de Atención Prioritaria",
         "id_objetivo_ped": "PED.01.03.01",
         "descripcion_objetivo_ped": "Asegurar las condiciones para el desarrollo pleno e igualitario de los grupos prioritarios del esta…",
         "id_estrategia_ped": "PED.01.03.01.01",
         "descripcion_estrategia_ped": "Garantía de los derechos de las niñas, niños y adolescentes.",
         "id_metas_ods": "MM.10.02",
         "descripción_metas_ods": "10.2 Potenciar y promover la inclusión social, económica y política de todos, independientemente de…",
         "_deepnote_index_column": 67
        },
        {
         "id_dimension_ped": "PED.D01",
         "descripcion_dimension_ped": "Humana y Social",
         "id_linea_estrategica_ped": "PED.01.03",
         "descripcion_linea_estrategica_ped": "Grupos de Atención Prioritaria",
         "id_objetivo_ped": "PED.01.03.01",
         "descripcion_objetivo_ped": "Asegurar las condiciones para el desarrollo pleno e igualitario de los grupos prioritarios del esta…",
         "id_estrategia_ped": "PED.01.03.01.02",
         "descripcion_estrategia_ped": "Apoyo para que las personas jóvenes potencien sus habilidades y capacidades para el logro de sus pr…",
         "id_metas_ods": "MM.10.02",
         "descripción_metas_ods": "10.2 Potenciar y promover la inclusión social, económica y política de todos, independientemente de…",
         "_deepnote_index_column": 68
        },
        {
         "id_dimension_ped": "PED.D01",
         "descripcion_dimension_ped": "Humana y Social",
         "id_linea_estrategica_ped": "PED.01.03",
         "descripcion_linea_estrategica_ped": "Grupos de Atención Prioritaria",
         "id_objetivo_ped": "PED.01.03.01",
         "descripcion_objetivo_ped": "Asegurar las condiciones para el desarrollo pleno e igualitario de los grupos prioritarios del esta…",
         "id_estrategia_ped": "PED.01.03.01.03",
         "descripcion_estrategia_ped": "Incremento en las acciones de inclusión que permitan a las personas adultas mayores participar acti…",
         "id_metas_ods": "MM.10.02",
         "descripción_metas_ods": "10.2 Potenciar y promover la inclusión social, económica y política de todos, independientemente de…",
         "_deepnote_index_column": 69
        },
        {
         "id_dimension_ped": "PED.D01",
         "descripcion_dimension_ped": "Humana y Social",
         "id_linea_estrategica_ped": "PED.01.03",
         "descripcion_linea_estrategica_ped": "Grupos de Atención Prioritaria",
         "id_objetivo_ped": "PED.01.03.01",
         "descripcion_objetivo_ped": "Asegurar las condiciones para el desarrollo pleno e igualitario de los grupos prioritarios del esta…",
         "id_estrategia_ped": "PED.01.03.01.04",
         "descripcion_estrategia_ped": "Fortalecimiento de las acciones de inclusión que aseguren que las personas con discapacidad se inte…",
         "id_metas_ods": "MM.10.02",
         "descripción_metas_ods": "10.2 Potenciar y promover la inclusión social, económica y política de todos, independientemente de…",
         "_deepnote_index_column": 70
        },
        {
         "id_dimension_ped": "PED.D01",
         "descripcion_dimension_ped": "Humana y Social",
         "id_linea_estrategica_ped": "PED.01.03",
         "descripcion_linea_estrategica_ped": "Grupos de Atención Prioritaria",
         "id_objetivo_ped": "PED.01.03.01",
         "descripcion_objetivo_ped": "Asegurar las condiciones para el desarrollo pleno e igualitario de los grupos prioritarios del esta…",
         "id_estrategia_ped": "PED.01.03.01.05",
         "descripcion_estrategia_ped": "Fortalecimiento de los apoyos a los pueblos y las comunidades indígenas, para que logren consolidar…",
         "id_metas_ods": "MM.10.02",
         "descripción_metas_ods": "10.2 Potenciar y promover la inclusión social, económica y política de todos, independientemente de…",
         "_deepnote_index_column": 71
        },
        {
         "id_dimension_ped": "PED.D01",
         "descripcion_dimension_ped": "Humana y Social",
         "id_linea_estrategica_ped": "PED.01.03",
         "descripcion_linea_estrategica_ped": "Grupos de Atención Prioritaria",
         "id_objetivo_ped": "PED.01.03.01",
         "descripcion_objetivo_ped": "Asegurar las condiciones para el desarrollo pleno e igualitario de los grupos prioritarios del esta…",
         "id_estrategia_ped": "PED.01.03.01.06",
         "descripcion_estrategia_ped": "Fomento de la inclusión y la participación de las personas migrantes y sus fami­ lias en el desarro…",
         "id_metas_ods": "MM.10.02",
         "descripción_metas_ods": "10.2 Potenciar y promover la inclusión social, económica y política de todos, independientemente de…",
         "_deepnote_index_column": 72
        },
        {
         "id_dimension_ped": "PED.D01",
         "descripcion_dimension_ped": "Humana y Social",
         "id_linea_estrategica_ped": "PED.01.01",
         "descripcion_linea_estrategica_ped": "Bienestar Social",
         "id_objetivo_ped": "PED.01.01.01",
         "descripcion_objetivo_ped": "Abatir la pobreza en todas sus vertientes y desde sus causas.",
         "id_estrategia_ped": "PED.01.01.01.01",
         "descripcion_estrategia_ped": "Incremento de las opciones de empleo y el ingreso digno, en condiciones de igualdad.",
         "id_metas_ods": "MM.10.03",
         "descripción_metas_ods": "10.3 Garantizar la igualdad de oportunidades y reducir la desigualdad de resultados, incluso elimin…",
         "_deepnote_index_column": 96
        },
        {
         "id_dimension_ped": "PED.D01",
         "descripcion_dimension_ped": "Humana y Social",
         "id_linea_estrategica_ped": "PED.01.01",
         "descripcion_linea_estrategica_ped": "Bienestar Social",
         "id_objetivo_ped": "PED.01.01.01",
         "descripcion_objetivo_ped": "Abatir la pobreza en todas sus vertientes y desde sus causas.",
         "id_estrategia_ped": "PED.01.01.01.02",
         "descripcion_estrategia_ped": "Mejora de la alimentación y nutrición de la población guanajuatense, particular­ mente de las perso…",
         "id_metas_ods": "MM.10.03",
         "descripción_metas_ods": "10.3 Garantizar la igualdad de oportunidades y reducir la desigualdad de resultados, incluso elimin…",
         "_deepnote_index_column": 97
        },
        {
         "id_dimension_ped": "PED.D01",
         "descripcion_dimension_ped": "Humana y Social",
         "id_linea_estrategica_ped": "PED.01.01",
         "descripcion_linea_estrategica_ped": "Bienestar Social",
         "id_objetivo_ped": "PED.01.01.01",
         "descripcion_objetivo_ped": "Abatir la pobreza en todas sus vertientes y desde sus causas.",
         "id_estrategia_ped": "PED.01.01.01.03",
         "descripcion_estrategia_ped": "Cobertura universal de los servicios básicos.",
         "id_metas_ods": "MM.10.03",
         "descripción_metas_ods": "10.3 Garantizar la igualdad de oportunidades y reducir la desigualdad de resultados, incluso elimin…",
         "_deepnote_index_column": 98
        },
        {
         "id_dimension_ped": "PED.D01",
         "descripcion_dimension_ped": "Humana y Social",
         "id_linea_estrategica_ped": "PED.01.01",
         "descripcion_linea_estrategica_ped": "Bienestar Social",
         "id_objetivo_ped": "PED.01.01.01",
         "descripcion_objetivo_ped": "Abatir la pobreza en todas sus vertientes y desde sus causas.",
         "id_estrategia_ped": "PED.01.01.01.04",
         "descripcion_estrategia_ped": "Impulso a la familia como la institución que promueve valores y principios para generar personas re…",
         "id_metas_ods": "MM.10.03",
         "descripción_metas_ods": "10.3 Garantizar la igualdad de oportunidades y reducir la desigualdad de resultados, incluso elimin…",
         "_deepnote_index_column": 99
        },
        {
         "id_dimension_ped": "PED.D01",
         "descripcion_dimension_ped": "Humana y Social",
         "id_linea_estrategica_ped": "PED.01.01",
         "descripcion_linea_estrategica_ped": "Bienestar Social",
         "id_objetivo_ped": "PED.01.01.01",
         "descripcion_objetivo_ped": "Abatir la pobreza en todas sus vertientes y desde sus causas.",
         "id_estrategia_ped": "PED.01.01.01.05",
         "descripcion_estrategia_ped": "Incremento de los niveles de cohesión social de las comunidades.",
         "id_metas_ods": "MM.10.03",
         "descripción_metas_ods": "10.3 Garantizar la igualdad de oportunidades y reducir la desigualdad de resultados, incluso elimin…",
         "_deepnote_index_column": 100
        },
        {
         "id_dimension_ped": "PED.D01",
         "descripcion_dimension_ped": "Humana y Social",
         "id_linea_estrategica_ped": "PED.01.01",
         "descripcion_linea_estrategica_ped": "Bienestar Social",
         "id_objetivo_ped": "PED.01.01.01",
         "descripcion_objetivo_ped": "Abatir la pobreza en todas sus vertientes y desde sus causas.",
         "id_estrategia_ped": "PED.01.01.01.06",
         "descripcion_estrategia_ped": "Promoción de la innovación social con la participación de las y los ciudadanos.",
         "id_metas_ods": "MM.10.03",
         "descripción_metas_ods": "10.3 Garantizar la igualdad de oportunidades y reducir la desigualdad de resultados, incluso elimin…",
         "_deepnote_index_column": 101
        },
        {
         "id_dimension_ped": "PED.D01",
         "descripcion_dimension_ped": "Humana y Social",
         "id_linea_estrategica_ped": "PED.01.01",
         "descripcion_linea_estrategica_ped": "Bienestar Social",
         "id_objetivo_ped": "PED.01.01.01",
         "descripcion_objetivo_ped": "Abatir la pobreza en todas sus vertientes y desde sus causas.",
         "id_estrategia_ped": "PED.01.01.01.01",
         "descripcion_estrategia_ped": "Incremento de las opciones de empleo y el ingreso digno, en condiciones de igualdad.",
         "id_metas_ods": "MM.10.0B",
         "descripción_metas_ods": "10.b Alentar la asistencia oficial para el desarrollo y las corrientes financieras, incluida la inv…",
         "_deepnote_index_column": 114
        },
        {
         "id_dimension_ped": "PED.D01",
         "descripcion_dimension_ped": "Humana y Social",
         "id_linea_estrategica_ped": "PED.01.01",
         "descripcion_linea_estrategica_ped": "Bienestar Social",
         "id_objetivo_ped": "PED.01.01.01",
         "descripcion_objetivo_ped": "Abatir la pobreza en todas sus vertientes y desde sus causas.",
         "id_estrategia_ped": "PED.01.01.01.02",
         "descripcion_estrategia_ped": "Mejora de la alimentación y nutrición de la población guanajuatense, particular­ mente de las perso…",
         "id_metas_ods": "MM.10.0B",
         "descripción_metas_ods": "10.b Alentar la asistencia oficial para el desarrollo y las corrientes financieras, incluida la inv…",
         "_deepnote_index_column": 115
        },
        {
         "id_dimension_ped": "PED.D01",
         "descripcion_dimension_ped": "Humana y Social",
         "id_linea_estrategica_ped": "PED.01.01",
         "descripcion_linea_estrategica_ped": "Bienestar Social",
         "id_objetivo_ped": "PED.01.01.01",
         "descripcion_objetivo_ped": "Abatir la pobreza en todas sus vertientes y desde sus causas.",
         "id_estrategia_ped": "PED.01.01.01.03",
         "descripcion_estrategia_ped": "Cobertura universal de los servicios básicos.",
         "id_metas_ods": "MM.10.0B",
         "descripción_metas_ods": "10.b Alentar la asistencia oficial para el desarrollo y las corrientes financieras, incluida la inv…",
         "_deepnote_index_column": 116
        },
        {
         "id_dimension_ped": "PED.D01",
         "descripcion_dimension_ped": "Humana y Social",
         "id_linea_estrategica_ped": "PED.01.01",
         "descripcion_linea_estrategica_ped": "Bienestar Social",
         "id_objetivo_ped": "PED.01.01.01",
         "descripcion_objetivo_ped": "Abatir la pobreza en todas sus vertientes y desde sus causas.",
         "id_estrategia_ped": "PED.01.01.01.04",
         "descripcion_estrategia_ped": "Impulso a la familia como la institución que promueve valores y principios para generar personas re…",
         "id_metas_ods": "MM.10.0B",
         "descripción_metas_ods": "10.b Alentar la asistencia oficial para el desarrollo y las corrientes financieras, incluida la inv…",
         "_deepnote_index_column": 117
        },
        {
         "id_dimension_ped": "PED.D01",
         "descripcion_dimension_ped": "Humana y Social",
         "id_linea_estrategica_ped": "PED.01.01",
         "descripcion_linea_estrategica_ped": "Bienestar Social",
         "id_objetivo_ped": "PED.01.01.01",
         "descripcion_objetivo_ped": "Abatir la pobreza en todas sus vertientes y desde sus causas.",
         "id_estrategia_ped": "PED.01.01.01.05",
         "descripcion_estrategia_ped": "Incremento de los niveles de cohesión social de las comunidades.",
         "id_metas_ods": "MM.10.0B",
         "descripción_metas_ods": "10.b Alentar la asistencia oficial para el desarrollo y las corrientes financieras, incluida la inv…",
         "_deepnote_index_column": 118
        },
        {
         "id_dimension_ped": "PED.D01",
         "descripcion_dimension_ped": "Humana y Social",
         "id_linea_estrategica_ped": "PED.01.01",
         "descripcion_linea_estrategica_ped": "Bienestar Social",
         "id_objetivo_ped": "PED.01.01.01",
         "descripcion_objetivo_ped": "Abatir la pobreza en todas sus vertientes y desde sus causas.",
         "id_estrategia_ped": "PED.01.01.01.06",
         "descripcion_estrategia_ped": "Promoción de la innovación social con la participación de las y los ciudadanos.",
         "id_metas_ods": "MM.10.0B",
         "descripción_metas_ods": "10.b Alentar la asistencia oficial para el desarrollo y las corrientes financieras, incluida la inv…",
         "_deepnote_index_column": 119
        },
        {
         "id_dimension_ped": "PED.D01",
         "descripcion_dimension_ped": "Humana y Social",
         "id_linea_estrategica_ped": "PED.01.01",
         "descripcion_linea_estrategica_ped": "Bienestar Social",
         "id_objetivo_ped": "PED.01.01.01",
         "descripcion_objetivo_ped": "Abatir la pobreza en todas sus vertientes y desde sus causas.",
         "id_estrategia_ped": "PED.01.01.01.01",
         "descripcion_estrategia_ped": "Incremento de las opciones de empleo y el ingreso digno, en condiciones de igualdad.",
         "id_metas_ods": "MM.10.07",
         "descripción_metas_ods": "10.7 Facilitar la migración y la movilidad ordenadas, seguras, regulares y responsables de las pers…",
         "_deepnote_index_column": 736
        },
        {
         "id_dimension_ped": "PED.D01",
         "descripcion_dimension_ped": "Humana y Social",
         "id_linea_estrategica_ped": "PED.01.01",
         "descripcion_linea_estrategica_ped": "Bienestar Social",
         "id_objetivo_ped": "PED.01.01.01",
         "descripcion_objetivo_ped": "Abatir la pobreza en todas sus vertientes y desde sus causas.",
         "id_estrategia_ped": "PED.01.01.01.02",
         "descripcion_estrategia_ped": "Mejora de la alimentación y nutrición de la población guanajuatense, particular­ mente de las perso…",
         "id_metas_ods": "MM.10.07",
         "descripción_metas_ods": "10.7 Facilitar la migración y la movilidad ordenadas, seguras, regulares y responsables de las pers…",
         "_deepnote_index_column": 737
        },
        {
         "id_dimension_ped": "PED.D01",
         "descripcion_dimension_ped": "Humana y Social",
         "id_linea_estrategica_ped": "PED.01.01",
         "descripcion_linea_estrategica_ped": "Bienestar Social",
         "id_objetivo_ped": "PED.01.01.01",
         "descripcion_objetivo_ped": "Abatir la pobreza en todas sus vertientes y desde sus causas.",
         "id_estrategia_ped": "PED.01.01.01.03",
         "descripcion_estrategia_ped": "Cobertura universal de los servicios básicos.",
         "id_metas_ods": "MM.10.07",
         "descripción_metas_ods": "10.7 Facilitar la migración y la movilidad ordenadas, seguras, regulares y responsables de las pers…",
         "_deepnote_index_column": 738
        },
        {
         "id_dimension_ped": "PED.D01",
         "descripcion_dimension_ped": "Humana y Social",
         "id_linea_estrategica_ped": "PED.01.01",
         "descripcion_linea_estrategica_ped": "Bienestar Social",
         "id_objetivo_ped": "PED.01.01.01",
         "descripcion_objetivo_ped": "Abatir la pobreza en todas sus vertientes y desde sus causas.",
         "id_estrategia_ped": "PED.01.01.01.04",
         "descripcion_estrategia_ped": "Impulso a la familia como la institución que promueve valores y principios para generar personas re…",
         "id_metas_ods": "MM.10.07",
         "descripción_metas_ods": "10.7 Facilitar la migración y la movilidad ordenadas, seguras, regulares y responsables de las pers…",
         "_deepnote_index_column": 739
        },
        {
         "id_dimension_ped": "PED.D01",
         "descripcion_dimension_ped": "Humana y Social",
         "id_linea_estrategica_ped": "PED.01.01",
         "descripcion_linea_estrategica_ped": "Bienestar Social",
         "id_objetivo_ped": "PED.01.01.01",
         "descripcion_objetivo_ped": "Abatir la pobreza en todas sus vertientes y desde sus causas.",
         "id_estrategia_ped": "PED.01.01.01.05",
         "descripcion_estrategia_ped": "Incremento de los niveles de cohesión social de las comunidades.",
         "id_metas_ods": "MM.10.07",
         "descripción_metas_ods": "10.7 Facilitar la migración y la movilidad ordenadas, seguras, regulares y responsables de las pers…",
         "_deepnote_index_column": 740
        },
        {
         "id_dimension_ped": "PED.D01",
         "descripcion_dimension_ped": "Humana y Social",
         "id_linea_estrategica_ped": "PED.01.01",
         "descripcion_linea_estrategica_ped": "Bienestar Social",
         "id_objetivo_ped": "PED.01.01.01",
         "descripcion_objetivo_ped": "Abatir la pobreza en todas sus vertientes y desde sus causas.",
         "id_estrategia_ped": "PED.01.01.01.06",
         "descripcion_estrategia_ped": "Promoción de la innovación social con la participación de las y los ciudadanos.",
         "id_metas_ods": "MM.10.07",
         "descripción_metas_ods": "10.7 Facilitar la migración y la movilidad ordenadas, seguras, regulares y responsables de las pers…",
         "_deepnote_index_column": 741
        }
       ],
       "rows_bottom": null
      },
      "text/plain": "    id_dimension_ped descripcion_dimension_ped id_linea_estrategica_ped  \\\n57           PED.D01           Humana y Social                PED.01.01   \n58           PED.D01           Humana y Social                PED.01.01   \n59           PED.D01           Humana y Social                PED.01.01   \n60           PED.D01           Humana y Social                PED.01.01   \n61           PED.D01           Humana y Social                PED.01.01   \n62           PED.D01           Humana y Social                PED.01.01   \n63           PED.D01           Humana y Social                PED.01.01   \n64           PED.D01           Humana y Social                PED.01.01   \n65           PED.D01           Humana y Social                PED.01.01   \n66           PED.D01           Humana y Social                PED.01.01   \n67           PED.D01           Humana y Social                PED.01.03   \n68           PED.D01           Humana y Social                PED.01.03   \n69           PED.D01           Humana y Social                PED.01.03   \n70           PED.D01           Humana y Social                PED.01.03   \n71           PED.D01           Humana y Social                PED.01.03   \n72           PED.D01           Humana y Social                PED.01.03   \n96           PED.D01           Humana y Social                PED.01.01   \n97           PED.D01           Humana y Social                PED.01.01   \n98           PED.D01           Humana y Social                PED.01.01   \n99           PED.D01           Humana y Social                PED.01.01   \n100          PED.D01           Humana y Social                PED.01.01   \n101          PED.D01           Humana y Social                PED.01.01   \n114          PED.D01           Humana y Social                PED.01.01   \n115          PED.D01           Humana y Social                PED.01.01   \n116          PED.D01           Humana y Social                PED.01.01   \n117          PED.D01           Humana y Social                PED.01.01   \n118          PED.D01           Humana y Social                PED.01.01   \n119          PED.D01           Humana y Social                PED.01.01   \n736          PED.D01           Humana y Social                PED.01.01   \n737          PED.D01           Humana y Social                PED.01.01   \n738          PED.D01           Humana y Social                PED.01.01   \n739          PED.D01           Humana y Social                PED.01.01   \n740          PED.D01           Humana y Social                PED.01.01   \n741          PED.D01           Humana y Social                PED.01.01   \n\n    descripcion_linea_estrategica_ped id_objetivo_ped  \\\n57                   Bienestar Social    PED.01.01.01   \n58                   Bienestar Social    PED.01.01.01   \n59                   Bienestar Social    PED.01.01.01   \n60                   Bienestar Social    PED.01.01.01   \n61                   Bienestar Social    PED.01.01.01   \n62                   Bienestar Social    PED.01.01.01   \n63                   Bienestar Social    PED.01.01.02   \n64                   Bienestar Social    PED.01.01.02   \n65                   Bienestar Social    PED.01.01.02   \n66                   Bienestar Social    PED.01.01.02   \n67     Grupos de Atención Prioritaria    PED.01.03.01   \n68     Grupos de Atención Prioritaria    PED.01.03.01   \n69     Grupos de Atención Prioritaria    PED.01.03.01   \n70     Grupos de Atención Prioritaria    PED.01.03.01   \n71     Grupos de Atención Prioritaria    PED.01.03.01   \n72     Grupos de Atención Prioritaria    PED.01.03.01   \n96                   Bienestar Social    PED.01.01.01   \n97                   Bienestar Social    PED.01.01.01   \n98                   Bienestar Social    PED.01.01.01   \n99                   Bienestar Social    PED.01.01.01   \n100                  Bienestar Social    PED.01.01.01   \n101                  Bienestar Social    PED.01.01.01   \n114                  Bienestar Social    PED.01.01.01   \n115                  Bienestar Social    PED.01.01.01   \n116                  Bienestar Social    PED.01.01.01   \n117                  Bienestar Social    PED.01.01.01   \n118                  Bienestar Social    PED.01.01.01   \n119                  Bienestar Social    PED.01.01.01   \n736                  Bienestar Social    PED.01.01.01   \n737                  Bienestar Social    PED.01.01.01   \n738                  Bienestar Social    PED.01.01.01   \n739                  Bienestar Social    PED.01.01.01   \n740                  Bienestar Social    PED.01.01.01   \n741                  Bienestar Social    PED.01.01.01   \n\n                              descripcion_objetivo_ped id_estrategia_ped  \\\n57   Abatir la pobreza en todas sus vertientes y de...   PED.01.01.01.01   \n58   Abatir la pobreza en todas sus vertientes y de...   PED.01.01.01.02   \n59   Abatir la pobreza en todas sus vertientes y de...   PED.01.01.01.03   \n60   Abatir la pobreza en todas sus vertientes y de...   PED.01.01.01.04   \n61   Abatir la pobreza en todas sus vertientes y de...   PED.01.01.01.05   \n62   Abatir la pobreza en todas sus vertientes y de...   PED.01.01.01.06   \n63   Otorgar servicios de salud oportunos, con alto...   PED.01.01.02.01   \n64   Otorgar servicios de salud oportunos, con alto...   PED.01.01.02.02   \n65   Otorgar servicios de salud oportunos, con alto...   PED.01.01.02.03   \n66   Otorgar servicios de salud oportunos, con alto...   PED.01.01.02.04   \n67   Asegurar las condiciones para el desarrollo pl...   PED.01.03.01.01   \n68   Asegurar las condiciones para el desarrollo pl...   PED.01.03.01.02   \n69   Asegurar las condiciones para el desarrollo pl...   PED.01.03.01.03   \n70   Asegurar las condiciones para el desarrollo pl...   PED.01.03.01.04   \n71   Asegurar las condiciones para el desarrollo pl...   PED.01.03.01.05   \n72   Asegurar las condiciones para el desarrollo pl...   PED.01.03.01.06   \n96   Abatir la pobreza en todas sus vertientes y de...   PED.01.01.01.01   \n97   Abatir la pobreza en todas sus vertientes y de...   PED.01.01.01.02   \n98   Abatir la pobreza en todas sus vertientes y de...   PED.01.01.01.03   \n99   Abatir la pobreza en todas sus vertientes y de...   PED.01.01.01.04   \n100  Abatir la pobreza en todas sus vertientes y de...   PED.01.01.01.05   \n101  Abatir la pobreza en todas sus vertientes y de...   PED.01.01.01.06   \n114  Abatir la pobreza en todas sus vertientes y de...   PED.01.01.01.01   \n115  Abatir la pobreza en todas sus vertientes y de...   PED.01.01.01.02   \n116  Abatir la pobreza en todas sus vertientes y de...   PED.01.01.01.03   \n117  Abatir la pobreza en todas sus vertientes y de...   PED.01.01.01.04   \n118  Abatir la pobreza en todas sus vertientes y de...   PED.01.01.01.05   \n119  Abatir la pobreza en todas sus vertientes y de...   PED.01.01.01.06   \n736  Abatir la pobreza en todas sus vertientes y de...   PED.01.01.01.01   \n737  Abatir la pobreza en todas sus vertientes y de...   PED.01.01.01.02   \n738  Abatir la pobreza en todas sus vertientes y de...   PED.01.01.01.03   \n739  Abatir la pobreza en todas sus vertientes y de...   PED.01.01.01.04   \n740  Abatir la pobreza en todas sus vertientes y de...   PED.01.01.01.05   \n741  Abatir la pobreza en todas sus vertientes y de...   PED.01.01.01.06   \n\n                            descripcion_estrategia_ped id_metas_ods  \\\n57   Incremento de las opciones de empleo y el ingr...     MM.10.02   \n58   Mejora de la alimentación y nutrición de la po...     MM.10.02   \n59       Cobertura universal de los servicios básicos.     MM.10.02   \n60   Impulso a la familia como la institución que p...     MM.10.02   \n61   Incremento de los niveles de cohesión social d...     MM.10.02   \n62   Promoción de la innovación social con la parti...     MM.10.02   \n63   Consolidación de un sistema de salud universal...     MM.10.02   \n64   Profesionalización de las y los trabajadores d...     MM.10.02   \n65   Fortalecimiento de las unidades médicas con eq...     MM.10.02   \n66   Garantía de la cercanía de los servicios de sa...     MM.10.02   \n67   Garantía de los derechos de las niñas, niños y...     MM.10.02   \n68   Apoyo para que las personas jóvenes potencien ...     MM.10.02   \n69   Incremento en las acciones de inclusión que pe...     MM.10.02   \n70   Fortalecimiento de las acciones de inclusión q...     MM.10.02   \n71   Fortalecimiento de los apoyos a los pueblos y ...     MM.10.02   \n72   Fomento de la inclusión y la participación de ...     MM.10.02   \n96   Incremento de las opciones de empleo y el ingr...     MM.10.03   \n97   Mejora de la alimentación y nutrición de la po...     MM.10.03   \n98       Cobertura universal de los servicios básicos.     MM.10.03   \n99   Impulso a la familia como la institución que p...     MM.10.03   \n100  Incremento de los niveles de cohesión social d...     MM.10.03   \n101  Promoción de la innovación social con la parti...     MM.10.03   \n114  Incremento de las opciones de empleo y el ingr...     MM.10.0B   \n115  Mejora de la alimentación y nutrición de la po...     MM.10.0B   \n116      Cobertura universal de los servicios básicos.     MM.10.0B   \n117  Impulso a la familia como la institución que p...     MM.10.0B   \n118  Incremento de los niveles de cohesión social d...     MM.10.0B   \n119  Promoción de la innovación social con la parti...     MM.10.0B   \n736  Incremento de las opciones de empleo y el ingr...     MM.10.07   \n737  Mejora de la alimentación y nutrición de la po...     MM.10.07   \n738      Cobertura universal de los servicios básicos.     MM.10.07   \n739  Impulso a la familia como la institución que p...     MM.10.07   \n740  Incremento de los niveles de cohesión social d...     MM.10.07   \n741  Promoción de la innovación social con la parti...     MM.10.07   \n\n                                 descripción_metas_ods  \n57   10.2 Potenciar y promover la inclusión social,...  \n58   10.2 Potenciar y promover la inclusión social,...  \n59   10.2 Potenciar y promover la inclusión social,...  \n60   10.2 Potenciar y promover la inclusión social,...  \n61   10.2 Potenciar y promover la inclusión social,...  \n62   10.2 Potenciar y promover la inclusión social,...  \n63   10.2 Potenciar y promover la inclusión social,...  \n64   10.2 Potenciar y promover la inclusión social,...  \n65   10.2 Potenciar y promover la inclusión social,...  \n66   10.2 Potenciar y promover la inclusión social,...  \n67   10.2 Potenciar y promover la inclusión social,...  \n68   10.2 Potenciar y promover la inclusión social,...  \n69   10.2 Potenciar y promover la inclusión social,...  \n70   10.2 Potenciar y promover la inclusión social,...  \n71   10.2 Potenciar y promover la inclusión social,...  \n72   10.2 Potenciar y promover la inclusión social,...  \n96   10.3 Garantizar la igualdad de oportunidades y...  \n97   10.3 Garantizar la igualdad de oportunidades y...  \n98   10.3 Garantizar la igualdad de oportunidades y...  \n99   10.3 Garantizar la igualdad de oportunidades y...  \n100  10.3 Garantizar la igualdad de oportunidades y...  \n101  10.3 Garantizar la igualdad de oportunidades y...  \n114  10.b Alentar la asistencia oficial para el des...  \n115  10.b Alentar la asistencia oficial para el des...  \n116  10.b Alentar la asistencia oficial para el des...  \n117  10.b Alentar la asistencia oficial para el des...  \n118  10.b Alentar la asistencia oficial para el des...  \n119  10.b Alentar la asistencia oficial para el des...  \n736  10.7 Facilitar la migración y la movilidad ord...  \n737  10.7 Facilitar la migración y la movilidad ord...  \n738  10.7 Facilitar la migración y la movilidad ord...  \n739  10.7 Facilitar la migración y la movilidad ord...  \n740  10.7 Facilitar la migración y la movilidad ord...  \n741  10.7 Facilitar la migración y la movilidad ord...  ",
      "text/html": "<div>\n<style scoped>\n    .dataframe tbody tr th:only-of-type {\n        vertical-align: middle;\n    }\n\n    .dataframe tbody tr th {\n        vertical-align: top;\n    }\n\n    .dataframe thead th {\n        text-align: right;\n    }\n</style>\n<table border=\"1\" class=\"dataframe\">\n  <thead>\n    <tr style=\"text-align: right;\">\n      <th></th>\n      <th>id_dimension_ped</th>\n      <th>descripcion_dimension_ped</th>\n      <th>id_linea_estrategica_ped</th>\n      <th>descripcion_linea_estrategica_ped</th>\n      <th>id_objetivo_ped</th>\n      <th>descripcion_objetivo_ped</th>\n      <th>id_estrategia_ped</th>\n      <th>descripcion_estrategia_ped</th>\n      <th>id_metas_ods</th>\n      <th>descripción_metas_ods</th>\n    </tr>\n  </thead>\n  <tbody>\n    <tr>\n      <th>57</th>\n      <td>PED.D01</td>\n      <td>Humana y Social</td>\n      <td>PED.01.01</td>\n      <td>Bienestar Social</td>\n      <td>PED.01.01.01</td>\n      <td>Abatir la pobreza en todas sus vertientes y de...</td>\n      <td>PED.01.01.01.01</td>\n      <td>Incremento de las opciones de empleo y el ingr...</td>\n      <td>MM.10.02</td>\n      <td>10.2 Potenciar y promover la inclusión social,...</td>\n    </tr>\n    <tr>\n      <th>58</th>\n      <td>PED.D01</td>\n      <td>Humana y Social</td>\n      <td>PED.01.01</td>\n      <td>Bienestar Social</td>\n      <td>PED.01.01.01</td>\n      <td>Abatir la pobreza en todas sus vertientes y de...</td>\n      <td>PED.01.01.01.02</td>\n      <td>Mejora de la alimentación y nutrición de la po...</td>\n      <td>MM.10.02</td>\n      <td>10.2 Potenciar y promover la inclusión social,...</td>\n    </tr>\n    <tr>\n      <th>59</th>\n      <td>PED.D01</td>\n      <td>Humana y Social</td>\n      <td>PED.01.01</td>\n      <td>Bienestar Social</td>\n      <td>PED.01.01.01</td>\n      <td>Abatir la pobreza en todas sus vertientes y de...</td>\n      <td>PED.01.01.01.03</td>\n      <td>Cobertura universal de los servicios básicos.</td>\n      <td>MM.10.02</td>\n      <td>10.2 Potenciar y promover la inclusión social,...</td>\n    </tr>\n    <tr>\n      <th>60</th>\n      <td>PED.D01</td>\n      <td>Humana y Social</td>\n      <td>PED.01.01</td>\n      <td>Bienestar Social</td>\n      <td>PED.01.01.01</td>\n      <td>Abatir la pobreza en todas sus vertientes y de...</td>\n      <td>PED.01.01.01.04</td>\n      <td>Impulso a la familia como la institución que p...</td>\n      <td>MM.10.02</td>\n      <td>10.2 Potenciar y promover la inclusión social,...</td>\n    </tr>\n    <tr>\n      <th>61</th>\n      <td>PED.D01</td>\n      <td>Humana y Social</td>\n      <td>PED.01.01</td>\n      <td>Bienestar Social</td>\n      <td>PED.01.01.01</td>\n      <td>Abatir la pobreza en todas sus vertientes y de...</td>\n      <td>PED.01.01.01.05</td>\n      <td>Incremento de los niveles de cohesión social d...</td>\n      <td>MM.10.02</td>\n      <td>10.2 Potenciar y promover la inclusión social,...</td>\n    </tr>\n    <tr>\n      <th>62</th>\n      <td>PED.D01</td>\n      <td>Humana y Social</td>\n      <td>PED.01.01</td>\n      <td>Bienestar Social</td>\n      <td>PED.01.01.01</td>\n      <td>Abatir la pobreza en todas sus vertientes y de...</td>\n      <td>PED.01.01.01.06</td>\n      <td>Promoción de la innovación social con la parti...</td>\n      <td>MM.10.02</td>\n      <td>10.2 Potenciar y promover la inclusión social,...</td>\n    </tr>\n    <tr>\n      <th>63</th>\n      <td>PED.D01</td>\n      <td>Humana y Social</td>\n      <td>PED.01.01</td>\n      <td>Bienestar Social</td>\n      <td>PED.01.01.02</td>\n      <td>Otorgar servicios de salud oportunos, con alto...</td>\n      <td>PED.01.01.02.01</td>\n      <td>Consolidación de un sistema de salud universal...</td>\n      <td>MM.10.02</td>\n      <td>10.2 Potenciar y promover la inclusión social,...</td>\n    </tr>\n    <tr>\n      <th>64</th>\n      <td>PED.D01</td>\n      <td>Humana y Social</td>\n      <td>PED.01.01</td>\n      <td>Bienestar Social</td>\n      <td>PED.01.01.02</td>\n      <td>Otorgar servicios de salud oportunos, con alto...</td>\n      <td>PED.01.01.02.02</td>\n      <td>Profesionalización de las y los trabajadores d...</td>\n      <td>MM.10.02</td>\n      <td>10.2 Potenciar y promover la inclusión social,...</td>\n    </tr>\n    <tr>\n      <th>65</th>\n      <td>PED.D01</td>\n      <td>Humana y Social</td>\n      <td>PED.01.01</td>\n      <td>Bienestar Social</td>\n      <td>PED.01.01.02</td>\n      <td>Otorgar servicios de salud oportunos, con alto...</td>\n      <td>PED.01.01.02.03</td>\n      <td>Fortalecimiento de las unidades médicas con eq...</td>\n      <td>MM.10.02</td>\n      <td>10.2 Potenciar y promover la inclusión social,...</td>\n    </tr>\n    <tr>\n      <th>66</th>\n      <td>PED.D01</td>\n      <td>Humana y Social</td>\n      <td>PED.01.01</td>\n      <td>Bienestar Social</td>\n      <td>PED.01.01.02</td>\n      <td>Otorgar servicios de salud oportunos, con alto...</td>\n      <td>PED.01.01.02.04</td>\n      <td>Garantía de la cercanía de los servicios de sa...</td>\n      <td>MM.10.02</td>\n      <td>10.2 Potenciar y promover la inclusión social,...</td>\n    </tr>\n    <tr>\n      <th>67</th>\n      <td>PED.D01</td>\n      <td>Humana y Social</td>\n      <td>PED.01.03</td>\n      <td>Grupos de Atención Prioritaria</td>\n      <td>PED.01.03.01</td>\n      <td>Asegurar las condiciones para el desarrollo pl...</td>\n      <td>PED.01.03.01.01</td>\n      <td>Garantía de los derechos de las niñas, niños y...</td>\n      <td>MM.10.02</td>\n      <td>10.2 Potenciar y promover la inclusión social,...</td>\n    </tr>\n    <tr>\n      <th>68</th>\n      <td>PED.D01</td>\n      <td>Humana y Social</td>\n      <td>PED.01.03</td>\n      <td>Grupos de Atención Prioritaria</td>\n      <td>PED.01.03.01</td>\n      <td>Asegurar las condiciones para el desarrollo pl...</td>\n      <td>PED.01.03.01.02</td>\n      <td>Apoyo para que las personas jóvenes potencien ...</td>\n      <td>MM.10.02</td>\n      <td>10.2 Potenciar y promover la inclusión social,...</td>\n    </tr>\n    <tr>\n      <th>69</th>\n      <td>PED.D01</td>\n      <td>Humana y Social</td>\n      <td>PED.01.03</td>\n      <td>Grupos de Atención Prioritaria</td>\n      <td>PED.01.03.01</td>\n      <td>Asegurar las condiciones para el desarrollo pl...</td>\n      <td>PED.01.03.01.03</td>\n      <td>Incremento en las acciones de inclusión que pe...</td>\n      <td>MM.10.02</td>\n      <td>10.2 Potenciar y promover la inclusión social,...</td>\n    </tr>\n    <tr>\n      <th>70</th>\n      <td>PED.D01</td>\n      <td>Humana y Social</td>\n      <td>PED.01.03</td>\n      <td>Grupos de Atención Prioritaria</td>\n      <td>PED.01.03.01</td>\n      <td>Asegurar las condiciones para el desarrollo pl...</td>\n      <td>PED.01.03.01.04</td>\n      <td>Fortalecimiento de las acciones de inclusión q...</td>\n      <td>MM.10.02</td>\n      <td>10.2 Potenciar y promover la inclusión social,...</td>\n    </tr>\n    <tr>\n      <th>71</th>\n      <td>PED.D01</td>\n      <td>Humana y Social</td>\n      <td>PED.01.03</td>\n      <td>Grupos de Atención Prioritaria</td>\n      <td>PED.01.03.01</td>\n      <td>Asegurar las condiciones para el desarrollo pl...</td>\n      <td>PED.01.03.01.05</td>\n      <td>Fortalecimiento de los apoyos a los pueblos y ...</td>\n      <td>MM.10.02</td>\n      <td>10.2 Potenciar y promover la inclusión social,...</td>\n    </tr>\n    <tr>\n      <th>72</th>\n      <td>PED.D01</td>\n      <td>Humana y Social</td>\n      <td>PED.01.03</td>\n      <td>Grupos de Atención Prioritaria</td>\n      <td>PED.01.03.01</td>\n      <td>Asegurar las condiciones para el desarrollo pl...</td>\n      <td>PED.01.03.01.06</td>\n      <td>Fomento de la inclusión y la participación de ...</td>\n      <td>MM.10.02</td>\n      <td>10.2 Potenciar y promover la inclusión social,...</td>\n    </tr>\n    <tr>\n      <th>96</th>\n      <td>PED.D01</td>\n      <td>Humana y Social</td>\n      <td>PED.01.01</td>\n      <td>Bienestar Social</td>\n      <td>PED.01.01.01</td>\n      <td>Abatir la pobreza en todas sus vertientes y de...</td>\n      <td>PED.01.01.01.01</td>\n      <td>Incremento de las opciones de empleo y el ingr...</td>\n      <td>MM.10.03</td>\n      <td>10.3 Garantizar la igualdad de oportunidades y...</td>\n    </tr>\n    <tr>\n      <th>97</th>\n      <td>PED.D01</td>\n      <td>Humana y Social</td>\n      <td>PED.01.01</td>\n      <td>Bienestar Social</td>\n      <td>PED.01.01.01</td>\n      <td>Abatir la pobreza en todas sus vertientes y de...</td>\n      <td>PED.01.01.01.02</td>\n      <td>Mejora de la alimentación y nutrición de la po...</td>\n      <td>MM.10.03</td>\n      <td>10.3 Garantizar la igualdad de oportunidades y...</td>\n    </tr>\n    <tr>\n      <th>98</th>\n      <td>PED.D01</td>\n      <td>Humana y Social</td>\n      <td>PED.01.01</td>\n      <td>Bienestar Social</td>\n      <td>PED.01.01.01</td>\n      <td>Abatir la pobreza en todas sus vertientes y de...</td>\n      <td>PED.01.01.01.03</td>\n      <td>Cobertura universal de los servicios básicos.</td>\n      <td>MM.10.03</td>\n      <td>10.3 Garantizar la igualdad de oportunidades y...</td>\n    </tr>\n    <tr>\n      <th>99</th>\n      <td>PED.D01</td>\n      <td>Humana y Social</td>\n      <td>PED.01.01</td>\n      <td>Bienestar Social</td>\n      <td>PED.01.01.01</td>\n      <td>Abatir la pobreza en todas sus vertientes y de...</td>\n      <td>PED.01.01.01.04</td>\n      <td>Impulso a la familia como la institución que p...</td>\n      <td>MM.10.03</td>\n      <td>10.3 Garantizar la igualdad de oportunidades y...</td>\n    </tr>\n    <tr>\n      <th>100</th>\n      <td>PED.D01</td>\n      <td>Humana y Social</td>\n      <td>PED.01.01</td>\n      <td>Bienestar Social</td>\n      <td>PED.01.01.01</td>\n      <td>Abatir la pobreza en todas sus vertientes y de...</td>\n      <td>PED.01.01.01.05</td>\n      <td>Incremento de los niveles de cohesión social d...</td>\n      <td>MM.10.03</td>\n      <td>10.3 Garantizar la igualdad de oportunidades y...</td>\n    </tr>\n    <tr>\n      <th>101</th>\n      <td>PED.D01</td>\n      <td>Humana y Social</td>\n      <td>PED.01.01</td>\n      <td>Bienestar Social</td>\n      <td>PED.01.01.01</td>\n      <td>Abatir la pobreza en todas sus vertientes y de...</td>\n      <td>PED.01.01.01.06</td>\n      <td>Promoción de la innovación social con la parti...</td>\n      <td>MM.10.03</td>\n      <td>10.3 Garantizar la igualdad de oportunidades y...</td>\n    </tr>\n    <tr>\n      <th>114</th>\n      <td>PED.D01</td>\n      <td>Humana y Social</td>\n      <td>PED.01.01</td>\n      <td>Bienestar Social</td>\n      <td>PED.01.01.01</td>\n      <td>Abatir la pobreza en todas sus vertientes y de...</td>\n      <td>PED.01.01.01.01</td>\n      <td>Incremento de las opciones de empleo y el ingr...</td>\n      <td>MM.10.0B</td>\n      <td>10.b Alentar la asistencia oficial para el des...</td>\n    </tr>\n    <tr>\n      <th>115</th>\n      <td>PED.D01</td>\n      <td>Humana y Social</td>\n      <td>PED.01.01</td>\n      <td>Bienestar Social</td>\n      <td>PED.01.01.01</td>\n      <td>Abatir la pobreza en todas sus vertientes y de...</td>\n      <td>PED.01.01.01.02</td>\n      <td>Mejora de la alimentación y nutrición de la po...</td>\n      <td>MM.10.0B</td>\n      <td>10.b Alentar la asistencia oficial para el des...</td>\n    </tr>\n    <tr>\n      <th>116</th>\n      <td>PED.D01</td>\n      <td>Humana y Social</td>\n      <td>PED.01.01</td>\n      <td>Bienestar Social</td>\n      <td>PED.01.01.01</td>\n      <td>Abatir la pobreza en todas sus vertientes y de...</td>\n      <td>PED.01.01.01.03</td>\n      <td>Cobertura universal de los servicios básicos.</td>\n      <td>MM.10.0B</td>\n      <td>10.b Alentar la asistencia oficial para el des...</td>\n    </tr>\n    <tr>\n      <th>117</th>\n      <td>PED.D01</td>\n      <td>Humana y Social</td>\n      <td>PED.01.01</td>\n      <td>Bienestar Social</td>\n      <td>PED.01.01.01</td>\n      <td>Abatir la pobreza en todas sus vertientes y de...</td>\n      <td>PED.01.01.01.04</td>\n      <td>Impulso a la familia como la institución que p...</td>\n      <td>MM.10.0B</td>\n      <td>10.b Alentar la asistencia oficial para el des...</td>\n    </tr>\n    <tr>\n      <th>118</th>\n      <td>PED.D01</td>\n      <td>Humana y Social</td>\n      <td>PED.01.01</td>\n      <td>Bienestar Social</td>\n      <td>PED.01.01.01</td>\n      <td>Abatir la pobreza en todas sus vertientes y de...</td>\n      <td>PED.01.01.01.05</td>\n      <td>Incremento de los niveles de cohesión social d...</td>\n      <td>MM.10.0B</td>\n      <td>10.b Alentar la asistencia oficial para el des...</td>\n    </tr>\n    <tr>\n      <th>119</th>\n      <td>PED.D01</td>\n      <td>Humana y Social</td>\n      <td>PED.01.01</td>\n      <td>Bienestar Social</td>\n      <td>PED.01.01.01</td>\n      <td>Abatir la pobreza en todas sus vertientes y de...</td>\n      <td>PED.01.01.01.06</td>\n      <td>Promoción de la innovación social con la parti...</td>\n      <td>MM.10.0B</td>\n      <td>10.b Alentar la asistencia oficial para el des...</td>\n    </tr>\n    <tr>\n      <th>736</th>\n      <td>PED.D01</td>\n      <td>Humana y Social</td>\n      <td>PED.01.01</td>\n      <td>Bienestar Social</td>\n      <td>PED.01.01.01</td>\n      <td>Abatir la pobreza en todas sus vertientes y de...</td>\n      <td>PED.01.01.01.01</td>\n      <td>Incremento de las opciones de empleo y el ingr...</td>\n      <td>MM.10.07</td>\n      <td>10.7 Facilitar la migración y la movilidad ord...</td>\n    </tr>\n    <tr>\n      <th>737</th>\n      <td>PED.D01</td>\n      <td>Humana y Social</td>\n      <td>PED.01.01</td>\n      <td>Bienestar Social</td>\n      <td>PED.01.01.01</td>\n      <td>Abatir la pobreza en todas sus vertientes y de...</td>\n      <td>PED.01.01.01.02</td>\n      <td>Mejora de la alimentación y nutrición de la po...</td>\n      <td>MM.10.07</td>\n      <td>10.7 Facilitar la migración y la movilidad ord...</td>\n    </tr>\n    <tr>\n      <th>738</th>\n      <td>PED.D01</td>\n      <td>Humana y Social</td>\n      <td>PED.01.01</td>\n      <td>Bienestar Social</td>\n      <td>PED.01.01.01</td>\n      <td>Abatir la pobreza en todas sus vertientes y de...</td>\n      <td>PED.01.01.01.03</td>\n      <td>Cobertura universal de los servicios básicos.</td>\n      <td>MM.10.07</td>\n      <td>10.7 Facilitar la migración y la movilidad ord...</td>\n    </tr>\n    <tr>\n      <th>739</th>\n      <td>PED.D01</td>\n      <td>Humana y Social</td>\n      <td>PED.01.01</td>\n      <td>Bienestar Social</td>\n      <td>PED.01.01.01</td>\n      <td>Abatir la pobreza en todas sus vertientes y de...</td>\n      <td>PED.01.01.01.04</td>\n      <td>Impulso a la familia como la institución que p...</td>\n      <td>MM.10.07</td>\n      <td>10.7 Facilitar la migración y la movilidad ord...</td>\n    </tr>\n    <tr>\n      <th>740</th>\n      <td>PED.D01</td>\n      <td>Humana y Social</td>\n      <td>PED.01.01</td>\n      <td>Bienestar Social</td>\n      <td>PED.01.01.01</td>\n      <td>Abatir la pobreza en todas sus vertientes y de...</td>\n      <td>PED.01.01.01.05</td>\n      <td>Incremento de los niveles de cohesión social d...</td>\n      <td>MM.10.07</td>\n      <td>10.7 Facilitar la migración y la movilidad ord...</td>\n    </tr>\n    <tr>\n      <th>741</th>\n      <td>PED.D01</td>\n      <td>Humana y Social</td>\n      <td>PED.01.01</td>\n      <td>Bienestar Social</td>\n      <td>PED.01.01.01</td>\n      <td>Abatir la pobreza en todas sus vertientes y de...</td>\n      <td>PED.01.01.01.06</td>\n      <td>Promoción de la innovación social con la parti...</td>\n      <td>MM.10.07</td>\n      <td>10.7 Facilitar la migración y la movilidad ord...</td>\n    </tr>\n  </tbody>\n</table>\n</div>"
     },
     "metadata": {}
    }
   ]
  },
  {
   "cell_type": "code",
   "metadata": {
    "tags": [],
    "cell_id": "00007-a1cc5163-96cc-4b9a-b61a-288bdb341684",
    "deepnote_to_be_reexecuted": false,
    "source_hash": "fb0132a7",
    "execution_start": 1632417257657,
    "execution_millis": 6,
    "deepnote_cell_type": "code"
   },
   "source": "df_ped.head()",
   "execution_count": 17,
   "outputs": [
    {
     "output_type": "execute_result",
     "execution_count": 17,
     "data": {
      "application/vnd.deepnote.dataframe.v2+json": {
       "row_count": 5,
       "column_count": 12,
       "columns": [
        {
         "name": "id_dimension_ped",
         "dtype": "object",
         "stats": {
          "unique_count": 1,
          "nan_count": 0,
          "categories": [
           {
            "name": "PED.D04",
            "count": 5
           }
          ]
         }
        },
        {
         "name": "descripcion_dimension_ped",
         "dtype": "object",
         "stats": {
          "unique_count": 1,
          "nan_count": 0,
          "categories": [
           {
            "name": "Administración Pública y Estado de Derecho",
            "count": 5
           }
          ]
         }
        },
        {
         "name": "id_linea_estrategica_ped",
         "dtype": "object",
         "stats": {
          "unique_count": 1,
          "nan_count": 0,
          "categories": [
           {
            "name": "PED.04.01",
            "count": 5
           }
          ]
         }
        },
        {
         "name": "descripcion_linea_estrategica_ped",
         "dtype": "object",
         "stats": {
          "unique_count": 1,
          "nan_count": 0,
          "categories": [
           {
            "name": "Gobernanza",
            "count": 5
           }
          ]
         }
        },
        {
         "name": "id_objetivo_ped",
         "dtype": "object",
         "stats": {
          "unique_count": 1,
          "nan_count": 0,
          "categories": [
           {
            "name": "PED.04.01.02",
            "count": 5
           }
          ]
         }
        },
        {
         "name": "descripcion_objetivo_ped",
         "dtype": "object",
         "stats": {
          "unique_count": 1,
          "nan_count": 0,
          "categories": [
           {
            "name": "Consolidar una gestión pública abierta, transparente y cercana al ciudadano, sin cabida para la corrupción",
            "count": 5
           }
          ]
         }
        },
        {
         "name": "id_estrategia_ped",
         "dtype": "object",
         "stats": {
          "unique_count": 5,
          "nan_count": 0,
          "categories": [
           {
            "name": "PED.04.01.02.01",
            "count": 1
           },
           {
            "name": "PED.04.01.02.02",
            "count": 1
           },
           {
            "name": "3 others",
            "count": 3
           }
          ]
         }
        },
        {
         "name": "descripcion_estrategia_ped",
         "dtype": "object",
         "stats": {
          "unique_count": 5,
          "nan_count": 0,
          "categories": [
           {
            "name": "Armonización legislativa y reglamentaria, que contemple principios de máxima transparencia.",
            "count": 1
           },
           {
            "name": "Impulso de la coordinación entre el gobierno, la sociedad y la academia para garantizar la transparencia y la rendición de cuentas.",
            "count": 1
           },
           {
            "name": "3 others",
            "count": 3
           }
          ]
         }
        },
        {
         "name": "id_ods",
         "dtype": "object",
         "stats": {
          "unique_count": 1,
          "nan_count": 0,
          "categories": [
           {
            "name": "ODS.16",
            "count": 5
           }
          ]
         }
        },
        {
         "name": "descripcion_ods",
         "dtype": "object",
         "stats": {
          "unique_count": 1,
          "nan_count": 0,
          "categories": [
           {
            "name": "Objetivo 16: Promover sociedades, justas, pacíficas e inclusivas",
            "count": 5
           }
          ]
         }
        },
        {
         "name": "id_metas_ods",
         "dtype": "object",
         "stats": {
          "unique_count": 1,
          "nan_count": 0,
          "categories": [
           {
            "name": "MM.16.08",
            "count": 5
           }
          ]
         }
        },
        {
         "name": "descripción_metas_ods",
         "dtype": "object",
         "stats": {
          "unique_count": 1,
          "nan_count": 0,
          "categories": [
           {
            "name": "16.8 Ampliar y fortalecer la participación de los países en desarrollo en las instituciones de gobernanza mundial.",
            "count": 5
           }
          ]
         }
        },
        {
         "name": "_deepnote_index_column",
         "dtype": "int64"
        }
       ],
       "rows_top": [
        {
         "id_dimension_ped": "PED.D04",
         "descripcion_dimension_ped": "Administración Pública y Estado de Derecho",
         "id_linea_estrategica_ped": "PED.04.01",
         "descripcion_linea_estrategica_ped": "Gobernanza",
         "id_objetivo_ped": "PED.04.01.02",
         "descripcion_objetivo_ped": "Consolidar una gestión pública abierta, transparente y cercana al ciudadano, sin cabida para la cor…",
         "id_estrategia_ped": "PED.04.01.02.01",
         "descripcion_estrategia_ped": "Armonización legislativa y reglamentaria, que contemple principios de máxima transparencia.",
         "id_ods": "ODS.16",
         "descripcion_ods": "Objetivo 16: Promover sociedades, justas, pacíficas e inclusivas",
         "id_metas_ods": "MM.16.08",
         "descripción_metas_ods": "16.8 Ampliar y fortalecer la participación de los países en desarrollo en las instituciones de gobe…",
         "_deepnote_index_column": 0
        },
        {
         "id_dimension_ped": "PED.D04",
         "descripcion_dimension_ped": "Administración Pública y Estado de Derecho",
         "id_linea_estrategica_ped": "PED.04.01",
         "descripcion_linea_estrategica_ped": "Gobernanza",
         "id_objetivo_ped": "PED.04.01.02",
         "descripcion_objetivo_ped": "Consolidar una gestión pública abierta, transparente y cercana al ciudadano, sin cabida para la cor…",
         "id_estrategia_ped": "PED.04.01.02.02",
         "descripcion_estrategia_ped": "Impulso de la coordinación entre el gobierno, la sociedad y la academia para garantizar la transpar…",
         "id_ods": "ODS.16",
         "descripcion_ods": "Objetivo 16: Promover sociedades, justas, pacíficas e inclusivas",
         "id_metas_ods": "MM.16.08",
         "descripción_metas_ods": "16.8 Ampliar y fortalecer la participación de los países en desarrollo en las instituciones de gobe…",
         "_deepnote_index_column": 1
        },
        {
         "id_dimension_ped": "PED.D04",
         "descripcion_dimension_ped": "Administración Pública y Estado de Derecho",
         "id_linea_estrategica_ped": "PED.04.01",
         "descripcion_linea_estrategica_ped": "Gobernanza",
         "id_objetivo_ped": "PED.04.01.02",
         "descripcion_objetivo_ped": "Consolidar una gestión pública abierta, transparente y cercana al ciudadano, sin cabida para la cor…",
         "id_estrategia_ped": "PED.04.01.02.03",
         "descripcion_estrategia_ped": "Fortalecimiento de la participación ciudadana mediante mecanismos ágiles y novedosos, que posibilit…",
         "id_ods": "ODS.16",
         "descripcion_ods": "Objetivo 16: Promover sociedades, justas, pacíficas e inclusivas",
         "id_metas_ods": "MM.16.08",
         "descripción_metas_ods": "16.8 Ampliar y fortalecer la participación de los países en desarrollo en las instituciones de gobe…",
         "_deepnote_index_column": 2
        },
        {
         "id_dimension_ped": "PED.D04",
         "descripcion_dimension_ped": "Administración Pública y Estado de Derecho",
         "id_linea_estrategica_ped": "PED.04.01",
         "descripcion_linea_estrategica_ped": "Gobernanza",
         "id_objetivo_ped": "PED.04.01.02",
         "descripcion_objetivo_ped": "Consolidar una gestión pública abierta, transparente y cercana al ciudadano, sin cabida para la cor…",
         "id_estrategia_ped": "PED.04.01.02.04",
         "descripcion_estrategia_ped": "Capacitación permanente en temas de transparencia, ética, gobierno abierto y rendición de cuentas a…",
         "id_ods": "ODS.16",
         "descripcion_ods": "Objetivo 16: Promover sociedades, justas, pacíficas e inclusivas",
         "id_metas_ods": "MM.16.08",
         "descripción_metas_ods": "16.8 Ampliar y fortalecer la participación de los países en desarrollo en las instituciones de gobe…",
         "_deepnote_index_column": 3
        },
        {
         "id_dimension_ped": "PED.D04",
         "descripcion_dimension_ped": "Administración Pública y Estado de Derecho",
         "id_linea_estrategica_ped": "PED.04.01",
         "descripcion_linea_estrategica_ped": "Gobernanza",
         "id_objetivo_ped": "PED.04.01.02",
         "descripcion_objetivo_ped": "Consolidar una gestión pública abierta, transparente y cercana al ciudadano, sin cabida para la cor…",
         "id_estrategia_ped": "PED.04.01.02.05",
         "descripcion_estrategia_ped": "Desarrollo de mecanismos más amplios y diversos para la difusión de informa- ción acerca de la situ…",
         "id_ods": "ODS.16",
         "descripcion_ods": "Objetivo 16: Promover sociedades, justas, pacíficas e inclusivas",
         "id_metas_ods": "MM.16.08",
         "descripción_metas_ods": "16.8 Ampliar y fortalecer la participación de los países en desarrollo en las instituciones de gobe…",
         "_deepnote_index_column": 4
        }
       ],
       "rows_bottom": null
      },
      "text/plain": "  id_dimension_ped                   descripcion_dimension_ped  \\\n0          PED.D04  Administración Pública y Estado de Derecho   \n1          PED.D04  Administración Pública y Estado de Derecho   \n2          PED.D04  Administración Pública y Estado de Derecho   \n3          PED.D04  Administración Pública y Estado de Derecho   \n4          PED.D04  Administración Pública y Estado de Derecho   \n\n  id_linea_estrategica_ped descripcion_linea_estrategica_ped id_objetivo_ped  \\\n0                PED.04.01                        Gobernanza    PED.04.01.02   \n1                PED.04.01                        Gobernanza    PED.04.01.02   \n2                PED.04.01                        Gobernanza    PED.04.01.02   \n3                PED.04.01                        Gobernanza    PED.04.01.02   \n4                PED.04.01                        Gobernanza    PED.04.01.02   \n\n                            descripcion_objetivo_ped id_estrategia_ped  \\\n0  Consolidar una gestión pública abierta, transp...   PED.04.01.02.01   \n1  Consolidar una gestión pública abierta, transp...   PED.04.01.02.02   \n2  Consolidar una gestión pública abierta, transp...   PED.04.01.02.03   \n3  Consolidar una gestión pública abierta, transp...   PED.04.01.02.04   \n4  Consolidar una gestión pública abierta, transp...   PED.04.01.02.05   \n\n                          descripcion_estrategia_ped  id_ods  \\\n0  Armonización legislativa y reglamentaria, que ...  ODS.16   \n1  Impulso de la coordinación entre el gobierno, ...  ODS.16   \n2  Fortalecimiento de la participación ciudadana ...  ODS.16   \n3  Capacitación permanente en temas de transparen...  ODS.16   \n4  Desarrollo de mecanismos más amplios y diverso...  ODS.16   \n\n                                     descripcion_ods id_metas_ods  \\\n0  Objetivo 16: Promover sociedades, justas, pací...     MM.16.08   \n1  Objetivo 16: Promover sociedades, justas, pací...     MM.16.08   \n2  Objetivo 16: Promover sociedades, justas, pací...     MM.16.08   \n3  Objetivo 16: Promover sociedades, justas, pací...     MM.16.08   \n4  Objetivo 16: Promover sociedades, justas, pací...     MM.16.08   \n\n                               descripción_metas_ods  \n0  16.8 Ampliar y fortalecer la participación de ...  \n1  16.8 Ampliar y fortalecer la participación de ...  \n2  16.8 Ampliar y fortalecer la participación de ...  \n3  16.8 Ampliar y fortalecer la participación de ...  \n4  16.8 Ampliar y fortalecer la participación de ...  ",
      "text/html": "<div>\n<style scoped>\n    .dataframe tbody tr th:only-of-type {\n        vertical-align: middle;\n    }\n\n    .dataframe tbody tr th {\n        vertical-align: top;\n    }\n\n    .dataframe thead th {\n        text-align: right;\n    }\n</style>\n<table border=\"1\" class=\"dataframe\">\n  <thead>\n    <tr style=\"text-align: right;\">\n      <th></th>\n      <th>id_dimension_ped</th>\n      <th>descripcion_dimension_ped</th>\n      <th>id_linea_estrategica_ped</th>\n      <th>descripcion_linea_estrategica_ped</th>\n      <th>id_objetivo_ped</th>\n      <th>descripcion_objetivo_ped</th>\n      <th>id_estrategia_ped</th>\n      <th>descripcion_estrategia_ped</th>\n      <th>id_ods</th>\n      <th>descripcion_ods</th>\n      <th>id_metas_ods</th>\n      <th>descripción_metas_ods</th>\n    </tr>\n  </thead>\n  <tbody>\n    <tr>\n      <th>0</th>\n      <td>PED.D04</td>\n      <td>Administración Pública y Estado de Derecho</td>\n      <td>PED.04.01</td>\n      <td>Gobernanza</td>\n      <td>PED.04.01.02</td>\n      <td>Consolidar una gestión pública abierta, transp...</td>\n      <td>PED.04.01.02.01</td>\n      <td>Armonización legislativa y reglamentaria, que ...</td>\n      <td>ODS.16</td>\n      <td>Objetivo 16: Promover sociedades, justas, pací...</td>\n      <td>MM.16.08</td>\n      <td>16.8 Ampliar y fortalecer la participación de ...</td>\n    </tr>\n    <tr>\n      <th>1</th>\n      <td>PED.D04</td>\n      <td>Administración Pública y Estado de Derecho</td>\n      <td>PED.04.01</td>\n      <td>Gobernanza</td>\n      <td>PED.04.01.02</td>\n      <td>Consolidar una gestión pública abierta, transp...</td>\n      <td>PED.04.01.02.02</td>\n      <td>Impulso de la coordinación entre el gobierno, ...</td>\n      <td>ODS.16</td>\n      <td>Objetivo 16: Promover sociedades, justas, pací...</td>\n      <td>MM.16.08</td>\n      <td>16.8 Ampliar y fortalecer la participación de ...</td>\n    </tr>\n    <tr>\n      <th>2</th>\n      <td>PED.D04</td>\n      <td>Administración Pública y Estado de Derecho</td>\n      <td>PED.04.01</td>\n      <td>Gobernanza</td>\n      <td>PED.04.01.02</td>\n      <td>Consolidar una gestión pública abierta, transp...</td>\n      <td>PED.04.01.02.03</td>\n      <td>Fortalecimiento de la participación ciudadana ...</td>\n      <td>ODS.16</td>\n      <td>Objetivo 16: Promover sociedades, justas, pací...</td>\n      <td>MM.16.08</td>\n      <td>16.8 Ampliar y fortalecer la participación de ...</td>\n    </tr>\n    <tr>\n      <th>3</th>\n      <td>PED.D04</td>\n      <td>Administración Pública y Estado de Derecho</td>\n      <td>PED.04.01</td>\n      <td>Gobernanza</td>\n      <td>PED.04.01.02</td>\n      <td>Consolidar una gestión pública abierta, transp...</td>\n      <td>PED.04.01.02.04</td>\n      <td>Capacitación permanente en temas de transparen...</td>\n      <td>ODS.16</td>\n      <td>Objetivo 16: Promover sociedades, justas, pací...</td>\n      <td>MM.16.08</td>\n      <td>16.8 Ampliar y fortalecer la participación de ...</td>\n    </tr>\n    <tr>\n      <th>4</th>\n      <td>PED.D04</td>\n      <td>Administración Pública y Estado de Derecho</td>\n      <td>PED.04.01</td>\n      <td>Gobernanza</td>\n      <td>PED.04.01.02</td>\n      <td>Consolidar una gestión pública abierta, transp...</td>\n      <td>PED.04.01.02.05</td>\n      <td>Desarrollo de mecanismos más amplios y diverso...</td>\n      <td>ODS.16</td>\n      <td>Objetivo 16: Promover sociedades, justas, pací...</td>\n      <td>MM.16.08</td>\n      <td>16.8 Ampliar y fortalecer la participación de ...</td>\n    </tr>\n  </tbody>\n</table>\n</div>"
     },
     "metadata": {}
    }
   ]
  },
  {
   "cell_type": "markdown",
   "source": "<a style='text-decoration:none;line-height:16px;display:flex;color:#5B5B62;padding:10px;justify-content:end;' href='https://deepnote.com?utm_source=created-in-deepnote-cell&projectId=a6ebe05e-b4fe-4414-bb0f-cc4c949b8905' target=\"_blank\">\n<img alt='Created in deepnote.com' style='display:inline;max-height:16px;margin:0px;margin-right:7.5px;' src='data:image/svg+xml;base64,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' > </img>\nCreated in <span style='font-weight:600;margin-left:4px;'>Deepnote</span></a>",
   "metadata": {
    "tags": [],
    "created_in_deepnote_cell": true,
    "deepnote_cell_type": "markdown"
   }
  }
 ],
 "nbformat": 4,
 "nbformat_minor": 2,
 "metadata": {
  "orig_nbformat": 2,
  "deepnote": {
   "is_reactive": false
  },
  "deepnote_notebook_id": "5f9ee227-bf25-4799-bc86-b4d94b4ce8d1",
  "deepnote_execution_queue": []
 }
}