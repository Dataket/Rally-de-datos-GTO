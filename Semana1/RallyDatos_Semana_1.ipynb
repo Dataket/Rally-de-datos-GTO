{
  "nbformat": 4,
  "nbformat_minor": 0,
  "metadata": {
    "colab": {
      "name": "RallyDatos_Semana_1.ipynb",
      "provenance": [],
      "include_colab_link": true
    },
    "kernelspec": {
      "name": "python3",
      "display_name": "Python 3"
    },
    "language_info": {
      "name": "python"
    }
  },
  "cells": [
    {
      "cell_type": "markdown",
      "metadata": {
        "id": "view-in-github",
        "colab_type": "text"
      },
      "source": [
        "<a href=\"https://colab.research.google.com/github/gilesitorr/Dataket/blob/main/Semana1/RallyDatos_Semana_1.ipynb\" target=\"_parent\"><img src=\"https://colab.research.google.com/assets/colab-badge.svg\" alt=\"Open In Colab\"/></a>"
      ]
    },
    {
      "cell_type": "markdown",
      "metadata": {
        "id": "GAikJPLjPwr8"
      },
      "source": [
        "# Rally de Datos GTO\n",
        "## _Semana 1_: Cultura"
      ]
    },
    {
      "cell_type": "code",
      "metadata": {
        "id": "XodY2Yi_D6ds"
      },
      "source": [
        "# Se importan las librerías para el análisis de datos\n",
        "import pandas as pd\n",
        "import numpy as np\n",
        "import matplotlib.pyplot as plt\n",
        "import seaborn as sns\n",
        "\n",
        "# Se define el estilo de las gráficas\n",
        "sns.set_context('talk')\n",
        "\n",
        "# Se define la paleta de colores de las gráficas\n",
        "colors = [\"#264653\", \"#2a9d8f\", \"#e9C46a\", \"#F4A261\", \"#E76F51\"]\n",
        "sns.set_palette(sns.color_palette(colors))"
      ],
      "execution_count": null,
      "outputs": []
    },
    {
      "cell_type": "markdown",
      "metadata": {
        "id": "58eN8HJuQJcA"
      },
      "source": [
        "## Lectura de datos e información general sobre el dataset"
      ]
    },
    {
      "cell_type": "code",
      "metadata": {
        "id": "fIX-SVEgEM-d"
      },
      "source": [
        "# Se lee el archivo\n",
        "df = pd.read_excel(\"pps-a-2021.xlsx\", sheet_name=\"pps-aprobado-2021\")"
      ],
      "execution_count": null,
      "outputs": []
    },
    {
      "cell_type": "code",
      "metadata": {
        "colab": {
          "base_uri": "https://localhost:8080/"
        },
        "id": "grzJXLLZHzQM",
        "outputId": "3eea364e-d3f6-458e-b593-23f357717b85"
      },
      "source": [
        "# Número de programas presupuestarios distintos\n",
        "len(df[\"id_programa_presupuestario\"].unique())"
      ],
      "execution_count": null,
      "outputs": [
        {
          "output_type": "execute_result",
          "data": {
            "text/plain": [
              "81"
            ]
          },
          "metadata": {},
          "execution_count": 53
        }
      ]
    },
    {
      "cell_type": "code",
      "metadata": {
        "colab": {
          "base_uri": "https://localhost:8080/"
        },
        "id": "ZysRc0H7JbD3",
        "outputId": "8189386c-f511-4d51-bc65-86b29f53abd4"
      },
      "source": [
        "# Programas presupuetarios por eje\n",
        "print(df.groupby(\"descripcion_eje\")[\"id_programa_presupuestario\"].unique())"
      ],
      "execution_count": null,
      "outputs": [
        {
          "output_type": "stream",
          "name": "stdout",
          "text": [
            "descripcion_eje\n",
            "Desarrollo humano y social                                              [S019, E010, S003, E009, E048, E054, E061, S006, E012, E019, E064, E014, E045, E007, S008]\n",
            "Desarrollo ordenado y sostenible                                              [P003, P010, K004, E021, E051, K003, K006, E026, E041, G001, E004, P006, G006, E042]\n",
            "Economía para todos                                                                                               [S011, S021, S022, K005, S018, S010, E027, E020]\n",
            "Educación de calidad                                                                      [E018, E024, E057, P004, E062, E038, E005, P005, E017, E047, E003, E028]\n",
            "Gobierno humano y eficaz            [R007, E006, P011, P012, P018, R006, E002, R005, R008, M003, M004, M001, O006, E060, S016, E036, O005, E039, E063, R009, P001]\n",
            "Seguridad y paz social                                                                          [E037, E015, E053, E032, G005, P014, E008, E031, E044, E050, E016]\n",
            "Name: id_programa_presupuestario, dtype: object\n"
          ]
        }
      ]
    },
    {
      "cell_type": "code",
      "metadata": {
        "id": "TblXXOPoErvF"
      },
      "source": [
        "# Se filtran sólo los programas presupuestarios de cultura\n",
        "df_cultura = df[df[\"id_programa_presupuestario\"]==\"E003\"]"
      ],
      "execution_count": null,
      "outputs": []
    },
    {
      "cell_type": "code",
      "metadata": {
        "id": "jhVICzOGI1gP",
        "colab": {
          "base_uri": "https://localhost:8080/"
        },
        "outputId": "540c4aef-3345-406a-9fc5-6370858aa41d"
      },
      "source": [
        "# Las dependencias\n",
        "dependencias = df_cultura[\"descripcion_division\"].unique()\n",
        "dependencias"
      ],
      "execution_count": null,
      "outputs": [
        {
          "output_type": "execute_result",
          "data": {
            "text/plain": [
              "array(['Museo Iconográfico del Quijote',\n",
              "       'Instituto Estatal de la Cultura del Estado de Guanajuato',\n",
              "       'Fórum Cultural Guanajuato'], dtype=object)"
            ]
          },
          "metadata": {},
          "execution_count": 56
        }
      ]
    },
    {
      "cell_type": "code",
      "metadata": {
        "id": "Gyl4KowCIUUw",
        "colab": {
          "base_uri": "https://localhost:8080/"
        },
        "outputId": "3c68bd69-010f-4470-907a-a00db0a599ad"
      },
      "source": [
        "# El total del presupuesto aprobado\n",
        "df_cultura[\"aprobado\"].sum()"
      ],
      "execution_count": null,
      "outputs": [
        {
          "output_type": "execute_result",
          "data": {
            "text/plain": [
              "238078375.91"
            ]
          },
          "metadata": {},
          "execution_count": 57
        }
      ]
    },
    {
      "cell_type": "code",
      "metadata": {
        "id": "jJqUtDToKgwm",
        "colab": {
          "base_uri": "https://localhost:8080/"
        },
        "outputId": "4779bd85-61e1-461b-db35-7e3e079faef6"
      },
      "source": [
        "# Para comparar, el presupuesto total aprobado para 2021\n",
        "df[\"aprobado\"].sum()"
      ],
      "execution_count": null,
      "outputs": [
        {
          "output_type": "execute_result",
          "data": {
            "text/plain": [
              "55628313128.98"
            ]
          },
          "metadata": {},
          "execution_count": 58
        }
      ]
    },
    {
      "cell_type": "code",
      "metadata": {
        "id": "nXDhj-1eKoJy",
        "colab": {
          "base_uri": "https://localhost:8080/"
        },
        "outputId": "7b43cca6-d91a-43ad-efe1-de8d6ac6910b"
      },
      "source": [
        "# El porcentaje de todo el plan presupuestario del 2021 destinado a cultura\n",
        "100*df_cultura[\"aprobado\"].sum()/df[\"aprobado\"].sum()"
      ],
      "execution_count": null,
      "outputs": [
        {
          "output_type": "execute_result",
          "data": {
            "text/plain": [
              "0.42798057772845033"
            ]
          },
          "metadata": {},
          "execution_count": 59
        }
      ]
    },
    {
      "cell_type": "code",
      "metadata": {
        "id": "GjhdKcPhE9FD",
        "colab": {
          "base_uri": "https://localhost:8080/"
        },
        "outputId": "af0b6749-ae24-48e0-db76-e5a470141b7a"
      },
      "source": [
        "# La orientación del programa\n",
        "df_cultura[\"descripcion_modalidad\"].unique()"
      ],
      "execution_count": null,
      "outputs": [
        {
          "output_type": "execute_result",
          "data": {
            "text/plain": [
              "array(['Prestación de Servicios Públicos'], dtype=object)"
            ]
          },
          "metadata": {},
          "execution_count": 60
        }
      ]
    },
    {
      "cell_type": "markdown",
      "metadata": {
        "id": "rGBEFDxhQPIb"
      },
      "source": [
        "## Presupuesto por dependencia"
      ]
    },
    {
      "cell_type": "code",
      "metadata": {
        "colab": {
          "base_uri": "https://localhost:8080/"
        },
        "id": "y8Q56LpxRkmW",
        "outputId": "023b99bb-c9e1-42c0-f0de-c61fb915daaa"
      },
      "source": [
        "# Número de proyectos culturales\n",
        "len(df_cultura)"
      ],
      "execution_count": null,
      "outputs": [
        {
          "output_type": "execute_result",
          "data": {
            "text/plain": [
              "31"
            ]
          },
          "metadata": {},
          "execution_count": 62
        }
      ]
    },
    {
      "cell_type": "code",
      "metadata": {
        "id": "9LupfEKlGcC2",
        "colab": {
          "base_uri": "https://localhost:8080/"
        },
        "outputId": "0dad191e-f1e0-46b4-8ee0-1bddd227396b"
      },
      "source": [
        "# Vemos que los centros gestores y las dependencias son los mismos\n",
        "df_cultura[\"descripcion_centro gestor\"].unique()"
      ],
      "execution_count": null,
      "outputs": [
        {
          "output_type": "execute_result",
          "data": {
            "text/plain": [
              "array(['Museo Iconográfico del Quijote',\n",
              "       'Instituto Estatal de la Cultura del Estado de Guanajuato',\n",
              "       'Fórum Cultural Guanajuato'], dtype=object)"
            ]
          },
          "metadata": {},
          "execution_count": 63
        }
      ]
    },
    {
      "cell_type": "code",
      "metadata": {
        "id": "k6U-mdI5KsTW",
        "colab": {
          "base_uri": "https://localhost:8080/",
          "height": 173
        },
        "outputId": "1e27a115-68d4-4937-f86c-e7bd4c435c74"
      },
      "source": [
        "# El presupuesto por dependencia\n",
        "presupuesto_por_dependencia = df_cultura[[\"descripcion_division\",\n",
        "                                          \"aprobado\"]].groupby(\"descripcion_division\").sum().sort_values(\"aprobado\",\n",
        "                                                                                                         ascending=False)\n",
        "presupuesto_por_dependencia"
      ],
      "execution_count": null,
      "outputs": [
        {
          "output_type": "execute_result",
          "data": {
            "text/html": [
              "<div>\n",
              "<style scoped>\n",
              "    .dataframe tbody tr th:only-of-type {\n",
              "        vertical-align: middle;\n",
              "    }\n",
              "\n",
              "    .dataframe tbody tr th {\n",
              "        vertical-align: top;\n",
              "    }\n",
              "\n",
              "    .dataframe thead th {\n",
              "        text-align: right;\n",
              "    }\n",
              "</style>\n",
              "<table border=\"1\" class=\"dataframe\">\n",
              "  <thead>\n",
              "    <tr style=\"text-align: right;\">\n",
              "      <th></th>\n",
              "      <th>aprobado</th>\n",
              "    </tr>\n",
              "    <tr>\n",
              "      <th>descripcion_division</th>\n",
              "      <th></th>\n",
              "    </tr>\n",
              "  </thead>\n",
              "  <tbody>\n",
              "    <tr>\n",
              "      <th>Instituto Estatal de la Cultura del Estado de Guanajuato</th>\n",
              "      <td>1.535750e+08</td>\n",
              "    </tr>\n",
              "    <tr>\n",
              "      <th>Fórum Cultural Guanajuato</th>\n",
              "      <td>7.546093e+07</td>\n",
              "    </tr>\n",
              "    <tr>\n",
              "      <th>Museo Iconográfico del Quijote</th>\n",
              "      <td>9.042421e+06</td>\n",
              "    </tr>\n",
              "  </tbody>\n",
              "</table>\n",
              "</div>"
            ],
            "text/plain": [
              "                                                              aprobado\n",
              "descripcion_division                                                  \n",
              "Instituto Estatal de la Cultura del Estado de Guanajuato  1.535750e+08\n",
              "Fórum Cultural Guanajuato                                 7.546093e+07\n",
              "Museo Iconográfico del Quijote                            9.042421e+06"
            ]
          },
          "metadata": {},
          "execution_count": 64
        }
      ]
    },
    {
      "cell_type": "code",
      "metadata": {
        "id": "Y7-o5sA-Lewt",
        "colab": {
          "base_uri": "https://localhost:8080/",
          "height": 478
        },
        "outputId": "26cb7ac6-eba8-4bca-b6c8-2a12bb58fe59"
      },
      "source": [
        "# Gráfica del presupuesto por dependencia\n",
        "plt.figure(figsize=(10, 6.5))\n",
        "\n",
        "sns.barplot(x=presupuesto_por_dependencia[\"aprobado\"]/1_000_000,\n",
        "            y=list(map(lambda x: x[:31], presupuesto_por_dependencia.index))); # Para que no salgan nombres muy largos\n",
        "\n",
        "plt.title(\"Presupuesto aprobado en programas de cultura en 2021\\npor dependencia de destino\")\n",
        "plt.ylabel(\"\", size=12)\n",
        "plt.xlabel(\"Presupuesto aprobado (mdp)\")\n",
        "\n",
        "plt.show()"
      ],
      "execution_count": null,
      "outputs": [
        {
          "output_type": "display_data",
          "data": {
            "image/png": "[encoded data removed]",
            "text/plain": [
              "<Figure size 720x468 with 1 Axes>"
            ]
          },
          "metadata": {}
        }
      ]
    },
    {
      "cell_type": "markdown",
      "metadata": {
        "id": "jdZuVGRdQhwf"
      },
      "source": [
        "## Presupuesto por descripción del programa"
      ]
    },
    {
      "cell_type": "code",
      "metadata": {
        "id": "h2URSj2YXYx1",
        "colab": {
          "base_uri": "https://localhost:8080/"
        },
        "outputId": "d9807f03-71dd-4496-c9e6-dd3b55aa33fd"
      },
      "source": [
        "# El presupuesto dedicado a museos, teatros, bibliotecas y conservación de los mismos\n",
        "condicion_1 = df_cultura[\"descripcion__proceso_proyecto\"].str.contains(\"museo\", case=False)\n",
        "condicion_2 = df_cultura[\"descripcion__proceso_proyecto\"].str.contains(\"teatro\", case=False)\n",
        "condicion_3 = df_cultura[\"descripcion__proceso_proyecto\"].str.contains(\"biblio\", case=False)\n",
        "condicion_4 = df_cultura[\"descripcion__proceso_proyecto\"].str.contains(\"conser\", case=False)\n",
        "\n",
        "df_cultura[condicion_1 | condicion_2 | condicion_3 | condicion_4][\"aprobado\"].sum()"
      ],
      "execution_count": null,
      "outputs": [
        {
          "output_type": "execute_result",
          "data": {
            "text/plain": [
              "140724648.7"
            ]
          },
          "metadata": {},
          "execution_count": 66
        }
      ]
    },
    {
      "cell_type": "code",
      "metadata": {
        "id": "SERSEn6OQuWH",
        "colab": {
          "base_uri": "https://localhost:8080/"
        },
        "outputId": "58da6420-db32-49b1-f005-710f72d00177"
      },
      "source": [
        "# Para que las descripciones de abajo puedan mostrarse completas\n",
        "pd.options.display.max_colwidth = 200\n",
        "\n",
        "# El total de los proyectos junto con su descripción y su presupuesto\n",
        "for dependencia in dependencias:\n",
        "  print(f\"{dependencia.upper()}\\n\")\n",
        "  print(df_cultura[df[\"descripcion_division\"]==dependencia][[\"id_proceso_proyecto\",\n",
        "                                                             \"descripcion__proceso_proyecto\",\n",
        "                                                             \"aprobado\"]].sort_values(\"aprobado\",\n",
        "                                                                                      ascending=False).to_string(index=False,\n",
        "                                                                                                                 justify=\"right\").title())\n",
        "  print(\"\\n\\n\")"
      ],
      "execution_count": null,
      "outputs": [
        {
          "output_type": "stream",
          "name": "stdout",
          "text": [
            "MUSEO ICONOGRÁFICO DEL QUIJOTE\n",
            "\n",
            "Id_Proceso_Proyecto                                                       Descripcion__Proceso_Proyecto    Aprobado\n",
            "              P0413        Desarrollo Del Programa De Artes Visuales Del Museo Iconográfico Del Quijote  3654271.68\n",
            "              P0411                                           Desarrollo Del Programa Editorial Del Miq  2431655.19\n",
            "              P0412  Desarrollo De Eventos Artísticos Y Culturales En El Museo Iconográfico Del Quijote  2423053.78\n",
            "              P2835                                   Desarrollo De Actividades De Fomento A La Lectura   533440.00\n",
            "\n",
            "\n",
            "\n",
            "INSTITUTO ESTATAL DE LA CULTURA DEL ESTADO DE GUANAJUATO\n",
            "\n",
            "Id_Proceso_Proyecto                                                                   Descripcion__Proceso_Proyecto     Aprobado\n",
            "              P0433                                                        Operación De Los Museos Adscritos Al Iec  31959826.90\n",
            "              P2043                                                      Operación De La Biblioteca Central Estatal  19620726.27\n",
            "              P0428                                              Programación Artística En Los Municipios Acercarte  15779649.51\n",
            "              P0424                                                   Coordinación De Apoyos A Casas De La Cultura.  11823843.80\n",
            "              P0426                                         Coordinación Académica De Formación Artística No Formal  11162448.32\n",
            "              Q0021                                                                               Vientos Musicales  10000000.00\n",
            "              P0431                                            Administración Del Festival Internacional Cervantino   9418572.62\n",
            "              P0434                                                                            Operación De Teatros   8996105.54\n",
            "              P0435  Centros De Atención A Visitantes En Operación De Los Sitios Arqueológicos Abiertos Al Publico.   8368735.33\n",
            "              P0429                                     Publicación, Difusión Y Formación De Productos Editoriales.   5369803.43\n",
            "              P0436                                         Coordinación De La Red Estatal De Bibliotecas Públicas.   4834906.37\n",
            "              P0432                                                           Coordinación Del Programa De Lectura.   3626781.59\n",
            "              P0423                                        Conservación Y Difusión Del Patrimonio Cultural Tangible   2242625.47\n",
            "              P0425                                                                       Programa Cultura Migrante   1805176.00\n",
            "              P0437                                                    Vinculación Cultural Con El Sector Educativo   1282398.00\n",
            "              Q2970                                     Programa Estatal De Rehabilitación Y Conservación De Museos   1000000.00\n",
            "              Q0014       Preservación De Zonas Arqueológicas De Guanajuato, Sitio Arqueológico Cañada De La Virgen    900000.00\n",
            "              Q0015                 Preservación De Zonas Arqueológicas De Guanajuato, Sitio Arqueológico El Cóporo    900000.00\n",
            "              Q0016                        Preservación De Zonas Arqueológicas De Guanajuato, Cerro De Los Remedios    900000.00\n",
            "              Q0017                Preservación  De Zonas Arqueológicas De Guanajuato, Sitio Arqueológico Plazuelas    900000.00\n",
            "              Q0018                   Preservación De Zonas Arqueológicas De Guanajuato, Sitio Arqueológico Peralta    900000.00\n",
            "              Q0019                                     Preservación De Zonas Arqueológicas De Guanajuato, Victoria    900000.00\n",
            "              P0427                                                              Coordinación De Culturas Populares    883431.00\n",
            "\n",
            "\n",
            "\n",
            "FÓRUM CULTURAL GUANAJUATO\n",
            "\n",
            "Id_Proceso_Proyecto                                                                                                 Descripcion__Proceso_Proyecto     Aprobado\n",
            "              P0683                                                                                          Administración Y Operación Del Museo  33194311.73\n",
            "              P0684                                              Administración Y Operación Del Teatro Del Bicentenario Roberto Plasencia Saldaña  32798820.96\n",
            "              P0685                                                              Programa De Actividades Artísticas Del Forum Cultural Guanajuato   7529516.42\n",
            "              P2962  Administracion Y Operación De Estrategias De Comunicación Social Del Forum Cultural Guanajuato, En Beneficio De La Sociedad.   1938276.00\n",
            "\n",
            "\n",
            "\n"
          ]
        },
        {
          "output_type": "stream",
          "name": "stderr",
          "text": [
            "/usr/local/lib/python3.7/dist-packages/ipykernel_launcher.py:7: UserWarning: Boolean Series key will be reindexed to match DataFrame index.\n",
            "  import sys\n",
            "/usr/local/lib/python3.7/dist-packages/ipykernel_launcher.py:7: UserWarning: Boolean Series key will be reindexed to match DataFrame index.\n",
            "  import sys\n",
            "/usr/local/lib/python3.7/dist-packages/ipykernel_launcher.py:7: UserWarning: Boolean Series key will be reindexed to match DataFrame index.\n",
            "  import sys\n"
          ]
        }
      ]
    }
  ]
}