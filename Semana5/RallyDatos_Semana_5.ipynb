{
 "cells": [
  {
   "cell_type": "markdown",
   "source": "# Rally de Datos GTO\n## _Semana 5_: Educación",
   "metadata": {
    "tags": [],
    "cell_id": "00000-8abdc488-918d-4ef6-bd0d-ff01de3a6946",
    "deepnote_cell_type": "markdown"
   }
  },
  {
   "cell_type": "code",
   "metadata": {
    "tags": [],
    "cell_id": "00000-c937d51d-0128-4106-b21f-0e3780384ee9",
    "deepnote_to_be_reexecuted": false,
    "source_hash": "4c7ab18c",
    "execution_start": 1634263479256,
    "execution_millis": 2773,
    "deepnote_cell_type": "code"
   },
   "source": "# Se importan las librerías para el análisis de datos\nimport pandas as pd\nimport numpy as np\n\n# Librerías para graficar\nimport matplotlib.pyplot as plt\nimport seaborn as sns\nimport plotly\nimport plotly.express as px\nimport plotly.graph_objects as go\n\n# Para hacer lectura de archivos json\nfrom urllib.request import urlopen\nimport json\n\n# Para usar el algoritmo de clustering de k-means\nfrom sklearn.cluster import KMeans\n\n# Se define la paleta de colores de Dataket 8)\ncolors = [\"#264653\", \"#2a9d8f\", \"#e9C46a\", \"#F4A261\", \"#E76F51\"]",
   "outputs": [],
   "execution_count": null
  },
  {
   "cell_type": "markdown",
   "source": "## Lectura de Datasets",
   "metadata": {
    "tags": [],
    "cell_id": "00002-42c0e342-e983-4978-90b2-00bc519d3da0",
    "deepnote_cell_type": "markdown"
   }
  },
  {
   "cell_type": "code",
   "metadata": {
    "tags": [],
    "cell_id": "00004-f91ac262-8c88-4805-965e-152862438906",
    "deepnote_to_be_reexecuted": false,
    "source_hash": "566c4212",
    "execution_start": 1634263482029,
    "execution_millis": 336,
    "deepnote_cell_type": "code"
   },
   "source": "# Se define el url donde se encuentra el archivo (en el repositorio de Github)\nurl_inversion = \"https://github.com/GOLF-fisica/Dataket/raw/main/Semana5/Inversion_1T_Qs_por_municipio.csv\"\n\n# Se lee el archivo\ndf_inversion = pd.read_csv(url_inversion)\n\n# Se convierten los strings del monto a float\ndf_inversion[\"Monto\"] = df_inversion[\"Monto\"].str.replace(\",\", \"\").astype(float)",
   "outputs": [],
   "execution_count": null
  },
  {
   "cell_type": "code",
   "metadata": {
    "tags": [],
    "cell_id": "00004-167eea5d-67b4-4151-98bb-076e14a28189",
    "deepnote_to_be_reexecuted": false,
    "source_hash": "c06c0fbd",
    "execution_start": 1634263482366,
    "execution_millis": 310,
    "deepnote_cell_type": "code"
   },
   "source": "# El dataset que conecta ODS con Pps\nurl_pp = \"https://github.com/GOLF-fisica/Dataket/raw/main/Semana5/alineacion_pp_ods.csv\"\n\ndf_pp = pd.read_csv(url_pp, encoding=\"latin\") # El encoding se escoje para que lea las letras con acento",
   "outputs": [],
   "execution_count": null
  },
  {
   "cell_type": "code",
   "metadata": {
    "tags": [],
    "cell_id": "00005-0ab01e2c-263a-4ec5-a15f-9573b286802b",
    "deepnote_to_be_reexecuted": false,
    "source_hash": "a636cb3",
    "execution_start": 1634263482676,
    "execution_millis": 316,
    "deepnote_cell_type": "code"
   },
   "source": "# El dataset que conecta ODS con PEDs\nurl_ped = \"https://github.com/GOLF-fisica/Dataket/raw/main/Semana5/alineacion_ped_ods.csv\"\n\ndf_ped = pd.read_csv(url_ped, encoding=\"latin\") # El encoding se escoje para que lea las letras con acento",
   "outputs": [],
   "execution_count": null
  },
  {
   "cell_type": "code",
   "metadata": {
    "tags": [],
    "cell_id": "00006-8efa74b3-1559-49d4-a4d9-331f0c413dd5",
    "deepnote_to_be_reexecuted": false,
    "source_hash": "a4da62d1",
    "execution_start": 1634263482993,
    "execution_millis": 107,
    "deepnote_cell_type": "code"
   },
   "source": "# El dataset propio de la ubicación y población de los municipios de Guanajuato\nurl_gto = \"https://raw.githubusercontent.com/GOLF-fisica/Dataket/main/Semana5/gto_poblacion_ubicacion.csv\"\n\ndf_gto = pd.read_csv(url_gto)",
   "outputs": [],
   "execution_count": null
  },
  {
   "cell_type": "code",
   "metadata": {
    "tags": [],
    "cell_id": "00007-dffde02e-de69-498a-aee2-b74022b74004",
    "deepnote_to_be_reexecuted": false,
    "source_hash": "8a41127e",
    "execution_start": 1634263483100,
    "execution_millis": 111,
    "deepnote_cell_type": "code"
   },
   "source": "# El dataset propio de la ubicación y población de los municipios de Guanajuato\nurl_escuela = \"https://raw.githubusercontent.com/GOLF-fisica/Dataket/main/Semana5/gto_matricula_analfabetismo.csv\"\n\ndf_escuela = pd.read_csv(url_escuela)",
   "outputs": [],
   "execution_count": null
  },
  {
   "cell_type": "markdown",
   "source": "## Alineación de los Pp's al ODS 4",
   "metadata": {
    "tags": [],
    "cell_id": "00007-3141865d-e2c2-417a-a0bc-b86ad395363d",
    "deepnote_cell_type": "markdown"
   }
  },
  {
   "cell_type": "code",
   "metadata": {
    "tags": [],
    "cell_id": "00008-ee4ed60d-4ff7-4c4c-b27f-ce92e838cca2",
    "deepnote_to_be_reexecuted": false,
    "source_hash": "20971c73",
    "execution_start": 1634263483212,
    "execution_millis": 18,
    "deepnote_cell_type": "code"
   },
   "source": "# Los Pp's asociados al ODS 4\ndf_pp_ods_4 = df_pp[df_pp[\"id_ods\"]==4]\npp_ods_4 = df_pp_ods_4[\"id_programa_presupuestario\"].unique()",
   "outputs": [],
   "execution_count": null
  },
  {
   "cell_type": "code",
   "metadata": {
    "tags": [],
    "cell_id": "00009-7de09d4a-eae8-4737-9c82-0a4d407a3788",
    "deepnote_to_be_reexecuted": false,
    "source_hash": "61a21d24",
    "execution_start": 1634263483238,
    "execution_millis": 59,
    "deepnote_cell_type": "code"
   },
   "source": "# Los Pp's e el ODS 4\npp_ods_4",
   "outputs": [
    {
     "output_type": "execute_result",
     "execution_count": 8,
     "data": {
      "text/plain": "array(['E038', 'P005', 'E057', 'E017', 'E010', 'E003', 'E061', 'E024',\n       'E018', 'E067', 'E008', 'E047', 'E066', 'P004', 'E028', 'E035',\n       'E068', 'E062', 'E040', 'E005'], dtype=object)"
     },
     "metadata": {}
    }
   ],
   "execution_count": null
  },
  {
   "cell_type": "code",
   "metadata": {
    "tags": [],
    "cell_id": "00010-9fb51f8d-a52d-4d46-8e33-aefce9e67125",
    "deepnote_to_be_reexecuted": false,
    "source_hash": "24cb071f",
    "execution_start": 1634263483349,
    "execution_millis": 27,
    "deepnote_cell_type": "code"
   },
   "source": "# Número de Pp's con el ODS 4\nlen(pp_ods_4)",
   "outputs": [
    {
     "output_type": "execute_result",
     "execution_count": 9,
     "data": {
      "text/plain": "20"
     },
     "metadata": {}
    }
   ],
   "execution_count": null
  },
  {
   "cell_type": "code",
   "metadata": {
    "tags": [],
    "cell_id": "00011-e8f11c68-f560-4aa8-b7b5-50547c934b97",
    "deepnote_to_be_reexecuted": false,
    "source_hash": "53923761",
    "execution_start": 1634263483366,
    "execution_millis": 213,
    "deepnote_cell_type": "code"
   },
   "source": "# Para una lectura sencilla del dataset del ODS 4\ndf_pp_ods_4",
   "outputs": [
    {
     "output_type": "execute_result",
     "execution_count": 10,
     "data": {
      "application/vnd.deepnote.dataframe.v2+json": {
       "row_count": 298,
       "column_count": 18,
       "columns": [
        {
         "name": "id_eje",
         "dtype": "int64",
         "stats": {
          "unique_count": 4,
          "nan_count": 0,
          "min": "1",
          "max": "7",
          "histogram": [
           {
            "bin_start": 1,
            "bin_end": 1.6,
            "count": 3
           },
           {
            "bin_start": 1.6,
            "bin_end": 2.2,
            "count": 6
           },
           {
            "bin_start": 2.2,
            "bin_end": 2.8,
            "count": 0
           },
           {
            "bin_start": 2.8,
            "bin_end": 3.4,
            "count": 273
           },
           {
            "bin_start": 3.4,
            "bin_end": 4,
            "count": 0
           },
           {
            "bin_start": 4,
            "bin_end": 4.6,
            "count": 0
           },
           {
            "bin_start": 4.6,
            "bin_end": 5.2,
            "count": 0
           },
           {
            "bin_start": 5.2,
            "bin_end": 5.8,
            "count": 0
           },
           {
            "bin_start": 5.8,
            "bin_end": 6.3999999999999995,
            "count": 0
           },
           {
            "bin_start": 6.3999999999999995,
            "bin_end": 7,
            "count": 16
           }
          ]
         }
        },
        {
         "name": "descripcion_eje",
         "dtype": "object",
         "stats": {
          "unique_count": 4,
          "nan_count": 0,
          "categories": [
           {
            "name": "Educación de Calidad",
            "count": 273
           },
           {
            "name": "Poderes y Autónomos",
            "count": 16
           },
           {
            "name": "2 others",
            "count": 9
           }
          ]
         }
        },
        {
         "name": "id_programa_presupuestario",
         "dtype": "object",
         "stats": {
          "unique_count": 20,
          "nan_count": 0,
          "categories": [
           {
            "name": "E038",
            "count": 79
           },
           {
            "name": "P005",
            "count": 69
           },
           {
            "name": "18 others",
            "count": 150
           }
          ]
         }
        },
        {
         "name": "descripcion_programa_presupuestario",
         "dtype": "object",
         "stats": {
          "unique_count": 20,
          "nan_count": 0,
          "categories": [
           {
            "name": "Competencias para el trabajo",
            "count": 79
           },
           {
            "name": "Gestión de centros escolares de Educación Media Superior y Superior",
            "count": 69
           },
           {
            "name": "18 others",
            "count": 150
           }
          ]
         }
        },
        {
         "name": "id_componente",
         "dtype": "object",
         "stats": {
          "unique_count": 298,
          "nan_count": 0,
          "categories": [
           {
            "name": "E038.C36",
            "count": 1
           },
           {
            "name": "E038.C92",
            "count": 1
           },
           {
            "name": "296 others",
            "count": 296
           }
          ]
         }
        },
        {
         "name": "descripcion_componente",
         "dtype": "object",
         "stats": {
          "unique_count": 298,
          "nan_count": 0,
          "categories": [
           {
            "name": "A. IEMS (Instituciones de educación Media Superior) con vinculación con el entorno operando. (SEG)",
            "count": 1
           },
           {
            "name": "A. IES (Instituciones de educación Superior) con vinculación con el entorno operando. SEG",
            "count": 1
           },
           {
            "name": "296 others",
            "count": 296
           }
          ]
         }
        },
        {
         "name": "id_siglas",
         "dtype": "object",
         "stats": {
          "unique_count": 34,
          "nan_count": 0,
          "categories": [
           {
            "name": "SEG",
            "count": 38
           },
           {
            "name": "UG",
            "count": 16
           },
           {
            "name": "32 others",
            "count": 244
           }
          ]
         }
        },
        {
         "name": "descripcion_siglas",
         "dtype": "object",
         "stats": {
          "unique_count": 34,
          "nan_count": 0,
          "categories": [
           {
            "name": "Secretaría de Educación",
            "count": 38
           },
           {
            "name": "Universidad de Guanajuato",
            "count": 16
           },
           {
            "name": "32 others",
            "count": 244
           }
          ]
         }
        },
        {
         "name": "id_ods",
         "dtype": "int64",
         "stats": {
          "unique_count": 1,
          "nan_count": 0,
          "min": "4",
          "max": "4",
          "histogram": [
           {
            "bin_start": 3.5,
            "bin_end": 3.6,
            "count": 0
           },
           {
            "bin_start": 3.6,
            "bin_end": 3.7,
            "count": 0
           },
           {
            "bin_start": 3.7,
            "bin_end": 3.8,
            "count": 0
           },
           {
            "bin_start": 3.8,
            "bin_end": 3.9,
            "count": 0
           },
           {
            "bin_start": 3.9,
            "bin_end": 4,
            "count": 0
           },
           {
            "bin_start": 4,
            "bin_end": 4.1,
            "count": 298
           },
           {
            "bin_start": 4.1,
            "bin_end": 4.2,
            "count": 0
           },
           {
            "bin_start": 4.2,
            "bin_end": 4.3,
            "count": 0
           },
           {
            "bin_start": 4.3,
            "bin_end": 4.4,
            "count": 0
           },
           {
            "bin_start": 4.4,
            "bin_end": 4.5,
            "count": 0
           }
          ]
         }
        },
        {
         "name": "descripcion_ods",
         "dtype": "object",
         "stats": {
          "unique_count": 1,
          "nan_count": 0,
          "categories": [
           {
            "name": "Objetivo 4: Garantizar una educación inclusiva, equitativa y de calidad y promover oportunidades de aprendizaje durante toda la vida para todos",
            "count": 298
           }
          ]
         }
        },
        {
         "name": "id_meta",
         "dtype": "object",
         "stats": {
          "unique_count": 9,
          "nan_count": 0,
          "categories": [
           {
            "name": "4.4",
            "count": 83
           },
           {
            "name": "4.3",
            "count": 72
           },
           {
            "name": "7 others",
            "count": 143
           }
          ]
         }
        },
        {
         "name": "descripcion_meta",
         "dtype": "object",
         "stats": {
          "unique_count": 9,
          "nan_count": 0,
          "categories": [
           {
            "name": "4.4 Aumentar el número de jóvenes y adultos que tienen las competencias necesarias, en particular técnicas y profesionales, para acceder al empleo, el trabajo decente y el emprendimiento.",
            "count": 83
           },
           {
            "name": "4.3 Asegurar el acceso en condiciones de igualdad para todos los hombres y las mujeres a formación técnica, profesional y superior de calidad, incluida la enseñanza universitaria.",
            "count": 72
           },
           {
            "name": "7 others",
            "count": 143
           }
          ]
         }
        },
        {
         "name": "id_tema_general",
         "dtype": "int64",
         "stats": {
          "unique_count": 1,
          "nan_count": 0,
          "min": "1",
          "max": "1",
          "histogram": [
           {
            "bin_start": 0.5,
            "bin_end": 0.6,
            "count": 0
           },
           {
            "bin_start": 0.6,
            "bin_end": 0.7,
            "count": 0
           },
           {
            "bin_start": 0.7,
            "bin_end": 0.8,
            "count": 0
           },
           {
            "bin_start": 0.8,
            "bin_end": 0.9,
            "count": 0
           },
           {
            "bin_start": 0.9,
            "bin_end": 1,
            "count": 0
           },
           {
            "bin_start": 1,
            "bin_end": 1.1,
            "count": 298
           },
           {
            "bin_start": 1.1,
            "bin_end": 1.2000000000000002,
            "count": 0
           },
           {
            "bin_start": 1.2000000000000002,
            "bin_end": 1.3,
            "count": 0
           },
           {
            "bin_start": 1.3,
            "bin_end": 1.4,
            "count": 0
           },
           {
            "bin_start": 1.4,
            "bin_end": 1.5,
            "count": 0
           }
          ]
         }
        },
        {
         "name": "descripcion_tema_general",
         "dtype": "object",
         "stats": {
          "unique_count": 1,
          "nan_count": 0,
          "categories": [
           {
            "name": "Educación",
            "count": 298
           }
          ]
         }
        },
        {
         "name": "id_tema_objetivo",
         "dtype": "float64",
         "stats": {
          "unique_count": 1,
          "nan_count": 0,
          "min": "1.1",
          "max": "1.1",
          "histogram": [
           {
            "bin_start": 0.6000000000000001,
            "bin_end": 0.7000000000000001,
            "count": 0
           },
           {
            "bin_start": 0.7000000000000001,
            "bin_end": 0.8,
            "count": 0
           },
           {
            "bin_start": 0.8,
            "bin_end": 0.9000000000000001,
            "count": 0
           },
           {
            "bin_start": 0.9000000000000001,
            "bin_end": 1,
            "count": 0
           },
           {
            "bin_start": 1,
            "bin_end": 1.1,
            "count": 0
           },
           {
            "bin_start": 1.1,
            "bin_end": 1.2000000000000002,
            "count": 298
           },
           {
            "bin_start": 1.2000000000000002,
            "bin_end": 1.3000000000000003,
            "count": 0
           },
           {
            "bin_start": 1.3000000000000003,
            "bin_end": 1.4000000000000001,
            "count": 0
           },
           {
            "bin_start": 1.4000000000000001,
            "bin_end": 1.5,
            "count": 0
           },
           {
            "bin_start": 1.5,
            "bin_end": 1.6,
            "count": 0
           }
          ]
         }
        },
        {
         "name": "descripcion_tema_objetivo",
         "dtype": "object",
         "stats": {
          "unique_count": 1,
          "nan_count": 0,
          "categories": [
           {
            "name": "Educación",
            "count": 298
           }
          ]
         }
        },
        {
         "name": "id_meta_rubro_propuesta",
         "dtype": "object",
         "stats": {
          "unique_count": 1,
          "nan_count": 0,
          "categories": [
           {
            "name": "1.1.1",
            "count": 298
           }
          ]
         }
        },
        {
         "name": "descripcion_meta_rubro_propuesta",
         "dtype": "object",
         "stats": {
          "unique_count": 1,
          "nan_count": 0,
          "categories": [
           {
            "name": "Educación",
            "count": 298
           }
          ]
         }
        },
        {
         "name": "_deepnote_index_column",
         "dtype": "int64"
        }
       ],
       "rows_top": [
        {
         "id_eje": 3,
         "descripcion_eje": "Educación de Calidad",
         "id_programa_presupuestario": "E038",
         "descripcion_programa_presupuestario": "Competencias para el trabajo",
         "id_componente": "E038.C36",
         "descripcion_componente": "A. IEMS (Instituciones de educación Media Superior) con vinculación con el entorno operando. (SEG)",
         "id_siglas": "SEG",
         "descripcion_siglas": "Secretaría de Educación",
         "id_ods": 4,
         "descripcion_ods": "Objetivo 4: Garantizar una educación inclusiva, equitativa y de calidad y promover oportunidades de…",
         "id_meta": "4.4",
         "descripcion_meta": "4.4 Aumentar el número de jóvenes y adultos que tienen las competencias necesarias, en particular t…",
         "id_tema_general": 1,
         "descripcion_tema_general": "Educación",
         "id_tema_objetivo": 1.1,
         "descripcion_tema_objetivo": "Educación",
         "id_meta_rubro_propuesta": "1.1.1",
         "descripcion_meta_rubro_propuesta": "Educación",
         "_deepnote_index_column": 0
        },
        {
         "id_eje": 3,
         "descripcion_eje": "Educación de Calidad",
         "id_programa_presupuestario": "E038",
         "descripcion_programa_presupuestario": "Competencias para el trabajo",
         "id_componente": "E038.C92",
         "descripcion_componente": "A. IES (Instituciones de educación Superior) con vinculación con el entorno operando. SEG",
         "id_siglas": "SEG",
         "descripcion_siglas": "Secretaría de Educación",
         "id_ods": 4,
         "descripcion_ods": "Objetivo 4: Garantizar una educación inclusiva, equitativa y de calidad y promover oportunidades de…",
         "id_meta": "4.4",
         "descripcion_meta": "4.4 Aumentar el número de jóvenes y adultos que tienen las competencias necesarias, en particular t…",
         "id_tema_general": 1,
         "descripcion_tema_general": "Educación",
         "id_tema_objetivo": 1.1,
         "descripcion_tema_objetivo": "Educación",
         "id_meta_rubro_propuesta": "1.1.1",
         "descripcion_meta_rubro_propuesta": "Educación",
         "_deepnote_index_column": 1
        },
        {
         "id_eje": 3,
         "descripcion_eje": "Educación de Calidad",
         "id_programa_presupuestario": "P005",
         "descripcion_programa_presupuestario": "Gestión de centros escolares de Educación Media Superior y Superior",
         "id_componente": "P005.C29",
         "descripcion_componente": "A. Procesos de planeación y evaluación institucional actualizados y fortalecidos para la toma de de…",
         "id_siglas": "SEG",
         "descripcion_siglas": "Secretaría de Educación",
         "id_ods": 4,
         "descripcion_ods": "Objetivo 4: Garantizar una educación inclusiva, equitativa y de calidad y promover oportunidades de…",
         "id_meta": "4.3",
         "descripcion_meta": "4.3 Asegurar el acceso en condiciones de igualdad para todos los hombres y las mujeres a formación …",
         "id_tema_general": 1,
         "descripcion_tema_general": "Educación",
         "id_tema_objetivo": 1.1,
         "descripcion_tema_objetivo": "Educación",
         "id_meta_rubro_propuesta": "1.1.1",
         "descripcion_meta_rubro_propuesta": "Educación",
         "_deepnote_index_column": 2
        },
        {
         "id_eje": 3,
         "descripcion_eje": "Educación de Calidad",
         "id_programa_presupuestario": "E057",
         "descripcion_programa_presupuestario": "Trayectoria en Nivel Básico, Media Superior y Superior",
         "id_componente": "E057.C21",
         "descripcion_componente": "A. Registro de la trayectoria escolar de los alumnos realizada (SEG)",
         "id_siglas": "SEG",
         "descripcion_siglas": "Secretaría de Educación",
         "id_ods": 4,
         "descripcion_ods": "Objetivo 4: Garantizar una educación inclusiva, equitativa y de calidad y promover oportunidades de…",
         "id_meta": "4.1",
         "descripcion_meta": "4.1 Asegurar que todas las niñas y todos los niños terminen la enseñanza primaria y secundaria, que…",
         "id_tema_general": 1,
         "descripcion_tema_general": "Educación",
         "id_tema_objetivo": 1.1,
         "descripcion_tema_objetivo": "Educación",
         "id_meta_rubro_propuesta": "1.1.1",
         "descripcion_meta_rubro_propuesta": "Educación",
         "_deepnote_index_column": 11
        },
        {
         "id_eje": 3,
         "descripcion_eje": "Educación de Calidad",
         "id_programa_presupuestario": "E017",
         "descripcion_programa_presupuestario": "Cobertura de Educación Media Superior y Superior",
         "id_componente": "E017.C20",
         "descripcion_componente": "A. Servicios educativos incrementados en el nivel medio superior. SEG",
         "id_siglas": "SEG",
         "descripcion_siglas": "Secretaría de Educación",
         "id_ods": 4,
         "descripcion_ods": "Objetivo 4: Garantizar una educación inclusiva, equitativa y de calidad y promover oportunidades de…",
         "id_meta": "4.3",
         "descripcion_meta": "4.3 Asegurar el acceso en condiciones de igualdad para todos los hombres y las mujeres a formación …",
         "id_tema_general": 1,
         "descripcion_tema_general": "Educación",
         "id_tema_objetivo": 1.1,
         "descripcion_tema_objetivo": "Educación",
         "id_meta_rubro_propuesta": "1.1.1",
         "descripcion_meta_rubro_propuesta": "Educación",
         "_deepnote_index_column": 12
        },
        {
         "id_eje": 3,
         "descripcion_eje": "Educación de Calidad",
         "id_programa_presupuestario": "E017",
         "descripcion_programa_presupuestario": "Cobertura de Educación Media Superior y Superior",
         "id_componente": "E017.C46",
         "descripcion_componente": "A. Servicios educativos ofertados en el nivel superior. SEG",
         "id_siglas": "SEG",
         "descripcion_siglas": "Secretaría de Educación",
         "id_ods": 4,
         "descripcion_ods": "Objetivo 4: Garantizar una educación inclusiva, equitativa y de calidad y promover oportunidades de…",
         "id_meta": "4.3",
         "descripcion_meta": "4.3 Asegurar el acceso en condiciones de igualdad para todos los hombres y las mujeres a formación …",
         "id_tema_general": 1,
         "descripcion_tema_general": "Educación",
         "id_tema_objetivo": 1.1,
         "descripcion_tema_objetivo": "Educación",
         "id_meta_rubro_propuesta": "1.1.1",
         "descripcion_meta_rubro_propuesta": "Educación",
         "_deepnote_index_column": 13
        },
        {
         "id_eje": 3,
         "descripcion_eje": "Educación de Calidad",
         "id_programa_presupuestario": "E017",
         "descripcion_programa_presupuestario": "Cobertura de Educación Media Superior y Superior",
         "id_componente": "E017.C01",
         "descripcion_componente": "A. Servicios educativos ofertados. CECYTEG",
         "id_siglas": "CECYTEG",
         "descripcion_siglas": "Colegio de Estudios Científicos y Tecnológicos del Estado de Guanajuato",
         "id_ods": 4,
         "descripcion_ods": "Objetivo 4: Garantizar una educación inclusiva, equitativa y de calidad y promover oportunidades de…",
         "id_meta": "4.3",
         "descripcion_meta": "4.3 Asegurar el acceso en condiciones de igualdad para todos los hombres y las mujeres a formación …",
         "id_tema_general": 1,
         "descripcion_tema_general": "Educación",
         "id_tema_objetivo": 1.1,
         "descripcion_tema_objetivo": "Educación",
         "id_meta_rubro_propuesta": "1.1.1",
         "descripcion_meta_rubro_propuesta": "Educación",
         "_deepnote_index_column": 14
        },
        {
         "id_eje": 3,
         "descripcion_eje": "Educación de Calidad",
         "id_programa_presupuestario": "E017",
         "descripcion_programa_presupuestario": "Cobertura de Educación Media Superior y Superior",
         "id_componente": "E017.C03",
         "descripcion_componente": "A. Servicios educativos ofertados. CONALEP",
         "id_siglas": "CONALEP",
         "descripcion_siglas": "Colegio de Educación Profesional Técnica del Estado de Guanajuato",
         "id_ods": 4,
         "descripcion_ods": "Objetivo 4: Garantizar una educación inclusiva, equitativa y de calidad y promover oportunidades de…",
         "id_meta": "4.3",
         "descripcion_meta": "4.3 Asegurar el acceso en condiciones de igualdad para todos los hombres y las mujeres a formación …",
         "id_tema_general": 1,
         "descripcion_tema_general": "Educación",
         "id_tema_objetivo": 1.1,
         "descripcion_tema_objetivo": "Educación",
         "id_meta_rubro_propuesta": "1.1.1",
         "descripcion_meta_rubro_propuesta": "Educación",
         "_deepnote_index_column": 15
        },
        {
         "id_eje": 3,
         "descripcion_eje": "Educación de Calidad",
         "id_programa_presupuestario": "E017",
         "descripcion_programa_presupuestario": "Cobertura de Educación Media Superior y Superior",
         "id_componente": "E017.C05",
         "descripcion_componente": "A. Servicios educativos ofertados. EPRR",
         "id_siglas": "EPRR",
         "descripcion_siglas": "Escuela Preparatoria Regional del Rincón",
         "id_ods": 4,
         "descripcion_ods": "Objetivo 4: Garantizar una educación inclusiva, equitativa y de calidad y promover oportunidades de…",
         "id_meta": "4.3",
         "descripcion_meta": "4.3 Asegurar el acceso en condiciones de igualdad para todos los hombres y las mujeres a formación …",
         "id_tema_general": 1,
         "descripcion_tema_general": "Educación",
         "id_tema_objetivo": 1.1,
         "descripcion_tema_objetivo": "Educación",
         "id_meta_rubro_propuesta": "1.1.1",
         "descripcion_meta_rubro_propuesta": "Educación",
         "_deepnote_index_column": 16
        },
        {
         "id_eje": 3,
         "descripcion_eje": "Educación de Calidad",
         "id_programa_presupuestario": "E017",
         "descripcion_programa_presupuestario": "Cobertura de Educación Media Superior y Superior",
         "id_componente": "E017.C07",
         "descripcion_componente": "A. Servicios educativos ofertados. ITESA",
         "id_siglas": "ITESA",
         "descripcion_siglas": "Instituto Tecnológico Superior de Abasolo",
         "id_ods": 4,
         "descripcion_ods": "Objetivo 4: Garantizar una educación inclusiva, equitativa y de calidad y promover oportunidades de…",
         "id_meta": "4.3",
         "descripcion_meta": "4.3 Asegurar el acceso en condiciones de igualdad para todos los hombres y las mujeres a formación …",
         "id_tema_general": 1,
         "descripcion_tema_general": "Educación",
         "id_tema_objetivo": 1.1,
         "descripcion_tema_objetivo": "Educación",
         "id_meta_rubro_propuesta": "1.1.1",
         "descripcion_meta_rubro_propuesta": "Educación",
         "_deepnote_index_column": 17
        },
        {
         "id_eje": 3,
         "descripcion_eje": "Educación de Calidad",
         "id_programa_presupuestario": "E017",
         "descripcion_programa_presupuestario": "Cobertura de Educación Media Superior y Superior",
         "id_componente": "E017.C08",
         "descripcion_componente": "A. Servicios educativos ofertados. ITESG",
         "id_siglas": "ITESG",
         "descripcion_siglas": "Instituto Tecnológico Superior de Guanajuato",
         "id_ods": 4,
         "descripcion_ods": "Objetivo 4: Garantizar una educación inclusiva, equitativa y de calidad y promover oportunidades de…",
         "id_meta": "4.3",
         "descripcion_meta": "4.3 Asegurar el acceso en condiciones de igualdad para todos los hombres y las mujeres a formación …",
         "id_tema_general": 1,
         "descripcion_tema_general": "Educación",
         "id_tema_objetivo": 1.1,
         "descripcion_tema_objetivo": "Educación",
         "id_meta_rubro_propuesta": "1.1.1",
         "descripcion_meta_rubro_propuesta": "Educación",
         "_deepnote_index_column": 18
        },
        {
         "id_eje": 3,
         "descripcion_eje": "Educación de Calidad",
         "id_programa_presupuestario": "E017",
         "descripcion_programa_presupuestario": "Cobertura de Educación Media Superior y Superior",
         "id_componente": "E017.C10",
         "descripcion_componente": "A. Servicios educativos ofertados. ITESI",
         "id_siglas": "ITESI",
         "descripcion_siglas": "Instituto Tecnológico Superior de Irapuato",
         "id_ods": 4,
         "descripcion_ods": "Objetivo 4: Garantizar una educación inclusiva, equitativa y de calidad y promover oportunidades de…",
         "id_meta": "4.3",
         "descripcion_meta": "4.3 Asegurar el acceso en condiciones de igualdad para todos los hombres y las mujeres a formación …",
         "id_tema_general": 1,
         "descripcion_tema_general": "Educación",
         "id_tema_objetivo": 1.1,
         "descripcion_tema_objetivo": "Educación",
         "id_meta_rubro_propuesta": "1.1.1",
         "descripcion_meta_rubro_propuesta": "Educación",
         "_deepnote_index_column": 19
        },
        {
         "id_eje": 3,
         "descripcion_eje": "Educación de Calidad",
         "id_programa_presupuestario": "E017",
         "descripcion_programa_presupuestario": "Cobertura de Educación Media Superior y Superior",
         "id_componente": "E017.C14",
         "descripcion_componente": "A. Servicios educativos ofertados. ITESP",
         "id_siglas": "ITSPR",
         "descripcion_siglas": "Instituto Tecnológico Superior de Purísima del Rincón",
         "id_ods": 4,
         "descripcion_ods": "Objetivo 4: Garantizar una educación inclusiva, equitativa y de calidad y promover oportunidades de…",
         "id_meta": "4.3",
         "descripcion_meta": "4.3 Asegurar el acceso en condiciones de igualdad para todos los hombres y las mujeres a formación …",
         "id_tema_general": 1,
         "descripcion_tema_general": "Educación",
         "id_tema_objetivo": 1.1,
         "descripcion_tema_objetivo": "Educación",
         "id_meta_rubro_propuesta": "1.1.1",
         "descripcion_meta_rubro_propuesta": "Educación",
         "_deepnote_index_column": 20
        },
        {
         "id_eje": 3,
         "descripcion_eje": "Educación de Calidad",
         "id_programa_presupuestario": "E017",
         "descripcion_programa_presupuestario": "Cobertura de Educación Media Superior y Superior",
         "id_componente": "E017.C12",
         "descripcion_componente": "A. Servicios educativos ofertados. ITESS",
         "id_siglas": "ITESS",
         "descripcion_siglas": "Instituto Tecnológico Superior de Salvatierra",
         "id_ods": 4,
         "descripcion_ods": "Objetivo 4: Garantizar una educación inclusiva, equitativa y de calidad y promover oportunidades de…",
         "id_meta": "4.3",
         "descripcion_meta": "4.3 Asegurar el acceso en condiciones de igualdad para todos los hombres y las mujeres a formación …",
         "id_tema_general": 1,
         "descripcion_tema_general": "Educación",
         "id_tema_objetivo": 1.1,
         "descripcion_tema_objetivo": "Educación",
         "id_meta_rubro_propuesta": "1.1.1",
         "descripcion_meta_rubro_propuesta": "Educación",
         "_deepnote_index_column": 21
        },
        {
         "id_eje": 3,
         "descripcion_eje": "Educación de Calidad",
         "id_programa_presupuestario": "E017",
         "descripcion_programa_presupuestario": "Cobertura de Educación Media Superior y Superior",
         "id_componente": "E017.C16",
         "descripcion_componente": "A. Servicios educativos ofertados. ITSUR",
         "id_siglas": "ITSUR",
         "descripcion_siglas": "Instituto Tecnológico Superior del Sur de Guanajuato",
         "id_ods": 4,
         "descripcion_ods": "Objetivo 4: Garantizar una educación inclusiva, equitativa y de calidad y promover oportunidades de…",
         "id_meta": "4.3",
         "descripcion_meta": "4.3 Asegurar el acceso en condiciones de igualdad para todos los hombres y las mujeres a formación …",
         "id_tema_general": 1,
         "descripcion_tema_general": "Educación",
         "id_tema_objetivo": 1.1,
         "descripcion_tema_objetivo": "Educación",
         "id_meta_rubro_propuesta": "1.1.1",
         "descripcion_meta_rubro_propuesta": "Educación",
         "_deepnote_index_column": 22
        },
        {
         "id_eje": 3,
         "descripcion_eje": "Educación de Calidad",
         "id_programa_presupuestario": "E017",
         "descripcion_programa_presupuestario": "Cobertura de Educación Media Superior y Superior",
         "id_componente": "E017.C18",
         "descripcion_componente": "A. Servicios educativos ofertados. SABES",
         "id_siglas": "SABES",
         "descripcion_siglas": "Sistema Avanzado de Bachillerato y Educación Superior",
         "id_ods": 4,
         "descripcion_ods": "Objetivo 4: Garantizar una educación inclusiva, equitativa y de calidad y promover oportunidades de…",
         "id_meta": "4.3",
         "descripcion_meta": "4.3 Asegurar el acceso en condiciones de igualdad para todos los hombres y las mujeres a formación …",
         "id_tema_general": 1,
         "descripcion_tema_general": "Educación",
         "id_tema_objetivo": 1.1,
         "descripcion_tema_objetivo": "Educación",
         "id_meta_rubro_propuesta": "1.1.1",
         "descripcion_meta_rubro_propuesta": "Educación",
         "_deepnote_index_column": 23
        },
        {
         "id_eje": 3,
         "descripcion_eje": "Educación de Calidad",
         "id_programa_presupuestario": "E017",
         "descripcion_programa_presupuestario": "Cobertura de Educación Media Superior y Superior",
         "id_componente": "E017.C24",
         "descripcion_componente": "A. Servicios educativos ofertados. UPB",
         "id_siglas": "UPB",
         "descripcion_siglas": "Universidad Politécnica del Bicentenario",
         "id_ods": 4,
         "descripcion_ods": "Objetivo 4: Garantizar una educación inclusiva, equitativa y de calidad y promover oportunidades de…",
         "id_meta": "4.3",
         "descripcion_meta": "4.3 Asegurar el acceso en condiciones de igualdad para todos los hombres y las mujeres a formación …",
         "id_tema_general": 1,
         "descripcion_tema_general": "Educación",
         "id_tema_objetivo": 1.1,
         "descripcion_tema_objetivo": "Educación",
         "id_meta_rubro_propuesta": "1.1.1",
         "descripcion_meta_rubro_propuesta": "Educación",
         "_deepnote_index_column": 24
        },
        {
         "id_eje": 3,
         "descripcion_eje": "Educación de Calidad",
         "id_programa_presupuestario": "E017",
         "descripcion_programa_presupuestario": "Cobertura de Educación Media Superior y Superior",
         "id_componente": "E017.C26",
         "descripcion_componente": "A. Servicios educativos ofertados. UPGTO",
         "id_siglas": "UPGTO",
         "descripcion_siglas": "Universidad Politécnica de Guanajuato",
         "id_ods": 4,
         "descripcion_ods": "Objetivo 4: Garantizar una educación inclusiva, equitativa y de calidad y promover oportunidades de…",
         "id_meta": "4.3",
         "descripcion_meta": "4.3 Asegurar el acceso en condiciones de igualdad para todos los hombres y las mujeres a formación …",
         "id_tema_general": 1,
         "descripcion_tema_general": "Educación",
         "id_tema_objetivo": 1.1,
         "descripcion_tema_objetivo": "Educación",
         "id_meta_rubro_propuesta": "1.1.1",
         "descripcion_meta_rubro_propuesta": "Educación",
         "_deepnote_index_column": 25
        },
        {
         "id_eje": 3,
         "descripcion_eje": "Educación de Calidad",
         "id_programa_presupuestario": "E017",
         "descripcion_programa_presupuestario": "Cobertura de Educación Media Superior y Superior",
         "id_componente": "E017.C28",
         "descripcion_componente": "A. Servicios educativos ofertados. UPJR",
         "id_siglas": "UPJR",
         "descripcion_siglas": "Universidad Politécnica de Juventino Rosas",
         "id_ods": 4,
         "descripcion_ods": "Objetivo 4: Garantizar una educación inclusiva, equitativa y de calidad y promover oportunidades de…",
         "id_meta": "4.3",
         "descripcion_meta": "4.3 Asegurar el acceso en condiciones de igualdad para todos los hombres y las mujeres a formación …",
         "id_tema_general": 1,
         "descripcion_tema_general": "Educación",
         "id_tema_objetivo": 1.1,
         "descripcion_tema_objetivo": "Educación",
         "id_meta_rubro_propuesta": "1.1.1",
         "descripcion_meta_rubro_propuesta": "Educación",
         "_deepnote_index_column": 26
        },
        {
         "id_eje": 3,
         "descripcion_eje": "Educación de Calidad",
         "id_programa_presupuestario": "E017",
         "descripcion_programa_presupuestario": "Cobertura de Educación Media Superior y Superior",
         "id_componente": "E017.C30",
         "descripcion_componente": "A. Servicios educativos ofertados. UPPE",
         "id_siglas": "UPPE",
         "descripcion_siglas": "Universidad Politécnica de Pénjamo",
         "id_ods": 4,
         "descripcion_ods": "Objetivo 4: Garantizar una educación inclusiva, equitativa y de calidad y promover oportunidades de…",
         "id_meta": "4.3",
         "descripcion_meta": "4.3 Asegurar el acceso en condiciones de igualdad para todos los hombres y las mujeres a formación …",
         "id_tema_general": 1,
         "descripcion_tema_general": "Educación",
         "id_tema_objetivo": 1.1,
         "descripcion_tema_objetivo": "Educación",
         "id_meta_rubro_propuesta": "1.1.1",
         "descripcion_meta_rubro_propuesta": "Educación",
         "_deepnote_index_column": 27
        },
        {
         "id_eje": 3,
         "descripcion_eje": "Educación de Calidad",
         "id_programa_presupuestario": "E017",
         "descripcion_programa_presupuestario": "Cobertura de Educación Media Superior y Superior",
         "id_componente": "E017.C32",
         "descripcion_componente": "A. Servicios educativos ofertados. UTL",
         "id_siglas": "UTL",
         "descripcion_siglas": "Universidad Tecnológica de León",
         "id_ods": 4,
         "descripcion_ods": "Objetivo 4: Garantizar una educación inclusiva, equitativa y de calidad y promover oportunidades de…",
         "id_meta": "4.3",
         "descripcion_meta": "4.3 Asegurar el acceso en condiciones de igualdad para todos los hombres y las mujeres a formación …",
         "id_tema_general": 1,
         "descripcion_tema_general": "Educación",
         "id_tema_objetivo": 1.1,
         "descripcion_tema_objetivo": "Educación",
         "id_meta_rubro_propuesta": "1.1.1",
         "descripcion_meta_rubro_propuesta": "Educación",
         "_deepnote_index_column": 28
        },
        {
         "id_eje": 3,
         "descripcion_eje": "Educación de Calidad",
         "id_programa_presupuestario": "E017",
         "descripcion_programa_presupuestario": "Cobertura de Educación Media Superior y Superior",
         "id_componente": "E017.C34",
         "descripcion_componente": "A. Servicios educativos ofertados. UTLB",
         "id_siglas": "UTLB",
         "descripcion_siglas": "Universidad Tecnológica Laja Bajío",
         "id_ods": 4,
         "descripcion_ods": "Objetivo 4: Garantizar una educación inclusiva, equitativa y de calidad y promover oportunidades de…",
         "id_meta": "4.3",
         "descripcion_meta": "4.3 Asegurar el acceso en condiciones de igualdad para todos los hombres y las mujeres a formación …",
         "id_tema_general": 1,
         "descripcion_tema_general": "Educación",
         "id_tema_objetivo": 1.1,
         "descripcion_tema_objetivo": "Educación",
         "id_meta_rubro_propuesta": "1.1.1",
         "descripcion_meta_rubro_propuesta": "Educación",
         "_deepnote_index_column": 29
        },
        {
         "id_eje": 3,
         "descripcion_eje": "Educación de Calidad",
         "id_programa_presupuestario": "E017",
         "descripcion_programa_presupuestario": "Cobertura de Educación Media Superior y Superior",
         "id_componente": "E017.C36",
         "descripcion_componente": "A. Servicios educativos ofertados. UTNG",
         "id_siglas": "UTNG",
         "descripcion_siglas": "Universidad Tecnológica del Norte de Guanajuato",
         "id_ods": 4,
         "descripcion_ods": "Objetivo 4: Garantizar una educación inclusiva, equitativa y de calidad y promover oportunidades de…",
         "id_meta": "4.3",
         "descripcion_meta": "4.3 Asegurar el acceso en condiciones de igualdad para todos los hombres y las mujeres a formación …",
         "id_tema_general": 1,
         "descripcion_tema_general": "Educación",
         "id_tema_objetivo": 1.1,
         "descripcion_tema_objetivo": "Educación",
         "id_meta_rubro_propuesta": "1.1.1",
         "descripcion_meta_rubro_propuesta": "Educación",
         "_deepnote_index_column": 30
        },
        {
         "id_eje": 3,
         "descripcion_eje": "Educación de Calidad",
         "id_programa_presupuestario": "E017",
         "descripcion_programa_presupuestario": "Cobertura de Educación Media Superior y Superior",
         "id_componente": "E017.C38",
         "descripcion_componente": "A. Servicios educativos ofertados. UTS",
         "id_siglas": "UTS",
         "descripcion_siglas": "Universidad Tecnológica de Salamanca",
         "id_ods": 4,
         "descripcion_ods": "Objetivo 4: Garantizar una educación inclusiva, equitativa y de calidad y promover oportunidades de…",
         "id_meta": "4.3",
         "descripcion_meta": "4.3 Asegurar el acceso en condiciones de igualdad para todos los hombres y las mujeres a formación …",
         "id_tema_general": 1,
         "descripcion_tema_general": "Educación",
         "id_tema_objetivo": 1.1,
         "descripcion_tema_objetivo": "Educación",
         "id_meta_rubro_propuesta": "1.1.1",
         "descripcion_meta_rubro_propuesta": "Educación",
         "_deepnote_index_column": 31
        },
        {
         "id_eje": 3,
         "descripcion_eje": "Educación de Calidad",
         "id_programa_presupuestario": "E017",
         "descripcion_programa_presupuestario": "Cobertura de Educación Media Superior y Superior",
         "id_componente": "E017.C40",
         "descripcion_componente": "A. Servicios educativos ofertados. UTSMA",
         "id_siglas": "UTSMA",
         "descripcion_siglas": "Universidad Tecnológica de San Miguel de Allende",
         "id_ods": 4,
         "descripcion_ods": "Objetivo 4: Garantizar una educación inclusiva, equitativa y de calidad y promover oportunidades de…",
         "id_meta": "4.3",
         "descripcion_meta": "4.3 Asegurar el acceso en condiciones de igualdad para todos los hombres y las mujeres a formación …",
         "id_tema_general": 1,
         "descripcion_tema_general": "Educación",
         "id_tema_objetivo": 1.1,
         "descripcion_tema_objetivo": "Educación",
         "id_meta_rubro_propuesta": "1.1.1",
         "descripcion_meta_rubro_propuesta": "Educación",
         "_deepnote_index_column": 32
        },
        {
         "id_eje": 3,
         "descripcion_eje": "Educación de Calidad",
         "id_programa_presupuestario": "E017",
         "descripcion_programa_presupuestario": "Cobertura de Educación Media Superior y Superior",
         "id_componente": "E017.C42",
         "descripcion_componente": "A. Servicios educativos ofertados. UTSOE",
         "id_siglas": "UTSOE",
         "descripcion_siglas": "Universidad Tecnológica del Suroeste de Guanajuato",
         "id_ods": 4,
         "descripcion_ods": "Objetivo 4: Garantizar una educación inclusiva, equitativa y de calidad y promover oportunidades de…",
         "id_meta": "4.3",
         "descripcion_meta": "4.3 Asegurar el acceso en condiciones de igualdad para todos los hombres y las mujeres a formación …",
         "id_tema_general": 1,
         "descripcion_tema_general": "Educación",
         "id_tema_objetivo": 1.1,
         "descripcion_tema_objetivo": "Educación",
         "id_meta_rubro_propuesta": "1.1.1",
         "descripcion_meta_rubro_propuesta": "Educación",
         "_deepnote_index_column": 33
        },
        {
         "id_eje": 3,
         "descripcion_eje": "Educación de Calidad",
         "id_programa_presupuestario": "E017",
         "descripcion_programa_presupuestario": "Cobertura de Educación Media Superior y Superior",
         "id_componente": "E017.C44",
         "descripcion_componente": "A. Servicios educativos ofertados. UVEG",
         "id_siglas": "UVEG",
         "descripcion_siglas": "Universidad Virtual del Estado de Guanajuato",
         "id_ods": 4,
         "descripcion_ods": "Objetivo 4: Garantizar una educación inclusiva, equitativa y de calidad y promover oportunidades de…",
         "id_meta": "4.3",
         "descripcion_meta": "4.3 Asegurar el acceso en condiciones de igualdad para todos los hombres y las mujeres a formación …",
         "id_tema_general": 1,
         "descripcion_tema_general": "Educación",
         "id_tema_objetivo": 1.1,
         "descripcion_tema_objetivo": "Educación",
         "id_meta_rubro_propuesta": "1.1.1",
         "descripcion_meta_rubro_propuesta": "Educación",
         "_deepnote_index_column": 34
        }
       ],
       "rows_bottom": [
        {
         "id_eje": 3,
         "descripcion_eje": "Educación de Calidad",
         "id_programa_presupuestario": "P004",
         "descripcion_programa_presupuestario": "Gestión de centros escolares de Educación Básica",
         "id_componente": "P004.C02",
         "descripcion_componente": "Órganos formales de participación social fortalecidos para la mejora del logro educativo.",
         "id_siglas": "SEG",
         "descripcion_siglas": "Secretaría de Educación",
         "id_ods": 4,
         "descripcion_ods": "Objetivo 4: Garantizar una educación inclusiva, equitativa y de calidad y promover oportunidades de…",
         "id_meta": "4.1",
         "descripcion_meta": "4.1 Asegurar que todas las niñas y todos los niños terminen la enseñanza primaria y secundaria, que…",
         "id_tema_general": 1,
         "descripcion_tema_general": "Educación",
         "id_tema_objetivo": 1.1,
         "descripcion_tema_objetivo": "Educación",
         "id_meta_rubro_propuesta": "1.1.1",
         "descripcion_meta_rubro_propuesta": "Educación",
         "_deepnote_index_column": 463
        },
        {
         "id_eje": 3,
         "descripcion_eje": "Educación de Calidad",
         "id_programa_presupuestario": "E003",
         "descripcion_programa_presupuestario": "Actividades artísticas y culturales",
         "id_componente": "E003.C02",
         "descripcion_componente": "Presentaciones artísticas y culturales realizadas.",
         "id_siglas": "FORUM",
         "descripcion_siglas": "Fórum Cultural Guanajuato",
         "id_ods": 4,
         "descripcion_ods": "Objetivo 4: Garantizar una educación inclusiva, equitativa y de calidad y promover oportunidades de…",
         "id_meta": "4.7",
         "descripcion_meta": "4.7 Garantizar que todos los estudiantes adquieran los conocimientos teóricos y prácticos necesario…",
         "id_tema_general": 1,
         "descripcion_tema_general": "Educación",
         "id_tema_objetivo": 1.1,
         "descripcion_tema_objetivo": "Educación",
         "id_meta_rubro_propuesta": "1.1.1",
         "descripcion_meta_rubro_propuesta": "Educación",
         "_deepnote_index_column": 478
        },
        {
         "id_eje": 3,
         "descripcion_eje": "Educación de Calidad",
         "id_programa_presupuestario": "E062",
         "descripcion_programa_presupuestario": "Competencias en Educación Básica",
         "id_componente": "E062.C01",
         "descripcion_componente": "Programa de estudio de formación académica complementaria para el fortalecimiento de competencias d…",
         "id_siglas": "SEG",
         "descripcion_siglas": "Secretaría de Educación",
         "id_ods": 4,
         "descripcion_ods": "Objetivo 4: Garantizar una educación inclusiva, equitativa y de calidad y promover oportunidades de…",
         "id_meta": "4.1",
         "descripcion_meta": "4.1 Asegurar que todas las niñas y todos los niños terminen la enseñanza primaria y secundaria, que…",
         "id_tema_general": 1,
         "descripcion_tema_general": "Educación",
         "id_tema_objetivo": 1.1,
         "descripcion_tema_objetivo": "Educación",
         "id_meta_rubro_propuesta": "1.1.1",
         "descripcion_meta_rubro_propuesta": "Educación",
         "_deepnote_index_column": 488
        },
        {
         "id_eje": 3,
         "descripcion_eje": "Educación de Calidad",
         "id_programa_presupuestario": "E062",
         "descripcion_programa_presupuestario": "Competencias en Educación Básica",
         "id_componente": "E062.C04",
         "descripcion_componente": "Programa de estudio de formación complementaria para la enseñanza - aprendizaje de las ciencias nat…",
         "id_siglas": "SEG",
         "descripcion_siglas": "Secretaría de Educación",
         "id_ods": 4,
         "descripcion_ods": "Objetivo 4: Garantizar una educación inclusiva, equitativa y de calidad y promover oportunidades de…",
         "id_meta": "4.1",
         "descripcion_meta": "4.1 Asegurar que todas las niñas y todos los niños terminen la enseñanza primaria y secundaria, que…",
         "id_tema_general": 1,
         "descripcion_tema_general": "Educación",
         "id_tema_objetivo": 1.1,
         "descripcion_tema_objetivo": "Educación",
         "id_meta_rubro_propuesta": "1.1.1",
         "descripcion_meta_rubro_propuesta": "Educación",
         "_deepnote_index_column": 489
        },
        {
         "id_eje": 3,
         "descripcion_eje": "Educación de Calidad",
         "id_programa_presupuestario": "E062",
         "descripcion_programa_presupuestario": "Competencias en Educación Básica",
         "id_componente": "E062.C02",
         "descripcion_componente": "Programa de estudio de inglés para la enseñanza del idioma a alumnos de educación básica, implement…",
         "id_siglas": "SEG",
         "descripcion_siglas": "Secretaría de Educación",
         "id_ods": 4,
         "descripcion_ods": "Objetivo 4: Garantizar una educación inclusiva, equitativa y de calidad y promover oportunidades de…",
         "id_meta": "4.4",
         "descripcion_meta": "4.4 Aumentar el número de jóvenes y adultos que tienen las competencias necesarias, en particular t…",
         "id_tema_general": 1,
         "descripcion_tema_general": "Educación",
         "id_tema_objetivo": 1.1,
         "descripcion_tema_objetivo": "Educación",
         "id_meta_rubro_propuesta": "1.1.1",
         "descripcion_meta_rubro_propuesta": "Educación",
         "_deepnote_index_column": 490
        },
        {
         "id_eje": 3,
         "descripcion_eje": "Educación de Calidad",
         "id_programa_presupuestario": "E005",
         "descripcion_programa_presupuestario": "Promoción de la convivencia escolar pacífica",
         "id_componente": "E005.C02",
         "descripcion_componente": "Programa de formación de valores para docentes y educandos realizado.",
         "id_siglas": "SEG",
         "descripcion_siglas": "Secretaría de Educación",
         "id_ods": 4,
         "descripcion_ods": "Objetivo 4: Garantizar una educación inclusiva, equitativa y de calidad y promover oportunidades de…",
         "id_meta": "4.7",
         "descripcion_meta": "4.7 Garantizar que todos los estudiantes adquieran los conocimientos teóricos y prácticos necesario…",
         "id_tema_general": 1,
         "descripcion_tema_general": "Educación",
         "id_tema_objetivo": 1.1,
         "descripcion_tema_objetivo": "Educación",
         "id_meta_rubro_propuesta": "1.1.1",
         "descripcion_meta_rubro_propuesta": "Educación",
         "_deepnote_index_column": 491
        },
        {
         "id_eje": 3,
         "descripcion_eje": "Educación de Calidad",
         "id_programa_presupuestario": "E003",
         "descripcion_programa_presupuestario": "Actividades artísticas y culturales",
         "id_componente": "E003.C04",
         "descripcion_componente": "Programas culturales orientados a los migrantes y sus familias ejecutados.",
         "id_siglas": "IEC",
         "descripcion_siglas": "Instituto Estatal de la Cultura",
         "id_ods": 4,
         "descripcion_ods": "Objetivo 4: Garantizar una educación inclusiva, equitativa y de calidad y promover oportunidades de…",
         "id_meta": "4.7",
         "descripcion_meta": "4.7 Garantizar que todos los estudiantes adquieran los conocimientos teóricos y prácticos necesario…",
         "id_tema_general": 1,
         "descripcion_tema_general": "Educación",
         "id_tema_objetivo": 1.1,
         "descripcion_tema_objetivo": "Educación",
         "id_meta_rubro_propuesta": "1.1.1",
         "descripcion_meta_rubro_propuesta": "Educación",
         "_deepnote_index_column": 492
        },
        {
         "id_eje": 3,
         "descripcion_eje": "Educación de Calidad",
         "id_programa_presupuestario": "E024",
         "descripcion_programa_presupuestario": "Alianza a favor de la educación para adultos",
         "id_componente": "E024.C03",
         "descripcion_componente": "Programas de educación para niñas, niños, jóvenes y adultos ofertados a la población en rezago",
         "id_siglas": "INAEBA",
         "descripcion_siglas": "Instituto de Alfabetización y Educación Básica para Adultos",
         "id_ods": 4,
         "descripcion_ods": "Objetivo 4: Garantizar una educación inclusiva, equitativa y de calidad y promover oportunidades de…",
         "id_meta": "4.5",
         "descripcion_meta": "4.5 Eliminar las disparidades de género en la educación y garantizar el acceso igualitario de las p…",
         "id_tema_general": 1,
         "descripcion_tema_general": "Educación",
         "id_tema_objetivo": 1.1,
         "descripcion_tema_objetivo": "Educación",
         "id_meta_rubro_propuesta": "1.1.1",
         "descripcion_meta_rubro_propuesta": "Educación",
         "_deepnote_index_column": 494
        },
        {
         "id_eje": 7,
         "descripcion_eje": "Poderes y Autónomos",
         "id_programa_presupuestario": "E066",
         "descripcion_programa_presupuestario": "Cobertura Educativa de la Universidad de Guanajuato",
         "id_componente": "E066.C01",
         "descripcion_componente": "Programas Educativos que atienden las demandas de los sectores, con enfoque por competencias, de es…",
         "id_siglas": "UG",
         "descripcion_siglas": "Universidad de Guanajuato",
         "id_ods": 4,
         "descripcion_ods": "Objetivo 4: Garantizar una educación inclusiva, equitativa y de calidad y promover oportunidades de…",
         "id_meta": "4.3",
         "descripcion_meta": "4.3 Asegurar el acceso en condiciones de igualdad para todos los hombres y las mujeres a formación …",
         "id_tema_general": 1,
         "descripcion_tema_general": "Educación",
         "id_tema_objetivo": 1.1,
         "descripcion_tema_objetivo": "Educación",
         "id_meta_rubro_propuesta": "1.1.1",
         "descripcion_meta_rubro_propuesta": "Educación",
         "_deepnote_index_column": 496
        },
        {
         "id_eje": 3,
         "descripcion_eje": "Educación de Calidad",
         "id_programa_presupuestario": "E005",
         "descripcion_programa_presupuestario": "Promoción de la convivencia escolar pacífica",
         "id_componente": "E005.C04",
         "descripcion_componente": "Promoción de educación para la salud para la comunidad educativa realizado. (SEG)",
         "id_siglas": "SEG",
         "descripcion_siglas": "Secretaría de Educación",
         "id_ods": 4,
         "descripcion_ods": "Objetivo 4: Garantizar una educación inclusiva, equitativa y de calidad y promover oportunidades de…",
         "id_meta": "4.7",
         "descripcion_meta": "4.7 Garantizar que todos los estudiantes adquieran los conocimientos teóricos y prácticos necesario…",
         "id_tema_general": 1,
         "descripcion_tema_general": "Educación",
         "id_tema_objetivo": 1.1,
         "descripcion_tema_objetivo": "Educación",
         "id_meta_rubro_propuesta": "1.1.1",
         "descripcion_meta_rubro_propuesta": "Educación",
         "_deepnote_index_column": 498
        },
        {
         "id_eje": 3,
         "descripcion_eje": "Educación de Calidad",
         "id_programa_presupuestario": "E005",
         "descripcion_programa_presupuestario": "Promoción de la convivencia escolar pacífica",
         "id_componente": "E005.C03",
         "descripcion_componente": "Promoción y atención a la convivencia escolar pacífica realizada. (SEG)",
         "id_siglas": "SEG",
         "descripcion_siglas": "Secretaría de Educación",
         "id_ods": 4,
         "descripcion_ods": "Objetivo 4: Garantizar una educación inclusiva, equitativa y de calidad y promover oportunidades de…",
         "id_meta": "4.7",
         "descripcion_meta": "4.7 Garantizar que todos los estudiantes adquieran los conocimientos teóricos y prácticos necesario…",
         "id_tema_general": 1,
         "descripcion_tema_general": "Educación",
         "id_tema_objetivo": 1.1,
         "descripcion_tema_objetivo": "Educación",
         "id_meta_rubro_propuesta": "1.1.1",
         "descripcion_meta_rubro_propuesta": "Educación",
         "_deepnote_index_column": 500
        },
        {
         "id_eje": 2,
         "descripcion_eje": "Desarrollo Humano y Social",
         "id_programa_presupuestario": "E008",
         "descripcion_programa_presupuestario": "Atención integral a niñas, niños y adolescentes",
         "id_componente": "E008.C05",
         "descripcion_componente": "Resguardo y protección a niñas, niños y adolescentes, brindado.",
         "id_siglas": "DIF",
         "descripcion_siglas": "Sistema Estatal para el Desarrollo Integral de la Familia",
         "id_ods": 4,
         "descripcion_ods": "Objetivo 4: Garantizar una educación inclusiva, equitativa y de calidad y promover oportunidades de…",
         "id_meta": "4.5",
         "descripcion_meta": "4.5 Eliminar las disparidades de género en la educación y garantizar el acceso igualitario de las p…",
         "id_tema_general": 1,
         "descripcion_tema_general": "Educación",
         "id_tema_objetivo": 1.1,
         "descripcion_tema_objetivo": "Educación",
         "id_meta_rubro_propuesta": "1.1.1",
         "descripcion_meta_rubro_propuesta": "Educación",
         "_deepnote_index_column": 521
        },
        {
         "id_eje": 1,
         "descripcion_eje": "Seguridad y paz social",
         "id_programa_presupuestario": "E008",
         "descripcion_programa_presupuestario": "Atención integral a niñas, niños y adolescentes",
         "id_componente": "E008.C16",
         "descripcion_componente": "Restitución del derecho a vivir en familia. Resguardo y protección a niñas, niños y adolescentes, b…",
         "id_siglas": "PEPNNA",
         "descripcion_siglas": "Procuraduría Estatal de Protección De Niñas, Niños y Adolescentes",
         "id_ods": 4,
         "descripcion_ods": "Objetivo 4: Garantizar una educación inclusiva, equitativa y de calidad y promover oportunidades de…",
         "id_meta": "4.5",
         "descripcion_meta": "4.5 Eliminar las disparidades de género en la educación y garantizar el acceso igualitario de las p…",
         "id_tema_general": 1,
         "descripcion_tema_general": "Educación",
         "id_tema_objetivo": 1.1,
         "descripcion_tema_objetivo": "Educación",
         "id_meta_rubro_propuesta": "1.1.1",
         "descripcion_meta_rubro_propuesta": "Educación",
         "_deepnote_index_column": 524
        },
        {
         "id_eje": 3,
         "descripcion_eje": "Educación de Calidad",
         "id_programa_presupuestario": "P004",
         "descripcion_programa_presupuestario": "Gestión de centros escolares de Educación Básica",
         "id_componente": "P004.C04",
         "descripcion_componente": "Servicios de desarrollo del personal y de las estructuras de apoyo administrativo mejorados.",
         "id_siglas": "SEG",
         "descripcion_siglas": "Secretaría de Educación",
         "id_ods": 4,
         "descripcion_ods": "Objetivo 4: Garantizar una educación inclusiva, equitativa y de calidad y promover oportunidades de…",
         "id_meta": "4.c",
         "descripcion_meta": "4.c Aumentar considerablemente la oferta de maestros calificados, en particular mediante la coopera…",
         "id_tema_general": 1,
         "descripcion_tema_general": "Educación",
         "id_tema_objetivo": 1.1,
         "descripcion_tema_objetivo": "Educación",
         "id_meta_rubro_propuesta": "1.1.1",
         "descripcion_meta_rubro_propuesta": "Educación",
         "_deepnote_index_column": 536
        },
        {
         "id_eje": 7,
         "descripcion_eje": "Poderes y Autónomos",
         "id_programa_presupuestario": "E035",
         "descripcion_programa_presupuestario": "Extensión del conocimiento, arte y cultura",
         "id_componente": "E035.C05",
         "descripcion_componente": "Servicios de educación continua impartidos a la sociedad",
         "id_siglas": "UG",
         "descripcion_siglas": "Universidad de Guanajuato",
         "id_ods": 4,
         "descripcion_ods": "Objetivo 4: Garantizar una educación inclusiva, equitativa y de calidad y promover oportunidades de…",
         "id_meta": "4.7",
         "descripcion_meta": "4.7 Garantizar que todos los estudiantes adquieran los conocimientos teóricos y prácticos necesario…",
         "id_tema_general": 1,
         "descripcion_tema_general": "Educación",
         "id_tema_objetivo": 1.1,
         "descripcion_tema_objetivo": "Educación",
         "id_meta_rubro_propuesta": "1.1.1",
         "descripcion_meta_rubro_propuesta": "Educación",
         "_deepnote_index_column": 537
        },
        {
         "id_eje": 3,
         "descripcion_eje": "Educación de Calidad",
         "id_programa_presupuestario": "P004",
         "descripcion_programa_presupuestario": "Gestión de centros escolares de Educación Básica",
         "id_componente": "P004.C03",
         "descripcion_componente": "Servicios de formación continua y superación profesional de docentes y personal de apoyo, mejorados.",
         "id_siglas": "SEG",
         "descripcion_siglas": "Secretaría de Educación",
         "id_ods": 4,
         "descripcion_ods": "Objetivo 4: Garantizar una educación inclusiva, equitativa y de calidad y promover oportunidades de…",
         "id_meta": "4.c",
         "descripcion_meta": "4.c Aumentar considerablemente la oferta de maestros calificados, en particular mediante la coopera…",
         "id_tema_general": 1,
         "descripcion_tema_general": "Educación",
         "id_tema_objetivo": 1.1,
         "descripcion_tema_objetivo": "Educación",
         "id_meta_rubro_propuesta": "1.1.1",
         "descripcion_meta_rubro_propuesta": "Educación",
         "_deepnote_index_column": 538
        },
        {
         "id_eje": 3,
         "descripcion_eje": "Educación de Calidad",
         "id_programa_presupuestario": "P004",
         "descripcion_programa_presupuestario": "Gestión de centros escolares de Educación Básica",
         "id_componente": "P004.C05",
         "descripcion_componente": "Servicios de información y evaluación actualizados y mejorados para la toma de decisiones y mejora …",
         "id_siglas": "SEG",
         "descripcion_siglas": "Secretaría de Educación",
         "id_ods": 4,
         "descripcion_ods": "Objetivo 4: Garantizar una educación inclusiva, equitativa y de calidad y promover oportunidades de…",
         "id_meta": "4.c",
         "descripcion_meta": "4.c Aumentar considerablemente la oferta de maestros calificados, en particular mediante la coopera…",
         "id_tema_general": 1,
         "descripcion_tema_general": "Educación",
         "id_tema_objetivo": 1.1,
         "descripcion_tema_objetivo": "Educación",
         "id_meta_rubro_propuesta": "1.1.1",
         "descripcion_meta_rubro_propuesta": "Educación",
         "_deepnote_index_column": 539
        },
        {
         "id_eje": 3,
         "descripcion_eje": "Educación de Calidad",
         "id_programa_presupuestario": "E003",
         "descripcion_programa_presupuestario": "Actividades artísticas y culturales",
         "id_componente": "E003.C11",
         "descripcion_componente": "Servicios de la red estatal de bibliotecas ofertados.",
         "id_siglas": "IEC",
         "descripcion_siglas": "Instituto Estatal de la Cultura",
         "id_ods": 4,
         "descripcion_ods": "Objetivo 4: Garantizar una educación inclusiva, equitativa y de calidad y promover oportunidades de…",
         "id_meta": "4.6",
         "descripcion_meta": "4.6 Asegurar que todos los jóvenes y una proporción considerable de los adultos, tanto hombres como…",
         "id_tema_general": 1,
         "descripcion_tema_general": "Educación",
         "id_tema_objetivo": 1.1,
         "descripcion_tema_objetivo": "Educación",
         "id_meta_rubro_propuesta": "1.1.1",
         "descripcion_meta_rubro_propuesta": "Educación",
         "_deepnote_index_column": 543
        },
        {
         "id_eje": 7,
         "descripcion_eje": "Poderes y Autónomos",
         "id_programa_presupuestario": "E035",
         "descripcion_programa_presupuestario": "Extensión del conocimiento, arte y cultura",
         "id_componente": "E035.C04",
         "descripcion_componente": "Servicios de producción y publicación de productos editoriales de la Universidad otorgados",
         "id_siglas": "UG",
         "descripcion_siglas": "Universidad de Guanajuato",
         "id_ods": 4,
         "descripcion_ods": "Objetivo 4: Garantizar una educación inclusiva, equitativa y de calidad y promover oportunidades de…",
         "id_meta": "4.6",
         "descripcion_meta": "4.6 Asegurar que todos los jóvenes y una proporción considerable de los adultos, tanto hombres como…",
         "id_tema_general": 1,
         "descripcion_tema_general": "Educación",
         "id_tema_objetivo": 1.1,
         "descripcion_tema_objetivo": "Educación",
         "id_meta_rubro_propuesta": "1.1.1",
         "descripcion_meta_rubro_propuesta": "Educación",
         "_deepnote_index_column": 546
        },
        {
         "id_eje": 7,
         "descripcion_eje": "Poderes y Autónomos",
         "id_programa_presupuestario": "E068",
         "descripcion_programa_presupuestario": "Vinculación del estudiante con los sectores económico y social",
         "id_componente": "E068.C03",
         "descripcion_componente": "Servicios de vinculación con instituciones u organismos afines a la formación y la responsabilidad …",
         "id_siglas": "UG",
         "descripcion_siglas": "Universidad de Guanajuato",
         "id_ods": 4,
         "descripcion_ods": "Objetivo 4: Garantizar una educación inclusiva, equitativa y de calidad y promover oportunidades de…",
         "id_meta": "4.4",
         "descripcion_meta": "4.4 Aumentar el número de jóvenes y adultos que tienen las competencias necesarias, en particular t…",
         "id_tema_general": 1,
         "descripcion_tema_general": "Educación",
         "id_tema_objetivo": 1.1,
         "descripcion_tema_objetivo": "Educación",
         "id_meta_rubro_propuesta": "1.1.1",
         "descripcion_meta_rubro_propuesta": "Educación",
         "_deepnote_index_column": 550
        },
        {
         "id_eje": 3,
         "descripcion_eje": "Educación de Calidad",
         "id_programa_presupuestario": "E024",
         "descripcion_programa_presupuestario": "Alianza a favor de la educación para adultos",
         "id_componente": "E024.C02",
         "descripcion_componente": "Servicios educativos de calidad ofertados para los jóvenes y adultos en condiciones de rezago educa…",
         "id_siglas": "INAEBA",
         "descripcion_siglas": "Instituto de Alfabetización y Educación Básica para Adultos",
         "id_ods": 4,
         "descripcion_ods": "Objetivo 4: Garantizar una educación inclusiva, equitativa y de calidad y promover oportunidades de…",
         "id_meta": "4.5",
         "descripcion_meta": "4.5 Eliminar las disparidades de género en la educación y garantizar el acceso igualitario de las p…",
         "id_tema_general": 1,
         "descripcion_tema_general": "Educación",
         "id_tema_objetivo": 1.1,
         "descripcion_tema_objetivo": "Educación",
         "id_meta_rubro_propuesta": "1.1.1",
         "descripcion_meta_rubro_propuesta": "Educación",
         "_deepnote_index_column": 551
        },
        {
         "id_eje": 3,
         "descripcion_eje": "Educación de Calidad",
         "id_programa_presupuestario": "E018",
         "descripcion_programa_presupuestario": "Cobertura en Educación Básica",
         "id_componente": "E018.C01",
         "descripcion_componente": "Servicios educativos prestados de educación inicial, preescolar, primaria y secundaria.",
         "id_siglas": "SEG",
         "descripcion_siglas": "Secretaría de Educación",
         "id_ods": 4,
         "descripcion_ods": "Objetivo 4: Garantizar una educación inclusiva, equitativa y de calidad y promover oportunidades de…",
         "id_meta": "4.1",
         "descripcion_meta": "4.1 Asegurar que todas las niñas y todos los niños terminen la enseñanza primaria y secundaria, que…",
         "id_tema_general": 1,
         "descripcion_tema_general": "Educación",
         "id_tema_objetivo": 1.1,
         "descripcion_tema_objetivo": "Educación",
         "id_meta_rubro_propuesta": "1.1.1",
         "descripcion_meta_rubro_propuesta": "Educación",
         "_deepnote_index_column": 552
        },
        {
         "id_eje": 7,
         "descripcion_eje": "Poderes y Autónomos",
         "id_programa_presupuestario": "E067",
         "descripcion_programa_presupuestario": "Trayectoria Académica Consolidada",
         "id_componente": "E067.C02",
         "descripcion_componente": "Servicios para la regularización y acompañamiento en la trayectoria escolar otorgados a los estudia…",
         "id_siglas": "UG",
         "descripcion_siglas": "Universidad de Guanajuato",
         "id_ods": 4,
         "descripcion_ods": "Objetivo 4: Garantizar una educación inclusiva, equitativa y de calidad y promover oportunidades de…",
         "id_meta": "4.3",
         "descripcion_meta": "4.3 Asegurar el acceso en condiciones de igualdad para todos los hombres y las mujeres a formación …",
         "id_tema_general": 1,
         "descripcion_tema_general": "Educación",
         "id_tema_objetivo": 1.1,
         "descripcion_tema_objetivo": "Educación",
         "id_meta_rubro_propuesta": "1.1.1",
         "descripcion_meta_rubro_propuesta": "Educación",
         "_deepnote_index_column": 554
        },
        {
         "id_eje": 7,
         "descripcion_eje": "Poderes y Autónomos",
         "id_programa_presupuestario": "E068",
         "descripcion_programa_presupuestario": "Vinculación del estudiante con los sectores económico y social",
         "id_componente": "E068.C01",
         "descripcion_componente": "Servicios y apoyos para la internacionalización e interculturalidad otorgados a los estudiantes.",
         "id_siglas": "UG",
         "descripcion_siglas": "Universidad de Guanajuato",
         "id_ods": 4,
         "descripcion_ods": "Objetivo 4: Garantizar una educación inclusiva, equitativa y de calidad y promover oportunidades de…",
         "id_meta": "4.b",
         "descripcion_meta": "4.b Para 2020, aumentar a nivel mundial el número de becas disponibles para países en desarrollo.",
         "id_tema_general": 1,
         "descripcion_tema_general": "Educación",
         "id_tema_objetivo": 1.1,
         "descripcion_tema_objetivo": "Educación",
         "id_meta_rubro_propuesta": "1.1.1",
         "descripcion_meta_rubro_propuesta": "Educación",
         "_deepnote_index_column": 556
        },
        {
         "id_eje": 7,
         "descripcion_eje": "Poderes y Autónomos",
         "id_programa_presupuestario": "E067",
         "descripcion_programa_presupuestario": "Trayectoria Académica Consolidada",
         "id_componente": "E067.C03",
         "descripcion_componente": "Servicios y promoción de actividades deportivas, artísticas y culturales, de prevención de la salud…",
         "id_siglas": "UG",
         "descripcion_siglas": "Universidad de Guanajuato",
         "id_ods": 4,
         "descripcion_ods": "Objetivo 4: Garantizar una educación inclusiva, equitativa y de calidad y promover oportunidades de…",
         "id_meta": "4.7",
         "descripcion_meta": "4.7 Garantizar que todos los estudiantes adquieran los conocimientos teóricos y prácticos necesario…",
         "id_tema_general": 1,
         "descripcion_tema_general": "Educación",
         "id_tema_objetivo": 1.1,
         "descripcion_tema_objetivo": "Educación",
         "id_meta_rubro_propuesta": "1.1.1",
         "descripcion_meta_rubro_propuesta": "Educación",
         "_deepnote_index_column": 557
        },
        {
         "id_eje": 3,
         "descripcion_eje": "Educación de Calidad",
         "id_programa_presupuestario": "E003",
         "descripcion_programa_presupuestario": "Actividades artísticas y culturales",
         "id_componente": "E003.C05",
         "descripcion_componente": "Talentos artísticos formados y promovidos",
         "id_siglas": "IEC",
         "descripcion_siglas": "Instituto Estatal de la Cultura",
         "id_ods": 4,
         "descripcion_ods": "Objetivo 4: Garantizar una educación inclusiva, equitativa y de calidad y promover oportunidades de…",
         "id_meta": "4.7",
         "descripcion_meta": "4.7 Garantizar que todos los estudiantes adquieran los conocimientos teóricos y prácticos necesario…",
         "id_tema_general": 1,
         "descripcion_tema_general": "Educación",
         "id_tema_objetivo": 1.1,
         "descripcion_tema_objetivo": "Educación",
         "id_meta_rubro_propuesta": "1.1.1",
         "descripcion_meta_rubro_propuesta": "Educación",
         "_deepnote_index_column": 567
        },
        {
         "id_eje": 3,
         "descripcion_eje": "Educación de Calidad",
         "id_programa_presupuestario": "E003",
         "descripcion_programa_presupuestario": "Actividades artísticas y culturales",
         "id_componente": "E003.C07",
         "descripcion_componente": "Talleres de educación artística no formal, exposiciones y actividades de promoción cultural en coor…",
         "id_siglas": "IEC",
         "descripcion_siglas": "Instituto Estatal de la Cultura",
         "id_ods": 4,
         "descripcion_ods": "Objetivo 4: Garantizar una educación inclusiva, equitativa y de calidad y promover oportunidades de…",
         "id_meta": "4.7",
         "descripcion_meta": "4.7 Garantizar que todos los estudiantes adquieran los conocimientos teóricos y prácticos necesario…",
         "id_tema_general": 1,
         "descripcion_tema_general": "Educación",
         "id_tema_objetivo": 1.1,
         "descripcion_tema_objetivo": "Educación",
         "id_meta_rubro_propuesta": "1.1.1",
         "descripcion_meta_rubro_propuesta": "Educación",
         "_deepnote_index_column": 568
        },
        {
         "id_eje": 7,
         "descripcion_eje": "Poderes y Autónomos",
         "id_programa_presupuestario": "E035",
         "descripcion_programa_presupuestario": "Extensión del conocimiento, arte y cultura",
         "id_componente": "E035.C01",
         "descripcion_componente": "Talleres de formación artística impartidos en las sedes universitarias de la UG",
         "id_siglas": "UG",
         "descripcion_siglas": "Universidad de Guanajuato",
         "id_ods": 4,
         "descripcion_ods": "Objetivo 4: Garantizar una educación inclusiva, equitativa y de calidad y promover oportunidades de…",
         "id_meta": "4.7",
         "descripcion_meta": "4.7 Garantizar que todos los estudiantes adquieran los conocimientos teóricos y prácticos necesario…",
         "id_tema_general": 1,
         "descripcion_tema_general": "Educación",
         "id_tema_objetivo": 1.1,
         "descripcion_tema_objetivo": "Educación",
         "id_meta_rubro_propuesta": "1.1.1",
         "descripcion_meta_rubro_propuesta": "Educación",
         "_deepnote_index_column": 569
        }
       ]
      },
      "text/plain": "     id_eje       descripcion_eje id_programa_presupuestario  \\\n0         3  Educación de Calidad                       E038   \n1         3  Educación de Calidad                       E038   \n2         3  Educación de Calidad                       P005   \n11        3  Educación de Calidad                       E057   \n12        3  Educación de Calidad                       E017   \n..      ...                   ...                        ...   \n556       7   Poderes y Autónomos                       E068   \n557       7   Poderes y Autónomos                       E067   \n567       3  Educación de Calidad                       E003   \n568       3  Educación de Calidad                       E003   \n569       7   Poderes y Autónomos                       E035   \n\n                   descripcion_programa_presupuestario id_componente  \\\n0                         Competencias para el trabajo      E038.C36   \n1                         Competencias para el trabajo      E038.C92   \n2    Gestión de centros escolares de Educación Medi...      P005.C29   \n11   Trayectoria en Nivel Básico, Media Superior y ...      E057.C21   \n12    Cobertura de Educación Media Superior y Superior      E017.C20   \n..                                                 ...           ...   \n556  Vinculación del estudiante con los sectores ec...      E068.C01   \n557                  Trayectoria Académica Consolidada      E067.C03   \n567                Actividades artísticas y culturales      E003.C05   \n568                Actividades artísticas y culturales      E003.C07   \n569         Extensión del conocimiento, arte y cultura      E035.C01   \n\n                                descripcion_componente id_siglas  \\\n0    A. IEMS (Instituciones de educación Media Supe...       SEG   \n1    A. IES (Instituciones de educación Superior) c...       SEG   \n2    A. Procesos de planeación y evaluación institu...       SEG   \n11   A. Registro de la trayectoria escolar de los a...       SEG   \n12   A. Servicios educativos incrementados en el ni...       SEG   \n..                                                 ...       ...   \n556  Servicios y apoyos para la internacionalizació...        UG   \n557  Servicios y promoción de actividades deportiva...        UG   \n567          Talentos artísticos formados y promovidos       IEC   \n568  Talleres de educación artística no formal, exp...       IEC   \n569  Talleres de formación artística impartidos en ...        UG   \n\n                  descripcion_siglas  id_ods  \\\n0            Secretaría de Educación       4   \n1            Secretaría de Educación       4   \n2            Secretaría de Educación       4   \n11           Secretaría de Educación       4   \n12           Secretaría de Educación       4   \n..                               ...     ...   \n556        Universidad de Guanajuato       4   \n557        Universidad de Guanajuato       4   \n567  Instituto Estatal de la Cultura       4   \n568  Instituto Estatal de la Cultura       4   \n569        Universidad de Guanajuato       4   \n\n                                       descripcion_ods id_meta  \\\n0    Objetivo 4: Garantizar una educación inclusiva...     4.4   \n1    Objetivo 4: Garantizar una educación inclusiva...     4.4   \n2    Objetivo 4: Garantizar una educación inclusiva...     4.3   \n11   Objetivo 4: Garantizar una educación inclusiva...     4.1   \n12   Objetivo 4: Garantizar una educación inclusiva...     4.3   \n..                                                 ...     ...   \n556  Objetivo 4: Garantizar una educación inclusiva...     4.b   \n557  Objetivo 4: Garantizar una educación inclusiva...     4.7   \n567  Objetivo 4: Garantizar una educación inclusiva...     4.7   \n568  Objetivo 4: Garantizar una educación inclusiva...     4.7   \n569  Objetivo 4: Garantizar una educación inclusiva...     4.7   \n\n                                      descripcion_meta  id_tema_general  \\\n0    4.4 Aumentar el número de jóvenes y adultos qu...                1   \n1    4.4 Aumentar el número de jóvenes y adultos qu...                1   \n2    4.3 Asegurar el acceso en condiciones de igual...                1   \n11   4.1 Asegurar que todas las niñas y todos los n...                1   \n12   4.3 Asegurar el acceso en condiciones de igual...                1   \n..                                                 ...              ...   \n556  4.b Para 2020, aumentar a nivel mundial el núm...                1   \n557  4.7 Garantizar que todos los estudiantes adqui...                1   \n567  4.7 Garantizar que todos los estudiantes adqui...                1   \n568  4.7 Garantizar que todos los estudiantes adqui...                1   \n569  4.7 Garantizar que todos los estudiantes adqui...                1   \n\n    descripcion_tema_general  id_tema_objetivo descripcion_tema_objetivo  \\\n0                  Educación               1.1                 Educación   \n1                  Educación               1.1                 Educación   \n2                  Educación               1.1                 Educación   \n11                 Educación               1.1                 Educación   \n12                 Educación               1.1                 Educación   \n..                       ...               ...                       ...   \n556                Educación               1.1                 Educación   \n557                Educación               1.1                 Educación   \n567                Educación               1.1                 Educación   \n568                Educación               1.1                 Educación   \n569                Educación               1.1                 Educación   \n\n    id_meta_rubro_propuesta descripcion_meta_rubro_propuesta  \n0                     1.1.1                        Educación  \n1                     1.1.1                        Educación  \n2                     1.1.1                        Educación  \n11                    1.1.1                        Educación  \n12                    1.1.1                        Educación  \n..                      ...                              ...  \n556                   1.1.1                        Educación  \n557                   1.1.1                        Educación  \n567                   1.1.1                        Educación  \n568                   1.1.1                        Educación  \n569                   1.1.1                        Educación  \n\n[298 rows x 18 columns]",
      "text/html": "<div>\n<style scoped>\n    .dataframe tbody tr th:only-of-type {\n        vertical-align: middle;\n    }\n\n    .dataframe tbody tr th {\n        vertical-align: top;\n    }\n\n    .dataframe thead th {\n        text-align: right;\n    }\n</style>\n<table border=\"1\" class=\"dataframe\">\n  <thead>\n    <tr style=\"text-align: right;\">\n      <th></th>\n      <th>id_eje</th>\n      <th>descripcion_eje</th>\n      <th>id_programa_presupuestario</th>\n      <th>descripcion_programa_presupuestario</th>\n      <th>id_componente</th>\n      <th>descripcion_componente</th>\n      <th>id_siglas</th>\n      <th>descripcion_siglas</th>\n      <th>id_ods</th>\n      <th>descripcion_ods</th>\n      <th>id_meta</th>\n      <th>descripcion_meta</th>\n      <th>id_tema_general</th>\n      <th>descripcion_tema_general</th>\n      <th>id_tema_objetivo</th>\n      <th>descripcion_tema_objetivo</th>\n      <th>id_meta_rubro_propuesta</th>\n      <th>descripcion_meta_rubro_propuesta</th>\n    </tr>\n  </thead>\n  <tbody>\n    <tr>\n      <th>0</th>\n      <td>3</td>\n      <td>Educación de Calidad</td>\n      <td>E038</td>\n      <td>Competencias para el trabajo</td>\n      <td>E038.C36</td>\n      <td>A. IEMS (Instituciones de educación Media Supe...</td>\n      <td>SEG</td>\n      <td>Secretaría de Educación</td>\n      <td>4</td>\n      <td>Objetivo 4: Garantizar una educación inclusiva...</td>\n      <td>4.4</td>\n      <td>4.4 Aumentar el número de jóvenes y adultos qu...</td>\n      <td>1</td>\n      <td>Educación</td>\n      <td>1.1</td>\n      <td>Educación</td>\n      <td>1.1.1</td>\n      <td>Educación</td>\n    </tr>\n    <tr>\n      <th>1</th>\n      <td>3</td>\n      <td>Educación de Calidad</td>\n      <td>E038</td>\n      <td>Competencias para el trabajo</td>\n      <td>E038.C92</td>\n      <td>A. IES (Instituciones de educación Superior) c...</td>\n      <td>SEG</td>\n      <td>Secretaría de Educación</td>\n      <td>4</td>\n      <td>Objetivo 4: Garantizar una educación inclusiva...</td>\n      <td>4.4</td>\n      <td>4.4 Aumentar el número de jóvenes y adultos qu...</td>\n      <td>1</td>\n      <td>Educación</td>\n      <td>1.1</td>\n      <td>Educación</td>\n      <td>1.1.1</td>\n      <td>Educación</td>\n    </tr>\n    <tr>\n      <th>2</th>\n      <td>3</td>\n      <td>Educación de Calidad</td>\n      <td>P005</td>\n      <td>Gestión de centros escolares de Educación Medi...</td>\n      <td>P005.C29</td>\n      <td>A. Procesos de planeación y evaluación institu...</td>\n      <td>SEG</td>\n      <td>Secretaría de Educación</td>\n      <td>4</td>\n      <td>Objetivo 4: Garantizar una educación inclusiva...</td>\n      <td>4.3</td>\n      <td>4.3 Asegurar el acceso en condiciones de igual...</td>\n      <td>1</td>\n      <td>Educación</td>\n      <td>1.1</td>\n      <td>Educación</td>\n      <td>1.1.1</td>\n      <td>Educación</td>\n    </tr>\n    <tr>\n      <th>11</th>\n      <td>3</td>\n      <td>Educación de Calidad</td>\n      <td>E057</td>\n      <td>Trayectoria en Nivel Básico, Media Superior y ...</td>\n      <td>E057.C21</td>\n      <td>A. Registro de la trayectoria escolar de los a...</td>\n      <td>SEG</td>\n      <td>Secretaría de Educación</td>\n      <td>4</td>\n      <td>Objetivo 4: Garantizar una educación inclusiva...</td>\n      <td>4.1</td>\n      <td>4.1 Asegurar que todas las niñas y todos los n...</td>\n      <td>1</td>\n      <td>Educación</td>\n      <td>1.1</td>\n      <td>Educación</td>\n      <td>1.1.1</td>\n      <td>Educación</td>\n    </tr>\n    <tr>\n      <th>12</th>\n      <td>3</td>\n      <td>Educación de Calidad</td>\n      <td>E017</td>\n      <td>Cobertura de Educación Media Superior y Superior</td>\n      <td>E017.C20</td>\n      <td>A. Servicios educativos incrementados en el ni...</td>\n      <td>SEG</td>\n      <td>Secretaría de Educación</td>\n      <td>4</td>\n      <td>Objetivo 4: Garantizar una educación inclusiva...</td>\n      <td>4.3</td>\n      <td>4.3 Asegurar el acceso en condiciones de igual...</td>\n      <td>1</td>\n      <td>Educación</td>\n      <td>1.1</td>\n      <td>Educación</td>\n      <td>1.1.1</td>\n      <td>Educación</td>\n    </tr>\n    <tr>\n      <th>...</th>\n      <td>...</td>\n      <td>...</td>\n      <td>...</td>\n      <td>...</td>\n      <td>...</td>\n      <td>...</td>\n      <td>...</td>\n      <td>...</td>\n      <td>...</td>\n      <td>...</td>\n      <td>...</td>\n      <td>...</td>\n      <td>...</td>\n      <td>...</td>\n      <td>...</td>\n      <td>...</td>\n      <td>...</td>\n      <td>...</td>\n    </tr>\n    <tr>\n      <th>556</th>\n      <td>7</td>\n      <td>Poderes y Autónomos</td>\n      <td>E068</td>\n      <td>Vinculación del estudiante con los sectores ec...</td>\n      <td>E068.C01</td>\n      <td>Servicios y apoyos para la internacionalizació...</td>\n      <td>UG</td>\n      <td>Universidad de Guanajuato</td>\n      <td>4</td>\n      <td>Objetivo 4: Garantizar una educación inclusiva...</td>\n      <td>4.b</td>\n      <td>4.b Para 2020, aumentar a nivel mundial el núm...</td>\n      <td>1</td>\n      <td>Educación</td>\n      <td>1.1</td>\n      <td>Educación</td>\n      <td>1.1.1</td>\n      <td>Educación</td>\n    </tr>\n    <tr>\n      <th>557</th>\n      <td>7</td>\n      <td>Poderes y Autónomos</td>\n      <td>E067</td>\n      <td>Trayectoria Académica Consolidada</td>\n      <td>E067.C03</td>\n      <td>Servicios y promoción de actividades deportiva...</td>\n      <td>UG</td>\n      <td>Universidad de Guanajuato</td>\n      <td>4</td>\n      <td>Objetivo 4: Garantizar una educación inclusiva...</td>\n      <td>4.7</td>\n      <td>4.7 Garantizar que todos los estudiantes adqui...</td>\n      <td>1</td>\n      <td>Educación</td>\n      <td>1.1</td>\n      <td>Educación</td>\n      <td>1.1.1</td>\n      <td>Educación</td>\n    </tr>\n    <tr>\n      <th>567</th>\n      <td>3</td>\n      <td>Educación de Calidad</td>\n      <td>E003</td>\n      <td>Actividades artísticas y culturales</td>\n      <td>E003.C05</td>\n      <td>Talentos artísticos formados y promovidos</td>\n      <td>IEC</td>\n      <td>Instituto Estatal de la Cultura</td>\n      <td>4</td>\n      <td>Objetivo 4: Garantizar una educación inclusiva...</td>\n      <td>4.7</td>\n      <td>4.7 Garantizar que todos los estudiantes adqui...</td>\n      <td>1</td>\n      <td>Educación</td>\n      <td>1.1</td>\n      <td>Educación</td>\n      <td>1.1.1</td>\n      <td>Educación</td>\n    </tr>\n    <tr>\n      <th>568</th>\n      <td>3</td>\n      <td>Educación de Calidad</td>\n      <td>E003</td>\n      <td>Actividades artísticas y culturales</td>\n      <td>E003.C07</td>\n      <td>Talleres de educación artística no formal, exp...</td>\n      <td>IEC</td>\n      <td>Instituto Estatal de la Cultura</td>\n      <td>4</td>\n      <td>Objetivo 4: Garantizar una educación inclusiva...</td>\n      <td>4.7</td>\n      <td>4.7 Garantizar que todos los estudiantes adqui...</td>\n      <td>1</td>\n      <td>Educación</td>\n      <td>1.1</td>\n      <td>Educación</td>\n      <td>1.1.1</td>\n      <td>Educación</td>\n    </tr>\n    <tr>\n      <th>569</th>\n      <td>7</td>\n      <td>Poderes y Autónomos</td>\n      <td>E035</td>\n      <td>Extensión del conocimiento, arte y cultura</td>\n      <td>E035.C01</td>\n      <td>Talleres de formación artística impartidos en ...</td>\n      <td>UG</td>\n      <td>Universidad de Guanajuato</td>\n      <td>4</td>\n      <td>Objetivo 4: Garantizar una educación inclusiva...</td>\n      <td>4.7</td>\n      <td>4.7 Garantizar que todos los estudiantes adqui...</td>\n      <td>1</td>\n      <td>Educación</td>\n      <td>1.1</td>\n      <td>Educación</td>\n      <td>1.1.1</td>\n      <td>Educación</td>\n    </tr>\n  </tbody>\n</table>\n<p>298 rows × 18 columns</p>\n</div>"
     },
     "metadata": {}
    }
   ],
   "execution_count": null
  },
  {
   "cell_type": "code",
   "metadata": {
    "tags": [],
    "cell_id": "00013-000e57ab-31cd-4292-b25b-495163d9501b",
    "deepnote_to_be_reexecuted": false,
    "source_hash": "238d55a0",
    "execution_start": 1634263483583,
    "execution_millis": 80,
    "deepnote_cell_type": "code"
   },
   "source": "df_pp_ods_4[df_pp_ods_4[\"id_siglas\"]==\"INAEBA\"]",
   "outputs": [
    {
     "output_type": "execute_result",
     "execution_count": 11,
     "data": {
      "application/vnd.deepnote.dataframe.v2+json": {
       "row_count": 3,
       "column_count": 18,
       "columns": [
        {
         "name": "id_eje",
         "dtype": "int64",
         "stats": {
          "unique_count": 1,
          "nan_count": 0,
          "min": "3",
          "max": "3",
          "histogram": [
           {
            "bin_start": 2.5,
            "bin_end": 2.6,
            "count": 0
           },
           {
            "bin_start": 2.6,
            "bin_end": 2.7,
            "count": 0
           },
           {
            "bin_start": 2.7,
            "bin_end": 2.8,
            "count": 0
           },
           {
            "bin_start": 2.8,
            "bin_end": 2.9,
            "count": 0
           },
           {
            "bin_start": 2.9,
            "bin_end": 3,
            "count": 0
           },
           {
            "bin_start": 3,
            "bin_end": 3.1,
            "count": 3
           },
           {
            "bin_start": 3.1,
            "bin_end": 3.2,
            "count": 0
           },
           {
            "bin_start": 3.2,
            "bin_end": 3.3,
            "count": 0
           },
           {
            "bin_start": 3.3,
            "bin_end": 3.4,
            "count": 0
           },
           {
            "bin_start": 3.4,
            "bin_end": 3.5,
            "count": 0
           }
          ]
         }
        },
        {
         "name": "descripcion_eje",
         "dtype": "object",
         "stats": {
          "unique_count": 1,
          "nan_count": 0,
          "categories": [
           {
            "name": "Educación de Calidad",
            "count": 3
           }
          ]
         }
        },
        {
         "name": "id_programa_presupuestario",
         "dtype": "object",
         "stats": {
          "unique_count": 1,
          "nan_count": 0,
          "categories": [
           {
            "name": "E024",
            "count": 3
           }
          ]
         }
        },
        {
         "name": "descripcion_programa_presupuestario",
         "dtype": "object",
         "stats": {
          "unique_count": 1,
          "nan_count": 0,
          "categories": [
           {
            "name": "Alianza a favor de la educación para adultos",
            "count": 3
           }
          ]
         }
        },
        {
         "name": "id_componente",
         "dtype": "object",
         "stats": {
          "unique_count": 3,
          "nan_count": 0,
          "categories": [
           {
            "name": "E024.C04",
            "count": 1
           },
           {
            "name": "E024.C03",
            "count": 1
           },
           {
            "name": "E024.C02",
            "count": 1
           }
          ]
         }
        },
        {
         "name": "descripcion_componente",
         "dtype": "object",
         "stats": {
          "unique_count": 3,
          "nan_count": 0,
          "categories": [
           {
            "name": "Certificados y constancias emitidos a la población de 15 años y más que acreditó el nivel educativo que se inscribió",
            "count": 1
           },
           {
            "name": "Programas de educación para niñas, niños, jóvenes y adultos ofertados a la población en rezago",
            "count": 1
           },
           {
            "name": "Servicios educativos de calidad ofertados para los jóvenes y adultos en condiciones de rezago educativo.",
            "count": 1
           }
          ]
         }
        },
        {
         "name": "id_siglas",
         "dtype": "object",
         "stats": {
          "unique_count": 1,
          "nan_count": 0,
          "categories": [
           {
            "name": "INAEBA",
            "count": 3
           }
          ]
         }
        },
        {
         "name": "descripcion_siglas",
         "dtype": "object",
         "stats": {
          "unique_count": 1,
          "nan_count": 0,
          "categories": [
           {
            "name": "Instituto de Alfabetización y Educación Básica para Adultos",
            "count": 3
           }
          ]
         }
        },
        {
         "name": "id_ods",
         "dtype": "int64",
         "stats": {
          "unique_count": 1,
          "nan_count": 0,
          "min": "4",
          "max": "4",
          "histogram": [
           {
            "bin_start": 3.5,
            "bin_end": 3.6,
            "count": 0
           },
           {
            "bin_start": 3.6,
            "bin_end": 3.7,
            "count": 0
           },
           {
            "bin_start": 3.7,
            "bin_end": 3.8,
            "count": 0
           },
           {
            "bin_start": 3.8,
            "bin_end": 3.9,
            "count": 0
           },
           {
            "bin_start": 3.9,
            "bin_end": 4,
            "count": 0
           },
           {
            "bin_start": 4,
            "bin_end": 4.1,
            "count": 3
           },
           {
            "bin_start": 4.1,
            "bin_end": 4.2,
            "count": 0
           },
           {
            "bin_start": 4.2,
            "bin_end": 4.3,
            "count": 0
           },
           {
            "bin_start": 4.3,
            "bin_end": 4.4,
            "count": 0
           },
           {
            "bin_start": 4.4,
            "bin_end": 4.5,
            "count": 0
           }
          ]
         }
        },
        {
         "name": "descripcion_ods",
         "dtype": "object",
         "stats": {
          "unique_count": 1,
          "nan_count": 0,
          "categories": [
           {
            "name": "Objetivo 4: Garantizar una educación inclusiva, equitativa y de calidad y promover oportunidades de aprendizaje durante toda la vida para todos",
            "count": 3
           }
          ]
         }
        },
        {
         "name": "id_meta",
         "dtype": "object",
         "stats": {
          "unique_count": 1,
          "nan_count": 0,
          "categories": [
           {
            "name": "4.5",
            "count": 3
           }
          ]
         }
        },
        {
         "name": "descripcion_meta",
         "dtype": "object",
         "stats": {
          "unique_count": 1,
          "nan_count": 0,
          "categories": [
           {
            "name": "4.5 Eliminar las disparidades de género en la educación y garantizar el acceso igualitario de las personas vulnerables, incluidas las personas con discapacidad, los pueblos indígenas y los niños en situaciones de vulnerabilidad, a todos los niveles de la enseñanza y la formación profesional.",
            "count": 3
           }
          ]
         }
        },
        {
         "name": "id_tema_general",
         "dtype": "int64",
         "stats": {
          "unique_count": 1,
          "nan_count": 0,
          "min": "1",
          "max": "1",
          "histogram": [
           {
            "bin_start": 0.5,
            "bin_end": 0.6,
            "count": 0
           },
           {
            "bin_start": 0.6,
            "bin_end": 0.7,
            "count": 0
           },
           {
            "bin_start": 0.7,
            "bin_end": 0.8,
            "count": 0
           },
           {
            "bin_start": 0.8,
            "bin_end": 0.9,
            "count": 0
           },
           {
            "bin_start": 0.9,
            "bin_end": 1,
            "count": 0
           },
           {
            "bin_start": 1,
            "bin_end": 1.1,
            "count": 3
           },
           {
            "bin_start": 1.1,
            "bin_end": 1.2000000000000002,
            "count": 0
           },
           {
            "bin_start": 1.2000000000000002,
            "bin_end": 1.3,
            "count": 0
           },
           {
            "bin_start": 1.3,
            "bin_end": 1.4,
            "count": 0
           },
           {
            "bin_start": 1.4,
            "bin_end": 1.5,
            "count": 0
           }
          ]
         }
        },
        {
         "name": "descripcion_tema_general",
         "dtype": "object",
         "stats": {
          "unique_count": 1,
          "nan_count": 0,
          "categories": [
           {
            "name": "Educación",
            "count": 3
           }
          ]
         }
        },
        {
         "name": "id_tema_objetivo",
         "dtype": "float64",
         "stats": {
          "unique_count": 1,
          "nan_count": 0,
          "min": "1.1",
          "max": "1.1",
          "histogram": [
           {
            "bin_start": 0.6000000000000001,
            "bin_end": 0.7000000000000001,
            "count": 0
           },
           {
            "bin_start": 0.7000000000000001,
            "bin_end": 0.8,
            "count": 0
           },
           {
            "bin_start": 0.8,
            "bin_end": 0.9000000000000001,
            "count": 0
           },
           {
            "bin_start": 0.9000000000000001,
            "bin_end": 1,
            "count": 0
           },
           {
            "bin_start": 1,
            "bin_end": 1.1,
            "count": 0
           },
           {
            "bin_start": 1.1,
            "bin_end": 1.2000000000000002,
            "count": 3
           },
           {
            "bin_start": 1.2000000000000002,
            "bin_end": 1.3000000000000003,
            "count": 0
           },
           {
            "bin_start": 1.3000000000000003,
            "bin_end": 1.4000000000000001,
            "count": 0
           },
           {
            "bin_start": 1.4000000000000001,
            "bin_end": 1.5,
            "count": 0
           },
           {
            "bin_start": 1.5,
            "bin_end": 1.6,
            "count": 0
           }
          ]
         }
        },
        {
         "name": "descripcion_tema_objetivo",
         "dtype": "object",
         "stats": {
          "unique_count": 1,
          "nan_count": 0,
          "categories": [
           {
            "name": "Educación",
            "count": 3
           }
          ]
         }
        },
        {
         "name": "id_meta_rubro_propuesta",
         "dtype": "object",
         "stats": {
          "unique_count": 1,
          "nan_count": 0,
          "categories": [
           {
            "name": "1.1.1",
            "count": 3
           }
          ]
         }
        },
        {
         "name": "descripcion_meta_rubro_propuesta",
         "dtype": "object",
         "stats": {
          "unique_count": 1,
          "nan_count": 0,
          "categories": [
           {
            "name": "Educación",
            "count": 3
           }
          ]
         }
        },
        {
         "name": "_deepnote_index_column",
         "dtype": "int64"
        }
       ],
       "rows_top": [
        {
         "id_eje": 3,
         "descripcion_eje": "Educación de Calidad",
         "id_programa_presupuestario": "E024",
         "descripcion_programa_presupuestario": "Alianza a favor de la educación para adultos",
         "id_componente": "E024.C04",
         "descripcion_componente": "Certificados y constancias emitidos a la población de 15 años y más que acreditó el nivel educativo…",
         "id_siglas": "INAEBA",
         "descripcion_siglas": "Instituto de Alfabetización y Educación Básica para Adultos",
         "id_ods": 4,
         "descripcion_ods": "Objetivo 4: Garantizar una educación inclusiva, equitativa y de calidad y promover oportunidades de…",
         "id_meta": "4.5",
         "descripcion_meta": "4.5 Eliminar las disparidades de género en la educación y garantizar el acceso igualitario de las p…",
         "id_tema_general": 1,
         "descripcion_tema_general": "Educación",
         "id_tema_objetivo": 1.1,
         "descripcion_tema_objetivo": "Educación",
         "id_meta_rubro_propuesta": "1.1.1",
         "descripcion_meta_rubro_propuesta": "Educación",
         "_deepnote_index_column": 247
        },
        {
         "id_eje": 3,
         "descripcion_eje": "Educación de Calidad",
         "id_programa_presupuestario": "E024",
         "descripcion_programa_presupuestario": "Alianza a favor de la educación para adultos",
         "id_componente": "E024.C03",
         "descripcion_componente": "Programas de educación para niñas, niños, jóvenes y adultos ofertados a la población en rezago",
         "id_siglas": "INAEBA",
         "descripcion_siglas": "Instituto de Alfabetización y Educación Básica para Adultos",
         "id_ods": 4,
         "descripcion_ods": "Objetivo 4: Garantizar una educación inclusiva, equitativa y de calidad y promover oportunidades de…",
         "id_meta": "4.5",
         "descripcion_meta": "4.5 Eliminar las disparidades de género en la educación y garantizar el acceso igualitario de las p…",
         "id_tema_general": 1,
         "descripcion_tema_general": "Educación",
         "id_tema_objetivo": 1.1,
         "descripcion_tema_objetivo": "Educación",
         "id_meta_rubro_propuesta": "1.1.1",
         "descripcion_meta_rubro_propuesta": "Educación",
         "_deepnote_index_column": 494
        },
        {
         "id_eje": 3,
         "descripcion_eje": "Educación de Calidad",
         "id_programa_presupuestario": "E024",
         "descripcion_programa_presupuestario": "Alianza a favor de la educación para adultos",
         "id_componente": "E024.C02",
         "descripcion_componente": "Servicios educativos de calidad ofertados para los jóvenes y adultos en condiciones de rezago educa…",
         "id_siglas": "INAEBA",
         "descripcion_siglas": "Instituto de Alfabetización y Educación Básica para Adultos",
         "id_ods": 4,
         "descripcion_ods": "Objetivo 4: Garantizar una educación inclusiva, equitativa y de calidad y promover oportunidades de…",
         "id_meta": "4.5",
         "descripcion_meta": "4.5 Eliminar las disparidades de género en la educación y garantizar el acceso igualitario de las p…",
         "id_tema_general": 1,
         "descripcion_tema_general": "Educación",
         "id_tema_objetivo": 1.1,
         "descripcion_tema_objetivo": "Educación",
         "id_meta_rubro_propuesta": "1.1.1",
         "descripcion_meta_rubro_propuesta": "Educación",
         "_deepnote_index_column": 551
        }
       ],
       "rows_bottom": null
      },
      "text/plain": "     id_eje       descripcion_eje id_programa_presupuestario  \\\n247       3  Educación de Calidad                       E024   \n494       3  Educación de Calidad                       E024   \n551       3  Educación de Calidad                       E024   \n\n              descripcion_programa_presupuestario id_componente  \\\n247  Alianza a favor de la educación para adultos      E024.C04   \n494  Alianza a favor de la educación para adultos      E024.C03   \n551  Alianza a favor de la educación para adultos      E024.C02   \n\n                                descripcion_componente id_siglas  \\\n247  Certificados y constancias emitidos a la pobla...    INAEBA   \n494  Programas de educación para niñas, niños, jóve...    INAEBA   \n551  Servicios educativos de calidad ofertados para...    INAEBA   \n\n                                    descripcion_siglas  id_ods  \\\n247  Instituto de Alfabetización y Educación Básica...       4   \n494  Instituto de Alfabetización y Educación Básica...       4   \n551  Instituto de Alfabetización y Educación Básica...       4   \n\n                                       descripcion_ods id_meta  \\\n247  Objetivo 4: Garantizar una educación inclusiva...     4.5   \n494  Objetivo 4: Garantizar una educación inclusiva...     4.5   \n551  Objetivo 4: Garantizar una educación inclusiva...     4.5   \n\n                                      descripcion_meta  id_tema_general  \\\n247  4.5 Eliminar las disparidades de género en la ...                1   \n494  4.5 Eliminar las disparidades de género en la ...                1   \n551  4.5 Eliminar las disparidades de género en la ...                1   \n\n    descripcion_tema_general  id_tema_objetivo descripcion_tema_objetivo  \\\n247                Educación               1.1                 Educación   \n494                Educación               1.1                 Educación   \n551                Educación               1.1                 Educación   \n\n    id_meta_rubro_propuesta descripcion_meta_rubro_propuesta  \n247                   1.1.1                        Educación  \n494                   1.1.1                        Educación  \n551                   1.1.1                        Educación  ",
      "text/html": "<div>\n<style scoped>\n    .dataframe tbody tr th:only-of-type {\n        vertical-align: middle;\n    }\n\n    .dataframe tbody tr th {\n        vertical-align: top;\n    }\n\n    .dataframe thead th {\n        text-align: right;\n    }\n</style>\n<table border=\"1\" class=\"dataframe\">\n  <thead>\n    <tr style=\"text-align: right;\">\n      <th></th>\n      <th>id_eje</th>\n      <th>descripcion_eje</th>\n      <th>id_programa_presupuestario</th>\n      <th>descripcion_programa_presupuestario</th>\n      <th>id_componente</th>\n      <th>descripcion_componente</th>\n      <th>id_siglas</th>\n      <th>descripcion_siglas</th>\n      <th>id_ods</th>\n      <th>descripcion_ods</th>\n      <th>id_meta</th>\n      <th>descripcion_meta</th>\n      <th>id_tema_general</th>\n      <th>descripcion_tema_general</th>\n      <th>id_tema_objetivo</th>\n      <th>descripcion_tema_objetivo</th>\n      <th>id_meta_rubro_propuesta</th>\n      <th>descripcion_meta_rubro_propuesta</th>\n    </tr>\n  </thead>\n  <tbody>\n    <tr>\n      <th>247</th>\n      <td>3</td>\n      <td>Educación de Calidad</td>\n      <td>E024</td>\n      <td>Alianza a favor de la educación para adultos</td>\n      <td>E024.C04</td>\n      <td>Certificados y constancias emitidos a la pobla...</td>\n      <td>INAEBA</td>\n      <td>Instituto de Alfabetización y Educación Básica...</td>\n      <td>4</td>\n      <td>Objetivo 4: Garantizar una educación inclusiva...</td>\n      <td>4.5</td>\n      <td>4.5 Eliminar las disparidades de género en la ...</td>\n      <td>1</td>\n      <td>Educación</td>\n      <td>1.1</td>\n      <td>Educación</td>\n      <td>1.1.1</td>\n      <td>Educación</td>\n    </tr>\n    <tr>\n      <th>494</th>\n      <td>3</td>\n      <td>Educación de Calidad</td>\n      <td>E024</td>\n      <td>Alianza a favor de la educación para adultos</td>\n      <td>E024.C03</td>\n      <td>Programas de educación para niñas, niños, jóve...</td>\n      <td>INAEBA</td>\n      <td>Instituto de Alfabetización y Educación Básica...</td>\n      <td>4</td>\n      <td>Objetivo 4: Garantizar una educación inclusiva...</td>\n      <td>4.5</td>\n      <td>4.5 Eliminar las disparidades de género en la ...</td>\n      <td>1</td>\n      <td>Educación</td>\n      <td>1.1</td>\n      <td>Educación</td>\n      <td>1.1.1</td>\n      <td>Educación</td>\n    </tr>\n    <tr>\n      <th>551</th>\n      <td>3</td>\n      <td>Educación de Calidad</td>\n      <td>E024</td>\n      <td>Alianza a favor de la educación para adultos</td>\n      <td>E024.C02</td>\n      <td>Servicios educativos de calidad ofertados para...</td>\n      <td>INAEBA</td>\n      <td>Instituto de Alfabetización y Educación Básica...</td>\n      <td>4</td>\n      <td>Objetivo 4: Garantizar una educación inclusiva...</td>\n      <td>4.5</td>\n      <td>4.5 Eliminar las disparidades de género en la ...</td>\n      <td>1</td>\n      <td>Educación</td>\n      <td>1.1</td>\n      <td>Educación</td>\n      <td>1.1.1</td>\n      <td>Educación</td>\n    </tr>\n  </tbody>\n</table>\n</div>"
     },
     "metadata": {}
    }
   ],
   "execution_count": null
  },
  {
   "cell_type": "code",
   "metadata": {
    "tags": [],
    "cell_id": "00012-4c846309-d405-493c-9b57-4bffe703734a",
    "deepnote_to_be_reexecuted": false,
    "source_hash": "2119a5bc",
    "execution_start": 1634263483711,
    "execution_millis": 6,
    "deepnote_cell_type": "code"
   },
   "source": "# Las dependencias asociadas al ODS 4\ndf_pp_ods_4[\"id_siglas\"].unique()",
   "outputs": [
    {
     "output_type": "execute_result",
     "execution_count": 12,
     "data": {
      "text/plain": "array(['SEG', 'CECYTEG', 'CONALEP', 'EPRR', 'ITESA', 'ITESG', 'ITESI',\n       'ITSPR', 'ITESS', 'ITSUR', 'SABES', 'UPB', 'UPGTO', 'UPJR', 'UPPE',\n       'UTL', 'UTLB', 'UTNG', 'UTS', 'UTSMA', 'UTSOE', 'UVEG', 'SDSH',\n       'MIQ', 'IEC', 'DIF', 'UG', 'PEPNNA', 'CODE', 'JUVENTUDES GTO',\n       'INAEBA', 'SG', 'FORUM', 'INIFEG'], dtype=object)"
     },
     "metadata": {}
    }
   ],
   "execution_count": null
  },
  {
   "cell_type": "code",
   "metadata": {
    "tags": [],
    "cell_id": "00011-0c56d16a-972c-4918-b3a0-906a070fab27",
    "deepnote_to_be_reexecuted": false,
    "source_hash": "b6108257",
    "execution_start": 1634263483712,
    "execution_millis": 0,
    "deepnote_cell_type": "code"
   },
   "source": "# La inversion en ODS 4\ndf_inversion_ods_4 = df_inversion[df_inversion[\"id_programa_presupuestario\"].isin(pp_ods_4)]",
   "outputs": [],
   "execution_count": null
  },
  {
   "cell_type": "code",
   "metadata": {
    "tags": [],
    "cell_id": "00015-8dc8d4b4-7369-44ec-9309-e8286ad97ec2",
    "deepnote_to_be_reexecuted": false,
    "source_hash": "eda6e661",
    "execution_start": 1634263483755,
    "execution_millis": 9,
    "deepnote_cell_type": "code"
   },
   "source": "# Los Pp's asociadas al ODS 4 y a la inversión\ndf_inversion_ods_4[\"id_programa_presupuestario\"].unique()",
   "outputs": [
    {
     "output_type": "execute_result",
     "execution_count": 14,
     "data": {
      "text/plain": "array(['E010', 'E018', 'E017', 'E057', 'E040', 'E005', 'E047', 'E008',\n       'E062', 'E003', 'E038', 'P005'], dtype=object)"
     },
     "metadata": {}
    }
   ],
   "execution_count": null
  },
  {
   "cell_type": "code",
   "metadata": {
    "tags": [],
    "cell_id": "00017-33b05cf7-5978-475c-bba5-6bc1082cb8be",
    "deepnote_to_be_reexecuted": false,
    "source_hash": "707953e2",
    "execution_start": 1634263483756,
    "execution_millis": 1,
    "deepnote_cell_type": "code"
   },
   "source": "# Número de proyectos\nlen(df_inversion_ods_4[\"id_proceso_proyecto\"].unique())",
   "outputs": [
    {
     "output_type": "execute_result",
     "execution_count": 15,
     "data": {
      "text/plain": "86"
     },
     "metadata": {}
    }
   ],
   "execution_count": null
  },
  {
   "cell_type": "code",
   "metadata": {
    "tags": [],
    "cell_id": "00012-fd8d1c94-1b81-4fb5-992a-871c0af1cc70",
    "deepnote_to_be_reexecuted": false,
    "source_hash": "fcdf7170",
    "execution_start": 1634263483758,
    "execution_millis": 1985,
    "deepnote_cell_type": "code"
   },
   "source": "# Se define un dataframe que sirva para armar una bonita gráfica\ndf_dummy = df_pp_ods_4.copy()\n\n# Se ordenan las filas por monto aprobado y se divide entre un millón y se redondea \n# a dos lugares decimales para que todo quede en formato de millones de pesos\ndf_dummy[\"Programas\"] = 1\n\ndf_dummy[\"Programas Presupuestarios\"] = \"Programas presupuestarios 2021 asociados al ODS 4 por Dependencia\"\n\n# Se hace el treemap\nfig = px.treemap(df_dummy,\n                 path=[\"Programas Presupuestarios\", \"id_siglas\", \"id_programa_presupuestario\"],\n                 values=\"Programas\", color_discrete_sequence=px.colors.sequential.Aggrnyl)\n\n# Se ajusta el tamaño de la letra\nfig.update_layout(font_size=13)\n\n# Se guarda el html\nplotly.offline.plot(fig, filename='/work/treemap_pp_dependencias_ods_4.html')\n\n# Se muestra la gráfica\nfig.show()",
   "outputs": [
    {
     "data": {
      "text/html": "<html>\n<head><meta charset=\"utf-8\" /></head>\n<body>\n    <div>            <script src=\"https://cdnjs.cloudflare.com/ajax/libs/mathjax/2.7.5/MathJax.js?config=TeX-AMS-MML_SVG\"></script><script type=\"text/javascript\">if (window.MathJax) {MathJax.Hub.Config({SVG: {font: \"STIX-Web\"}});}</script>                <script type=\"text/javascript\">window.PlotlyConfig = {MathJaxConfig: 'local'};</script>\n        <script src=\"https://cdn.plot.ly/plotly-2.4.2.min.js\"></script>                <div id=\"4213f126-d1b3-48db-8fc4-3fb50a316890\" class=\"plotly-graph-div\" style=\"height:525px; width:100%;\"></div>            <script type=\"text/javascript\">                                    window.PLOTLYENV=window.PLOTLYENV || {};                                    if (document.getElementById(\"4213f126-d1b3-48db-8fc4-3fb50a316890\")) {                    Plotly.newPlot(                        \"4213f126-d1b3-48db-8fc4-3fb50a316890\",                        [{\"branchvalues\":\"total\",\"domain\":{\"x\":[0.0,1.0],\"y\":[0.0,1.0]},\"hovertemplate\":\"labels=%{label}<br>Programas=%{value}<br>parent=%{parent}<br>id=%{id}<extra></extra>\",\"ids\":[\"Programas presupuestarios 2021 asociados al ODS 4 por Dependencia/FORUM/E003\",\"Programas presupuestarios 2021 asociados al ODS 4 por Dependencia/IEC/E003\",\"Programas presupuestarios 2021 asociados al ODS 4 por Dependencia/MIQ/E003\",\"Programas presupuestarios 2021 asociados al ODS 4 por Dependencia/SEG/E005\",\"Programas presupuestarios 2021 asociados al ODS 4 por Dependencia/DIF/E008\",\"Programas presupuestarios 2021 asociados al ODS 4 por Dependencia/PEPNNA/E008\",\"Programas presupuestarios 2021 asociados al ODS 4 por Dependencia/SG/E008\",\"Programas presupuestarios 2021 asociados al ODS 4 por Dependencia/SDSH/E010\",\"Programas presupuestarios 2021 asociados al ODS 4 por Dependencia/CECYTEG/E017\",\"Programas presupuestarios 2021 asociados al ODS 4 por Dependencia/CONALEP/E017\",\"Programas presupuestarios 2021 asociados al ODS 4 por Dependencia/EPRR/E017\",\"Programas presupuestarios 2021 asociados al ODS 4 por Dependencia/ITESA/E017\",\"Programas presupuestarios 2021 asociados al ODS 4 por Dependencia/ITESG/E017\",\"Programas presupuestarios 2021 asociados al ODS 4 por Dependencia/ITESI/E017\",\"Programas presupuestarios 2021 asociados al ODS 4 por Dependencia/ITESS/E017\",\"Programas presupuestarios 2021 asociados al ODS 4 por Dependencia/ITSPR/E017\",\"Programas presupuestarios 2021 asociados al ODS 4 por Dependencia/ITSUR/E017\",\"Programas presupuestarios 2021 asociados al ODS 4 por Dependencia/SABES/E017\",\"Programas presupuestarios 2021 asociados al ODS 4 por Dependencia/SEG/E017\",\"Programas presupuestarios 2021 asociados al ODS 4 por Dependencia/UPB/E017\",\"Programas presupuestarios 2021 asociados al ODS 4 por Dependencia/UPGTO/E017\",\"Programas presupuestarios 2021 asociados al ODS 4 por Dependencia/UPJR/E017\",\"Programas presupuestarios 2021 asociados al ODS 4 por Dependencia/UPPE/E017\",\"Programas presupuestarios 2021 asociados al ODS 4 por Dependencia/UTL/E017\",\"Programas presupuestarios 2021 asociados al ODS 4 por Dependencia/UTLB/E017\",\"Programas presupuestarios 2021 asociados al ODS 4 por Dependencia/UTNG/E017\",\"Programas presupuestarios 2021 asociados al ODS 4 por Dependencia/UTS/E017\",\"Programas presupuestarios 2021 asociados al ODS 4 por Dependencia/UTSMA/E017\",\"Programas presupuestarios 2021 asociados al ODS 4 por Dependencia/UTSOE/E017\",\"Programas presupuestarios 2021 asociados al ODS 4 por Dependencia/UVEG/E017\",\"Programas presupuestarios 2021 asociados al ODS 4 por Dependencia/INIFEG/E018\",\"Programas presupuestarios 2021 asociados al ODS 4 por Dependencia/SEG/E018\",\"Programas presupuestarios 2021 asociados al ODS 4 por Dependencia/INAEBA/E024\",\"Programas presupuestarios 2021 asociados al ODS 4 por Dependencia/SEG/E024\",\"Programas presupuestarios 2021 asociados al ODS 4 por Dependencia/JUVENTUDES GTO/E028\",\"Programas presupuestarios 2021 asociados al ODS 4 por Dependencia/UG/E035\",\"Programas presupuestarios 2021 asociados al ODS 4 por Dependencia/CECYTEG/E038\",\"Programas presupuestarios 2021 asociados al ODS 4 por Dependencia/CONALEP/E038\",\"Programas presupuestarios 2021 asociados al ODS 4 por Dependencia/EPRR/E038\",\"Programas presupuestarios 2021 asociados al ODS 4 por Dependencia/ITESG/E038\",\"Programas presupuestarios 2021 asociados al ODS 4 por Dependencia/ITESI/E038\",\"Programas presupuestarios 2021 asociados al ODS 4 por Dependencia/ITESS/E038\",\"Programas presupuestarios 2021 asociados al ODS 4 por Dependencia/ITSPR/E038\",\"Programas presupuestarios 2021 asociados al ODS 4 por Dependencia/ITSUR/E038\",\"Programas presupuestarios 2021 asociados al ODS 4 por Dependencia/SABES/E038\",\"Programas presupuestarios 2021 asociados al ODS 4 por Dependencia/SEG/E038\",\"Programas presupuestarios 2021 asociados al ODS 4 por Dependencia/UPB/E038\",\"Programas presupuestarios 2021 asociados al ODS 4 por Dependencia/UPGTO/E038\",\"Programas presupuestarios 2021 asociados al ODS 4 por Dependencia/UPJR/E038\",\"Programas presupuestarios 2021 asociados al ODS 4 por Dependencia/UPPE/E038\",\"Programas presupuestarios 2021 asociados al ODS 4 por Dependencia/UTL/E038\",\"Programas presupuestarios 2021 asociados al ODS 4 por Dependencia/UTLB/E038\",\"Programas presupuestarios 2021 asociados al ODS 4 por Dependencia/UTNG/E038\",\"Programas presupuestarios 2021 asociados al ODS 4 por Dependencia/UTS/E038\",\"Programas presupuestarios 2021 asociados al ODS 4 por Dependencia/UTSMA/E038\",\"Programas presupuestarios 2021 asociados al ODS 4 por Dependencia/UTSOE/E038\",\"Programas presupuestarios 2021 asociados al ODS 4 por Dependencia/UVEG/E038\",\"Programas presupuestarios 2021 asociados al ODS 4 por Dependencia/UG/E040\",\"Programas presupuestarios 2021 asociados al ODS 4 por Dependencia/CODE/E047\",\"Programas presupuestarios 2021 asociados al ODS 4 por Dependencia/CECYTEG/E057\",\"Programas presupuestarios 2021 asociados al ODS 4 por Dependencia/CONALEP/E057\",\"Programas presupuestarios 2021 asociados al ODS 4 por Dependencia/EPRR/E057\",\"Programas presupuestarios 2021 asociados al ODS 4 por Dependencia/ITESA/E057\",\"Programas presupuestarios 2021 asociados al ODS 4 por Dependencia/ITESG/E057\",\"Programas presupuestarios 2021 asociados al ODS 4 por Dependencia/ITESI/E057\",\"Programas presupuestarios 2021 asociados al ODS 4 por Dependencia/ITESS/E057\",\"Programas presupuestarios 2021 asociados al ODS 4 por Dependencia/ITSPR/E057\",\"Programas presupuestarios 2021 asociados al ODS 4 por Dependencia/ITSUR/E057\",\"Programas presupuestarios 2021 asociados al ODS 4 por Dependencia/JUVENTUDES GTO/E057\",\"Programas presupuestarios 2021 asociados al ODS 4 por Dependencia/SABES/E057\",\"Programas presupuestarios 2021 asociados al ODS 4 por Dependencia/SEG/E057\",\"Programas presupuestarios 2021 asociados al ODS 4 por Dependencia/UPB/E057\",\"Programas presupuestarios 2021 asociados al ODS 4 por Dependencia/UPGTO/E057\",\"Programas presupuestarios 2021 asociados al ODS 4 por Dependencia/UPJR/E057\",\"Programas presupuestarios 2021 asociados al ODS 4 por Dependencia/UPPE/E057\",\"Programas presupuestarios 2021 asociados al ODS 4 por Dependencia/UTL/E057\",\"Programas presupuestarios 2021 asociados al ODS 4 por Dependencia/UTLB/E057\",\"Programas presupuestarios 2021 asociados al ODS 4 por Dependencia/UTNG/E057\",\"Programas presupuestarios 2021 asociados al ODS 4 por Dependencia/UTS/E057\",\"Programas presupuestarios 2021 asociados al ODS 4 por Dependencia/UTSMA/E057\",\"Programas presupuestarios 2021 asociados al ODS 4 por Dependencia/UTSOE/E057\",\"Programas presupuestarios 2021 asociados al ODS 4 por Dependencia/UVEG/E057\",\"Programas presupuestarios 2021 asociados al ODS 4 por Dependencia/DIF/E061\",\"Programas presupuestarios 2021 asociados al ODS 4 por Dependencia/SEG/E062\",\"Programas presupuestarios 2021 asociados al ODS 4 por Dependencia/UG/E066\",\"Programas presupuestarios 2021 asociados al ODS 4 por Dependencia/UG/E067\",\"Programas presupuestarios 2021 asociados al ODS 4 por Dependencia/UG/E068\",\"Programas presupuestarios 2021 asociados al ODS 4 por Dependencia/SEG/P004\",\"Programas presupuestarios 2021 asociados al ODS 4 por Dependencia/CECYTEG/P005\",\"Programas presupuestarios 2021 asociados al ODS 4 por Dependencia/CONALEP/P005\",\"Programas presupuestarios 2021 asociados al ODS 4 por Dependencia/EPRR/P005\",\"Programas presupuestarios 2021 asociados al ODS 4 por Dependencia/ITESA/P005\",\"Programas presupuestarios 2021 asociados al ODS 4 por Dependencia/ITESG/P005\",\"Programas presupuestarios 2021 asociados al ODS 4 por Dependencia/ITESI/P005\",\"Programas presupuestarios 2021 asociados al ODS 4 por Dependencia/ITESS/P005\",\"Programas presupuestarios 2021 asociados al ODS 4 por Dependencia/ITSPR/P005\",\"Programas presupuestarios 2021 asociados al ODS 4 por Dependencia/ITSUR/P005\",\"Programas presupuestarios 2021 asociados al ODS 4 por Dependencia/SABES/P005\",\"Programas presupuestarios 2021 asociados al ODS 4 por Dependencia/SEG/P005\",\"Programas presupuestarios 2021 asociados al ODS 4 por Dependencia/UPB/P005\",\"Programas presupuestarios 2021 asociados al ODS 4 por Dependencia/UPGTO/P005\",\"Programas presupuestarios 2021 asociados al ODS 4 por Dependencia/UPJR/P005\",\"Programas presupuestarios 2021 asociados al ODS 4 por Dependencia/UPPE/P005\",\"Programas presupuestarios 2021 asociados al ODS 4 por Dependencia/UTL/P005\",\"Programas presupuestarios 2021 asociados al ODS 4 por Dependencia/UTLB/P005\",\"Programas presupuestarios 2021 asociados al ODS 4 por Dependencia/UTNG/P005\",\"Programas presupuestarios 2021 asociados al ODS 4 por Dependencia/UTS/P005\",\"Programas presupuestarios 2021 asociados al ODS 4 por Dependencia/UTSMA/P005\",\"Programas presupuestarios 2021 asociados al ODS 4 por Dependencia/UTSOE/P005\",\"Programas presupuestarios 2021 asociados al ODS 4 por Dependencia/UVEG/P005\",\"Programas presupuestarios 2021 asociados al ODS 4 por Dependencia/CECYTEG\",\"Programas presupuestarios 2021 asociados al ODS 4 por Dependencia/CODE\",\"Programas presupuestarios 2021 asociados al ODS 4 por Dependencia/CONALEP\",\"Programas presupuestarios 2021 asociados al ODS 4 por Dependencia/DIF\",\"Programas presupuestarios 2021 asociados al ODS 4 por Dependencia/EPRR\",\"Programas presupuestarios 2021 asociados al ODS 4 por Dependencia/FORUM\",\"Programas presupuestarios 2021 asociados al ODS 4 por Dependencia/IEC\",\"Programas presupuestarios 2021 asociados al ODS 4 por Dependencia/INAEBA\",\"Programas presupuestarios 2021 asociados al ODS 4 por Dependencia/INIFEG\",\"Programas presupuestarios 2021 asociados al ODS 4 por Dependencia/ITESA\",\"Programas presupuestarios 2021 asociados al ODS 4 por Dependencia/ITESG\",\"Programas presupuestarios 2021 asociados al ODS 4 por Dependencia/ITESI\",\"Programas presupuestarios 2021 asociados al ODS 4 por Dependencia/ITESS\",\"Programas presupuestarios 2021 asociados al ODS 4 por Dependencia/ITSPR\",\"Programas presupuestarios 2021 asociados al ODS 4 por Dependencia/ITSUR\",\"Programas presupuestarios 2021 asociados al ODS 4 por Dependencia/JUVENTUDES GTO\",\"Programas presupuestarios 2021 asociados al ODS 4 por Dependencia/MIQ\",\"Programas presupuestarios 2021 asociados al ODS 4 por Dependencia/PEPNNA\",\"Programas presupuestarios 2021 asociados al ODS 4 por Dependencia/SABES\",\"Programas presupuestarios 2021 asociados al ODS 4 por Dependencia/SDSH\",\"Programas presupuestarios 2021 asociados al ODS 4 por Dependencia/SEG\",\"Programas presupuestarios 2021 asociados al ODS 4 por Dependencia/SG\",\"Programas presupuestarios 2021 asociados al ODS 4 por Dependencia/UG\",\"Programas presupuestarios 2021 asociados al ODS 4 por Dependencia/UPB\",\"Programas presupuestarios 2021 asociados al ODS 4 por Dependencia/UPGTO\",\"Programas presupuestarios 2021 asociados al ODS 4 por Dependencia/UPJR\",\"Programas presupuestarios 2021 asociados al ODS 4 por Dependencia/UPPE\",\"Programas presupuestarios 2021 asociados al ODS 4 por Dependencia/UTL\",\"Programas presupuestarios 2021 asociados al ODS 4 por Dependencia/UTLB\",\"Programas presupuestarios 2021 asociados al ODS 4 por Dependencia/UTNG\",\"Programas presupuestarios 2021 asociados al ODS 4 por Dependencia/UTS\",\"Programas presupuestarios 2021 asociados al ODS 4 por Dependencia/UTSMA\",\"Programas presupuestarios 2021 asociados al ODS 4 por Dependencia/UTSOE\",\"Programas presupuestarios 2021 asociados al ODS 4 por Dependencia/UVEG\",\"Programas presupuestarios 2021 asociados al ODS 4 por Dependencia\"],\"labels\":[\"E003\",\"E003\",\"E003\",\"E005\",\"E008\",\"E008\",\"E008\",\"E010\",\"E017\",\"E017\",\"E017\",\"E017\",\"E017\",\"E017\",\"E017\",\"E017\",\"E017\",\"E017\",\"E017\",\"E017\",\"E017\",\"E017\",\"E017\",\"E017\",\"E017\",\"E017\",\"E017\",\"E017\",\"E017\",\"E017\",\"E018\",\"E018\",\"E024\",\"E024\",\"E028\",\"E035\",\"E038\",\"E038\",\"E038\",\"E038\",\"E038\",\"E038\",\"E038\",\"E038\",\"E038\",\"E038\",\"E038\",\"E038\",\"E038\",\"E038\",\"E038\",\"E038\",\"E038\",\"E038\",\"E038\",\"E038\",\"E038\",\"E040\",\"E047\",\"E057\",\"E057\",\"E057\",\"E057\",\"E057\",\"E057\",\"E057\",\"E057\",\"E057\",\"E057\",\"E057\",\"E057\",\"E057\",\"E057\",\"E057\",\"E057\",\"E057\",\"E057\",\"E057\",\"E057\",\"E057\",\"E057\",\"E057\",\"E061\",\"E062\",\"E066\",\"E067\",\"E068\",\"P004\",\"P005\",\"P005\",\"P005\",\"P005\",\"P005\",\"P005\",\"P005\",\"P005\",\"P005\",\"P005\",\"P005\",\"P005\",\"P005\",\"P005\",\"P005\",\"P005\",\"P005\",\"P005\",\"P005\",\"P005\",\"P005\",\"P005\",\"CECYTEG\",\"CODE\",\"CONALEP\",\"DIF\",\"EPRR\",\"FORUM\",\"IEC\",\"INAEBA\",\"INIFEG\",\"ITESA\",\"ITESG\",\"ITESI\",\"ITESS\",\"ITSPR\",\"ITSUR\",\"JUVENTUDES GTO\",\"MIQ\",\"PEPNNA\",\"SABES\",\"SDSH\",\"SEG\",\"SG\",\"UG\",\"UPB\",\"UPGTO\",\"UPJR\",\"UPPE\",\"UTL\",\"UTLB\",\"UTNG\",\"UTS\",\"UTSMA\",\"UTSOE\",\"UVEG\",\"Programas presupuestarios 2021 asociados al ODS 4 por Dependencia\"],\"name\":\"\",\"parents\":[\"Programas presupuestarios 2021 asociados al ODS 4 por Dependencia/FORUM\",\"Programas presupuestarios 2021 asociados al ODS 4 por Dependencia/IEC\",\"Programas presupuestarios 2021 asociados al ODS 4 por Dependencia/MIQ\",\"Programas presupuestarios 2021 asociados al ODS 4 por Dependencia/SEG\",\"Programas presupuestarios 2021 asociados al ODS 4 por Dependencia/DIF\",\"Programas presupuestarios 2021 asociados al ODS 4 por Dependencia/PEPNNA\",\"Programas presupuestarios 2021 asociados al ODS 4 por Dependencia/SG\",\"Programas presupuestarios 2021 asociados al ODS 4 por Dependencia/SDSH\",\"Programas presupuestarios 2021 asociados al ODS 4 por Dependencia/CECYTEG\",\"Programas presupuestarios 2021 asociados al ODS 4 por Dependencia/CONALEP\",\"Programas presupuestarios 2021 asociados al ODS 4 por Dependencia/EPRR\",\"Programas presupuestarios 2021 asociados al ODS 4 por Dependencia/ITESA\",\"Programas presupuestarios 2021 asociados al ODS 4 por Dependencia/ITESG\",\"Programas presupuestarios 2021 asociados al ODS 4 por Dependencia/ITESI\",\"Programas presupuestarios 2021 asociados al ODS 4 por Dependencia/ITESS\",\"Programas presupuestarios 2021 asociados al ODS 4 por Dependencia/ITSPR\",\"Programas presupuestarios 2021 asociados al ODS 4 por Dependencia/ITSUR\",\"Programas presupuestarios 2021 asociados al ODS 4 por Dependencia/SABES\",\"Programas presupuestarios 2021 asociados al ODS 4 por Dependencia/SEG\",\"Programas presupuestarios 2021 asociados al ODS 4 por Dependencia/UPB\",\"Programas presupuestarios 2021 asociados al ODS 4 por Dependencia/UPGTO\",\"Programas presupuestarios 2021 asociados al ODS 4 por Dependencia/UPJR\",\"Programas presupuestarios 2021 asociados al ODS 4 por Dependencia/UPPE\",\"Programas presupuestarios 2021 asociados al ODS 4 por Dependencia/UTL\",\"Programas presupuestarios 2021 asociados al ODS 4 por Dependencia/UTLB\",\"Programas presupuestarios 2021 asociados al ODS 4 por Dependencia/UTNG\",\"Programas presupuestarios 2021 asociados al ODS 4 por Dependencia/UTS\",\"Programas presupuestarios 2021 asociados al ODS 4 por Dependencia/UTSMA\",\"Programas presupuestarios 2021 asociados al ODS 4 por Dependencia/UTSOE\",\"Programas presupuestarios 2021 asociados al ODS 4 por Dependencia/UVEG\",\"Programas presupuestarios 2021 asociados al ODS 4 por Dependencia/INIFEG\",\"Programas presupuestarios 2021 asociados al ODS 4 por Dependencia/SEG\",\"Programas presupuestarios 2021 asociados al ODS 4 por Dependencia/INAEBA\",\"Programas presupuestarios 2021 asociados al ODS 4 por Dependencia/SEG\",\"Programas presupuestarios 2021 asociados al ODS 4 por Dependencia/JUVENTUDES GTO\",\"Programas presupuestarios 2021 asociados al ODS 4 por Dependencia/UG\",\"Programas presupuestarios 2021 asociados al ODS 4 por Dependencia/CECYTEG\",\"Programas presupuestarios 2021 asociados al ODS 4 por Dependencia/CONALEP\",\"Programas presupuestarios 2021 asociados al ODS 4 por Dependencia/EPRR\",\"Programas presupuestarios 2021 asociados al ODS 4 por Dependencia/ITESG\",\"Programas presupuestarios 2021 asociados al ODS 4 por Dependencia/ITESI\",\"Programas presupuestarios 2021 asociados al ODS 4 por Dependencia/ITESS\",\"Programas presupuestarios 2021 asociados al ODS 4 por Dependencia/ITSPR\",\"Programas presupuestarios 2021 asociados al ODS 4 por Dependencia/ITSUR\",\"Programas presupuestarios 2021 asociados al ODS 4 por Dependencia/SABES\",\"Programas presupuestarios 2021 asociados al ODS 4 por Dependencia/SEG\",\"Programas presupuestarios 2021 asociados al ODS 4 por Dependencia/UPB\",\"Programas presupuestarios 2021 asociados al ODS 4 por Dependencia/UPGTO\",\"Programas presupuestarios 2021 asociados al ODS 4 por Dependencia/UPJR\",\"Programas presupuestarios 2021 asociados al ODS 4 por Dependencia/UPPE\",\"Programas presupuestarios 2021 asociados al ODS 4 por Dependencia/UTL\",\"Programas presupuestarios 2021 asociados al ODS 4 por Dependencia/UTLB\",\"Programas presupuestarios 2021 asociados al ODS 4 por Dependencia/UTNG\",\"Programas presupuestarios 2021 asociados al ODS 4 por Dependencia/UTS\",\"Programas presupuestarios 2021 asociados al ODS 4 por Dependencia/UTSMA\",\"Programas presupuestarios 2021 asociados al ODS 4 por Dependencia/UTSOE\",\"Programas presupuestarios 2021 asociados al ODS 4 por Dependencia/UVEG\",\"Programas presupuestarios 2021 asociados al ODS 4 por Dependencia/UG\",\"Programas presupuestarios 2021 asociados al ODS 4 por Dependencia/CODE\",\"Programas presupuestarios 2021 asociados al ODS 4 por Dependencia/CECYTEG\",\"Programas presupuestarios 2021 asociados al ODS 4 por Dependencia/CONALEP\",\"Programas presupuestarios 2021 asociados al ODS 4 por Dependencia/EPRR\",\"Programas presupuestarios 2021 asociados al ODS 4 por Dependencia/ITESA\",\"Programas presupuestarios 2021 asociados al ODS 4 por Dependencia/ITESG\",\"Programas presupuestarios 2021 asociados al ODS 4 por Dependencia/ITESI\",\"Programas presupuestarios 2021 asociados al ODS 4 por Dependencia/ITESS\",\"Programas presupuestarios 2021 asociados al ODS 4 por Dependencia/ITSPR\",\"Programas presupuestarios 2021 asociados al ODS 4 por Dependencia/ITSUR\",\"Programas presupuestarios 2021 asociados al ODS 4 por Dependencia/JUVENTUDES GTO\",\"Programas presupuestarios 2021 asociados al ODS 4 por Dependencia/SABES\",\"Programas presupuestarios 2021 asociados al ODS 4 por Dependencia/SEG\",\"Programas presupuestarios 2021 asociados al ODS 4 por Dependencia/UPB\",\"Programas presupuestarios 2021 asociados al ODS 4 por Dependencia/UPGTO\",\"Programas presupuestarios 2021 asociados al ODS 4 por Dependencia/UPJR\",\"Programas presupuestarios 2021 asociados al ODS 4 por Dependencia/UPPE\",\"Programas presupuestarios 2021 asociados al ODS 4 por Dependencia/UTL\",\"Programas presupuestarios 2021 asociados al ODS 4 por Dependencia/UTLB\",\"Programas presupuestarios 2021 asociados al ODS 4 por Dependencia/UTNG\",\"Programas presupuestarios 2021 asociados al ODS 4 por Dependencia/UTS\",\"Programas presupuestarios 2021 asociados al ODS 4 por Dependencia/UTSMA\",\"Programas presupuestarios 2021 asociados al ODS 4 por Dependencia/UTSOE\",\"Programas presupuestarios 2021 asociados al ODS 4 por Dependencia/UVEG\",\"Programas presupuestarios 2021 asociados al ODS 4 por Dependencia/DIF\",\"Programas presupuestarios 2021 asociados al ODS 4 por Dependencia/SEG\",\"Programas presupuestarios 2021 asociados al ODS 4 por Dependencia/UG\",\"Programas presupuestarios 2021 asociados al ODS 4 por Dependencia/UG\",\"Programas presupuestarios 2021 asociados al ODS 4 por Dependencia/UG\",\"Programas presupuestarios 2021 asociados al ODS 4 por Dependencia/SEG\",\"Programas presupuestarios 2021 asociados al ODS 4 por Dependencia/CECYTEG\",\"Programas presupuestarios 2021 asociados al ODS 4 por Dependencia/CONALEP\",\"Programas presupuestarios 2021 asociados al ODS 4 por Dependencia/EPRR\",\"Programas presupuestarios 2021 asociados al ODS 4 por Dependencia/ITESA\",\"Programas presupuestarios 2021 asociados al ODS 4 por Dependencia/ITESG\",\"Programas presupuestarios 2021 asociados al ODS 4 por Dependencia/ITESI\",\"Programas presupuestarios 2021 asociados al ODS 4 por Dependencia/ITESS\",\"Programas presupuestarios 2021 asociados al ODS 4 por Dependencia/ITSPR\",\"Programas presupuestarios 2021 asociados al ODS 4 por Dependencia/ITSUR\",\"Programas presupuestarios 2021 asociados al ODS 4 por Dependencia/SABES\",\"Programas presupuestarios 2021 asociados al ODS 4 por Dependencia/SEG\",\"Programas presupuestarios 2021 asociados al ODS 4 por Dependencia/UPB\",\"Programas presupuestarios 2021 asociados al ODS 4 por Dependencia/UPGTO\",\"Programas presupuestarios 2021 asociados al ODS 4 por Dependencia/UPJR\",\"Programas presupuestarios 2021 asociados al ODS 4 por Dependencia/UPPE\",\"Programas presupuestarios 2021 asociados al ODS 4 por Dependencia/UTL\",\"Programas presupuestarios 2021 asociados al ODS 4 por Dependencia/UTLB\",\"Programas presupuestarios 2021 asociados al ODS 4 por Dependencia/UTNG\",\"Programas presupuestarios 2021 asociados al ODS 4 por Dependencia/UTS\",\"Programas presupuestarios 2021 asociados al ODS 4 por Dependencia/UTSMA\",\"Programas presupuestarios 2021 asociados al ODS 4 por Dependencia/UTSOE\",\"Programas presupuestarios 2021 asociados al ODS 4 por Dependencia/UVEG\",\"Programas presupuestarios 2021 asociados al ODS 4 por Dependencia\",\"Programas presupuestarios 2021 asociados al ODS 4 por Dependencia\",\"Programas presupuestarios 2021 asociados al ODS 4 por Dependencia\",\"Programas presupuestarios 2021 asociados al ODS 4 por Dependencia\",\"Programas presupuestarios 2021 asociados al ODS 4 por Dependencia\",\"Programas presupuestarios 2021 asociados al ODS 4 por Dependencia\",\"Programas presupuestarios 2021 asociados al ODS 4 por Dependencia\",\"Programas presupuestarios 2021 asociados al ODS 4 por Dependencia\",\"Programas presupuestarios 2021 asociados al ODS 4 por Dependencia\",\"Programas presupuestarios 2021 asociados al ODS 4 por Dependencia\",\"Programas presupuestarios 2021 asociados al ODS 4 por Dependencia\",\"Programas presupuestarios 2021 asociados al ODS 4 por Dependencia\",\"Programas presupuestarios 2021 asociados al ODS 4 por Dependencia\",\"Programas presupuestarios 2021 asociados al ODS 4 por Dependencia\",\"Programas presupuestarios 2021 asociados al ODS 4 por Dependencia\",\"Programas presupuestarios 2021 asociados al ODS 4 por Dependencia\",\"Programas presupuestarios 2021 asociados al ODS 4 por Dependencia\",\"Programas presupuestarios 2021 asociados al ODS 4 por Dependencia\",\"Programas presupuestarios 2021 asociados al ODS 4 por Dependencia\",\"Programas presupuestarios 2021 asociados al ODS 4 por Dependencia\",\"Programas presupuestarios 2021 asociados al ODS 4 por Dependencia\",\"Programas presupuestarios 2021 asociados al ODS 4 por Dependencia\",\"Programas presupuestarios 2021 asociados al ODS 4 por Dependencia\",\"Programas presupuestarios 2021 asociados al ODS 4 por Dependencia\",\"Programas presupuestarios 2021 asociados al ODS 4 por Dependencia\",\"Programas presupuestarios 2021 asociados al ODS 4 por Dependencia\",\"Programas presupuestarios 2021 asociados al ODS 4 por Dependencia\",\"Programas presupuestarios 2021 asociados al ODS 4 por Dependencia\",\"Programas presupuestarios 2021 asociados al ODS 4 por Dependencia\",\"Programas presupuestarios 2021 asociados al ODS 4 por Dependencia\",\"Programas presupuestarios 2021 asociados al ODS 4 por Dependencia\",\"Programas presupuestarios 2021 asociados al ODS 4 por Dependencia\",\"Programas presupuestarios 2021 asociados al ODS 4 por Dependencia\",\"Programas presupuestarios 2021 asociados al ODS 4 por Dependencia\",\"\"],\"type\":\"treemap\",\"values\":[2,7,3,3,3,2,1,2,2,2,2,1,2,2,2,2,2,2,4,2,2,2,2,2,2,2,2,2,2,2,1,3,3,1,1,5,4,4,2,5,3,4,2,3,6,8,3,4,3,2,5,1,5,3,3,4,5,1,2,2,2,2,2,2,2,2,2,2,1,1,5,2,2,2,2,2,1,2,2,2,2,1,1,4,3,4,3,5,3,3,3,1,3,3,3,3,3,6,5,3,3,3,3,3,3,3,3,3,3,3,11,2,11,4,9,2,7,3,1,4,12,10,11,9,10,2,3,2,15,2,38,1,16,10,11,10,9,12,7,12,10,10,11,11,298]}],                        {\"font\":{\"size\":13},\"legend\":{\"tracegroupgap\":0},\"margin\":{\"t\":60},\"template\":{\"data\":{\"bar\":[{\"error_x\":{\"color\":\"#2a3f5f\"},\"error_y\":{\"color\":\"#2a3f5f\"},\"marker\":{\"line\":{\"color\":\"#E5ECF6\",\"width\":0.5},\"pattern\":{\"fillmode\":\"overlay\",\"size\":10,\"solidity\":0.2}},\"type\":\"bar\"}],\"barpolar\":[{\"marker\":{\"line\":{\"color\":\"#E5ECF6\",\"width\":0.5},\"pattern\":{\"fillmode\":\"overlay\",\"size\":10,\"solidity\":0.2}},\"type\":\"barpolar\"}],\"carpet\":[{\"aaxis\":{\"endlinecolor\":\"#2a3f5f\",\"gridcolor\":\"white\",\"linecolor\":\"white\",\"minorgridcolor\":\"white\",\"startlinecolor\":\"#2a3f5f\"},\"baxis\":{\"endlinecolor\":\"#2a3f5f\",\"gridcolor\":\"white\",\"linecolor\":\"white\",\"minorgridcolor\":\"white\",\"startlinecolor\":\"#2a3f5f\"},\"type\":\"carpet\"}],\"choropleth\":[{\"colorbar\":{\"outlinewidth\":0,\"ticks\":\"\"},\"type\":\"choropleth\"}],\"contour\":[{\"colorbar\":{\"outlinewidth\":0,\"ticks\":\"\"},\"colorscale\":[[0.0,\"#0d0887\"],[0.1111111111111111,\"#46039f\"],[0.2222222222222222,\"#7201a8\"],[0.3333333333333333,\"#9c179e\"],[0.4444444444444444,\"#bd3786\"],[0.5555555555555556,\"#d8576b\"],[0.6666666666666666,\"#ed7953\"],[0.7777777777777778,\"#fb9f3a\"],[0.8888888888888888,\"#fdca26\"],[1.0,\"#f0f921\"]],\"type\":\"contour\"}],\"contourcarpet\":[{\"colorbar\":{\"outlinewidth\":0,\"ticks\":\"\"},\"type\":\"contourcarpet\"}],\"heatmap\":[{\"colorbar\":{\"outlinewidth\":0,\"ticks\":\"\"},\"colorscale\":[[0.0,\"#0d0887\"],[0.1111111111111111,\"#46039f\"],[0.2222222222222222,\"#7201a8\"],[0.3333333333333333,\"#9c179e\"],[0.4444444444444444,\"#bd3786\"],[0.5555555555555556,\"#d8576b\"],[0.6666666666666666,\"#ed7953\"],[0.7777777777777778,\"#fb9f3a\"],[0.8888888888888888,\"#fdca26\"],[1.0,\"#f0f921\"]],\"type\":\"heatmap\"}],\"heatmapgl\":[{\"colorbar\":{\"outlinewidth\":0,\"ticks\":\"\"},\"colorscale\":[[0.0,\"#0d0887\"],[0.1111111111111111,\"#46039f\"],[0.2222222222222222,\"#7201a8\"],[0.3333333333333333,\"#9c179e\"],[0.4444444444444444,\"#bd3786\"],[0.5555555555555556,\"#d8576b\"],[0.6666666666666666,\"#ed7953\"],[0.7777777777777778,\"#fb9f3a\"],[0.8888888888888888,\"#fdca26\"],[1.0,\"#f0f921\"]],\"type\":\"heatmapgl\"}],\"histogram\":[{\"marker\":{\"pattern\":{\"fillmode\":\"overlay\",\"size\":10,\"solidity\":0.2}},\"type\":\"histogram\"}],\"histogram2d\":[{\"colorbar\":{\"outlinewidth\":0,\"ticks\":\"\"},\"colorscale\":[[0.0,\"#0d0887\"],[0.1111111111111111,\"#46039f\"],[0.2222222222222222,\"#7201a8\"],[0.3333333333333333,\"#9c179e\"],[0.4444444444444444,\"#bd3786\"],[0.5555555555555556,\"#d8576b\"],[0.6666666666666666,\"#ed7953\"],[0.7777777777777778,\"#fb9f3a\"],[0.8888888888888888,\"#fdca26\"],[1.0,\"#f0f921\"]],\"type\":\"histogram2d\"}],\"histogram2dcontour\":[{\"colorbar\":{\"outlinewidth\":0,\"ticks\":\"\"},\"colorscale\":[[0.0,\"#0d0887\"],[0.1111111111111111,\"#46039f\"],[0.2222222222222222,\"#7201a8\"],[0.3333333333333333,\"#9c179e\"],[0.4444444444444444,\"#bd3786\"],[0.5555555555555556,\"#d8576b\"],[0.6666666666666666,\"#ed7953\"],[0.7777777777777778,\"#fb9f3a\"],[0.8888888888888888,\"#fdca26\"],[1.0,\"#f0f921\"]],\"type\":\"histogram2dcontour\"}],\"mesh3d\":[{\"colorbar\":{\"outlinewidth\":0,\"ticks\":\"\"},\"type\":\"mesh3d\"}],\"parcoords\":[{\"line\":{\"colorbar\":{\"outlinewidth\":0,\"ticks\":\"\"}},\"type\":\"parcoords\"}],\"pie\":[{\"automargin\":true,\"type\":\"pie\"}],\"scatter\":[{\"marker\":{\"colorbar\":{\"outlinewidth\":0,\"ticks\":\"\"}},\"type\":\"scatter\"}],\"scatter3d\":[{\"line\":{\"colorbar\":{\"outlinewidth\":0,\"ticks\":\"\"}},\"marker\":{\"colorbar\":{\"outlinewidth\":0,\"ticks\":\"\"}},\"type\":\"scatter3d\"}],\"scattercarpet\":[{\"marker\":{\"colorbar\":{\"outlinewidth\":0,\"ticks\":\"\"}},\"type\":\"scattercarpet\"}],\"scattergeo\":[{\"marker\":{\"colorbar\":{\"outlinewidth\":0,\"ticks\":\"\"}},\"type\":\"scattergeo\"}],\"scattergl\":[{\"marker\":{\"colorbar\":{\"outlinewidth\":0,\"ticks\":\"\"}},\"type\":\"scattergl\"}],\"scattermapbox\":[{\"marker\":{\"colorbar\":{\"outlinewidth\":0,\"ticks\":\"\"}},\"type\":\"scattermapbox\"}],\"scatterpolar\":[{\"marker\":{\"colorbar\":{\"outlinewidth\":0,\"ticks\":\"\"}},\"type\":\"scatterpolar\"}],\"scatterpolargl\":[{\"marker\":{\"colorbar\":{\"outlinewidth\":0,\"ticks\":\"\"}},\"type\":\"scatterpolargl\"}],\"scatterternary\":[{\"marker\":{\"colorbar\":{\"outlinewidth\":0,\"ticks\":\"\"}},\"type\":\"scatterternary\"}],\"surface\":[{\"colorbar\":{\"outlinewidth\":0,\"ticks\":\"\"},\"colorscale\":[[0.0,\"#0d0887\"],[0.1111111111111111,\"#46039f\"],[0.2222222222222222,\"#7201a8\"],[0.3333333333333333,\"#9c179e\"],[0.4444444444444444,\"#bd3786\"],[0.5555555555555556,\"#d8576b\"],[0.6666666666666666,\"#ed7953\"],[0.7777777777777778,\"#fb9f3a\"],[0.8888888888888888,\"#fdca26\"],[1.0,\"#f0f921\"]],\"type\":\"surface\"}],\"table\":[{\"cells\":{\"fill\":{\"color\":\"#EBF0F8\"},\"line\":{\"color\":\"white\"}},\"header\":{\"fill\":{\"color\":\"#C8D4E3\"},\"line\":{\"color\":\"white\"}},\"type\":\"table\"}]},\"layout\":{\"annotationdefaults\":{\"arrowcolor\":\"#2a3f5f\",\"arrowhead\":0,\"arrowwidth\":1},\"autotypenumbers\":\"strict\",\"coloraxis\":{\"colorbar\":{\"outlinewidth\":0,\"ticks\":\"\"}},\"colorscale\":{\"diverging\":[[0,\"#8e0152\"],[0.1,\"#c51b7d\"],[0.2,\"#de77ae\"],[0.3,\"#f1b6da\"],[0.4,\"#fde0ef\"],[0.5,\"#f7f7f7\"],[0.6,\"#e6f5d0\"],[0.7,\"#b8e186\"],[0.8,\"#7fbc41\"],[0.9,\"#4d9221\"],[1,\"#276419\"]],\"sequential\":[[0.0,\"#0d0887\"],[0.1111111111111111,\"#46039f\"],[0.2222222222222222,\"#7201a8\"],[0.3333333333333333,\"#9c179e\"],[0.4444444444444444,\"#bd3786\"],[0.5555555555555556,\"#d8576b\"],[0.6666666666666666,\"#ed7953\"],[0.7777777777777778,\"#fb9f3a\"],[0.8888888888888888,\"#fdca26\"],[1.0,\"#f0f921\"]],\"sequentialminus\":[[0.0,\"#0d0887\"],[0.1111111111111111,\"#46039f\"],[0.2222222222222222,\"#7201a8\"],[0.3333333333333333,\"#9c179e\"],[0.4444444444444444,\"#bd3786\"],[0.5555555555555556,\"#d8576b\"],[0.6666666666666666,\"#ed7953\"],[0.7777777777777778,\"#fb9f3a\"],[0.8888888888888888,\"#fdca26\"],[1.0,\"#f0f921\"]]},\"colorway\":[\"#636efa\",\"#EF553B\",\"#00cc96\",\"#ab63fa\",\"#FFA15A\",\"#19d3f3\",\"#FF6692\",\"#B6E880\",\"#FF97FF\",\"#FECB52\"],\"font\":{\"color\":\"#2a3f5f\"},\"geo\":{\"bgcolor\":\"white\",\"lakecolor\":\"white\",\"landcolor\":\"#E5ECF6\",\"showlakes\":true,\"showland\":true,\"subunitcolor\":\"white\"},\"hoverlabel\":{\"align\":\"left\"},\"hovermode\":\"closest\",\"mapbox\":{\"style\":\"light\"},\"paper_bgcolor\":\"white\",\"plot_bgcolor\":\"#E5ECF6\",\"polar\":{\"angularaxis\":{\"gridcolor\":\"white\",\"linecolor\":\"white\",\"ticks\":\"\"},\"bgcolor\":\"#E5ECF6\",\"radialaxis\":{\"gridcolor\":\"white\",\"linecolor\":\"white\",\"ticks\":\"\"}},\"scene\":{\"xaxis\":{\"backgroundcolor\":\"#E5ECF6\",\"gridcolor\":\"white\",\"gridwidth\":2,\"linecolor\":\"white\",\"showbackground\":true,\"ticks\":\"\",\"zerolinecolor\":\"white\"},\"yaxis\":{\"backgroundcolor\":\"#E5ECF6\",\"gridcolor\":\"white\",\"gridwidth\":2,\"linecolor\":\"white\",\"showbackground\":true,\"ticks\":\"\",\"zerolinecolor\":\"white\"},\"zaxis\":{\"backgroundcolor\":\"#E5ECF6\",\"gridcolor\":\"white\",\"gridwidth\":2,\"linecolor\":\"white\",\"showbackground\":true,\"ticks\":\"\",\"zerolinecolor\":\"white\"}},\"shapedefaults\":{\"line\":{\"color\":\"#2a3f5f\"}},\"ternary\":{\"aaxis\":{\"gridcolor\":\"white\",\"linecolor\":\"white\",\"ticks\":\"\"},\"baxis\":{\"gridcolor\":\"white\",\"linecolor\":\"white\",\"ticks\":\"\"},\"bgcolor\":\"#E5ECF6\",\"caxis\":{\"gridcolor\":\"white\",\"linecolor\":\"white\",\"ticks\":\"\"}},\"title\":{\"x\":0.05},\"xaxis\":{\"automargin\":true,\"gridcolor\":\"white\",\"linecolor\":\"white\",\"ticks\":\"\",\"title\":{\"standoff\":15},\"zerolinecolor\":\"white\",\"zerolinewidth\":2},\"yaxis\":{\"automargin\":true,\"gridcolor\":\"white\",\"linecolor\":\"white\",\"ticks\":\"\",\"title\":{\"standoff\":15},\"zerolinecolor\":\"white\",\"zerolinewidth\":2}}},\"treemapcolorway\":[\"rgb(36, 86, 104)\",\"rgb(15, 114, 121)\",\"rgb(13, 143, 129)\",\"rgb(57, 171, 126)\",\"rgb(110, 197, 116)\",\"rgb(169, 220, 103)\",\"rgb(237, 239, 93)\"]},                        {\"responsive\": true}                    ).then(function(){\n                            \nvar gd = document.getElementById('4213f126-d1b3-48db-8fc4-3fb50a316890');\nvar x = new MutationObserver(function (mutations, observer) {{\n        var display = window.getComputedStyle(gd).display;\n        if (!display || display === 'none') {{\n            console.log([gd, 'removed!']);\n            Plotly.purge(gd);\n            observer.disconnect();\n        }}\n}});\n\n// Listen for the removal of the full notebook cells\nvar notebookContainer = gd.closest('#notebook-container');\nif (notebookContainer) {{\n    x.observe(notebookContainer, {childList: true});\n}}\n\n// Listen for the clearing of the current output cell\nvar outputEl = gd.closest('.output');\nif (outputEl) {{\n    x.observe(outputEl, {childList: true});\n}}\n\n                        })                };                            </script>        </div>\n</body>\n</html>"
     },
     "metadata": {},
     "output_type": "display_data"
    }
   ],
   "execution_count": null
  },
  {
   "cell_type": "code",
   "metadata": {
    "tags": [],
    "cell_id": "00015-b81760a0-a6ab-4a51-b35e-2a0d27f895d7",
    "deepnote_to_be_reexecuted": false,
    "source_hash": "e5b219e4",
    "execution_start": 1634263485754,
    "execution_millis": 551,
    "deepnote_cell_type": "code"
   },
   "source": "# Se define un dataframe que sirva para armar una bonita gráfica\ndf_dummy = df_inversion_ods_4.groupby(\"id_programa_presupuestario\",\n                                      as_index=False).sum().join(df_pp_ods_4.set_index(\"id_programa_presupuestario\")[\"id_siglas\"],\n                                                                 on=\"id_programa_presupuestario\").drop_duplicates()\n\n# Se ordenan las filas por monto aprobado y se divide entre un millón y se redondea \n# a dos lugares decimales para que todo quede en formato de millones de pesos\ndf_dummy[\"Programas\"] = 1\n\ndf_dummy[\"Programas Presupuestarios\"] = \"Proyectos de inversión 2021 asociados al ODS 4 por Dependencia y Programa\"\n\n# Se hace el treemap\nfig = px.treemap(df_dummy,\n                 path=[\"Programas Presupuestarios\", \"id_siglas\", \"id_programa_presupuestario\"],\n                 values=\"Programas\", color_discrete_sequence=px.colors.sequential.Aggrnyl)\n\n# Se ajusta el tamaño de la letra\nfig.update_layout(font_size=13)\n\n# Se guarda el html\nplotly.offline.plot(fig, filename='/work/treemap_inversion_dependencias_ods_4.html')\n\n# Se muestra la gráfica\nfig.show()",
   "outputs": [
    {
     "data": {
      "text/html": "<html>\n<head><meta charset=\"utf-8\" /></head>\n<body>\n    <div>            <script src=\"https://cdnjs.cloudflare.com/ajax/libs/mathjax/2.7.5/MathJax.js?config=TeX-AMS-MML_SVG\"></script><script type=\"text/javascript\">if (window.MathJax) {MathJax.Hub.Config({SVG: {font: \"STIX-Web\"}});}</script>                <script type=\"text/javascript\">window.PlotlyConfig = {MathJaxConfig: 'local'};</script>\n        <script src=\"https://cdn.plot.ly/plotly-2.4.2.min.js\"></script>                <div id=\"e383f2de-7854-443b-af38-ac5face8343a\" class=\"plotly-graph-div\" style=\"height:525px; width:100%;\"></div>            <script type=\"text/javascript\">                                    window.PLOTLYENV=window.PLOTLYENV || {};                                    if (document.getElementById(\"e383f2de-7854-443b-af38-ac5face8343a\")) {                    Plotly.newPlot(                        \"e383f2de-7854-443b-af38-ac5face8343a\",                        [{\"branchvalues\":\"total\",\"domain\":{\"x\":[0.0,1.0],\"y\":[0.0,1.0]},\"hovertemplate\":\"labels=%{label}<br>Programas=%{value}<br>parent=%{parent}<br>id=%{id}<extra></extra>\",\"ids\":[\"Proyectos de inversi\\u00f3n 2021 asociados al ODS 4 por Dependencia y Programa/FORUM/E003\",\"Proyectos de inversi\\u00f3n 2021 asociados al ODS 4 por Dependencia y Programa/IEC/E003\",\"Proyectos de inversi\\u00f3n 2021 asociados al ODS 4 por Dependencia y Programa/MIQ/E003\",\"Proyectos de inversi\\u00f3n 2021 asociados al ODS 4 por Dependencia y Programa/SEG/E005\",\"Proyectos de inversi\\u00f3n 2021 asociados al ODS 4 por Dependencia y Programa/DIF/E008\",\"Proyectos de inversi\\u00f3n 2021 asociados al ODS 4 por Dependencia y Programa/PEPNNA/E008\",\"Proyectos de inversi\\u00f3n 2021 asociados al ODS 4 por Dependencia y Programa/SG/E008\",\"Proyectos de inversi\\u00f3n 2021 asociados al ODS 4 por Dependencia y Programa/SDSH/E010\",\"Proyectos de inversi\\u00f3n 2021 asociados al ODS 4 por Dependencia y Programa/CECYTEG/E017\",\"Proyectos de inversi\\u00f3n 2021 asociados al ODS 4 por Dependencia y Programa/CONALEP/E017\",\"Proyectos de inversi\\u00f3n 2021 asociados al ODS 4 por Dependencia y Programa/EPRR/E017\",\"Proyectos de inversi\\u00f3n 2021 asociados al ODS 4 por Dependencia y Programa/ITESA/E017\",\"Proyectos de inversi\\u00f3n 2021 asociados al ODS 4 por Dependencia y Programa/ITESG/E017\",\"Proyectos de inversi\\u00f3n 2021 asociados al ODS 4 por Dependencia y Programa/ITESI/E017\",\"Proyectos de inversi\\u00f3n 2021 asociados al ODS 4 por Dependencia y Programa/ITESS/E017\",\"Proyectos de inversi\\u00f3n 2021 asociados al ODS 4 por Dependencia y Programa/ITSPR/E017\",\"Proyectos de inversi\\u00f3n 2021 asociados al ODS 4 por Dependencia y Programa/ITSUR/E017\",\"Proyectos de inversi\\u00f3n 2021 asociados al ODS 4 por Dependencia y Programa/SABES/E017\",\"Proyectos de inversi\\u00f3n 2021 asociados al ODS 4 por Dependencia y Programa/SEG/E017\",\"Proyectos de inversi\\u00f3n 2021 asociados al ODS 4 por Dependencia y Programa/UPB/E017\",\"Proyectos de inversi\\u00f3n 2021 asociados al ODS 4 por Dependencia y Programa/UPGTO/E017\",\"Proyectos de inversi\\u00f3n 2021 asociados al ODS 4 por Dependencia y Programa/UPJR/E017\",\"Proyectos de inversi\\u00f3n 2021 asociados al ODS 4 por Dependencia y Programa/UPPE/E017\",\"Proyectos de inversi\\u00f3n 2021 asociados al ODS 4 por Dependencia y Programa/UTL/E017\",\"Proyectos de inversi\\u00f3n 2021 asociados al ODS 4 por Dependencia y Programa/UTLB/E017\",\"Proyectos de inversi\\u00f3n 2021 asociados al ODS 4 por Dependencia y Programa/UTNG/E017\",\"Proyectos de inversi\\u00f3n 2021 asociados al ODS 4 por Dependencia y Programa/UTS/E017\",\"Proyectos de inversi\\u00f3n 2021 asociados al ODS 4 por Dependencia y Programa/UTSMA/E017\",\"Proyectos de inversi\\u00f3n 2021 asociados al ODS 4 por Dependencia y Programa/UTSOE/E017\",\"Proyectos de inversi\\u00f3n 2021 asociados al ODS 4 por Dependencia y Programa/UVEG/E017\",\"Proyectos de inversi\\u00f3n 2021 asociados al ODS 4 por Dependencia y Programa/INIFEG/E018\",\"Proyectos de inversi\\u00f3n 2021 asociados al ODS 4 por Dependencia y Programa/SEG/E018\",\"Proyectos de inversi\\u00f3n 2021 asociados al ODS 4 por Dependencia y Programa/CECYTEG/E038\",\"Proyectos de inversi\\u00f3n 2021 asociados al ODS 4 por Dependencia y Programa/CONALEP/E038\",\"Proyectos de inversi\\u00f3n 2021 asociados al ODS 4 por Dependencia y Programa/EPRR/E038\",\"Proyectos de inversi\\u00f3n 2021 asociados al ODS 4 por Dependencia y Programa/ITESG/E038\",\"Proyectos de inversi\\u00f3n 2021 asociados al ODS 4 por Dependencia y Programa/ITESI/E038\",\"Proyectos de inversi\\u00f3n 2021 asociados al ODS 4 por Dependencia y Programa/ITESS/E038\",\"Proyectos de inversi\\u00f3n 2021 asociados al ODS 4 por Dependencia y Programa/ITSPR/E038\",\"Proyectos de inversi\\u00f3n 2021 asociados al ODS 4 por Dependencia y Programa/ITSUR/E038\",\"Proyectos de inversi\\u00f3n 2021 asociados al ODS 4 por Dependencia y Programa/SABES/E038\",\"Proyectos de inversi\\u00f3n 2021 asociados al ODS 4 por Dependencia y Programa/SEG/E038\",\"Proyectos de inversi\\u00f3n 2021 asociados al ODS 4 por Dependencia y Programa/UPB/E038\",\"Proyectos de inversi\\u00f3n 2021 asociados al ODS 4 por Dependencia y Programa/UPGTO/E038\",\"Proyectos de inversi\\u00f3n 2021 asociados al ODS 4 por Dependencia y Programa/UPJR/E038\",\"Proyectos de inversi\\u00f3n 2021 asociados al ODS 4 por Dependencia y Programa/UPPE/E038\",\"Proyectos de inversi\\u00f3n 2021 asociados al ODS 4 por Dependencia y Programa/UTL/E038\",\"Proyectos de inversi\\u00f3n 2021 asociados al ODS 4 por Dependencia y Programa/UTLB/E038\",\"Proyectos de inversi\\u00f3n 2021 asociados al ODS 4 por Dependencia y Programa/UTNG/E038\",\"Proyectos de inversi\\u00f3n 2021 asociados al ODS 4 por Dependencia y Programa/UTS/E038\",\"Proyectos de inversi\\u00f3n 2021 asociados al ODS 4 por Dependencia y Programa/UTSMA/E038\",\"Proyectos de inversi\\u00f3n 2021 asociados al ODS 4 por Dependencia y Programa/UTSOE/E038\",\"Proyectos de inversi\\u00f3n 2021 asociados al ODS 4 por Dependencia y Programa/UVEG/E038\",\"Proyectos de inversi\\u00f3n 2021 asociados al ODS 4 por Dependencia y Programa/UG/E040\",\"Proyectos de inversi\\u00f3n 2021 asociados al ODS 4 por Dependencia y Programa/CODE/E047\",\"Proyectos de inversi\\u00f3n 2021 asociados al ODS 4 por Dependencia y Programa/CECYTEG/E057\",\"Proyectos de inversi\\u00f3n 2021 asociados al ODS 4 por Dependencia y Programa/CONALEP/E057\",\"Proyectos de inversi\\u00f3n 2021 asociados al ODS 4 por Dependencia y Programa/EPRR/E057\",\"Proyectos de inversi\\u00f3n 2021 asociados al ODS 4 por Dependencia y Programa/ITESA/E057\",\"Proyectos de inversi\\u00f3n 2021 asociados al ODS 4 por Dependencia y Programa/ITESG/E057\",\"Proyectos de inversi\\u00f3n 2021 asociados al ODS 4 por Dependencia y Programa/ITESI/E057\",\"Proyectos de inversi\\u00f3n 2021 asociados al ODS 4 por Dependencia y Programa/ITESS/E057\",\"Proyectos de inversi\\u00f3n 2021 asociados al ODS 4 por Dependencia y Programa/ITSPR/E057\",\"Proyectos de inversi\\u00f3n 2021 asociados al ODS 4 por Dependencia y Programa/ITSUR/E057\",\"Proyectos de inversi\\u00f3n 2021 asociados al ODS 4 por Dependencia y Programa/JUVENTUDES GTO/E057\",\"Proyectos de inversi\\u00f3n 2021 asociados al ODS 4 por Dependencia y Programa/SABES/E057\",\"Proyectos de inversi\\u00f3n 2021 asociados al ODS 4 por Dependencia y Programa/SEG/E057\",\"Proyectos de inversi\\u00f3n 2021 asociados al ODS 4 por Dependencia y Programa/UPB/E057\",\"Proyectos de inversi\\u00f3n 2021 asociados al ODS 4 por Dependencia y Programa/UPGTO/E057\",\"Proyectos de inversi\\u00f3n 2021 asociados al ODS 4 por Dependencia y Programa/UPJR/E057\",\"Proyectos de inversi\\u00f3n 2021 asociados al ODS 4 por Dependencia y Programa/UPPE/E057\",\"Proyectos de inversi\\u00f3n 2021 asociados al ODS 4 por Dependencia y Programa/UTL/E057\",\"Proyectos de inversi\\u00f3n 2021 asociados al ODS 4 por Dependencia y Programa/UTLB/E057\",\"Proyectos de inversi\\u00f3n 2021 asociados al ODS 4 por Dependencia y Programa/UTNG/E057\",\"Proyectos de inversi\\u00f3n 2021 asociados al ODS 4 por Dependencia y Programa/UTS/E057\",\"Proyectos de inversi\\u00f3n 2021 asociados al ODS 4 por Dependencia y Programa/UTSMA/E057\",\"Proyectos de inversi\\u00f3n 2021 asociados al ODS 4 por Dependencia y Programa/UTSOE/E057\",\"Proyectos de inversi\\u00f3n 2021 asociados al ODS 4 por Dependencia y Programa/UVEG/E057\",\"Proyectos de inversi\\u00f3n 2021 asociados al ODS 4 por Dependencia y Programa/SEG/E062\",\"Proyectos de inversi\\u00f3n 2021 asociados al ODS 4 por Dependencia y Programa/CECYTEG/P005\",\"Proyectos de inversi\\u00f3n 2021 asociados al ODS 4 por Dependencia y Programa/CONALEP/P005\",\"Proyectos de inversi\\u00f3n 2021 asociados al ODS 4 por Dependencia y Programa/EPRR/P005\",\"Proyectos de inversi\\u00f3n 2021 asociados al ODS 4 por Dependencia y Programa/ITESA/P005\",\"Proyectos de inversi\\u00f3n 2021 asociados al ODS 4 por Dependencia y Programa/ITESG/P005\",\"Proyectos de inversi\\u00f3n 2021 asociados al ODS 4 por Dependencia y Programa/ITESI/P005\",\"Proyectos de inversi\\u00f3n 2021 asociados al ODS 4 por Dependencia y Programa/ITESS/P005\",\"Proyectos de inversi\\u00f3n 2021 asociados al ODS 4 por Dependencia y Programa/ITSPR/P005\",\"Proyectos de inversi\\u00f3n 2021 asociados al ODS 4 por Dependencia y Programa/ITSUR/P005\",\"Proyectos de inversi\\u00f3n 2021 asociados al ODS 4 por Dependencia y Programa/SABES/P005\",\"Proyectos de inversi\\u00f3n 2021 asociados al ODS 4 por Dependencia y Programa/SEG/P005\",\"Proyectos de inversi\\u00f3n 2021 asociados al ODS 4 por Dependencia y Programa/UPB/P005\",\"Proyectos de inversi\\u00f3n 2021 asociados al ODS 4 por Dependencia y Programa/UPGTO/P005\",\"Proyectos de inversi\\u00f3n 2021 asociados al ODS 4 por Dependencia y Programa/UPJR/P005\",\"Proyectos de inversi\\u00f3n 2021 asociados al ODS 4 por Dependencia y Programa/UPPE/P005\",\"Proyectos de inversi\\u00f3n 2021 asociados al ODS 4 por Dependencia y Programa/UTL/P005\",\"Proyectos de inversi\\u00f3n 2021 asociados al ODS 4 por Dependencia y Programa/UTLB/P005\",\"Proyectos de inversi\\u00f3n 2021 asociados al ODS 4 por Dependencia y Programa/UTNG/P005\",\"Proyectos de inversi\\u00f3n 2021 asociados al ODS 4 por Dependencia y Programa/UTS/P005\",\"Proyectos de inversi\\u00f3n 2021 asociados al ODS 4 por Dependencia y Programa/UTSMA/P005\",\"Proyectos de inversi\\u00f3n 2021 asociados al ODS 4 por Dependencia y Programa/UTSOE/P005\",\"Proyectos de inversi\\u00f3n 2021 asociados al ODS 4 por Dependencia y Programa/UVEG/P005\",\"Proyectos de inversi\\u00f3n 2021 asociados al ODS 4 por Dependencia y Programa/CECYTEG\",\"Proyectos de inversi\\u00f3n 2021 asociados al ODS 4 por Dependencia y Programa/CODE\",\"Proyectos de inversi\\u00f3n 2021 asociados al ODS 4 por Dependencia y Programa/CONALEP\",\"Proyectos de inversi\\u00f3n 2021 asociados al ODS 4 por Dependencia y Programa/DIF\",\"Proyectos de inversi\\u00f3n 2021 asociados al ODS 4 por Dependencia y Programa/EPRR\",\"Proyectos de inversi\\u00f3n 2021 asociados al ODS 4 por Dependencia y Programa/FORUM\",\"Proyectos de inversi\\u00f3n 2021 asociados al ODS 4 por Dependencia y Programa/IEC\",\"Proyectos de inversi\\u00f3n 2021 asociados al ODS 4 por Dependencia y Programa/INIFEG\",\"Proyectos de inversi\\u00f3n 2021 asociados al ODS 4 por Dependencia y Programa/ITESA\",\"Proyectos de inversi\\u00f3n 2021 asociados al ODS 4 por Dependencia y Programa/ITESG\",\"Proyectos de inversi\\u00f3n 2021 asociados al ODS 4 por Dependencia y Programa/ITESI\",\"Proyectos de inversi\\u00f3n 2021 asociados al ODS 4 por Dependencia y Programa/ITESS\",\"Proyectos de inversi\\u00f3n 2021 asociados al ODS 4 por Dependencia y Programa/ITSPR\",\"Proyectos de inversi\\u00f3n 2021 asociados al ODS 4 por Dependencia y Programa/ITSUR\",\"Proyectos de inversi\\u00f3n 2021 asociados al ODS 4 por Dependencia y Programa/JUVENTUDES GTO\",\"Proyectos de inversi\\u00f3n 2021 asociados al ODS 4 por Dependencia y Programa/MIQ\",\"Proyectos de inversi\\u00f3n 2021 asociados al ODS 4 por Dependencia y Programa/PEPNNA\",\"Proyectos de inversi\\u00f3n 2021 asociados al ODS 4 por Dependencia y Programa/SABES\",\"Proyectos de inversi\\u00f3n 2021 asociados al ODS 4 por Dependencia y Programa/SDSH\",\"Proyectos de inversi\\u00f3n 2021 asociados al ODS 4 por Dependencia y Programa/SEG\",\"Proyectos de inversi\\u00f3n 2021 asociados al ODS 4 por Dependencia y Programa/SG\",\"Proyectos de inversi\\u00f3n 2021 asociados al ODS 4 por Dependencia y Programa/UG\",\"Proyectos de inversi\\u00f3n 2021 asociados al ODS 4 por Dependencia y Programa/UPB\",\"Proyectos de inversi\\u00f3n 2021 asociados al ODS 4 por Dependencia y Programa/UPGTO\",\"Proyectos de inversi\\u00f3n 2021 asociados al ODS 4 por Dependencia y Programa/UPJR\",\"Proyectos de inversi\\u00f3n 2021 asociados al ODS 4 por Dependencia y Programa/UPPE\",\"Proyectos de inversi\\u00f3n 2021 asociados al ODS 4 por Dependencia y Programa/UTL\",\"Proyectos de inversi\\u00f3n 2021 asociados al ODS 4 por Dependencia y Programa/UTLB\",\"Proyectos de inversi\\u00f3n 2021 asociados al ODS 4 por Dependencia y Programa/UTNG\",\"Proyectos de inversi\\u00f3n 2021 asociados al ODS 4 por Dependencia y Programa/UTS\",\"Proyectos de inversi\\u00f3n 2021 asociados al ODS 4 por Dependencia y Programa/UTSMA\",\"Proyectos de inversi\\u00f3n 2021 asociados al ODS 4 por Dependencia y Programa/UTSOE\",\"Proyectos de inversi\\u00f3n 2021 asociados al ODS 4 por Dependencia y Programa/UVEG\",\"Proyectos de inversi\\u00f3n 2021 asociados al ODS 4 por Dependencia y Programa\"],\"labels\":[\"E003\",\"E003\",\"E003\",\"E005\",\"E008\",\"E008\",\"E008\",\"E010\",\"E017\",\"E017\",\"E017\",\"E017\",\"E017\",\"E017\",\"E017\",\"E017\",\"E017\",\"E017\",\"E017\",\"E017\",\"E017\",\"E017\",\"E017\",\"E017\",\"E017\",\"E017\",\"E017\",\"E017\",\"E017\",\"E017\",\"E018\",\"E018\",\"E038\",\"E038\",\"E038\",\"E038\",\"E038\",\"E038\",\"E038\",\"E038\",\"E038\",\"E038\",\"E038\",\"E038\",\"E038\",\"E038\",\"E038\",\"E038\",\"E038\",\"E038\",\"E038\",\"E038\",\"E038\",\"E040\",\"E047\",\"E057\",\"E057\",\"E057\",\"E057\",\"E057\",\"E057\",\"E057\",\"E057\",\"E057\",\"E057\",\"E057\",\"E057\",\"E057\",\"E057\",\"E057\",\"E057\",\"E057\",\"E057\",\"E057\",\"E057\",\"E057\",\"E057\",\"E057\",\"E062\",\"P005\",\"P005\",\"P005\",\"P005\",\"P005\",\"P005\",\"P005\",\"P005\",\"P005\",\"P005\",\"P005\",\"P005\",\"P005\",\"P005\",\"P005\",\"P005\",\"P005\",\"P005\",\"P005\",\"P005\",\"P005\",\"P005\",\"CECYTEG\",\"CODE\",\"CONALEP\",\"DIF\",\"EPRR\",\"FORUM\",\"IEC\",\"INIFEG\",\"ITESA\",\"ITESG\",\"ITESI\",\"ITESS\",\"ITSPR\",\"ITSUR\",\"JUVENTUDES GTO\",\"MIQ\",\"PEPNNA\",\"SABES\",\"SDSH\",\"SEG\",\"SG\",\"UG\",\"UPB\",\"UPGTO\",\"UPJR\",\"UPPE\",\"UTL\",\"UTLB\",\"UTNG\",\"UTS\",\"UTSMA\",\"UTSOE\",\"UVEG\",\"Proyectos de inversi\\u00f3n 2021 asociados al ODS 4 por Dependencia y Programa\"],\"name\":\"\",\"parents\":[\"Proyectos de inversi\\u00f3n 2021 asociados al ODS 4 por Dependencia y Programa/FORUM\",\"Proyectos de inversi\\u00f3n 2021 asociados al ODS 4 por Dependencia y Programa/IEC\",\"Proyectos de inversi\\u00f3n 2021 asociados al ODS 4 por Dependencia y Programa/MIQ\",\"Proyectos de inversi\\u00f3n 2021 asociados al ODS 4 por Dependencia y Programa/SEG\",\"Proyectos de inversi\\u00f3n 2021 asociados al ODS 4 por Dependencia y Programa/DIF\",\"Proyectos de inversi\\u00f3n 2021 asociados al ODS 4 por Dependencia y Programa/PEPNNA\",\"Proyectos de inversi\\u00f3n 2021 asociados al ODS 4 por Dependencia y Programa/SG\",\"Proyectos de inversi\\u00f3n 2021 asociados al ODS 4 por Dependencia y Programa/SDSH\",\"Proyectos de inversi\\u00f3n 2021 asociados al ODS 4 por Dependencia y Programa/CECYTEG\",\"Proyectos de inversi\\u00f3n 2021 asociados al ODS 4 por Dependencia y Programa/CONALEP\",\"Proyectos de inversi\\u00f3n 2021 asociados al ODS 4 por Dependencia y Programa/EPRR\",\"Proyectos de inversi\\u00f3n 2021 asociados al ODS 4 por Dependencia y Programa/ITESA\",\"Proyectos de inversi\\u00f3n 2021 asociados al ODS 4 por Dependencia y Programa/ITESG\",\"Proyectos de inversi\\u00f3n 2021 asociados al ODS 4 por Dependencia y Programa/ITESI\",\"Proyectos de inversi\\u00f3n 2021 asociados al ODS 4 por Dependencia y Programa/ITESS\",\"Proyectos de inversi\\u00f3n 2021 asociados al ODS 4 por Dependencia y Programa/ITSPR\",\"Proyectos de inversi\\u00f3n 2021 asociados al ODS 4 por Dependencia y Programa/ITSUR\",\"Proyectos de inversi\\u00f3n 2021 asociados al ODS 4 por Dependencia y Programa/SABES\",\"Proyectos de inversi\\u00f3n 2021 asociados al ODS 4 por Dependencia y Programa/SEG\",\"Proyectos de inversi\\u00f3n 2021 asociados al ODS 4 por Dependencia y Programa/UPB\",\"Proyectos de inversi\\u00f3n 2021 asociados al ODS 4 por Dependencia y Programa/UPGTO\",\"Proyectos de inversi\\u00f3n 2021 asociados al ODS 4 por Dependencia y Programa/UPJR\",\"Proyectos de inversi\\u00f3n 2021 asociados al ODS 4 por Dependencia y Programa/UPPE\",\"Proyectos de inversi\\u00f3n 2021 asociados al ODS 4 por Dependencia y Programa/UTL\",\"Proyectos de inversi\\u00f3n 2021 asociados al ODS 4 por Dependencia y Programa/UTLB\",\"Proyectos de inversi\\u00f3n 2021 asociados al ODS 4 por Dependencia y Programa/UTNG\",\"Proyectos de inversi\\u00f3n 2021 asociados al ODS 4 por Dependencia y Programa/UTS\",\"Proyectos de inversi\\u00f3n 2021 asociados al ODS 4 por Dependencia y Programa/UTSMA\",\"Proyectos de inversi\\u00f3n 2021 asociados al ODS 4 por Dependencia y Programa/UTSOE\",\"Proyectos de inversi\\u00f3n 2021 asociados al ODS 4 por Dependencia y Programa/UVEG\",\"Proyectos de inversi\\u00f3n 2021 asociados al ODS 4 por Dependencia y Programa/INIFEG\",\"Proyectos de inversi\\u00f3n 2021 asociados al ODS 4 por Dependencia y Programa/SEG\",\"Proyectos de inversi\\u00f3n 2021 asociados al ODS 4 por Dependencia y Programa/CECYTEG\",\"Proyectos de inversi\\u00f3n 2021 asociados al ODS 4 por Dependencia y Programa/CONALEP\",\"Proyectos de inversi\\u00f3n 2021 asociados al ODS 4 por Dependencia y Programa/EPRR\",\"Proyectos de inversi\\u00f3n 2021 asociados al ODS 4 por Dependencia y Programa/ITESG\",\"Proyectos de inversi\\u00f3n 2021 asociados al ODS 4 por Dependencia y Programa/ITESI\",\"Proyectos de inversi\\u00f3n 2021 asociados al ODS 4 por Dependencia y Programa/ITESS\",\"Proyectos de inversi\\u00f3n 2021 asociados al ODS 4 por Dependencia y Programa/ITSPR\",\"Proyectos de inversi\\u00f3n 2021 asociados al ODS 4 por Dependencia y Programa/ITSUR\",\"Proyectos de inversi\\u00f3n 2021 asociados al ODS 4 por Dependencia y Programa/SABES\",\"Proyectos de inversi\\u00f3n 2021 asociados al ODS 4 por Dependencia y Programa/SEG\",\"Proyectos de inversi\\u00f3n 2021 asociados al ODS 4 por Dependencia y Programa/UPB\",\"Proyectos de inversi\\u00f3n 2021 asociados al ODS 4 por Dependencia y Programa/UPGTO\",\"Proyectos de inversi\\u00f3n 2021 asociados al ODS 4 por Dependencia y Programa/UPJR\",\"Proyectos de inversi\\u00f3n 2021 asociados al ODS 4 por Dependencia y Programa/UPPE\",\"Proyectos de inversi\\u00f3n 2021 asociados al ODS 4 por Dependencia y Programa/UTL\",\"Proyectos de inversi\\u00f3n 2021 asociados al ODS 4 por Dependencia y Programa/UTLB\",\"Proyectos de inversi\\u00f3n 2021 asociados al ODS 4 por Dependencia y Programa/UTNG\",\"Proyectos de inversi\\u00f3n 2021 asociados al ODS 4 por Dependencia y Programa/UTS\",\"Proyectos de inversi\\u00f3n 2021 asociados al ODS 4 por Dependencia y Programa/UTSMA\",\"Proyectos de inversi\\u00f3n 2021 asociados al ODS 4 por Dependencia y Programa/UTSOE\",\"Proyectos de inversi\\u00f3n 2021 asociados al ODS 4 por Dependencia y Programa/UVEG\",\"Proyectos de inversi\\u00f3n 2021 asociados al ODS 4 por Dependencia y Programa/UG\",\"Proyectos de inversi\\u00f3n 2021 asociados al ODS 4 por Dependencia y Programa/CODE\",\"Proyectos de inversi\\u00f3n 2021 asociados al ODS 4 por Dependencia y Programa/CECYTEG\",\"Proyectos de inversi\\u00f3n 2021 asociados al ODS 4 por Dependencia y Programa/CONALEP\",\"Proyectos de inversi\\u00f3n 2021 asociados al ODS 4 por Dependencia y Programa/EPRR\",\"Proyectos de inversi\\u00f3n 2021 asociados al ODS 4 por Dependencia y Programa/ITESA\",\"Proyectos de inversi\\u00f3n 2021 asociados al ODS 4 por Dependencia y Programa/ITESG\",\"Proyectos de inversi\\u00f3n 2021 asociados al ODS 4 por Dependencia y Programa/ITESI\",\"Proyectos de inversi\\u00f3n 2021 asociados al ODS 4 por Dependencia y Programa/ITESS\",\"Proyectos de inversi\\u00f3n 2021 asociados al ODS 4 por Dependencia y Programa/ITSPR\",\"Proyectos de inversi\\u00f3n 2021 asociados al ODS 4 por Dependencia y Programa/ITSUR\",\"Proyectos de inversi\\u00f3n 2021 asociados al ODS 4 por Dependencia y Programa/JUVENTUDES GTO\",\"Proyectos de inversi\\u00f3n 2021 asociados al ODS 4 por Dependencia y Programa/SABES\",\"Proyectos de inversi\\u00f3n 2021 asociados al ODS 4 por Dependencia y Programa/SEG\",\"Proyectos de inversi\\u00f3n 2021 asociados al ODS 4 por Dependencia y Programa/UPB\",\"Proyectos de inversi\\u00f3n 2021 asociados al ODS 4 por Dependencia y Programa/UPGTO\",\"Proyectos de inversi\\u00f3n 2021 asociados al ODS 4 por Dependencia y Programa/UPJR\",\"Proyectos de inversi\\u00f3n 2021 asociados al ODS 4 por Dependencia y Programa/UPPE\",\"Proyectos de inversi\\u00f3n 2021 asociados al ODS 4 por Dependencia y Programa/UTL\",\"Proyectos de inversi\\u00f3n 2021 asociados al ODS 4 por Dependencia y Programa/UTLB\",\"Proyectos de inversi\\u00f3n 2021 asociados al ODS 4 por Dependencia y Programa/UTNG\",\"Proyectos de inversi\\u00f3n 2021 asociados al ODS 4 por Dependencia y Programa/UTS\",\"Proyectos de inversi\\u00f3n 2021 asociados al ODS 4 por Dependencia y Programa/UTSMA\",\"Proyectos de inversi\\u00f3n 2021 asociados al ODS 4 por Dependencia y Programa/UTSOE\",\"Proyectos de inversi\\u00f3n 2021 asociados al ODS 4 por Dependencia y Programa/UVEG\",\"Proyectos de inversi\\u00f3n 2021 asociados al ODS 4 por Dependencia y Programa/SEG\",\"Proyectos de inversi\\u00f3n 2021 asociados al ODS 4 por Dependencia y Programa/CECYTEG\",\"Proyectos de inversi\\u00f3n 2021 asociados al ODS 4 por Dependencia y Programa/CONALEP\",\"Proyectos de inversi\\u00f3n 2021 asociados al ODS 4 por Dependencia y Programa/EPRR\",\"Proyectos de inversi\\u00f3n 2021 asociados al ODS 4 por Dependencia y Programa/ITESA\",\"Proyectos de inversi\\u00f3n 2021 asociados al ODS 4 por Dependencia y Programa/ITESG\",\"Proyectos de inversi\\u00f3n 2021 asociados al ODS 4 por Dependencia y Programa/ITESI\",\"Proyectos de inversi\\u00f3n 2021 asociados al ODS 4 por Dependencia y Programa/ITESS\",\"Proyectos de inversi\\u00f3n 2021 asociados al ODS 4 por Dependencia y Programa/ITSPR\",\"Proyectos de inversi\\u00f3n 2021 asociados al ODS 4 por Dependencia y Programa/ITSUR\",\"Proyectos de inversi\\u00f3n 2021 asociados al ODS 4 por Dependencia y Programa/SABES\",\"Proyectos de inversi\\u00f3n 2021 asociados al ODS 4 por Dependencia y Programa/SEG\",\"Proyectos de inversi\\u00f3n 2021 asociados al ODS 4 por Dependencia y Programa/UPB\",\"Proyectos de inversi\\u00f3n 2021 asociados al ODS 4 por Dependencia y Programa/UPGTO\",\"Proyectos de inversi\\u00f3n 2021 asociados al ODS 4 por Dependencia y Programa/UPJR\",\"Proyectos de inversi\\u00f3n 2021 asociados al ODS 4 por Dependencia y Programa/UPPE\",\"Proyectos de inversi\\u00f3n 2021 asociados al ODS 4 por Dependencia y Programa/UTL\",\"Proyectos de inversi\\u00f3n 2021 asociados al ODS 4 por Dependencia y Programa/UTLB\",\"Proyectos de inversi\\u00f3n 2021 asociados al ODS 4 por Dependencia y Programa/UTNG\",\"Proyectos de inversi\\u00f3n 2021 asociados al ODS 4 por Dependencia y Programa/UTS\",\"Proyectos de inversi\\u00f3n 2021 asociados al ODS 4 por Dependencia y Programa/UTSMA\",\"Proyectos de inversi\\u00f3n 2021 asociados al ODS 4 por Dependencia y Programa/UTSOE\",\"Proyectos de inversi\\u00f3n 2021 asociados al ODS 4 por Dependencia y Programa/UVEG\",\"Proyectos de inversi\\u00f3n 2021 asociados al ODS 4 por Dependencia y Programa\",\"Proyectos de inversi\\u00f3n 2021 asociados al ODS 4 por Dependencia y Programa\",\"Proyectos de inversi\\u00f3n 2021 asociados al ODS 4 por Dependencia y Programa\",\"Proyectos de inversi\\u00f3n 2021 asociados al ODS 4 por Dependencia y Programa\",\"Proyectos de inversi\\u00f3n 2021 asociados al ODS 4 por Dependencia y Programa\",\"Proyectos de inversi\\u00f3n 2021 asociados al ODS 4 por Dependencia y Programa\",\"Proyectos de inversi\\u00f3n 2021 asociados al ODS 4 por Dependencia y Programa\",\"Proyectos de inversi\\u00f3n 2021 asociados al ODS 4 por Dependencia y Programa\",\"Proyectos de inversi\\u00f3n 2021 asociados al ODS 4 por Dependencia y Programa\",\"Proyectos de inversi\\u00f3n 2021 asociados al ODS 4 por Dependencia y Programa\",\"Proyectos de inversi\\u00f3n 2021 asociados al ODS 4 por Dependencia y Programa\",\"Proyectos de inversi\\u00f3n 2021 asociados al ODS 4 por Dependencia y Programa\",\"Proyectos de inversi\\u00f3n 2021 asociados al ODS 4 por Dependencia y Programa\",\"Proyectos de inversi\\u00f3n 2021 asociados al ODS 4 por Dependencia y Programa\",\"Proyectos de inversi\\u00f3n 2021 asociados al ODS 4 por Dependencia y Programa\",\"Proyectos de inversi\\u00f3n 2021 asociados al ODS 4 por Dependencia y Programa\",\"Proyectos de inversi\\u00f3n 2021 asociados al ODS 4 por Dependencia y Programa\",\"Proyectos de inversi\\u00f3n 2021 asociados al ODS 4 por Dependencia y Programa\",\"Proyectos de inversi\\u00f3n 2021 asociados al ODS 4 por Dependencia y Programa\",\"Proyectos de inversi\\u00f3n 2021 asociados al ODS 4 por Dependencia y Programa\",\"Proyectos de inversi\\u00f3n 2021 asociados al ODS 4 por Dependencia y Programa\",\"Proyectos de inversi\\u00f3n 2021 asociados al ODS 4 por Dependencia y Programa\",\"Proyectos de inversi\\u00f3n 2021 asociados al ODS 4 por Dependencia y Programa\",\"Proyectos de inversi\\u00f3n 2021 asociados al ODS 4 por Dependencia y Programa\",\"Proyectos de inversi\\u00f3n 2021 asociados al ODS 4 por Dependencia y Programa\",\"Proyectos de inversi\\u00f3n 2021 asociados al ODS 4 por Dependencia y Programa\",\"Proyectos de inversi\\u00f3n 2021 asociados al ODS 4 por Dependencia y Programa\",\"Proyectos de inversi\\u00f3n 2021 asociados al ODS 4 por Dependencia y Programa\",\"Proyectos de inversi\\u00f3n 2021 asociados al ODS 4 por Dependencia y Programa\",\"Proyectos de inversi\\u00f3n 2021 asociados al ODS 4 por Dependencia y Programa\",\"Proyectos de inversi\\u00f3n 2021 asociados al ODS 4 por Dependencia y Programa\",\"Proyectos de inversi\\u00f3n 2021 asociados al ODS 4 por Dependencia y Programa\",\"Proyectos de inversi\\u00f3n 2021 asociados al ODS 4 por Dependencia y Programa\",\"\"],\"type\":\"treemap\",\"values\":[1,1,1,1,1,1,1,1,1,1,1,1,1,1,1,1,1,1,1,1,1,1,1,1,1,1,1,1,1,1,1,1,1,1,1,1,1,1,1,1,1,1,1,1,1,1,1,1,1,1,1,1,1,1,1,1,1,1,1,1,1,1,1,1,1,1,1,1,1,1,1,1,1,1,1,1,1,1,1,1,1,1,1,1,1,1,1,1,1,1,1,1,1,1,1,1,1,1,1,1,1,4,1,4,1,4,1,1,1,3,4,4,4,4,4,1,1,1,4,1,7,1,1,4,4,4,4,4,4,4,4,4,4,4,101]}],                        {\"font\":{\"size\":13},\"legend\":{\"tracegroupgap\":0},\"margin\":{\"t\":60},\"template\":{\"data\":{\"bar\":[{\"error_x\":{\"color\":\"#2a3f5f\"},\"error_y\":{\"color\":\"#2a3f5f\"},\"marker\":{\"line\":{\"color\":\"#E5ECF6\",\"width\":0.5},\"pattern\":{\"fillmode\":\"overlay\",\"size\":10,\"solidity\":0.2}},\"type\":\"bar\"}],\"barpolar\":[{\"marker\":{\"line\":{\"color\":\"#E5ECF6\",\"width\":0.5},\"pattern\":{\"fillmode\":\"overlay\",\"size\":10,\"solidity\":0.2}},\"type\":\"barpolar\"}],\"carpet\":[{\"aaxis\":{\"endlinecolor\":\"#2a3f5f\",\"gridcolor\":\"white\",\"linecolor\":\"white\",\"minorgridcolor\":\"white\",\"startlinecolor\":\"#2a3f5f\"},\"baxis\":{\"endlinecolor\":\"#2a3f5f\",\"gridcolor\":\"white\",\"linecolor\":\"white\",\"minorgridcolor\":\"white\",\"startlinecolor\":\"#2a3f5f\"},\"type\":\"carpet\"}],\"choropleth\":[{\"colorbar\":{\"outlinewidth\":0,\"ticks\":\"\"},\"type\":\"choropleth\"}],\"contour\":[{\"colorbar\":{\"outlinewidth\":0,\"ticks\":\"\"},\"colorscale\":[[0.0,\"#0d0887\"],[0.1111111111111111,\"#46039f\"],[0.2222222222222222,\"#7201a8\"],[0.3333333333333333,\"#9c179e\"],[0.4444444444444444,\"#bd3786\"],[0.5555555555555556,\"#d8576b\"],[0.6666666666666666,\"#ed7953\"],[0.7777777777777778,\"#fb9f3a\"],[0.8888888888888888,\"#fdca26\"],[1.0,\"#f0f921\"]],\"type\":\"contour\"}],\"contourcarpet\":[{\"colorbar\":{\"outlinewidth\":0,\"ticks\":\"\"},\"type\":\"contourcarpet\"}],\"heatmap\":[{\"colorbar\":{\"outlinewidth\":0,\"ticks\":\"\"},\"colorscale\":[[0.0,\"#0d0887\"],[0.1111111111111111,\"#46039f\"],[0.2222222222222222,\"#7201a8\"],[0.3333333333333333,\"#9c179e\"],[0.4444444444444444,\"#bd3786\"],[0.5555555555555556,\"#d8576b\"],[0.6666666666666666,\"#ed7953\"],[0.7777777777777778,\"#fb9f3a\"],[0.8888888888888888,\"#fdca26\"],[1.0,\"#f0f921\"]],\"type\":\"heatmap\"}],\"heatmapgl\":[{\"colorbar\":{\"outlinewidth\":0,\"ticks\":\"\"},\"colorscale\":[[0.0,\"#0d0887\"],[0.1111111111111111,\"#46039f\"],[0.2222222222222222,\"#7201a8\"],[0.3333333333333333,\"#9c179e\"],[0.4444444444444444,\"#bd3786\"],[0.5555555555555556,\"#d8576b\"],[0.6666666666666666,\"#ed7953\"],[0.7777777777777778,\"#fb9f3a\"],[0.8888888888888888,\"#fdca26\"],[1.0,\"#f0f921\"]],\"type\":\"heatmapgl\"}],\"histogram\":[{\"marker\":{\"pattern\":{\"fillmode\":\"overlay\",\"size\":10,\"solidity\":0.2}},\"type\":\"histogram\"}],\"histogram2d\":[{\"colorbar\":{\"outlinewidth\":0,\"ticks\":\"\"},\"colorscale\":[[0.0,\"#0d0887\"],[0.1111111111111111,\"#46039f\"],[0.2222222222222222,\"#7201a8\"],[0.3333333333333333,\"#9c179e\"],[0.4444444444444444,\"#bd3786\"],[0.5555555555555556,\"#d8576b\"],[0.6666666666666666,\"#ed7953\"],[0.7777777777777778,\"#fb9f3a\"],[0.8888888888888888,\"#fdca26\"],[1.0,\"#f0f921\"]],\"type\":\"histogram2d\"}],\"histogram2dcontour\":[{\"colorbar\":{\"outlinewidth\":0,\"ticks\":\"\"},\"colorscale\":[[0.0,\"#0d0887\"],[0.1111111111111111,\"#46039f\"],[0.2222222222222222,\"#7201a8\"],[0.3333333333333333,\"#9c179e\"],[0.4444444444444444,\"#bd3786\"],[0.5555555555555556,\"#d8576b\"],[0.6666666666666666,\"#ed7953\"],[0.7777777777777778,\"#fb9f3a\"],[0.8888888888888888,\"#fdca26\"],[1.0,\"#f0f921\"]],\"type\":\"histogram2dcontour\"}],\"mesh3d\":[{\"colorbar\":{\"outlinewidth\":0,\"ticks\":\"\"},\"type\":\"mesh3d\"}],\"parcoords\":[{\"line\":{\"colorbar\":{\"outlinewidth\":0,\"ticks\":\"\"}},\"type\":\"parcoords\"}],\"pie\":[{\"automargin\":true,\"type\":\"pie\"}],\"scatter\":[{\"marker\":{\"colorbar\":{\"outlinewidth\":0,\"ticks\":\"\"}},\"type\":\"scatter\"}],\"scatter3d\":[{\"line\":{\"colorbar\":{\"outlinewidth\":0,\"ticks\":\"\"}},\"marker\":{\"colorbar\":{\"outlinewidth\":0,\"ticks\":\"\"}},\"type\":\"scatter3d\"}],\"scattercarpet\":[{\"marker\":{\"colorbar\":{\"outlinewidth\":0,\"ticks\":\"\"}},\"type\":\"scattercarpet\"}],\"scattergeo\":[{\"marker\":{\"colorbar\":{\"outlinewidth\":0,\"ticks\":\"\"}},\"type\":\"scattergeo\"}],\"scattergl\":[{\"marker\":{\"colorbar\":{\"outlinewidth\":0,\"ticks\":\"\"}},\"type\":\"scattergl\"}],\"scattermapbox\":[{\"marker\":{\"colorbar\":{\"outlinewidth\":0,\"ticks\":\"\"}},\"type\":\"scattermapbox\"}],\"scatterpolar\":[{\"marker\":{\"colorbar\":{\"outlinewidth\":0,\"ticks\":\"\"}},\"type\":\"scatterpolar\"}],\"scatterpolargl\":[{\"marker\":{\"colorbar\":{\"outlinewidth\":0,\"ticks\":\"\"}},\"type\":\"scatterpolargl\"}],\"scatterternary\":[{\"marker\":{\"colorbar\":{\"outlinewidth\":0,\"ticks\":\"\"}},\"type\":\"scatterternary\"}],\"surface\":[{\"colorbar\":{\"outlinewidth\":0,\"ticks\":\"\"},\"colorscale\":[[0.0,\"#0d0887\"],[0.1111111111111111,\"#46039f\"],[0.2222222222222222,\"#7201a8\"],[0.3333333333333333,\"#9c179e\"],[0.4444444444444444,\"#bd3786\"],[0.5555555555555556,\"#d8576b\"],[0.6666666666666666,\"#ed7953\"],[0.7777777777777778,\"#fb9f3a\"],[0.8888888888888888,\"#fdca26\"],[1.0,\"#f0f921\"]],\"type\":\"surface\"}],\"table\":[{\"cells\":{\"fill\":{\"color\":\"#EBF0F8\"},\"line\":{\"color\":\"white\"}},\"header\":{\"fill\":{\"color\":\"#C8D4E3\"},\"line\":{\"color\":\"white\"}},\"type\":\"table\"}]},\"layout\":{\"annotationdefaults\":{\"arrowcolor\":\"#2a3f5f\",\"arrowhead\":0,\"arrowwidth\":1},\"autotypenumbers\":\"strict\",\"coloraxis\":{\"colorbar\":{\"outlinewidth\":0,\"ticks\":\"\"}},\"colorscale\":{\"diverging\":[[0,\"#8e0152\"],[0.1,\"#c51b7d\"],[0.2,\"#de77ae\"],[0.3,\"#f1b6da\"],[0.4,\"#fde0ef\"],[0.5,\"#f7f7f7\"],[0.6,\"#e6f5d0\"],[0.7,\"#b8e186\"],[0.8,\"#7fbc41\"],[0.9,\"#4d9221\"],[1,\"#276419\"]],\"sequential\":[[0.0,\"#0d0887\"],[0.1111111111111111,\"#46039f\"],[0.2222222222222222,\"#7201a8\"],[0.3333333333333333,\"#9c179e\"],[0.4444444444444444,\"#bd3786\"],[0.5555555555555556,\"#d8576b\"],[0.6666666666666666,\"#ed7953\"],[0.7777777777777778,\"#fb9f3a\"],[0.8888888888888888,\"#fdca26\"],[1.0,\"#f0f921\"]],\"sequentialminus\":[[0.0,\"#0d0887\"],[0.1111111111111111,\"#46039f\"],[0.2222222222222222,\"#7201a8\"],[0.3333333333333333,\"#9c179e\"],[0.4444444444444444,\"#bd3786\"],[0.5555555555555556,\"#d8576b\"],[0.6666666666666666,\"#ed7953\"],[0.7777777777777778,\"#fb9f3a\"],[0.8888888888888888,\"#fdca26\"],[1.0,\"#f0f921\"]]},\"colorway\":[\"#636efa\",\"#EF553B\",\"#00cc96\",\"#ab63fa\",\"#FFA15A\",\"#19d3f3\",\"#FF6692\",\"#B6E880\",\"#FF97FF\",\"#FECB52\"],\"font\":{\"color\":\"#2a3f5f\"},\"geo\":{\"bgcolor\":\"white\",\"lakecolor\":\"white\",\"landcolor\":\"#E5ECF6\",\"showlakes\":true,\"showland\":true,\"subunitcolor\":\"white\"},\"hoverlabel\":{\"align\":\"left\"},\"hovermode\":\"closest\",\"mapbox\":{\"style\":\"light\"},\"paper_bgcolor\":\"white\",\"plot_bgcolor\":\"#E5ECF6\",\"polar\":{\"angularaxis\":{\"gridcolor\":\"white\",\"linecolor\":\"white\",\"ticks\":\"\"},\"bgcolor\":\"#E5ECF6\",\"radialaxis\":{\"gridcolor\":\"white\",\"linecolor\":\"white\",\"ticks\":\"\"}},\"scene\":{\"xaxis\":{\"backgroundcolor\":\"#E5ECF6\",\"gridcolor\":\"white\",\"gridwidth\":2,\"linecolor\":\"white\",\"showbackground\":true,\"ticks\":\"\",\"zerolinecolor\":\"white\"},\"yaxis\":{\"backgroundcolor\":\"#E5ECF6\",\"gridcolor\":\"white\",\"gridwidth\":2,\"linecolor\":\"white\",\"showbackground\":true,\"ticks\":\"\",\"zerolinecolor\":\"white\"},\"zaxis\":{\"backgroundcolor\":\"#E5ECF6\",\"gridcolor\":\"white\",\"gridwidth\":2,\"linecolor\":\"white\",\"showbackground\":true,\"ticks\":\"\",\"zerolinecolor\":\"white\"}},\"shapedefaults\":{\"line\":{\"color\":\"#2a3f5f\"}},\"ternary\":{\"aaxis\":{\"gridcolor\":\"white\",\"linecolor\":\"white\",\"ticks\":\"\"},\"baxis\":{\"gridcolor\":\"white\",\"linecolor\":\"white\",\"ticks\":\"\"},\"bgcolor\":\"#E5ECF6\",\"caxis\":{\"gridcolor\":\"white\",\"linecolor\":\"white\",\"ticks\":\"\"}},\"title\":{\"x\":0.05},\"xaxis\":{\"automargin\":true,\"gridcolor\":\"white\",\"linecolor\":\"white\",\"ticks\":\"\",\"title\":{\"standoff\":15},\"zerolinecolor\":\"white\",\"zerolinewidth\":2},\"yaxis\":{\"automargin\":true,\"gridcolor\":\"white\",\"linecolor\":\"white\",\"ticks\":\"\",\"title\":{\"standoff\":15},\"zerolinecolor\":\"white\",\"zerolinewidth\":2}}},\"treemapcolorway\":[\"rgb(36, 86, 104)\",\"rgb(15, 114, 121)\",\"rgb(13, 143, 129)\",\"rgb(57, 171, 126)\",\"rgb(110, 197, 116)\",\"rgb(169, 220, 103)\",\"rgb(237, 239, 93)\"]},                        {\"responsive\": true}                    ).then(function(){\n                            \nvar gd = document.getElementById('e383f2de-7854-443b-af38-ac5face8343a');\nvar x = new MutationObserver(function (mutations, observer) {{\n        var display = window.getComputedStyle(gd).display;\n        if (!display || display === 'none') {{\n            console.log([gd, 'removed!']);\n            Plotly.purge(gd);\n            observer.disconnect();\n        }}\n}});\n\n// Listen for the removal of the full notebook cells\nvar notebookContainer = gd.closest('#notebook-container');\nif (notebookContainer) {{\n    x.observe(notebookContainer, {childList: true});\n}}\n\n// Listen for the clearing of the current output cell\nvar outputEl = gd.closest('.output');\nif (outputEl) {{\n    x.observe(outputEl, {childList: true});\n}}\n\n                        })                };                            </script>        </div>\n</body>\n</html>"
     },
     "metadata": {},
     "output_type": "display_data"
    }
   ],
   "execution_count": null
  },
  {
   "cell_type": "code",
   "metadata": {
    "tags": [],
    "cell_id": "00015-be35457e-b9ea-4bb6-8840-f1a9da79ff9d",
    "deepnote_to_be_reexecuted": false,
    "source_hash": "8d0fe5b9",
    "execution_start": 1634263486300,
    "execution_millis": 442,
    "deepnote_cell_type": "code"
   },
   "source": "# Un df que se modificará para tener una linda gráfica\ndf_dummy = df_inversion_ods_4.copy()\n\n# Se añade un directorio base y se coloca el presupuesto en términos de mdp\ndf_dummy[\"Programas Presupuestarios\"] = \"Proyectos de inversión 2021 asociados al ODS 4 por Territorio y Programa\"\ndf_dummy[\"Presupuesto (mdp)\"] = round(df_dummy[\"Monto\"].copy()/1_000_000, 2)\n\n# Se hace el treemap\nfig = px.treemap(df_dummy,\n                 path=[\"Programas Presupuestarios\", \"Municipio\", \"id_programa_presupuestario\"],\n                 values=\"Presupuesto (mdp)\", color_discrete_sequence=px.colors.sequential.Aggrnyl)\n\n# Se ajusta el tamaño de la letra\nfig.update_layout(font_size=13)\n\n# Se guarda el html\nplotly.offline.plot(fig, filename='/work/treemap_inversion_ods_4.html')\n\n# Se muestra la gráfica\nfig.show()",
   "outputs": [
    {
     "data": {
      "text/html": "<html>\n<head><meta charset=\"utf-8\" /></head>\n<body>\n    <div>            <script src=\"https://cdnjs.cloudflare.com/ajax/libs/mathjax/2.7.5/MathJax.js?config=TeX-AMS-MML_SVG\"></script><script type=\"text/javascript\">if (window.MathJax) {MathJax.Hub.Config({SVG: {font: \"STIX-Web\"}});}</script>                <script type=\"text/javascript\">window.PlotlyConfig = {MathJaxConfig: 'local'};</script>\n        <script src=\"https://cdn.plot.ly/plotly-2.4.2.min.js\"></script>                <div id=\"8379a7a9-b6cc-47c9-ab64-f1ff8581c9e0\" class=\"plotly-graph-div\" style=\"height:525px; width:100%;\"></div>            <script type=\"text/javascript\">                                    window.PLOTLYENV=window.PLOTLYENV || {};                                    if (document.getElementById(\"8379a7a9-b6cc-47c9-ab64-f1ff8581c9e0\")) {                    Plotly.newPlot(                        \"8379a7a9-b6cc-47c9-ab64-f1ff8581c9e0\",                        [{\"branchvalues\":\"total\",\"domain\":{\"x\":[0.0,1.0],\"y\":[0.0,1.0]},\"hovertemplate\":\"labels=%{label}<br>Presupuesto (mdp)=%{value}<br>parent=%{parent}<br>id=%{id}<extra></extra>\",\"ids\":[\"Proyectos de inversi\\u00f3n 2021 asociados al ODS 4 por Territorio y Programa/Abasolo/E003\",\"Proyectos de inversi\\u00f3n 2021 asociados al ODS 4 por Territorio y Programa/Ac\\u00e1mbaro/E003\",\"Proyectos de inversi\\u00f3n 2021 asociados al ODS 4 por Territorio y Programa/Cobertura Estatal/E003\",\"Proyectos de inversi\\u00f3n 2021 asociados al ODS 4 por Territorio y Programa/Comonfort/E003\",\"Proyectos de inversi\\u00f3n 2021 asociados al ODS 4 por Territorio y Programa/Doctor Mora/E003\",\"Proyectos de inversi\\u00f3n 2021 asociados al ODS 4 por Territorio y Programa/Guanajuato/E003\",\"Proyectos de inversi\\u00f3n 2021 asociados al ODS 4 por Territorio y Programa/Irapuato/E003\",\"Proyectos de inversi\\u00f3n 2021 asociados al ODS 4 por Territorio y Programa/Le\\u00f3n/E003\",\"Proyectos de inversi\\u00f3n 2021 asociados al ODS 4 por Territorio y Programa/Ocampo/E003\",\"Proyectos de inversi\\u00f3n 2021 asociados al ODS 4 por Territorio y Programa/Por Determinar/E003\",\"Proyectos de inversi\\u00f3n 2021 asociados al ODS 4 por Territorio y Programa/Pur\\u00edsima del Rinc\\u00f3n/E003\",\"Proyectos de inversi\\u00f3n 2021 asociados al ODS 4 por Territorio y Programa/P\\u00e9njamo/E003\",\"Proyectos de inversi\\u00f3n 2021 asociados al ODS 4 por Territorio y Programa/San Jos\\u00e9 Iturbide/E003\",\"Proyectos de inversi\\u00f3n 2021 asociados al ODS 4 por Territorio y Programa/San Luis de la Paz/E003\",\"Proyectos de inversi\\u00f3n 2021 asociados al ODS 4 por Territorio y Programa/San Miguel de Allende/E003\",\"Proyectos de inversi\\u00f3n 2021 asociados al ODS 4 por Territorio y Programa/Santa Cruz de Juventino Rosas/E003\",\"Proyectos de inversi\\u00f3n 2021 asociados al ODS 4 por Territorio y Programa/Tarandacuao/E003\",\"Proyectos de inversi\\u00f3n 2021 asociados al ODS 4 por Territorio y Programa/Victoria/E003\",\"Proyectos de inversi\\u00f3n 2021 asociados al ODS 4 por Territorio y Programa/Xich\\u00fa/E003\",\"Proyectos de inversi\\u00f3n 2021 asociados al ODS 4 por Territorio y Programa/Cobertura Estatal/E005\",\"Proyectos de inversi\\u00f3n 2021 asociados al ODS 4 por Territorio y Programa/Cobertura Estatal/E008\",\"Proyectos de inversi\\u00f3n 2021 asociados al ODS 4 por Territorio y Programa/Abasolo/E010\",\"Proyectos de inversi\\u00f3n 2021 asociados al ODS 4 por Territorio y Programa/Ac\\u00e1mbaro/E010\",\"Proyectos de inversi\\u00f3n 2021 asociados al ODS 4 por Territorio y Programa/Apaseo el Alto/E010\",\"Proyectos de inversi\\u00f3n 2021 asociados al ODS 4 por Territorio y Programa/Apaseo el Grande/E010\",\"Proyectos de inversi\\u00f3n 2021 asociados al ODS 4 por Territorio y Programa/Atarjea/E010\",\"Proyectos de inversi\\u00f3n 2021 asociados al ODS 4 por Territorio y Programa/Celaya/E010\",\"Proyectos de inversi\\u00f3n 2021 asociados al ODS 4 por Territorio y Programa/Cobertura Estatal/E010\",\"Proyectos de inversi\\u00f3n 2021 asociados al ODS 4 por Territorio y Programa/Comonfort/E010\",\"Proyectos de inversi\\u00f3n 2021 asociados al ODS 4 por Territorio y Programa/Coroneo/E010\",\"Proyectos de inversi\\u00f3n 2021 asociados al ODS 4 por Territorio y Programa/Cortazar/E010\",\"Proyectos de inversi\\u00f3n 2021 asociados al ODS 4 por Territorio y Programa/Cuer\\u00e1maro/E010\",\"Proyectos de inversi\\u00f3n 2021 asociados al ODS 4 por Territorio y Programa/Dolores Hidalgo Cuna de la Independencia Nacional/E010\",\"Proyectos de inversi\\u00f3n 2021 asociados al ODS 4 por Territorio y Programa/Guanajuato/E010\",\"Proyectos de inversi\\u00f3n 2021 asociados al ODS 4 por Territorio y Programa/Huan\\u00edmaro/E010\",\"Proyectos de inversi\\u00f3n 2021 asociados al ODS 4 por Territorio y Programa/Irapuato/E010\",\"Proyectos de inversi\\u00f3n 2021 asociados al ODS 4 por Territorio y Programa/Jaral del Progreso/E010\",\"Proyectos de inversi\\u00f3n 2021 asociados al ODS 4 por Territorio y Programa/Le\\u00f3n/E010\",\"Proyectos de inversi\\u00f3n 2021 asociados al ODS 4 por Territorio y Programa/Manuel Doblado/E010\",\"Proyectos de inversi\\u00f3n 2021 asociados al ODS 4 por Territorio y Programa/Morole\\u00f3n/E010\",\"Proyectos de inversi\\u00f3n 2021 asociados al ODS 4 por Territorio y Programa/Por Determinar/E010\",\"Proyectos de inversi\\u00f3n 2021 asociados al ODS 4 por Territorio y Programa/Pur\\u00edsima del Rinc\\u00f3n/E010\",\"Proyectos de inversi\\u00f3n 2021 asociados al ODS 4 por Territorio y Programa/P\\u00e9njamo/E010\",\"Proyectos de inversi\\u00f3n 2021 asociados al ODS 4 por Territorio y Programa/Romita/E010\",\"Proyectos de inversi\\u00f3n 2021 asociados al ODS 4 por Territorio y Programa/Salamanca/E010\",\"Proyectos de inversi\\u00f3n 2021 asociados al ODS 4 por Territorio y Programa/Salvatierra/E010\",\"Proyectos de inversi\\u00f3n 2021 asociados al ODS 4 por Territorio y Programa/San Diego de la Uni\\u00f3n/E010\",\"Proyectos de inversi\\u00f3n 2021 asociados al ODS 4 por Territorio y Programa/San Felipe/E010\",\"Proyectos de inversi\\u00f3n 2021 asociados al ODS 4 por Territorio y Programa/San Francisco del Rinc\\u00f3n/E010\",\"Proyectos de inversi\\u00f3n 2021 asociados al ODS 4 por Territorio y Programa/San Jos\\u00e9 Iturbide/E010\",\"Proyectos de inversi\\u00f3n 2021 asociados al ODS 4 por Territorio y Programa/San Luis de la Paz/E010\",\"Proyectos de inversi\\u00f3n 2021 asociados al ODS 4 por Territorio y Programa/San Miguel de Allende/E010\",\"Proyectos de inversi\\u00f3n 2021 asociados al ODS 4 por Territorio y Programa/Santa Cruz de Juventino Rosas/E010\",\"Proyectos de inversi\\u00f3n 2021 asociados al ODS 4 por Territorio y Programa/Silao de la Victoria/E010\",\"Proyectos de inversi\\u00f3n 2021 asociados al ODS 4 por Territorio y Programa/Tarimoro/E010\",\"Proyectos de inversi\\u00f3n 2021 asociados al ODS 4 por Territorio y Programa/Tierra Blanca/E010\",\"Proyectos de inversi\\u00f3n 2021 asociados al ODS 4 por Territorio y Programa/Uriangato/E010\",\"Proyectos de inversi\\u00f3n 2021 asociados al ODS 4 por Territorio y Programa/Valle de Santiago/E010\",\"Proyectos de inversi\\u00f3n 2021 asociados al ODS 4 por Territorio y Programa/Victoria/E010\",\"Proyectos de inversi\\u00f3n 2021 asociados al ODS 4 por Territorio y Programa/Villagr\\u00e1n/E010\",\"Proyectos de inversi\\u00f3n 2021 asociados al ODS 4 por Territorio y Programa/Xich\\u00fa/E010\",\"Proyectos de inversi\\u00f3n 2021 asociados al ODS 4 por Territorio y Programa/Yuriria/E010\",\"Proyectos de inversi\\u00f3n 2021 asociados al ODS 4 por Territorio y Programa/Abasolo/E017\",\"Proyectos de inversi\\u00f3n 2021 asociados al ODS 4 por Territorio y Programa/Ac\\u00e1mbaro/E017\",\"Proyectos de inversi\\u00f3n 2021 asociados al ODS 4 por Territorio y Programa/Apaseo el Alto/E017\",\"Proyectos de inversi\\u00f3n 2021 asociados al ODS 4 por Territorio y Programa/Apaseo el Grande/E017\",\"Proyectos de inversi\\u00f3n 2021 asociados al ODS 4 por Territorio y Programa/Celaya/E017\",\"Proyectos de inversi\\u00f3n 2021 asociados al ODS 4 por Territorio y Programa/Comonfort/E017\",\"Proyectos de inversi\\u00f3n 2021 asociados al ODS 4 por Territorio y Programa/Coroneo/E017\",\"Proyectos de inversi\\u00f3n 2021 asociados al ODS 4 por Territorio y Programa/Cortazar/E017\",\"Proyectos de inversi\\u00f3n 2021 asociados al ODS 4 por Territorio y Programa/Doctor Mora/E017\",\"Proyectos de inversi\\u00f3n 2021 asociados al ODS 4 por Territorio y Programa/Dolores Hidalgo Cuna de la Independencia Nacional/E017\",\"Proyectos de inversi\\u00f3n 2021 asociados al ODS 4 por Territorio y Programa/Guanajuato/E017\",\"Proyectos de inversi\\u00f3n 2021 asociados al ODS 4 por Territorio y Programa/Irapuato/E017\",\"Proyectos de inversi\\u00f3n 2021 asociados al ODS 4 por Territorio y Programa/Jaral del Progreso/E017\",\"Proyectos de inversi\\u00f3n 2021 asociados al ODS 4 por Territorio y Programa/J\\u00e9recuaro/E017\",\"Proyectos de inversi\\u00f3n 2021 asociados al ODS 4 por Territorio y Programa/Le\\u00f3n/E017\",\"Proyectos de inversi\\u00f3n 2021 asociados al ODS 4 por Territorio y Programa/Manuel Doblado/E017\",\"Proyectos de inversi\\u00f3n 2021 asociados al ODS 4 por Territorio y Programa/Morole\\u00f3n/E017\",\"Proyectos de inversi\\u00f3n 2021 asociados al ODS 4 por Territorio y Programa/Ocampo/E017\",\"Proyectos de inversi\\u00f3n 2021 asociados al ODS 4 por Territorio y Programa/Por Determinar/E017\",\"Proyectos de inversi\\u00f3n 2021 asociados al ODS 4 por Territorio y Programa/Pueblo Nuevo/E017\",\"Proyectos de inversi\\u00f3n 2021 asociados al ODS 4 por Territorio y Programa/Pur\\u00edsima del Rinc\\u00f3n/E017\",\"Proyectos de inversi\\u00f3n 2021 asociados al ODS 4 por Territorio y Programa/P\\u00e9njamo/E017\",\"Proyectos de inversi\\u00f3n 2021 asociados al ODS 4 por Territorio y Programa/Romita/E017\",\"Proyectos de inversi\\u00f3n 2021 asociados al ODS 4 por Territorio y Programa/Salamanca/E017\",\"Proyectos de inversi\\u00f3n 2021 asociados al ODS 4 por Territorio y Programa/Salvatierra/E017\",\"Proyectos de inversi\\u00f3n 2021 asociados al ODS 4 por Territorio y Programa/San Diego de la Uni\\u00f3n/E017\",\"Proyectos de inversi\\u00f3n 2021 asociados al ODS 4 por Territorio y Programa/San Felipe/E017\",\"Proyectos de inversi\\u00f3n 2021 asociados al ODS 4 por Territorio y Programa/San Francisco del Rinc\\u00f3n/E017\",\"Proyectos de inversi\\u00f3n 2021 asociados al ODS 4 por Territorio y Programa/San Luis de la Paz/E017\",\"Proyectos de inversi\\u00f3n 2021 asociados al ODS 4 por Territorio y Programa/San Miguel de Allende/E017\",\"Proyectos de inversi\\u00f3n 2021 asociados al ODS 4 por Territorio y Programa/Santa Cruz de Juventino Rosas/E017\",\"Proyectos de inversi\\u00f3n 2021 asociados al ODS 4 por Territorio y Programa/Silao de la Victoria/E017\",\"Proyectos de inversi\\u00f3n 2021 asociados al ODS 4 por Territorio y Programa/Tarandacuao/E017\",\"Proyectos de inversi\\u00f3n 2021 asociados al ODS 4 por Territorio y Programa/Uriangato/E017\",\"Proyectos de inversi\\u00f3n 2021 asociados al ODS 4 por Territorio y Programa/Valle de Santiago/E017\",\"Proyectos de inversi\\u00f3n 2021 asociados al ODS 4 por Territorio y Programa/Villagr\\u00e1n/E017\",\"Proyectos de inversi\\u00f3n 2021 asociados al ODS 4 por Territorio y Programa/Yuriria/E017\",\"Proyectos de inversi\\u00f3n 2021 asociados al ODS 4 por Territorio y Programa/Abasolo/E018\",\"Proyectos de inversi\\u00f3n 2021 asociados al ODS 4 por Territorio y Programa/Ac\\u00e1mbaro/E018\",\"Proyectos de inversi\\u00f3n 2021 asociados al ODS 4 por Territorio y Programa/Apaseo el Alto/E018\",\"Proyectos de inversi\\u00f3n 2021 asociados al ODS 4 por Territorio y Programa/Apaseo el Grande/E018\",\"Proyectos de inversi\\u00f3n 2021 asociados al ODS 4 por Territorio y Programa/Atarjea/E018\",\"Proyectos de inversi\\u00f3n 2021 asociados al ODS 4 por Territorio y Programa/Celaya/E018\",\"Proyectos de inversi\\u00f3n 2021 asociados al ODS 4 por Territorio y Programa/Comonfort/E018\",\"Proyectos de inversi\\u00f3n 2021 asociados al ODS 4 por Territorio y Programa/Cortazar/E018\",\"Proyectos de inversi\\u00f3n 2021 asociados al ODS 4 por Territorio y Programa/Doctor Mora/E018\",\"Proyectos de inversi\\u00f3n 2021 asociados al ODS 4 por Territorio y Programa/Dolores Hidalgo Cuna de la Independencia Nacional/E018\",\"Proyectos de inversi\\u00f3n 2021 asociados al ODS 4 por Territorio y Programa/Guanajuato/E018\",\"Proyectos de inversi\\u00f3n 2021 asociados al ODS 4 por Territorio y Programa/Irapuato/E018\",\"Proyectos de inversi\\u00f3n 2021 asociados al ODS 4 por Territorio y Programa/Jaral del Progreso/E018\",\"Proyectos de inversi\\u00f3n 2021 asociados al ODS 4 por Territorio y Programa/J\\u00e9recuaro/E018\",\"Proyectos de inversi\\u00f3n 2021 asociados al ODS 4 por Territorio y Programa/Le\\u00f3n/E018\",\"Proyectos de inversi\\u00f3n 2021 asociados al ODS 4 por Territorio y Programa/Manuel Doblado/E018\",\"Proyectos de inversi\\u00f3n 2021 asociados al ODS 4 por Territorio y Programa/Morole\\u00f3n/E018\",\"Proyectos de inversi\\u00f3n 2021 asociados al ODS 4 por Territorio y Programa/Por Determinar/E018\",\"Proyectos de inversi\\u00f3n 2021 asociados al ODS 4 por Territorio y Programa/Pueblo Nuevo/E018\",\"Proyectos de inversi\\u00f3n 2021 asociados al ODS 4 por Territorio y Programa/Pur\\u00edsima del Rinc\\u00f3n/E018\",\"Proyectos de inversi\\u00f3n 2021 asociados al ODS 4 por Territorio y Programa/P\\u00e9njamo/E018\",\"Proyectos de inversi\\u00f3n 2021 asociados al ODS 4 por Territorio y Programa/Romita/E018\",\"Proyectos de inversi\\u00f3n 2021 asociados al ODS 4 por Territorio y Programa/Salamanca/E018\",\"Proyectos de inversi\\u00f3n 2021 asociados al ODS 4 por Territorio y Programa/Salvatierra/E018\",\"Proyectos de inversi\\u00f3n 2021 asociados al ODS 4 por Territorio y Programa/San Felipe/E018\",\"Proyectos de inversi\\u00f3n 2021 asociados al ODS 4 por Territorio y Programa/San Francisco del Rinc\\u00f3n/E018\",\"Proyectos de inversi\\u00f3n 2021 asociados al ODS 4 por Territorio y Programa/San Jos\\u00e9 Iturbide/E018\",\"Proyectos de inversi\\u00f3n 2021 asociados al ODS 4 por Territorio y Programa/San Luis de la Paz/E018\",\"Proyectos de inversi\\u00f3n 2021 asociados al ODS 4 por Territorio y Programa/San Miguel de Allende/E018\",\"Proyectos de inversi\\u00f3n 2021 asociados al ODS 4 por Territorio y Programa/Santa Cruz de Juventino Rosas/E018\",\"Proyectos de inversi\\u00f3n 2021 asociados al ODS 4 por Territorio y Programa/Santiago Maravat\\u00edo/E018\",\"Proyectos de inversi\\u00f3n 2021 asociados al ODS 4 por Territorio y Programa/Silao de la Victoria/E018\",\"Proyectos de inversi\\u00f3n 2021 asociados al ODS 4 por Territorio y Programa/Tarandacuao/E018\",\"Proyectos de inversi\\u00f3n 2021 asociados al ODS 4 por Territorio y Programa/Tarimoro/E018\",\"Proyectos de inversi\\u00f3n 2021 asociados al ODS 4 por Territorio y Programa/Uriangato/E018\",\"Proyectos de inversi\\u00f3n 2021 asociados al ODS 4 por Territorio y Programa/Valle de Santiago/E018\",\"Proyectos de inversi\\u00f3n 2021 asociados al ODS 4 por Territorio y Programa/Villagr\\u00e1n/E018\",\"Proyectos de inversi\\u00f3n 2021 asociados al ODS 4 por Territorio y Programa/Xich\\u00fa/E018\",\"Proyectos de inversi\\u00f3n 2021 asociados al ODS 4 por Territorio y Programa/Yuriria/E018\",\"Proyectos de inversi\\u00f3n 2021 asociados al ODS 4 por Territorio y Programa/Por Determinar/E038\",\"Proyectos de inversi\\u00f3n 2021 asociados al ODS 4 por Territorio y Programa/Le\\u00f3n/E040\",\"Proyectos de inversi\\u00f3n 2021 asociados al ODS 4 por Territorio y Programa/Ac\\u00e1mbaro/E047\",\"Proyectos de inversi\\u00f3n 2021 asociados al ODS 4 por Territorio y Programa/Atarjea/E047\",\"Proyectos de inversi\\u00f3n 2021 asociados al ODS 4 por Territorio y Programa/Celaya/E047\",\"Proyectos de inversi\\u00f3n 2021 asociados al ODS 4 por Territorio y Programa/Cobertura Estatal/E047\",\"Proyectos de inversi\\u00f3n 2021 asociados al ODS 4 por Territorio y Programa/Dolores Hidalgo Cuna de la Independencia Nacional/E047\",\"Proyectos de inversi\\u00f3n 2021 asociados al ODS 4 por Territorio y Programa/Guanajuato/E047\",\"Proyectos de inversi\\u00f3n 2021 asociados al ODS 4 por Territorio y Programa/Huan\\u00edmaro/E047\",\"Proyectos de inversi\\u00f3n 2021 asociados al ODS 4 por Territorio y Programa/Irapuato/E047\",\"Proyectos de inversi\\u00f3n 2021 asociados al ODS 4 por Territorio y Programa/Jaral del Progreso/E047\",\"Proyectos de inversi\\u00f3n 2021 asociados al ODS 4 por Territorio y Programa/Le\\u00f3n/E047\",\"Proyectos de inversi\\u00f3n 2021 asociados al ODS 4 por Territorio y Programa/Morole\\u00f3n/E047\",\"Proyectos de inversi\\u00f3n 2021 asociados al ODS 4 por Territorio y Programa/Por Determinar/E047\",\"Proyectos de inversi\\u00f3n 2021 asociados al ODS 4 por Territorio y Programa/Romita/E047\",\"Proyectos de inversi\\u00f3n 2021 asociados al ODS 4 por Territorio y Programa/Salamanca/E047\",\"Proyectos de inversi\\u00f3n 2021 asociados al ODS 4 por Territorio y Programa/Salvatierra/E047\",\"Proyectos de inversi\\u00f3n 2021 asociados al ODS 4 por Territorio y Programa/San Felipe/E047\",\"Proyectos de inversi\\u00f3n 2021 asociados al ODS 4 por Territorio y Programa/San Francisco del Rinc\\u00f3n/E047\",\"Proyectos de inversi\\u00f3n 2021 asociados al ODS 4 por Territorio y Programa/San Miguel de Allende/E047\",\"Proyectos de inversi\\u00f3n 2021 asociados al ODS 4 por Territorio y Programa/Santa Cruz de Juventino Rosas/E047\",\"Proyectos de inversi\\u00f3n 2021 asociados al ODS 4 por Territorio y Programa/Silao de la Victoria/E047\",\"Proyectos de inversi\\u00f3n 2021 asociados al ODS 4 por Territorio y Programa/Victoria/E047\",\"Proyectos de inversi\\u00f3n 2021 asociados al ODS 4 por Territorio y Programa/Abasolo/E057\",\"Proyectos de inversi\\u00f3n 2021 asociados al ODS 4 por Territorio y Programa/Ac\\u00e1mbaro/E057\",\"Proyectos de inversi\\u00f3n 2021 asociados al ODS 4 por Territorio y Programa/Apaseo el Alto/E057\",\"Proyectos de inversi\\u00f3n 2021 asociados al ODS 4 por Territorio y Programa/Apaseo el Grande/E057\",\"Proyectos de inversi\\u00f3n 2021 asociados al ODS 4 por Territorio y Programa/Atarjea/E057\",\"Proyectos de inversi\\u00f3n 2021 asociados al ODS 4 por Territorio y Programa/Celaya/E057\",\"Proyectos de inversi\\u00f3n 2021 asociados al ODS 4 por Territorio y Programa/Cobertura Estatal/E057\",\"Proyectos de inversi\\u00f3n 2021 asociados al ODS 4 por Territorio y Programa/Comonfort/E057\",\"Proyectos de inversi\\u00f3n 2021 asociados al ODS 4 por Territorio y Programa/Coroneo/E057\",\"Proyectos de inversi\\u00f3n 2021 asociados al ODS 4 por Territorio y Programa/Cortazar/E057\",\"Proyectos de inversi\\u00f3n 2021 asociados al ODS 4 por Territorio y Programa/Cuer\\u00e1maro/E057\",\"Proyectos de inversi\\u00f3n 2021 asociados al ODS 4 por Territorio y Programa/Doctor Mora/E057\",\"Proyectos de inversi\\u00f3n 2021 asociados al ODS 4 por Territorio y Programa/Dolores Hidalgo Cuna de la Independencia Nacional/E057\",\"Proyectos de inversi\\u00f3n 2021 asociados al ODS 4 por Territorio y Programa/Guanajuato/E057\",\"Proyectos de inversi\\u00f3n 2021 asociados al ODS 4 por Territorio y Programa/Huan\\u00edmaro/E057\",\"Proyectos de inversi\\u00f3n 2021 asociados al ODS 4 por Territorio y Programa/Irapuato/E057\",\"Proyectos de inversi\\u00f3n 2021 asociados al ODS 4 por Territorio y Programa/Jaral del Progreso/E057\",\"Proyectos de inversi\\u00f3n 2021 asociados al ODS 4 por Territorio y Programa/J\\u00e9recuaro/E057\",\"Proyectos de inversi\\u00f3n 2021 asociados al ODS 4 por Territorio y Programa/Le\\u00f3n/E057\",\"Proyectos de inversi\\u00f3n 2021 asociados al ODS 4 por Territorio y Programa/Manuel Doblado/E057\",\"Proyectos de inversi\\u00f3n 2021 asociados al ODS 4 por Territorio y Programa/Morole\\u00f3n/E057\",\"Proyectos de inversi\\u00f3n 2021 asociados al ODS 4 por Territorio y Programa/Ocampo/E057\",\"Proyectos de inversi\\u00f3n 2021 asociados al ODS 4 por Territorio y Programa/Por Determinar/E057\",\"Proyectos de inversi\\u00f3n 2021 asociados al ODS 4 por Territorio y Programa/Pueblo Nuevo/E057\",\"Proyectos de inversi\\u00f3n 2021 asociados al ODS 4 por Territorio y Programa/Pur\\u00edsima del Rinc\\u00f3n/E057\",\"Proyectos de inversi\\u00f3n 2021 asociados al ODS 4 por Territorio y Programa/P\\u00e9njamo/E057\",\"Proyectos de inversi\\u00f3n 2021 asociados al ODS 4 por Territorio y Programa/Romita/E057\",\"Proyectos de inversi\\u00f3n 2021 asociados al ODS 4 por Territorio y Programa/Salamanca/E057\",\"Proyectos de inversi\\u00f3n 2021 asociados al ODS 4 por Territorio y Programa/Salvatierra/E057\",\"Proyectos de inversi\\u00f3n 2021 asociados al ODS 4 por Territorio y Programa/San Diego de la Uni\\u00f3n/E057\",\"Proyectos de inversi\\u00f3n 2021 asociados al ODS 4 por Territorio y Programa/San Felipe/E057\",\"Proyectos de inversi\\u00f3n 2021 asociados al ODS 4 por Territorio y Programa/San Francisco del Rinc\\u00f3n/E057\",\"Proyectos de inversi\\u00f3n 2021 asociados al ODS 4 por Territorio y Programa/San Jos\\u00e9 Iturbide/E057\",\"Proyectos de inversi\\u00f3n 2021 asociados al ODS 4 por Territorio y Programa/San Luis de la Paz/E057\",\"Proyectos de inversi\\u00f3n 2021 asociados al ODS 4 por Territorio y Programa/San Miguel de Allende/E057\",\"Proyectos de inversi\\u00f3n 2021 asociados al ODS 4 por Territorio y Programa/Santa Catarina/E057\",\"Proyectos de inversi\\u00f3n 2021 asociados al ODS 4 por Territorio y Programa/Santa Cruz de Juventino Rosas/E057\",\"Proyectos de inversi\\u00f3n 2021 asociados al ODS 4 por Territorio y Programa/Santiago Maravat\\u00edo/E057\",\"Proyectos de inversi\\u00f3n 2021 asociados al ODS 4 por Territorio y Programa/Silao de la Victoria/E057\",\"Proyectos de inversi\\u00f3n 2021 asociados al ODS 4 por Territorio y Programa/Tarandacuao/E057\",\"Proyectos de inversi\\u00f3n 2021 asociados al ODS 4 por Territorio y Programa/Tarimoro/E057\",\"Proyectos de inversi\\u00f3n 2021 asociados al ODS 4 por Territorio y Programa/Tierra Blanca/E057\",\"Proyectos de inversi\\u00f3n 2021 asociados al ODS 4 por Territorio y Programa/Uriangato/E057\",\"Proyectos de inversi\\u00f3n 2021 asociados al ODS 4 por Territorio y Programa/Valle de Santiago/E057\",\"Proyectos de inversi\\u00f3n 2021 asociados al ODS 4 por Territorio y Programa/Victoria/E057\",\"Proyectos de inversi\\u00f3n 2021 asociados al ODS 4 por Territorio y Programa/Villagr\\u00e1n/E057\",\"Proyectos de inversi\\u00f3n 2021 asociados al ODS 4 por Territorio y Programa/Xich\\u00fa/E057\",\"Proyectos de inversi\\u00f3n 2021 asociados al ODS 4 por Territorio y Programa/Yuriria/E057\",\"Proyectos de inversi\\u00f3n 2021 asociados al ODS 4 por Territorio y Programa/Ac\\u00e1mbaro/E062\",\"Proyectos de inversi\\u00f3n 2021 asociados al ODS 4 por Territorio y Programa/Apaseo el Grande/E062\",\"Proyectos de inversi\\u00f3n 2021 asociados al ODS 4 por Territorio y Programa/Celaya/E062\",\"Proyectos de inversi\\u00f3n 2021 asociados al ODS 4 por Territorio y Programa/Cobertura Estatal/E062\",\"Proyectos de inversi\\u00f3n 2021 asociados al ODS 4 por Territorio y Programa/Comonfort/E062\",\"Proyectos de inversi\\u00f3n 2021 asociados al ODS 4 por Territorio y Programa/Cortazar/E062\",\"Proyectos de inversi\\u00f3n 2021 asociados al ODS 4 por Territorio y Programa/Cuer\\u00e1maro/E062\",\"Proyectos de inversi\\u00f3n 2021 asociados al ODS 4 por Territorio y Programa/Dolores Hidalgo Cuna de la Independencia Nacional/E062\",\"Proyectos de inversi\\u00f3n 2021 asociados al ODS 4 por Territorio y Programa/Guanajuato/E062\",\"Proyectos de inversi\\u00f3n 2021 asociados al ODS 4 por Territorio y Programa/Irapuato/E062\",\"Proyectos de inversi\\u00f3n 2021 asociados al ODS 4 por Territorio y Programa/Le\\u00f3n/E062\",\"Proyectos de inversi\\u00f3n 2021 asociados al ODS 4 por Territorio y Programa/Pur\\u00edsima del Rinc\\u00f3n/E062\",\"Proyectos de inversi\\u00f3n 2021 asociados al ODS 4 por Territorio y Programa/P\\u00e9njamo/E062\",\"Proyectos de inversi\\u00f3n 2021 asociados al ODS 4 por Territorio y Programa/Romita/E062\",\"Proyectos de inversi\\u00f3n 2021 asociados al ODS 4 por Territorio y Programa/Salamanca/E062\",\"Proyectos de inversi\\u00f3n 2021 asociados al ODS 4 por Territorio y Programa/Salvatierra/E062\",\"Proyectos de inversi\\u00f3n 2021 asociados al ODS 4 por Territorio y Programa/San Francisco del Rinc\\u00f3n/E062\",\"Proyectos de inversi\\u00f3n 2021 asociados al ODS 4 por Territorio y Programa/San Luis de la Paz/E062\",\"Proyectos de inversi\\u00f3n 2021 asociados al ODS 4 por Territorio y Programa/Santa Cruz de Juventino Rosas/E062\",\"Proyectos de inversi\\u00f3n 2021 asociados al ODS 4 por Territorio y Programa/Silao de la Victoria/E062\",\"Proyectos de inversi\\u00f3n 2021 asociados al ODS 4 por Territorio y Programa/Tierra Blanca/E062\",\"Proyectos de inversi\\u00f3n 2021 asociados al ODS 4 por Territorio y Programa/Uriangato/E062\",\"Proyectos de inversi\\u00f3n 2021 asociados al ODS 4 por Territorio y Programa/Valle de Santiago/E062\",\"Proyectos de inversi\\u00f3n 2021 asociados al ODS 4 por Territorio y Programa/Victoria/E062\",\"Proyectos de inversi\\u00f3n 2021 asociados al ODS 4 por Territorio y Programa/Villagr\\u00e1n/E062\",\"Proyectos de inversi\\u00f3n 2021 asociados al ODS 4 por Territorio y Programa/Yuriria/E062\",\"Proyectos de inversi\\u00f3n 2021 asociados al ODS 4 por Territorio y Programa/Cobertura Estatal/P005\",\"Proyectos de inversi\\u00f3n 2021 asociados al ODS 4 por Territorio y Programa/Abasolo\",\"Proyectos de inversi\\u00f3n 2021 asociados al ODS 4 por Territorio y Programa/Ac\\u00e1mbaro\",\"Proyectos de inversi\\u00f3n 2021 asociados al ODS 4 por Territorio y Programa/Apaseo el Alto\",\"Proyectos de inversi\\u00f3n 2021 asociados al ODS 4 por Territorio y Programa/Apaseo el Grande\",\"Proyectos de inversi\\u00f3n 2021 asociados al ODS 4 por Territorio y Programa/Atarjea\",\"Proyectos de inversi\\u00f3n 2021 asociados al ODS 4 por Territorio y Programa/Celaya\",\"Proyectos de inversi\\u00f3n 2021 asociados al ODS 4 por Territorio y Programa/Cobertura Estatal\",\"Proyectos de inversi\\u00f3n 2021 asociados al ODS 4 por Territorio y Programa/Comonfort\",\"Proyectos de inversi\\u00f3n 2021 asociados al ODS 4 por Territorio y Programa/Coroneo\",\"Proyectos de inversi\\u00f3n 2021 asociados al ODS 4 por Territorio y Programa/Cortazar\",\"Proyectos de inversi\\u00f3n 2021 asociados al ODS 4 por Territorio y Programa/Cuer\\u00e1maro\",\"Proyectos de inversi\\u00f3n 2021 asociados al ODS 4 por Territorio y Programa/Doctor Mora\",\"Proyectos de inversi\\u00f3n 2021 asociados al ODS 4 por Territorio y Programa/Dolores Hidalgo Cuna de la Independencia Nacional\",\"Proyectos de inversi\\u00f3n 2021 asociados al ODS 4 por Territorio y Programa/Guanajuato\",\"Proyectos de inversi\\u00f3n 2021 asociados al ODS 4 por Territorio y Programa/Huan\\u00edmaro\",\"Proyectos de inversi\\u00f3n 2021 asociados al ODS 4 por Territorio y Programa/Irapuato\",\"Proyectos de inversi\\u00f3n 2021 asociados al ODS 4 por Territorio y Programa/Jaral del Progreso\",\"Proyectos de inversi\\u00f3n 2021 asociados al ODS 4 por Territorio y Programa/J\\u00e9recuaro\",\"Proyectos de inversi\\u00f3n 2021 asociados al ODS 4 por Territorio y Programa/Le\\u00f3n\",\"Proyectos de inversi\\u00f3n 2021 asociados al ODS 4 por Territorio y Programa/Manuel Doblado\",\"Proyectos de inversi\\u00f3n 2021 asociados al ODS 4 por Territorio y Programa/Morole\\u00f3n\",\"Proyectos de inversi\\u00f3n 2021 asociados al ODS 4 por Territorio y Programa/Ocampo\",\"Proyectos de inversi\\u00f3n 2021 asociados al ODS 4 por Territorio y Programa/Por Determinar\",\"Proyectos de inversi\\u00f3n 2021 asociados al ODS 4 por Territorio y Programa/Pueblo Nuevo\",\"Proyectos de inversi\\u00f3n 2021 asociados al ODS 4 por Territorio y Programa/Pur\\u00edsima del Rinc\\u00f3n\",\"Proyectos de inversi\\u00f3n 2021 asociados al ODS 4 por Territorio y Programa/P\\u00e9njamo\",\"Proyectos de inversi\\u00f3n 2021 asociados al ODS 4 por Territorio y Programa/Romita\",\"Proyectos de inversi\\u00f3n 2021 asociados al ODS 4 por Territorio y Programa/Salamanca\",\"Proyectos de inversi\\u00f3n 2021 asociados al ODS 4 por Territorio y Programa/Salvatierra\",\"Proyectos de inversi\\u00f3n 2021 asociados al ODS 4 por Territorio y Programa/San Diego de la Uni\\u00f3n\",\"Proyectos de inversi\\u00f3n 2021 asociados al ODS 4 por Territorio y Programa/San Felipe\",\"Proyectos de inversi\\u00f3n 2021 asociados al ODS 4 por Territorio y Programa/San Francisco del Rinc\\u00f3n\",\"Proyectos de inversi\\u00f3n 2021 asociados al ODS 4 por Territorio y Programa/San Jos\\u00e9 Iturbide\",\"Proyectos de inversi\\u00f3n 2021 asociados al ODS 4 por Territorio y Programa/San Luis de la Paz\",\"Proyectos de inversi\\u00f3n 2021 asociados al ODS 4 por Territorio y Programa/San Miguel de Allende\",\"Proyectos de inversi\\u00f3n 2021 asociados al ODS 4 por Territorio y Programa/Santa Catarina\",\"Proyectos de inversi\\u00f3n 2021 asociados al ODS 4 por Territorio y Programa/Santa Cruz de Juventino Rosas\",\"Proyectos de inversi\\u00f3n 2021 asociados al ODS 4 por Territorio y Programa/Santiago Maravat\\u00edo\",\"Proyectos de inversi\\u00f3n 2021 asociados al ODS 4 por Territorio y Programa/Silao de la Victoria\",\"Proyectos de inversi\\u00f3n 2021 asociados al ODS 4 por Territorio y Programa/Tarandacuao\",\"Proyectos de inversi\\u00f3n 2021 asociados al ODS 4 por Territorio y Programa/Tarimoro\",\"Proyectos de inversi\\u00f3n 2021 asociados al ODS 4 por Territorio y Programa/Tierra Blanca\",\"Proyectos de inversi\\u00f3n 2021 asociados al ODS 4 por Territorio y Programa/Uriangato\",\"Proyectos de inversi\\u00f3n 2021 asociados al ODS 4 por Territorio y Programa/Valle de Santiago\",\"Proyectos de inversi\\u00f3n 2021 asociados al ODS 4 por Territorio y Programa/Victoria\",\"Proyectos de inversi\\u00f3n 2021 asociados al ODS 4 por Territorio y Programa/Villagr\\u00e1n\",\"Proyectos de inversi\\u00f3n 2021 asociados al ODS 4 por Territorio y Programa/Xich\\u00fa\",\"Proyectos de inversi\\u00f3n 2021 asociados al ODS 4 por Territorio y Programa/Yuriria\",\"Proyectos de inversi\\u00f3n 2021 asociados al ODS 4 por Territorio y Programa\"],\"labels\":[\"E003\",\"E003\",\"E003\",\"E003\",\"E003\",\"E003\",\"E003\",\"E003\",\"E003\",\"E003\",\"E003\",\"E003\",\"E003\",\"E003\",\"E003\",\"E003\",\"E003\",\"E003\",\"E003\",\"E005\",\"E008\",\"E010\",\"E010\",\"E010\",\"E010\",\"E010\",\"E010\",\"E010\",\"E010\",\"E010\",\"E010\",\"E010\",\"E010\",\"E010\",\"E010\",\"E010\",\"E010\",\"E010\",\"E010\",\"E010\",\"E010\",\"E010\",\"E010\",\"E010\",\"E010\",\"E010\",\"E010\",\"E010\",\"E010\",\"E010\",\"E010\",\"E010\",\"E010\",\"E010\",\"E010\",\"E010\",\"E010\",\"E010\",\"E010\",\"E010\",\"E010\",\"E010\",\"E017\",\"E017\",\"E017\",\"E017\",\"E017\",\"E017\",\"E017\",\"E017\",\"E017\",\"E017\",\"E017\",\"E017\",\"E017\",\"E017\",\"E017\",\"E017\",\"E017\",\"E017\",\"E017\",\"E017\",\"E017\",\"E017\",\"E017\",\"E017\",\"E017\",\"E017\",\"E017\",\"E017\",\"E017\",\"E017\",\"E017\",\"E017\",\"E017\",\"E017\",\"E017\",\"E017\",\"E017\",\"E018\",\"E018\",\"E018\",\"E018\",\"E018\",\"E018\",\"E018\",\"E018\",\"E018\",\"E018\",\"E018\",\"E018\",\"E018\",\"E018\",\"E018\",\"E018\",\"E018\",\"E018\",\"E018\",\"E018\",\"E018\",\"E018\",\"E018\",\"E018\",\"E018\",\"E018\",\"E018\",\"E018\",\"E018\",\"E018\",\"E018\",\"E018\",\"E018\",\"E018\",\"E018\",\"E018\",\"E018\",\"E018\",\"E018\",\"E038\",\"E040\",\"E047\",\"E047\",\"E047\",\"E047\",\"E047\",\"E047\",\"E047\",\"E047\",\"E047\",\"E047\",\"E047\",\"E047\",\"E047\",\"E047\",\"E047\",\"E047\",\"E047\",\"E047\",\"E047\",\"E047\",\"E047\",\"E057\",\"E057\",\"E057\",\"E057\",\"E057\",\"E057\",\"E057\",\"E057\",\"E057\",\"E057\",\"E057\",\"E057\",\"E057\",\"E057\",\"E057\",\"E057\",\"E057\",\"E057\",\"E057\",\"E057\",\"E057\",\"E057\",\"E057\",\"E057\",\"E057\",\"E057\",\"E057\",\"E057\",\"E057\",\"E057\",\"E057\",\"E057\",\"E057\",\"E057\",\"E057\",\"E057\",\"E057\",\"E057\",\"E057\",\"E057\",\"E057\",\"E057\",\"E057\",\"E057\",\"E057\",\"E057\",\"E057\",\"E057\",\"E062\",\"E062\",\"E062\",\"E062\",\"E062\",\"E062\",\"E062\",\"E062\",\"E062\",\"E062\",\"E062\",\"E062\",\"E062\",\"E062\",\"E062\",\"E062\",\"E062\",\"E062\",\"E062\",\"E062\",\"E062\",\"E062\",\"E062\",\"E062\",\"E062\",\"E062\",\"P005\",\"Abasolo\",\"Ac\\u00e1mbaro\",\"Apaseo el Alto\",\"Apaseo el Grande\",\"Atarjea\",\"Celaya\",\"Cobertura Estatal\",\"Comonfort\",\"Coroneo\",\"Cortazar\",\"Cuer\\u00e1maro\",\"Doctor Mora\",\"Dolores Hidalgo Cuna de la Independencia Nacional\",\"Guanajuato\",\"Huan\\u00edmaro\",\"Irapuato\",\"Jaral del Progreso\",\"J\\u00e9recuaro\",\"Le\\u00f3n\",\"Manuel Doblado\",\"Morole\\u00f3n\",\"Ocampo\",\"Por Determinar\",\"Pueblo Nuevo\",\"Pur\\u00edsima del Rinc\\u00f3n\",\"P\\u00e9njamo\",\"Romita\",\"Salamanca\",\"Salvatierra\",\"San Diego de la Uni\\u00f3n\",\"San Felipe\",\"San Francisco del Rinc\\u00f3n\",\"San Jos\\u00e9 Iturbide\",\"San Luis de la Paz\",\"San Miguel de Allende\",\"Santa Catarina\",\"Santa Cruz de Juventino Rosas\",\"Santiago Maravat\\u00edo\",\"Silao de la Victoria\",\"Tarandacuao\",\"Tarimoro\",\"Tierra Blanca\",\"Uriangato\",\"Valle de Santiago\",\"Victoria\",\"Villagr\\u00e1n\",\"Xich\\u00fa\",\"Yuriria\",\"Proyectos de inversi\\u00f3n 2021 asociados al ODS 4 por Territorio y Programa\"],\"name\":\"\",\"parents\":[\"Proyectos de inversi\\u00f3n 2021 asociados al ODS 4 por Territorio y Programa/Abasolo\",\"Proyectos de inversi\\u00f3n 2021 asociados al ODS 4 por Territorio y Programa/Ac\\u00e1mbaro\",\"Proyectos de inversi\\u00f3n 2021 asociados al ODS 4 por Territorio y Programa/Cobertura Estatal\",\"Proyectos de inversi\\u00f3n 2021 asociados al ODS 4 por Territorio y Programa/Comonfort\",\"Proyectos de inversi\\u00f3n 2021 asociados al ODS 4 por Territorio y Programa/Doctor Mora\",\"Proyectos de inversi\\u00f3n 2021 asociados al ODS 4 por Territorio y Programa/Guanajuato\",\"Proyectos de inversi\\u00f3n 2021 asociados al ODS 4 por Territorio y Programa/Irapuato\",\"Proyectos de inversi\\u00f3n 2021 asociados al ODS 4 por Territorio y Programa/Le\\u00f3n\",\"Proyectos de inversi\\u00f3n 2021 asociados al ODS 4 por Territorio y Programa/Ocampo\",\"Proyectos de inversi\\u00f3n 2021 asociados al ODS 4 por Territorio y Programa/Por Determinar\",\"Proyectos de inversi\\u00f3n 2021 asociados al ODS 4 por Territorio y Programa/Pur\\u00edsima del Rinc\\u00f3n\",\"Proyectos de inversi\\u00f3n 2021 asociados al ODS 4 por Territorio y Programa/P\\u00e9njamo\",\"Proyectos de inversi\\u00f3n 2021 asociados al ODS 4 por Territorio y Programa/San Jos\\u00e9 Iturbide\",\"Proyectos de inversi\\u00f3n 2021 asociados al ODS 4 por Territorio y Programa/San Luis de la Paz\",\"Proyectos de inversi\\u00f3n 2021 asociados al ODS 4 por Territorio y Programa/San Miguel de Allende\",\"Proyectos de inversi\\u00f3n 2021 asociados al ODS 4 por Territorio y Programa/Santa Cruz de Juventino Rosas\",\"Proyectos de inversi\\u00f3n 2021 asociados al ODS 4 por Territorio y Programa/Tarandacuao\",\"Proyectos de inversi\\u00f3n 2021 asociados al ODS 4 por Territorio y Programa/Victoria\",\"Proyectos de inversi\\u00f3n 2021 asociados al ODS 4 por Territorio y Programa/Xich\\u00fa\",\"Proyectos de inversi\\u00f3n 2021 asociados al ODS 4 por Territorio y Programa/Cobertura Estatal\",\"Proyectos de inversi\\u00f3n 2021 asociados al ODS 4 por Territorio y Programa/Cobertura Estatal\",\"Proyectos de inversi\\u00f3n 2021 asociados al ODS 4 por Territorio y Programa/Abasolo\",\"Proyectos de inversi\\u00f3n 2021 asociados al ODS 4 por Territorio y Programa/Ac\\u00e1mbaro\",\"Proyectos de inversi\\u00f3n 2021 asociados al ODS 4 por Territorio y Programa/Apaseo el Alto\",\"Proyectos de inversi\\u00f3n 2021 asociados al ODS 4 por Territorio y Programa/Apaseo el Grande\",\"Proyectos de inversi\\u00f3n 2021 asociados al ODS 4 por Territorio y Programa/Atarjea\",\"Proyectos de inversi\\u00f3n 2021 asociados al ODS 4 por Territorio y Programa/Celaya\",\"Proyectos de inversi\\u00f3n 2021 asociados al ODS 4 por Territorio y Programa/Cobertura Estatal\",\"Proyectos de inversi\\u00f3n 2021 asociados al ODS 4 por Territorio y Programa/Comonfort\",\"Proyectos de inversi\\u00f3n 2021 asociados al ODS 4 por Territorio y Programa/Coroneo\",\"Proyectos de inversi\\u00f3n 2021 asociados al ODS 4 por Territorio y Programa/Cortazar\",\"Proyectos de inversi\\u00f3n 2021 asociados al ODS 4 por Territorio y Programa/Cuer\\u00e1maro\",\"Proyectos de inversi\\u00f3n 2021 asociados al ODS 4 por Territorio y Programa/Dolores Hidalgo Cuna de la Independencia Nacional\",\"Proyectos de inversi\\u00f3n 2021 asociados al ODS 4 por Territorio y Programa/Guanajuato\",\"Proyectos de inversi\\u00f3n 2021 asociados al ODS 4 por Territorio y Programa/Huan\\u00edmaro\",\"Proyectos de inversi\\u00f3n 2021 asociados al ODS 4 por Territorio y Programa/Irapuato\",\"Proyectos de inversi\\u00f3n 2021 asociados al ODS 4 por Territorio y Programa/Jaral del Progreso\",\"Proyectos de inversi\\u00f3n 2021 asociados al ODS 4 por Territorio y Programa/Le\\u00f3n\",\"Proyectos de inversi\\u00f3n 2021 asociados al ODS 4 por Territorio y Programa/Manuel Doblado\",\"Proyectos de inversi\\u00f3n 2021 asociados al ODS 4 por Territorio y Programa/Morole\\u00f3n\",\"Proyectos de inversi\\u00f3n 2021 asociados al ODS 4 por Territorio y Programa/Por Determinar\",\"Proyectos de inversi\\u00f3n 2021 asociados al ODS 4 por Territorio y Programa/Pur\\u00edsima del Rinc\\u00f3n\",\"Proyectos de inversi\\u00f3n 2021 asociados al ODS 4 por Territorio y Programa/P\\u00e9njamo\",\"Proyectos de inversi\\u00f3n 2021 asociados al ODS 4 por Territorio y Programa/Romita\",\"Proyectos de inversi\\u00f3n 2021 asociados al ODS 4 por Territorio y Programa/Salamanca\",\"Proyectos de inversi\\u00f3n 2021 asociados al ODS 4 por Territorio y Programa/Salvatierra\",\"Proyectos de inversi\\u00f3n 2021 asociados al ODS 4 por Territorio y Programa/San Diego de la Uni\\u00f3n\",\"Proyectos de inversi\\u00f3n 2021 asociados al ODS 4 por Territorio y Programa/San Felipe\",\"Proyectos de inversi\\u00f3n 2021 asociados al ODS 4 por Territorio y Programa/San Francisco del Rinc\\u00f3n\",\"Proyectos de inversi\\u00f3n 2021 asociados al ODS 4 por Territorio y Programa/San Jos\\u00e9 Iturbide\",\"Proyectos de inversi\\u00f3n 2021 asociados al ODS 4 por Territorio y Programa/San Luis de la Paz\",\"Proyectos de inversi\\u00f3n 2021 asociados al ODS 4 por Territorio y Programa/San Miguel de Allende\",\"Proyectos de inversi\\u00f3n 2021 asociados al ODS 4 por Territorio y Programa/Santa Cruz de Juventino Rosas\",\"Proyectos de inversi\\u00f3n 2021 asociados al ODS 4 por Territorio y Programa/Silao de la Victoria\",\"Proyectos de inversi\\u00f3n 2021 asociados al ODS 4 por Territorio y Programa/Tarimoro\",\"Proyectos de inversi\\u00f3n 2021 asociados al ODS 4 por Territorio y Programa/Tierra Blanca\",\"Proyectos de inversi\\u00f3n 2021 asociados al ODS 4 por Territorio y Programa/Uriangato\",\"Proyectos de inversi\\u00f3n 2021 asociados al ODS 4 por Territorio y Programa/Valle de Santiago\",\"Proyectos de inversi\\u00f3n 2021 asociados al ODS 4 por Territorio y Programa/Victoria\",\"Proyectos de inversi\\u00f3n 2021 asociados al ODS 4 por Territorio y Programa/Villagr\\u00e1n\",\"Proyectos de inversi\\u00f3n 2021 asociados al ODS 4 por Territorio y Programa/Xich\\u00fa\",\"Proyectos de inversi\\u00f3n 2021 asociados al ODS 4 por Territorio y Programa/Yuriria\",\"Proyectos de inversi\\u00f3n 2021 asociados al ODS 4 por Territorio y Programa/Abasolo\",\"Proyectos de inversi\\u00f3n 2021 asociados al ODS 4 por Territorio y Programa/Ac\\u00e1mbaro\",\"Proyectos de inversi\\u00f3n 2021 asociados al ODS 4 por Territorio y Programa/Apaseo el Alto\",\"Proyectos de inversi\\u00f3n 2021 asociados al ODS 4 por Territorio y Programa/Apaseo el Grande\",\"Proyectos de inversi\\u00f3n 2021 asociados al ODS 4 por Territorio y Programa/Celaya\",\"Proyectos de inversi\\u00f3n 2021 asociados al ODS 4 por Territorio y Programa/Comonfort\",\"Proyectos de inversi\\u00f3n 2021 asociados al ODS 4 por Territorio y Programa/Coroneo\",\"Proyectos de inversi\\u00f3n 2021 asociados al ODS 4 por Territorio y Programa/Cortazar\",\"Proyectos de inversi\\u00f3n 2021 asociados al ODS 4 por Territorio y Programa/Doctor Mora\",\"Proyectos de inversi\\u00f3n 2021 asociados al ODS 4 por Territorio y Programa/Dolores Hidalgo Cuna de la Independencia Nacional\",\"Proyectos de inversi\\u00f3n 2021 asociados al ODS 4 por Territorio y Programa/Guanajuato\",\"Proyectos de inversi\\u00f3n 2021 asociados al ODS 4 por Territorio y Programa/Irapuato\",\"Proyectos de inversi\\u00f3n 2021 asociados al ODS 4 por Territorio y Programa/Jaral del Progreso\",\"Proyectos de inversi\\u00f3n 2021 asociados al ODS 4 por Territorio y Programa/J\\u00e9recuaro\",\"Proyectos de inversi\\u00f3n 2021 asociados al ODS 4 por Territorio y Programa/Le\\u00f3n\",\"Proyectos de inversi\\u00f3n 2021 asociados al ODS 4 por Territorio y Programa/Manuel Doblado\",\"Proyectos de inversi\\u00f3n 2021 asociados al ODS 4 por Territorio y Programa/Morole\\u00f3n\",\"Proyectos de inversi\\u00f3n 2021 asociados al ODS 4 por Territorio y Programa/Ocampo\",\"Proyectos de inversi\\u00f3n 2021 asociados al ODS 4 por Territorio y Programa/Por Determinar\",\"Proyectos de inversi\\u00f3n 2021 asociados al ODS 4 por Territorio y Programa/Pueblo Nuevo\",\"Proyectos de inversi\\u00f3n 2021 asociados al ODS 4 por Territorio y Programa/Pur\\u00edsima del Rinc\\u00f3n\",\"Proyectos de inversi\\u00f3n 2021 asociados al ODS 4 por Territorio y Programa/P\\u00e9njamo\",\"Proyectos de inversi\\u00f3n 2021 asociados al ODS 4 por Territorio y Programa/Romita\",\"Proyectos de inversi\\u00f3n 2021 asociados al ODS 4 por Territorio y Programa/Salamanca\",\"Proyectos de inversi\\u00f3n 2021 asociados al ODS 4 por Territorio y Programa/Salvatierra\",\"Proyectos de inversi\\u00f3n 2021 asociados al ODS 4 por Territorio y Programa/San Diego de la Uni\\u00f3n\",\"Proyectos de inversi\\u00f3n 2021 asociados al ODS 4 por Territorio y Programa/San Felipe\",\"Proyectos de inversi\\u00f3n 2021 asociados al ODS 4 por Territorio y Programa/San Francisco del Rinc\\u00f3n\",\"Proyectos de inversi\\u00f3n 2021 asociados al ODS 4 por Territorio y Programa/San Luis de la Paz\",\"Proyectos de inversi\\u00f3n 2021 asociados al ODS 4 por Territorio y Programa/San Miguel de Allende\",\"Proyectos de inversi\\u00f3n 2021 asociados al ODS 4 por Territorio y Programa/Santa Cruz de Juventino Rosas\",\"Proyectos de inversi\\u00f3n 2021 asociados al ODS 4 por Territorio y Programa/Silao de la Victoria\",\"Proyectos de inversi\\u00f3n 2021 asociados al ODS 4 por Territorio y Programa/Tarandacuao\",\"Proyectos de inversi\\u00f3n 2021 asociados al ODS 4 por Territorio y Programa/Uriangato\",\"Proyectos de inversi\\u00f3n 2021 asociados al ODS 4 por Territorio y Programa/Valle de Santiago\",\"Proyectos de inversi\\u00f3n 2021 asociados al ODS 4 por Territorio y Programa/Villagr\\u00e1n\",\"Proyectos de inversi\\u00f3n 2021 asociados al ODS 4 por Territorio y Programa/Yuriria\",\"Proyectos de inversi\\u00f3n 2021 asociados al ODS 4 por Territorio y Programa/Abasolo\",\"Proyectos de inversi\\u00f3n 2021 asociados al ODS 4 por Territorio y Programa/Ac\\u00e1mbaro\",\"Proyectos de inversi\\u00f3n 2021 asociados al ODS 4 por Territorio y Programa/Apaseo el Alto\",\"Proyectos de inversi\\u00f3n 2021 asociados al ODS 4 por Territorio y Programa/Apaseo el Grande\",\"Proyectos de inversi\\u00f3n 2021 asociados al ODS 4 por Territorio y Programa/Atarjea\",\"Proyectos de inversi\\u00f3n 2021 asociados al ODS 4 por Territorio y Programa/Celaya\",\"Proyectos de inversi\\u00f3n 2021 asociados al ODS 4 por Territorio y Programa/Comonfort\",\"Proyectos de inversi\\u00f3n 2021 asociados al ODS 4 por Territorio y Programa/Cortazar\",\"Proyectos de inversi\\u00f3n 2021 asociados al ODS 4 por Territorio y Programa/Doctor Mora\",\"Proyectos de inversi\\u00f3n 2021 asociados al ODS 4 por Territorio y Programa/Dolores Hidalgo Cuna de la Independencia Nacional\",\"Proyectos de inversi\\u00f3n 2021 asociados al ODS 4 por Territorio y Programa/Guanajuato\",\"Proyectos de inversi\\u00f3n 2021 asociados al ODS 4 por Territorio y Programa/Irapuato\",\"Proyectos de inversi\\u00f3n 2021 asociados al ODS 4 por Territorio y Programa/Jaral del Progreso\",\"Proyectos de inversi\\u00f3n 2021 asociados al ODS 4 por Territorio y Programa/J\\u00e9recuaro\",\"Proyectos de inversi\\u00f3n 2021 asociados al ODS 4 por Territorio y Programa/Le\\u00f3n\",\"Proyectos de inversi\\u00f3n 2021 asociados al ODS 4 por Territorio y Programa/Manuel Doblado\",\"Proyectos de inversi\\u00f3n 2021 asociados al ODS 4 por Territorio y Programa/Morole\\u00f3n\",\"Proyectos de inversi\\u00f3n 2021 asociados al ODS 4 por Territorio y Programa/Por Determinar\",\"Proyectos de inversi\\u00f3n 2021 asociados al ODS 4 por Territorio y Programa/Pueblo Nuevo\",\"Proyectos de inversi\\u00f3n 2021 asociados al ODS 4 por Territorio y Programa/Pur\\u00edsima del Rinc\\u00f3n\",\"Proyectos de inversi\\u00f3n 2021 asociados al ODS 4 por Territorio y Programa/P\\u00e9njamo\",\"Proyectos de inversi\\u00f3n 2021 asociados al ODS 4 por Territorio y Programa/Romita\",\"Proyectos de inversi\\u00f3n 2021 asociados al ODS 4 por Territorio y Programa/Salamanca\",\"Proyectos de inversi\\u00f3n 2021 asociados al ODS 4 por Territorio y Programa/Salvatierra\",\"Proyectos de inversi\\u00f3n 2021 asociados al ODS 4 por Territorio y Programa/San Felipe\",\"Proyectos de inversi\\u00f3n 2021 asociados al ODS 4 por Territorio y Programa/San Francisco del Rinc\\u00f3n\",\"Proyectos de inversi\\u00f3n 2021 asociados al ODS 4 por Territorio y Programa/San Jos\\u00e9 Iturbide\",\"Proyectos de inversi\\u00f3n 2021 asociados al ODS 4 por Territorio y Programa/San Luis de la Paz\",\"Proyectos de inversi\\u00f3n 2021 asociados al ODS 4 por Territorio y Programa/San Miguel de Allende\",\"Proyectos de inversi\\u00f3n 2021 asociados al ODS 4 por Territorio y Programa/Santa Cruz de Juventino Rosas\",\"Proyectos de inversi\\u00f3n 2021 asociados al ODS 4 por Territorio y Programa/Santiago Maravat\\u00edo\",\"Proyectos de inversi\\u00f3n 2021 asociados al ODS 4 por Territorio y Programa/Silao de la Victoria\",\"Proyectos de inversi\\u00f3n 2021 asociados al ODS 4 por Territorio y Programa/Tarandacuao\",\"Proyectos de inversi\\u00f3n 2021 asociados al ODS 4 por Territorio y Programa/Tarimoro\",\"Proyectos de inversi\\u00f3n 2021 asociados al ODS 4 por Territorio y Programa/Uriangato\",\"Proyectos de inversi\\u00f3n 2021 asociados al ODS 4 por Territorio y Programa/Valle de Santiago\",\"Proyectos de inversi\\u00f3n 2021 asociados al ODS 4 por Territorio y Programa/Villagr\\u00e1n\",\"Proyectos de inversi\\u00f3n 2021 asociados al ODS 4 por Territorio y Programa/Xich\\u00fa\",\"Proyectos de inversi\\u00f3n 2021 asociados al ODS 4 por Territorio y Programa/Yuriria\",\"Proyectos de inversi\\u00f3n 2021 asociados al ODS 4 por Territorio y Programa/Por Determinar\",\"Proyectos de inversi\\u00f3n 2021 asociados al ODS 4 por Territorio y Programa/Le\\u00f3n\",\"Proyectos de inversi\\u00f3n 2021 asociados al ODS 4 por Territorio y Programa/Ac\\u00e1mbaro\",\"Proyectos de inversi\\u00f3n 2021 asociados al ODS 4 por Territorio y Programa/Atarjea\",\"Proyectos de inversi\\u00f3n 2021 asociados al ODS 4 por Territorio y Programa/Celaya\",\"Proyectos de inversi\\u00f3n 2021 asociados al ODS 4 por Territorio y Programa/Cobertura Estatal\",\"Proyectos de inversi\\u00f3n 2021 asociados al ODS 4 por Territorio y Programa/Dolores Hidalgo Cuna de la Independencia Nacional\",\"Proyectos de inversi\\u00f3n 2021 asociados al ODS 4 por Territorio y Programa/Guanajuato\",\"Proyectos de inversi\\u00f3n 2021 asociados al ODS 4 por Territorio y Programa/Huan\\u00edmaro\",\"Proyectos de inversi\\u00f3n 2021 asociados al ODS 4 por Territorio y Programa/Irapuato\",\"Proyectos de inversi\\u00f3n 2021 asociados al ODS 4 por Territorio y Programa/Jaral del Progreso\",\"Proyectos de inversi\\u00f3n 2021 asociados al ODS 4 por Territorio y Programa/Le\\u00f3n\",\"Proyectos de inversi\\u00f3n 2021 asociados al ODS 4 por Territorio y Programa/Morole\\u00f3n\",\"Proyectos de inversi\\u00f3n 2021 asociados al ODS 4 por Territorio y Programa/Por Determinar\",\"Proyectos de inversi\\u00f3n 2021 asociados al ODS 4 por Territorio y Programa/Romita\",\"Proyectos de inversi\\u00f3n 2021 asociados al ODS 4 por Territorio y Programa/Salamanca\",\"Proyectos de inversi\\u00f3n 2021 asociados al ODS 4 por Territorio y Programa/Salvatierra\",\"Proyectos de inversi\\u00f3n 2021 asociados al ODS 4 por Territorio y Programa/San Felipe\",\"Proyectos de inversi\\u00f3n 2021 asociados al ODS 4 por Territorio y Programa/San Francisco del Rinc\\u00f3n\",\"Proyectos de inversi\\u00f3n 2021 asociados al ODS 4 por Territorio y Programa/San Miguel de Allende\",\"Proyectos de inversi\\u00f3n 2021 asociados al ODS 4 por Territorio y Programa/Santa Cruz de Juventino Rosas\",\"Proyectos de inversi\\u00f3n 2021 asociados al ODS 4 por Territorio y Programa/Silao de la Victoria\",\"Proyectos de inversi\\u00f3n 2021 asociados al ODS 4 por Territorio y Programa/Victoria\",\"Proyectos de inversi\\u00f3n 2021 asociados al ODS 4 por Territorio y Programa/Abasolo\",\"Proyectos de inversi\\u00f3n 2021 asociados al ODS 4 por Territorio y Programa/Ac\\u00e1mbaro\",\"Proyectos de inversi\\u00f3n 2021 asociados al ODS 4 por Territorio y Programa/Apaseo el Alto\",\"Proyectos de inversi\\u00f3n 2021 asociados al ODS 4 por Territorio y Programa/Apaseo el Grande\",\"Proyectos de inversi\\u00f3n 2021 asociados al ODS 4 por Territorio y Programa/Atarjea\",\"Proyectos de inversi\\u00f3n 2021 asociados al ODS 4 por Territorio y Programa/Celaya\",\"Proyectos de inversi\\u00f3n 2021 asociados al ODS 4 por Territorio y Programa/Cobertura Estatal\",\"Proyectos de inversi\\u00f3n 2021 asociados al ODS 4 por Territorio y Programa/Comonfort\",\"Proyectos de inversi\\u00f3n 2021 asociados al ODS 4 por Territorio y Programa/Coroneo\",\"Proyectos de inversi\\u00f3n 2021 asociados al ODS 4 por Territorio y Programa/Cortazar\",\"Proyectos de inversi\\u00f3n 2021 asociados al ODS 4 por Territorio y Programa/Cuer\\u00e1maro\",\"Proyectos de inversi\\u00f3n 2021 asociados al ODS 4 por Territorio y Programa/Doctor Mora\",\"Proyectos de inversi\\u00f3n 2021 asociados al ODS 4 por Territorio y Programa/Dolores Hidalgo Cuna de la Independencia Nacional\",\"Proyectos de inversi\\u00f3n 2021 asociados al ODS 4 por Territorio y Programa/Guanajuato\",\"Proyectos de inversi\\u00f3n 2021 asociados al ODS 4 por Territorio y Programa/Huan\\u00edmaro\",\"Proyectos de inversi\\u00f3n 2021 asociados al ODS 4 por Territorio y Programa/Irapuato\",\"Proyectos de inversi\\u00f3n 2021 asociados al ODS 4 por Territorio y Programa/Jaral del Progreso\",\"Proyectos de inversi\\u00f3n 2021 asociados al ODS 4 por Territorio y Programa/J\\u00e9recuaro\",\"Proyectos de inversi\\u00f3n 2021 asociados al ODS 4 por Territorio y Programa/Le\\u00f3n\",\"Proyectos de inversi\\u00f3n 2021 asociados al ODS 4 por Territorio y Programa/Manuel Doblado\",\"Proyectos de inversi\\u00f3n 2021 asociados al ODS 4 por Territorio y Programa/Morole\\u00f3n\",\"Proyectos de inversi\\u00f3n 2021 asociados al ODS 4 por Territorio y Programa/Ocampo\",\"Proyectos de inversi\\u00f3n 2021 asociados al ODS 4 por Territorio y Programa/Por Determinar\",\"Proyectos de inversi\\u00f3n 2021 asociados al ODS 4 por Territorio y Programa/Pueblo Nuevo\",\"Proyectos de inversi\\u00f3n 2021 asociados al ODS 4 por Territorio y Programa/Pur\\u00edsima del Rinc\\u00f3n\",\"Proyectos de inversi\\u00f3n 2021 asociados al ODS 4 por Territorio y Programa/P\\u00e9njamo\",\"Proyectos de inversi\\u00f3n 2021 asociados al ODS 4 por Territorio y Programa/Romita\",\"Proyectos de inversi\\u00f3n 2021 asociados al ODS 4 por Territorio y Programa/Salamanca\",\"Proyectos de inversi\\u00f3n 2021 asociados al ODS 4 por Territorio y Programa/Salvatierra\",\"Proyectos de inversi\\u00f3n 2021 asociados al ODS 4 por Territorio y Programa/San Diego de la Uni\\u00f3n\",\"Proyectos de inversi\\u00f3n 2021 asociados al ODS 4 por Territorio y Programa/San Felipe\",\"Proyectos de inversi\\u00f3n 2021 asociados al ODS 4 por Territorio y Programa/San Francisco del Rinc\\u00f3n\",\"Proyectos de inversi\\u00f3n 2021 asociados al ODS 4 por Territorio y Programa/San Jos\\u00e9 Iturbide\",\"Proyectos de inversi\\u00f3n 2021 asociados al ODS 4 por Territorio y Programa/San Luis de la Paz\",\"Proyectos de inversi\\u00f3n 2021 asociados al ODS 4 por Territorio y Programa/San Miguel de Allende\",\"Proyectos de inversi\\u00f3n 2021 asociados al ODS 4 por Territorio y Programa/Santa Catarina\",\"Proyectos de inversi\\u00f3n 2021 asociados al ODS 4 por Territorio y Programa/Santa Cruz de Juventino Rosas\",\"Proyectos de inversi\\u00f3n 2021 asociados al ODS 4 por Territorio y Programa/Santiago Maravat\\u00edo\",\"Proyectos de inversi\\u00f3n 2021 asociados al ODS 4 por Territorio y Programa/Silao de la Victoria\",\"Proyectos de inversi\\u00f3n 2021 asociados al ODS 4 por Territorio y Programa/Tarandacuao\",\"Proyectos de inversi\\u00f3n 2021 asociados al ODS 4 por Territorio y Programa/Tarimoro\",\"Proyectos de inversi\\u00f3n 2021 asociados al ODS 4 por Territorio y Programa/Tierra Blanca\",\"Proyectos de inversi\\u00f3n 2021 asociados al ODS 4 por Territorio y Programa/Uriangato\",\"Proyectos de inversi\\u00f3n 2021 asociados al ODS 4 por Territorio y Programa/Valle de Santiago\",\"Proyectos de inversi\\u00f3n 2021 asociados al ODS 4 por Territorio y Programa/Victoria\",\"Proyectos de inversi\\u00f3n 2021 asociados al ODS 4 por Territorio y Programa/Villagr\\u00e1n\",\"Proyectos de inversi\\u00f3n 2021 asociados al ODS 4 por Territorio y Programa/Xich\\u00fa\",\"Proyectos de inversi\\u00f3n 2021 asociados al ODS 4 por Territorio y Programa/Yuriria\",\"Proyectos de inversi\\u00f3n 2021 asociados al ODS 4 por Territorio y Programa/Ac\\u00e1mbaro\",\"Proyectos de inversi\\u00f3n 2021 asociados al ODS 4 por Territorio y Programa/Apaseo el Grande\",\"Proyectos de inversi\\u00f3n 2021 asociados al ODS 4 por Territorio y Programa/Celaya\",\"Proyectos de inversi\\u00f3n 2021 asociados al ODS 4 por Territorio y Programa/Cobertura Estatal\",\"Proyectos de inversi\\u00f3n 2021 asociados al ODS 4 por Territorio y Programa/Comonfort\",\"Proyectos de inversi\\u00f3n 2021 asociados al ODS 4 por Territorio y Programa/Cortazar\",\"Proyectos de inversi\\u00f3n 2021 asociados al ODS 4 por Territorio y Programa/Cuer\\u00e1maro\",\"Proyectos de inversi\\u00f3n 2021 asociados al ODS 4 por Territorio y Programa/Dolores Hidalgo Cuna de la Independencia Nacional\",\"Proyectos de inversi\\u00f3n 2021 asociados al ODS 4 por Territorio y Programa/Guanajuato\",\"Proyectos de inversi\\u00f3n 2021 asociados al ODS 4 por Territorio y Programa/Irapuato\",\"Proyectos de inversi\\u00f3n 2021 asociados al ODS 4 por Territorio y Programa/Le\\u00f3n\",\"Proyectos de inversi\\u00f3n 2021 asociados al ODS 4 por Territorio y Programa/Pur\\u00edsima del Rinc\\u00f3n\",\"Proyectos de inversi\\u00f3n 2021 asociados al ODS 4 por Territorio y Programa/P\\u00e9njamo\",\"Proyectos de inversi\\u00f3n 2021 asociados al ODS 4 por Territorio y Programa/Romita\",\"Proyectos de inversi\\u00f3n 2021 asociados al ODS 4 por Territorio y Programa/Salamanca\",\"Proyectos de inversi\\u00f3n 2021 asociados al ODS 4 por Territorio y Programa/Salvatierra\",\"Proyectos de inversi\\u00f3n 2021 asociados al ODS 4 por Territorio y Programa/San Francisco del Rinc\\u00f3n\",\"Proyectos de inversi\\u00f3n 2021 asociados al ODS 4 por Territorio y Programa/San Luis de la Paz\",\"Proyectos de inversi\\u00f3n 2021 asociados al ODS 4 por Territorio y Programa/Santa Cruz de Juventino Rosas\",\"Proyectos de inversi\\u00f3n 2021 asociados al ODS 4 por Territorio y Programa/Silao de la Victoria\",\"Proyectos de inversi\\u00f3n 2021 asociados al ODS 4 por Territorio y Programa/Tierra Blanca\",\"Proyectos de inversi\\u00f3n 2021 asociados al ODS 4 por Territorio y Programa/Uriangato\",\"Proyectos de inversi\\u00f3n 2021 asociados al ODS 4 por Territorio y Programa/Valle de Santiago\",\"Proyectos de inversi\\u00f3n 2021 asociados al ODS 4 por Territorio y Programa/Victoria\",\"Proyectos de inversi\\u00f3n 2021 asociados al ODS 4 por Territorio y Programa/Villagr\\u00e1n\",\"Proyectos de inversi\\u00f3n 2021 asociados al ODS 4 por Territorio y Programa/Yuriria\",\"Proyectos de inversi\\u00f3n 2021 asociados al ODS 4 por Territorio y Programa/Cobertura Estatal\",\"Proyectos de inversi\\u00f3n 2021 asociados al ODS 4 por Territorio y Programa\",\"Proyectos de inversi\\u00f3n 2021 asociados al ODS 4 por Territorio y Programa\",\"Proyectos de inversi\\u00f3n 2021 asociados al ODS 4 por Territorio y Programa\",\"Proyectos de inversi\\u00f3n 2021 asociados al ODS 4 por Territorio y Programa\",\"Proyectos de inversi\\u00f3n 2021 asociados al ODS 4 por Territorio y Programa\",\"Proyectos de inversi\\u00f3n 2021 asociados al ODS 4 por Territorio y Programa\",\"Proyectos de inversi\\u00f3n 2021 asociados al ODS 4 por Territorio y Programa\",\"Proyectos de inversi\\u00f3n 2021 asociados al ODS 4 por Territorio y Programa\",\"Proyectos de inversi\\u00f3n 2021 asociados al ODS 4 por Territorio y Programa\",\"Proyectos de inversi\\u00f3n 2021 asociados al ODS 4 por Territorio y Programa\",\"Proyectos de inversi\\u00f3n 2021 asociados al ODS 4 por Territorio y Programa\",\"Proyectos de inversi\\u00f3n 2021 asociados al ODS 4 por Territorio y Programa\",\"Proyectos de inversi\\u00f3n 2021 asociados al ODS 4 por Territorio y Programa\",\"Proyectos de inversi\\u00f3n 2021 asociados al ODS 4 por Territorio y Programa\",\"Proyectos de inversi\\u00f3n 2021 asociados al ODS 4 por Territorio y Programa\",\"Proyectos de inversi\\u00f3n 2021 asociados al ODS 4 por Territorio y Programa\",\"Proyectos de inversi\\u00f3n 2021 asociados al ODS 4 por Territorio y Programa\",\"Proyectos de inversi\\u00f3n 2021 asociados al ODS 4 por Territorio y Programa\",\"Proyectos de inversi\\u00f3n 2021 asociados al ODS 4 por Territorio y Programa\",\"Proyectos de inversi\\u00f3n 2021 asociados al ODS 4 por Territorio y Programa\",\"Proyectos de inversi\\u00f3n 2021 asociados al ODS 4 por Territorio y Programa\",\"Proyectos de inversi\\u00f3n 2021 asociados al ODS 4 por Territorio y Programa\",\"Proyectos de inversi\\u00f3n 2021 asociados al ODS 4 por Territorio y Programa\",\"Proyectos de inversi\\u00f3n 2021 asociados al ODS 4 por Territorio y Programa\",\"Proyectos de inversi\\u00f3n 2021 asociados al ODS 4 por Territorio y Programa\",\"Proyectos de inversi\\u00f3n 2021 asociados al ODS 4 por Territorio y Programa\",\"Proyectos de inversi\\u00f3n 2021 asociados al ODS 4 por Territorio y Programa\",\"Proyectos de inversi\\u00f3n 2021 asociados al ODS 4 por Territorio y Programa\",\"Proyectos de inversi\\u00f3n 2021 asociados al ODS 4 por Territorio y Programa\",\"Proyectos de inversi\\u00f3n 2021 asociados al ODS 4 por Territorio y Programa\",\"Proyectos de inversi\\u00f3n 2021 asociados al ODS 4 por Territorio y Programa\",\"Proyectos de inversi\\u00f3n 2021 asociados al ODS 4 por Territorio y Programa\",\"Proyectos de inversi\\u00f3n 2021 asociados al ODS 4 por Territorio y Programa\",\"Proyectos de inversi\\u00f3n 2021 asociados al ODS 4 por Territorio y Programa\",\"Proyectos de inversi\\u00f3n 2021 asociados al ODS 4 por Territorio y Programa\",\"Proyectos de inversi\\u00f3n 2021 asociados al ODS 4 por Territorio y Programa\",\"Proyectos de inversi\\u00f3n 2021 asociados al ODS 4 por Territorio y Programa\",\"Proyectos de inversi\\u00f3n 2021 asociados al ODS 4 por Territorio y Programa\",\"Proyectos de inversi\\u00f3n 2021 asociados al ODS 4 por Territorio y Programa\",\"Proyectos de inversi\\u00f3n 2021 asociados al ODS 4 por Territorio y Programa\",\"Proyectos de inversi\\u00f3n 2021 asociados al ODS 4 por Territorio y Programa\",\"Proyectos de inversi\\u00f3n 2021 asociados al ODS 4 por Territorio y Programa\",\"Proyectos de inversi\\u00f3n 2021 asociados al ODS 4 por Territorio y Programa\",\"Proyectos de inversi\\u00f3n 2021 asociados al ODS 4 por Territorio y Programa\",\"Proyectos de inversi\\u00f3n 2021 asociados al ODS 4 por Territorio y Programa\",\"Proyectos de inversi\\u00f3n 2021 asociados al ODS 4 por Territorio y Programa\",\"Proyectos de inversi\\u00f3n 2021 asociados al ODS 4 por Territorio y Programa\",\"Proyectos de inversi\\u00f3n 2021 asociados al ODS 4 por Territorio y Programa\",\"\"],\"type\":\"treemap\",\"values\":[0.5,0.07,2.95,0.9,0.08,1.0,0.02,0.03,0.4,9.55,0.06,0.4,0.03,0.14,0.4,0.16,0.08,0.44,0.1,3.6,0.32,0.96,1.2,0.86,1.1,0.08,8.15,4.8500000000000005,0.08,0.6799999999999999,0.7799999999999999,0.9,2.98,0.9500000000000001,0.7,3.55,0.8,11.02,0.8,0.8,48.23,1.8,1.98,0.8,4.13,0.8,0.7,1.4,0.7,1.9,0.8,1.65,0.8,2.11,0.08,0.31,1.05,0.98,0.98,0.9,0.3,0.8,10.23,0.23,0.34,1.92,20.02,0.97,0.23,3.73,0.11,1.82,2.34,7.870000000000001,0.23,0.09,17.459999999999997,0.11,0.11,0.68,35.449999999999996,0.23,7.6899999999999995,24.48,0.23,43.160000000000004,10.02,0.11,0.11,0.45,1.29,49.31999999999999,0.34,2.5999999999999996,0.11,5.11,14.35,0.23,0.23,30.53,0.87,1.08,4.42,0.0,3.58,18.37,0.9299999999999999,0.86,16.939999999999998,11.68,27.6,3.29,1.28,63.25,4.25,18.720000000000002,878.66,0.05,3.46,55.07,1.91,14.55,6.89,5.3,2.26,0.5700000000000001,2.6,21.040000000000006,2.6399999999999997,0.0,20.930000000000003,1.25,3.4099999999999997,1.53,4.31,3.1199999999999997,0.06,19.71,6.0,6.11,0.1,0.5,2.1,3.8099999999999996,0.5,1.9000000000000001,0.39,2.0,0.5,5.789999999999999,0.02,5.0,11.5,1.71,22.0,0.5,6.79,27.160000000000004,0.5,0.5,0.1,11.49,11.4,6.25,7.359999999999999,1.07,51.25000000000001,0.92,10.22,1.81,13.15,3.5300000000000002,3.05,19.439999999999998,26.39,2.92,46.88000000000001,3.7800000000000002,3.94,108.2,3.08,3.05,2.24,4.64,2.45,6.92,15.049999999999999,5.82,22.54,10.56,4.3500000000000005,11.05,9.85,8.190000000000001,17.310000000000002,15.82,0.78,10.23,0.54,17.349999999999998,1.38,3.29,3.63,6.08,16.05,3.55,5.8100000000000005,1.8399999999999999,6.9399999999999995,0.74,0.1,1.05,3.19,0.13,0.1,0.1,0.79,1.02,1.06,1.0699999999999998,0.05,0.1,0.18,0.8,0.26,0.08,0.62,0.18,0.18,0.1,0.21,0.26,0.1,0.13,0.18,0.22,53.71,14.61,8.530000000000001,14.9,1.6500000000000001,86.14999999999999,19.859999999999996,30.669999999999995,2.72,18.69,4.53,4.1,42.47,45.28000000000001,4.01,88.98000000000002,8.6,5.3100000000000005,212.93,8.24,22.7,3.3200000000000003,987.53,2.73,19.98,97.08000000000001,20.44,86.89,50.529999999999994,5.16,18.36,20.13,10.69,22.76,115.39,0.78,14.85,0.54,43.669999999999995,2.82,6.779999999999999,4.039999999999999,13.980000000000002,35.949999999999996,5.17,10.19,2.3,27.86,2328.5600000000036]}],                        {\"font\":{\"size\":13},\"legend\":{\"tracegroupgap\":0},\"margin\":{\"t\":60},\"template\":{\"data\":{\"bar\":[{\"error_x\":{\"color\":\"#2a3f5f\"},\"error_y\":{\"color\":\"#2a3f5f\"},\"marker\":{\"line\":{\"color\":\"#E5ECF6\",\"width\":0.5},\"pattern\":{\"fillmode\":\"overlay\",\"size\":10,\"solidity\":0.2}},\"type\":\"bar\"}],\"barpolar\":[{\"marker\":{\"line\":{\"color\":\"#E5ECF6\",\"width\":0.5},\"pattern\":{\"fillmode\":\"overlay\",\"size\":10,\"solidity\":0.2}},\"type\":\"barpolar\"}],\"carpet\":[{\"aaxis\":{\"endlinecolor\":\"#2a3f5f\",\"gridcolor\":\"white\",\"linecolor\":\"white\",\"minorgridcolor\":\"white\",\"startlinecolor\":\"#2a3f5f\"},\"baxis\":{\"endlinecolor\":\"#2a3f5f\",\"gridcolor\":\"white\",\"linecolor\":\"white\",\"minorgridcolor\":\"white\",\"startlinecolor\":\"#2a3f5f\"},\"type\":\"carpet\"}],\"choropleth\":[{\"colorbar\":{\"outlinewidth\":0,\"ticks\":\"\"},\"type\":\"choropleth\"}],\"contour\":[{\"colorbar\":{\"outlinewidth\":0,\"ticks\":\"\"},\"colorscale\":[[0.0,\"#0d0887\"],[0.1111111111111111,\"#46039f\"],[0.2222222222222222,\"#7201a8\"],[0.3333333333333333,\"#9c179e\"],[0.4444444444444444,\"#bd3786\"],[0.5555555555555556,\"#d8576b\"],[0.6666666666666666,\"#ed7953\"],[0.7777777777777778,\"#fb9f3a\"],[0.8888888888888888,\"#fdca26\"],[1.0,\"#f0f921\"]],\"type\":\"contour\"}],\"contourcarpet\":[{\"colorbar\":{\"outlinewidth\":0,\"ticks\":\"\"},\"type\":\"contourcarpet\"}],\"heatmap\":[{\"colorbar\":{\"outlinewidth\":0,\"ticks\":\"\"},\"colorscale\":[[0.0,\"#0d0887\"],[0.1111111111111111,\"#46039f\"],[0.2222222222222222,\"#7201a8\"],[0.3333333333333333,\"#9c179e\"],[0.4444444444444444,\"#bd3786\"],[0.5555555555555556,\"#d8576b\"],[0.6666666666666666,\"#ed7953\"],[0.7777777777777778,\"#fb9f3a\"],[0.8888888888888888,\"#fdca26\"],[1.0,\"#f0f921\"]],\"type\":\"heatmap\"}],\"heatmapgl\":[{\"colorbar\":{\"outlinewidth\":0,\"ticks\":\"\"},\"colorscale\":[[0.0,\"#0d0887\"],[0.1111111111111111,\"#46039f\"],[0.2222222222222222,\"#7201a8\"],[0.3333333333333333,\"#9c179e\"],[0.4444444444444444,\"#bd3786\"],[0.5555555555555556,\"#d8576b\"],[0.6666666666666666,\"#ed7953\"],[0.7777777777777778,\"#fb9f3a\"],[0.8888888888888888,\"#fdca26\"],[1.0,\"#f0f921\"]],\"type\":\"heatmapgl\"}],\"histogram\":[{\"marker\":{\"pattern\":{\"fillmode\":\"overlay\",\"size\":10,\"solidity\":0.2}},\"type\":\"histogram\"}],\"histogram2d\":[{\"colorbar\":{\"outlinewidth\":0,\"ticks\":\"\"},\"colorscale\":[[0.0,\"#0d0887\"],[0.1111111111111111,\"#46039f\"],[0.2222222222222222,\"#7201a8\"],[0.3333333333333333,\"#9c179e\"],[0.4444444444444444,\"#bd3786\"],[0.5555555555555556,\"#d8576b\"],[0.6666666666666666,\"#ed7953\"],[0.7777777777777778,\"#fb9f3a\"],[0.8888888888888888,\"#fdca26\"],[1.0,\"#f0f921\"]],\"type\":\"histogram2d\"}],\"histogram2dcontour\":[{\"colorbar\":{\"outlinewidth\":0,\"ticks\":\"\"},\"colorscale\":[[0.0,\"#0d0887\"],[0.1111111111111111,\"#46039f\"],[0.2222222222222222,\"#7201a8\"],[0.3333333333333333,\"#9c179e\"],[0.4444444444444444,\"#bd3786\"],[0.5555555555555556,\"#d8576b\"],[0.6666666666666666,\"#ed7953\"],[0.7777777777777778,\"#fb9f3a\"],[0.8888888888888888,\"#fdca26\"],[1.0,\"#f0f921\"]],\"type\":\"histogram2dcontour\"}],\"mesh3d\":[{\"colorbar\":{\"outlinewidth\":0,\"ticks\":\"\"},\"type\":\"mesh3d\"}],\"parcoords\":[{\"line\":{\"colorbar\":{\"outlinewidth\":0,\"ticks\":\"\"}},\"type\":\"parcoords\"}],\"pie\":[{\"automargin\":true,\"type\":\"pie\"}],\"scatter\":[{\"marker\":{\"colorbar\":{\"outlinewidth\":0,\"ticks\":\"\"}},\"type\":\"scatter\"}],\"scatter3d\":[{\"line\":{\"colorbar\":{\"outlinewidth\":0,\"ticks\":\"\"}},\"marker\":{\"colorbar\":{\"outlinewidth\":0,\"ticks\":\"\"}},\"type\":\"scatter3d\"}],\"scattercarpet\":[{\"marker\":{\"colorbar\":{\"outlinewidth\":0,\"ticks\":\"\"}},\"type\":\"scattercarpet\"}],\"scattergeo\":[{\"marker\":{\"colorbar\":{\"outlinewidth\":0,\"ticks\":\"\"}},\"type\":\"scattergeo\"}],\"scattergl\":[{\"marker\":{\"colorbar\":{\"outlinewidth\":0,\"ticks\":\"\"}},\"type\":\"scattergl\"}],\"scattermapbox\":[{\"marker\":{\"colorbar\":{\"outlinewidth\":0,\"ticks\":\"\"}},\"type\":\"scattermapbox\"}],\"scatterpolar\":[{\"marker\":{\"colorbar\":{\"outlinewidth\":0,\"ticks\":\"\"}},\"type\":\"scatterpolar\"}],\"scatterpolargl\":[{\"marker\":{\"colorbar\":{\"outlinewidth\":0,\"ticks\":\"\"}},\"type\":\"scatterpolargl\"}],\"scatterternary\":[{\"marker\":{\"colorbar\":{\"outlinewidth\":0,\"ticks\":\"\"}},\"type\":\"scatterternary\"}],\"surface\":[{\"colorbar\":{\"outlinewidth\":0,\"ticks\":\"\"},\"colorscale\":[[0.0,\"#0d0887\"],[0.1111111111111111,\"#46039f\"],[0.2222222222222222,\"#7201a8\"],[0.3333333333333333,\"#9c179e\"],[0.4444444444444444,\"#bd3786\"],[0.5555555555555556,\"#d8576b\"],[0.6666666666666666,\"#ed7953\"],[0.7777777777777778,\"#fb9f3a\"],[0.8888888888888888,\"#fdca26\"],[1.0,\"#f0f921\"]],\"type\":\"surface\"}],\"table\":[{\"cells\":{\"fill\":{\"color\":\"#EBF0F8\"},\"line\":{\"color\":\"white\"}},\"header\":{\"fill\":{\"color\":\"#C8D4E3\"},\"line\":{\"color\":\"white\"}},\"type\":\"table\"}]},\"layout\":{\"annotationdefaults\":{\"arrowcolor\":\"#2a3f5f\",\"arrowhead\":0,\"arrowwidth\":1},\"autotypenumbers\":\"strict\",\"coloraxis\":{\"colorbar\":{\"outlinewidth\":0,\"ticks\":\"\"}},\"colorscale\":{\"diverging\":[[0,\"#8e0152\"],[0.1,\"#c51b7d\"],[0.2,\"#de77ae\"],[0.3,\"#f1b6da\"],[0.4,\"#fde0ef\"],[0.5,\"#f7f7f7\"],[0.6,\"#e6f5d0\"],[0.7,\"#b8e186\"],[0.8,\"#7fbc41\"],[0.9,\"#4d9221\"],[1,\"#276419\"]],\"sequential\":[[0.0,\"#0d0887\"],[0.1111111111111111,\"#46039f\"],[0.2222222222222222,\"#7201a8\"],[0.3333333333333333,\"#9c179e\"],[0.4444444444444444,\"#bd3786\"],[0.5555555555555556,\"#d8576b\"],[0.6666666666666666,\"#ed7953\"],[0.7777777777777778,\"#fb9f3a\"],[0.8888888888888888,\"#fdca26\"],[1.0,\"#f0f921\"]],\"sequentialminus\":[[0.0,\"#0d0887\"],[0.1111111111111111,\"#46039f\"],[0.2222222222222222,\"#7201a8\"],[0.3333333333333333,\"#9c179e\"],[0.4444444444444444,\"#bd3786\"],[0.5555555555555556,\"#d8576b\"],[0.6666666666666666,\"#ed7953\"],[0.7777777777777778,\"#fb9f3a\"],[0.8888888888888888,\"#fdca26\"],[1.0,\"#f0f921\"]]},\"colorway\":[\"#636efa\",\"#EF553B\",\"#00cc96\",\"#ab63fa\",\"#FFA15A\",\"#19d3f3\",\"#FF6692\",\"#B6E880\",\"#FF97FF\",\"#FECB52\"],\"font\":{\"color\":\"#2a3f5f\"},\"geo\":{\"bgcolor\":\"white\",\"lakecolor\":\"white\",\"landcolor\":\"#E5ECF6\",\"showlakes\":true,\"showland\":true,\"subunitcolor\":\"white\"},\"hoverlabel\":{\"align\":\"left\"},\"hovermode\":\"closest\",\"mapbox\":{\"style\":\"light\"},\"paper_bgcolor\":\"white\",\"plot_bgcolor\":\"#E5ECF6\",\"polar\":{\"angularaxis\":{\"gridcolor\":\"white\",\"linecolor\":\"white\",\"ticks\":\"\"},\"bgcolor\":\"#E5ECF6\",\"radialaxis\":{\"gridcolor\":\"white\",\"linecolor\":\"white\",\"ticks\":\"\"}},\"scene\":{\"xaxis\":{\"backgroundcolor\":\"#E5ECF6\",\"gridcolor\":\"white\",\"gridwidth\":2,\"linecolor\":\"white\",\"showbackground\":true,\"ticks\":\"\",\"zerolinecolor\":\"white\"},\"yaxis\":{\"backgroundcolor\":\"#E5ECF6\",\"gridcolor\":\"white\",\"gridwidth\":2,\"linecolor\":\"white\",\"showbackground\":true,\"ticks\":\"\",\"zerolinecolor\":\"white\"},\"zaxis\":{\"backgroundcolor\":\"#E5ECF6\",\"gridcolor\":\"white\",\"gridwidth\":2,\"linecolor\":\"white\",\"showbackground\":true,\"ticks\":\"\",\"zerolinecolor\":\"white\"}},\"shapedefaults\":{\"line\":{\"color\":\"#2a3f5f\"}},\"ternary\":{\"aaxis\":{\"gridcolor\":\"white\",\"linecolor\":\"white\",\"ticks\":\"\"},\"baxis\":{\"gridcolor\":\"white\",\"linecolor\":\"white\",\"ticks\":\"\"},\"bgcolor\":\"#E5ECF6\",\"caxis\":{\"gridcolor\":\"white\",\"linecolor\":\"white\",\"ticks\":\"\"}},\"title\":{\"x\":0.05},\"xaxis\":{\"automargin\":true,\"gridcolor\":\"white\",\"linecolor\":\"white\",\"ticks\":\"\",\"title\":{\"standoff\":15},\"zerolinecolor\":\"white\",\"zerolinewidth\":2},\"yaxis\":{\"automargin\":true,\"gridcolor\":\"white\",\"linecolor\":\"white\",\"ticks\":\"\",\"title\":{\"standoff\":15},\"zerolinecolor\":\"white\",\"zerolinewidth\":2}}},\"treemapcolorway\":[\"rgb(36, 86, 104)\",\"rgb(15, 114, 121)\",\"rgb(13, 143, 129)\",\"rgb(57, 171, 126)\",\"rgb(110, 197, 116)\",\"rgb(169, 220, 103)\",\"rgb(237, 239, 93)\"]},                        {\"responsive\": true}                    ).then(function(){\n                            \nvar gd = document.getElementById('8379a7a9-b6cc-47c9-ab64-f1ff8581c9e0');\nvar x = new MutationObserver(function (mutations, observer) {{\n        var display = window.getComputedStyle(gd).display;\n        if (!display || display === 'none') {{\n            console.log([gd, 'removed!']);\n            Plotly.purge(gd);\n            observer.disconnect();\n        }}\n}});\n\n// Listen for the removal of the full notebook cells\nvar notebookContainer = gd.closest('#notebook-container');\nif (notebookContainer) {{\n    x.observe(notebookContainer, {childList: true});\n}}\n\n// Listen for the clearing of the current output cell\nvar outputEl = gd.closest('.output');\nif (outputEl) {{\n    x.observe(outputEl, {childList: true});\n}}\n\n                        })                };                            </script>        </div>\n</body>\n</html>"
     },
     "metadata": {},
     "output_type": "display_data"
    }
   ],
   "execution_count": null
  },
  {
   "cell_type": "markdown",
   "source": "El archivo _GEO Json_ de los municipios de Guanajuato usado en el siguiente mapa coroplético fue hecho por Alberto Barradas y subido en Diciembre del 2016 al siguiente [enlace](http://datamx.io/sl/dataset/municipios-de-guanajuato).",
   "metadata": {
    "tags": [],
    "cell_id": "00008-13f6d17f-c354-42a5-a632-543dffb54c64",
    "deepnote_cell_type": "markdown"
   }
  },
  {
   "cell_type": "code",
   "metadata": {
    "tags": [],
    "cell_id": "00016-8d0af99f-4917-46a2-b5f4-60984e8ff9d7",
    "deepnote_to_be_reexecuted": false,
    "source_hash": "e856d262",
    "execution_start": 1634263486745,
    "execution_millis": 543,
    "deepnote_cell_type": "code"
   },
   "source": "# Se agrupa y prepara el dataset de las inversiones al primer trimestre del 2021\ndf_dummy = df_inversion_ods_4.copy()\ndf_choropleth = df_dummy.groupby(\"Municipio\", as_index=False).sum()\ndf_choropleth[\"Monto\"] = round(df_choropleth[\"Monto\"].copy()/1_000_000, 2)\n\n# Se cambian los nombres de los municipios para que se ajusten a los nombres del geojson\ndf_choropleth[\"Municipio\"] = df_choropleth[\"Municipio\"].str.replace(\" de la Victoria\", \"\")\ndf_choropleth[\"Municipio\"] = df_choropleth[\"Municipio\"].str.replace(\"Jérecuaro\", \"Jerécuaro\")\n\n# Se lee el archivo geojson de los municipios de Guanajuato\nurl_geojson = \"http://datamx.io/sl/dataset/01a8a26c-8ce3-4b4c-a20c-033eeeab1669/resource/b1cd35b7-479e-4fa0-86e9-e897d3c617e6/download/gto.geojson\"\nwith urlopen(url_geojson) as response:\n    guanajuato = json.load(response)\n\n# Se hace el mapa\nfig = px.choropleth(df_choropleth, geojson=guanajuato, locations='Municipio',\n                    featureidkey=\"properties.mun_name\",\n                    color='Monto',\n                    color_continuous_scale=\"Aggrnyl_r\", \n                    range_color=(0, 1.25e2), \n                    labels={'Monto':'Presupuesto (mdp)'}\n                    )\n\n# Se centra el mapa en Guanajuato\nfig.update_geos(fitbounds=\"locations\", visible=False)\n\n# Se configura el margen\nfig.update_layout(margin={\"r\":0,\"t\":0,\"l\":0,\"b\":0})\n\nfig.update_layout(font_size=15)\n\nplotly.offline.plot(fig, filename='/work/choropleth_ods_4.html')\n\nfig.show()",
   "outputs": [
    {
     "data": {
      "text/html": "<html>\n<head><meta charset=\"utf-8\" /></head>\n<body>\n    <div>            <script src=\"https://cdnjs.cloudflare.com/ajax/libs/mathjax/2.7.5/MathJax.js?config=TeX-AMS-MML_SVG\"></script><script type=\"text/javascript\">if (window.MathJax) {MathJax.Hub.Config({SVG: {font: \"STIX-Web\"}});}</script>                <script type=\"text/javascript\">window.PlotlyConfig = {MathJaxConfig: 'local'};</script>\n        <script src=\"https://cdn.plot.ly/plotly-2.4.2.min.js\"></script>                <div id=\"a69ee1ac-527b-4f60-90e9-d20a3f195d0e\" class=\"plotly-graph-div\" style=\"height:525px; width:100%;\"></div>            <script type=\"text/javascript\">                                    window.PLOTLYENV=window.PLOTLYENV || {};                                    if (document.getElementById(\"a69ee1ac-527b-4f60-90e9-d20a3f195d0e\")) {                    Plotly.newPlot(                        \"a69ee1ac-527b-4f60-90e9-d20a3f195d0e\",                        [{\"coloraxis\":\"coloraxis\",\"featureidkey\":\"properties.mun_name\",\"geo\":\"geo\",\"geojson\":{\"crs\":{\"properties\":{\"name\":\"urn:ogc:def:crs:OGC:1.3:CRS84\"},\"type\":\"name\"},\"features\":[{\"geometry\":{\"coordinates\":[[[-100.86051359054179,20.66102875813899],[-100.85195524900254,20.681397903669357],[-100.8842867614841,20.69794783441278],[-100.95687417676135,20.69740223230036],[-100.98001339647854,20.730502093787205],[-100.9670173963634,20.77978815127586],[-100.98888871363035,20.78851778507459],[-100.98857173801778,20.811433073796252],[-100.95402139624827,20.799247959952194],[-100.91376549345259,20.807795726380114],[-100.8896753468977,20.793428204086375],[-100.80377495589276,20.80815946112173],[-100.78634129720173,20.78215242709635],[-100.71819154050038,20.831256617214198],[-100.67761866209216,20.79997542943542],[-100.63229114949546,20.792336999861533],[-100.61549144202954,20.76305635316163],[-100.61897817376774,20.715952704122657],[-100.63514393000852,20.66684851400481],[-100.66684149126496,20.688672598501633],[-100.7226291990763,20.679761097332097],[-100.74957212614426,20.65248099171107],[-100.80948051691892,20.688308863760017],[-100.82501232193458,20.66502984029674],[-100.86051359054179,20.66102875813899]]],\"type\":\"Polygon\"},\"properties\":{\"id\":null,\"mun_code\":9,\"mun_name\":\"Comonfort\",\"state_code\":11},\"type\":\"Feature\"},{\"geometry\":{\"coordinates\":[[[-100.63514393000852,20.66684851400481],[-100.67603378402933,20.618108058628575],[-100.69822207690883,20.621199803932292],[-100.71311993069936,20.56773079691508],[-100.75781349207094,20.537358945990334],[-100.74893817491913,20.48516301056877],[-100.69283349149524,20.46843121245454],[-100.69093163781986,20.423873706606862],[-100.73784402847939,20.37386017963498],[-100.78222061423838,20.374951383859823],[-100.7847564191389,20.35603717729591],[-100.82374441948431,20.37513325123063],[-100.844347834301,20.391865049344858],[-100.8265971999974,20.431330268809944],[-100.85195524900254,20.439514300496253],[-100.84688363920152,20.484253673714736],[-100.90901085926413,20.51571672886432],[-100.91091271293952,20.565548388465395],[-100.91122968855208,20.56936760325234],[-100.87414354188205,20.58500819714173],[-100.88492071270923,20.62883823350618],[-100.86051359054179,20.66102875813899],[-100.82501232193458,20.66502984029674],[-100.80948051691892,20.688308863760017],[-100.74957212614426,20.65248099171107],[-100.7226291990763,20.679761097332097],[-100.66684149126496,20.688672598501633],[-100.63514393000852,20.66684851400481]]],\"type\":\"Polygon\"},\"properties\":{\"id\":null,\"mun_code\":7,\"mun_name\":\"Celaya\",\"state_code\":11},\"type\":\"Feature\"},{\"geometry\":{\"coordinates\":[[[-101.78576540361712,21.048769992699185],[-101.82094969661176,21.0358574093719],[-101.83362872111434,21.053316676969356],[-101.8694469653341,21.03822168519239],[-101.85645096521897,20.996937792019235],[-101.88751457525028,20.902184891828867],[-101.90304638026592,20.826164330831606],[-101.99623721035985,20.83507583200114],[-102.05392677184656,20.815434155954],[-102.06755672318683,20.771604119589554],[-102.07389623543811,20.776514538601337],[-102.08752618677838,20.778878814421827],[-102.0802357476894,20.827983004539675],[-102.05487769868425,20.846351608991167],[-101.93727974642287,20.95565389884608],[-101.90875194129208,20.99839273098569],[-101.88688062402514,21.061136973914053],[-101.87166579462206,21.095328039625738],[-101.81777994048612,21.10678568398657],[-101.80890462333431,21.051861738002902],[-101.78576540361712,21.048769992699185]]],\"type\":\"Polygon\"},\"properties\":{\"id\":null,\"mun_code\":25,\"mun_name\":\"Pur\\u00edsima del Rinc\\u00f3n\",\"state_code\":11},\"type\":\"Feature\"},{\"geometry\":{\"coordinates\":[[[-101.04055573847833,21.32593586580882],[-101.05164988491809,21.28847118742261],[-101.08746812913786,21.2802871557363],[-101.08334744617451,21.313932619335567],[-101.11155827569274,21.29811015807537],[-101.10585271466658,21.257917469127058],[-101.18477964219511,21.23354724143894],[-101.20379817894897,21.20754020741356],[-101.29572110659264,21.202811655772585],[-101.33312422887522,21.145705301339234],[-101.3866931073986,21.13843060650696],[-101.37306315605834,21.176259019634784],[-101.39081379036193,21.212450626425348],[-101.44374871766018,21.254098254340114],[-101.49826852302125,21.255189458564956],[-101.52267564518871,21.232274169843294],[-101.53725652336666,21.272466858791606],[-101.60825906058108,21.313932619335567],[-101.63266618274854,21.326845202662852],[-101.64597915847624,21.3281182742585],[-101.6428094023506,21.354852777767107],[-101.6792615977955,21.39322679300735],[-101.59684793852877,21.4210525007408],[-101.5708559382985,21.418506357549504],[-101.52647935253948,21.431782675618404],[-101.53091701111538,21.393772395119772],[-101.50080432792177,21.378859270713612],[-101.4053946685399,21.42050689862838],[-101.37116130238294,21.39740974253591],[-101.32868657029933,21.409776723750774],[-101.33946374112651,21.463427598138793],[-101.31695847263444,21.507257634503244],[-101.28589486260314,21.523261963134246],[-101.32203008243548,21.55599808987948],[-101.3635538876814,21.561454111003684],[-101.33819583867626,21.677667360949258],[-101.40476071731477,21.67057453348779],[-101.43994501030942,21.666755318700847],[-101.44343174204762,21.73586491960745],[-101.42694901019428,21.75496099354217],[-101.42314530284351,21.824979931302803],[-101.36608969258192,21.839347453596545],[-101.31949427753496,21.835346371438796],[-101.29191739924187,21.812794817458744],[-101.21711115467667,21.81588656276246],[-101.21964695957719,21.80224650995195],[-101.16132344686535,21.757507136733466],[-101.05925729961963,21.765509301048965],[-100.98159827454137,21.75296045246329],[-100.91249759100234,21.713677100369015],[-100.90235437140028,21.682032177848622],[-100.85322315145281,21.67421188090393],[-100.83452159031151,21.664572910251167],[-100.8576608100287,21.618924200178647],[-100.8728756394318,21.594372105119724],[-100.93024822530595,21.59855505464828],[-100.93405193265671,21.56163597837449],[-101.004420518646,21.539630026506863],[-101.00949212844702,21.493799449063538],[-101.03960481164064,21.445422728428916],[-101.02375603101243,21.42159810285322],[-101.04182364092858,21.36558295264471],[-101.04055573847833,21.32593586580882]]],\"type\":\"Polygon\"},\"properties\":{\"id\":null,\"mun_code\":30,\"mun_name\":\"San Felipe\",\"state_code\":11},\"type\":\"Feature\"},{\"geometry\":{\"coordinates\":[[[-100.1187906571412,21.228636822427156],[-100.13051875480609,21.215542371729065],[-100.14890334033483,21.245914222653806],[-100.12576412061762,21.258099336497864],[-100.1527070476856,21.30447551605361],[-100.10516070580094,21.37140270851053],[-100.1321036328689,21.407230580559478],[-100.083289388534,21.402683896289307],[-100.0921647056858,21.463427598138793],[-100.05793133952885,21.495618122771607],[-100.06268597371732,21.523261963134246],[-99.95745007034596,21.526171841067157],[-99.9650574850475,21.505984562907596],[-99.94413709461826,21.461427057059918],[-99.9064169967231,21.447968871620212],[-99.86742899637768,21.47343030353317],[-99.81702987397995,21.461608924430728],[-99.77772489802197,21.495072520659185],[-99.77899280047222,21.394863599344614],[-99.82970889848252,21.37722246437635],[-99.859187630451,21.34030338810256],[-99.87757221597974,21.261554816543196],[-99.90419816743514,21.18517052080432],[-99.94794080196903,21.212450626425348],[-99.98661182670187,21.218270382291166],[-100.0113359244819,21.189535337703685],[-100.07251221770682,21.229182424539577],[-100.1187906571412,21.228636822427156]]],\"type\":\"Polygon\"},\"properties\":{\"id\":null,\"mun_code\":45,\"mun_name\":\"Xich\\u00fa\",\"state_code\":11},\"type\":\"Feature\"},{\"geometry\":{\"coordinates\":[[[-100.29376119527673,21.09223629432202],[-100.4557357332971,21.10551261239092],[-100.45922246503532,21.114969715672878],[-100.4852144652656,21.178623295455274],[-100.44369066001967,21.19208148089498],[-100.40565358651195,21.169529926914933],[-100.35208470798857,21.210813820088084],[-100.31499856131853,21.20535779896388],[-100.29122539037621,21.168256855319285],[-100.24019231675335,21.120243869426275],[-100.25382226809361,21.08714400793943],[-100.29376119527673,21.09223629432202]]],\"type\":\"Polygon\"},\"properties\":{\"id\":null,\"mun_code\":13,\"mun_name\":\"Doctor Mora\",\"state_code\":11},\"type\":\"Feature\"},{\"geometry\":{\"coordinates\":[[[-100.13051875480609,21.215542371729065],[-100.1187906571412,21.228636822427156],[-100.07251221770682,21.229182424539577],[-100.0113359244819,21.189535337703685],[-99.99643807069137,21.18244251024222],[-100.02655075388498,21.073503955128917],[-100.01513963183267,21.05095240114887],[-100.0547615834032,21.050043064294833],[-100.07980265679579,21.067502331892292],[-100.07314616893194,21.092781896434442],[-100.11023231560196,21.10678568398657],[-100.10801348631402,21.126245492662903],[-100.1527070476856,21.155889874104417],[-100.13051875480609,21.215542371729065]]],\"type\":\"Polygon\"},\"properties\":{\"id\":null,\"mun_code\":34,\"mun_name\":\"Santa Catarina\",\"state_code\":11},\"type\":\"Feature\"},{\"geometry\":{\"coordinates\":[[[-100.1527070476856,21.155889874104417],[-100.10801348631402,21.126245492662903],[-100.11023231560196,21.10678568398657],[-100.07314616893194,21.092781896434442],[-100.07980265679579,21.067502331892292],[-100.0547615834032,21.050043064294833],[-100.01513963183267,21.05095240114887],[-100.01165290009446,21.040767828383686],[-100.02243007092164,21.01439705961669],[-100.0611010956545,21.028400847168818],[-100.06078412004193,21.00584929318877],[-100.09248168129837,20.931829273270385],[-100.1882083162928,20.93255674275361],[-100.24589787777951,20.963292328419968],[-100.25445621931875,21.044223308429014],[-100.26745221943389,21.056954024385494],[-100.29376119527673,21.09223629432202],[-100.25382226809361,21.08714400793943],[-100.24019231675335,21.120243869426275],[-100.16348421851278,21.136430065428087],[-100.1527070476856,21.155889874104417]]],\"type\":\"Polygon\"},\"properties\":{\"id\":null,\"mun_code\":40,\"mun_name\":\"Tierra Blanca\",\"state_code\":11},\"type\":\"Feature\"},{\"geometry\":{\"coordinates\":[[[-101.08049466566145,20.08287238634403],[-101.132478666122,20.060684567105593],[-101.17400247136793,20.09778551075019],[-101.19650773986,20.057047219689455],[-101.19967749598564,20.106151409807303],[-101.17907408116895,20.126702422708476],[-101.20284725211128,20.15016331354256],[-101.2079188619123,20.19290214568217],[-101.15942159318996,20.160347886307743],[-101.12613915387071,20.164530835836302],[-101.08049466566145,20.08287238634403]]],\"type\":\"Polygon\"},\"properties\":{\"id\":null,\"mun_code\":41,\"mun_name\":\"Uriangato\",\"state_code\":11},\"type\":\"Feature\"},{\"geometry\":{\"coordinates\":[[[-100.24019231675335,21.120243869426275],[-100.29122539037621,21.168256855319285],[-100.31499856131853,21.20535779896388],[-100.35208470798857,21.210813820088084],[-100.38251436679475,21.264282827105298],[-100.37268812280524,21.300656301266667],[-100.34257543961164,21.32229851839268],[-100.36412978126602,21.333756162753513],[-100.36634861055396,21.372675780106178],[-100.34447729328703,21.423053041819674],[-100.29883280507775,21.41923382703273],[-100.29978373191545,21.437966166225834],[-100.22656236541309,21.468519884521385],[-100.24811670706747,21.51089498191938],[-100.21229846284768,21.597100115681826],[-100.20025338957025,21.615468720133318],[-100.22339260928744,21.6654822471052],[-100.18060090159125,21.650205387957424],[-100.16728792586355,21.60146493258119],[-100.14700148665943,21.618014863324614],[-100.07599894944502,21.557816763587546],[-100.06268597371732,21.523261963134246],[-100.05793133952885,21.495618122771607],[-100.0921647056858,21.463427598138793],[-100.083289388534,21.402683896289307],[-100.1321036328689,21.407230580559478],[-100.10516070580094,21.37140270851053],[-100.1527070476856,21.30447551605361],[-100.12576412061762,21.258099336497864],[-100.14890334033483,21.245914222653806],[-100.13051875480609,21.215542371729065],[-100.1527070476856,21.155889874104417],[-100.16348421851278,21.136430065428087],[-100.24019231675335,21.120243869426275]]],\"type\":\"Polygon\"},\"properties\":{\"id\":null,\"mun_code\":43,\"mun_name\":\"Victoria\",\"state_code\":11},\"type\":\"Feature\"},{\"geometry\":{\"coordinates\":[[[-99.77899280047222,21.394863599344614],[-99.79452460548788,21.357398920958403],[-99.75775543443041,21.292108534838746],[-99.73715201961373,21.312841415110725],[-99.67375689710086,21.296837086479723],[-99.69879797049344,21.26755643977982],[-99.69372636069241,21.23591151725943],[-99.73873689767655,21.235547782517816],[-99.82939192286996,21.157890415183292],[-99.88834938680692,21.169529926914933],[-99.90419816743514,21.18517052080432],[-99.87757221597974,21.261554816543196],[-99.859187630451,21.34030338810256],[-99.82970889848252,21.37722246437635],[-99.77899280047222,21.394863599344614]]],\"type\":\"Polygon\"},\"properties\":{\"id\":null,\"mun_code\":6,\"mun_name\":\"Atarjea\",\"state_code\":11},\"type\":\"Feature\"},{\"geometry\":{\"coordinates\":[[[-100.82786510244766,20.352763564621387],[-100.80250705344251,20.32366478529229],[-100.8221595414215,20.321118642100995],[-100.84339690746332,20.279289146815422],[-100.80599378518072,20.228730017731117],[-100.78982802893994,20.23218549777645],[-100.78158666301326,20.173078602264223],[-100.83483856592407,20.133977117540752],[-100.86875495646845,20.122701340550726],[-100.89664881037412,20.109425022481826],[-100.88713954199719,20.084327325310483],[-100.92454266427978,20.028312175101973],[-100.97018715248905,20.005215019009505],[-101.0142467626355,20.045589575328624],[-100.99269242098111,20.064685649263343],[-101.01171095773498,20.08159931474838],[-101.00061681129523,20.109425022481826],[-100.97906246964085,20.131612841720262],[-100.92866334724312,20.150527048284175],[-100.94165934735825,20.18708238981635],[-101.02122022611191,20.210543280650434],[-101.02026929927422,20.200176840514445],[-101.05196686053065,20.215999301774637],[-101.03453320183961,20.25037223485713],[-101.04182364092858,20.277288605736544],[-101.00568842109625,20.285290770052047],[-100.98413407944187,20.32821146956246],[-100.91027876171438,20.341305920260556],[-100.89886763966207,20.378406863905152],[-100.88016607852077,20.354945973071068],[-100.82786510244766,20.352763564621387]]],\"type\":\"Polygon\"},\"properties\":{\"id\":null,\"mun_code\":28,\"mun_name\":\"Salvatierra\",\"state_code\":11},\"type\":\"Feature\"},{\"geometry\":{\"coordinates\":[[[-100.52864012418691,21.071139679308427],[-100.45922246503532,21.114969715672878],[-100.4557357332971,21.10551261239092],[-100.29376119527673,21.09223629432202],[-100.26745221943389,21.056954024385494],[-100.25445621931875,21.044223308429014],[-100.24589787777951,20.963292328419968],[-100.26364851208311,20.970930757993855],[-100.2655503657585,20.92928313007909],[-100.3340170980724,20.89054538009723],[-100.41421192805117,20.887999236905934],[-100.45383387962173,20.900184350749992],[-100.47253544076302,20.928191925854247],[-100.51342529478381,21.003303149997475],[-100.52864012418691,21.071139679308427]]],\"type\":\"Polygon\"},\"properties\":{\"id\":null,\"mun_code\":32,\"mun_name\":\"San Jos\\u00e9 Iturbide\",\"state_code\":11},\"type\":\"Feature\"},{\"geometry\":{\"coordinates\":[[[-101.400957009964,20.51571672886432],[-101.4187076442676,20.549362192463587],[-101.3467541802155,20.592646626715617],[-101.31188686283342,20.579915910759137],[-101.31315476528367,20.539177619698403],[-101.3413655948019,20.54627044715987],[-101.36704061941961,20.504077217132682],[-101.400957009964,20.51571672886432]]],\"type\":\"Polygon\"},\"properties\":{\"id\":null,\"mun_code\":24,\"mun_name\":\"Pueblo Nuevo\",\"state_code\":11},\"type\":\"Feature\"},{\"geometry\":{\"coordinates\":[[[-101.02026929927422,20.200176840514445],[-101.02122022611191,20.210543280650434],[-100.94165934735825,20.18708238981635],[-100.92866334724312,20.150527048284175],[-100.97906246964085,20.131612841720262],[-101.00061681129523,20.109425022481826],[-101.04118968970346,20.11960959524701],[-101.01044305528472,20.18526371610828],[-101.02026929927422,20.200176840514445]]],\"type\":\"Polygon\"},\"properties\":{\"id\":null,\"mun_code\":36,\"mun_name\":\"Santiago Maravat\\u00edo\",\"state_code\":11},\"type\":\"Feature\"},{\"geometry\":{\"coordinates\":[[[-100.46999963586251,20.386772762962266],[-100.50867066059536,20.33239441909102],[-100.54227007552717,20.334394960169895],[-100.58601271006106,20.31038846722339],[-100.59298617353747,20.32548345900036],[-100.65352851553726,20.348216880351217],[-100.65543036921265,20.403140826334884],[-100.69093163781986,20.423873706606862],[-100.69283349149524,20.46843121245454],[-100.63672880807135,20.474614703061974],[-100.60376334436467,20.506623360323978],[-100.56287349034386,20.512988718302218],[-100.55748490493026,20.530993588012095],[-100.51913085580998,20.526992505854345],[-100.50518392885715,20.5550000809586],[-100.50803670937023,20.518262872055615],[-100.4887011970038,20.473341631466326],[-100.4887011970038,20.42569238031493],[-100.46999963586251,20.386772762962266]]],\"type\":\"Polygon\"},\"properties\":{\"id\":null,\"mun_code\":4,\"mun_name\":\"Apaseo el Alto\",\"state_code\":11},\"type\":\"Feature\"},{\"geometry\":{\"coordinates\":[[[-100.48901817261637,20.594465300423686],[-100.4852144652656,20.55372700936295],[-100.50518392885715,20.5550000809586],[-100.51913085580998,20.526992505854345],[-100.55748490493026,20.530993588012095],[-100.56287349034386,20.512988718302218],[-100.60376334436467,20.506623360323978],[-100.63672880807135,20.474614703061974],[-100.69283349149524,20.46843121245454],[-100.74893817491913,20.48516301056877],[-100.75781349207094,20.537358945990334],[-100.71311993069936,20.56773079691508],[-100.69822207690883,20.621199803932292],[-100.67603378402933,20.618108058628575],[-100.63514393000852,20.66684851400481],[-100.61897817376774,20.715952704122657],[-100.59647290527568,20.717225775718305],[-100.58220900271029,20.676851219399186],[-100.56223953911874,20.671213330904173],[-100.55114539267898,20.633566785147156],[-100.5295910510246,20.638659071529748],[-100.48901817261637,20.594465300423686]]],\"type\":\"Polygon\"},\"properties\":{\"id\":null,\"mun_code\":5,\"mun_name\":\"Apaseo el Grande\",\"state_code\":11},\"type\":\"Feature\"},{\"geometry\":{\"coordinates\":[[[-101.07859281198606,20.300567629199822],[-101.04182364092858,20.277288605736544],[-101.03453320183961,20.25037223485713],[-101.05196686053065,20.215999301774637],[-101.02026929927422,20.200176840514445],[-101.01044305528472,20.18526371610828],[-101.04118968970346,20.11960959524701],[-101.00061681129523,20.109425022481826],[-101.01171095773498,20.08159931474838],[-101.08049466566145,20.08287238634403],[-101.12613915387071,20.164530835836302],[-101.15942159318996,20.160347886307743],[-101.2079188619123,20.19290214568217],[-101.20284725211128,20.15016331354256],[-101.26624237462416,20.15525559992515],[-101.2684612039121,20.134158984911558],[-101.28811369189108,20.12415627951718],[-101.324565887336,20.084145457939677],[-101.3182263750847,20.04868132063234],[-101.29191739924187,20.03595060467586],[-101.32836959468676,20.03194952251811],[-101.40254188802682,20.044862105845397],[-101.40856442466554,20.122883207921532],[-101.38922891229912,20.130339770124614],[-101.42251135161837,20.163257764240655],[-101.42029252233043,20.2016317794809],[-101.36323691206884,20.19563015624427],[-101.36133505839345,20.248917295890678],[-101.34390139970242,20.27128698249992],[-101.24658988664515,20.293474801738355],[-101.20633398384949,20.246371152699382],[-101.15720276390202,20.27419686043283],[-101.11219222691787,20.276924870994932],[-101.11662988549378,20.30238630290789],[-101.07859281198606,20.300567629199822]]],\"type\":\"Polygon\"},\"properties\":{\"id\":null,\"mun_code\":46,\"mun_name\":\"Yuriria\",\"state_code\":11},\"type\":\"Feature\"},{\"geometry\":{\"coordinates\":[[[-100.40343475722399,20.36058386156608],[-100.38663504975808,20.30693298717806],[-100.3615939763655,20.285836372164468],[-100.40850636702503,20.277106738365738],[-100.44400763563223,20.17562474545552],[-100.40438568406168,20.179989562354884],[-100.42340422081554,20.149981446171754],[-100.38092948873192,20.129794168012193],[-100.38980480588373,20.080689977894345],[-100.35810724462729,20.064685649263343],[-100.36286187881575,19.98993815986173],[-100.44844529420813,19.982663465029454],[-100.45510178207198,20.00666995797596],[-100.49440675802995,20.02321988871938],[-100.4931388555797,20.06541311874657],[-100.5020141727315,20.0821449168608],[-100.5020141727315,20.082508651602414],[-100.5020141727315,20.0821449168608],[-100.50930461182048,20.079053171557085],[-100.5162780752969,20.085418529535325],[-100.51754597774716,20.086691601130973],[-100.52230061193562,20.088874009580653],[-100.53751544133871,20.10233219502036],[-100.53783241695128,20.10233219502036],[-100.55431514880462,20.081963049489993],[-100.58189202709772,20.081963049489993],[-100.60693310049031,20.154528130441925],[-100.65162666186188,20.15434626307112],[-100.6300723202075,20.19854003417718],[-100.67666773525445,20.228730017731117],[-100.66969427177804,20.27765234047816],[-100.68744490608165,20.32148237684261],[-100.65352851553726,20.348216880351217],[-100.59298617353747,20.32548345900036],[-100.58601271006106,20.31038846722339],[-100.54227007552717,20.334394960169895],[-100.50867066059536,20.33239441909102],[-100.46999963586251,20.386772762962266],[-100.40945729386272,20.375315118601435],[-100.40343475722399,20.36058386156608]]],\"type\":\"Polygon\"},\"properties\":{\"id\":null,\"mun_code\":19,\"mun_name\":\"Jer\\u00e9cuaro\",\"state_code\":11},\"type\":\"Feature\"},{\"geometry\":{\"coordinates\":[[[-100.78158666301326,20.173078602264223],[-100.78982802893994,20.23218549777645],[-100.80599378518072,20.228730017731117],[-100.84339690746332,20.279289146815422],[-100.8221595414215,20.321118642100995],[-100.80250705344251,20.32366478529229],[-100.82786510244766,20.352763564621387],[-100.82374441948431,20.37513325123063],[-100.7847564191389,20.35603717729591],[-100.78222061423838,20.374951383859823],[-100.73784402847939,20.37386017963498],[-100.69093163781986,20.423873706606862],[-100.65543036921265,20.403140826334884],[-100.65352851553726,20.348216880351217],[-100.68744490608165,20.32148237684261],[-100.66969427177804,20.27765234047816],[-100.67666773525445,20.228730017731117],[-100.72643290642706,20.183263175029406],[-100.78158666301326,20.173078602264223]]],\"type\":\"Polygon\"},\"properties\":{\"id\":null,\"mun_code\":39,\"mun_name\":\"Tarimoro\",\"state_code\":11},\"type\":\"Feature\"},{\"geometry\":{\"coordinates\":[[[-100.35081680553832,20.288382515355764],[-100.32355690285777,20.252009041194395],[-100.35525446411421,20.219091047078354],[-100.35588841533934,20.182353838175374],[-100.38092948873192,20.129794168012193],[-100.42340422081554,20.149981446171754],[-100.40438568406168,20.179989562354884],[-100.44400763563223,20.17562474545552],[-100.40850636702503,20.277106738365738],[-100.3615939763655,20.285836372164468],[-100.38663504975808,20.30693298717806],[-100.35081680553832,20.288382515355764]]],\"type\":\"Polygon\"},\"properties\":{\"id\":null,\"mun_code\":10,\"mun_name\":\"Coroneo\",\"state_code\":11},\"type\":\"Feature\"},{\"geometry\":{\"coordinates\":[[[-100.5083536849828,20.05268240279009],[-100.49440675802995,20.02321988871938],[-100.45510178207198,20.00666995797596],[-100.44844529420813,19.982663465029454],[-100.511840416721,19.95811136997053],[-100.53593056327588,19.92301096740481],[-100.52705524612409,19.96574979954442],[-100.5926691979249,19.966477269027646],[-100.55780188054283,19.99157496619899],[-100.60186149068927,19.98593707770398],[-100.56382441718155,20.07232407883723],[-100.53117592908742,20.07814383470305],[-100.5083536849828,20.05268240279009]]],\"type\":\"Polygon\"},\"properties\":{\"id\":null,\"mun_code\":38,\"mun_name\":\"Tarandacuao\",\"state_code\":11},\"type\":\"Feature\"},{\"geometry\":{\"coordinates\":[[[-101.03928783602808,20.509715105627695],[-100.96923622565136,20.502804145537034],[-100.90901085926413,20.51571672886432],[-100.84688363920152,20.484253673714736],[-100.85195524900254,20.439514300496253],[-100.8265971999974,20.431330268809944],[-100.844347834301,20.391865049344858],[-100.82374441948431,20.37513325123063],[-100.82786510244766,20.352763564621387],[-100.88016607852077,20.354945973071068],[-100.89886763966207,20.378406863905152],[-100.91027876171438,20.341305920260556],[-100.98413407944187,20.32821146956246],[-100.98001339647854,20.34858061509283],[-101.02122022611191,20.368949760623195],[-101.04404247021654,20.451517546969505],[-101.03928783602808,20.509715105627695]]],\"type\":\"Polygon\"},\"properties\":{\"id\":null,\"mun_code\":11,\"mun_name\":\"Cortazar\",\"state_code\":11},\"type\":\"Feature\"},{\"geometry\":{\"coordinates\":[[[-100.60186149068927,19.98593707770398],[-100.61992910060545,19.95702016574569],[-100.66050197901367,19.96447672794877],[-100.71660666243757,19.941379571856302],[-100.74703632124374,19.912826394639627],[-100.78000178495044,19.91555440520173],[-100.79204685822788,19.955565226779235],[-100.82469534632202,19.978298648130092],[-100.83578949276176,19.934650479136447],[-100.90901085926413,19.96211245212828],[-100.94768188399698,19.962476186869896],[-100.9590930060493,19.930831264349504],[-101.00315261619573,19.95301908358794],[-100.97018715248905,20.005215019009505],[-100.92454266427978,20.028312175101973],[-100.88713954199719,20.084327325310483],[-100.89664881037412,20.109425022481826],[-100.86875495646845,20.122701340550726],[-100.83483856592407,20.133977117540752],[-100.78158666301326,20.173078602264223],[-100.72643290642706,20.183263175029406],[-100.67666773525445,20.228730017731117],[-100.6300723202075,20.19854003417718],[-100.65162666186188,20.15434626307112],[-100.60693310049031,20.154528130441925],[-100.58189202709772,20.081963049489993],[-100.55431514880462,20.081963049489993],[-100.53783241695128,20.10233219502036],[-100.53751544133871,20.10233219502036],[-100.52230061193562,20.088874009580653],[-100.51754597774716,20.086691601130973],[-100.5162780752969,20.085418529535325],[-100.50930461182048,20.079053171557085],[-100.5020141727315,20.0821449168608],[-100.5020141727315,20.082508651602414],[-100.5020141727315,20.0821449168608],[-100.4931388555797,20.06541311874657],[-100.49440675802995,20.02321988871938],[-100.5083536849828,20.05268240279009],[-100.53117592908742,20.07814383470305],[-100.56382441718155,20.07232407883723],[-100.60186149068927,19.98593707770398]]],\"type\":\"Polygon\"},\"properties\":{\"id\":null,\"mun_code\":2,\"mun_name\":\"Ac\\u00e1mbaro\",\"state_code\":11},\"type\":\"Feature\"},{\"geometry\":{\"coordinates\":[[[-100.52864012418691,21.071139679308427],[-100.51342529478381,21.003303149997475],[-100.47253544076302,20.928191925854247],[-100.46999963586251,20.907095310840653],[-100.50771973375767,20.869448765083636],[-100.5020141727315,20.852898834340213],[-100.55970373421822,20.82998354561855],[-100.56414139279411,20.77451399752246],[-100.5492435390036,20.736321849653024],[-100.59647290527568,20.717225775718305],[-100.61897817376774,20.715952704122657],[-100.61549144202954,20.76305635316163],[-100.63229114949546,20.792336999861533],[-100.67761866209216,20.79997542943542],[-100.71819154050038,20.831256617214198],[-100.78634129720173,20.78215242709635],[-100.80377495589276,20.80815946112173],[-100.8896753468977,20.793428204086375],[-100.91376549345259,20.807795726380114],[-100.95402139624827,20.799247959952194],[-100.98857173801778,20.811433073796252],[-100.98888871363035,20.78851778507459],[-101.03326529938936,20.784698570287645],[-101.06718168993373,20.813979216987548],[-101.0871511535253,20.85999166180168],[-101.02946159203859,20.885453093714638],[-100.99396032343138,20.921280965763586],[-100.9616288109498,20.951834684059136],[-100.92232383499183,20.96201925682432],[-100.91027876171438,21.00584929318877],[-100.83864227327484,21.01912561125767],[-100.8541740782905,21.066592995038256],[-100.82152559019637,21.061500708655664],[-100.76510393115991,21.090781355355567],[-100.70044090619679,21.106058214503342],[-100.63641183245879,21.108604357694638],[-100.56636022208207,21.10096592812075],[-100.52864012418691,21.071139679308427]]],\"type\":\"Polygon\"},\"properties\":{\"id\":null,\"mun_code\":3,\"mun_name\":\"San Miguel de Allende\",\"state_code\":11},\"type\":\"Feature\"},{\"geometry\":{\"coordinates\":[[[-101.78576540361712,21.048769992699185],[-101.78418052555429,21.01621573332476],[-101.73061164703093,21.005121823705544],[-101.73536628121938,20.983115871837914],[-101.6684844269683,20.994027914086324],[-101.67133720748139,20.95110721457591],[-101.71286101272732,20.954380827250432],[-101.71603076885296,20.909823321402754],[-101.6970122320991,20.893818992771752],[-101.70874032976398,20.81034186957141],[-101.73473232999426,20.79488314305283],[-101.77150150105172,20.799793562064615],[-101.80795369649663,20.836167036225984],[-101.86152257502,20.845987874249552],[-101.90304638026592,20.826164330831606],[-101.88751457525028,20.902184891828867],[-101.85645096521897,20.996937792019235],[-101.8694469653341,21.03822168519239],[-101.83362872111434,21.053316676969356],[-101.82094969661176,21.0358574093719],[-101.78576540361712,21.048769992699185]]],\"type\":\"Polygon\"},\"properties\":{\"id\":null,\"mun_code\":31,\"mun_name\":\"San Francisco del Rinc\\u00f3n\",\"state_code\":11},\"type\":\"Feature\"},{\"geometry\":{\"coordinates\":[[[-101.80795369649663,20.836167036225984],[-101.77150150105172,20.799793562064615],[-101.73473232999426,20.79488314305283],[-101.74741135449683,20.78215242709635],[-101.68274832953371,20.789245254557816],[-101.70113291506243,20.72850155270833],[-101.69067271984781,20.69612916070471],[-101.74265672030836,20.689036333243244],[-101.77625613524019,20.622654742898746],[-101.80763672088406,20.607196016380165],[-101.80795369649663,20.58318952343366],[-101.84884355051743,20.57173187907283],[-101.85803584328178,20.53990508918163],[-101.89480501433925,20.5630022452741],[-101.93094023417159,20.545542977676643],[-101.92935535610877,20.56773079691508],[-101.96897730767931,20.56245664316168],[-101.95154364898828,20.60683228163855],[-101.96802638084162,20.663574901330286],[-102.01937643007705,20.67612374991596],[-102.01430482027601,20.7170439083475],[-102.03459125948014,20.741959738148037],[-102.06438696706118,20.738686125473514],[-102.06755672318683,20.771604119589554],[-102.05392677184656,20.815434155954],[-101.99623721035985,20.83507583200114],[-101.90304638026592,20.826164330831606],[-101.86152257502,20.845987874249552],[-101.80795369649663,20.836167036225984]]],\"type\":\"Polygon\"},\"properties\":{\"id\":null,\"mun_code\":8,\"mun_name\":\"Manuel Doblado\",\"state_code\":11},\"type\":\"Feature\"},{\"geometry\":{\"coordinates\":[[[-101.69067271984781,20.69612916070471],[-101.63710384132443,20.694674221738257],[-101.61745135334544,20.65648207386882],[-101.58068218228799,20.639022806271363],[-101.60540628006801,20.526992505854345],[-101.63456803642393,20.547543518755518],[-101.72237028110425,20.537904548102755],[-101.74392462275863,20.56372971475733],[-101.71159311027706,20.56409344949894],[-101.71824959814091,20.608105353234198],[-101.7566036472612,20.605377342672096],[-101.77625613524019,20.622654742898746],[-101.74265672030836,20.689036333243244],[-101.69067271984781,20.69612916070471]]],\"type\":\"Polygon\"},\"properties\":{\"id\":null,\"mun_code\":12,\"mun_name\":\"Cuer\\u00e1maro\",\"state_code\":11},\"type\":\"Feature\"},{\"geometry\":{\"coordinates\":[[[-101.31315476528367,20.539177619698403],[-101.2817741796398,20.532630394349358],[-101.27828744790159,20.502258543424613],[-101.22693739866617,20.45570049649806],[-101.13121076367173,20.48989156220975],[-101.09412461700171,20.440423637350285],[-101.11219222691787,20.401322152626815],[-101.10997339762993,20.317117559943245],[-101.07859281198606,20.300567629199822],[-101.11662988549378,20.30238630290789],[-101.11219222691787,20.276924870994932],[-101.15720276390202,20.27419686043283],[-101.20633398384949,20.246371152699382],[-101.24658988664515,20.293474801738355],[-101.34390139970242,20.27128698249992],[-101.36133505839345,20.248917295890678],[-101.39525144893784,20.248371693778257],[-101.41997554671786,20.274378727803636],[-101.45864657145071,20.26946830879185],[-101.44501662011044,20.28965558695141],[-101.45991447390097,20.323482917921485],[-101.46023144951353,20.323482917921485],[-101.45991447390097,20.323482917921485],[-101.41205115640375,20.38549969136662],[-101.38003661953475,20.415325940178942],[-101.39525144893784,20.4753421725452],[-101.36704061941961,20.504077217132682],[-101.3413655948019,20.54627044715987],[-101.31315476528367,20.539177619698403]]],\"type\":\"Polygon\"},\"properties\":{\"id\":null,\"mun_code\":42,\"mun_name\":\"Valle de Santiago\",\"state_code\":11},\"type\":\"Feature\"},{\"geometry\":{\"coordinates\":[[[-100.27759543903595,21.686578862118793],[-100.22339260928744,21.6654822471052],[-100.20025338957025,21.615468720133318],[-100.21229846284768,21.597100115681826],[-100.24811670706747,21.51089498191938],[-100.22656236541309,21.468519884521385],[-100.29978373191545,21.437966166225834],[-100.29883280507775,21.41923382703273],[-100.34447729328703,21.423053041819674],[-100.36634861055396,21.372675780106178],[-100.36412978126602,21.333756162753513],[-100.34257543961164,21.32229851839268],[-100.37268812280524,21.300656301266667],[-100.38251436679475,21.264282827105298],[-100.35208470798857,21.210813820088084],[-100.40565358651195,21.169529926914933],[-100.44369066001967,21.19208148089498],[-100.4852144652656,21.178623295455274],[-100.45922246503532,21.114969715672878],[-100.52864012418691,21.071139679308427],[-100.56636022208207,21.10096592812075],[-100.63641183245879,21.108604357694638],[-100.68237329628062,21.162437099453463],[-100.69346744272038,21.19608256305273],[-100.66303778391419,21.206085268447108],[-100.65574734482522,21.23354724143894],[-100.71660666243757,21.278832216769846],[-100.72167827223859,21.297928290704565],[-100.67223007667856,21.311932078256692],[-100.69758812568371,21.364855483161485],[-100.64306832032264,21.33630230594481],[-100.607884027328,21.334301764865934],[-100.59837475895107,21.391226251928476],[-100.63958158858443,21.40141082469366],[-100.67793563770472,21.39322679300735],[-100.70424461354756,21.45742597490217],[-100.70075788180935,21.5167147377852],[-100.74196471144272,21.511076849290188],[-100.69441836955806,21.534719607495077],[-100.73023661377783,21.535447076978304],[-100.75147397981965,21.580550184938403],[-100.71755758927526,21.549996466642853],[-100.68110539383036,21.547450323451557],[-100.6576491985006,21.524535034729894],[-100.63577788123366,21.543267373923],[-100.61485749080441,21.50580269553679],[-100.5847448076108,21.522352626280213],[-100.5340287096005,21.542358037068965],[-100.46429407483635,21.543085506552192],[-100.4557357332971,21.556179957250286],[-100.48584841649073,21.594372105119724],[-100.45953944064789,21.628381303460603],[-100.45129807472121,21.666209716588426],[-100.35018285431318,21.69148928113058],[-100.27759543903595,21.686578862118793]]],\"type\":\"Polygon\"},\"properties\":{\"id\":null,\"mun_code\":33,\"mun_name\":\"San Luis de la Paz\",\"state_code\":11},\"type\":\"Feature\"},{\"geometry\":{\"coordinates\":[[[-101.77625613524019,20.622654742898746],[-101.7566036472612,20.605377342672096],[-101.71824959814091,20.608105353234198],[-101.71159311027706,20.56409344949894],[-101.74392462275863,20.56372971475733],[-101.72237028110425,20.537904548102755],[-101.63456803642393,20.547543518755518],[-101.60540628006801,20.526992505854345],[-101.61047788986903,20.44933513851982],[-101.59494608485338,20.43205773829317],[-101.61903623140827,20.377133792309504],[-101.64597915847624,20.350399288800897],[-101.62727759733494,20.303295639761924],[-101.62569271927212,20.266922165600555],[-101.64788101215163,20.238187121013073],[-101.68591808565935,20.218363577595127],[-101.69384247597345,20.191810941457327],[-101.72744189090528,20.211452617504467],[-101.76040735461197,20.201813646851704],[-101.7965425744443,20.212725689100115],[-101.83489662356459,20.224728935573367],[-101.9147744779308,20.194175217277817],[-101.90780101445439,20.215089964920605],[-101.93981555132339,20.227093211393857],[-101.95154364898828,20.2707413803875],[-101.93474394152236,20.297475883896105],[-101.9601019905275,20.30584178295322],[-101.94647203918724,20.343124593968625],[-101.99021467372113,20.36058386156608],[-102.02539896671577,20.34730754349718],[-102.0108180885378,20.379316200759185],[-102.09640150393018,20.384044752400165],[-102.06406999144862,20.4407873720919],[-102.06121721093554,20.44478845424965],[-102.00955018608755,20.544997375564222],[-101.9841921370824,20.53481280279904],[-101.96897730767931,20.56245664316168],[-101.92935535610877,20.56773079691508],[-101.93094023417159,20.545542977676643],[-101.89480501433925,20.5630022452741],[-101.85803584328178,20.53990508918163],[-101.84884355051743,20.57173187907283],[-101.80795369649663,20.58318952343366],[-101.80763672088406,20.607196016380165],[-101.77625613524019,20.622654742898746]]],\"type\":\"Polygon\"},\"properties\":{\"id\":null,\"mun_code\":23,\"mun_name\":\"P\\u00e9njamo\",\"state_code\":11},\"type\":\"Feature\"},{\"geometry\":{\"coordinates\":[[[-101.54137720633001,20.942195713406374],[-101.58163310912568,20.976932381230483],[-101.57307476758643,21.02949205139366],[-101.49985340108408,21.010577844829747],[-101.48020091310508,21.11951639994305],[-101.47259349840354,21.152070659317474],[-101.43519037612094,21.13733940228212],[-101.43677525418377,21.098965387041876],[-101.4053946685399,21.100784060749945],[-101.40190793680169,21.071503414050042],[-101.34833905827831,21.032583796697377],[-101.35975018033064,21.01439705961669],[-101.3324902776501,20.992754842490676],[-101.34358442408985,20.923099639471655],[-101.31854335069727,20.883998154748184],[-101.35911622910551,20.839986251012927],[-101.40856442466554,20.84380546579987],[-101.4107832539535,20.800702898918647],[-101.45579379093763,20.79997542943542],[-101.46023144951353,20.847079078474394],[-101.50429105965998,20.85126202800295],[-101.49921944985894,20.91600681201019],[-101.54137720633001,20.942195713406374]]],\"type\":\"Polygon\"},\"properties\":{\"id\":null,\"mun_code\":37,\"mun_name\":\"Silao\",\"state_code\":11},\"type\":\"Feature\"},{\"geometry\":{\"coordinates\":[[[-101.52711330376461,20.749052565609503],[-101.54169418194257,20.731593298012047],[-101.50048735230921,20.659755686543342],[-101.49763457179613,20.59592023939014],[-101.47227652279098,20.572641215926865],[-101.50746081578562,20.561547306307645],[-101.49383086444536,20.508623901402853],[-101.44438266888531,20.500985471828965],[-101.400957009964,20.51571672886432],[-101.36704061941961,20.504077217132682],[-101.39525144893784,20.4753421725452],[-101.38003661953475,20.415325940178942],[-101.41205115640375,20.38549969136662],[-101.45769564461301,20.418053950741044],[-101.51316637681178,20.397866672581486],[-101.57497662126183,20.39113757986163],[-101.56388247482208,20.320391172617768],[-101.62727759733494,20.303295639761924],[-101.64597915847624,20.350399288800897],[-101.61903623140827,20.377133792309504],[-101.59494608485338,20.43205773829317],[-101.61047788986903,20.44933513851982],[-101.60540628006801,20.526992505854345],[-101.58068218228799,20.639022806271363],[-101.61745135334544,20.65648207386882],[-101.63710384132443,20.694674221738257],[-101.62347388998417,20.72104499050525],[-101.64534520725111,20.743232809743684],[-101.60065164587954,20.776878273342952],[-101.58924052382721,20.754690454104516],[-101.52711330376461,20.749052565609503]]],\"type\":\"Polygon\"},\"properties\":{\"id\":null,\"mun_code\":1,\"mun_name\":\"Abasolo\",\"state_code\":11},\"type\":\"Feature\"},{\"geometry\":{\"coordinates\":[[[-101.41205115640375,20.38549969136662],[-101.45991447390097,20.323482917921485],[-101.46023144951353,20.323482917921485],[-101.50048735230921,20.311479671448232],[-101.52330959641384,20.33239441909102],[-101.56388247482208,20.320391172617768],[-101.57497662126183,20.39113757986163],[-101.51316637681178,20.397866672581486],[-101.45769564461301,20.418053950741044],[-101.41205115640375,20.38549969136662]]],\"type\":\"Polygon\"},\"properties\":{\"id\":null,\"mun_code\":16,\"mun_name\":\"Huan\\u00edmaro\",\"state_code\":11},\"type\":\"Feature\"},{\"geometry\":{\"coordinates\":[[[-100.75147397981965,21.580550184938403],[-100.73023661377783,21.535447076978304],[-100.69441836955806,21.534719607495077],[-100.74196471144272,21.511076849290188],[-100.70075788180935,21.5167147377852],[-100.70424461354756,21.45742597490217],[-100.67793563770472,21.39322679300735],[-100.63958158858443,21.40141082469366],[-100.59837475895107,21.391226251928476],[-100.607884027328,21.334301764865934],[-100.64306832032264,21.33630230594481],[-100.69758812568371,21.364855483161485],[-100.67223007667856,21.311932078256692],[-100.72167827223859,21.297928290704565],[-100.7990203217043,21.32229851839268],[-100.89981856649976,21.32411719210075],[-100.94641398154673,21.305202985536837],[-100.99808100639471,21.34994235875532],[-101.01741651876114,21.321025446797034],[-101.04055573847833,21.32593586580882],[-101.04182364092858,21.36558295264471],[-101.02375603101243,21.42159810285322],[-101.03960481164064,21.445422728428916],[-101.00949212844702,21.493799449063538],[-101.004420518646,21.539630026506863],[-100.93405193265671,21.56163597837449],[-100.93024822530595,21.59855505464828],[-100.8728756394318,21.594372105119724],[-100.8576608100287,21.618924200178647],[-100.80948051691892,21.592007829299234],[-100.75147397981965,21.580550184938403]]],\"type\":\"Polygon\"},\"properties\":{\"id\":null,\"mun_code\":29,\"mun_name\":\"San Diego de la Uni\\u00f3n\",\"state_code\":11},\"type\":\"Feature\"},{\"geometry\":{\"coordinates\":[[[-100.91122968855208,20.56936760325234],[-100.91091271293952,20.565548388465395],[-100.90901085926413,20.51571672886432],[-100.96923622565136,20.502804145537034],[-101.03928783602808,20.509715105627695],[-101.08556627546247,20.52208208684256],[-101.08398139739965,20.561183571566033],[-101.06274403135784,20.5630022452741],[-101.0532347629809,20.55318140725053],[-101.05735544594424,20.579006573905104],[-101.02502393346268,20.56136543893684],[-100.95085164012262,20.582098319208818],[-100.91122968855208,20.56936760325234]]],\"type\":\"Polygon\"},\"properties\":{\"id\":null,\"mun_code\":44,\"mun_name\":\"Villagr\\u00e1n\",\"state_code\":11},\"type\":\"Feature\"},{\"geometry\":{\"coordinates\":[[[-100.98888871363035,20.78851778507459],[-100.9670173963634,20.77978815127586],[-100.98001339647854,20.730502093787205],[-100.95687417676135,20.69740223230036],[-100.8842867614841,20.69794783441278],[-100.85195524900254,20.681397903669357],[-100.86051359054179,20.66102875813899],[-100.88492071270923,20.62883823350618],[-100.87414354188205,20.58500819714173],[-100.91122968855208,20.56936760325234],[-100.95085164012262,20.582098319208818],[-101.02502393346268,20.56136543893684],[-101.05735544594424,20.579006573905104],[-101.0532347629809,20.55318140725053],[-101.06274403135784,20.5630022452741],[-101.07447212902272,20.701221447087303],[-101.11314315375557,20.7117697545941],[-101.1093394464048,20.75505418884613],[-101.06718168993373,20.813979216987548],[-101.03326529938936,20.784698570287645],[-100.98888871363035,20.78851778507459]]],\"type\":\"Polygon\"},\"properties\":{\"id\":null,\"mun_code\":35,\"mun_name\":\"Santa Cruz de Juventino Rosas\",\"state_code\":11},\"type\":\"Feature\"},{\"geometry\":{\"coordinates\":[[[-101.08905300720068,20.86508394818427],[-101.0871511535253,20.85999166180168],[-101.06718168993373,20.813979216987548],[-101.1093394464048,20.75505418884613],[-101.11314315375557,20.7117697545941],[-101.07447212902272,20.701221447087303],[-101.06274403135784,20.5630022452741],[-101.08398139739965,20.561183571566033],[-101.08556627546247,20.52208208684256],[-101.03928783602808,20.509715105627695],[-101.04404247021654,20.451517546969505],[-101.09412461700171,20.440423637350285],[-101.13121076367173,20.48989156220975],[-101.22693739866617,20.45570049649806],[-101.27828744790159,20.502258543424613],[-101.2817741796398,20.532630394349358],[-101.31315476528367,20.539177619698403],[-101.31188686283342,20.579915910759137],[-101.27670256983878,20.589373014041094],[-101.26275564288594,20.66102875813899],[-101.26560842339902,20.701221447087303],[-101.21203954487565,20.75669099518339],[-101.18699847148307,20.753781117250483],[-101.14198793449893,20.84780654795762],[-101.08905300720068,20.86508394818427]]],\"type\":\"Polygon\"},\"properties\":{\"id\":null,\"mun_code\":27,\"mun_name\":\"Salamanca\",\"state_code\":11},\"type\":\"Feature\"},{\"geometry\":{\"coordinates\":[[[-101.31188686283342,20.579915910759137],[-101.3467541802155,20.592646626715617],[-101.4187076442676,20.549362192463587],[-101.400957009964,20.51571672886432],[-101.44438266888531,20.500985471828965],[-101.49383086444536,20.508623901402853],[-101.50746081578562,20.561547306307645],[-101.47227652279098,20.572641215926865],[-101.49763457179613,20.59592023939014],[-101.50048735230921,20.659755686543342],[-101.54169418194257,20.731593298012047],[-101.52711330376461,20.749052565609503],[-101.45579379093763,20.79997542943542],[-101.4107832539535,20.800702898918647],[-101.40856442466554,20.84380546579987],[-101.35911622910551,20.839986251012927],[-101.27670256983878,20.83634890359679],[-101.21425837416359,20.824709391865152],[-101.14198793449893,20.84780654795762],[-101.18699847148307,20.753781117250483],[-101.21203954487565,20.75669099518339],[-101.26560842339902,20.701221447087303],[-101.26275564288594,20.66102875813899],[-101.27670256983878,20.589373014041094],[-101.31188686283342,20.579915910759137]]],\"type\":\"Polygon\"},\"properties\":{\"id\":null,\"mun_code\":17,\"mun_name\":\"Irapuato\",\"state_code\":11},\"type\":\"Feature\"},{\"geometry\":{\"coordinates\":[[[-101.63710384132443,20.694674221738257],[-101.69067271984781,20.69612916070471],[-101.70113291506243,20.72850155270833],[-101.68274832953371,20.789245254557816],[-101.74741135449683,20.78215242709635],[-101.73473232999426,20.79488314305283],[-101.70874032976398,20.81034186957141],[-101.6970122320991,20.893818992771752],[-101.68972179301012,20.86453834607185],[-101.64154149990034,20.928919395337473],[-101.58068218228799,20.921826567876007],[-101.54137720633001,20.942195713406374],[-101.49921944985894,20.91600681201019],[-101.50429105965998,20.85126202800295],[-101.46023144951353,20.847079078474394],[-101.45579379093763,20.79997542943542],[-101.52711330376461,20.749052565609503],[-101.58924052382721,20.754690454104516],[-101.60065164587954,20.776878273342952],[-101.64534520725111,20.743232809743684],[-101.62347388998417,20.72104499050525],[-101.63710384132443,20.694674221738257]]],\"type\":\"Polygon\"},\"properties\":{\"id\":null,\"mun_code\":26,\"mun_name\":\"Romita\",\"state_code\":11},\"type\":\"Feature\"},{\"geometry\":{\"coordinates\":[[[-101.3866931073986,21.13843060650696],[-101.33312422887522,21.145705301339234],[-101.29572110659264,21.202811655772585],[-101.20379817894897,21.20754020741356],[-101.1733685201428,21.211359422200506],[-101.14737651991251,21.158436017295713],[-101.10870549517966,21.14825144453053],[-101.14610861746226,21.045496380024662],[-101.12677310509584,21.00766796689684],[-101.08461534862478,20.997847128873268],[-101.05703847033168,20.97929665705097],[-101.11314315375557,20.95328962302559],[-101.08905300720068,20.86508394818427],[-101.14198793449893,20.84780654795762],[-101.21425837416359,20.824709391865152],[-101.27670256983878,20.83634890359679],[-101.35911622910551,20.839986251012927],[-101.31854335069727,20.883998154748184],[-101.34358442408985,20.923099639471655],[-101.3324902776501,20.992754842490676],[-101.35975018033064,21.01439705961669],[-101.34833905827831,21.032583796697377],[-101.40190793680169,21.071503414050042],[-101.4053946685399,21.100784060749945],[-101.43677525418377,21.098965387041876],[-101.43519037612094,21.13733940228212],[-101.4275829614194,21.137703137023735],[-101.3866931073986,21.13843060650696]]],\"type\":\"Polygon\"},\"properties\":{\"id\":null,\"mun_code\":15,\"mun_name\":\"Guanajuato\",\"state_code\":11},\"type\":\"Feature\"},{\"geometry\":{\"coordinates\":[[[-101.63266618274854,21.326845202662852],[-101.60825906058108,21.313932619335567],[-101.53725652336666,21.272466858791606],[-101.52267564518871,21.232274169843294],[-101.49826852302125,21.255189458564956],[-101.44374871766018,21.254098254340114],[-101.39081379036193,21.212450626425348],[-101.37306315605834,21.176259019634784],[-101.3866931073986,21.13843060650696],[-101.4275829614194,21.137703137023735],[-101.43519037612094,21.13733940228212],[-101.47259349840354,21.152070659317474],[-101.48020091310508,21.11951639994305],[-101.49985340108408,21.010577844829747],[-101.57307476758643,21.02949205139366],[-101.58163310912568,20.976932381230483],[-101.54137720633001,20.942195713406374],[-101.58068218228799,20.921826567876007],[-101.64154149990034,20.928919395337473],[-101.68972179301012,20.86453834607185],[-101.6970122320991,20.893818992771752],[-101.71603076885296,20.909823321402754],[-101.71286101272732,20.954380827250432],[-101.67133720748139,20.95110721457591],[-101.6684844269683,20.994027914086324],[-101.73536628121938,20.983115871837914],[-101.73061164703093,21.005121823705544],[-101.78418052555429,21.01621573332476],[-101.78576540361712,21.048769992699185],[-101.80890462333431,21.051861738002902],[-101.81777994048612,21.10678568398657],[-101.83362872111434,21.13733940228212],[-101.7876672572925,21.15643547621684],[-101.77372033033967,21.21972532125762],[-101.76864872053865,21.257735601756252],[-101.68655203688448,21.29410907591762],[-101.64344335357572,21.29938322967102],[-101.64597915847624,21.3281182742585],[-101.63266618274854,21.326845202662852]]],\"type\":\"Polygon\"},\"properties\":{\"id\":null,\"mun_code\":20,\"mun_name\":\"Le\\u00f3n\",\"state_code\":11},\"type\":\"Feature\"},{\"geometry\":{\"coordinates\":[[[-100.98413407944187,20.32821146956246],[-101.00568842109625,20.285290770052047],[-101.04182364092858,20.277288605736544],[-101.07859281198606,20.300567629199822],[-101.10997339762993,20.317117559943245],[-101.11219222691787,20.401322152626815],[-101.09412461700171,20.440423637350285],[-101.04404247021654,20.451517546969505],[-101.02122022611191,20.368949760623195],[-100.98001339647854,20.34858061509283],[-100.98413407944187,20.32821146956246]]],\"type\":\"Polygon\"},\"properties\":{\"id\":null,\"mun_code\":18,\"mun_name\":\"Jaral del Progreso\",\"state_code\":11},\"type\":\"Feature\"},{\"geometry\":{\"coordinates\":[[[-101.5708559382985,21.418506357549504],[-101.58924052382721,21.46470066973444],[-101.64090754867522,21.528717984258453],[-101.62283993875904,21.544722312889455],[-101.58638774331415,21.60783029055943],[-101.59367818240312,21.631654916135126],[-101.55785993818336,21.734955582753415],[-101.58004823106286,21.736228654349063],[-101.58575379208901,21.778785619117865],[-101.5388414014295,21.777694414893023],[-101.51063057191126,21.798791029906617],[-101.49636666934586,21.809884939525837],[-101.47386140085379,21.827344207123293],[-101.42314530284351,21.824979931302803],[-101.42694901019428,21.75496099354217],[-101.44343174204762,21.73586491960745],[-101.43994501030942,21.666755318700847],[-101.40476071731477,21.67057453348779],[-101.33819583867626,21.677667360949258],[-101.3635538876814,21.561454111003684],[-101.32203008243548,21.55599808987948],[-101.28589486260314,21.523261963134246],[-101.31695847263444,21.507257634503244],[-101.33946374112651,21.463427598138793],[-101.32868657029933,21.409776723750774],[-101.37116130238294,21.39740974253591],[-101.4053946685399,21.42050689862838],[-101.50080432792177,21.378859270713612],[-101.53091701111538,21.393772395119772],[-101.52647935253948,21.431782675618404],[-101.5708559382985,21.418506357549504]]],\"type\":\"Polygon\"},\"properties\":{\"id\":null,\"mun_code\":22,\"mun_name\":\"Ocampo\",\"state_code\":11},\"type\":\"Feature\"},{\"geometry\":{\"coordinates\":[[[-101.20284725211128,20.15016331354256],[-101.17907408116895,20.126702422708476],[-101.19967749598564,20.106151409807303],[-101.19650773986,20.057047219689455],[-101.16068949564023,20.03995168683361],[-101.20157934966102,20.025766031910678],[-101.20316422772385,20.00721556008838],[-101.23834852071849,20.032131389888917],[-101.29191739924187,20.03595060467586],[-101.3182263750847,20.04868132063234],[-101.324565887336,20.084145457939677],[-101.28811369189108,20.12415627951718],[-101.2684612039121,20.134158984911558],[-101.26624237462416,20.15525559992515],[-101.20284725211128,20.15016331354256]]],\"type\":\"Polygon\"},\"properties\":{\"id\":null,\"mun_code\":21,\"mun_name\":\"Morole\\u00f3n\",\"state_code\":11},\"type\":\"Feature\"},{\"geometry\":{\"coordinates\":[[[-100.7990203217043,21.32229851839268],[-100.72167827223859,21.297928290704565],[-100.71660666243757,21.278832216769846],[-100.65574734482522,21.23354724143894],[-100.66303778391419,21.206085268447108],[-100.69346744272038,21.19608256305273],[-100.68237329628062,21.162437099453463],[-100.63641183245879,21.108604357694638],[-100.70044090619679,21.106058214503342],[-100.76510393115991,21.090781355355567],[-100.82152559019637,21.061500708655664],[-100.8541740782905,21.066592995038256],[-100.83864227327484,21.01912561125767],[-100.91027876171438,21.00584929318877],[-100.92232383499183,20.96201925682432],[-100.9616288109498,20.951834684059136],[-100.99396032343138,20.921280965763586],[-101.02946159203859,20.885453093714638],[-101.0871511535253,20.85999166180168],[-101.08905300720068,20.86508394818427],[-101.11314315375557,20.95328962302559],[-101.05703847033168,20.97929665705097],[-101.08461534862478,20.997847128873268],[-101.12677310509584,21.00766796689684],[-101.14610861746226,21.045496380024662],[-101.10870549517966,21.14825144453053],[-101.14737651991251,21.158436017295713],[-101.1733685201428,21.211359422200506],[-101.20379817894897,21.20754020741356],[-101.18477964219511,21.23354724143894],[-101.10585271466658,21.257917469127058],[-101.11155827569274,21.29811015807537],[-101.08334744617451,21.313932619335567],[-101.08746812913786,21.2802871557363],[-101.05164988491809,21.28847118742261],[-101.04055573847833,21.32593586580882],[-101.01741651876114,21.321025446797034],[-100.99808100639471,21.34994235875532],[-100.94641398154673,21.305202985536837],[-100.89981856649976,21.32411719210075],[-100.7990203217043,21.32229851839268]]],\"type\":\"Polygon\"},\"properties\":{\"id\":null,\"mun_code\":14,\"mun_name\":\"Dolores Hidalgo Cuna de la Independencia Nacional\",\"state_code\":11},\"type\":\"Feature\"}],\"type\":\"FeatureCollection\"},\"hovertemplate\":\"Municipio=%{location}<br>Presupuesto (mdp)=%{z}<extra></extra>\",\"locations\":[\"Abasolo\",\"Ac\\u00e1mbaro\",\"Apaseo el Alto\",\"Apaseo el Grande\",\"Atarjea\",\"Celaya\",\"Cobertura Estatal\",\"Comonfort\",\"Coroneo\",\"Cortazar\",\"Cuer\\u00e1maro\",\"Doctor Mora\",\"Dolores Hidalgo Cuna de la Independencia Nacional\",\"Guanajuato\",\"Huan\\u00edmaro\",\"Irapuato\",\"Jaral del Progreso\",\"Jer\\u00e9cuaro\",\"Le\\u00f3n\",\"Manuel Doblado\",\"Morole\\u00f3n\",\"Ocampo\",\"Por Determinar\",\"Pueblo Nuevo\",\"Pur\\u00edsima del Rinc\\u00f3n\",\"P\\u00e9njamo\",\"Romita\",\"Salamanca\",\"Salvatierra\",\"San Diego de la Uni\\u00f3n\",\"San Felipe\",\"San Francisco del Rinc\\u00f3n\",\"San Jos\\u00e9 Iturbide\",\"San Luis de la Paz\",\"San Miguel de Allende\",\"Santa Catarina\",\"Santa Cruz de Juventino Rosas\",\"Santiago Maravat\\u00edo\",\"Silao\",\"Tarandacuao\",\"Tarimoro\",\"Tierra Blanca\",\"Uriangato\",\"Valle de Santiago\",\"Victoria\",\"Villagr\\u00e1n\",\"Xich\\u00fa\",\"Yuriria\"],\"name\":\"\",\"type\":\"choropleth\",\"z\":[53.71,14.6,8.52,14.9,1.65,86.15,19.86,30.67,2.72,18.69,4.54,4.09,42.48,45.28,4.01,88.99,8.6,5.31,212.91,8.24,22.72,3.32,987.54,2.73,19.97,97.07,20.44,86.87,50.52,5.16,18.36,20.14,10.69,22.77,115.39,0.78,14.85,0.54,43.66,2.83,6.77,4.05,13.97,35.95,5.16,10.18,2.3,27.86]}],                        {\"coloraxis\":{\"cmax\":125.0,\"cmin\":0,\"colorbar\":{\"title\":{\"text\":\"Presupuesto (mdp)\"}},\"colorscale\":[[0.0,\"rgb(237, 239, 93)\"],[0.16666666666666666,\"rgb(169, 220, 103)\"],[0.3333333333333333,\"rgb(110, 197, 116)\"],[0.5,\"rgb(57, 171, 126)\"],[0.6666666666666666,\"rgb(13, 143, 129)\"],[0.8333333333333334,\"rgb(15, 114, 121)\"],[1.0,\"rgb(36, 86, 104)\"]]},\"font\":{\"size\":15},\"geo\":{\"center\":{},\"domain\":{\"x\":[0.0,1.0],\"y\":[0.0,1.0]},\"fitbounds\":\"locations\",\"visible\":false},\"legend\":{\"tracegroupgap\":0},\"margin\":{\"b\":0,\"l\":0,\"r\":0,\"t\":0},\"template\":{\"data\":{\"bar\":[{\"error_x\":{\"color\":\"#2a3f5f\"},\"error_y\":{\"color\":\"#2a3f5f\"},\"marker\":{\"line\":{\"color\":\"#E5ECF6\",\"width\":0.5},\"pattern\":{\"fillmode\":\"overlay\",\"size\":10,\"solidity\":0.2}},\"type\":\"bar\"}],\"barpolar\":[{\"marker\":{\"line\":{\"color\":\"#E5ECF6\",\"width\":0.5},\"pattern\":{\"fillmode\":\"overlay\",\"size\":10,\"solidity\":0.2}},\"type\":\"barpolar\"}],\"carpet\":[{\"aaxis\":{\"endlinecolor\":\"#2a3f5f\",\"gridcolor\":\"white\",\"linecolor\":\"white\",\"minorgridcolor\":\"white\",\"startlinecolor\":\"#2a3f5f\"},\"baxis\":{\"endlinecolor\":\"#2a3f5f\",\"gridcolor\":\"white\",\"linecolor\":\"white\",\"minorgridcolor\":\"white\",\"startlinecolor\":\"#2a3f5f\"},\"type\":\"carpet\"}],\"choropleth\":[{\"colorbar\":{\"outlinewidth\":0,\"ticks\":\"\"},\"type\":\"choropleth\"}],\"contour\":[{\"colorbar\":{\"outlinewidth\":0,\"ticks\":\"\"},\"colorscale\":[[0.0,\"#0d0887\"],[0.1111111111111111,\"#46039f\"],[0.2222222222222222,\"#7201a8\"],[0.3333333333333333,\"#9c179e\"],[0.4444444444444444,\"#bd3786\"],[0.5555555555555556,\"#d8576b\"],[0.6666666666666666,\"#ed7953\"],[0.7777777777777778,\"#fb9f3a\"],[0.8888888888888888,\"#fdca26\"],[1.0,\"#f0f921\"]],\"type\":\"contour\"}],\"contourcarpet\":[{\"colorbar\":{\"outlinewidth\":0,\"ticks\":\"\"},\"type\":\"contourcarpet\"}],\"heatmap\":[{\"colorbar\":{\"outlinewidth\":0,\"ticks\":\"\"},\"colorscale\":[[0.0,\"#0d0887\"],[0.1111111111111111,\"#46039f\"],[0.2222222222222222,\"#7201a8\"],[0.3333333333333333,\"#9c179e\"],[0.4444444444444444,\"#bd3786\"],[0.5555555555555556,\"#d8576b\"],[0.6666666666666666,\"#ed7953\"],[0.7777777777777778,\"#fb9f3a\"],[0.8888888888888888,\"#fdca26\"],[1.0,\"#f0f921\"]],\"type\":\"heatmap\"}],\"heatmapgl\":[{\"colorbar\":{\"outlinewidth\":0,\"ticks\":\"\"},\"colorscale\":[[0.0,\"#0d0887\"],[0.1111111111111111,\"#46039f\"],[0.2222222222222222,\"#7201a8\"],[0.3333333333333333,\"#9c179e\"],[0.4444444444444444,\"#bd3786\"],[0.5555555555555556,\"#d8576b\"],[0.6666666666666666,\"#ed7953\"],[0.7777777777777778,\"#fb9f3a\"],[0.8888888888888888,\"#fdca26\"],[1.0,\"#f0f921\"]],\"type\":\"heatmapgl\"}],\"histogram\":[{\"marker\":{\"pattern\":{\"fillmode\":\"overlay\",\"size\":10,\"solidity\":0.2}},\"type\":\"histogram\"}],\"histogram2d\":[{\"colorbar\":{\"outlinewidth\":0,\"ticks\":\"\"},\"colorscale\":[[0.0,\"#0d0887\"],[0.1111111111111111,\"#46039f\"],[0.2222222222222222,\"#7201a8\"],[0.3333333333333333,\"#9c179e\"],[0.4444444444444444,\"#bd3786\"],[0.5555555555555556,\"#d8576b\"],[0.6666666666666666,\"#ed7953\"],[0.7777777777777778,\"#fb9f3a\"],[0.8888888888888888,\"#fdca26\"],[1.0,\"#f0f921\"]],\"type\":\"histogram2d\"}],\"histogram2dcontour\":[{\"colorbar\":{\"outlinewidth\":0,\"ticks\":\"\"},\"colorscale\":[[0.0,\"#0d0887\"],[0.1111111111111111,\"#46039f\"],[0.2222222222222222,\"#7201a8\"],[0.3333333333333333,\"#9c179e\"],[0.4444444444444444,\"#bd3786\"],[0.5555555555555556,\"#d8576b\"],[0.6666666666666666,\"#ed7953\"],[0.7777777777777778,\"#fb9f3a\"],[0.8888888888888888,\"#fdca26\"],[1.0,\"#f0f921\"]],\"type\":\"histogram2dcontour\"}],\"mesh3d\":[{\"colorbar\":{\"outlinewidth\":0,\"ticks\":\"\"},\"type\":\"mesh3d\"}],\"parcoords\":[{\"line\":{\"colorbar\":{\"outlinewidth\":0,\"ticks\":\"\"}},\"type\":\"parcoords\"}],\"pie\":[{\"automargin\":true,\"type\":\"pie\"}],\"scatter\":[{\"marker\":{\"colorbar\":{\"outlinewidth\":0,\"ticks\":\"\"}},\"type\":\"scatter\"}],\"scatter3d\":[{\"line\":{\"colorbar\":{\"outlinewidth\":0,\"ticks\":\"\"}},\"marker\":{\"colorbar\":{\"outlinewidth\":0,\"ticks\":\"\"}},\"type\":\"scatter3d\"}],\"scattercarpet\":[{\"marker\":{\"colorbar\":{\"outlinewidth\":0,\"ticks\":\"\"}},\"type\":\"scattercarpet\"}],\"scattergeo\":[{\"marker\":{\"colorbar\":{\"outlinewidth\":0,\"ticks\":\"\"}},\"type\":\"scattergeo\"}],\"scattergl\":[{\"marker\":{\"colorbar\":{\"outlinewidth\":0,\"ticks\":\"\"}},\"type\":\"scattergl\"}],\"scattermapbox\":[{\"marker\":{\"colorbar\":{\"outlinewidth\":0,\"ticks\":\"\"}},\"type\":\"scattermapbox\"}],\"scatterpolar\":[{\"marker\":{\"colorbar\":{\"outlinewidth\":0,\"ticks\":\"\"}},\"type\":\"scatterpolar\"}],\"scatterpolargl\":[{\"marker\":{\"colorbar\":{\"outlinewidth\":0,\"ticks\":\"\"}},\"type\":\"scatterpolargl\"}],\"scatterternary\":[{\"marker\":{\"colorbar\":{\"outlinewidth\":0,\"ticks\":\"\"}},\"type\":\"scatterternary\"}],\"surface\":[{\"colorbar\":{\"outlinewidth\":0,\"ticks\":\"\"},\"colorscale\":[[0.0,\"#0d0887\"],[0.1111111111111111,\"#46039f\"],[0.2222222222222222,\"#7201a8\"],[0.3333333333333333,\"#9c179e\"],[0.4444444444444444,\"#bd3786\"],[0.5555555555555556,\"#d8576b\"],[0.6666666666666666,\"#ed7953\"],[0.7777777777777778,\"#fb9f3a\"],[0.8888888888888888,\"#fdca26\"],[1.0,\"#f0f921\"]],\"type\":\"surface\"}],\"table\":[{\"cells\":{\"fill\":{\"color\":\"#EBF0F8\"},\"line\":{\"color\":\"white\"}},\"header\":{\"fill\":{\"color\":\"#C8D4E3\"},\"line\":{\"color\":\"white\"}},\"type\":\"table\"}]},\"layout\":{\"annotationdefaults\":{\"arrowcolor\":\"#2a3f5f\",\"arrowhead\":0,\"arrowwidth\":1},\"autotypenumbers\":\"strict\",\"coloraxis\":{\"colorbar\":{\"outlinewidth\":0,\"ticks\":\"\"}},\"colorscale\":{\"diverging\":[[0,\"#8e0152\"],[0.1,\"#c51b7d\"],[0.2,\"#de77ae\"],[0.3,\"#f1b6da\"],[0.4,\"#fde0ef\"],[0.5,\"#f7f7f7\"],[0.6,\"#e6f5d0\"],[0.7,\"#b8e186\"],[0.8,\"#7fbc41\"],[0.9,\"#4d9221\"],[1,\"#276419\"]],\"sequential\":[[0.0,\"#0d0887\"],[0.1111111111111111,\"#46039f\"],[0.2222222222222222,\"#7201a8\"],[0.3333333333333333,\"#9c179e\"],[0.4444444444444444,\"#bd3786\"],[0.5555555555555556,\"#d8576b\"],[0.6666666666666666,\"#ed7953\"],[0.7777777777777778,\"#fb9f3a\"],[0.8888888888888888,\"#fdca26\"],[1.0,\"#f0f921\"]],\"sequentialminus\":[[0.0,\"#0d0887\"],[0.1111111111111111,\"#46039f\"],[0.2222222222222222,\"#7201a8\"],[0.3333333333333333,\"#9c179e\"],[0.4444444444444444,\"#bd3786\"],[0.5555555555555556,\"#d8576b\"],[0.6666666666666666,\"#ed7953\"],[0.7777777777777778,\"#fb9f3a\"],[0.8888888888888888,\"#fdca26\"],[1.0,\"#f0f921\"]]},\"colorway\":[\"#636efa\",\"#EF553B\",\"#00cc96\",\"#ab63fa\",\"#FFA15A\",\"#19d3f3\",\"#FF6692\",\"#B6E880\",\"#FF97FF\",\"#FECB52\"],\"font\":{\"color\":\"#2a3f5f\"},\"geo\":{\"bgcolor\":\"white\",\"lakecolor\":\"white\",\"landcolor\":\"#E5ECF6\",\"showlakes\":true,\"showland\":true,\"subunitcolor\":\"white\"},\"hoverlabel\":{\"align\":\"left\"},\"hovermode\":\"closest\",\"mapbox\":{\"style\":\"light\"},\"paper_bgcolor\":\"white\",\"plot_bgcolor\":\"#E5ECF6\",\"polar\":{\"angularaxis\":{\"gridcolor\":\"white\",\"linecolor\":\"white\",\"ticks\":\"\"},\"bgcolor\":\"#E5ECF6\",\"radialaxis\":{\"gridcolor\":\"white\",\"linecolor\":\"white\",\"ticks\":\"\"}},\"scene\":{\"xaxis\":{\"backgroundcolor\":\"#E5ECF6\",\"gridcolor\":\"white\",\"gridwidth\":2,\"linecolor\":\"white\",\"showbackground\":true,\"ticks\":\"\",\"zerolinecolor\":\"white\"},\"yaxis\":{\"backgroundcolor\":\"#E5ECF6\",\"gridcolor\":\"white\",\"gridwidth\":2,\"linecolor\":\"white\",\"showbackground\":true,\"ticks\":\"\",\"zerolinecolor\":\"white\"},\"zaxis\":{\"backgroundcolor\":\"#E5ECF6\",\"gridcolor\":\"white\",\"gridwidth\":2,\"linecolor\":\"white\",\"showbackground\":true,\"ticks\":\"\",\"zerolinecolor\":\"white\"}},\"shapedefaults\":{\"line\":{\"color\":\"#2a3f5f\"}},\"ternary\":{\"aaxis\":{\"gridcolor\":\"white\",\"linecolor\":\"white\",\"ticks\":\"\"},\"baxis\":{\"gridcolor\":\"white\",\"linecolor\":\"white\",\"ticks\":\"\"},\"bgcolor\":\"#E5ECF6\",\"caxis\":{\"gridcolor\":\"white\",\"linecolor\":\"white\",\"ticks\":\"\"}},\"title\":{\"x\":0.05},\"xaxis\":{\"automargin\":true,\"gridcolor\":\"white\",\"linecolor\":\"white\",\"ticks\":\"\",\"title\":{\"standoff\":15},\"zerolinecolor\":\"white\",\"zerolinewidth\":2},\"yaxis\":{\"automargin\":true,\"gridcolor\":\"white\",\"linecolor\":\"white\",\"ticks\":\"\",\"title\":{\"standoff\":15},\"zerolinecolor\":\"white\",\"zerolinewidth\":2}}}},                        {\"responsive\": true}                    ).then(function(){\n                            \nvar gd = document.getElementById('a69ee1ac-527b-4f60-90e9-d20a3f195d0e');\nvar x = new MutationObserver(function (mutations, observer) {{\n        var display = window.getComputedStyle(gd).display;\n        if (!display || display === 'none') {{\n            console.log([gd, 'removed!']);\n            Plotly.purge(gd);\n            observer.disconnect();\n        }}\n}});\n\n// Listen for the removal of the full notebook cells\nvar notebookContainer = gd.closest('#notebook-container');\nif (notebookContainer) {{\n    x.observe(notebookContainer, {childList: true});\n}}\n\n// Listen for the clearing of the current output cell\nvar outputEl = gd.closest('.output');\nif (outputEl) {{\n    x.observe(outputEl, {childList: true});\n}}\n\n                        })                };                            </script>        </div>\n</body>\n</html>"
     },
     "metadata": {},
     "output_type": "display_data"
    }
   ],
   "execution_count": null
  },
  {
   "cell_type": "code",
   "metadata": {
    "tags": [],
    "cell_id": "00019-d32e6af8-de87-4cdd-8c94-def04d6670ae",
    "deepnote_to_be_reexecuted": false,
    "source_hash": "2b319ea3",
    "execution_start": 1634263487284,
    "execution_millis": 10,
    "deepnote_cell_type": "code"
   },
   "source": "# Se corrige el tab de los nombres de los municipios\ndf_gto[\"Municipio\"] = df_gto[\"Municipio\"].str.replace(\"\\t\",\"\")\n\ndf_escuela[\"Municipio\"] = df_escuela[\"Municipio\"].str.replace(\"\\t\",\"\")",
   "outputs": [],
   "execution_count": null
  },
  {
   "cell_type": "code",
   "metadata": {
    "tags": [],
    "cell_id": "00017-94efa485-7b6a-4214-829c-522d331a395c",
    "deepnote_to_be_reexecuted": false,
    "source_hash": "cd2f3549",
    "execution_start": 1634263487300,
    "execution_millis": 408,
    "deepnote_cell_type": "code"
   },
   "source": "# Se agrupa y prepara el dataset de las inversiones al primer trimestre del 2021 per capita\ndf_dummy = df_inversion_ods_4.copy()\n\n# Se agrupa el presupuesto para cada municipio y se le da el formato de millones\n# de pesos, por eso se divide entre un millón\ndf_choropleth = df_dummy.groupby(\"Municipio\", as_index=False).sum()\n\n# Se cambian los nombres de los municipios para que se ajusten a los nombres del geojson\ndf_choropleth[\"Municipio\"] = df_choropleth[\"Municipio\"].str.replace(\"Jérecuaro\", \"Jerécuaro\")\n\n# Se hace el cálculo per cápita\ndf_choropleth_poblacion = df_choropleth.join(df_gto.set_index(\"Municipio\")[\"Poblacion\"], on=\"Municipio\")\ndf_choropleth_poblacion[\"Monto per capita\"] = round(df_choropleth_poblacion[\"Monto\"].copy()/(df_choropleth_poblacion[\"Poblacion\"].copy()), 2)\n\n# Se cambian los nombres de los municipios para que se ajusten a los nombres del geojson\ndf_choropleth_poblacion[\"Municipio\"] = df_choropleth_poblacion[\"Municipio\"].str.replace(\" de la Victoria\", \"\")\n\n# Se hace el mapa\nfig = px.choropleth(df_choropleth_poblacion, geojson=guanajuato, locations='Municipio',\n                    featureidkey=\"properties.mun_name\",\n                    color='Monto per capita',\n                    color_continuous_scale=\"tempo\", \n                    range_color=(0, 700), \n                    labels={'Monto per capita':'Presupuesto per cápita (MXN)'}\n                    )\n\n# Se centra el mapa en Guanajuato\nfig.update_geos(fitbounds=\"locations\", visible=False)\n\n# Se configura el margen y el tamaño de la letra\nfig.update_layout(margin={\"r\":0,\"t\":0,\"l\":0,\"b\":0})\nfig.update_layout(font_size=15)\n\n# Se guarda el html de la gráfica interactiva\nplotly.offline.plot(fig, filename='/work/choropleth_per_capita_ods_4.html')\n\n# Se uestra la gráfica\nfig.show()",
   "outputs": [
    {
     "data": {
      "text/html": "<html>\n<head><meta charset=\"utf-8\" /></head>\n<body>\n    <div>            <script src=\"https://cdnjs.cloudflare.com/ajax/libs/mathjax/2.7.5/MathJax.js?config=TeX-AMS-MML_SVG\"></script><script type=\"text/javascript\">if (window.MathJax) {MathJax.Hub.Config({SVG: {font: \"STIX-Web\"}});}</script>                <script type=\"text/javascript\">window.PlotlyConfig = {MathJaxConfig: 'local'};</script>\n        <script src=\"https://cdn.plot.ly/plotly-2.4.2.min.js\"></script>                <div id=\"ca63a3ce-1ba7-4e33-951e-f2629bea7ca0\" class=\"plotly-graph-div\" style=\"height:525px; width:100%;\"></div>            <script type=\"text/javascript\">                                    window.PLOTLYENV=window.PLOTLYENV || {};                                    if (document.getElementById(\"ca63a3ce-1ba7-4e33-951e-f2629bea7ca0\")) {                    Plotly.newPlot(                        \"ca63a3ce-1ba7-4e33-951e-f2629bea7ca0\",                        [{\"coloraxis\":\"coloraxis\",\"featureidkey\":\"properties.mun_name\",\"geo\":\"geo\",\"geojson\":{\"crs\":{\"properties\":{\"name\":\"urn:ogc:def:crs:OGC:1.3:CRS84\"},\"type\":\"name\"},\"features\":[{\"geometry\":{\"coordinates\":[[[-100.86051359054179,20.66102875813899],[-100.85195524900254,20.681397903669357],[-100.8842867614841,20.69794783441278],[-100.95687417676135,20.69740223230036],[-100.98001339647854,20.730502093787205],[-100.9670173963634,20.77978815127586],[-100.98888871363035,20.78851778507459],[-100.98857173801778,20.811433073796252],[-100.95402139624827,20.799247959952194],[-100.91376549345259,20.807795726380114],[-100.8896753468977,20.793428204086375],[-100.80377495589276,20.80815946112173],[-100.78634129720173,20.78215242709635],[-100.71819154050038,20.831256617214198],[-100.67761866209216,20.79997542943542],[-100.63229114949546,20.792336999861533],[-100.61549144202954,20.76305635316163],[-100.61897817376774,20.715952704122657],[-100.63514393000852,20.66684851400481],[-100.66684149126496,20.688672598501633],[-100.7226291990763,20.679761097332097],[-100.74957212614426,20.65248099171107],[-100.80948051691892,20.688308863760017],[-100.82501232193458,20.66502984029674],[-100.86051359054179,20.66102875813899]]],\"type\":\"Polygon\"},\"properties\":{\"id\":null,\"mun_code\":9,\"mun_name\":\"Comonfort\",\"state_code\":11},\"type\":\"Feature\"},{\"geometry\":{\"coordinates\":[[[-100.63514393000852,20.66684851400481],[-100.67603378402933,20.618108058628575],[-100.69822207690883,20.621199803932292],[-100.71311993069936,20.56773079691508],[-100.75781349207094,20.537358945990334],[-100.74893817491913,20.48516301056877],[-100.69283349149524,20.46843121245454],[-100.69093163781986,20.423873706606862],[-100.73784402847939,20.37386017963498],[-100.78222061423838,20.374951383859823],[-100.7847564191389,20.35603717729591],[-100.82374441948431,20.37513325123063],[-100.844347834301,20.391865049344858],[-100.8265971999974,20.431330268809944],[-100.85195524900254,20.439514300496253],[-100.84688363920152,20.484253673714736],[-100.90901085926413,20.51571672886432],[-100.91091271293952,20.565548388465395],[-100.91122968855208,20.56936760325234],[-100.87414354188205,20.58500819714173],[-100.88492071270923,20.62883823350618],[-100.86051359054179,20.66102875813899],[-100.82501232193458,20.66502984029674],[-100.80948051691892,20.688308863760017],[-100.74957212614426,20.65248099171107],[-100.7226291990763,20.679761097332097],[-100.66684149126496,20.688672598501633],[-100.63514393000852,20.66684851400481]]],\"type\":\"Polygon\"},\"properties\":{\"id\":null,\"mun_code\":7,\"mun_name\":\"Celaya\",\"state_code\":11},\"type\":\"Feature\"},{\"geometry\":{\"coordinates\":[[[-101.78576540361712,21.048769992699185],[-101.82094969661176,21.0358574093719],[-101.83362872111434,21.053316676969356],[-101.8694469653341,21.03822168519239],[-101.85645096521897,20.996937792019235],[-101.88751457525028,20.902184891828867],[-101.90304638026592,20.826164330831606],[-101.99623721035985,20.83507583200114],[-102.05392677184656,20.815434155954],[-102.06755672318683,20.771604119589554],[-102.07389623543811,20.776514538601337],[-102.08752618677838,20.778878814421827],[-102.0802357476894,20.827983004539675],[-102.05487769868425,20.846351608991167],[-101.93727974642287,20.95565389884608],[-101.90875194129208,20.99839273098569],[-101.88688062402514,21.061136973914053],[-101.87166579462206,21.095328039625738],[-101.81777994048612,21.10678568398657],[-101.80890462333431,21.051861738002902],[-101.78576540361712,21.048769992699185]]],\"type\":\"Polygon\"},\"properties\":{\"id\":null,\"mun_code\":25,\"mun_name\":\"Pur\\u00edsima del Rinc\\u00f3n\",\"state_code\":11},\"type\":\"Feature\"},{\"geometry\":{\"coordinates\":[[[-101.04055573847833,21.32593586580882],[-101.05164988491809,21.28847118742261],[-101.08746812913786,21.2802871557363],[-101.08334744617451,21.313932619335567],[-101.11155827569274,21.29811015807537],[-101.10585271466658,21.257917469127058],[-101.18477964219511,21.23354724143894],[-101.20379817894897,21.20754020741356],[-101.29572110659264,21.202811655772585],[-101.33312422887522,21.145705301339234],[-101.3866931073986,21.13843060650696],[-101.37306315605834,21.176259019634784],[-101.39081379036193,21.212450626425348],[-101.44374871766018,21.254098254340114],[-101.49826852302125,21.255189458564956],[-101.52267564518871,21.232274169843294],[-101.53725652336666,21.272466858791606],[-101.60825906058108,21.313932619335567],[-101.63266618274854,21.326845202662852],[-101.64597915847624,21.3281182742585],[-101.6428094023506,21.354852777767107],[-101.6792615977955,21.39322679300735],[-101.59684793852877,21.4210525007408],[-101.5708559382985,21.418506357549504],[-101.52647935253948,21.431782675618404],[-101.53091701111538,21.393772395119772],[-101.50080432792177,21.378859270713612],[-101.4053946685399,21.42050689862838],[-101.37116130238294,21.39740974253591],[-101.32868657029933,21.409776723750774],[-101.33946374112651,21.463427598138793],[-101.31695847263444,21.507257634503244],[-101.28589486260314,21.523261963134246],[-101.32203008243548,21.55599808987948],[-101.3635538876814,21.561454111003684],[-101.33819583867626,21.677667360949258],[-101.40476071731477,21.67057453348779],[-101.43994501030942,21.666755318700847],[-101.44343174204762,21.73586491960745],[-101.42694901019428,21.75496099354217],[-101.42314530284351,21.824979931302803],[-101.36608969258192,21.839347453596545],[-101.31949427753496,21.835346371438796],[-101.29191739924187,21.812794817458744],[-101.21711115467667,21.81588656276246],[-101.21964695957719,21.80224650995195],[-101.16132344686535,21.757507136733466],[-101.05925729961963,21.765509301048965],[-100.98159827454137,21.75296045246329],[-100.91249759100234,21.713677100369015],[-100.90235437140028,21.682032177848622],[-100.85322315145281,21.67421188090393],[-100.83452159031151,21.664572910251167],[-100.8576608100287,21.618924200178647],[-100.8728756394318,21.594372105119724],[-100.93024822530595,21.59855505464828],[-100.93405193265671,21.56163597837449],[-101.004420518646,21.539630026506863],[-101.00949212844702,21.493799449063538],[-101.03960481164064,21.445422728428916],[-101.02375603101243,21.42159810285322],[-101.04182364092858,21.36558295264471],[-101.04055573847833,21.32593586580882]]],\"type\":\"Polygon\"},\"properties\":{\"id\":null,\"mun_code\":30,\"mun_name\":\"San Felipe\",\"state_code\":11},\"type\":\"Feature\"},{\"geometry\":{\"coordinates\":[[[-100.1187906571412,21.228636822427156],[-100.13051875480609,21.215542371729065],[-100.14890334033483,21.245914222653806],[-100.12576412061762,21.258099336497864],[-100.1527070476856,21.30447551605361],[-100.10516070580094,21.37140270851053],[-100.1321036328689,21.407230580559478],[-100.083289388534,21.402683896289307],[-100.0921647056858,21.463427598138793],[-100.05793133952885,21.495618122771607],[-100.06268597371732,21.523261963134246],[-99.95745007034596,21.526171841067157],[-99.9650574850475,21.505984562907596],[-99.94413709461826,21.461427057059918],[-99.9064169967231,21.447968871620212],[-99.86742899637768,21.47343030353317],[-99.81702987397995,21.461608924430728],[-99.77772489802197,21.495072520659185],[-99.77899280047222,21.394863599344614],[-99.82970889848252,21.37722246437635],[-99.859187630451,21.34030338810256],[-99.87757221597974,21.261554816543196],[-99.90419816743514,21.18517052080432],[-99.94794080196903,21.212450626425348],[-99.98661182670187,21.218270382291166],[-100.0113359244819,21.189535337703685],[-100.07251221770682,21.229182424539577],[-100.1187906571412,21.228636822427156]]],\"type\":\"Polygon\"},\"properties\":{\"id\":null,\"mun_code\":45,\"mun_name\":\"Xich\\u00fa\",\"state_code\":11},\"type\":\"Feature\"},{\"geometry\":{\"coordinates\":[[[-100.29376119527673,21.09223629432202],[-100.4557357332971,21.10551261239092],[-100.45922246503532,21.114969715672878],[-100.4852144652656,21.178623295455274],[-100.44369066001967,21.19208148089498],[-100.40565358651195,21.169529926914933],[-100.35208470798857,21.210813820088084],[-100.31499856131853,21.20535779896388],[-100.29122539037621,21.168256855319285],[-100.24019231675335,21.120243869426275],[-100.25382226809361,21.08714400793943],[-100.29376119527673,21.09223629432202]]],\"type\":\"Polygon\"},\"properties\":{\"id\":null,\"mun_code\":13,\"mun_name\":\"Doctor Mora\",\"state_code\":11},\"type\":\"Feature\"},{\"geometry\":{\"coordinates\":[[[-100.13051875480609,21.215542371729065],[-100.1187906571412,21.228636822427156],[-100.07251221770682,21.229182424539577],[-100.0113359244819,21.189535337703685],[-99.99643807069137,21.18244251024222],[-100.02655075388498,21.073503955128917],[-100.01513963183267,21.05095240114887],[-100.0547615834032,21.050043064294833],[-100.07980265679579,21.067502331892292],[-100.07314616893194,21.092781896434442],[-100.11023231560196,21.10678568398657],[-100.10801348631402,21.126245492662903],[-100.1527070476856,21.155889874104417],[-100.13051875480609,21.215542371729065]]],\"type\":\"Polygon\"},\"properties\":{\"id\":null,\"mun_code\":34,\"mun_name\":\"Santa Catarina\",\"state_code\":11},\"type\":\"Feature\"},{\"geometry\":{\"coordinates\":[[[-100.1527070476856,21.155889874104417],[-100.10801348631402,21.126245492662903],[-100.11023231560196,21.10678568398657],[-100.07314616893194,21.092781896434442],[-100.07980265679579,21.067502331892292],[-100.0547615834032,21.050043064294833],[-100.01513963183267,21.05095240114887],[-100.01165290009446,21.040767828383686],[-100.02243007092164,21.01439705961669],[-100.0611010956545,21.028400847168818],[-100.06078412004193,21.00584929318877],[-100.09248168129837,20.931829273270385],[-100.1882083162928,20.93255674275361],[-100.24589787777951,20.963292328419968],[-100.25445621931875,21.044223308429014],[-100.26745221943389,21.056954024385494],[-100.29376119527673,21.09223629432202],[-100.25382226809361,21.08714400793943],[-100.24019231675335,21.120243869426275],[-100.16348421851278,21.136430065428087],[-100.1527070476856,21.155889874104417]]],\"type\":\"Polygon\"},\"properties\":{\"id\":null,\"mun_code\":40,\"mun_name\":\"Tierra Blanca\",\"state_code\":11},\"type\":\"Feature\"},{\"geometry\":{\"coordinates\":[[[-101.08049466566145,20.08287238634403],[-101.132478666122,20.060684567105593],[-101.17400247136793,20.09778551075019],[-101.19650773986,20.057047219689455],[-101.19967749598564,20.106151409807303],[-101.17907408116895,20.126702422708476],[-101.20284725211128,20.15016331354256],[-101.2079188619123,20.19290214568217],[-101.15942159318996,20.160347886307743],[-101.12613915387071,20.164530835836302],[-101.08049466566145,20.08287238634403]]],\"type\":\"Polygon\"},\"properties\":{\"id\":null,\"mun_code\":41,\"mun_name\":\"Uriangato\",\"state_code\":11},\"type\":\"Feature\"},{\"geometry\":{\"coordinates\":[[[-100.24019231675335,21.120243869426275],[-100.29122539037621,21.168256855319285],[-100.31499856131853,21.20535779896388],[-100.35208470798857,21.210813820088084],[-100.38251436679475,21.264282827105298],[-100.37268812280524,21.300656301266667],[-100.34257543961164,21.32229851839268],[-100.36412978126602,21.333756162753513],[-100.36634861055396,21.372675780106178],[-100.34447729328703,21.423053041819674],[-100.29883280507775,21.41923382703273],[-100.29978373191545,21.437966166225834],[-100.22656236541309,21.468519884521385],[-100.24811670706747,21.51089498191938],[-100.21229846284768,21.597100115681826],[-100.20025338957025,21.615468720133318],[-100.22339260928744,21.6654822471052],[-100.18060090159125,21.650205387957424],[-100.16728792586355,21.60146493258119],[-100.14700148665943,21.618014863324614],[-100.07599894944502,21.557816763587546],[-100.06268597371732,21.523261963134246],[-100.05793133952885,21.495618122771607],[-100.0921647056858,21.463427598138793],[-100.083289388534,21.402683896289307],[-100.1321036328689,21.407230580559478],[-100.10516070580094,21.37140270851053],[-100.1527070476856,21.30447551605361],[-100.12576412061762,21.258099336497864],[-100.14890334033483,21.245914222653806],[-100.13051875480609,21.215542371729065],[-100.1527070476856,21.155889874104417],[-100.16348421851278,21.136430065428087],[-100.24019231675335,21.120243869426275]]],\"type\":\"Polygon\"},\"properties\":{\"id\":null,\"mun_code\":43,\"mun_name\":\"Victoria\",\"state_code\":11},\"type\":\"Feature\"},{\"geometry\":{\"coordinates\":[[[-99.77899280047222,21.394863599344614],[-99.79452460548788,21.357398920958403],[-99.75775543443041,21.292108534838746],[-99.73715201961373,21.312841415110725],[-99.67375689710086,21.296837086479723],[-99.69879797049344,21.26755643977982],[-99.69372636069241,21.23591151725943],[-99.73873689767655,21.235547782517816],[-99.82939192286996,21.157890415183292],[-99.88834938680692,21.169529926914933],[-99.90419816743514,21.18517052080432],[-99.87757221597974,21.261554816543196],[-99.859187630451,21.34030338810256],[-99.82970889848252,21.37722246437635],[-99.77899280047222,21.394863599344614]]],\"type\":\"Polygon\"},\"properties\":{\"id\":null,\"mun_code\":6,\"mun_name\":\"Atarjea\",\"state_code\":11},\"type\":\"Feature\"},{\"geometry\":{\"coordinates\":[[[-100.82786510244766,20.352763564621387],[-100.80250705344251,20.32366478529229],[-100.8221595414215,20.321118642100995],[-100.84339690746332,20.279289146815422],[-100.80599378518072,20.228730017731117],[-100.78982802893994,20.23218549777645],[-100.78158666301326,20.173078602264223],[-100.83483856592407,20.133977117540752],[-100.86875495646845,20.122701340550726],[-100.89664881037412,20.109425022481826],[-100.88713954199719,20.084327325310483],[-100.92454266427978,20.028312175101973],[-100.97018715248905,20.005215019009505],[-101.0142467626355,20.045589575328624],[-100.99269242098111,20.064685649263343],[-101.01171095773498,20.08159931474838],[-101.00061681129523,20.109425022481826],[-100.97906246964085,20.131612841720262],[-100.92866334724312,20.150527048284175],[-100.94165934735825,20.18708238981635],[-101.02122022611191,20.210543280650434],[-101.02026929927422,20.200176840514445],[-101.05196686053065,20.215999301774637],[-101.03453320183961,20.25037223485713],[-101.04182364092858,20.277288605736544],[-101.00568842109625,20.285290770052047],[-100.98413407944187,20.32821146956246],[-100.91027876171438,20.341305920260556],[-100.89886763966207,20.378406863905152],[-100.88016607852077,20.354945973071068],[-100.82786510244766,20.352763564621387]]],\"type\":\"Polygon\"},\"properties\":{\"id\":null,\"mun_code\":28,\"mun_name\":\"Salvatierra\",\"state_code\":11},\"type\":\"Feature\"},{\"geometry\":{\"coordinates\":[[[-100.52864012418691,21.071139679308427],[-100.45922246503532,21.114969715672878],[-100.4557357332971,21.10551261239092],[-100.29376119527673,21.09223629432202],[-100.26745221943389,21.056954024385494],[-100.25445621931875,21.044223308429014],[-100.24589787777951,20.963292328419968],[-100.26364851208311,20.970930757993855],[-100.2655503657585,20.92928313007909],[-100.3340170980724,20.89054538009723],[-100.41421192805117,20.887999236905934],[-100.45383387962173,20.900184350749992],[-100.47253544076302,20.928191925854247],[-100.51342529478381,21.003303149997475],[-100.52864012418691,21.071139679308427]]],\"type\":\"Polygon\"},\"properties\":{\"id\":null,\"mun_code\":32,\"mun_name\":\"San Jos\\u00e9 Iturbide\",\"state_code\":11},\"type\":\"Feature\"},{\"geometry\":{\"coordinates\":[[[-101.400957009964,20.51571672886432],[-101.4187076442676,20.549362192463587],[-101.3467541802155,20.592646626715617],[-101.31188686283342,20.579915910759137],[-101.31315476528367,20.539177619698403],[-101.3413655948019,20.54627044715987],[-101.36704061941961,20.504077217132682],[-101.400957009964,20.51571672886432]]],\"type\":\"Polygon\"},\"properties\":{\"id\":null,\"mun_code\":24,\"mun_name\":\"Pueblo Nuevo\",\"state_code\":11},\"type\":\"Feature\"},{\"geometry\":{\"coordinates\":[[[-101.02026929927422,20.200176840514445],[-101.02122022611191,20.210543280650434],[-100.94165934735825,20.18708238981635],[-100.92866334724312,20.150527048284175],[-100.97906246964085,20.131612841720262],[-101.00061681129523,20.109425022481826],[-101.04118968970346,20.11960959524701],[-101.01044305528472,20.18526371610828],[-101.02026929927422,20.200176840514445]]],\"type\":\"Polygon\"},\"properties\":{\"id\":null,\"mun_code\":36,\"mun_name\":\"Santiago Maravat\\u00edo\",\"state_code\":11},\"type\":\"Feature\"},{\"geometry\":{\"coordinates\":[[[-100.46999963586251,20.386772762962266],[-100.50867066059536,20.33239441909102],[-100.54227007552717,20.334394960169895],[-100.58601271006106,20.31038846722339],[-100.59298617353747,20.32548345900036],[-100.65352851553726,20.348216880351217],[-100.65543036921265,20.403140826334884],[-100.69093163781986,20.423873706606862],[-100.69283349149524,20.46843121245454],[-100.63672880807135,20.474614703061974],[-100.60376334436467,20.506623360323978],[-100.56287349034386,20.512988718302218],[-100.55748490493026,20.530993588012095],[-100.51913085580998,20.526992505854345],[-100.50518392885715,20.5550000809586],[-100.50803670937023,20.518262872055615],[-100.4887011970038,20.473341631466326],[-100.4887011970038,20.42569238031493],[-100.46999963586251,20.386772762962266]]],\"type\":\"Polygon\"},\"properties\":{\"id\":null,\"mun_code\":4,\"mun_name\":\"Apaseo el Alto\",\"state_code\":11},\"type\":\"Feature\"},{\"geometry\":{\"coordinates\":[[[-100.48901817261637,20.594465300423686],[-100.4852144652656,20.55372700936295],[-100.50518392885715,20.5550000809586],[-100.51913085580998,20.526992505854345],[-100.55748490493026,20.530993588012095],[-100.56287349034386,20.512988718302218],[-100.60376334436467,20.506623360323978],[-100.63672880807135,20.474614703061974],[-100.69283349149524,20.46843121245454],[-100.74893817491913,20.48516301056877],[-100.75781349207094,20.537358945990334],[-100.71311993069936,20.56773079691508],[-100.69822207690883,20.621199803932292],[-100.67603378402933,20.618108058628575],[-100.63514393000852,20.66684851400481],[-100.61897817376774,20.715952704122657],[-100.59647290527568,20.717225775718305],[-100.58220900271029,20.676851219399186],[-100.56223953911874,20.671213330904173],[-100.55114539267898,20.633566785147156],[-100.5295910510246,20.638659071529748],[-100.48901817261637,20.594465300423686]]],\"type\":\"Polygon\"},\"properties\":{\"id\":null,\"mun_code\":5,\"mun_name\":\"Apaseo el Grande\",\"state_code\":11},\"type\":\"Feature\"},{\"geometry\":{\"coordinates\":[[[-101.07859281198606,20.300567629199822],[-101.04182364092858,20.277288605736544],[-101.03453320183961,20.25037223485713],[-101.05196686053065,20.215999301774637],[-101.02026929927422,20.200176840514445],[-101.01044305528472,20.18526371610828],[-101.04118968970346,20.11960959524701],[-101.00061681129523,20.109425022481826],[-101.01171095773498,20.08159931474838],[-101.08049466566145,20.08287238634403],[-101.12613915387071,20.164530835836302],[-101.15942159318996,20.160347886307743],[-101.2079188619123,20.19290214568217],[-101.20284725211128,20.15016331354256],[-101.26624237462416,20.15525559992515],[-101.2684612039121,20.134158984911558],[-101.28811369189108,20.12415627951718],[-101.324565887336,20.084145457939677],[-101.3182263750847,20.04868132063234],[-101.29191739924187,20.03595060467586],[-101.32836959468676,20.03194952251811],[-101.40254188802682,20.044862105845397],[-101.40856442466554,20.122883207921532],[-101.38922891229912,20.130339770124614],[-101.42251135161837,20.163257764240655],[-101.42029252233043,20.2016317794809],[-101.36323691206884,20.19563015624427],[-101.36133505839345,20.248917295890678],[-101.34390139970242,20.27128698249992],[-101.24658988664515,20.293474801738355],[-101.20633398384949,20.246371152699382],[-101.15720276390202,20.27419686043283],[-101.11219222691787,20.276924870994932],[-101.11662988549378,20.30238630290789],[-101.07859281198606,20.300567629199822]]],\"type\":\"Polygon\"},\"properties\":{\"id\":null,\"mun_code\":46,\"mun_name\":\"Yuriria\",\"state_code\":11},\"type\":\"Feature\"},{\"geometry\":{\"coordinates\":[[[-100.40343475722399,20.36058386156608],[-100.38663504975808,20.30693298717806],[-100.3615939763655,20.285836372164468],[-100.40850636702503,20.277106738365738],[-100.44400763563223,20.17562474545552],[-100.40438568406168,20.179989562354884],[-100.42340422081554,20.149981446171754],[-100.38092948873192,20.129794168012193],[-100.38980480588373,20.080689977894345],[-100.35810724462729,20.064685649263343],[-100.36286187881575,19.98993815986173],[-100.44844529420813,19.982663465029454],[-100.45510178207198,20.00666995797596],[-100.49440675802995,20.02321988871938],[-100.4931388555797,20.06541311874657],[-100.5020141727315,20.0821449168608],[-100.5020141727315,20.082508651602414],[-100.5020141727315,20.0821449168608],[-100.50930461182048,20.079053171557085],[-100.5162780752969,20.085418529535325],[-100.51754597774716,20.086691601130973],[-100.52230061193562,20.088874009580653],[-100.53751544133871,20.10233219502036],[-100.53783241695128,20.10233219502036],[-100.55431514880462,20.081963049489993],[-100.58189202709772,20.081963049489993],[-100.60693310049031,20.154528130441925],[-100.65162666186188,20.15434626307112],[-100.6300723202075,20.19854003417718],[-100.67666773525445,20.228730017731117],[-100.66969427177804,20.27765234047816],[-100.68744490608165,20.32148237684261],[-100.65352851553726,20.348216880351217],[-100.59298617353747,20.32548345900036],[-100.58601271006106,20.31038846722339],[-100.54227007552717,20.334394960169895],[-100.50867066059536,20.33239441909102],[-100.46999963586251,20.386772762962266],[-100.40945729386272,20.375315118601435],[-100.40343475722399,20.36058386156608]]],\"type\":\"Polygon\"},\"properties\":{\"id\":null,\"mun_code\":19,\"mun_name\":\"Jer\\u00e9cuaro\",\"state_code\":11},\"type\":\"Feature\"},{\"geometry\":{\"coordinates\":[[[-100.78158666301326,20.173078602264223],[-100.78982802893994,20.23218549777645],[-100.80599378518072,20.228730017731117],[-100.84339690746332,20.279289146815422],[-100.8221595414215,20.321118642100995],[-100.80250705344251,20.32366478529229],[-100.82786510244766,20.352763564621387],[-100.82374441948431,20.37513325123063],[-100.7847564191389,20.35603717729591],[-100.78222061423838,20.374951383859823],[-100.73784402847939,20.37386017963498],[-100.69093163781986,20.423873706606862],[-100.65543036921265,20.403140826334884],[-100.65352851553726,20.348216880351217],[-100.68744490608165,20.32148237684261],[-100.66969427177804,20.27765234047816],[-100.67666773525445,20.228730017731117],[-100.72643290642706,20.183263175029406],[-100.78158666301326,20.173078602264223]]],\"type\":\"Polygon\"},\"properties\":{\"id\":null,\"mun_code\":39,\"mun_name\":\"Tarimoro\",\"state_code\":11},\"type\":\"Feature\"},{\"geometry\":{\"coordinates\":[[[-100.35081680553832,20.288382515355764],[-100.32355690285777,20.252009041194395],[-100.35525446411421,20.219091047078354],[-100.35588841533934,20.182353838175374],[-100.38092948873192,20.129794168012193],[-100.42340422081554,20.149981446171754],[-100.40438568406168,20.179989562354884],[-100.44400763563223,20.17562474545552],[-100.40850636702503,20.277106738365738],[-100.3615939763655,20.285836372164468],[-100.38663504975808,20.30693298717806],[-100.35081680553832,20.288382515355764]]],\"type\":\"Polygon\"},\"properties\":{\"id\":null,\"mun_code\":10,\"mun_name\":\"Coroneo\",\"state_code\":11},\"type\":\"Feature\"},{\"geometry\":{\"coordinates\":[[[-100.5083536849828,20.05268240279009],[-100.49440675802995,20.02321988871938],[-100.45510178207198,20.00666995797596],[-100.44844529420813,19.982663465029454],[-100.511840416721,19.95811136997053],[-100.53593056327588,19.92301096740481],[-100.52705524612409,19.96574979954442],[-100.5926691979249,19.966477269027646],[-100.55780188054283,19.99157496619899],[-100.60186149068927,19.98593707770398],[-100.56382441718155,20.07232407883723],[-100.53117592908742,20.07814383470305],[-100.5083536849828,20.05268240279009]]],\"type\":\"Polygon\"},\"properties\":{\"id\":null,\"mun_code\":38,\"mun_name\":\"Tarandacuao\",\"state_code\":11},\"type\":\"Feature\"},{\"geometry\":{\"coordinates\":[[[-101.03928783602808,20.509715105627695],[-100.96923622565136,20.502804145537034],[-100.90901085926413,20.51571672886432],[-100.84688363920152,20.484253673714736],[-100.85195524900254,20.439514300496253],[-100.8265971999974,20.431330268809944],[-100.844347834301,20.391865049344858],[-100.82374441948431,20.37513325123063],[-100.82786510244766,20.352763564621387],[-100.88016607852077,20.354945973071068],[-100.89886763966207,20.378406863905152],[-100.91027876171438,20.341305920260556],[-100.98413407944187,20.32821146956246],[-100.98001339647854,20.34858061509283],[-101.02122022611191,20.368949760623195],[-101.04404247021654,20.451517546969505],[-101.03928783602808,20.509715105627695]]],\"type\":\"Polygon\"},\"properties\":{\"id\":null,\"mun_code\":11,\"mun_name\":\"Cortazar\",\"state_code\":11},\"type\":\"Feature\"},{\"geometry\":{\"coordinates\":[[[-100.60186149068927,19.98593707770398],[-100.61992910060545,19.95702016574569],[-100.66050197901367,19.96447672794877],[-100.71660666243757,19.941379571856302],[-100.74703632124374,19.912826394639627],[-100.78000178495044,19.91555440520173],[-100.79204685822788,19.955565226779235],[-100.82469534632202,19.978298648130092],[-100.83578949276176,19.934650479136447],[-100.90901085926413,19.96211245212828],[-100.94768188399698,19.962476186869896],[-100.9590930060493,19.930831264349504],[-101.00315261619573,19.95301908358794],[-100.97018715248905,20.005215019009505],[-100.92454266427978,20.028312175101973],[-100.88713954199719,20.084327325310483],[-100.89664881037412,20.109425022481826],[-100.86875495646845,20.122701340550726],[-100.83483856592407,20.133977117540752],[-100.78158666301326,20.173078602264223],[-100.72643290642706,20.183263175029406],[-100.67666773525445,20.228730017731117],[-100.6300723202075,20.19854003417718],[-100.65162666186188,20.15434626307112],[-100.60693310049031,20.154528130441925],[-100.58189202709772,20.081963049489993],[-100.55431514880462,20.081963049489993],[-100.53783241695128,20.10233219502036],[-100.53751544133871,20.10233219502036],[-100.52230061193562,20.088874009580653],[-100.51754597774716,20.086691601130973],[-100.5162780752969,20.085418529535325],[-100.50930461182048,20.079053171557085],[-100.5020141727315,20.0821449168608],[-100.5020141727315,20.082508651602414],[-100.5020141727315,20.0821449168608],[-100.4931388555797,20.06541311874657],[-100.49440675802995,20.02321988871938],[-100.5083536849828,20.05268240279009],[-100.53117592908742,20.07814383470305],[-100.56382441718155,20.07232407883723],[-100.60186149068927,19.98593707770398]]],\"type\":\"Polygon\"},\"properties\":{\"id\":null,\"mun_code\":2,\"mun_name\":\"Ac\\u00e1mbaro\",\"state_code\":11},\"type\":\"Feature\"},{\"geometry\":{\"coordinates\":[[[-100.52864012418691,21.071139679308427],[-100.51342529478381,21.003303149997475],[-100.47253544076302,20.928191925854247],[-100.46999963586251,20.907095310840653],[-100.50771973375767,20.869448765083636],[-100.5020141727315,20.852898834340213],[-100.55970373421822,20.82998354561855],[-100.56414139279411,20.77451399752246],[-100.5492435390036,20.736321849653024],[-100.59647290527568,20.717225775718305],[-100.61897817376774,20.715952704122657],[-100.61549144202954,20.76305635316163],[-100.63229114949546,20.792336999861533],[-100.67761866209216,20.79997542943542],[-100.71819154050038,20.831256617214198],[-100.78634129720173,20.78215242709635],[-100.80377495589276,20.80815946112173],[-100.8896753468977,20.793428204086375],[-100.91376549345259,20.807795726380114],[-100.95402139624827,20.799247959952194],[-100.98857173801778,20.811433073796252],[-100.98888871363035,20.78851778507459],[-101.03326529938936,20.784698570287645],[-101.06718168993373,20.813979216987548],[-101.0871511535253,20.85999166180168],[-101.02946159203859,20.885453093714638],[-100.99396032343138,20.921280965763586],[-100.9616288109498,20.951834684059136],[-100.92232383499183,20.96201925682432],[-100.91027876171438,21.00584929318877],[-100.83864227327484,21.01912561125767],[-100.8541740782905,21.066592995038256],[-100.82152559019637,21.061500708655664],[-100.76510393115991,21.090781355355567],[-100.70044090619679,21.106058214503342],[-100.63641183245879,21.108604357694638],[-100.56636022208207,21.10096592812075],[-100.52864012418691,21.071139679308427]]],\"type\":\"Polygon\"},\"properties\":{\"id\":null,\"mun_code\":3,\"mun_name\":\"San Miguel de Allende\",\"state_code\":11},\"type\":\"Feature\"},{\"geometry\":{\"coordinates\":[[[-101.78576540361712,21.048769992699185],[-101.78418052555429,21.01621573332476],[-101.73061164703093,21.005121823705544],[-101.73536628121938,20.983115871837914],[-101.6684844269683,20.994027914086324],[-101.67133720748139,20.95110721457591],[-101.71286101272732,20.954380827250432],[-101.71603076885296,20.909823321402754],[-101.6970122320991,20.893818992771752],[-101.70874032976398,20.81034186957141],[-101.73473232999426,20.79488314305283],[-101.77150150105172,20.799793562064615],[-101.80795369649663,20.836167036225984],[-101.86152257502,20.845987874249552],[-101.90304638026592,20.826164330831606],[-101.88751457525028,20.902184891828867],[-101.85645096521897,20.996937792019235],[-101.8694469653341,21.03822168519239],[-101.83362872111434,21.053316676969356],[-101.82094969661176,21.0358574093719],[-101.78576540361712,21.048769992699185]]],\"type\":\"Polygon\"},\"properties\":{\"id\":null,\"mun_code\":31,\"mun_name\":\"San Francisco del Rinc\\u00f3n\",\"state_code\":11},\"type\":\"Feature\"},{\"geometry\":{\"coordinates\":[[[-101.80795369649663,20.836167036225984],[-101.77150150105172,20.799793562064615],[-101.73473232999426,20.79488314305283],[-101.74741135449683,20.78215242709635],[-101.68274832953371,20.789245254557816],[-101.70113291506243,20.72850155270833],[-101.69067271984781,20.69612916070471],[-101.74265672030836,20.689036333243244],[-101.77625613524019,20.622654742898746],[-101.80763672088406,20.607196016380165],[-101.80795369649663,20.58318952343366],[-101.84884355051743,20.57173187907283],[-101.85803584328178,20.53990508918163],[-101.89480501433925,20.5630022452741],[-101.93094023417159,20.545542977676643],[-101.92935535610877,20.56773079691508],[-101.96897730767931,20.56245664316168],[-101.95154364898828,20.60683228163855],[-101.96802638084162,20.663574901330286],[-102.01937643007705,20.67612374991596],[-102.01430482027601,20.7170439083475],[-102.03459125948014,20.741959738148037],[-102.06438696706118,20.738686125473514],[-102.06755672318683,20.771604119589554],[-102.05392677184656,20.815434155954],[-101.99623721035985,20.83507583200114],[-101.90304638026592,20.826164330831606],[-101.86152257502,20.845987874249552],[-101.80795369649663,20.836167036225984]]],\"type\":\"Polygon\"},\"properties\":{\"id\":null,\"mun_code\":8,\"mun_name\":\"Manuel Doblado\",\"state_code\":11},\"type\":\"Feature\"},{\"geometry\":{\"coordinates\":[[[-101.69067271984781,20.69612916070471],[-101.63710384132443,20.694674221738257],[-101.61745135334544,20.65648207386882],[-101.58068218228799,20.639022806271363],[-101.60540628006801,20.526992505854345],[-101.63456803642393,20.547543518755518],[-101.72237028110425,20.537904548102755],[-101.74392462275863,20.56372971475733],[-101.71159311027706,20.56409344949894],[-101.71824959814091,20.608105353234198],[-101.7566036472612,20.605377342672096],[-101.77625613524019,20.622654742898746],[-101.74265672030836,20.689036333243244],[-101.69067271984781,20.69612916070471]]],\"type\":\"Polygon\"},\"properties\":{\"id\":null,\"mun_code\":12,\"mun_name\":\"Cuer\\u00e1maro\",\"state_code\":11},\"type\":\"Feature\"},{\"geometry\":{\"coordinates\":[[[-101.31315476528367,20.539177619698403],[-101.2817741796398,20.532630394349358],[-101.27828744790159,20.502258543424613],[-101.22693739866617,20.45570049649806],[-101.13121076367173,20.48989156220975],[-101.09412461700171,20.440423637350285],[-101.11219222691787,20.401322152626815],[-101.10997339762993,20.317117559943245],[-101.07859281198606,20.300567629199822],[-101.11662988549378,20.30238630290789],[-101.11219222691787,20.276924870994932],[-101.15720276390202,20.27419686043283],[-101.20633398384949,20.246371152699382],[-101.24658988664515,20.293474801738355],[-101.34390139970242,20.27128698249992],[-101.36133505839345,20.248917295890678],[-101.39525144893784,20.248371693778257],[-101.41997554671786,20.274378727803636],[-101.45864657145071,20.26946830879185],[-101.44501662011044,20.28965558695141],[-101.45991447390097,20.323482917921485],[-101.46023144951353,20.323482917921485],[-101.45991447390097,20.323482917921485],[-101.41205115640375,20.38549969136662],[-101.38003661953475,20.415325940178942],[-101.39525144893784,20.4753421725452],[-101.36704061941961,20.504077217132682],[-101.3413655948019,20.54627044715987],[-101.31315476528367,20.539177619698403]]],\"type\":\"Polygon\"},\"properties\":{\"id\":null,\"mun_code\":42,\"mun_name\":\"Valle de Santiago\",\"state_code\":11},\"type\":\"Feature\"},{\"geometry\":{\"coordinates\":[[[-100.27759543903595,21.686578862118793],[-100.22339260928744,21.6654822471052],[-100.20025338957025,21.615468720133318],[-100.21229846284768,21.597100115681826],[-100.24811670706747,21.51089498191938],[-100.22656236541309,21.468519884521385],[-100.29978373191545,21.437966166225834],[-100.29883280507775,21.41923382703273],[-100.34447729328703,21.423053041819674],[-100.36634861055396,21.372675780106178],[-100.36412978126602,21.333756162753513],[-100.34257543961164,21.32229851839268],[-100.37268812280524,21.300656301266667],[-100.38251436679475,21.264282827105298],[-100.35208470798857,21.210813820088084],[-100.40565358651195,21.169529926914933],[-100.44369066001967,21.19208148089498],[-100.4852144652656,21.178623295455274],[-100.45922246503532,21.114969715672878],[-100.52864012418691,21.071139679308427],[-100.56636022208207,21.10096592812075],[-100.63641183245879,21.108604357694638],[-100.68237329628062,21.162437099453463],[-100.69346744272038,21.19608256305273],[-100.66303778391419,21.206085268447108],[-100.65574734482522,21.23354724143894],[-100.71660666243757,21.278832216769846],[-100.72167827223859,21.297928290704565],[-100.67223007667856,21.311932078256692],[-100.69758812568371,21.364855483161485],[-100.64306832032264,21.33630230594481],[-100.607884027328,21.334301764865934],[-100.59837475895107,21.391226251928476],[-100.63958158858443,21.40141082469366],[-100.67793563770472,21.39322679300735],[-100.70424461354756,21.45742597490217],[-100.70075788180935,21.5167147377852],[-100.74196471144272,21.511076849290188],[-100.69441836955806,21.534719607495077],[-100.73023661377783,21.535447076978304],[-100.75147397981965,21.580550184938403],[-100.71755758927526,21.549996466642853],[-100.68110539383036,21.547450323451557],[-100.6576491985006,21.524535034729894],[-100.63577788123366,21.543267373923],[-100.61485749080441,21.50580269553679],[-100.5847448076108,21.522352626280213],[-100.5340287096005,21.542358037068965],[-100.46429407483635,21.543085506552192],[-100.4557357332971,21.556179957250286],[-100.48584841649073,21.594372105119724],[-100.45953944064789,21.628381303460603],[-100.45129807472121,21.666209716588426],[-100.35018285431318,21.69148928113058],[-100.27759543903595,21.686578862118793]]],\"type\":\"Polygon\"},\"properties\":{\"id\":null,\"mun_code\":33,\"mun_name\":\"San Luis de la Paz\",\"state_code\":11},\"type\":\"Feature\"},{\"geometry\":{\"coordinates\":[[[-101.77625613524019,20.622654742898746],[-101.7566036472612,20.605377342672096],[-101.71824959814091,20.608105353234198],[-101.71159311027706,20.56409344949894],[-101.74392462275863,20.56372971475733],[-101.72237028110425,20.537904548102755],[-101.63456803642393,20.547543518755518],[-101.60540628006801,20.526992505854345],[-101.61047788986903,20.44933513851982],[-101.59494608485338,20.43205773829317],[-101.61903623140827,20.377133792309504],[-101.64597915847624,20.350399288800897],[-101.62727759733494,20.303295639761924],[-101.62569271927212,20.266922165600555],[-101.64788101215163,20.238187121013073],[-101.68591808565935,20.218363577595127],[-101.69384247597345,20.191810941457327],[-101.72744189090528,20.211452617504467],[-101.76040735461197,20.201813646851704],[-101.7965425744443,20.212725689100115],[-101.83489662356459,20.224728935573367],[-101.9147744779308,20.194175217277817],[-101.90780101445439,20.215089964920605],[-101.93981555132339,20.227093211393857],[-101.95154364898828,20.2707413803875],[-101.93474394152236,20.297475883896105],[-101.9601019905275,20.30584178295322],[-101.94647203918724,20.343124593968625],[-101.99021467372113,20.36058386156608],[-102.02539896671577,20.34730754349718],[-102.0108180885378,20.379316200759185],[-102.09640150393018,20.384044752400165],[-102.06406999144862,20.4407873720919],[-102.06121721093554,20.44478845424965],[-102.00955018608755,20.544997375564222],[-101.9841921370824,20.53481280279904],[-101.96897730767931,20.56245664316168],[-101.92935535610877,20.56773079691508],[-101.93094023417159,20.545542977676643],[-101.89480501433925,20.5630022452741],[-101.85803584328178,20.53990508918163],[-101.84884355051743,20.57173187907283],[-101.80795369649663,20.58318952343366],[-101.80763672088406,20.607196016380165],[-101.77625613524019,20.622654742898746]]],\"type\":\"Polygon\"},\"properties\":{\"id\":null,\"mun_code\":23,\"mun_name\":\"P\\u00e9njamo\",\"state_code\":11},\"type\":\"Feature\"},{\"geometry\":{\"coordinates\":[[[-101.54137720633001,20.942195713406374],[-101.58163310912568,20.976932381230483],[-101.57307476758643,21.02949205139366],[-101.49985340108408,21.010577844829747],[-101.48020091310508,21.11951639994305],[-101.47259349840354,21.152070659317474],[-101.43519037612094,21.13733940228212],[-101.43677525418377,21.098965387041876],[-101.4053946685399,21.100784060749945],[-101.40190793680169,21.071503414050042],[-101.34833905827831,21.032583796697377],[-101.35975018033064,21.01439705961669],[-101.3324902776501,20.992754842490676],[-101.34358442408985,20.923099639471655],[-101.31854335069727,20.883998154748184],[-101.35911622910551,20.839986251012927],[-101.40856442466554,20.84380546579987],[-101.4107832539535,20.800702898918647],[-101.45579379093763,20.79997542943542],[-101.46023144951353,20.847079078474394],[-101.50429105965998,20.85126202800295],[-101.49921944985894,20.91600681201019],[-101.54137720633001,20.942195713406374]]],\"type\":\"Polygon\"},\"properties\":{\"id\":null,\"mun_code\":37,\"mun_name\":\"Silao\",\"state_code\":11},\"type\":\"Feature\"},{\"geometry\":{\"coordinates\":[[[-101.52711330376461,20.749052565609503],[-101.54169418194257,20.731593298012047],[-101.50048735230921,20.659755686543342],[-101.49763457179613,20.59592023939014],[-101.47227652279098,20.572641215926865],[-101.50746081578562,20.561547306307645],[-101.49383086444536,20.508623901402853],[-101.44438266888531,20.500985471828965],[-101.400957009964,20.51571672886432],[-101.36704061941961,20.504077217132682],[-101.39525144893784,20.4753421725452],[-101.38003661953475,20.415325940178942],[-101.41205115640375,20.38549969136662],[-101.45769564461301,20.418053950741044],[-101.51316637681178,20.397866672581486],[-101.57497662126183,20.39113757986163],[-101.56388247482208,20.320391172617768],[-101.62727759733494,20.303295639761924],[-101.64597915847624,20.350399288800897],[-101.61903623140827,20.377133792309504],[-101.59494608485338,20.43205773829317],[-101.61047788986903,20.44933513851982],[-101.60540628006801,20.526992505854345],[-101.58068218228799,20.639022806271363],[-101.61745135334544,20.65648207386882],[-101.63710384132443,20.694674221738257],[-101.62347388998417,20.72104499050525],[-101.64534520725111,20.743232809743684],[-101.60065164587954,20.776878273342952],[-101.58924052382721,20.754690454104516],[-101.52711330376461,20.749052565609503]]],\"type\":\"Polygon\"},\"properties\":{\"id\":null,\"mun_code\":1,\"mun_name\":\"Abasolo\",\"state_code\":11},\"type\":\"Feature\"},{\"geometry\":{\"coordinates\":[[[-101.41205115640375,20.38549969136662],[-101.45991447390097,20.323482917921485],[-101.46023144951353,20.323482917921485],[-101.50048735230921,20.311479671448232],[-101.52330959641384,20.33239441909102],[-101.56388247482208,20.320391172617768],[-101.57497662126183,20.39113757986163],[-101.51316637681178,20.397866672581486],[-101.45769564461301,20.418053950741044],[-101.41205115640375,20.38549969136662]]],\"type\":\"Polygon\"},\"properties\":{\"id\":null,\"mun_code\":16,\"mun_name\":\"Huan\\u00edmaro\",\"state_code\":11},\"type\":\"Feature\"},{\"geometry\":{\"coordinates\":[[[-100.75147397981965,21.580550184938403],[-100.73023661377783,21.535447076978304],[-100.69441836955806,21.534719607495077],[-100.74196471144272,21.511076849290188],[-100.70075788180935,21.5167147377852],[-100.70424461354756,21.45742597490217],[-100.67793563770472,21.39322679300735],[-100.63958158858443,21.40141082469366],[-100.59837475895107,21.391226251928476],[-100.607884027328,21.334301764865934],[-100.64306832032264,21.33630230594481],[-100.69758812568371,21.364855483161485],[-100.67223007667856,21.311932078256692],[-100.72167827223859,21.297928290704565],[-100.7990203217043,21.32229851839268],[-100.89981856649976,21.32411719210075],[-100.94641398154673,21.305202985536837],[-100.99808100639471,21.34994235875532],[-101.01741651876114,21.321025446797034],[-101.04055573847833,21.32593586580882],[-101.04182364092858,21.36558295264471],[-101.02375603101243,21.42159810285322],[-101.03960481164064,21.445422728428916],[-101.00949212844702,21.493799449063538],[-101.004420518646,21.539630026506863],[-100.93405193265671,21.56163597837449],[-100.93024822530595,21.59855505464828],[-100.8728756394318,21.594372105119724],[-100.8576608100287,21.618924200178647],[-100.80948051691892,21.592007829299234],[-100.75147397981965,21.580550184938403]]],\"type\":\"Polygon\"},\"properties\":{\"id\":null,\"mun_code\":29,\"mun_name\":\"San Diego de la Uni\\u00f3n\",\"state_code\":11},\"type\":\"Feature\"},{\"geometry\":{\"coordinates\":[[[-100.91122968855208,20.56936760325234],[-100.91091271293952,20.565548388465395],[-100.90901085926413,20.51571672886432],[-100.96923622565136,20.502804145537034],[-101.03928783602808,20.509715105627695],[-101.08556627546247,20.52208208684256],[-101.08398139739965,20.561183571566033],[-101.06274403135784,20.5630022452741],[-101.0532347629809,20.55318140725053],[-101.05735544594424,20.579006573905104],[-101.02502393346268,20.56136543893684],[-100.95085164012262,20.582098319208818],[-100.91122968855208,20.56936760325234]]],\"type\":\"Polygon\"},\"properties\":{\"id\":null,\"mun_code\":44,\"mun_name\":\"Villagr\\u00e1n\",\"state_code\":11},\"type\":\"Feature\"},{\"geometry\":{\"coordinates\":[[[-100.98888871363035,20.78851778507459],[-100.9670173963634,20.77978815127586],[-100.98001339647854,20.730502093787205],[-100.95687417676135,20.69740223230036],[-100.8842867614841,20.69794783441278],[-100.85195524900254,20.681397903669357],[-100.86051359054179,20.66102875813899],[-100.88492071270923,20.62883823350618],[-100.87414354188205,20.58500819714173],[-100.91122968855208,20.56936760325234],[-100.95085164012262,20.582098319208818],[-101.02502393346268,20.56136543893684],[-101.05735544594424,20.579006573905104],[-101.0532347629809,20.55318140725053],[-101.06274403135784,20.5630022452741],[-101.07447212902272,20.701221447087303],[-101.11314315375557,20.7117697545941],[-101.1093394464048,20.75505418884613],[-101.06718168993373,20.813979216987548],[-101.03326529938936,20.784698570287645],[-100.98888871363035,20.78851778507459]]],\"type\":\"Polygon\"},\"properties\":{\"id\":null,\"mun_code\":35,\"mun_name\":\"Santa Cruz de Juventino Rosas\",\"state_code\":11},\"type\":\"Feature\"},{\"geometry\":{\"coordinates\":[[[-101.08905300720068,20.86508394818427],[-101.0871511535253,20.85999166180168],[-101.06718168993373,20.813979216987548],[-101.1093394464048,20.75505418884613],[-101.11314315375557,20.7117697545941],[-101.07447212902272,20.701221447087303],[-101.06274403135784,20.5630022452741],[-101.08398139739965,20.561183571566033],[-101.08556627546247,20.52208208684256],[-101.03928783602808,20.509715105627695],[-101.04404247021654,20.451517546969505],[-101.09412461700171,20.440423637350285],[-101.13121076367173,20.48989156220975],[-101.22693739866617,20.45570049649806],[-101.27828744790159,20.502258543424613],[-101.2817741796398,20.532630394349358],[-101.31315476528367,20.539177619698403],[-101.31188686283342,20.579915910759137],[-101.27670256983878,20.589373014041094],[-101.26275564288594,20.66102875813899],[-101.26560842339902,20.701221447087303],[-101.21203954487565,20.75669099518339],[-101.18699847148307,20.753781117250483],[-101.14198793449893,20.84780654795762],[-101.08905300720068,20.86508394818427]]],\"type\":\"Polygon\"},\"properties\":{\"id\":null,\"mun_code\":27,\"mun_name\":\"Salamanca\",\"state_code\":11},\"type\":\"Feature\"},{\"geometry\":{\"coordinates\":[[[-101.31188686283342,20.579915910759137],[-101.3467541802155,20.592646626715617],[-101.4187076442676,20.549362192463587],[-101.400957009964,20.51571672886432],[-101.44438266888531,20.500985471828965],[-101.49383086444536,20.508623901402853],[-101.50746081578562,20.561547306307645],[-101.47227652279098,20.572641215926865],[-101.49763457179613,20.59592023939014],[-101.50048735230921,20.659755686543342],[-101.54169418194257,20.731593298012047],[-101.52711330376461,20.749052565609503],[-101.45579379093763,20.79997542943542],[-101.4107832539535,20.800702898918647],[-101.40856442466554,20.84380546579987],[-101.35911622910551,20.839986251012927],[-101.27670256983878,20.83634890359679],[-101.21425837416359,20.824709391865152],[-101.14198793449893,20.84780654795762],[-101.18699847148307,20.753781117250483],[-101.21203954487565,20.75669099518339],[-101.26560842339902,20.701221447087303],[-101.26275564288594,20.66102875813899],[-101.27670256983878,20.589373014041094],[-101.31188686283342,20.579915910759137]]],\"type\":\"Polygon\"},\"properties\":{\"id\":null,\"mun_code\":17,\"mun_name\":\"Irapuato\",\"state_code\":11},\"type\":\"Feature\"},{\"geometry\":{\"coordinates\":[[[-101.63710384132443,20.694674221738257],[-101.69067271984781,20.69612916070471],[-101.70113291506243,20.72850155270833],[-101.68274832953371,20.789245254557816],[-101.74741135449683,20.78215242709635],[-101.73473232999426,20.79488314305283],[-101.70874032976398,20.81034186957141],[-101.6970122320991,20.893818992771752],[-101.68972179301012,20.86453834607185],[-101.64154149990034,20.928919395337473],[-101.58068218228799,20.921826567876007],[-101.54137720633001,20.942195713406374],[-101.49921944985894,20.91600681201019],[-101.50429105965998,20.85126202800295],[-101.46023144951353,20.847079078474394],[-101.45579379093763,20.79997542943542],[-101.52711330376461,20.749052565609503],[-101.58924052382721,20.754690454104516],[-101.60065164587954,20.776878273342952],[-101.64534520725111,20.743232809743684],[-101.62347388998417,20.72104499050525],[-101.63710384132443,20.694674221738257]]],\"type\":\"Polygon\"},\"properties\":{\"id\":null,\"mun_code\":26,\"mun_name\":\"Romita\",\"state_code\":11},\"type\":\"Feature\"},{\"geometry\":{\"coordinates\":[[[-101.3866931073986,21.13843060650696],[-101.33312422887522,21.145705301339234],[-101.29572110659264,21.202811655772585],[-101.20379817894897,21.20754020741356],[-101.1733685201428,21.211359422200506],[-101.14737651991251,21.158436017295713],[-101.10870549517966,21.14825144453053],[-101.14610861746226,21.045496380024662],[-101.12677310509584,21.00766796689684],[-101.08461534862478,20.997847128873268],[-101.05703847033168,20.97929665705097],[-101.11314315375557,20.95328962302559],[-101.08905300720068,20.86508394818427],[-101.14198793449893,20.84780654795762],[-101.21425837416359,20.824709391865152],[-101.27670256983878,20.83634890359679],[-101.35911622910551,20.839986251012927],[-101.31854335069727,20.883998154748184],[-101.34358442408985,20.923099639471655],[-101.3324902776501,20.992754842490676],[-101.35975018033064,21.01439705961669],[-101.34833905827831,21.032583796697377],[-101.40190793680169,21.071503414050042],[-101.4053946685399,21.100784060749945],[-101.43677525418377,21.098965387041876],[-101.43519037612094,21.13733940228212],[-101.4275829614194,21.137703137023735],[-101.3866931073986,21.13843060650696]]],\"type\":\"Polygon\"},\"properties\":{\"id\":null,\"mun_code\":15,\"mun_name\":\"Guanajuato\",\"state_code\":11},\"type\":\"Feature\"},{\"geometry\":{\"coordinates\":[[[-101.63266618274854,21.326845202662852],[-101.60825906058108,21.313932619335567],[-101.53725652336666,21.272466858791606],[-101.52267564518871,21.232274169843294],[-101.49826852302125,21.255189458564956],[-101.44374871766018,21.254098254340114],[-101.39081379036193,21.212450626425348],[-101.37306315605834,21.176259019634784],[-101.3866931073986,21.13843060650696],[-101.4275829614194,21.137703137023735],[-101.43519037612094,21.13733940228212],[-101.47259349840354,21.152070659317474],[-101.48020091310508,21.11951639994305],[-101.49985340108408,21.010577844829747],[-101.57307476758643,21.02949205139366],[-101.58163310912568,20.976932381230483],[-101.54137720633001,20.942195713406374],[-101.58068218228799,20.921826567876007],[-101.64154149990034,20.928919395337473],[-101.68972179301012,20.86453834607185],[-101.6970122320991,20.893818992771752],[-101.71603076885296,20.909823321402754],[-101.71286101272732,20.954380827250432],[-101.67133720748139,20.95110721457591],[-101.6684844269683,20.994027914086324],[-101.73536628121938,20.983115871837914],[-101.73061164703093,21.005121823705544],[-101.78418052555429,21.01621573332476],[-101.78576540361712,21.048769992699185],[-101.80890462333431,21.051861738002902],[-101.81777994048612,21.10678568398657],[-101.83362872111434,21.13733940228212],[-101.7876672572925,21.15643547621684],[-101.77372033033967,21.21972532125762],[-101.76864872053865,21.257735601756252],[-101.68655203688448,21.29410907591762],[-101.64344335357572,21.29938322967102],[-101.64597915847624,21.3281182742585],[-101.63266618274854,21.326845202662852]]],\"type\":\"Polygon\"},\"properties\":{\"id\":null,\"mun_code\":20,\"mun_name\":\"Le\\u00f3n\",\"state_code\":11},\"type\":\"Feature\"},{\"geometry\":{\"coordinates\":[[[-100.98413407944187,20.32821146956246],[-101.00568842109625,20.285290770052047],[-101.04182364092858,20.277288605736544],[-101.07859281198606,20.300567629199822],[-101.10997339762993,20.317117559943245],[-101.11219222691787,20.401322152626815],[-101.09412461700171,20.440423637350285],[-101.04404247021654,20.451517546969505],[-101.02122022611191,20.368949760623195],[-100.98001339647854,20.34858061509283],[-100.98413407944187,20.32821146956246]]],\"type\":\"Polygon\"},\"properties\":{\"id\":null,\"mun_code\":18,\"mun_name\":\"Jaral del Progreso\",\"state_code\":11},\"type\":\"Feature\"},{\"geometry\":{\"coordinates\":[[[-101.5708559382985,21.418506357549504],[-101.58924052382721,21.46470066973444],[-101.64090754867522,21.528717984258453],[-101.62283993875904,21.544722312889455],[-101.58638774331415,21.60783029055943],[-101.59367818240312,21.631654916135126],[-101.55785993818336,21.734955582753415],[-101.58004823106286,21.736228654349063],[-101.58575379208901,21.778785619117865],[-101.5388414014295,21.777694414893023],[-101.51063057191126,21.798791029906617],[-101.49636666934586,21.809884939525837],[-101.47386140085379,21.827344207123293],[-101.42314530284351,21.824979931302803],[-101.42694901019428,21.75496099354217],[-101.44343174204762,21.73586491960745],[-101.43994501030942,21.666755318700847],[-101.40476071731477,21.67057453348779],[-101.33819583867626,21.677667360949258],[-101.3635538876814,21.561454111003684],[-101.32203008243548,21.55599808987948],[-101.28589486260314,21.523261963134246],[-101.31695847263444,21.507257634503244],[-101.33946374112651,21.463427598138793],[-101.32868657029933,21.409776723750774],[-101.37116130238294,21.39740974253591],[-101.4053946685399,21.42050689862838],[-101.50080432792177,21.378859270713612],[-101.53091701111538,21.393772395119772],[-101.52647935253948,21.431782675618404],[-101.5708559382985,21.418506357549504]]],\"type\":\"Polygon\"},\"properties\":{\"id\":null,\"mun_code\":22,\"mun_name\":\"Ocampo\",\"state_code\":11},\"type\":\"Feature\"},{\"geometry\":{\"coordinates\":[[[-101.20284725211128,20.15016331354256],[-101.17907408116895,20.126702422708476],[-101.19967749598564,20.106151409807303],[-101.19650773986,20.057047219689455],[-101.16068949564023,20.03995168683361],[-101.20157934966102,20.025766031910678],[-101.20316422772385,20.00721556008838],[-101.23834852071849,20.032131389888917],[-101.29191739924187,20.03595060467586],[-101.3182263750847,20.04868132063234],[-101.324565887336,20.084145457939677],[-101.28811369189108,20.12415627951718],[-101.2684612039121,20.134158984911558],[-101.26624237462416,20.15525559992515],[-101.20284725211128,20.15016331354256]]],\"type\":\"Polygon\"},\"properties\":{\"id\":null,\"mun_code\":21,\"mun_name\":\"Morole\\u00f3n\",\"state_code\":11},\"type\":\"Feature\"},{\"geometry\":{\"coordinates\":[[[-100.7990203217043,21.32229851839268],[-100.72167827223859,21.297928290704565],[-100.71660666243757,21.278832216769846],[-100.65574734482522,21.23354724143894],[-100.66303778391419,21.206085268447108],[-100.69346744272038,21.19608256305273],[-100.68237329628062,21.162437099453463],[-100.63641183245879,21.108604357694638],[-100.70044090619679,21.106058214503342],[-100.76510393115991,21.090781355355567],[-100.82152559019637,21.061500708655664],[-100.8541740782905,21.066592995038256],[-100.83864227327484,21.01912561125767],[-100.91027876171438,21.00584929318877],[-100.92232383499183,20.96201925682432],[-100.9616288109498,20.951834684059136],[-100.99396032343138,20.921280965763586],[-101.02946159203859,20.885453093714638],[-101.0871511535253,20.85999166180168],[-101.08905300720068,20.86508394818427],[-101.11314315375557,20.95328962302559],[-101.05703847033168,20.97929665705097],[-101.08461534862478,20.997847128873268],[-101.12677310509584,21.00766796689684],[-101.14610861746226,21.045496380024662],[-101.10870549517966,21.14825144453053],[-101.14737651991251,21.158436017295713],[-101.1733685201428,21.211359422200506],[-101.20379817894897,21.20754020741356],[-101.18477964219511,21.23354724143894],[-101.10585271466658,21.257917469127058],[-101.11155827569274,21.29811015807537],[-101.08334744617451,21.313932619335567],[-101.08746812913786,21.2802871557363],[-101.05164988491809,21.28847118742261],[-101.04055573847833,21.32593586580882],[-101.01741651876114,21.321025446797034],[-100.99808100639471,21.34994235875532],[-100.94641398154673,21.305202985536837],[-100.89981856649976,21.32411719210075],[-100.7990203217043,21.32229851839268]]],\"type\":\"Polygon\"},\"properties\":{\"id\":null,\"mun_code\":14,\"mun_name\":\"Dolores Hidalgo Cuna de la Independencia Nacional\",\"state_code\":11},\"type\":\"Feature\"}],\"type\":\"FeatureCollection\"},\"hovertemplate\":\"Municipio=%{location}<br>Presupuesto per c\\u00e1pita (MXN)=%{z}<extra></extra>\",\"locations\":[\"Abasolo\",\"Ac\\u00e1mbaro\",\"Apaseo el Alto\",\"Apaseo el Grande\",\"Atarjea\",\"Celaya\",\"Cobertura Estatal\",\"Comonfort\",\"Coroneo\",\"Cortazar\",\"Cuer\\u00e1maro\",\"Doctor Mora\",\"Dolores Hidalgo Cuna de la Independencia Nacional\",\"Guanajuato\",\"Huan\\u00edmaro\",\"Irapuato\",\"Jaral del Progreso\",\"Jer\\u00e9cuaro\",\"Le\\u00f3n\",\"Manuel Doblado\",\"Morole\\u00f3n\",\"Ocampo\",\"Por Determinar\",\"Pueblo Nuevo\",\"Pur\\u00edsima del Rinc\\u00f3n\",\"P\\u00e9njamo\",\"Romita\",\"Salamanca\",\"Salvatierra\",\"San Diego de la Uni\\u00f3n\",\"San Felipe\",\"San Francisco del Rinc\\u00f3n\",\"San Jos\\u00e9 Iturbide\",\"San Luis de la Paz\",\"San Miguel de Allende\",\"Santa Catarina\",\"Santa Cruz de Juventino Rosas\",\"Santiago Maravat\\u00edo\",\"Silao\",\"Tarandacuao\",\"Tarimoro\",\"Tierra Blanca\",\"Uriangato\",\"Valle de Santiago\",\"Victoria\",\"Villagr\\u00e1n\",\"Xich\\u00fa\",\"Yuriria\"],\"name\":\"\",\"type\":\"choropleth\",\"z\":[583.54,134.31,134.47,126.36,311.29,165.3,null,373.01,245.02,190.82,147.17,149.45,260.56,232.82,189.86,150.08,221.86,107.29,123.7,199.87,480.74,125.89,null,219.83,238.2,626.44,310.79,317.71,536.78,125.69,153.26,153.87,119.31,177.12,660.85,136.25,180.41,80.6,214.49,250.05,188.67,202.37,227.23,239.6,242.88,154.7,206.31,405.29]}],                        {\"coloraxis\":{\"cmax\":700,\"cmin\":0,\"colorbar\":{\"title\":{\"text\":\"Presupuesto per c\\u00e1pita (MXN)\"}},\"colorscale\":[[0.0,\"rgb(254, 245, 244)\"],[0.09090909090909091,\"rgb(222, 224, 210)\"],[0.18181818181818182,\"rgb(189, 206, 181)\"],[0.2727272727272727,\"rgb(153, 189, 156)\"],[0.36363636363636365,\"rgb(110, 173, 138)\"],[0.45454545454545453,\"rgb(65, 157, 129)\"],[0.5454545454545454,\"rgb(25, 137, 125)\"],[0.6363636363636364,\"rgb(18, 116, 117)\"],[0.7272727272727273,\"rgb(25, 94, 106)\"],[0.8181818181818182,\"rgb(28, 72, 93)\"],[0.9090909090909091,\"rgb(25, 51, 80)\"],[1.0,\"rgb(20, 29, 67)\"]]},\"font\":{\"size\":15},\"geo\":{\"center\":{},\"domain\":{\"x\":[0.0,1.0],\"y\":[0.0,1.0]},\"fitbounds\":\"locations\",\"visible\":false},\"legend\":{\"tracegroupgap\":0},\"margin\":{\"b\":0,\"l\":0,\"r\":0,\"t\":0},\"template\":{\"data\":{\"bar\":[{\"error_x\":{\"color\":\"#2a3f5f\"},\"error_y\":{\"color\":\"#2a3f5f\"},\"marker\":{\"line\":{\"color\":\"#E5ECF6\",\"width\":0.5},\"pattern\":{\"fillmode\":\"overlay\",\"size\":10,\"solidity\":0.2}},\"type\":\"bar\"}],\"barpolar\":[{\"marker\":{\"line\":{\"color\":\"#E5ECF6\",\"width\":0.5},\"pattern\":{\"fillmode\":\"overlay\",\"size\":10,\"solidity\":0.2}},\"type\":\"barpolar\"}],\"carpet\":[{\"aaxis\":{\"endlinecolor\":\"#2a3f5f\",\"gridcolor\":\"white\",\"linecolor\":\"white\",\"minorgridcolor\":\"white\",\"startlinecolor\":\"#2a3f5f\"},\"baxis\":{\"endlinecolor\":\"#2a3f5f\",\"gridcolor\":\"white\",\"linecolor\":\"white\",\"minorgridcolor\":\"white\",\"startlinecolor\":\"#2a3f5f\"},\"type\":\"carpet\"}],\"choropleth\":[{\"colorbar\":{\"outlinewidth\":0,\"ticks\":\"\"},\"type\":\"choropleth\"}],\"contour\":[{\"colorbar\":{\"outlinewidth\":0,\"ticks\":\"\"},\"colorscale\":[[0.0,\"#0d0887\"],[0.1111111111111111,\"#46039f\"],[0.2222222222222222,\"#7201a8\"],[0.3333333333333333,\"#9c179e\"],[0.4444444444444444,\"#bd3786\"],[0.5555555555555556,\"#d8576b\"],[0.6666666666666666,\"#ed7953\"],[0.7777777777777778,\"#fb9f3a\"],[0.8888888888888888,\"#fdca26\"],[1.0,\"#f0f921\"]],\"type\":\"contour\"}],\"contourcarpet\":[{\"colorbar\":{\"outlinewidth\":0,\"ticks\":\"\"},\"type\":\"contourcarpet\"}],\"heatmap\":[{\"colorbar\":{\"outlinewidth\":0,\"ticks\":\"\"},\"colorscale\":[[0.0,\"#0d0887\"],[0.1111111111111111,\"#46039f\"],[0.2222222222222222,\"#7201a8\"],[0.3333333333333333,\"#9c179e\"],[0.4444444444444444,\"#bd3786\"],[0.5555555555555556,\"#d8576b\"],[0.6666666666666666,\"#ed7953\"],[0.7777777777777778,\"#fb9f3a\"],[0.8888888888888888,\"#fdca26\"],[1.0,\"#f0f921\"]],\"type\":\"heatmap\"}],\"heatmapgl\":[{\"colorbar\":{\"outlinewidth\":0,\"ticks\":\"\"},\"colorscale\":[[0.0,\"#0d0887\"],[0.1111111111111111,\"#46039f\"],[0.2222222222222222,\"#7201a8\"],[0.3333333333333333,\"#9c179e\"],[0.4444444444444444,\"#bd3786\"],[0.5555555555555556,\"#d8576b\"],[0.6666666666666666,\"#ed7953\"],[0.7777777777777778,\"#fb9f3a\"],[0.8888888888888888,\"#fdca26\"],[1.0,\"#f0f921\"]],\"type\":\"heatmapgl\"}],\"histogram\":[{\"marker\":{\"pattern\":{\"fillmode\":\"overlay\",\"size\":10,\"solidity\":0.2}},\"type\":\"histogram\"}],\"histogram2d\":[{\"colorbar\":{\"outlinewidth\":0,\"ticks\":\"\"},\"colorscale\":[[0.0,\"#0d0887\"],[0.1111111111111111,\"#46039f\"],[0.2222222222222222,\"#7201a8\"],[0.3333333333333333,\"#9c179e\"],[0.4444444444444444,\"#bd3786\"],[0.5555555555555556,\"#d8576b\"],[0.6666666666666666,\"#ed7953\"],[0.7777777777777778,\"#fb9f3a\"],[0.8888888888888888,\"#fdca26\"],[1.0,\"#f0f921\"]],\"type\":\"histogram2d\"}],\"histogram2dcontour\":[{\"colorbar\":{\"outlinewidth\":0,\"ticks\":\"\"},\"colorscale\":[[0.0,\"#0d0887\"],[0.1111111111111111,\"#46039f\"],[0.2222222222222222,\"#7201a8\"],[0.3333333333333333,\"#9c179e\"],[0.4444444444444444,\"#bd3786\"],[0.5555555555555556,\"#d8576b\"],[0.6666666666666666,\"#ed7953\"],[0.7777777777777778,\"#fb9f3a\"],[0.8888888888888888,\"#fdca26\"],[1.0,\"#f0f921\"]],\"type\":\"histogram2dcontour\"}],\"mesh3d\":[{\"colorbar\":{\"outlinewidth\":0,\"ticks\":\"\"},\"type\":\"mesh3d\"}],\"parcoords\":[{\"line\":{\"colorbar\":{\"outlinewidth\":0,\"ticks\":\"\"}},\"type\":\"parcoords\"}],\"pie\":[{\"automargin\":true,\"type\":\"pie\"}],\"scatter\":[{\"marker\":{\"colorbar\":{\"outlinewidth\":0,\"ticks\":\"\"}},\"type\":\"scatter\"}],\"scatter3d\":[{\"line\":{\"colorbar\":{\"outlinewidth\":0,\"ticks\":\"\"}},\"marker\":{\"colorbar\":{\"outlinewidth\":0,\"ticks\":\"\"}},\"type\":\"scatter3d\"}],\"scattercarpet\":[{\"marker\":{\"colorbar\":{\"outlinewidth\":0,\"ticks\":\"\"}},\"type\":\"scattercarpet\"}],\"scattergeo\":[{\"marker\":{\"colorbar\":{\"outlinewidth\":0,\"ticks\":\"\"}},\"type\":\"scattergeo\"}],\"scattergl\":[{\"marker\":{\"colorbar\":{\"outlinewidth\":0,\"ticks\":\"\"}},\"type\":\"scattergl\"}],\"scattermapbox\":[{\"marker\":{\"colorbar\":{\"outlinewidth\":0,\"ticks\":\"\"}},\"type\":\"scattermapbox\"}],\"scatterpolar\":[{\"marker\":{\"colorbar\":{\"outlinewidth\":0,\"ticks\":\"\"}},\"type\":\"scatterpolar\"}],\"scatterpolargl\":[{\"marker\":{\"colorbar\":{\"outlinewidth\":0,\"ticks\":\"\"}},\"type\":\"scatterpolargl\"}],\"scatterternary\":[{\"marker\":{\"colorbar\":{\"outlinewidth\":0,\"ticks\":\"\"}},\"type\":\"scatterternary\"}],\"surface\":[{\"colorbar\":{\"outlinewidth\":0,\"ticks\":\"\"},\"colorscale\":[[0.0,\"#0d0887\"],[0.1111111111111111,\"#46039f\"],[0.2222222222222222,\"#7201a8\"],[0.3333333333333333,\"#9c179e\"],[0.4444444444444444,\"#bd3786\"],[0.5555555555555556,\"#d8576b\"],[0.6666666666666666,\"#ed7953\"],[0.7777777777777778,\"#fb9f3a\"],[0.8888888888888888,\"#fdca26\"],[1.0,\"#f0f921\"]],\"type\":\"surface\"}],\"table\":[{\"cells\":{\"fill\":{\"color\":\"#EBF0F8\"},\"line\":{\"color\":\"white\"}},\"header\":{\"fill\":{\"color\":\"#C8D4E3\"},\"line\":{\"color\":\"white\"}},\"type\":\"table\"}]},\"layout\":{\"annotationdefaults\":{\"arrowcolor\":\"#2a3f5f\",\"arrowhead\":0,\"arrowwidth\":1},\"autotypenumbers\":\"strict\",\"coloraxis\":{\"colorbar\":{\"outlinewidth\":0,\"ticks\":\"\"}},\"colorscale\":{\"diverging\":[[0,\"#8e0152\"],[0.1,\"#c51b7d\"],[0.2,\"#de77ae\"],[0.3,\"#f1b6da\"],[0.4,\"#fde0ef\"],[0.5,\"#f7f7f7\"],[0.6,\"#e6f5d0\"],[0.7,\"#b8e186\"],[0.8,\"#7fbc41\"],[0.9,\"#4d9221\"],[1,\"#276419\"]],\"sequential\":[[0.0,\"#0d0887\"],[0.1111111111111111,\"#46039f\"],[0.2222222222222222,\"#7201a8\"],[0.3333333333333333,\"#9c179e\"],[0.4444444444444444,\"#bd3786\"],[0.5555555555555556,\"#d8576b\"],[0.6666666666666666,\"#ed7953\"],[0.7777777777777778,\"#fb9f3a\"],[0.8888888888888888,\"#fdca26\"],[1.0,\"#f0f921\"]],\"sequentialminus\":[[0.0,\"#0d0887\"],[0.1111111111111111,\"#46039f\"],[0.2222222222222222,\"#7201a8\"],[0.3333333333333333,\"#9c179e\"],[0.4444444444444444,\"#bd3786\"],[0.5555555555555556,\"#d8576b\"],[0.6666666666666666,\"#ed7953\"],[0.7777777777777778,\"#fb9f3a\"],[0.8888888888888888,\"#fdca26\"],[1.0,\"#f0f921\"]]},\"colorway\":[\"#636efa\",\"#EF553B\",\"#00cc96\",\"#ab63fa\",\"#FFA15A\",\"#19d3f3\",\"#FF6692\",\"#B6E880\",\"#FF97FF\",\"#FECB52\"],\"font\":{\"color\":\"#2a3f5f\"},\"geo\":{\"bgcolor\":\"white\",\"lakecolor\":\"white\",\"landcolor\":\"#E5ECF6\",\"showlakes\":true,\"showland\":true,\"subunitcolor\":\"white\"},\"hoverlabel\":{\"align\":\"left\"},\"hovermode\":\"closest\",\"mapbox\":{\"style\":\"light\"},\"paper_bgcolor\":\"white\",\"plot_bgcolor\":\"#E5ECF6\",\"polar\":{\"angularaxis\":{\"gridcolor\":\"white\",\"linecolor\":\"white\",\"ticks\":\"\"},\"bgcolor\":\"#E5ECF6\",\"radialaxis\":{\"gridcolor\":\"white\",\"linecolor\":\"white\",\"ticks\":\"\"}},\"scene\":{\"xaxis\":{\"backgroundcolor\":\"#E5ECF6\",\"gridcolor\":\"white\",\"gridwidth\":2,\"linecolor\":\"white\",\"showbackground\":true,\"ticks\":\"\",\"zerolinecolor\":\"white\"},\"yaxis\":{\"backgroundcolor\":\"#E5ECF6\",\"gridcolor\":\"white\",\"gridwidth\":2,\"linecolor\":\"white\",\"showbackground\":true,\"ticks\":\"\",\"zerolinecolor\":\"white\"},\"zaxis\":{\"backgroundcolor\":\"#E5ECF6\",\"gridcolor\":\"white\",\"gridwidth\":2,\"linecolor\":\"white\",\"showbackground\":true,\"ticks\":\"\",\"zerolinecolor\":\"white\"}},\"shapedefaults\":{\"line\":{\"color\":\"#2a3f5f\"}},\"ternary\":{\"aaxis\":{\"gridcolor\":\"white\",\"linecolor\":\"white\",\"ticks\":\"\"},\"baxis\":{\"gridcolor\":\"white\",\"linecolor\":\"white\",\"ticks\":\"\"},\"bgcolor\":\"#E5ECF6\",\"caxis\":{\"gridcolor\":\"white\",\"linecolor\":\"white\",\"ticks\":\"\"}},\"title\":{\"x\":0.05},\"xaxis\":{\"automargin\":true,\"gridcolor\":\"white\",\"linecolor\":\"white\",\"ticks\":\"\",\"title\":{\"standoff\":15},\"zerolinecolor\":\"white\",\"zerolinewidth\":2},\"yaxis\":{\"automargin\":true,\"gridcolor\":\"white\",\"linecolor\":\"white\",\"ticks\":\"\",\"title\":{\"standoff\":15},\"zerolinecolor\":\"white\",\"zerolinewidth\":2}}}},                        {\"responsive\": true}                    ).then(function(){\n                            \nvar gd = document.getElementById('ca63a3ce-1ba7-4e33-951e-f2629bea7ca0');\nvar x = new MutationObserver(function (mutations, observer) {{\n        var display = window.getComputedStyle(gd).display;\n        if (!display || display === 'none') {{\n            console.log([gd, 'removed!']);\n            Plotly.purge(gd);\n            observer.disconnect();\n        }}\n}});\n\n// Listen for the removal of the full notebook cells\nvar notebookContainer = gd.closest('#notebook-container');\nif (notebookContainer) {{\n    x.observe(notebookContainer, {childList: true});\n}}\n\n// Listen for the clearing of the current output cell\nvar outputEl = gd.closest('.output');\nif (outputEl) {{\n    x.observe(outputEl, {childList: true});\n}}\n\n                        })                };                            </script>        </div>\n</body>\n</html>"
     },
     "metadata": {},
     "output_type": "display_data"
    }
   ],
   "execution_count": null
  },
  {
   "cell_type": "code",
   "metadata": {
    "tags": [],
    "cell_id": "00022-40b6e272-18f9-446e-82b2-096840b64d7d",
    "deepnote_to_be_reexecuted": false,
    "source_hash": "6681aee1",
    "execution_start": 1634263487704,
    "execution_millis": 285,
    "deepnote_cell_type": "code"
   },
   "source": "# Se agrupa y prepara el dataset de las inversiones al primer trimestre del 2021 per capita\ndf_dummy = df_inversion_ods_4.copy()\n\n# Se agrupa el presupuesto para cada municipio y se le da el formato de millones\n# de pesos, por eso se divide entre un millón\ndf_choropleth = df_dummy.groupby(\"Municipio\", as_index=False).sum()\n\n# Se cambian los nombres de los municipios para que se ajusten a los nombres del geojson\ndf_choropleth[\"Municipio\"] = df_choropleth[\"Municipio\"].str.replace(\"Jérecuaro\", \"Jerécuaro\")\n\n# Se hace el cálculo per cápita\ndf_choropleth_poblacion = df_choropleth.join(df_escuela.set_index(\"Municipio\")[\"Matricula\"], on=\"Municipio\")\ndf_choropleth_poblacion[\"Monto por estudiante\"] = round(df_choropleth_poblacion[\"Monto\"].copy()/(df_choropleth_poblacion[\"Matricula\"].copy()), 2)\n\n# Se cambian los nombres de los municipios para que se ajusten a los nombres del geojson\ndf_choropleth_poblacion[\"Municipio\"] = df_choropleth_poblacion[\"Municipio\"].str.replace(\" de la Victoria\", \"\")\n\n# Se hace el mapa\nfig = px.choropleth(df_choropleth_poblacion, geojson=guanajuato, locations='Municipio',\n                    featureidkey=\"properties.mun_name\",\n                    color='Monto por estudiante',\n                    color_continuous_scale=\"tempo\", \n                    range_color=(0, 3.2e3), \n                    labels={'Monto por estudiante':'Presupuesto por estudiante (MXN)'}\n                    )\n\n# Se centra el mapa en Guanajuato\nfig.update_geos(fitbounds=\"locations\", visible=False)\n\n# Se configura el margen y el tamaño de la letra\nfig.update_layout(margin={\"r\":0,\"t\":0,\"l\":0,\"b\":0})\nfig.update_layout(font_size=15)\n\n# Se guarda el html de la gráfica interactiva\nplotly.offline.plot(fig, filename='/work/choropleth_por_estudiante_ods_4.html')\n\n# Se uestra la gráfica\nfig.show()",
   "outputs": [
    {
     "data": {
      "text/html": "<html>\n<head><meta charset=\"utf-8\" /></head>\n<body>\n    <div>            <script src=\"https://cdnjs.cloudflare.com/ajax/libs/mathjax/2.7.5/MathJax.js?config=TeX-AMS-MML_SVG\"></script><script type=\"text/javascript\">if (window.MathJax) {MathJax.Hub.Config({SVG: {font: \"STIX-Web\"}});}</script>                <script type=\"text/javascript\">window.PlotlyConfig = {MathJaxConfig: 'local'};</script>\n        <script src=\"https://cdn.plot.ly/plotly-2.4.2.min.js\"></script>                <div id=\"252a54a6-5fe8-4077-826d-b20fe768ff21\" class=\"plotly-graph-div\" style=\"height:525px; width:100%;\"></div>            <script type=\"text/javascript\">                                    window.PLOTLYENV=window.PLOTLYENV || {};                                    if (document.getElementById(\"252a54a6-5fe8-4077-826d-b20fe768ff21\")) {                    Plotly.newPlot(                        \"252a54a6-5fe8-4077-826d-b20fe768ff21\",                        [{\"coloraxis\":\"coloraxis\",\"featureidkey\":\"properties.mun_name\",\"geo\":\"geo\",\"geojson\":{\"crs\":{\"properties\":{\"name\":\"urn:ogc:def:crs:OGC:1.3:CRS84\"},\"type\":\"name\"},\"features\":[{\"geometry\":{\"coordinates\":[[[-100.86051359054179,20.66102875813899],[-100.85195524900254,20.681397903669357],[-100.8842867614841,20.69794783441278],[-100.95687417676135,20.69740223230036],[-100.98001339647854,20.730502093787205],[-100.9670173963634,20.77978815127586],[-100.98888871363035,20.78851778507459],[-100.98857173801778,20.811433073796252],[-100.95402139624827,20.799247959952194],[-100.91376549345259,20.807795726380114],[-100.8896753468977,20.793428204086375],[-100.80377495589276,20.80815946112173],[-100.78634129720173,20.78215242709635],[-100.71819154050038,20.831256617214198],[-100.67761866209216,20.79997542943542],[-100.63229114949546,20.792336999861533],[-100.61549144202954,20.76305635316163],[-100.61897817376774,20.715952704122657],[-100.63514393000852,20.66684851400481],[-100.66684149126496,20.688672598501633],[-100.7226291990763,20.679761097332097],[-100.74957212614426,20.65248099171107],[-100.80948051691892,20.688308863760017],[-100.82501232193458,20.66502984029674],[-100.86051359054179,20.66102875813899]]],\"type\":\"Polygon\"},\"properties\":{\"id\":null,\"mun_code\":9,\"mun_name\":\"Comonfort\",\"state_code\":11},\"type\":\"Feature\"},{\"geometry\":{\"coordinates\":[[[-100.63514393000852,20.66684851400481],[-100.67603378402933,20.618108058628575],[-100.69822207690883,20.621199803932292],[-100.71311993069936,20.56773079691508],[-100.75781349207094,20.537358945990334],[-100.74893817491913,20.48516301056877],[-100.69283349149524,20.46843121245454],[-100.69093163781986,20.423873706606862],[-100.73784402847939,20.37386017963498],[-100.78222061423838,20.374951383859823],[-100.7847564191389,20.35603717729591],[-100.82374441948431,20.37513325123063],[-100.844347834301,20.391865049344858],[-100.8265971999974,20.431330268809944],[-100.85195524900254,20.439514300496253],[-100.84688363920152,20.484253673714736],[-100.90901085926413,20.51571672886432],[-100.91091271293952,20.565548388465395],[-100.91122968855208,20.56936760325234],[-100.87414354188205,20.58500819714173],[-100.88492071270923,20.62883823350618],[-100.86051359054179,20.66102875813899],[-100.82501232193458,20.66502984029674],[-100.80948051691892,20.688308863760017],[-100.74957212614426,20.65248099171107],[-100.7226291990763,20.679761097332097],[-100.66684149126496,20.688672598501633],[-100.63514393000852,20.66684851400481]]],\"type\":\"Polygon\"},\"properties\":{\"id\":null,\"mun_code\":7,\"mun_name\":\"Celaya\",\"state_code\":11},\"type\":\"Feature\"},{\"geometry\":{\"coordinates\":[[[-101.78576540361712,21.048769992699185],[-101.82094969661176,21.0358574093719],[-101.83362872111434,21.053316676969356],[-101.8694469653341,21.03822168519239],[-101.85645096521897,20.996937792019235],[-101.88751457525028,20.902184891828867],[-101.90304638026592,20.826164330831606],[-101.99623721035985,20.83507583200114],[-102.05392677184656,20.815434155954],[-102.06755672318683,20.771604119589554],[-102.07389623543811,20.776514538601337],[-102.08752618677838,20.778878814421827],[-102.0802357476894,20.827983004539675],[-102.05487769868425,20.846351608991167],[-101.93727974642287,20.95565389884608],[-101.90875194129208,20.99839273098569],[-101.88688062402514,21.061136973914053],[-101.87166579462206,21.095328039625738],[-101.81777994048612,21.10678568398657],[-101.80890462333431,21.051861738002902],[-101.78576540361712,21.048769992699185]]],\"type\":\"Polygon\"},\"properties\":{\"id\":null,\"mun_code\":25,\"mun_name\":\"Pur\\u00edsima del Rinc\\u00f3n\",\"state_code\":11},\"type\":\"Feature\"},{\"geometry\":{\"coordinates\":[[[-101.04055573847833,21.32593586580882],[-101.05164988491809,21.28847118742261],[-101.08746812913786,21.2802871557363],[-101.08334744617451,21.313932619335567],[-101.11155827569274,21.29811015807537],[-101.10585271466658,21.257917469127058],[-101.18477964219511,21.23354724143894],[-101.20379817894897,21.20754020741356],[-101.29572110659264,21.202811655772585],[-101.33312422887522,21.145705301339234],[-101.3866931073986,21.13843060650696],[-101.37306315605834,21.176259019634784],[-101.39081379036193,21.212450626425348],[-101.44374871766018,21.254098254340114],[-101.49826852302125,21.255189458564956],[-101.52267564518871,21.232274169843294],[-101.53725652336666,21.272466858791606],[-101.60825906058108,21.313932619335567],[-101.63266618274854,21.326845202662852],[-101.64597915847624,21.3281182742585],[-101.6428094023506,21.354852777767107],[-101.6792615977955,21.39322679300735],[-101.59684793852877,21.4210525007408],[-101.5708559382985,21.418506357549504],[-101.52647935253948,21.431782675618404],[-101.53091701111538,21.393772395119772],[-101.50080432792177,21.378859270713612],[-101.4053946685399,21.42050689862838],[-101.37116130238294,21.39740974253591],[-101.32868657029933,21.409776723750774],[-101.33946374112651,21.463427598138793],[-101.31695847263444,21.507257634503244],[-101.28589486260314,21.523261963134246],[-101.32203008243548,21.55599808987948],[-101.3635538876814,21.561454111003684],[-101.33819583867626,21.677667360949258],[-101.40476071731477,21.67057453348779],[-101.43994501030942,21.666755318700847],[-101.44343174204762,21.73586491960745],[-101.42694901019428,21.75496099354217],[-101.42314530284351,21.824979931302803],[-101.36608969258192,21.839347453596545],[-101.31949427753496,21.835346371438796],[-101.29191739924187,21.812794817458744],[-101.21711115467667,21.81588656276246],[-101.21964695957719,21.80224650995195],[-101.16132344686535,21.757507136733466],[-101.05925729961963,21.765509301048965],[-100.98159827454137,21.75296045246329],[-100.91249759100234,21.713677100369015],[-100.90235437140028,21.682032177848622],[-100.85322315145281,21.67421188090393],[-100.83452159031151,21.664572910251167],[-100.8576608100287,21.618924200178647],[-100.8728756394318,21.594372105119724],[-100.93024822530595,21.59855505464828],[-100.93405193265671,21.56163597837449],[-101.004420518646,21.539630026506863],[-101.00949212844702,21.493799449063538],[-101.03960481164064,21.445422728428916],[-101.02375603101243,21.42159810285322],[-101.04182364092858,21.36558295264471],[-101.04055573847833,21.32593586580882]]],\"type\":\"Polygon\"},\"properties\":{\"id\":null,\"mun_code\":30,\"mun_name\":\"San Felipe\",\"state_code\":11},\"type\":\"Feature\"},{\"geometry\":{\"coordinates\":[[[-100.1187906571412,21.228636822427156],[-100.13051875480609,21.215542371729065],[-100.14890334033483,21.245914222653806],[-100.12576412061762,21.258099336497864],[-100.1527070476856,21.30447551605361],[-100.10516070580094,21.37140270851053],[-100.1321036328689,21.407230580559478],[-100.083289388534,21.402683896289307],[-100.0921647056858,21.463427598138793],[-100.05793133952885,21.495618122771607],[-100.06268597371732,21.523261963134246],[-99.95745007034596,21.526171841067157],[-99.9650574850475,21.505984562907596],[-99.94413709461826,21.461427057059918],[-99.9064169967231,21.447968871620212],[-99.86742899637768,21.47343030353317],[-99.81702987397995,21.461608924430728],[-99.77772489802197,21.495072520659185],[-99.77899280047222,21.394863599344614],[-99.82970889848252,21.37722246437635],[-99.859187630451,21.34030338810256],[-99.87757221597974,21.261554816543196],[-99.90419816743514,21.18517052080432],[-99.94794080196903,21.212450626425348],[-99.98661182670187,21.218270382291166],[-100.0113359244819,21.189535337703685],[-100.07251221770682,21.229182424539577],[-100.1187906571412,21.228636822427156]]],\"type\":\"Polygon\"},\"properties\":{\"id\":null,\"mun_code\":45,\"mun_name\":\"Xich\\u00fa\",\"state_code\":11},\"type\":\"Feature\"},{\"geometry\":{\"coordinates\":[[[-100.29376119527673,21.09223629432202],[-100.4557357332971,21.10551261239092],[-100.45922246503532,21.114969715672878],[-100.4852144652656,21.178623295455274],[-100.44369066001967,21.19208148089498],[-100.40565358651195,21.169529926914933],[-100.35208470798857,21.210813820088084],[-100.31499856131853,21.20535779896388],[-100.29122539037621,21.168256855319285],[-100.24019231675335,21.120243869426275],[-100.25382226809361,21.08714400793943],[-100.29376119527673,21.09223629432202]]],\"type\":\"Polygon\"},\"properties\":{\"id\":null,\"mun_code\":13,\"mun_name\":\"Doctor Mora\",\"state_code\":11},\"type\":\"Feature\"},{\"geometry\":{\"coordinates\":[[[-100.13051875480609,21.215542371729065],[-100.1187906571412,21.228636822427156],[-100.07251221770682,21.229182424539577],[-100.0113359244819,21.189535337703685],[-99.99643807069137,21.18244251024222],[-100.02655075388498,21.073503955128917],[-100.01513963183267,21.05095240114887],[-100.0547615834032,21.050043064294833],[-100.07980265679579,21.067502331892292],[-100.07314616893194,21.092781896434442],[-100.11023231560196,21.10678568398657],[-100.10801348631402,21.126245492662903],[-100.1527070476856,21.155889874104417],[-100.13051875480609,21.215542371729065]]],\"type\":\"Polygon\"},\"properties\":{\"id\":null,\"mun_code\":34,\"mun_name\":\"Santa Catarina\",\"state_code\":11},\"type\":\"Feature\"},{\"geometry\":{\"coordinates\":[[[-100.1527070476856,21.155889874104417],[-100.10801348631402,21.126245492662903],[-100.11023231560196,21.10678568398657],[-100.07314616893194,21.092781896434442],[-100.07980265679579,21.067502331892292],[-100.0547615834032,21.050043064294833],[-100.01513963183267,21.05095240114887],[-100.01165290009446,21.040767828383686],[-100.02243007092164,21.01439705961669],[-100.0611010956545,21.028400847168818],[-100.06078412004193,21.00584929318877],[-100.09248168129837,20.931829273270385],[-100.1882083162928,20.93255674275361],[-100.24589787777951,20.963292328419968],[-100.25445621931875,21.044223308429014],[-100.26745221943389,21.056954024385494],[-100.29376119527673,21.09223629432202],[-100.25382226809361,21.08714400793943],[-100.24019231675335,21.120243869426275],[-100.16348421851278,21.136430065428087],[-100.1527070476856,21.155889874104417]]],\"type\":\"Polygon\"},\"properties\":{\"id\":null,\"mun_code\":40,\"mun_name\":\"Tierra Blanca\",\"state_code\":11},\"type\":\"Feature\"},{\"geometry\":{\"coordinates\":[[[-101.08049466566145,20.08287238634403],[-101.132478666122,20.060684567105593],[-101.17400247136793,20.09778551075019],[-101.19650773986,20.057047219689455],[-101.19967749598564,20.106151409807303],[-101.17907408116895,20.126702422708476],[-101.20284725211128,20.15016331354256],[-101.2079188619123,20.19290214568217],[-101.15942159318996,20.160347886307743],[-101.12613915387071,20.164530835836302],[-101.08049466566145,20.08287238634403]]],\"type\":\"Polygon\"},\"properties\":{\"id\":null,\"mun_code\":41,\"mun_name\":\"Uriangato\",\"state_code\":11},\"type\":\"Feature\"},{\"geometry\":{\"coordinates\":[[[-100.24019231675335,21.120243869426275],[-100.29122539037621,21.168256855319285],[-100.31499856131853,21.20535779896388],[-100.35208470798857,21.210813820088084],[-100.38251436679475,21.264282827105298],[-100.37268812280524,21.300656301266667],[-100.34257543961164,21.32229851839268],[-100.36412978126602,21.333756162753513],[-100.36634861055396,21.372675780106178],[-100.34447729328703,21.423053041819674],[-100.29883280507775,21.41923382703273],[-100.29978373191545,21.437966166225834],[-100.22656236541309,21.468519884521385],[-100.24811670706747,21.51089498191938],[-100.21229846284768,21.597100115681826],[-100.20025338957025,21.615468720133318],[-100.22339260928744,21.6654822471052],[-100.18060090159125,21.650205387957424],[-100.16728792586355,21.60146493258119],[-100.14700148665943,21.618014863324614],[-100.07599894944502,21.557816763587546],[-100.06268597371732,21.523261963134246],[-100.05793133952885,21.495618122771607],[-100.0921647056858,21.463427598138793],[-100.083289388534,21.402683896289307],[-100.1321036328689,21.407230580559478],[-100.10516070580094,21.37140270851053],[-100.1527070476856,21.30447551605361],[-100.12576412061762,21.258099336497864],[-100.14890334033483,21.245914222653806],[-100.13051875480609,21.215542371729065],[-100.1527070476856,21.155889874104417],[-100.16348421851278,21.136430065428087],[-100.24019231675335,21.120243869426275]]],\"type\":\"Polygon\"},\"properties\":{\"id\":null,\"mun_code\":43,\"mun_name\":\"Victoria\",\"state_code\":11},\"type\":\"Feature\"},{\"geometry\":{\"coordinates\":[[[-99.77899280047222,21.394863599344614],[-99.79452460548788,21.357398920958403],[-99.75775543443041,21.292108534838746],[-99.73715201961373,21.312841415110725],[-99.67375689710086,21.296837086479723],[-99.69879797049344,21.26755643977982],[-99.69372636069241,21.23591151725943],[-99.73873689767655,21.235547782517816],[-99.82939192286996,21.157890415183292],[-99.88834938680692,21.169529926914933],[-99.90419816743514,21.18517052080432],[-99.87757221597974,21.261554816543196],[-99.859187630451,21.34030338810256],[-99.82970889848252,21.37722246437635],[-99.77899280047222,21.394863599344614]]],\"type\":\"Polygon\"},\"properties\":{\"id\":null,\"mun_code\":6,\"mun_name\":\"Atarjea\",\"state_code\":11},\"type\":\"Feature\"},{\"geometry\":{\"coordinates\":[[[-100.82786510244766,20.352763564621387],[-100.80250705344251,20.32366478529229],[-100.8221595414215,20.321118642100995],[-100.84339690746332,20.279289146815422],[-100.80599378518072,20.228730017731117],[-100.78982802893994,20.23218549777645],[-100.78158666301326,20.173078602264223],[-100.83483856592407,20.133977117540752],[-100.86875495646845,20.122701340550726],[-100.89664881037412,20.109425022481826],[-100.88713954199719,20.084327325310483],[-100.92454266427978,20.028312175101973],[-100.97018715248905,20.005215019009505],[-101.0142467626355,20.045589575328624],[-100.99269242098111,20.064685649263343],[-101.01171095773498,20.08159931474838],[-101.00061681129523,20.109425022481826],[-100.97906246964085,20.131612841720262],[-100.92866334724312,20.150527048284175],[-100.94165934735825,20.18708238981635],[-101.02122022611191,20.210543280650434],[-101.02026929927422,20.200176840514445],[-101.05196686053065,20.215999301774637],[-101.03453320183961,20.25037223485713],[-101.04182364092858,20.277288605736544],[-101.00568842109625,20.285290770052047],[-100.98413407944187,20.32821146956246],[-100.91027876171438,20.341305920260556],[-100.89886763966207,20.378406863905152],[-100.88016607852077,20.354945973071068],[-100.82786510244766,20.352763564621387]]],\"type\":\"Polygon\"},\"properties\":{\"id\":null,\"mun_code\":28,\"mun_name\":\"Salvatierra\",\"state_code\":11},\"type\":\"Feature\"},{\"geometry\":{\"coordinates\":[[[-100.52864012418691,21.071139679308427],[-100.45922246503532,21.114969715672878],[-100.4557357332971,21.10551261239092],[-100.29376119527673,21.09223629432202],[-100.26745221943389,21.056954024385494],[-100.25445621931875,21.044223308429014],[-100.24589787777951,20.963292328419968],[-100.26364851208311,20.970930757993855],[-100.2655503657585,20.92928313007909],[-100.3340170980724,20.89054538009723],[-100.41421192805117,20.887999236905934],[-100.45383387962173,20.900184350749992],[-100.47253544076302,20.928191925854247],[-100.51342529478381,21.003303149997475],[-100.52864012418691,21.071139679308427]]],\"type\":\"Polygon\"},\"properties\":{\"id\":null,\"mun_code\":32,\"mun_name\":\"San Jos\\u00e9 Iturbide\",\"state_code\":11},\"type\":\"Feature\"},{\"geometry\":{\"coordinates\":[[[-101.400957009964,20.51571672886432],[-101.4187076442676,20.549362192463587],[-101.3467541802155,20.592646626715617],[-101.31188686283342,20.579915910759137],[-101.31315476528367,20.539177619698403],[-101.3413655948019,20.54627044715987],[-101.36704061941961,20.504077217132682],[-101.400957009964,20.51571672886432]]],\"type\":\"Polygon\"},\"properties\":{\"id\":null,\"mun_code\":24,\"mun_name\":\"Pueblo Nuevo\",\"state_code\":11},\"type\":\"Feature\"},{\"geometry\":{\"coordinates\":[[[-101.02026929927422,20.200176840514445],[-101.02122022611191,20.210543280650434],[-100.94165934735825,20.18708238981635],[-100.92866334724312,20.150527048284175],[-100.97906246964085,20.131612841720262],[-101.00061681129523,20.109425022481826],[-101.04118968970346,20.11960959524701],[-101.01044305528472,20.18526371610828],[-101.02026929927422,20.200176840514445]]],\"type\":\"Polygon\"},\"properties\":{\"id\":null,\"mun_code\":36,\"mun_name\":\"Santiago Maravat\\u00edo\",\"state_code\":11},\"type\":\"Feature\"},{\"geometry\":{\"coordinates\":[[[-100.46999963586251,20.386772762962266],[-100.50867066059536,20.33239441909102],[-100.54227007552717,20.334394960169895],[-100.58601271006106,20.31038846722339],[-100.59298617353747,20.32548345900036],[-100.65352851553726,20.348216880351217],[-100.65543036921265,20.403140826334884],[-100.69093163781986,20.423873706606862],[-100.69283349149524,20.46843121245454],[-100.63672880807135,20.474614703061974],[-100.60376334436467,20.506623360323978],[-100.56287349034386,20.512988718302218],[-100.55748490493026,20.530993588012095],[-100.51913085580998,20.526992505854345],[-100.50518392885715,20.5550000809586],[-100.50803670937023,20.518262872055615],[-100.4887011970038,20.473341631466326],[-100.4887011970038,20.42569238031493],[-100.46999963586251,20.386772762962266]]],\"type\":\"Polygon\"},\"properties\":{\"id\":null,\"mun_code\":4,\"mun_name\":\"Apaseo el Alto\",\"state_code\":11},\"type\":\"Feature\"},{\"geometry\":{\"coordinates\":[[[-100.48901817261637,20.594465300423686],[-100.4852144652656,20.55372700936295],[-100.50518392885715,20.5550000809586],[-100.51913085580998,20.526992505854345],[-100.55748490493026,20.530993588012095],[-100.56287349034386,20.512988718302218],[-100.60376334436467,20.506623360323978],[-100.63672880807135,20.474614703061974],[-100.69283349149524,20.46843121245454],[-100.74893817491913,20.48516301056877],[-100.75781349207094,20.537358945990334],[-100.71311993069936,20.56773079691508],[-100.69822207690883,20.621199803932292],[-100.67603378402933,20.618108058628575],[-100.63514393000852,20.66684851400481],[-100.61897817376774,20.715952704122657],[-100.59647290527568,20.717225775718305],[-100.58220900271029,20.676851219399186],[-100.56223953911874,20.671213330904173],[-100.55114539267898,20.633566785147156],[-100.5295910510246,20.638659071529748],[-100.48901817261637,20.594465300423686]]],\"type\":\"Polygon\"},\"properties\":{\"id\":null,\"mun_code\":5,\"mun_name\":\"Apaseo el Grande\",\"state_code\":11},\"type\":\"Feature\"},{\"geometry\":{\"coordinates\":[[[-101.07859281198606,20.300567629199822],[-101.04182364092858,20.277288605736544],[-101.03453320183961,20.25037223485713],[-101.05196686053065,20.215999301774637],[-101.02026929927422,20.200176840514445],[-101.01044305528472,20.18526371610828],[-101.04118968970346,20.11960959524701],[-101.00061681129523,20.109425022481826],[-101.01171095773498,20.08159931474838],[-101.08049466566145,20.08287238634403],[-101.12613915387071,20.164530835836302],[-101.15942159318996,20.160347886307743],[-101.2079188619123,20.19290214568217],[-101.20284725211128,20.15016331354256],[-101.26624237462416,20.15525559992515],[-101.2684612039121,20.134158984911558],[-101.28811369189108,20.12415627951718],[-101.324565887336,20.084145457939677],[-101.3182263750847,20.04868132063234],[-101.29191739924187,20.03595060467586],[-101.32836959468676,20.03194952251811],[-101.40254188802682,20.044862105845397],[-101.40856442466554,20.122883207921532],[-101.38922891229912,20.130339770124614],[-101.42251135161837,20.163257764240655],[-101.42029252233043,20.2016317794809],[-101.36323691206884,20.19563015624427],[-101.36133505839345,20.248917295890678],[-101.34390139970242,20.27128698249992],[-101.24658988664515,20.293474801738355],[-101.20633398384949,20.246371152699382],[-101.15720276390202,20.27419686043283],[-101.11219222691787,20.276924870994932],[-101.11662988549378,20.30238630290789],[-101.07859281198606,20.300567629199822]]],\"type\":\"Polygon\"},\"properties\":{\"id\":null,\"mun_code\":46,\"mun_name\":\"Yuriria\",\"state_code\":11},\"type\":\"Feature\"},{\"geometry\":{\"coordinates\":[[[-100.40343475722399,20.36058386156608],[-100.38663504975808,20.30693298717806],[-100.3615939763655,20.285836372164468],[-100.40850636702503,20.277106738365738],[-100.44400763563223,20.17562474545552],[-100.40438568406168,20.179989562354884],[-100.42340422081554,20.149981446171754],[-100.38092948873192,20.129794168012193],[-100.38980480588373,20.080689977894345],[-100.35810724462729,20.064685649263343],[-100.36286187881575,19.98993815986173],[-100.44844529420813,19.982663465029454],[-100.45510178207198,20.00666995797596],[-100.49440675802995,20.02321988871938],[-100.4931388555797,20.06541311874657],[-100.5020141727315,20.0821449168608],[-100.5020141727315,20.082508651602414],[-100.5020141727315,20.0821449168608],[-100.50930461182048,20.079053171557085],[-100.5162780752969,20.085418529535325],[-100.51754597774716,20.086691601130973],[-100.52230061193562,20.088874009580653],[-100.53751544133871,20.10233219502036],[-100.53783241695128,20.10233219502036],[-100.55431514880462,20.081963049489993],[-100.58189202709772,20.081963049489993],[-100.60693310049031,20.154528130441925],[-100.65162666186188,20.15434626307112],[-100.6300723202075,20.19854003417718],[-100.67666773525445,20.228730017731117],[-100.66969427177804,20.27765234047816],[-100.68744490608165,20.32148237684261],[-100.65352851553726,20.348216880351217],[-100.59298617353747,20.32548345900036],[-100.58601271006106,20.31038846722339],[-100.54227007552717,20.334394960169895],[-100.50867066059536,20.33239441909102],[-100.46999963586251,20.386772762962266],[-100.40945729386272,20.375315118601435],[-100.40343475722399,20.36058386156608]]],\"type\":\"Polygon\"},\"properties\":{\"id\":null,\"mun_code\":19,\"mun_name\":\"Jer\\u00e9cuaro\",\"state_code\":11},\"type\":\"Feature\"},{\"geometry\":{\"coordinates\":[[[-100.78158666301326,20.173078602264223],[-100.78982802893994,20.23218549777645],[-100.80599378518072,20.228730017731117],[-100.84339690746332,20.279289146815422],[-100.8221595414215,20.321118642100995],[-100.80250705344251,20.32366478529229],[-100.82786510244766,20.352763564621387],[-100.82374441948431,20.37513325123063],[-100.7847564191389,20.35603717729591],[-100.78222061423838,20.374951383859823],[-100.73784402847939,20.37386017963498],[-100.69093163781986,20.423873706606862],[-100.65543036921265,20.403140826334884],[-100.65352851553726,20.348216880351217],[-100.68744490608165,20.32148237684261],[-100.66969427177804,20.27765234047816],[-100.67666773525445,20.228730017731117],[-100.72643290642706,20.183263175029406],[-100.78158666301326,20.173078602264223]]],\"type\":\"Polygon\"},\"properties\":{\"id\":null,\"mun_code\":39,\"mun_name\":\"Tarimoro\",\"state_code\":11},\"type\":\"Feature\"},{\"geometry\":{\"coordinates\":[[[-100.35081680553832,20.288382515355764],[-100.32355690285777,20.252009041194395],[-100.35525446411421,20.219091047078354],[-100.35588841533934,20.182353838175374],[-100.38092948873192,20.129794168012193],[-100.42340422081554,20.149981446171754],[-100.40438568406168,20.179989562354884],[-100.44400763563223,20.17562474545552],[-100.40850636702503,20.277106738365738],[-100.3615939763655,20.285836372164468],[-100.38663504975808,20.30693298717806],[-100.35081680553832,20.288382515355764]]],\"type\":\"Polygon\"},\"properties\":{\"id\":null,\"mun_code\":10,\"mun_name\":\"Coroneo\",\"state_code\":11},\"type\":\"Feature\"},{\"geometry\":{\"coordinates\":[[[-100.5083536849828,20.05268240279009],[-100.49440675802995,20.02321988871938],[-100.45510178207198,20.00666995797596],[-100.44844529420813,19.982663465029454],[-100.511840416721,19.95811136997053],[-100.53593056327588,19.92301096740481],[-100.52705524612409,19.96574979954442],[-100.5926691979249,19.966477269027646],[-100.55780188054283,19.99157496619899],[-100.60186149068927,19.98593707770398],[-100.56382441718155,20.07232407883723],[-100.53117592908742,20.07814383470305],[-100.5083536849828,20.05268240279009]]],\"type\":\"Polygon\"},\"properties\":{\"id\":null,\"mun_code\":38,\"mun_name\":\"Tarandacuao\",\"state_code\":11},\"type\":\"Feature\"},{\"geometry\":{\"coordinates\":[[[-101.03928783602808,20.509715105627695],[-100.96923622565136,20.502804145537034],[-100.90901085926413,20.51571672886432],[-100.84688363920152,20.484253673714736],[-100.85195524900254,20.439514300496253],[-100.8265971999974,20.431330268809944],[-100.844347834301,20.391865049344858],[-100.82374441948431,20.37513325123063],[-100.82786510244766,20.352763564621387],[-100.88016607852077,20.354945973071068],[-100.89886763966207,20.378406863905152],[-100.91027876171438,20.341305920260556],[-100.98413407944187,20.32821146956246],[-100.98001339647854,20.34858061509283],[-101.02122022611191,20.368949760623195],[-101.04404247021654,20.451517546969505],[-101.03928783602808,20.509715105627695]]],\"type\":\"Polygon\"},\"properties\":{\"id\":null,\"mun_code\":11,\"mun_name\":\"Cortazar\",\"state_code\":11},\"type\":\"Feature\"},{\"geometry\":{\"coordinates\":[[[-100.60186149068927,19.98593707770398],[-100.61992910060545,19.95702016574569],[-100.66050197901367,19.96447672794877],[-100.71660666243757,19.941379571856302],[-100.74703632124374,19.912826394639627],[-100.78000178495044,19.91555440520173],[-100.79204685822788,19.955565226779235],[-100.82469534632202,19.978298648130092],[-100.83578949276176,19.934650479136447],[-100.90901085926413,19.96211245212828],[-100.94768188399698,19.962476186869896],[-100.9590930060493,19.930831264349504],[-101.00315261619573,19.95301908358794],[-100.97018715248905,20.005215019009505],[-100.92454266427978,20.028312175101973],[-100.88713954199719,20.084327325310483],[-100.89664881037412,20.109425022481826],[-100.86875495646845,20.122701340550726],[-100.83483856592407,20.133977117540752],[-100.78158666301326,20.173078602264223],[-100.72643290642706,20.183263175029406],[-100.67666773525445,20.228730017731117],[-100.6300723202075,20.19854003417718],[-100.65162666186188,20.15434626307112],[-100.60693310049031,20.154528130441925],[-100.58189202709772,20.081963049489993],[-100.55431514880462,20.081963049489993],[-100.53783241695128,20.10233219502036],[-100.53751544133871,20.10233219502036],[-100.52230061193562,20.088874009580653],[-100.51754597774716,20.086691601130973],[-100.5162780752969,20.085418529535325],[-100.50930461182048,20.079053171557085],[-100.5020141727315,20.0821449168608],[-100.5020141727315,20.082508651602414],[-100.5020141727315,20.0821449168608],[-100.4931388555797,20.06541311874657],[-100.49440675802995,20.02321988871938],[-100.5083536849828,20.05268240279009],[-100.53117592908742,20.07814383470305],[-100.56382441718155,20.07232407883723],[-100.60186149068927,19.98593707770398]]],\"type\":\"Polygon\"},\"properties\":{\"id\":null,\"mun_code\":2,\"mun_name\":\"Ac\\u00e1mbaro\",\"state_code\":11},\"type\":\"Feature\"},{\"geometry\":{\"coordinates\":[[[-100.52864012418691,21.071139679308427],[-100.51342529478381,21.003303149997475],[-100.47253544076302,20.928191925854247],[-100.46999963586251,20.907095310840653],[-100.50771973375767,20.869448765083636],[-100.5020141727315,20.852898834340213],[-100.55970373421822,20.82998354561855],[-100.56414139279411,20.77451399752246],[-100.5492435390036,20.736321849653024],[-100.59647290527568,20.717225775718305],[-100.61897817376774,20.715952704122657],[-100.61549144202954,20.76305635316163],[-100.63229114949546,20.792336999861533],[-100.67761866209216,20.79997542943542],[-100.71819154050038,20.831256617214198],[-100.78634129720173,20.78215242709635],[-100.80377495589276,20.80815946112173],[-100.8896753468977,20.793428204086375],[-100.91376549345259,20.807795726380114],[-100.95402139624827,20.799247959952194],[-100.98857173801778,20.811433073796252],[-100.98888871363035,20.78851778507459],[-101.03326529938936,20.784698570287645],[-101.06718168993373,20.813979216987548],[-101.0871511535253,20.85999166180168],[-101.02946159203859,20.885453093714638],[-100.99396032343138,20.921280965763586],[-100.9616288109498,20.951834684059136],[-100.92232383499183,20.96201925682432],[-100.91027876171438,21.00584929318877],[-100.83864227327484,21.01912561125767],[-100.8541740782905,21.066592995038256],[-100.82152559019637,21.061500708655664],[-100.76510393115991,21.090781355355567],[-100.70044090619679,21.106058214503342],[-100.63641183245879,21.108604357694638],[-100.56636022208207,21.10096592812075],[-100.52864012418691,21.071139679308427]]],\"type\":\"Polygon\"},\"properties\":{\"id\":null,\"mun_code\":3,\"mun_name\":\"San Miguel de Allende\",\"state_code\":11},\"type\":\"Feature\"},{\"geometry\":{\"coordinates\":[[[-101.78576540361712,21.048769992699185],[-101.78418052555429,21.01621573332476],[-101.73061164703093,21.005121823705544],[-101.73536628121938,20.983115871837914],[-101.6684844269683,20.994027914086324],[-101.67133720748139,20.95110721457591],[-101.71286101272732,20.954380827250432],[-101.71603076885296,20.909823321402754],[-101.6970122320991,20.893818992771752],[-101.70874032976398,20.81034186957141],[-101.73473232999426,20.79488314305283],[-101.77150150105172,20.799793562064615],[-101.80795369649663,20.836167036225984],[-101.86152257502,20.845987874249552],[-101.90304638026592,20.826164330831606],[-101.88751457525028,20.902184891828867],[-101.85645096521897,20.996937792019235],[-101.8694469653341,21.03822168519239],[-101.83362872111434,21.053316676969356],[-101.82094969661176,21.0358574093719],[-101.78576540361712,21.048769992699185]]],\"type\":\"Polygon\"},\"properties\":{\"id\":null,\"mun_code\":31,\"mun_name\":\"San Francisco del Rinc\\u00f3n\",\"state_code\":11},\"type\":\"Feature\"},{\"geometry\":{\"coordinates\":[[[-101.80795369649663,20.836167036225984],[-101.77150150105172,20.799793562064615],[-101.73473232999426,20.79488314305283],[-101.74741135449683,20.78215242709635],[-101.68274832953371,20.789245254557816],[-101.70113291506243,20.72850155270833],[-101.69067271984781,20.69612916070471],[-101.74265672030836,20.689036333243244],[-101.77625613524019,20.622654742898746],[-101.80763672088406,20.607196016380165],[-101.80795369649663,20.58318952343366],[-101.84884355051743,20.57173187907283],[-101.85803584328178,20.53990508918163],[-101.89480501433925,20.5630022452741],[-101.93094023417159,20.545542977676643],[-101.92935535610877,20.56773079691508],[-101.96897730767931,20.56245664316168],[-101.95154364898828,20.60683228163855],[-101.96802638084162,20.663574901330286],[-102.01937643007705,20.67612374991596],[-102.01430482027601,20.7170439083475],[-102.03459125948014,20.741959738148037],[-102.06438696706118,20.738686125473514],[-102.06755672318683,20.771604119589554],[-102.05392677184656,20.815434155954],[-101.99623721035985,20.83507583200114],[-101.90304638026592,20.826164330831606],[-101.86152257502,20.845987874249552],[-101.80795369649663,20.836167036225984]]],\"type\":\"Polygon\"},\"properties\":{\"id\":null,\"mun_code\":8,\"mun_name\":\"Manuel Doblado\",\"state_code\":11},\"type\":\"Feature\"},{\"geometry\":{\"coordinates\":[[[-101.69067271984781,20.69612916070471],[-101.63710384132443,20.694674221738257],[-101.61745135334544,20.65648207386882],[-101.58068218228799,20.639022806271363],[-101.60540628006801,20.526992505854345],[-101.63456803642393,20.547543518755518],[-101.72237028110425,20.537904548102755],[-101.74392462275863,20.56372971475733],[-101.71159311027706,20.56409344949894],[-101.71824959814091,20.608105353234198],[-101.7566036472612,20.605377342672096],[-101.77625613524019,20.622654742898746],[-101.74265672030836,20.689036333243244],[-101.69067271984781,20.69612916070471]]],\"type\":\"Polygon\"},\"properties\":{\"id\":null,\"mun_code\":12,\"mun_name\":\"Cuer\\u00e1maro\",\"state_code\":11},\"type\":\"Feature\"},{\"geometry\":{\"coordinates\":[[[-101.31315476528367,20.539177619698403],[-101.2817741796398,20.532630394349358],[-101.27828744790159,20.502258543424613],[-101.22693739866617,20.45570049649806],[-101.13121076367173,20.48989156220975],[-101.09412461700171,20.440423637350285],[-101.11219222691787,20.401322152626815],[-101.10997339762993,20.317117559943245],[-101.07859281198606,20.300567629199822],[-101.11662988549378,20.30238630290789],[-101.11219222691787,20.276924870994932],[-101.15720276390202,20.27419686043283],[-101.20633398384949,20.246371152699382],[-101.24658988664515,20.293474801738355],[-101.34390139970242,20.27128698249992],[-101.36133505839345,20.248917295890678],[-101.39525144893784,20.248371693778257],[-101.41997554671786,20.274378727803636],[-101.45864657145071,20.26946830879185],[-101.44501662011044,20.28965558695141],[-101.45991447390097,20.323482917921485],[-101.46023144951353,20.323482917921485],[-101.45991447390097,20.323482917921485],[-101.41205115640375,20.38549969136662],[-101.38003661953475,20.415325940178942],[-101.39525144893784,20.4753421725452],[-101.36704061941961,20.504077217132682],[-101.3413655948019,20.54627044715987],[-101.31315476528367,20.539177619698403]]],\"type\":\"Polygon\"},\"properties\":{\"id\":null,\"mun_code\":42,\"mun_name\":\"Valle de Santiago\",\"state_code\":11},\"type\":\"Feature\"},{\"geometry\":{\"coordinates\":[[[-100.27759543903595,21.686578862118793],[-100.22339260928744,21.6654822471052],[-100.20025338957025,21.615468720133318],[-100.21229846284768,21.597100115681826],[-100.24811670706747,21.51089498191938],[-100.22656236541309,21.468519884521385],[-100.29978373191545,21.437966166225834],[-100.29883280507775,21.41923382703273],[-100.34447729328703,21.423053041819674],[-100.36634861055396,21.372675780106178],[-100.36412978126602,21.333756162753513],[-100.34257543961164,21.32229851839268],[-100.37268812280524,21.300656301266667],[-100.38251436679475,21.264282827105298],[-100.35208470798857,21.210813820088084],[-100.40565358651195,21.169529926914933],[-100.44369066001967,21.19208148089498],[-100.4852144652656,21.178623295455274],[-100.45922246503532,21.114969715672878],[-100.52864012418691,21.071139679308427],[-100.56636022208207,21.10096592812075],[-100.63641183245879,21.108604357694638],[-100.68237329628062,21.162437099453463],[-100.69346744272038,21.19608256305273],[-100.66303778391419,21.206085268447108],[-100.65574734482522,21.23354724143894],[-100.71660666243757,21.278832216769846],[-100.72167827223859,21.297928290704565],[-100.67223007667856,21.311932078256692],[-100.69758812568371,21.364855483161485],[-100.64306832032264,21.33630230594481],[-100.607884027328,21.334301764865934],[-100.59837475895107,21.391226251928476],[-100.63958158858443,21.40141082469366],[-100.67793563770472,21.39322679300735],[-100.70424461354756,21.45742597490217],[-100.70075788180935,21.5167147377852],[-100.74196471144272,21.511076849290188],[-100.69441836955806,21.534719607495077],[-100.73023661377783,21.535447076978304],[-100.75147397981965,21.580550184938403],[-100.71755758927526,21.549996466642853],[-100.68110539383036,21.547450323451557],[-100.6576491985006,21.524535034729894],[-100.63577788123366,21.543267373923],[-100.61485749080441,21.50580269553679],[-100.5847448076108,21.522352626280213],[-100.5340287096005,21.542358037068965],[-100.46429407483635,21.543085506552192],[-100.4557357332971,21.556179957250286],[-100.48584841649073,21.594372105119724],[-100.45953944064789,21.628381303460603],[-100.45129807472121,21.666209716588426],[-100.35018285431318,21.69148928113058],[-100.27759543903595,21.686578862118793]]],\"type\":\"Polygon\"},\"properties\":{\"id\":null,\"mun_code\":33,\"mun_name\":\"San Luis de la Paz\",\"state_code\":11},\"type\":\"Feature\"},{\"geometry\":{\"coordinates\":[[[-101.77625613524019,20.622654742898746],[-101.7566036472612,20.605377342672096],[-101.71824959814091,20.608105353234198],[-101.71159311027706,20.56409344949894],[-101.74392462275863,20.56372971475733],[-101.72237028110425,20.537904548102755],[-101.63456803642393,20.547543518755518],[-101.60540628006801,20.526992505854345],[-101.61047788986903,20.44933513851982],[-101.59494608485338,20.43205773829317],[-101.61903623140827,20.377133792309504],[-101.64597915847624,20.350399288800897],[-101.62727759733494,20.303295639761924],[-101.62569271927212,20.266922165600555],[-101.64788101215163,20.238187121013073],[-101.68591808565935,20.218363577595127],[-101.69384247597345,20.191810941457327],[-101.72744189090528,20.211452617504467],[-101.76040735461197,20.201813646851704],[-101.7965425744443,20.212725689100115],[-101.83489662356459,20.224728935573367],[-101.9147744779308,20.194175217277817],[-101.90780101445439,20.215089964920605],[-101.93981555132339,20.227093211393857],[-101.95154364898828,20.2707413803875],[-101.93474394152236,20.297475883896105],[-101.9601019905275,20.30584178295322],[-101.94647203918724,20.343124593968625],[-101.99021467372113,20.36058386156608],[-102.02539896671577,20.34730754349718],[-102.0108180885378,20.379316200759185],[-102.09640150393018,20.384044752400165],[-102.06406999144862,20.4407873720919],[-102.06121721093554,20.44478845424965],[-102.00955018608755,20.544997375564222],[-101.9841921370824,20.53481280279904],[-101.96897730767931,20.56245664316168],[-101.92935535610877,20.56773079691508],[-101.93094023417159,20.545542977676643],[-101.89480501433925,20.5630022452741],[-101.85803584328178,20.53990508918163],[-101.84884355051743,20.57173187907283],[-101.80795369649663,20.58318952343366],[-101.80763672088406,20.607196016380165],[-101.77625613524019,20.622654742898746]]],\"type\":\"Polygon\"},\"properties\":{\"id\":null,\"mun_code\":23,\"mun_name\":\"P\\u00e9njamo\",\"state_code\":11},\"type\":\"Feature\"},{\"geometry\":{\"coordinates\":[[[-101.54137720633001,20.942195713406374],[-101.58163310912568,20.976932381230483],[-101.57307476758643,21.02949205139366],[-101.49985340108408,21.010577844829747],[-101.48020091310508,21.11951639994305],[-101.47259349840354,21.152070659317474],[-101.43519037612094,21.13733940228212],[-101.43677525418377,21.098965387041876],[-101.4053946685399,21.100784060749945],[-101.40190793680169,21.071503414050042],[-101.34833905827831,21.032583796697377],[-101.35975018033064,21.01439705961669],[-101.3324902776501,20.992754842490676],[-101.34358442408985,20.923099639471655],[-101.31854335069727,20.883998154748184],[-101.35911622910551,20.839986251012927],[-101.40856442466554,20.84380546579987],[-101.4107832539535,20.800702898918647],[-101.45579379093763,20.79997542943542],[-101.46023144951353,20.847079078474394],[-101.50429105965998,20.85126202800295],[-101.49921944985894,20.91600681201019],[-101.54137720633001,20.942195713406374]]],\"type\":\"Polygon\"},\"properties\":{\"id\":null,\"mun_code\":37,\"mun_name\":\"Silao\",\"state_code\":11},\"type\":\"Feature\"},{\"geometry\":{\"coordinates\":[[[-101.52711330376461,20.749052565609503],[-101.54169418194257,20.731593298012047],[-101.50048735230921,20.659755686543342],[-101.49763457179613,20.59592023939014],[-101.47227652279098,20.572641215926865],[-101.50746081578562,20.561547306307645],[-101.49383086444536,20.508623901402853],[-101.44438266888531,20.500985471828965],[-101.400957009964,20.51571672886432],[-101.36704061941961,20.504077217132682],[-101.39525144893784,20.4753421725452],[-101.38003661953475,20.415325940178942],[-101.41205115640375,20.38549969136662],[-101.45769564461301,20.418053950741044],[-101.51316637681178,20.397866672581486],[-101.57497662126183,20.39113757986163],[-101.56388247482208,20.320391172617768],[-101.62727759733494,20.303295639761924],[-101.64597915847624,20.350399288800897],[-101.61903623140827,20.377133792309504],[-101.59494608485338,20.43205773829317],[-101.61047788986903,20.44933513851982],[-101.60540628006801,20.526992505854345],[-101.58068218228799,20.639022806271363],[-101.61745135334544,20.65648207386882],[-101.63710384132443,20.694674221738257],[-101.62347388998417,20.72104499050525],[-101.64534520725111,20.743232809743684],[-101.60065164587954,20.776878273342952],[-101.58924052382721,20.754690454104516],[-101.52711330376461,20.749052565609503]]],\"type\":\"Polygon\"},\"properties\":{\"id\":null,\"mun_code\":1,\"mun_name\":\"Abasolo\",\"state_code\":11},\"type\":\"Feature\"},{\"geometry\":{\"coordinates\":[[[-101.41205115640375,20.38549969136662],[-101.45991447390097,20.323482917921485],[-101.46023144951353,20.323482917921485],[-101.50048735230921,20.311479671448232],[-101.52330959641384,20.33239441909102],[-101.56388247482208,20.320391172617768],[-101.57497662126183,20.39113757986163],[-101.51316637681178,20.397866672581486],[-101.45769564461301,20.418053950741044],[-101.41205115640375,20.38549969136662]]],\"type\":\"Polygon\"},\"properties\":{\"id\":null,\"mun_code\":16,\"mun_name\":\"Huan\\u00edmaro\",\"state_code\":11},\"type\":\"Feature\"},{\"geometry\":{\"coordinates\":[[[-100.75147397981965,21.580550184938403],[-100.73023661377783,21.535447076978304],[-100.69441836955806,21.534719607495077],[-100.74196471144272,21.511076849290188],[-100.70075788180935,21.5167147377852],[-100.70424461354756,21.45742597490217],[-100.67793563770472,21.39322679300735],[-100.63958158858443,21.40141082469366],[-100.59837475895107,21.391226251928476],[-100.607884027328,21.334301764865934],[-100.64306832032264,21.33630230594481],[-100.69758812568371,21.364855483161485],[-100.67223007667856,21.311932078256692],[-100.72167827223859,21.297928290704565],[-100.7990203217043,21.32229851839268],[-100.89981856649976,21.32411719210075],[-100.94641398154673,21.305202985536837],[-100.99808100639471,21.34994235875532],[-101.01741651876114,21.321025446797034],[-101.04055573847833,21.32593586580882],[-101.04182364092858,21.36558295264471],[-101.02375603101243,21.42159810285322],[-101.03960481164064,21.445422728428916],[-101.00949212844702,21.493799449063538],[-101.004420518646,21.539630026506863],[-100.93405193265671,21.56163597837449],[-100.93024822530595,21.59855505464828],[-100.8728756394318,21.594372105119724],[-100.8576608100287,21.618924200178647],[-100.80948051691892,21.592007829299234],[-100.75147397981965,21.580550184938403]]],\"type\":\"Polygon\"},\"properties\":{\"id\":null,\"mun_code\":29,\"mun_name\":\"San Diego de la Uni\\u00f3n\",\"state_code\":11},\"type\":\"Feature\"},{\"geometry\":{\"coordinates\":[[[-100.91122968855208,20.56936760325234],[-100.91091271293952,20.565548388465395],[-100.90901085926413,20.51571672886432],[-100.96923622565136,20.502804145537034],[-101.03928783602808,20.509715105627695],[-101.08556627546247,20.52208208684256],[-101.08398139739965,20.561183571566033],[-101.06274403135784,20.5630022452741],[-101.0532347629809,20.55318140725053],[-101.05735544594424,20.579006573905104],[-101.02502393346268,20.56136543893684],[-100.95085164012262,20.582098319208818],[-100.91122968855208,20.56936760325234]]],\"type\":\"Polygon\"},\"properties\":{\"id\":null,\"mun_code\":44,\"mun_name\":\"Villagr\\u00e1n\",\"state_code\":11},\"type\":\"Feature\"},{\"geometry\":{\"coordinates\":[[[-100.98888871363035,20.78851778507459],[-100.9670173963634,20.77978815127586],[-100.98001339647854,20.730502093787205],[-100.95687417676135,20.69740223230036],[-100.8842867614841,20.69794783441278],[-100.85195524900254,20.681397903669357],[-100.86051359054179,20.66102875813899],[-100.88492071270923,20.62883823350618],[-100.87414354188205,20.58500819714173],[-100.91122968855208,20.56936760325234],[-100.95085164012262,20.582098319208818],[-101.02502393346268,20.56136543893684],[-101.05735544594424,20.579006573905104],[-101.0532347629809,20.55318140725053],[-101.06274403135784,20.5630022452741],[-101.07447212902272,20.701221447087303],[-101.11314315375557,20.7117697545941],[-101.1093394464048,20.75505418884613],[-101.06718168993373,20.813979216987548],[-101.03326529938936,20.784698570287645],[-100.98888871363035,20.78851778507459]]],\"type\":\"Polygon\"},\"properties\":{\"id\":null,\"mun_code\":35,\"mun_name\":\"Santa Cruz de Juventino Rosas\",\"state_code\":11},\"type\":\"Feature\"},{\"geometry\":{\"coordinates\":[[[-101.08905300720068,20.86508394818427],[-101.0871511535253,20.85999166180168],[-101.06718168993373,20.813979216987548],[-101.1093394464048,20.75505418884613],[-101.11314315375557,20.7117697545941],[-101.07447212902272,20.701221447087303],[-101.06274403135784,20.5630022452741],[-101.08398139739965,20.561183571566033],[-101.08556627546247,20.52208208684256],[-101.03928783602808,20.509715105627695],[-101.04404247021654,20.451517546969505],[-101.09412461700171,20.440423637350285],[-101.13121076367173,20.48989156220975],[-101.22693739866617,20.45570049649806],[-101.27828744790159,20.502258543424613],[-101.2817741796398,20.532630394349358],[-101.31315476528367,20.539177619698403],[-101.31188686283342,20.579915910759137],[-101.27670256983878,20.589373014041094],[-101.26275564288594,20.66102875813899],[-101.26560842339902,20.701221447087303],[-101.21203954487565,20.75669099518339],[-101.18699847148307,20.753781117250483],[-101.14198793449893,20.84780654795762],[-101.08905300720068,20.86508394818427]]],\"type\":\"Polygon\"},\"properties\":{\"id\":null,\"mun_code\":27,\"mun_name\":\"Salamanca\",\"state_code\":11},\"type\":\"Feature\"},{\"geometry\":{\"coordinates\":[[[-101.31188686283342,20.579915910759137],[-101.3467541802155,20.592646626715617],[-101.4187076442676,20.549362192463587],[-101.400957009964,20.51571672886432],[-101.44438266888531,20.500985471828965],[-101.49383086444536,20.508623901402853],[-101.50746081578562,20.561547306307645],[-101.47227652279098,20.572641215926865],[-101.49763457179613,20.59592023939014],[-101.50048735230921,20.659755686543342],[-101.54169418194257,20.731593298012047],[-101.52711330376461,20.749052565609503],[-101.45579379093763,20.79997542943542],[-101.4107832539535,20.800702898918647],[-101.40856442466554,20.84380546579987],[-101.35911622910551,20.839986251012927],[-101.27670256983878,20.83634890359679],[-101.21425837416359,20.824709391865152],[-101.14198793449893,20.84780654795762],[-101.18699847148307,20.753781117250483],[-101.21203954487565,20.75669099518339],[-101.26560842339902,20.701221447087303],[-101.26275564288594,20.66102875813899],[-101.27670256983878,20.589373014041094],[-101.31188686283342,20.579915910759137]]],\"type\":\"Polygon\"},\"properties\":{\"id\":null,\"mun_code\":17,\"mun_name\":\"Irapuato\",\"state_code\":11},\"type\":\"Feature\"},{\"geometry\":{\"coordinates\":[[[-101.63710384132443,20.694674221738257],[-101.69067271984781,20.69612916070471],[-101.70113291506243,20.72850155270833],[-101.68274832953371,20.789245254557816],[-101.74741135449683,20.78215242709635],[-101.73473232999426,20.79488314305283],[-101.70874032976398,20.81034186957141],[-101.6970122320991,20.893818992771752],[-101.68972179301012,20.86453834607185],[-101.64154149990034,20.928919395337473],[-101.58068218228799,20.921826567876007],[-101.54137720633001,20.942195713406374],[-101.49921944985894,20.91600681201019],[-101.50429105965998,20.85126202800295],[-101.46023144951353,20.847079078474394],[-101.45579379093763,20.79997542943542],[-101.52711330376461,20.749052565609503],[-101.58924052382721,20.754690454104516],[-101.60065164587954,20.776878273342952],[-101.64534520725111,20.743232809743684],[-101.62347388998417,20.72104499050525],[-101.63710384132443,20.694674221738257]]],\"type\":\"Polygon\"},\"properties\":{\"id\":null,\"mun_code\":26,\"mun_name\":\"Romita\",\"state_code\":11},\"type\":\"Feature\"},{\"geometry\":{\"coordinates\":[[[-101.3866931073986,21.13843060650696],[-101.33312422887522,21.145705301339234],[-101.29572110659264,21.202811655772585],[-101.20379817894897,21.20754020741356],[-101.1733685201428,21.211359422200506],[-101.14737651991251,21.158436017295713],[-101.10870549517966,21.14825144453053],[-101.14610861746226,21.045496380024662],[-101.12677310509584,21.00766796689684],[-101.08461534862478,20.997847128873268],[-101.05703847033168,20.97929665705097],[-101.11314315375557,20.95328962302559],[-101.08905300720068,20.86508394818427],[-101.14198793449893,20.84780654795762],[-101.21425837416359,20.824709391865152],[-101.27670256983878,20.83634890359679],[-101.35911622910551,20.839986251012927],[-101.31854335069727,20.883998154748184],[-101.34358442408985,20.923099639471655],[-101.3324902776501,20.992754842490676],[-101.35975018033064,21.01439705961669],[-101.34833905827831,21.032583796697377],[-101.40190793680169,21.071503414050042],[-101.4053946685399,21.100784060749945],[-101.43677525418377,21.098965387041876],[-101.43519037612094,21.13733940228212],[-101.4275829614194,21.137703137023735],[-101.3866931073986,21.13843060650696]]],\"type\":\"Polygon\"},\"properties\":{\"id\":null,\"mun_code\":15,\"mun_name\":\"Guanajuato\",\"state_code\":11},\"type\":\"Feature\"},{\"geometry\":{\"coordinates\":[[[-101.63266618274854,21.326845202662852],[-101.60825906058108,21.313932619335567],[-101.53725652336666,21.272466858791606],[-101.52267564518871,21.232274169843294],[-101.49826852302125,21.255189458564956],[-101.44374871766018,21.254098254340114],[-101.39081379036193,21.212450626425348],[-101.37306315605834,21.176259019634784],[-101.3866931073986,21.13843060650696],[-101.4275829614194,21.137703137023735],[-101.43519037612094,21.13733940228212],[-101.47259349840354,21.152070659317474],[-101.48020091310508,21.11951639994305],[-101.49985340108408,21.010577844829747],[-101.57307476758643,21.02949205139366],[-101.58163310912568,20.976932381230483],[-101.54137720633001,20.942195713406374],[-101.58068218228799,20.921826567876007],[-101.64154149990034,20.928919395337473],[-101.68972179301012,20.86453834607185],[-101.6970122320991,20.893818992771752],[-101.71603076885296,20.909823321402754],[-101.71286101272732,20.954380827250432],[-101.67133720748139,20.95110721457591],[-101.6684844269683,20.994027914086324],[-101.73536628121938,20.983115871837914],[-101.73061164703093,21.005121823705544],[-101.78418052555429,21.01621573332476],[-101.78576540361712,21.048769992699185],[-101.80890462333431,21.051861738002902],[-101.81777994048612,21.10678568398657],[-101.83362872111434,21.13733940228212],[-101.7876672572925,21.15643547621684],[-101.77372033033967,21.21972532125762],[-101.76864872053865,21.257735601756252],[-101.68655203688448,21.29410907591762],[-101.64344335357572,21.29938322967102],[-101.64597915847624,21.3281182742585],[-101.63266618274854,21.326845202662852]]],\"type\":\"Polygon\"},\"properties\":{\"id\":null,\"mun_code\":20,\"mun_name\":\"Le\\u00f3n\",\"state_code\":11},\"type\":\"Feature\"},{\"geometry\":{\"coordinates\":[[[-100.98413407944187,20.32821146956246],[-101.00568842109625,20.285290770052047],[-101.04182364092858,20.277288605736544],[-101.07859281198606,20.300567629199822],[-101.10997339762993,20.317117559943245],[-101.11219222691787,20.401322152626815],[-101.09412461700171,20.440423637350285],[-101.04404247021654,20.451517546969505],[-101.02122022611191,20.368949760623195],[-100.98001339647854,20.34858061509283],[-100.98413407944187,20.32821146956246]]],\"type\":\"Polygon\"},\"properties\":{\"id\":null,\"mun_code\":18,\"mun_name\":\"Jaral del Progreso\",\"state_code\":11},\"type\":\"Feature\"},{\"geometry\":{\"coordinates\":[[[-101.5708559382985,21.418506357549504],[-101.58924052382721,21.46470066973444],[-101.64090754867522,21.528717984258453],[-101.62283993875904,21.544722312889455],[-101.58638774331415,21.60783029055943],[-101.59367818240312,21.631654916135126],[-101.55785993818336,21.734955582753415],[-101.58004823106286,21.736228654349063],[-101.58575379208901,21.778785619117865],[-101.5388414014295,21.777694414893023],[-101.51063057191126,21.798791029906617],[-101.49636666934586,21.809884939525837],[-101.47386140085379,21.827344207123293],[-101.42314530284351,21.824979931302803],[-101.42694901019428,21.75496099354217],[-101.44343174204762,21.73586491960745],[-101.43994501030942,21.666755318700847],[-101.40476071731477,21.67057453348779],[-101.33819583867626,21.677667360949258],[-101.3635538876814,21.561454111003684],[-101.32203008243548,21.55599808987948],[-101.28589486260314,21.523261963134246],[-101.31695847263444,21.507257634503244],[-101.33946374112651,21.463427598138793],[-101.32868657029933,21.409776723750774],[-101.37116130238294,21.39740974253591],[-101.4053946685399,21.42050689862838],[-101.50080432792177,21.378859270713612],[-101.53091701111538,21.393772395119772],[-101.52647935253948,21.431782675618404],[-101.5708559382985,21.418506357549504]]],\"type\":\"Polygon\"},\"properties\":{\"id\":null,\"mun_code\":22,\"mun_name\":\"Ocampo\",\"state_code\":11},\"type\":\"Feature\"},{\"geometry\":{\"coordinates\":[[[-101.20284725211128,20.15016331354256],[-101.17907408116895,20.126702422708476],[-101.19967749598564,20.106151409807303],[-101.19650773986,20.057047219689455],[-101.16068949564023,20.03995168683361],[-101.20157934966102,20.025766031910678],[-101.20316422772385,20.00721556008838],[-101.23834852071849,20.032131389888917],[-101.29191739924187,20.03595060467586],[-101.3182263750847,20.04868132063234],[-101.324565887336,20.084145457939677],[-101.28811369189108,20.12415627951718],[-101.2684612039121,20.134158984911558],[-101.26624237462416,20.15525559992515],[-101.20284725211128,20.15016331354256]]],\"type\":\"Polygon\"},\"properties\":{\"id\":null,\"mun_code\":21,\"mun_name\":\"Morole\\u00f3n\",\"state_code\":11},\"type\":\"Feature\"},{\"geometry\":{\"coordinates\":[[[-100.7990203217043,21.32229851839268],[-100.72167827223859,21.297928290704565],[-100.71660666243757,21.278832216769846],[-100.65574734482522,21.23354724143894],[-100.66303778391419,21.206085268447108],[-100.69346744272038,21.19608256305273],[-100.68237329628062,21.162437099453463],[-100.63641183245879,21.108604357694638],[-100.70044090619679,21.106058214503342],[-100.76510393115991,21.090781355355567],[-100.82152559019637,21.061500708655664],[-100.8541740782905,21.066592995038256],[-100.83864227327484,21.01912561125767],[-100.91027876171438,21.00584929318877],[-100.92232383499183,20.96201925682432],[-100.9616288109498,20.951834684059136],[-100.99396032343138,20.921280965763586],[-101.02946159203859,20.885453093714638],[-101.0871511535253,20.85999166180168],[-101.08905300720068,20.86508394818427],[-101.11314315375557,20.95328962302559],[-101.05703847033168,20.97929665705097],[-101.08461534862478,20.997847128873268],[-101.12677310509584,21.00766796689684],[-101.14610861746226,21.045496380024662],[-101.10870549517966,21.14825144453053],[-101.14737651991251,21.158436017295713],[-101.1733685201428,21.211359422200506],[-101.20379817894897,21.20754020741356],[-101.18477964219511,21.23354724143894],[-101.10585271466658,21.257917469127058],[-101.11155827569274,21.29811015807537],[-101.08334744617451,21.313932619335567],[-101.08746812913786,21.2802871557363],[-101.05164988491809,21.28847118742261],[-101.04055573847833,21.32593586580882],[-101.01741651876114,21.321025446797034],[-100.99808100639471,21.34994235875532],[-100.94641398154673,21.305202985536837],[-100.89981856649976,21.32411719210075],[-100.7990203217043,21.32229851839268]]],\"type\":\"Polygon\"},\"properties\":{\"id\":null,\"mun_code\":14,\"mun_name\":\"Dolores Hidalgo Cuna de la Independencia Nacional\",\"state_code\":11},\"type\":\"Feature\"}],\"type\":\"FeatureCollection\"},\"hovertemplate\":\"Municipio=%{location}<br>Presupuesto por estudiante (MXN)=%{z}<extra></extra>\",\"locations\":[\"Abasolo\",\"Ac\\u00e1mbaro\",\"Apaseo el Alto\",\"Apaseo el Grande\",\"Atarjea\",\"Celaya\",\"Cobertura Estatal\",\"Comonfort\",\"Coroneo\",\"Cortazar\",\"Cuer\\u00e1maro\",\"Doctor Mora\",\"Dolores Hidalgo Cuna de la Independencia Nacional\",\"Guanajuato\",\"Huan\\u00edmaro\",\"Irapuato\",\"Jaral del Progreso\",\"Jer\\u00e9cuaro\",\"Le\\u00f3n\",\"Manuel Doblado\",\"Morole\\u00f3n\",\"Ocampo\",\"Por Determinar\",\"Pueblo Nuevo\",\"Pur\\u00edsima del Rinc\\u00f3n\",\"P\\u00e9njamo\",\"Romita\",\"Salamanca\",\"Salvatierra\",\"San Diego de la Uni\\u00f3n\",\"San Felipe\",\"San Francisco del Rinc\\u00f3n\",\"San Jos\\u00e9 Iturbide\",\"San Luis de la Paz\",\"San Miguel de Allende\",\"Santa Catarina\",\"Santa Cruz de Juventino Rosas\",\"Santiago Maravat\\u00edo\",\"Silao\",\"Tarandacuao\",\"Tarimoro\",\"Tierra Blanca\",\"Uriangato\",\"Valle de Santiago\",\"Victoria\",\"Villagr\\u00e1n\",\"Xich\\u00fa\",\"Yuriria\"],\"name\":\"\",\"type\":\"choropleth\",\"z\":[2851.11,711.43,582.2,657.0,1438.56,866.69,null,1662.45,990.73,951.47,695.35,585.76,1089.38,1080.93,912.71,735.37,1092.19,504.9,670.21,1001.77,2264.56,593.2,null,852.84,1151.26,3129.79,1399.39,1607.86,2713.45,592.57,646.5,740.1,494.6,765.09,2955.28,563.42,749.32,449.43,957.03,1111.08,974.71,890.45,1436.37,1258.04,1011.96,719.38,881.16,1950.16]}],                        {\"coloraxis\":{\"cmax\":3200.0,\"cmin\":0,\"colorbar\":{\"title\":{\"text\":\"Presupuesto por estudiante (MXN)\"}},\"colorscale\":[[0.0,\"rgb(254, 245, 244)\"],[0.09090909090909091,\"rgb(222, 224, 210)\"],[0.18181818181818182,\"rgb(189, 206, 181)\"],[0.2727272727272727,\"rgb(153, 189, 156)\"],[0.36363636363636365,\"rgb(110, 173, 138)\"],[0.45454545454545453,\"rgb(65, 157, 129)\"],[0.5454545454545454,\"rgb(25, 137, 125)\"],[0.6363636363636364,\"rgb(18, 116, 117)\"],[0.7272727272727273,\"rgb(25, 94, 106)\"],[0.8181818181818182,\"rgb(28, 72, 93)\"],[0.9090909090909091,\"rgb(25, 51, 80)\"],[1.0,\"rgb(20, 29, 67)\"]]},\"font\":{\"size\":15},\"geo\":{\"center\":{},\"domain\":{\"x\":[0.0,1.0],\"y\":[0.0,1.0]},\"fitbounds\":\"locations\",\"visible\":false},\"legend\":{\"tracegroupgap\":0},\"margin\":{\"b\":0,\"l\":0,\"r\":0,\"t\":0},\"template\":{\"data\":{\"bar\":[{\"error_x\":{\"color\":\"#2a3f5f\"},\"error_y\":{\"color\":\"#2a3f5f\"},\"marker\":{\"line\":{\"color\":\"#E5ECF6\",\"width\":0.5},\"pattern\":{\"fillmode\":\"overlay\",\"size\":10,\"solidity\":0.2}},\"type\":\"bar\"}],\"barpolar\":[{\"marker\":{\"line\":{\"color\":\"#E5ECF6\",\"width\":0.5},\"pattern\":{\"fillmode\":\"overlay\",\"size\":10,\"solidity\":0.2}},\"type\":\"barpolar\"}],\"carpet\":[{\"aaxis\":{\"endlinecolor\":\"#2a3f5f\",\"gridcolor\":\"white\",\"linecolor\":\"white\",\"minorgridcolor\":\"white\",\"startlinecolor\":\"#2a3f5f\"},\"baxis\":{\"endlinecolor\":\"#2a3f5f\",\"gridcolor\":\"white\",\"linecolor\":\"white\",\"minorgridcolor\":\"white\",\"startlinecolor\":\"#2a3f5f\"},\"type\":\"carpet\"}],\"choropleth\":[{\"colorbar\":{\"outlinewidth\":0,\"ticks\":\"\"},\"type\":\"choropleth\"}],\"contour\":[{\"colorbar\":{\"outlinewidth\":0,\"ticks\":\"\"},\"colorscale\":[[0.0,\"#0d0887\"],[0.1111111111111111,\"#46039f\"],[0.2222222222222222,\"#7201a8\"],[0.3333333333333333,\"#9c179e\"],[0.4444444444444444,\"#bd3786\"],[0.5555555555555556,\"#d8576b\"],[0.6666666666666666,\"#ed7953\"],[0.7777777777777778,\"#fb9f3a\"],[0.8888888888888888,\"#fdca26\"],[1.0,\"#f0f921\"]],\"type\":\"contour\"}],\"contourcarpet\":[{\"colorbar\":{\"outlinewidth\":0,\"ticks\":\"\"},\"type\":\"contourcarpet\"}],\"heatmap\":[{\"colorbar\":{\"outlinewidth\":0,\"ticks\":\"\"},\"colorscale\":[[0.0,\"#0d0887\"],[0.1111111111111111,\"#46039f\"],[0.2222222222222222,\"#7201a8\"],[0.3333333333333333,\"#9c179e\"],[0.4444444444444444,\"#bd3786\"],[0.5555555555555556,\"#d8576b\"],[0.6666666666666666,\"#ed7953\"],[0.7777777777777778,\"#fb9f3a\"],[0.8888888888888888,\"#fdca26\"],[1.0,\"#f0f921\"]],\"type\":\"heatmap\"}],\"heatmapgl\":[{\"colorbar\":{\"outlinewidth\":0,\"ticks\":\"\"},\"colorscale\":[[0.0,\"#0d0887\"],[0.1111111111111111,\"#46039f\"],[0.2222222222222222,\"#7201a8\"],[0.3333333333333333,\"#9c179e\"],[0.4444444444444444,\"#bd3786\"],[0.5555555555555556,\"#d8576b\"],[0.6666666666666666,\"#ed7953\"],[0.7777777777777778,\"#fb9f3a\"],[0.8888888888888888,\"#fdca26\"],[1.0,\"#f0f921\"]],\"type\":\"heatmapgl\"}],\"histogram\":[{\"marker\":{\"pattern\":{\"fillmode\":\"overlay\",\"size\":10,\"solidity\":0.2}},\"type\":\"histogram\"}],\"histogram2d\":[{\"colorbar\":{\"outlinewidth\":0,\"ticks\":\"\"},\"colorscale\":[[0.0,\"#0d0887\"],[0.1111111111111111,\"#46039f\"],[0.2222222222222222,\"#7201a8\"],[0.3333333333333333,\"#9c179e\"],[0.4444444444444444,\"#bd3786\"],[0.5555555555555556,\"#d8576b\"],[0.6666666666666666,\"#ed7953\"],[0.7777777777777778,\"#fb9f3a\"],[0.8888888888888888,\"#fdca26\"],[1.0,\"#f0f921\"]],\"type\":\"histogram2d\"}],\"histogram2dcontour\":[{\"colorbar\":{\"outlinewidth\":0,\"ticks\":\"\"},\"colorscale\":[[0.0,\"#0d0887\"],[0.1111111111111111,\"#46039f\"],[0.2222222222222222,\"#7201a8\"],[0.3333333333333333,\"#9c179e\"],[0.4444444444444444,\"#bd3786\"],[0.5555555555555556,\"#d8576b\"],[0.6666666666666666,\"#ed7953\"],[0.7777777777777778,\"#fb9f3a\"],[0.8888888888888888,\"#fdca26\"],[1.0,\"#f0f921\"]],\"type\":\"histogram2dcontour\"}],\"mesh3d\":[{\"colorbar\":{\"outlinewidth\":0,\"ticks\":\"\"},\"type\":\"mesh3d\"}],\"parcoords\":[{\"line\":{\"colorbar\":{\"outlinewidth\":0,\"ticks\":\"\"}},\"type\":\"parcoords\"}],\"pie\":[{\"automargin\":true,\"type\":\"pie\"}],\"scatter\":[{\"marker\":{\"colorbar\":{\"outlinewidth\":0,\"ticks\":\"\"}},\"type\":\"scatter\"}],\"scatter3d\":[{\"line\":{\"colorbar\":{\"outlinewidth\":0,\"ticks\":\"\"}},\"marker\":{\"colorbar\":{\"outlinewidth\":0,\"ticks\":\"\"}},\"type\":\"scatter3d\"}],\"scattercarpet\":[{\"marker\":{\"colorbar\":{\"outlinewidth\":0,\"ticks\":\"\"}},\"type\":\"scattercarpet\"}],\"scattergeo\":[{\"marker\":{\"colorbar\":{\"outlinewidth\":0,\"ticks\":\"\"}},\"type\":\"scattergeo\"}],\"scattergl\":[{\"marker\":{\"colorbar\":{\"outlinewidth\":0,\"ticks\":\"\"}},\"type\":\"scattergl\"}],\"scattermapbox\":[{\"marker\":{\"colorbar\":{\"outlinewidth\":0,\"ticks\":\"\"}},\"type\":\"scattermapbox\"}],\"scatterpolar\":[{\"marker\":{\"colorbar\":{\"outlinewidth\":0,\"ticks\":\"\"}},\"type\":\"scatterpolar\"}],\"scatterpolargl\":[{\"marker\":{\"colorbar\":{\"outlinewidth\":0,\"ticks\":\"\"}},\"type\":\"scatterpolargl\"}],\"scatterternary\":[{\"marker\":{\"colorbar\":{\"outlinewidth\":0,\"ticks\":\"\"}},\"type\":\"scatterternary\"}],\"surface\":[{\"colorbar\":{\"outlinewidth\":0,\"ticks\":\"\"},\"colorscale\":[[0.0,\"#0d0887\"],[0.1111111111111111,\"#46039f\"],[0.2222222222222222,\"#7201a8\"],[0.3333333333333333,\"#9c179e\"],[0.4444444444444444,\"#bd3786\"],[0.5555555555555556,\"#d8576b\"],[0.6666666666666666,\"#ed7953\"],[0.7777777777777778,\"#fb9f3a\"],[0.8888888888888888,\"#fdca26\"],[1.0,\"#f0f921\"]],\"type\":\"surface\"}],\"table\":[{\"cells\":{\"fill\":{\"color\":\"#EBF0F8\"},\"line\":{\"color\":\"white\"}},\"header\":{\"fill\":{\"color\":\"#C8D4E3\"},\"line\":{\"color\":\"white\"}},\"type\":\"table\"}]},\"layout\":{\"annotationdefaults\":{\"arrowcolor\":\"#2a3f5f\",\"arrowhead\":0,\"arrowwidth\":1},\"autotypenumbers\":\"strict\",\"coloraxis\":{\"colorbar\":{\"outlinewidth\":0,\"ticks\":\"\"}},\"colorscale\":{\"diverging\":[[0,\"#8e0152\"],[0.1,\"#c51b7d\"],[0.2,\"#de77ae\"],[0.3,\"#f1b6da\"],[0.4,\"#fde0ef\"],[0.5,\"#f7f7f7\"],[0.6,\"#e6f5d0\"],[0.7,\"#b8e186\"],[0.8,\"#7fbc41\"],[0.9,\"#4d9221\"],[1,\"#276419\"]],\"sequential\":[[0.0,\"#0d0887\"],[0.1111111111111111,\"#46039f\"],[0.2222222222222222,\"#7201a8\"],[0.3333333333333333,\"#9c179e\"],[0.4444444444444444,\"#bd3786\"],[0.5555555555555556,\"#d8576b\"],[0.6666666666666666,\"#ed7953\"],[0.7777777777777778,\"#fb9f3a\"],[0.8888888888888888,\"#fdca26\"],[1.0,\"#f0f921\"]],\"sequentialminus\":[[0.0,\"#0d0887\"],[0.1111111111111111,\"#46039f\"],[0.2222222222222222,\"#7201a8\"],[0.3333333333333333,\"#9c179e\"],[0.4444444444444444,\"#bd3786\"],[0.5555555555555556,\"#d8576b\"],[0.6666666666666666,\"#ed7953\"],[0.7777777777777778,\"#fb9f3a\"],[0.8888888888888888,\"#fdca26\"],[1.0,\"#f0f921\"]]},\"colorway\":[\"#636efa\",\"#EF553B\",\"#00cc96\",\"#ab63fa\",\"#FFA15A\",\"#19d3f3\",\"#FF6692\",\"#B6E880\",\"#FF97FF\",\"#FECB52\"],\"font\":{\"color\":\"#2a3f5f\"},\"geo\":{\"bgcolor\":\"white\",\"lakecolor\":\"white\",\"landcolor\":\"#E5ECF6\",\"showlakes\":true,\"showland\":true,\"subunitcolor\":\"white\"},\"hoverlabel\":{\"align\":\"left\"},\"hovermode\":\"closest\",\"mapbox\":{\"style\":\"light\"},\"paper_bgcolor\":\"white\",\"plot_bgcolor\":\"#E5ECF6\",\"polar\":{\"angularaxis\":{\"gridcolor\":\"white\",\"linecolor\":\"white\",\"ticks\":\"\"},\"bgcolor\":\"#E5ECF6\",\"radialaxis\":{\"gridcolor\":\"white\",\"linecolor\":\"white\",\"ticks\":\"\"}},\"scene\":{\"xaxis\":{\"backgroundcolor\":\"#E5ECF6\",\"gridcolor\":\"white\",\"gridwidth\":2,\"linecolor\":\"white\",\"showbackground\":true,\"ticks\":\"\",\"zerolinecolor\":\"white\"},\"yaxis\":{\"backgroundcolor\":\"#E5ECF6\",\"gridcolor\":\"white\",\"gridwidth\":2,\"linecolor\":\"white\",\"showbackground\":true,\"ticks\":\"\",\"zerolinecolor\":\"white\"},\"zaxis\":{\"backgroundcolor\":\"#E5ECF6\",\"gridcolor\":\"white\",\"gridwidth\":2,\"linecolor\":\"white\",\"showbackground\":true,\"ticks\":\"\",\"zerolinecolor\":\"white\"}},\"shapedefaults\":{\"line\":{\"color\":\"#2a3f5f\"}},\"ternary\":{\"aaxis\":{\"gridcolor\":\"white\",\"linecolor\":\"white\",\"ticks\":\"\"},\"baxis\":{\"gridcolor\":\"white\",\"linecolor\":\"white\",\"ticks\":\"\"},\"bgcolor\":\"#E5ECF6\",\"caxis\":{\"gridcolor\":\"white\",\"linecolor\":\"white\",\"ticks\":\"\"}},\"title\":{\"x\":0.05},\"xaxis\":{\"automargin\":true,\"gridcolor\":\"white\",\"linecolor\":\"white\",\"ticks\":\"\",\"title\":{\"standoff\":15},\"zerolinecolor\":\"white\",\"zerolinewidth\":2},\"yaxis\":{\"automargin\":true,\"gridcolor\":\"white\",\"linecolor\":\"white\",\"ticks\":\"\",\"title\":{\"standoff\":15},\"zerolinecolor\":\"white\",\"zerolinewidth\":2}}}},                        {\"responsive\": true}                    ).then(function(){\n                            \nvar gd = document.getElementById('252a54a6-5fe8-4077-826d-b20fe768ff21');\nvar x = new MutationObserver(function (mutations, observer) {{\n        var display = window.getComputedStyle(gd).display;\n        if (!display || display === 'none') {{\n            console.log([gd, 'removed!']);\n            Plotly.purge(gd);\n            observer.disconnect();\n        }}\n}});\n\n// Listen for the removal of the full notebook cells\nvar notebookContainer = gd.closest('#notebook-container');\nif (notebookContainer) {{\n    x.observe(notebookContainer, {childList: true});\n}}\n\n// Listen for the clearing of the current output cell\nvar outputEl = gd.closest('.output');\nif (outputEl) {{\n    x.observe(outputEl, {childList: true});\n}}\n\n                        })                };                            </script>        </div>\n</body>\n</html>"
     },
     "metadata": {},
     "output_type": "display_data"
    }
   ],
   "execution_count": null
  },
  {
   "cell_type": "markdown",
   "source": "## Alineación de los PED's al ODS 4",
   "metadata": {
    "tags": [],
    "cell_id": "00009-667b8448-8f26-4b1d-9d58-5b5aab3d8b58",
    "deepnote_cell_type": "markdown"
   }
  },
  {
   "cell_type": "code",
   "metadata": {
    "tags": [],
    "cell_id": "00010-4ec7bb6a-c917-4deb-9f07-bf5b1e7ecab2",
    "deepnote_to_be_reexecuted": false,
    "source_hash": "1ca0ab2",
    "execution_start": 1634263487985,
    "execution_millis": 13,
    "deepnote_cell_type": "code"
   },
   "source": "# Los Pp's asociados al ODS 4\ndf_ped_ods_4 = df_ped[df_ped[\"id_ods\"]==\"ODS.04\"]\nped_ods_4 = df_ped_ods_4[\"id_dimension_ped\"].unique()",
   "outputs": [],
   "execution_count": null
  },
  {
   "cell_type": "code",
   "metadata": {
    "tags": [],
    "cell_id": "00020-4f0d7a37-ea96-430d-aea0-ba9cbd9c362c",
    "deepnote_to_be_reexecuted": false,
    "source_hash": "1a84acb3",
    "execution_start": 1634263488001,
    "execution_millis": 15,
    "deepnote_cell_type": "code"
   },
   "source": "# Los PED's asociados al ODS 4\nped_ods_4",
   "outputs": [
    {
     "output_type": "execute_result",
     "execution_count": 24,
     "data": {
      "text/plain": "array(['PED.D04', 'PED.D01', 'PED.D02'], dtype=object)"
     },
     "metadata": {}
    }
   ],
   "execution_count": null
  },
  {
   "cell_type": "code",
   "metadata": {
    "tags": [],
    "cell_id": "00021-2e9663fd-469b-450f-a3fe-65ba8a8b0bb3",
    "deepnote_to_be_reexecuted": false,
    "source_hash": "d10086a9",
    "execution_start": 1634263488025,
    "execution_millis": 165,
    "deepnote_cell_type": "code"
   },
   "source": "# La información de los PED's asociados al ODS 4\ndf_ped_ods_4",
   "outputs": [
    {
     "output_type": "execute_result",
     "execution_count": 25,
     "data": {
      "application/vnd.deepnote.dataframe.v2+json": {
       "row_count": 166,
       "column_count": 12,
       "columns": [
        {
         "name": "id_dimension_ped",
         "dtype": "object",
         "stats": {
          "unique_count": 3,
          "nan_count": 0,
          "categories": [
           {
            "name": "PED.D01",
            "count": 118
           },
           {
            "name": "PED.D04",
            "count": 30
           },
           {
            "name": "PED.D02",
            "count": 18
           }
          ]
         }
        },
        {
         "name": "descripcion_dimension_ped",
         "dtype": "object",
         "stats": {
          "unique_count": 3,
          "nan_count": 0,
          "categories": [
           {
            "name": "Humana y Social",
            "count": 118
           },
           {
            "name": "Administración Pública y Estado de Derecho",
            "count": 30
           },
           {
            "name": "Económica",
            "count": 18
           }
          ]
         }
        },
        {
         "name": "id_linea_estrategica_ped",
         "dtype": "object",
         "stats": {
          "unique_count": 6,
          "nan_count": 0,
          "categories": [
           {
            "name": "PED.01.02",
            "count": 76
           },
           {
            "name": "PED.04.02",
            "count": 30
           },
           {
            "name": "4 others",
            "count": 60
           }
          ]
         }
        },
        {
         "name": "descripcion_linea_estrategica_ped",
         "dtype": "object",
         "stats": {
          "unique_count": 6,
          "nan_count": 0,
          "categories": [
           {
            "name": "Educación para la Vida",
            "count": 76
           },
           {
            "name": "Seguridad y Justicia",
            "count": 30
           },
           {
            "name": "4 others",
            "count": 60
           }
          ]
         }
        },
        {
         "name": "id_objetivo_ped",
         "dtype": "object",
         "stats": {
          "unique_count": 9,
          "nan_count": 0,
          "categories": [
           {
            "name": "PED.01.02.01",
            "count": 45
           },
           {
            "name": "PED.01.03.01",
            "count": 30
           },
           {
            "name": "7 others",
            "count": 91
           }
          ]
         }
        },
        {
         "name": "descripcion_objetivo_ped",
         "dtype": "object",
         "stats": {
          "unique_count": 9,
          "nan_count": 0,
          "categories": [
           {
            "name": "Lograr una cobertura universal en la educación obligatoria, mediante un modelo educativo de calidad con diversidad, equidad e igualdad de género que cuente con personal docente capacitado y profesionalizado",
            "count": 45
           },
           {
            "name": "Asegurar las condiciones para el desarrollo pleno e igualitario de los grupos prioritarios del estado.",
            "count": 30
           },
           {
            "name": "7 others",
            "count": 91
           }
          ]
         }
        },
        {
         "name": "id_estrategia_ped",
         "dtype": "object",
         "stats": {
          "unique_count": 48,
          "nan_count": 0,
          "categories": [
           {
            "name": "PED.01.02.01.01",
            "count": 9
           },
           {
            "name": "PED.01.02.01.02",
            "count": 9
           },
           {
            "name": "46 others",
            "count": 148
           }
          ]
         }
        },
        {
         "name": "descripcion_estrategia_ped",
         "dtype": "object",
         "stats": {
          "unique_count": 48,
          "nan_count": 0,
          "categories": [
           {
            "name": "Reducción del rezago educativo en la educación obligatoria.",
            "count": 9
           },
           {
            "name": "Incremento de la cobertura con calidad de la educación media superior.",
            "count": 9
           },
           {
            "name": "46 others",
            "count": 148
           }
          ]
         }
        },
        {
         "name": "id_ods",
         "dtype": "object",
         "stats": {
          "unique_count": 1,
          "nan_count": 0,
          "categories": [
           {
            "name": "ODS.04",
            "count": 166
           }
          ]
         }
        },
        {
         "name": "descripcion_ods",
         "dtype": "object",
         "stats": {
          "unique_count": 1,
          "nan_count": 0,
          "categories": [
           {
            "name": "Objetivo 4: Garantizar una educación inclusiva, equitativa y de calidad y promover oportunidades de aprendizaje durante toda la vida para todos",
            "count": 166
           }
          ]
         }
        },
        {
         "name": "id_metas_ods",
         "dtype": "object",
         "stats": {
          "unique_count": 9,
          "nan_count": 0,
          "categories": [
           {
            "name": "MM.04.0B",
            "count": 36
           },
           {
            "name": "MM.04.07",
            "count": 28
           },
           {
            "name": "7 others",
            "count": 102
           }
          ]
         }
        },
        {
         "name": "descripción_metas_ods",
         "dtype": "object",
         "stats": {
          "unique_count": 9,
          "nan_count": 0,
          "categories": [
           {
            "name": "4.b Para 2020, aumentar a nivel mundial el número de becas disponibles para países en desarrollo.",
            "count": 36
           },
           {
            "name": "4.7 Garantizar que todos los estudiantes adquieran los conocimientos teóricos y prácticos necesarios para promover el desarrollo sostenible, en particular mediante la educación para el desarrollo sostenible y la adopción de estilos de vida sostenibles, los derechos humanos, la igualdad entre los géneros, la promoción de una cultura de paz y no violencia, la ciudadanía mundial y la valoración de la diversidad cultural y de la contribución de la cultura al desarrollo sostenible, entre otros medios.",
            "count": 28
           },
           {
            "name": "7 others",
            "count": 102
           }
          ]
         }
        },
        {
         "name": "_deepnote_index_column",
         "dtype": "int64"
        }
       ],
       "rows_top": [
        {
         "id_dimension_ped": "PED.D04",
         "descripcion_dimension_ped": "Administración Pública y Estado de Derecho",
         "id_linea_estrategica_ped": "PED.04.02",
         "descripcion_linea_estrategica_ped": "Seguridad y Justicia",
         "id_objetivo_ped": "PED.04.02.02",
         "descripcion_objetivo_ped": "Incrementar la efectividad del sistema de justicia penal",
         "id_estrategia_ped": "PED.04.02.02.01",
         "descripcion_estrategia_ped": "Fortalecimiento de la autonomía de todos los órganos de procuración de justicia, defensoría y juris…",
         "id_ods": "ODS.04",
         "descripcion_ods": "Objetivo 4: Garantizar una educación inclusiva, equitativa y de calidad y promover oportunidades de…",
         "id_metas_ods": "MM.04.07",
         "descripción_metas_ods": "4.7 Garantizar que todos los estudiantes adquieran los conocimientos teóricos y prácticos necesario…",
         "_deepnote_index_column": 10
        },
        {
         "id_dimension_ped": "PED.D04",
         "descripcion_dimension_ped": "Administración Pública y Estado de Derecho",
         "id_linea_estrategica_ped": "PED.04.02",
         "descripcion_linea_estrategica_ped": "Seguridad y Justicia",
         "id_objetivo_ped": "PED.04.02.02",
         "descripcion_objetivo_ped": "Incrementar la efectividad del sistema de justicia penal",
         "id_estrategia_ped": "PED.04.02.02.02",
         "descripcion_estrategia_ped": "Fortalecimiento de la infraestructura, el equipo tecnológico y los recursos de las instituciones en…",
         "id_ods": "ODS.04",
         "descripcion_ods": "Objetivo 4: Garantizar una educación inclusiva, equitativa y de calidad y promover oportunidades de…",
         "id_metas_ods": "MM.04.07",
         "descripción_metas_ods": "4.7 Garantizar que todos los estudiantes adquieran los conocimientos teóricos y prácticos necesario…",
         "_deepnote_index_column": 11
        },
        {
         "id_dimension_ped": "PED.D04",
         "descripcion_dimension_ped": "Administración Pública y Estado de Derecho",
         "id_linea_estrategica_ped": "PED.04.02",
         "descripcion_linea_estrategica_ped": "Seguridad y Justicia",
         "id_objetivo_ped": "PED.04.02.02",
         "descripcion_objetivo_ped": "Incrementar la efectividad del sistema de justicia penal",
         "id_estrategia_ped": "PED.04.02.02.03",
         "descripcion_estrategia_ped": "Implementación de esquemas de seguimiento y evaluación con perspectiva de género dentro de las inst…",
         "id_ods": "ODS.04",
         "descripcion_ods": "Objetivo 4: Garantizar una educación inclusiva, equitativa y de calidad y promover oportunidades de…",
         "id_metas_ods": "MM.04.07",
         "descripción_metas_ods": "4.7 Garantizar que todos los estudiantes adquieran los conocimientos teóricos y prácticos necesario…",
         "_deepnote_index_column": 12
        },
        {
         "id_dimension_ped": "PED.D04",
         "descripcion_dimension_ped": "Administración Pública y Estado de Derecho",
         "id_linea_estrategica_ped": "PED.04.02",
         "descripcion_linea_estrategica_ped": "Seguridad y Justicia",
         "id_objetivo_ped": "PED.04.02.02",
         "descripcion_objetivo_ped": "Incrementar la efectividad del sistema de justicia penal",
         "id_estrategia_ped": "PED.04.02.02.04",
         "descripcion_estrategia_ped": "Homologación, interconexión y certificación de los procesos de actuación que realizan las instancia…",
         "id_ods": "ODS.04",
         "descripcion_ods": "Objetivo 4: Garantizar una educación inclusiva, equitativa y de calidad y promover oportunidades de…",
         "id_metas_ods": "MM.04.07",
         "descripción_metas_ods": "4.7 Garantizar que todos los estudiantes adquieran los conocimientos teóricos y prácticos necesario…",
         "_deepnote_index_column": 13
        },
        {
         "id_dimension_ped": "PED.D04",
         "descripcion_dimension_ped": "Administración Pública y Estado de Derecho",
         "id_linea_estrategica_ped": "PED.04.02",
         "descripcion_linea_estrategica_ped": "Seguridad y Justicia",
         "id_objetivo_ped": "PED.04.02.02",
         "descripcion_objetivo_ped": "Incrementar la efectividad del sistema de justicia penal",
         "id_estrategia_ped": "PED.04.02.02.05",
         "descripcion_estrategia_ped": "Instauración del servicio civil de carrera con perspectiva de género en la Procuraduría, la Defenso…",
         "id_ods": "ODS.04",
         "descripcion_ods": "Objetivo 4: Garantizar una educación inclusiva, equitativa y de calidad y promover oportunidades de…",
         "id_metas_ods": "MM.04.07",
         "descripción_metas_ods": "4.7 Garantizar que todos los estudiantes adquieran los conocimientos teóricos y prácticos necesario…",
         "_deepnote_index_column": 14
        },
        {
         "id_dimension_ped": "PED.D04",
         "descripcion_dimension_ped": "Administración Pública y Estado de Derecho",
         "id_linea_estrategica_ped": "PED.04.02",
         "descripcion_linea_estrategica_ped": "Seguridad y Justicia",
         "id_objetivo_ped": "PED.04.02.02",
         "descripcion_objetivo_ped": "Incrementar la efectividad del sistema de justicia penal",
         "id_estrategia_ped": "PED.04.02.02.06",
         "descripcion_estrategia_ped": "Difusión entre la ciudadanía de sus derechos y obligaciones con enfoque incluyente, para hacerlos v…",
         "id_ods": "ODS.04",
         "descripcion_ods": "Objetivo 4: Garantizar una educación inclusiva, equitativa y de calidad y promover oportunidades de…",
         "id_metas_ods": "MM.04.07",
         "descripción_metas_ods": "4.7 Garantizar que todos los estudiantes adquieran los conocimientos teóricos y prácticos necesario…",
         "_deepnote_index_column": 15
        },
        {
         "id_dimension_ped": "PED.D04",
         "descripcion_dimension_ped": "Administración Pública y Estado de Derecho",
         "id_linea_estrategica_ped": "PED.04.02",
         "descripcion_linea_estrategica_ped": "Seguridad y Justicia",
         "id_objetivo_ped": "PED.04.02.02",
         "descripcion_objetivo_ped": "Incrementar la efectividad del sistema de justicia penal",
         "id_estrategia_ped": "PED.04.02.02.01",
         "descripcion_estrategia_ped": "Fortalecimiento de la autonomía de todos los órganos de procuración de justicia, defensoría y juris…",
         "id_ods": "ODS.04",
         "descripcion_ods": "Objetivo 4: Garantizar una educación inclusiva, equitativa y de calidad y promover oportunidades de…",
         "id_metas_ods": "MM.04.06",
         "descripción_metas_ods": "4.6 Asegurar que todos los jóvenes y una proporción considerable de los adultos, tanto hombres como…",
         "_deepnote_index_column": 22
        },
        {
         "id_dimension_ped": "PED.D04",
         "descripcion_dimension_ped": "Administración Pública y Estado de Derecho",
         "id_linea_estrategica_ped": "PED.04.02",
         "descripcion_linea_estrategica_ped": "Seguridad y Justicia",
         "id_objetivo_ped": "PED.04.02.02",
         "descripcion_objetivo_ped": "Incrementar la efectividad del sistema de justicia penal",
         "id_estrategia_ped": "PED.04.02.02.02",
         "descripcion_estrategia_ped": "Fortalecimiento de la infraestructura, el equipo tecnológico y los recursos de las instituciones en…",
         "id_ods": "ODS.04",
         "descripcion_ods": "Objetivo 4: Garantizar una educación inclusiva, equitativa y de calidad y promover oportunidades de…",
         "id_metas_ods": "MM.04.06",
         "descripción_metas_ods": "4.6 Asegurar que todos los jóvenes y una proporción considerable de los adultos, tanto hombres como…",
         "_deepnote_index_column": 23
        },
        {
         "id_dimension_ped": "PED.D04",
         "descripcion_dimension_ped": "Administración Pública y Estado de Derecho",
         "id_linea_estrategica_ped": "PED.04.02",
         "descripcion_linea_estrategica_ped": "Seguridad y Justicia",
         "id_objetivo_ped": "PED.04.02.02",
         "descripcion_objetivo_ped": "Incrementar la efectividad del sistema de justicia penal",
         "id_estrategia_ped": "PED.04.02.02.03",
         "descripcion_estrategia_ped": "Implementación de esquemas de seguimiento y evaluación con perspectiva de género dentro de las inst…",
         "id_ods": "ODS.04",
         "descripcion_ods": "Objetivo 4: Garantizar una educación inclusiva, equitativa y de calidad y promover oportunidades de…",
         "id_metas_ods": "MM.04.06",
         "descripción_metas_ods": "4.6 Asegurar que todos los jóvenes y una proporción considerable de los adultos, tanto hombres como…",
         "_deepnote_index_column": 24
        },
        {
         "id_dimension_ped": "PED.D04",
         "descripcion_dimension_ped": "Administración Pública y Estado de Derecho",
         "id_linea_estrategica_ped": "PED.04.02",
         "descripcion_linea_estrategica_ped": "Seguridad y Justicia",
         "id_objetivo_ped": "PED.04.02.02",
         "descripcion_objetivo_ped": "Incrementar la efectividad del sistema de justicia penal",
         "id_estrategia_ped": "PED.04.02.02.04",
         "descripcion_estrategia_ped": "Homologación, interconexión y certificación de los procesos de actuación que realizan las instancia…",
         "id_ods": "ODS.04",
         "descripcion_ods": "Objetivo 4: Garantizar una educación inclusiva, equitativa y de calidad y promover oportunidades de…",
         "id_metas_ods": "MM.04.06",
         "descripción_metas_ods": "4.6 Asegurar que todos los jóvenes y una proporción considerable de los adultos, tanto hombres como…",
         "_deepnote_index_column": 25
        },
        {
         "id_dimension_ped": "PED.D04",
         "descripcion_dimension_ped": "Administración Pública y Estado de Derecho",
         "id_linea_estrategica_ped": "PED.04.02",
         "descripcion_linea_estrategica_ped": "Seguridad y Justicia",
         "id_objetivo_ped": "PED.04.02.02",
         "descripcion_objetivo_ped": "Incrementar la efectividad del sistema de justicia penal",
         "id_estrategia_ped": "PED.04.02.02.05",
         "descripcion_estrategia_ped": "Instauración del servicio civil de carrera con perspectiva de género en la Procuraduría, la Defenso…",
         "id_ods": "ODS.04",
         "descripcion_ods": "Objetivo 4: Garantizar una educación inclusiva, equitativa y de calidad y promover oportunidades de…",
         "id_metas_ods": "MM.04.06",
         "descripción_metas_ods": "4.6 Asegurar que todos los jóvenes y una proporción considerable de los adultos, tanto hombres como…",
         "_deepnote_index_column": 26
        },
        {
         "id_dimension_ped": "PED.D04",
         "descripcion_dimension_ped": "Administración Pública y Estado de Derecho",
         "id_linea_estrategica_ped": "PED.04.02",
         "descripcion_linea_estrategica_ped": "Seguridad y Justicia",
         "id_objetivo_ped": "PED.04.02.02",
         "descripcion_objetivo_ped": "Incrementar la efectividad del sistema de justicia penal",
         "id_estrategia_ped": "PED.04.02.02.06",
         "descripcion_estrategia_ped": "Difusión entre la ciudadanía de sus derechos y obligaciones con enfoque incluyente, para hacerlos v…",
         "id_ods": "ODS.04",
         "descripcion_ods": "Objetivo 4: Garantizar una educación inclusiva, equitativa y de calidad y promover oportunidades de…",
         "id_metas_ods": "MM.04.06",
         "descripción_metas_ods": "4.6 Asegurar que todos los jóvenes y una proporción considerable de los adultos, tanto hombres como…",
         "_deepnote_index_column": 27
        },
        {
         "id_dimension_ped": "PED.D01",
         "descripcion_dimension_ped": "Humana y Social",
         "id_linea_estrategica_ped": "PED.01.02",
         "descripcion_linea_estrategica_ped": "Educación para la Vida",
         "id_objetivo_ped": "PED.01.02.01",
         "descripcion_objetivo_ped": "Lograr una cobertura universal en la educación obligatoria, mediante un modelo educativo de calidad…",
         "id_estrategia_ped": "PED.01.02.01.01",
         "descripcion_estrategia_ped": "Reducción del rezago educativo en la educación obligatoria.",
         "id_ods": "ODS.04",
         "descripcion_ods": "Objetivo 4: Garantizar una educación inclusiva, equitativa y de calidad y promover oportunidades de…",
         "id_metas_ods": "MM.04.07",
         "descripción_metas_ods": "4.7 Garantizar que todos los estudiantes adquieran los conocimientos teóricos y prácticos necesario…",
         "_deepnote_index_column": 36
        },
        {
         "id_dimension_ped": "PED.D01",
         "descripcion_dimension_ped": "Humana y Social",
         "id_linea_estrategica_ped": "PED.01.02",
         "descripcion_linea_estrategica_ped": "Educación para la Vida",
         "id_objetivo_ped": "PED.01.02.01",
         "descripcion_objetivo_ped": "Lograr una cobertura universal en la educación obligatoria, mediante un modelo educativo de calidad…",
         "id_estrategia_ped": "PED.01.02.01.02",
         "descripcion_estrategia_ped": "Incremento de la cobertura con calidad de la educación media superior.",
         "id_ods": "ODS.04",
         "descripcion_ods": "Objetivo 4: Garantizar una educación inclusiva, equitativa y de calidad y promover oportunidades de…",
         "id_metas_ods": "MM.04.07",
         "descripción_metas_ods": "4.7 Garantizar que todos los estudiantes adquieran los conocimientos teóricos y prácticos necesario…",
         "_deepnote_index_column": 37
        },
        {
         "id_dimension_ped": "PED.D01",
         "descripcion_dimension_ped": "Humana y Social",
         "id_linea_estrategica_ped": "PED.01.02",
         "descripcion_linea_estrategica_ped": "Educación para la Vida",
         "id_objetivo_ped": "PED.01.02.01",
         "descripcion_objetivo_ped": "Lograr una cobertura universal en la educación obligatoria, mediante un modelo educativo de calidad…",
         "id_estrategia_ped": "PED.01.02.01.03",
         "descripcion_estrategia_ped": "Implementación de un modelo educativo de vanguardia, que asegure el pleno desarrollo de las capacid…",
         "id_ods": "ODS.04",
         "descripcion_ods": "Objetivo 4: Garantizar una educación inclusiva, equitativa y de calidad y promover oportunidades de…",
         "id_metas_ods": "MM.04.07",
         "descripción_metas_ods": "4.7 Garantizar que todos los estudiantes adquieran los conocimientos teóricos y prácticos necesario…",
         "_deepnote_index_column": 38
        },
        {
         "id_dimension_ped": "PED.D01",
         "descripcion_dimension_ped": "Humana y Social",
         "id_linea_estrategica_ped": "PED.01.02",
         "descripcion_linea_estrategica_ped": "Educación para la Vida",
         "id_objetivo_ped": "PED.01.02.01",
         "descripcion_objetivo_ped": "Lograr una cobertura universal en la educación obligatoria, mediante un modelo educativo de calidad…",
         "id_estrategia_ped": "PED.01.02.01.04",
         "descripcion_estrategia_ped": "Fortalecimiento de las capacidades del personal docente mediante actualiza­ ciones que les permitan…",
         "id_ods": "ODS.04",
         "descripcion_ods": "Objetivo 4: Garantizar una educación inclusiva, equitativa y de calidad y promover oportunidades de…",
         "id_metas_ods": "MM.04.07",
         "descripción_metas_ods": "4.7 Garantizar que todos los estudiantes adquieran los conocimientos teóricos y prácticos necesario…",
         "_deepnote_index_column": 39
        },
        {
         "id_dimension_ped": "PED.D01",
         "descripcion_dimension_ped": "Humana y Social",
         "id_linea_estrategica_ped": "PED.01.02",
         "descripcion_linea_estrategica_ped": "Educación para la Vida",
         "id_objetivo_ped": "PED.01.02.01",
         "descripcion_objetivo_ped": "Lograr una cobertura universal en la educación obligatoria, mediante un modelo educativo de calidad…",
         "id_estrategia_ped": "PED.01.02.01.05",
         "descripcion_estrategia_ped": "Fomento del involucramiento de los padres y madres de familia y de la sociedad en la tarea educativ…",
         "id_ods": "ODS.04",
         "descripcion_ods": "Objetivo 4: Garantizar una educación inclusiva, equitativa y de calidad y promover oportunidades de…",
         "id_metas_ods": "MM.04.07",
         "descripción_metas_ods": "4.7 Garantizar que todos los estudiantes adquieran los conocimientos teóricos y prácticos necesario…",
         "_deepnote_index_column": 40
        },
        {
         "id_dimension_ped": "PED.D01",
         "descripcion_dimension_ped": "Humana y Social",
         "id_linea_estrategica_ped": "PED.01.02",
         "descripcion_linea_estrategica_ped": "Educación para la Vida",
         "id_objetivo_ped": "PED.01.02.03",
         "descripcion_objetivo_ped": "Potenciar a la cultura y al deporte como elementos del desarrollo integral de las personas y las co…",
         "id_estrategia_ped": "PED.01.02.03.01",
         "descripcion_estrategia_ped": "Apoyo a las mujeres y hombres guanajuatenses con talentos artísticos y a los públicos creadores y r…",
         "id_ods": "ODS.04",
         "descripcion_ods": "Objetivo 4: Garantizar una educación inclusiva, equitativa y de calidad y promover oportunidades de…",
         "id_metas_ods": "MM.04.07",
         "descripción_metas_ods": "4.7 Garantizar que todos los estudiantes adquieran los conocimientos teóricos y prácticos necesario…",
         "_deepnote_index_column": 41
        },
        {
         "id_dimension_ped": "PED.D01",
         "descripcion_dimension_ped": "Humana y Social",
         "id_linea_estrategica_ped": "PED.01.02",
         "descripcion_linea_estrategica_ped": "Educación para la Vida",
         "id_objetivo_ped": "PED.01.02.03",
         "descripcion_objetivo_ped": "Potenciar a la cultura y al deporte como elementos del desarrollo integral de las personas y las co…",
         "id_estrategia_ped": "PED.01.02.03.02",
         "descripcion_estrategia_ped": "Incremento de alternativas y espacios para la recreación cultural.",
         "id_ods": "ODS.04",
         "descripcion_ods": "Objetivo 4: Garantizar una educación inclusiva, equitativa y de calidad y promover oportunidades de…",
         "id_metas_ods": "MM.04.07",
         "descripción_metas_ods": "4.7 Garantizar que todos los estudiantes adquieran los conocimientos teóricos y prácticos necesario…",
         "_deepnote_index_column": 42
        },
        {
         "id_dimension_ped": "PED.D01",
         "descripcion_dimension_ped": "Humana y Social",
         "id_linea_estrategica_ped": "PED.01.02",
         "descripcion_linea_estrategica_ped": "Educación para la Vida",
         "id_objetivo_ped": "PED.01.02.03",
         "descripcion_objetivo_ped": "Potenciar a la cultura y al deporte como elementos del desarrollo integral de las personas y las co…",
         "id_estrategia_ped": "PED.01.02.03.03",
         "descripcion_estrategia_ped": "Desarrollo de nuevos talentos artísticos y nuevos públicos.",
         "id_ods": "ODS.04",
         "descripcion_ods": "Objetivo 4: Garantizar una educación inclusiva, equitativa y de calidad y promover oportunidades de…",
         "id_metas_ods": "MM.04.07",
         "descripción_metas_ods": "4.7 Garantizar que todos los estudiantes adquieran los conocimientos teóricos y prácticos necesario…",
         "_deepnote_index_column": 43
        },
        {
         "id_dimension_ped": "PED.D01",
         "descripcion_dimension_ped": "Humana y Social",
         "id_linea_estrategica_ped": "PED.01.02",
         "descripcion_linea_estrategica_ped": "Educación para la Vida",
         "id_objetivo_ped": "PED.01.02.03",
         "descripcion_objetivo_ped": "Potenciar a la cultura y al deporte como elementos del desarrollo integral de las personas y las co…",
         "id_estrategia_ped": "PED.01.02.03.04",
         "descripcion_estrategia_ped": "Promoción de la cultura física en todos los sectores de la población, para fo­ mentar un estilo de …",
         "id_ods": "ODS.04",
         "descripcion_ods": "Objetivo 4: Garantizar una educación inclusiva, equitativa y de calidad y promover oportunidades de…",
         "id_metas_ods": "MM.04.07",
         "descripción_metas_ods": "4.7 Garantizar que todos los estudiantes adquieran los conocimientos teóricos y prácticos necesario…",
         "_deepnote_index_column": 44
        },
        {
         "id_dimension_ped": "PED.D01",
         "descripcion_dimension_ped": "Humana y Social",
         "id_linea_estrategica_ped": "PED.01.02",
         "descripcion_linea_estrategica_ped": "Educación para la Vida",
         "id_objetivo_ped": "PED.01.02.03",
         "descripcion_objetivo_ped": "Potenciar a la cultura y al deporte como elementos del desarrollo integral de las personas y las co…",
         "id_estrategia_ped": "PED.01.02.03.05",
         "descripcion_estrategia_ped": "Fortalecimiento del deporte competitivo y de alto rendimiento.",
         "id_ods": "ODS.04",
         "descripcion_ods": "Objetivo 4: Garantizar una educación inclusiva, equitativa y de calidad y promover oportunidades de…",
         "id_metas_ods": "MM.04.07",
         "descripción_metas_ods": "4.7 Garantizar que todos los estudiantes adquieran los conocimientos teóricos y prácticos necesario…",
         "_deepnote_index_column": 45
        },
        {
         "id_dimension_ped": "PED.D01",
         "descripcion_dimension_ped": "Humana y Social",
         "id_linea_estrategica_ped": "PED.01.02",
         "descripcion_linea_estrategica_ped": "Educación para la Vida",
         "id_objetivo_ped": "PED.01.02.01",
         "descripcion_objetivo_ped": "Lograr una cobertura universal en la educación obligatoria, mediante un modelo educativo de calidad…",
         "id_estrategia_ped": "PED.01.02.01.01",
         "descripcion_estrategia_ped": "Reducción del rezago educativo en la educación obligatoria.",
         "id_ods": "ODS.04",
         "descripcion_ods": "Objetivo 4: Garantizar una educación inclusiva, equitativa y de calidad y promover oportunidades de…",
         "id_metas_ods": "MM.04.05",
         "descripción_metas_ods": "4.5 Eliminar las disparidades de género en la educación y garantizar el acceso igualitario de las p…",
         "_deepnote_index_column": 73
        },
        {
         "id_dimension_ped": "PED.D01",
         "descripcion_dimension_ped": "Humana y Social",
         "id_linea_estrategica_ped": "PED.01.02",
         "descripcion_linea_estrategica_ped": "Educación para la Vida",
         "id_objetivo_ped": "PED.01.02.01",
         "descripcion_objetivo_ped": "Lograr una cobertura universal en la educación obligatoria, mediante un modelo educativo de calidad…",
         "id_estrategia_ped": "PED.01.02.01.02",
         "descripcion_estrategia_ped": "Incremento de la cobertura con calidad de la educación media superior.",
         "id_ods": "ODS.04",
         "descripcion_ods": "Objetivo 4: Garantizar una educación inclusiva, equitativa y de calidad y promover oportunidades de…",
         "id_metas_ods": "MM.04.05",
         "descripción_metas_ods": "4.5 Eliminar las disparidades de género en la educación y garantizar el acceso igualitario de las p…",
         "_deepnote_index_column": 74
        },
        {
         "id_dimension_ped": "PED.D01",
         "descripcion_dimension_ped": "Humana y Social",
         "id_linea_estrategica_ped": "PED.01.02",
         "descripcion_linea_estrategica_ped": "Educación para la Vida",
         "id_objetivo_ped": "PED.01.02.01",
         "descripcion_objetivo_ped": "Lograr una cobertura universal en la educación obligatoria, mediante un modelo educativo de calidad…",
         "id_estrategia_ped": "PED.01.02.01.03",
         "descripcion_estrategia_ped": "Implementación de un modelo educativo de vanguardia, que asegure el pleno desarrollo de las capacid…",
         "id_ods": "ODS.04",
         "descripcion_ods": "Objetivo 4: Garantizar una educación inclusiva, equitativa y de calidad y promover oportunidades de…",
         "id_metas_ods": "MM.04.05",
         "descripción_metas_ods": "4.5 Eliminar las disparidades de género en la educación y garantizar el acceso igualitario de las p…",
         "_deepnote_index_column": 75
        },
        {
         "id_dimension_ped": "PED.D01",
         "descripcion_dimension_ped": "Humana y Social",
         "id_linea_estrategica_ped": "PED.01.02",
         "descripcion_linea_estrategica_ped": "Educación para la Vida",
         "id_objetivo_ped": "PED.01.02.01",
         "descripcion_objetivo_ped": "Lograr una cobertura universal en la educación obligatoria, mediante un modelo educativo de calidad…",
         "id_estrategia_ped": "PED.01.02.01.04",
         "descripcion_estrategia_ped": "Fortalecimiento de las capacidades del personal docente mediante actualiza­ ciones que les permitan…",
         "id_ods": "ODS.04",
         "descripcion_ods": "Objetivo 4: Garantizar una educación inclusiva, equitativa y de calidad y promover oportunidades de…",
         "id_metas_ods": "MM.04.05",
         "descripción_metas_ods": "4.5 Eliminar las disparidades de género en la educación y garantizar el acceso igualitario de las p…",
         "_deepnote_index_column": 76
        },
        {
         "id_dimension_ped": "PED.D01",
         "descripcion_dimension_ped": "Humana y Social",
         "id_linea_estrategica_ped": "PED.01.02",
         "descripcion_linea_estrategica_ped": "Educación para la Vida",
         "id_objetivo_ped": "PED.01.02.01",
         "descripcion_objetivo_ped": "Lograr una cobertura universal en la educación obligatoria, mediante un modelo educativo de calidad…",
         "id_estrategia_ped": "PED.01.02.01.05",
         "descripcion_estrategia_ped": "Fomento del involucramiento de los padres y madres de familia y de la sociedad en la tarea educativ…",
         "id_ods": "ODS.04",
         "descripcion_ods": "Objetivo 4: Garantizar una educación inclusiva, equitativa y de calidad y promover oportunidades de…",
         "id_metas_ods": "MM.04.05",
         "descripción_metas_ods": "4.5 Eliminar las disparidades de género en la educación y garantizar el acceso igualitario de las p…",
         "_deepnote_index_column": 77
        },
        {
         "id_dimension_ped": "PED.D01",
         "descripcion_dimension_ped": "Humana y Social",
         "id_linea_estrategica_ped": "PED.01.03",
         "descripcion_linea_estrategica_ped": "Grupos de Atención Prioritaria",
         "id_objetivo_ped": "PED.01.03.01",
         "descripcion_objetivo_ped": "Asegurar las condiciones para el desarrollo pleno e igualitario de los grupos prioritarios del esta…",
         "id_estrategia_ped": "PED.01.03.01.01",
         "descripcion_estrategia_ped": "Garantía de los derechos de las niñas, niños y adolescentes.",
         "id_ods": "ODS.04",
         "descripcion_ods": "Objetivo 4: Garantizar una educación inclusiva, equitativa y de calidad y promover oportunidades de…",
         "id_metas_ods": "MM.04.05",
         "descripción_metas_ods": "4.5 Eliminar las disparidades de género en la educación y garantizar el acceso igualitario de las p…",
         "_deepnote_index_column": 78
        },
        {
         "id_dimension_ped": "PED.D01",
         "descripcion_dimension_ped": "Humana y Social",
         "id_linea_estrategica_ped": "PED.01.03",
         "descripcion_linea_estrategica_ped": "Grupos de Atención Prioritaria",
         "id_objetivo_ped": "PED.01.03.01",
         "descripcion_objetivo_ped": "Asegurar las condiciones para el desarrollo pleno e igualitario de los grupos prioritarios del esta…",
         "id_estrategia_ped": "PED.01.03.01.02",
         "descripcion_estrategia_ped": "Apoyo para que las personas jóvenes potencien sus habilidades y capacidades para el logro de sus pr…",
         "id_ods": "ODS.04",
         "descripcion_ods": "Objetivo 4: Garantizar una educación inclusiva, equitativa y de calidad y promover oportunidades de…",
         "id_metas_ods": "MM.04.05",
         "descripción_metas_ods": "4.5 Eliminar las disparidades de género en la educación y garantizar el acceso igualitario de las p…",
         "_deepnote_index_column": 79
        },
        {
         "id_dimension_ped": "PED.D01",
         "descripcion_dimension_ped": "Humana y Social",
         "id_linea_estrategica_ped": "PED.01.03",
         "descripcion_linea_estrategica_ped": "Grupos de Atención Prioritaria",
         "id_objetivo_ped": "PED.01.03.01",
         "descripcion_objetivo_ped": "Asegurar las condiciones para el desarrollo pleno e igualitario de los grupos prioritarios del esta…",
         "id_estrategia_ped": "PED.01.03.01.03",
         "descripcion_estrategia_ped": "Incremento en las acciones de inclusión que permitan a las personas adultas mayores participar acti…",
         "id_ods": "ODS.04",
         "descripcion_ods": "Objetivo 4: Garantizar una educación inclusiva, equitativa y de calidad y promover oportunidades de…",
         "id_metas_ods": "MM.04.05",
         "descripción_metas_ods": "4.5 Eliminar las disparidades de género en la educación y garantizar el acceso igualitario de las p…",
         "_deepnote_index_column": 80
        },
        {
         "id_dimension_ped": "PED.D01",
         "descripcion_dimension_ped": "Humana y Social",
         "id_linea_estrategica_ped": "PED.01.03",
         "descripcion_linea_estrategica_ped": "Grupos de Atención Prioritaria",
         "id_objetivo_ped": "PED.01.03.01",
         "descripcion_objetivo_ped": "Asegurar las condiciones para el desarrollo pleno e igualitario de los grupos prioritarios del esta…",
         "id_estrategia_ped": "PED.01.03.01.04",
         "descripcion_estrategia_ped": "Fortalecimiento de las acciones de inclusión que aseguren que las personas con discapacidad se inte…",
         "id_ods": "ODS.04",
         "descripcion_ods": "Objetivo 4: Garantizar una educación inclusiva, equitativa y de calidad y promover oportunidades de…",
         "id_metas_ods": "MM.04.05",
         "descripción_metas_ods": "4.5 Eliminar las disparidades de género en la educación y garantizar el acceso igualitario de las p…",
         "_deepnote_index_column": 81
        },
        {
         "id_dimension_ped": "PED.D01",
         "descripcion_dimension_ped": "Humana y Social",
         "id_linea_estrategica_ped": "PED.01.03",
         "descripcion_linea_estrategica_ped": "Grupos de Atención Prioritaria",
         "id_objetivo_ped": "PED.01.03.01",
         "descripcion_objetivo_ped": "Asegurar las condiciones para el desarrollo pleno e igualitario de los grupos prioritarios del esta…",
         "id_estrategia_ped": "PED.01.03.01.05",
         "descripcion_estrategia_ped": "Fortalecimiento de los apoyos a los pueblos y las comunidades indígenas, para que logren consolidar…",
         "id_ods": "ODS.04",
         "descripcion_ods": "Objetivo 4: Garantizar una educación inclusiva, equitativa y de calidad y promover oportunidades de…",
         "id_metas_ods": "MM.04.05",
         "descripción_metas_ods": "4.5 Eliminar las disparidades de género en la educación y garantizar el acceso igualitario de las p…",
         "_deepnote_index_column": 82
        },
        {
         "id_dimension_ped": "PED.D01",
         "descripcion_dimension_ped": "Humana y Social",
         "id_linea_estrategica_ped": "PED.01.03",
         "descripcion_linea_estrategica_ped": "Grupos de Atención Prioritaria",
         "id_objetivo_ped": "PED.01.03.01",
         "descripcion_objetivo_ped": "Asegurar las condiciones para el desarrollo pleno e igualitario de los grupos prioritarios del esta…",
         "id_estrategia_ped": "PED.01.03.01.06",
         "descripcion_estrategia_ped": "Fomento de la inclusión y la participación de las personas migrantes y sus fami­ lias en el desarro…",
         "id_ods": "ODS.04",
         "descripcion_ods": "Objetivo 4: Garantizar una educación inclusiva, equitativa y de calidad y promover oportunidades de…",
         "id_metas_ods": "MM.04.05",
         "descripción_metas_ods": "4.5 Eliminar las disparidades de género en la educación y garantizar el acceso igualitario de las p…",
         "_deepnote_index_column": 83
        },
        {
         "id_dimension_ped": "PED.D01",
         "descripcion_dimension_ped": "Humana y Social",
         "id_linea_estrategica_ped": "PED.01.01",
         "descripcion_linea_estrategica_ped": "Bienestar Social",
         "id_objetivo_ped": "PED.01.01.01",
         "descripcion_objetivo_ped": "Abatir la pobreza en todas sus vertientes y desde sus causas.",
         "id_estrategia_ped": "PED.01.01.01.01",
         "descripcion_estrategia_ped": "Incremento de las opciones de empleo y el ingreso digno, en condiciones de igualdad.",
         "id_ods": "ODS.04",
         "descripcion_ods": "Objetivo 4: Garantizar una educación inclusiva, equitativa y de calidad y promover oportunidades de…",
         "id_metas_ods": "MM.04.03",
         "descripción_metas_ods": "4.3 Asegurar el acceso en condiciones de igualdad para todos los hombres y las mujeres a formación …",
         "_deepnote_index_column": 102
        },
        {
         "id_dimension_ped": "PED.D01",
         "descripcion_dimension_ped": "Humana y Social",
         "id_linea_estrategica_ped": "PED.01.01",
         "descripcion_linea_estrategica_ped": "Bienestar Social",
         "id_objetivo_ped": "PED.01.01.01",
         "descripcion_objetivo_ped": "Abatir la pobreza en todas sus vertientes y desde sus causas.",
         "id_estrategia_ped": "PED.01.01.01.02",
         "descripcion_estrategia_ped": "Mejora de la alimentación y nutrición de la población guanajuatense, particular­ mente de las perso…",
         "id_ods": "ODS.04",
         "descripcion_ods": "Objetivo 4: Garantizar una educación inclusiva, equitativa y de calidad y promover oportunidades de…",
         "id_metas_ods": "MM.04.03",
         "descripción_metas_ods": "4.3 Asegurar el acceso en condiciones de igualdad para todos los hombres y las mujeres a formación …",
         "_deepnote_index_column": 103
        },
        {
         "id_dimension_ped": "PED.D01",
         "descripcion_dimension_ped": "Humana y Social",
         "id_linea_estrategica_ped": "PED.01.01",
         "descripcion_linea_estrategica_ped": "Bienestar Social",
         "id_objetivo_ped": "PED.01.01.01",
         "descripcion_objetivo_ped": "Abatir la pobreza en todas sus vertientes y desde sus causas.",
         "id_estrategia_ped": "PED.01.01.01.03",
         "descripcion_estrategia_ped": "Cobertura universal de los servicios básicos.",
         "id_ods": "ODS.04",
         "descripcion_ods": "Objetivo 4: Garantizar una educación inclusiva, equitativa y de calidad y promover oportunidades de…",
         "id_metas_ods": "MM.04.03",
         "descripción_metas_ods": "4.3 Asegurar el acceso en condiciones de igualdad para todos los hombres y las mujeres a formación …",
         "_deepnote_index_column": 104
        },
        {
         "id_dimension_ped": "PED.D01",
         "descripcion_dimension_ped": "Humana y Social",
         "id_linea_estrategica_ped": "PED.01.01",
         "descripcion_linea_estrategica_ped": "Bienestar Social",
         "id_objetivo_ped": "PED.01.01.01",
         "descripcion_objetivo_ped": "Abatir la pobreza en todas sus vertientes y desde sus causas.",
         "id_estrategia_ped": "PED.01.01.01.04",
         "descripcion_estrategia_ped": "Impulso a la familia como la institución que promueve valores y principios para generar personas re…",
         "id_ods": "ODS.04",
         "descripcion_ods": "Objetivo 4: Garantizar una educación inclusiva, equitativa y de calidad y promover oportunidades de…",
         "id_metas_ods": "MM.04.03",
         "descripción_metas_ods": "4.3 Asegurar el acceso en condiciones de igualdad para todos los hombres y las mujeres a formación …",
         "_deepnote_index_column": 105
        },
        {
         "id_dimension_ped": "PED.D01",
         "descripcion_dimension_ped": "Humana y Social",
         "id_linea_estrategica_ped": "PED.01.01",
         "descripcion_linea_estrategica_ped": "Bienestar Social",
         "id_objetivo_ped": "PED.01.01.01",
         "descripcion_objetivo_ped": "Abatir la pobreza en todas sus vertientes y desde sus causas.",
         "id_estrategia_ped": "PED.01.01.01.05",
         "descripcion_estrategia_ped": "Incremento de los niveles de cohesión social de las comunidades.",
         "id_ods": "ODS.04",
         "descripcion_ods": "Objetivo 4: Garantizar una educación inclusiva, equitativa y de calidad y promover oportunidades de…",
         "id_metas_ods": "MM.04.03",
         "descripción_metas_ods": "4.3 Asegurar el acceso en condiciones de igualdad para todos los hombres y las mujeres a formación …",
         "_deepnote_index_column": 106
        },
        {
         "id_dimension_ped": "PED.D01",
         "descripcion_dimension_ped": "Humana y Social",
         "id_linea_estrategica_ped": "PED.01.01",
         "descripcion_linea_estrategica_ped": "Bienestar Social",
         "id_objetivo_ped": "PED.01.01.01",
         "descripcion_objetivo_ped": "Abatir la pobreza en todas sus vertientes y desde sus causas.",
         "id_estrategia_ped": "PED.01.01.01.06",
         "descripcion_estrategia_ped": "Promoción de la innovación social con la participación de las y los ciudadanos.",
         "id_ods": "ODS.04",
         "descripcion_ods": "Objetivo 4: Garantizar una educación inclusiva, equitativa y de calidad y promover oportunidades de…",
         "id_metas_ods": "MM.04.03",
         "descripción_metas_ods": "4.3 Asegurar el acceso en condiciones de igualdad para todos los hombres y las mujeres a formación …",
         "_deepnote_index_column": 107
        },
        {
         "id_dimension_ped": "PED.D01",
         "descripcion_dimension_ped": "Humana y Social",
         "id_linea_estrategica_ped": "PED.01.01",
         "descripcion_linea_estrategica_ped": "Bienestar Social",
         "id_objetivo_ped": "PED.01.01.01",
         "descripcion_objetivo_ped": "Abatir la pobreza en todas sus vertientes y desde sus causas.",
         "id_estrategia_ped": "PED.01.01.01.01",
         "descripcion_estrategia_ped": "Incremento de las opciones de empleo y el ingreso digno, en condiciones de igualdad.",
         "id_ods": "ODS.04",
         "descripcion_ods": "Objetivo 4: Garantizar una educación inclusiva, equitativa y de calidad y promover oportunidades de…",
         "id_metas_ods": "MM.04.07",
         "descripción_metas_ods": "4.7 Garantizar que todos los estudiantes adquieran los conocimientos teóricos y prácticos necesario…",
         "_deepnote_index_column": 120
        },
        {
         "id_dimension_ped": "PED.D01",
         "descripcion_dimension_ped": "Humana y Social",
         "id_linea_estrategica_ped": "PED.01.01",
         "descripcion_linea_estrategica_ped": "Bienestar Social",
         "id_objetivo_ped": "PED.01.01.01",
         "descripcion_objetivo_ped": "Abatir la pobreza en todas sus vertientes y desde sus causas.",
         "id_estrategia_ped": "PED.01.01.01.02",
         "descripcion_estrategia_ped": "Mejora de la alimentación y nutrición de la población guanajuatense, particular­ mente de las perso…",
         "id_ods": "ODS.04",
         "descripcion_ods": "Objetivo 4: Garantizar una educación inclusiva, equitativa y de calidad y promover oportunidades de…",
         "id_metas_ods": "MM.04.07",
         "descripción_metas_ods": "4.7 Garantizar que todos los estudiantes adquieran los conocimientos teóricos y prácticos necesario…",
         "_deepnote_index_column": 121
        }
       ],
       "rows_bottom": [
        {
         "id_dimension_ped": "PED.D04",
         "descripcion_dimension_ped": "Administración Pública y Estado de Derecho",
         "id_linea_estrategica_ped": "PED.04.02",
         "descripcion_linea_estrategica_ped": "Seguridad y Justicia",
         "id_objetivo_ped": "PED.04.02.02",
         "descripcion_objetivo_ped": "Incrementar la efectividad del sistema de justicia penal",
         "id_estrategia_ped": "PED.04.02.02.04",
         "descripcion_estrategia_ped": "Homologación, interconexión y certificación de los procesos de actuación que realizan las instancia…",
         "id_ods": "ODS.04",
         "descripcion_ods": "Objetivo 4: Garantizar una educación inclusiva, equitativa y de calidad y promover oportunidades de…",
         "id_metas_ods": "MM.04.04",
         "descripción_metas_ods": "4.4 Aumentar el número de jóvenes y adultos que tienen las competencias necesarias, en particular t…",
         "_deepnote_index_column": 401
        },
        {
         "id_dimension_ped": "PED.D04",
         "descripcion_dimension_ped": "Administración Pública y Estado de Derecho",
         "id_linea_estrategica_ped": "PED.04.02",
         "descripcion_linea_estrategica_ped": "Seguridad y Justicia",
         "id_objetivo_ped": "PED.04.02.02",
         "descripcion_objetivo_ped": "Incrementar la efectividad del sistema de justicia penal",
         "id_estrategia_ped": "PED.04.02.02.05",
         "descripcion_estrategia_ped": "Instauración del servicio civil de carrera con perspectiva de género en la Procuraduría, la Defenso…",
         "id_ods": "ODS.04",
         "descripcion_ods": "Objetivo 4: Garantizar una educación inclusiva, equitativa y de calidad y promover oportunidades de…",
         "id_metas_ods": "MM.04.04",
         "descripción_metas_ods": "4.4 Aumentar el número de jóvenes y adultos que tienen las competencias necesarias, en particular t…",
         "_deepnote_index_column": 402
        },
        {
         "id_dimension_ped": "PED.D04",
         "descripcion_dimension_ped": "Administración Pública y Estado de Derecho",
         "id_linea_estrategica_ped": "PED.04.02",
         "descripcion_linea_estrategica_ped": "Seguridad y Justicia",
         "id_objetivo_ped": "PED.04.02.02",
         "descripcion_objetivo_ped": "Incrementar la efectividad del sistema de justicia penal",
         "id_estrategia_ped": "PED.04.02.02.06",
         "descripcion_estrategia_ped": "Difusión entre la ciudadanía de sus derechos y obligaciones con enfoque incluyente, para hacerlos v…",
         "id_ods": "ODS.04",
         "descripcion_ods": "Objetivo 4: Garantizar una educación inclusiva, equitativa y de calidad y promover oportunidades de…",
         "id_metas_ods": "MM.04.04",
         "descripción_metas_ods": "4.4 Aumentar el número de jóvenes y adultos que tienen las competencias necesarias, en particular t…",
         "_deepnote_index_column": 403
        },
        {
         "id_dimension_ped": "PED.D01",
         "descripcion_dimension_ped": "Humana y Social",
         "id_linea_estrategica_ped": "PED.01.02",
         "descripcion_linea_estrategica_ped": "Educación para la Vida",
         "id_objetivo_ped": "PED.01.02.01",
         "descripcion_objetivo_ped": "Lograr una cobertura universal en la educación obligatoria, mediante un modelo educativo de calidad…",
         "id_estrategia_ped": "PED.01.02.01.01",
         "descripcion_estrategia_ped": "Reducción del rezago educativo en la educación obligatoria.",
         "id_ods": "ODS.04",
         "descripcion_ods": "Objetivo 4: Garantizar una educación inclusiva, equitativa y de calidad y promover oportunidades de…",
         "id_metas_ods": "MM.04.0B",
         "descripción_metas_ods": "4.b Para 2020, aumentar a nivel mundial el número de becas disponibles para países en desarrollo.",
         "_deepnote_index_column": 450
        },
        {
         "id_dimension_ped": "PED.D01",
         "descripcion_dimension_ped": "Humana y Social",
         "id_linea_estrategica_ped": "PED.01.02",
         "descripcion_linea_estrategica_ped": "Educación para la Vida",
         "id_objetivo_ped": "PED.01.02.01",
         "descripcion_objetivo_ped": "Lograr una cobertura universal en la educación obligatoria, mediante un modelo educativo de calidad…",
         "id_estrategia_ped": "PED.01.02.01.02",
         "descripcion_estrategia_ped": "Incremento de la cobertura con calidad de la educación media superior.",
         "id_ods": "ODS.04",
         "descripcion_ods": "Objetivo 4: Garantizar una educación inclusiva, equitativa y de calidad y promover oportunidades de…",
         "id_metas_ods": "MM.04.0B",
         "descripción_metas_ods": "4.b Para 2020, aumentar a nivel mundial el número de becas disponibles para países en desarrollo.",
         "_deepnote_index_column": 451
        },
        {
         "id_dimension_ped": "PED.D01",
         "descripcion_dimension_ped": "Humana y Social",
         "id_linea_estrategica_ped": "PED.01.02",
         "descripcion_linea_estrategica_ped": "Educación para la Vida",
         "id_objetivo_ped": "PED.01.02.01",
         "descripcion_objetivo_ped": "Lograr una cobertura universal en la educación obligatoria, mediante un modelo educativo de calidad…",
         "id_estrategia_ped": "PED.01.02.01.03",
         "descripcion_estrategia_ped": "Implementación de un modelo educativo de vanguardia, que asegure el pleno desarrollo de las capacid…",
         "id_ods": "ODS.04",
         "descripcion_ods": "Objetivo 4: Garantizar una educación inclusiva, equitativa y de calidad y promover oportunidades de…",
         "id_metas_ods": "MM.04.0B",
         "descripción_metas_ods": "4.b Para 2020, aumentar a nivel mundial el número de becas disponibles para países en desarrollo.",
         "_deepnote_index_column": 452
        },
        {
         "id_dimension_ped": "PED.D01",
         "descripcion_dimension_ped": "Humana y Social",
         "id_linea_estrategica_ped": "PED.01.02",
         "descripcion_linea_estrategica_ped": "Educación para la Vida",
         "id_objetivo_ped": "PED.01.02.01",
         "descripcion_objetivo_ped": "Lograr una cobertura universal en la educación obligatoria, mediante un modelo educativo de calidad…",
         "id_estrategia_ped": "PED.01.02.01.04",
         "descripcion_estrategia_ped": "Fortalecimiento de las capacidades del personal docente mediante actualiza­ ciones que les permitan…",
         "id_ods": "ODS.04",
         "descripcion_ods": "Objetivo 4: Garantizar una educación inclusiva, equitativa y de calidad y promover oportunidades de…",
         "id_metas_ods": "MM.04.0B",
         "descripción_metas_ods": "4.b Para 2020, aumentar a nivel mundial el número de becas disponibles para países en desarrollo.",
         "_deepnote_index_column": 453
        },
        {
         "id_dimension_ped": "PED.D01",
         "descripcion_dimension_ped": "Humana y Social",
         "id_linea_estrategica_ped": "PED.01.02",
         "descripcion_linea_estrategica_ped": "Educación para la Vida",
         "id_objetivo_ped": "PED.01.02.01",
         "descripcion_objetivo_ped": "Lograr una cobertura universal en la educación obligatoria, mediante un modelo educativo de calidad…",
         "id_estrategia_ped": "PED.01.02.01.05",
         "descripcion_estrategia_ped": "Fomento del involucramiento de los padres y madres de familia y de la sociedad en la tarea educativ…",
         "id_ods": "ODS.04",
         "descripcion_ods": "Objetivo 4: Garantizar una educación inclusiva, equitativa y de calidad y promover oportunidades de…",
         "id_metas_ods": "MM.04.0B",
         "descripción_metas_ods": "4.b Para 2020, aumentar a nivel mundial el número de becas disponibles para países en desarrollo.",
         "_deepnote_index_column": 454
        },
        {
         "id_dimension_ped": "PED.D01",
         "descripcion_dimension_ped": "Humana y Social",
         "id_linea_estrategica_ped": "PED.01.02",
         "descripcion_linea_estrategica_ped": "Educación para la Vida",
         "id_objetivo_ped": "PED.01.02.02",
         "descripcion_objetivo_ped": "Incrementar la cobertura de la educación superior con calidad, pertinencia y equidad.",
         "id_estrategia_ped": "PED.01.02.02.01",
         "descripcion_estrategia_ped": "Desarrollo de la cobertura de educación superior de manera incluyente, para la mejora de la calidad…",
         "id_ods": "ODS.04",
         "descripcion_ods": "Objetivo 4: Garantizar una educación inclusiva, equitativa y de calidad y promover oportunidades de…",
         "id_metas_ods": "MM.04.0B",
         "descripción_metas_ods": "4.b Para 2020, aumentar a nivel mundial el número de becas disponibles para países en desarrollo.",
         "_deepnote_index_column": 455
        },
        {
         "id_dimension_ped": "PED.D01",
         "descripcion_dimension_ped": "Humana y Social",
         "id_linea_estrategica_ped": "PED.01.02",
         "descripcion_linea_estrategica_ped": "Educación para la Vida",
         "id_objetivo_ped": "PED.01.02.02",
         "descripcion_objetivo_ped": "Incrementar la cobertura de la educación superior con calidad, pertinencia y equidad.",
         "id_estrategia_ped": "PED.01.02.02.02",
         "descripcion_estrategia_ped": "Incremento de la empleabilidad de las y los egresados de la educación superior.",
         "id_ods": "ODS.04",
         "descripcion_ods": "Objetivo 4: Garantizar una educación inclusiva, equitativa y de calidad y promover oportunidades de…",
         "id_metas_ods": "MM.04.0B",
         "descripción_metas_ods": "4.b Para 2020, aumentar a nivel mundial el número de becas disponibles para países en desarrollo.",
         "_deepnote_index_column": 456
        },
        {
         "id_dimension_ped": "PED.D01",
         "descripcion_dimension_ped": "Humana y Social",
         "id_linea_estrategica_ped": "PED.01.02",
         "descripcion_linea_estrategica_ped": "Educación para la Vida",
         "id_objetivo_ped": "PED.01.02.02",
         "descripcion_objetivo_ped": "Incrementar la cobertura de la educación superior con calidad, pertinencia y equidad.",
         "id_estrategia_ped": "PED.01.02.02.03",
         "descripcion_estrategia_ped": "Fomento de la movilidad interinstitucional de la población estudiantil y el perso­ nal docente y ad…",
         "id_ods": "ODS.04",
         "descripcion_ods": "Objetivo 4: Garantizar una educación inclusiva, equitativa y de calidad y promover oportunidades de…",
         "id_metas_ods": "MM.04.0B",
         "descripción_metas_ods": "4.b Para 2020, aumentar a nivel mundial el número de becas disponibles para países en desarrollo.",
         "_deepnote_index_column": 457
        },
        {
         "id_dimension_ped": "PED.D01",
         "descripcion_dimension_ped": "Humana y Social",
         "id_linea_estrategica_ped": "PED.01.02",
         "descripcion_linea_estrategica_ped": "Educación para la Vida",
         "id_objetivo_ped": "PED.01.02.02",
         "descripcion_objetivo_ped": "Incrementar la cobertura de la educación superior con calidad, pertinencia y equidad.",
         "id_estrategia_ped": "PED.01.02.02.04",
         "descripcion_estrategia_ped": "Impulso a la formación de capital humano de alto nivel académico en discipli­ nas emergentes y área…",
         "id_ods": "ODS.04",
         "descripcion_ods": "Objetivo 4: Garantizar una educación inclusiva, equitativa y de calidad y promover oportunidades de…",
         "id_metas_ods": "MM.04.0B",
         "descripción_metas_ods": "4.b Para 2020, aumentar a nivel mundial el número de becas disponibles para países en desarrollo.",
         "_deepnote_index_column": 458
        },
        {
         "id_dimension_ped": "PED.D01",
         "descripcion_dimension_ped": "Humana y Social",
         "id_linea_estrategica_ped": "PED.01.03",
         "descripcion_linea_estrategica_ped": "Grupos de Atención Prioritaria",
         "id_objetivo_ped": "PED.01.03.01",
         "descripcion_objetivo_ped": "Asegurar las condiciones para el desarrollo pleno e igualitario de los grupos prioritarios del esta…",
         "id_estrategia_ped": "PED.01.03.01.01",
         "descripcion_estrategia_ped": "Garantía de los derechos de las niñas, niños y adolescentes.",
         "id_ods": "ODS.04",
         "descripcion_ods": "Objetivo 4: Garantizar una educación inclusiva, equitativa y de calidad y promover oportunidades de…",
         "id_metas_ods": "MM.04.0B",
         "descripción_metas_ods": "4.b Para 2020, aumentar a nivel mundial el número de becas disponibles para países en desarrollo.",
         "_deepnote_index_column": 459
        },
        {
         "id_dimension_ped": "PED.D01",
         "descripcion_dimension_ped": "Humana y Social",
         "id_linea_estrategica_ped": "PED.01.03",
         "descripcion_linea_estrategica_ped": "Grupos de Atención Prioritaria",
         "id_objetivo_ped": "PED.01.03.01",
         "descripcion_objetivo_ped": "Asegurar las condiciones para el desarrollo pleno e igualitario de los grupos prioritarios del esta…",
         "id_estrategia_ped": "PED.01.03.01.02",
         "descripcion_estrategia_ped": "Apoyo para que las personas jóvenes potencien sus habilidades y capacidades para el logro de sus pr…",
         "id_ods": "ODS.04",
         "descripcion_ods": "Objetivo 4: Garantizar una educación inclusiva, equitativa y de calidad y promover oportunidades de…",
         "id_metas_ods": "MM.04.0B",
         "descripción_metas_ods": "4.b Para 2020, aumentar a nivel mundial el número de becas disponibles para países en desarrollo.",
         "_deepnote_index_column": 460
        },
        {
         "id_dimension_ped": "PED.D01",
         "descripcion_dimension_ped": "Humana y Social",
         "id_linea_estrategica_ped": "PED.01.03",
         "descripcion_linea_estrategica_ped": "Grupos de Atención Prioritaria",
         "id_objetivo_ped": "PED.01.03.01",
         "descripcion_objetivo_ped": "Asegurar las condiciones para el desarrollo pleno e igualitario de los grupos prioritarios del esta…",
         "id_estrategia_ped": "PED.01.03.01.03",
         "descripcion_estrategia_ped": "Incremento en las acciones de inclusión que permitan a las personas adultas mayores participar acti…",
         "id_ods": "ODS.04",
         "descripcion_ods": "Objetivo 4: Garantizar una educación inclusiva, equitativa y de calidad y promover oportunidades de…",
         "id_metas_ods": "MM.04.0B",
         "descripción_metas_ods": "4.b Para 2020, aumentar a nivel mundial el número de becas disponibles para países en desarrollo.",
         "_deepnote_index_column": 461
        },
        {
         "id_dimension_ped": "PED.D01",
         "descripcion_dimension_ped": "Humana y Social",
         "id_linea_estrategica_ped": "PED.01.03",
         "descripcion_linea_estrategica_ped": "Grupos de Atención Prioritaria",
         "id_objetivo_ped": "PED.01.03.01",
         "descripcion_objetivo_ped": "Asegurar las condiciones para el desarrollo pleno e igualitario de los grupos prioritarios del esta…",
         "id_estrategia_ped": "PED.01.03.01.04",
         "descripcion_estrategia_ped": "Fortalecimiento de las acciones de inclusión que aseguren que las personas con discapacidad se inte…",
         "id_ods": "ODS.04",
         "descripcion_ods": "Objetivo 4: Garantizar una educación inclusiva, equitativa y de calidad y promover oportunidades de…",
         "id_metas_ods": "MM.04.0B",
         "descripción_metas_ods": "4.b Para 2020, aumentar a nivel mundial el número de becas disponibles para países en desarrollo.",
         "_deepnote_index_column": 462
        },
        {
         "id_dimension_ped": "PED.D01",
         "descripcion_dimension_ped": "Humana y Social",
         "id_linea_estrategica_ped": "PED.01.03",
         "descripcion_linea_estrategica_ped": "Grupos de Atención Prioritaria",
         "id_objetivo_ped": "PED.01.03.01",
         "descripcion_objetivo_ped": "Asegurar las condiciones para el desarrollo pleno e igualitario de los grupos prioritarios del esta…",
         "id_estrategia_ped": "PED.01.03.01.05",
         "descripcion_estrategia_ped": "Fortalecimiento de los apoyos a los pueblos y las comunidades indígenas, para que logren consolidar…",
         "id_ods": "ODS.04",
         "descripcion_ods": "Objetivo 4: Garantizar una educación inclusiva, equitativa y de calidad y promover oportunidades de…",
         "id_metas_ods": "MM.04.0B",
         "descripción_metas_ods": "4.b Para 2020, aumentar a nivel mundial el número de becas disponibles para países en desarrollo.",
         "_deepnote_index_column": 463
        },
        {
         "id_dimension_ped": "PED.D01",
         "descripcion_dimension_ped": "Humana y Social",
         "id_linea_estrategica_ped": "PED.01.03",
         "descripcion_linea_estrategica_ped": "Grupos de Atención Prioritaria",
         "id_objetivo_ped": "PED.01.03.01",
         "descripcion_objetivo_ped": "Asegurar las condiciones para el desarrollo pleno e igualitario de los grupos prioritarios del esta…",
         "id_estrategia_ped": "PED.01.03.01.06",
         "descripcion_estrategia_ped": "Fomento de la inclusión y la participación de las personas migrantes y sus fami­ lias en el desarro…",
         "id_ods": "ODS.04",
         "descripcion_ods": "Objetivo 4: Garantizar una educación inclusiva, equitativa y de calidad y promover oportunidades de…",
         "id_metas_ods": "MM.04.0B",
         "descripción_metas_ods": "4.b Para 2020, aumentar a nivel mundial el número de becas disponibles para países en desarrollo.",
         "_deepnote_index_column": 464
        },
        {
         "id_dimension_ped": "PED.D01",
         "descripcion_dimension_ped": "Humana y Social",
         "id_linea_estrategica_ped": "PED.01.02",
         "descripcion_linea_estrategica_ped": "Educación para la Vida",
         "id_objetivo_ped": "PED.01.02.02",
         "descripcion_objetivo_ped": "Incrementar la cobertura de la educación superior con calidad, pertinencia y equidad.",
         "id_estrategia_ped": "PED.01.02.02.01",
         "descripcion_estrategia_ped": "Desarrollo de la cobertura de educación superior de manera incluyente, para la mejora de la calidad…",
         "id_ods": "ODS.04",
         "descripcion_ods": "Objetivo 4: Garantizar una educación inclusiva, equitativa y de calidad y promover oportunidades de…",
         "id_metas_ods": "MM.04.01",
         "descripción_metas_ods": "4.1 Asegurar que todas las niñas y todos los niños terminen la enseñanza primaria y secundaria, que…",
         "_deepnote_index_column": 465
        },
        {
         "id_dimension_ped": "PED.D01",
         "descripcion_dimension_ped": "Humana y Social",
         "id_linea_estrategica_ped": "PED.01.02",
         "descripcion_linea_estrategica_ped": "Educación para la Vida",
         "id_objetivo_ped": "PED.01.02.02",
         "descripcion_objetivo_ped": "Incrementar la cobertura de la educación superior con calidad, pertinencia y equidad.",
         "id_estrategia_ped": "PED.01.02.02.02",
         "descripcion_estrategia_ped": "Incremento de la empleabilidad de las y los egresados de la educación superior.",
         "id_ods": "ODS.04",
         "descripcion_ods": "Objetivo 4: Garantizar una educación inclusiva, equitativa y de calidad y promover oportunidades de…",
         "id_metas_ods": "MM.04.01",
         "descripción_metas_ods": "4.1 Asegurar que todas las niñas y todos los niños terminen la enseñanza primaria y secundaria, que…",
         "_deepnote_index_column": 466
        },
        {
         "id_dimension_ped": "PED.D01",
         "descripcion_dimension_ped": "Humana y Social",
         "id_linea_estrategica_ped": "PED.01.02",
         "descripcion_linea_estrategica_ped": "Educación para la Vida",
         "id_objetivo_ped": "PED.01.02.02",
         "descripcion_objetivo_ped": "Incrementar la cobertura de la educación superior con calidad, pertinencia y equidad.",
         "id_estrategia_ped": "PED.01.02.02.03",
         "descripcion_estrategia_ped": "Fomento de la movilidad interinstitucional de la población estudiantil y el perso­ nal docente y ad…",
         "id_ods": "ODS.04",
         "descripcion_ods": "Objetivo 4: Garantizar una educación inclusiva, equitativa y de calidad y promover oportunidades de…",
         "id_metas_ods": "MM.04.01",
         "descripción_metas_ods": "4.1 Asegurar que todas las niñas y todos los niños terminen la enseñanza primaria y secundaria, que…",
         "_deepnote_index_column": 467
        },
        {
         "id_dimension_ped": "PED.D01",
         "descripcion_dimension_ped": "Humana y Social",
         "id_linea_estrategica_ped": "PED.01.02",
         "descripcion_linea_estrategica_ped": "Educación para la Vida",
         "id_objetivo_ped": "PED.01.02.02",
         "descripcion_objetivo_ped": "Incrementar la cobertura de la educación superior con calidad, pertinencia y equidad.",
         "id_estrategia_ped": "PED.01.02.02.04",
         "descripcion_estrategia_ped": "Impulso a la formación de capital humano de alto nivel académico en discipli­ nas emergentes y área…",
         "id_ods": "ODS.04",
         "descripcion_ods": "Objetivo 4: Garantizar una educación inclusiva, equitativa y de calidad y promover oportunidades de…",
         "id_metas_ods": "MM.04.01",
         "descripción_metas_ods": "4.1 Asegurar que todas las niñas y todos los niños terminen la enseñanza primaria y secundaria, que…",
         "_deepnote_index_column": 468
        },
        {
         "id_dimension_ped": "PED.D04",
         "descripcion_dimension_ped": "Administración Pública y Estado de Derecho",
         "id_linea_estrategica_ped": "PED.04.02",
         "descripcion_linea_estrategica_ped": "Seguridad y Justicia",
         "id_objetivo_ped": "PED.04.02.01",
         "descripcion_objetivo_ped": "Abatir los actos delincuenciales que afectan la seguridad de las y los guanajuatenses.",
         "id_estrategia_ped": "PED.04.02.01.01",
         "descripcion_estrategia_ped": "Consolidación del modelo de prevención social de la violencia y la delincuencia que involucra a tod…",
         "id_ods": "ODS.04",
         "descripcion_ods": "Objetivo 4: Garantizar una educación inclusiva, equitativa y de calidad y promover oportunidades de…",
         "id_metas_ods": "MM.04.07",
         "descripción_metas_ods": "4.7 Garantizar que todos los estudiantes adquieran los conocimientos teóricos y prácticos necesario…",
         "_deepnote_index_column": 488
        },
        {
         "id_dimension_ped": "PED.D04",
         "descripcion_dimension_ped": "Administración Pública y Estado de Derecho",
         "id_linea_estrategica_ped": "PED.04.02",
         "descripcion_linea_estrategica_ped": "Seguridad y Justicia",
         "id_objetivo_ped": "PED.04.02.01",
         "descripcion_objetivo_ped": "Abatir los actos delincuenciales que afectan la seguridad de las y los guanajuatenses.",
         "id_estrategia_ped": "PED.04.02.01.02",
         "descripcion_estrategia_ped": "Incremento, fortalecimiento y profesionalización de los cuerpos policiales para ser consolidados co…",
         "id_ods": "ODS.04",
         "descripcion_ods": "Objetivo 4: Garantizar una educación inclusiva, equitativa y de calidad y promover oportunidades de…",
         "id_metas_ods": "MM.04.07",
         "descripción_metas_ods": "4.7 Garantizar que todos los estudiantes adquieran los conocimientos teóricos y prácticos necesario…",
         "_deepnote_index_column": 489
        },
        {
         "id_dimension_ped": "PED.D04",
         "descripcion_dimension_ped": "Administración Pública y Estado de Derecho",
         "id_linea_estrategica_ped": "PED.04.02",
         "descripcion_linea_estrategica_ped": "Seguridad y Justicia",
         "id_objetivo_ped": "PED.04.02.01",
         "descripcion_objetivo_ped": "Abatir los actos delincuenciales que afectan la seguridad de las y los guanajuatenses.",
         "id_estrategia_ped": "PED.04.02.01.03",
         "descripcion_estrategia_ped": "Trabajo interinstitucional e implementación de servicios de inteligencia e investigación criminal.",
         "id_ods": "ODS.04",
         "descripcion_ods": "Objetivo 4: Garantizar una educación inclusiva, equitativa y de calidad y promover oportunidades de…",
         "id_metas_ods": "MM.04.07",
         "descripción_metas_ods": "4.7 Garantizar que todos los estudiantes adquieran los conocimientos teóricos y prácticos necesario…",
         "_deepnote_index_column": 490
        },
        {
         "id_dimension_ped": "PED.D04",
         "descripcion_dimension_ped": "Administración Pública y Estado de Derecho",
         "id_linea_estrategica_ped": "PED.04.02",
         "descripcion_linea_estrategica_ped": "Seguridad y Justicia",
         "id_objetivo_ped": "PED.04.02.01",
         "descripcion_objetivo_ped": "Abatir los actos delincuenciales que afectan la seguridad de las y los guanajuatenses.",
         "id_estrategia_ped": "PED.04.02.01.04",
         "descripcion_estrategia_ped": "Consolidación del sistema penitenciario estatal, con la finalidad de lograr la reinserción social e…",
         "id_ods": "ODS.04",
         "descripcion_ods": "Objetivo 4: Garantizar una educación inclusiva, equitativa y de calidad y promover oportunidades de…",
         "id_metas_ods": "MM.04.07",
         "descripción_metas_ods": "4.7 Garantizar que todos los estudiantes adquieran los conocimientos teóricos y prácticos necesario…",
         "_deepnote_index_column": 491
        },
        {
         "id_dimension_ped": "PED.D04",
         "descripcion_dimension_ped": "Administración Pública y Estado de Derecho",
         "id_linea_estrategica_ped": "PED.04.02",
         "descripcion_linea_estrategica_ped": "Seguridad y Justicia",
         "id_objetivo_ped": "PED.04.02.01",
         "descripcion_objetivo_ped": "Abatir los actos delincuenciales que afectan la seguridad de las y los guanajuatenses.",
         "id_estrategia_ped": "PED.04.02.01.05",
         "descripcion_estrategia_ped": "Implementación de programas de desarrollo integral para las y los hijos de las internas en la entid…",
         "id_ods": "ODS.04",
         "descripcion_ods": "Objetivo 4: Garantizar una educación inclusiva, equitativa y de calidad y promover oportunidades de…",
         "id_metas_ods": "MM.04.07",
         "descripción_metas_ods": "4.7 Garantizar que todos los estudiantes adquieran los conocimientos teóricos y prácticos necesario…",
         "_deepnote_index_column": 492
        },
        {
         "id_dimension_ped": "PED.D04",
         "descripcion_dimension_ped": "Administración Pública y Estado de Derecho",
         "id_linea_estrategica_ped": "PED.04.02",
         "descripcion_linea_estrategica_ped": "Seguridad y Justicia",
         "id_objetivo_ped": "PED.04.02.01",
         "descripcion_objetivo_ped": "Abatir los actos delincuenciales que afectan la seguridad de las y los guanajuatenses.",
         "id_estrategia_ped": "PED.04.02.01.06",
         "descripcion_estrategia_ped": "Participación ciudadana en el diseño, el desarrollo y la evaluación de las políticas públicas en ma…",
         "id_ods": "ODS.04",
         "descripcion_ods": "Objetivo 4: Garantizar una educación inclusiva, equitativa y de calidad y promover oportunidades de…",
         "id_metas_ods": "MM.04.07",
         "descripción_metas_ods": "4.7 Garantizar que todos los estudiantes adquieran los conocimientos teóricos y prácticos necesario…",
         "_deepnote_index_column": 493
        },
        {
         "id_dimension_ped": "PED.D01",
         "descripcion_dimension_ped": "Humana y Social",
         "id_linea_estrategica_ped": "PED.01.02",
         "descripcion_linea_estrategica_ped": "Educación para la Vida",
         "id_objetivo_ped": "PED.01.02.01",
         "descripcion_objetivo_ped": "Lograr una cobertura universal en la educación obligatoria, mediante un modelo educativo de calidad…",
         "id_estrategia_ped": "PED.01.02.01.01",
         "descripcion_estrategia_ped": "Reducción del rezago educativo en la educación obligatoria.",
         "id_ods": "ODS.04",
         "descripcion_ods": "Objetivo 4: Garantizar una educación inclusiva, equitativa y de calidad y promover oportunidades de…",
         "id_metas_ods": "MM.04.04",
         "descripción_metas_ods": "4.4 Aumentar el número de jóvenes y adultos que tienen las competencias necesarias, en particular t…",
         "_deepnote_index_column": 500
        },
        {
         "id_dimension_ped": "PED.D01",
         "descripcion_dimension_ped": "Humana y Social",
         "id_linea_estrategica_ped": "PED.01.02",
         "descripcion_linea_estrategica_ped": "Educación para la Vida",
         "id_objetivo_ped": "PED.01.02.01",
         "descripcion_objetivo_ped": "Lograr una cobertura universal en la educación obligatoria, mediante un modelo educativo de calidad…",
         "id_estrategia_ped": "PED.01.02.01.02",
         "descripcion_estrategia_ped": "Incremento de la cobertura con calidad de la educación media superior.",
         "id_ods": "ODS.04",
         "descripcion_ods": "Objetivo 4: Garantizar una educación inclusiva, equitativa y de calidad y promover oportunidades de…",
         "id_metas_ods": "MM.04.04",
         "descripción_metas_ods": "4.4 Aumentar el número de jóvenes y adultos que tienen las competencias necesarias, en particular t…",
         "_deepnote_index_column": 501
        },
        {
         "id_dimension_ped": "PED.D01",
         "descripcion_dimension_ped": "Humana y Social",
         "id_linea_estrategica_ped": "PED.01.02",
         "descripcion_linea_estrategica_ped": "Educación para la Vida",
         "id_objetivo_ped": "PED.01.02.01",
         "descripcion_objetivo_ped": "Lograr una cobertura universal en la educación obligatoria, mediante un modelo educativo de calidad…",
         "id_estrategia_ped": "PED.01.02.01.03",
         "descripcion_estrategia_ped": "Implementación de un modelo educativo de vanguardia, que asegure el pleno desarrollo de las capacid…",
         "id_ods": "ODS.04",
         "descripcion_ods": "Objetivo 4: Garantizar una educación inclusiva, equitativa y de calidad y promover oportunidades de…",
         "id_metas_ods": "MM.04.04",
         "descripción_metas_ods": "4.4 Aumentar el número de jóvenes y adultos que tienen las competencias necesarias, en particular t…",
         "_deepnote_index_column": 502
        },
        {
         "id_dimension_ped": "PED.D01",
         "descripcion_dimension_ped": "Humana y Social",
         "id_linea_estrategica_ped": "PED.01.02",
         "descripcion_linea_estrategica_ped": "Educación para la Vida",
         "id_objetivo_ped": "PED.01.02.01",
         "descripcion_objetivo_ped": "Lograr una cobertura universal en la educación obligatoria, mediante un modelo educativo de calidad…",
         "id_estrategia_ped": "PED.01.02.01.04",
         "descripcion_estrategia_ped": "Fortalecimiento de las capacidades del personal docente mediante actualiza­ ciones que les permitan…",
         "id_ods": "ODS.04",
         "descripcion_ods": "Objetivo 4: Garantizar una educación inclusiva, equitativa y de calidad y promover oportunidades de…",
         "id_metas_ods": "MM.04.04",
         "descripción_metas_ods": "4.4 Aumentar el número de jóvenes y adultos que tienen las competencias necesarias, en particular t…",
         "_deepnote_index_column": 503
        },
        {
         "id_dimension_ped": "PED.D01",
         "descripcion_dimension_ped": "Humana y Social",
         "id_linea_estrategica_ped": "PED.01.02",
         "descripcion_linea_estrategica_ped": "Educación para la Vida",
         "id_objetivo_ped": "PED.01.02.01",
         "descripcion_objetivo_ped": "Lograr una cobertura universal en la educación obligatoria, mediante un modelo educativo de calidad…",
         "id_estrategia_ped": "PED.01.02.01.05",
         "descripcion_estrategia_ped": "Fomento del involucramiento de los padres y madres de familia y de la sociedad en la tarea educativ…",
         "id_ods": "ODS.04",
         "descripcion_ods": "Objetivo 4: Garantizar una educación inclusiva, equitativa y de calidad y promover oportunidades de…",
         "id_metas_ods": "MM.04.04",
         "descripción_metas_ods": "4.4 Aumentar el número de jóvenes y adultos que tienen las competencias necesarias, en particular t…",
         "_deepnote_index_column": 504
        },
        {
         "id_dimension_ped": "PED.D01",
         "descripcion_dimension_ped": "Humana y Social",
         "id_linea_estrategica_ped": "PED.01.02",
         "descripcion_linea_estrategica_ped": "Educación para la Vida",
         "id_objetivo_ped": "PED.01.02.01",
         "descripcion_objetivo_ped": "Lograr una cobertura universal en la educación obligatoria, mediante un modelo educativo de calidad…",
         "id_estrategia_ped": "PED.01.02.01.01",
         "descripcion_estrategia_ped": "Reducción del rezago educativo en la educación obligatoria.",
         "id_ods": "ODS.04",
         "descripcion_ods": "Objetivo 4: Garantizar una educación inclusiva, equitativa y de calidad y promover oportunidades de…",
         "id_metas_ods": "MM.04.0C",
         "descripción_metas_ods": "4.c Aumentar considerablemente la oferta de maestros calificados, en particular mediante la coopera…",
         "_deepnote_index_column": 512
        },
        {
         "id_dimension_ped": "PED.D01",
         "descripcion_dimension_ped": "Humana y Social",
         "id_linea_estrategica_ped": "PED.01.02",
         "descripcion_linea_estrategica_ped": "Educación para la Vida",
         "id_objetivo_ped": "PED.01.02.01",
         "descripcion_objetivo_ped": "Lograr una cobertura universal en la educación obligatoria, mediante un modelo educativo de calidad…",
         "id_estrategia_ped": "PED.01.02.01.02",
         "descripcion_estrategia_ped": "Incremento de la cobertura con calidad de la educación media superior.",
         "id_ods": "ODS.04",
         "descripcion_ods": "Objetivo 4: Garantizar una educación inclusiva, equitativa y de calidad y promover oportunidades de…",
         "id_metas_ods": "MM.04.0C",
         "descripción_metas_ods": "4.c Aumentar considerablemente la oferta de maestros calificados, en particular mediante la coopera…",
         "_deepnote_index_column": 513
        },
        {
         "id_dimension_ped": "PED.D01",
         "descripcion_dimension_ped": "Humana y Social",
         "id_linea_estrategica_ped": "PED.01.02",
         "descripcion_linea_estrategica_ped": "Educación para la Vida",
         "id_objetivo_ped": "PED.01.02.01",
         "descripcion_objetivo_ped": "Lograr una cobertura universal en la educación obligatoria, mediante un modelo educativo de calidad…",
         "id_estrategia_ped": "PED.01.02.01.03",
         "descripcion_estrategia_ped": "Implementación de un modelo educativo de vanguardia, que asegure el pleno desarrollo de las capacid…",
         "id_ods": "ODS.04",
         "descripcion_ods": "Objetivo 4: Garantizar una educación inclusiva, equitativa y de calidad y promover oportunidades de…",
         "id_metas_ods": "MM.04.0C",
         "descripción_metas_ods": "4.c Aumentar considerablemente la oferta de maestros calificados, en particular mediante la coopera…",
         "_deepnote_index_column": 514
        },
        {
         "id_dimension_ped": "PED.D01",
         "descripcion_dimension_ped": "Humana y Social",
         "id_linea_estrategica_ped": "PED.01.02",
         "descripcion_linea_estrategica_ped": "Educación para la Vida",
         "id_objetivo_ped": "PED.01.02.01",
         "descripcion_objetivo_ped": "Lograr una cobertura universal en la educación obligatoria, mediante un modelo educativo de calidad…",
         "id_estrategia_ped": "PED.01.02.01.04",
         "descripcion_estrategia_ped": "Fortalecimiento de las capacidades del personal docente mediante actualiza­ ciones que les permitan…",
         "id_ods": "ODS.04",
         "descripcion_ods": "Objetivo 4: Garantizar una educación inclusiva, equitativa y de calidad y promover oportunidades de…",
         "id_metas_ods": "MM.04.0C",
         "descripción_metas_ods": "4.c Aumentar considerablemente la oferta de maestros calificados, en particular mediante la coopera…",
         "_deepnote_index_column": 515
        },
        {
         "id_dimension_ped": "PED.D01",
         "descripcion_dimension_ped": "Humana y Social",
         "id_linea_estrategica_ped": "PED.01.02",
         "descripcion_linea_estrategica_ped": "Educación para la Vida",
         "id_objetivo_ped": "PED.01.02.01",
         "descripcion_objetivo_ped": "Lograr una cobertura universal en la educación obligatoria, mediante un modelo educativo de calidad…",
         "id_estrategia_ped": "PED.01.02.01.05",
         "descripcion_estrategia_ped": "Fomento del involucramiento de los padres y madres de familia y de la sociedad en la tarea educativ…",
         "id_ods": "ODS.04",
         "descripcion_ods": "Objetivo 4: Garantizar una educación inclusiva, equitativa y de calidad y promover oportunidades de…",
         "id_metas_ods": "MM.04.0C",
         "descripción_metas_ods": "4.c Aumentar considerablemente la oferta de maestros calificados, en particular mediante la coopera…",
         "_deepnote_index_column": 516
        },
        {
         "id_dimension_ped": "PED.D02",
         "descripcion_dimension_ped": "Económica",
         "id_linea_estrategica_ped": "PED.02.01",
         "descripcion_linea_estrategica_ped": "Empleo y Competitividad",
         "id_objetivo_ped": "PED.02.01.01",
         "descripcion_objetivo_ped": "Promover el empleo de calidad, inclusivo y bien remunerado, formado y capacitado para la empleabili…",
         "id_estrategia_ped": "PED.02.01.01.01",
         "descripcion_estrategia_ped": "Formación y fortalecimiento de capital humano de alto nivel competitivo con perspectiva de género.",
         "id_ods": "ODS.04",
         "descripcion_ods": "Objetivo 4: Garantizar una educación inclusiva, equitativa y de calidad y promover oportunidades de…",
         "id_metas_ods": "MM.04.0B",
         "descripción_metas_ods": "4.b Para 2020, aumentar a nivel mundial el número de becas disponibles para países en desarrollo.",
         "_deepnote_index_column": 517
        },
        {
         "id_dimension_ped": "PED.D02",
         "descripcion_dimension_ped": "Económica",
         "id_linea_estrategica_ped": "PED.02.01",
         "descripcion_linea_estrategica_ped": "Empleo y Competitividad",
         "id_objetivo_ped": "PED.02.01.01",
         "descripcion_objetivo_ped": "Promover el empleo de calidad, inclusivo y bien remunerado, formado y capacitado para la empleabili…",
         "id_estrategia_ped": "PED.02.01.01.02",
         "descripcion_estrategia_ped": "Promoción del autoempleo, la equidad y la igualdad laboral.",
         "id_ods": "ODS.04",
         "descripcion_ods": "Objetivo 4: Garantizar una educación inclusiva, equitativa y de calidad y promover oportunidades de…",
         "id_metas_ods": "MM.04.0B",
         "descripción_metas_ods": "4.b Para 2020, aumentar a nivel mundial el número de becas disponibles para países en desarrollo.",
         "_deepnote_index_column": 518
        },
        {
         "id_dimension_ped": "PED.D02",
         "descripcion_dimension_ped": "Económica",
         "id_linea_estrategica_ped": "PED.02.01",
         "descripcion_linea_estrategica_ped": "Empleo y Competitividad",
         "id_objetivo_ped": "PED.02.01.01",
         "descripcion_objetivo_ped": "Promover el empleo de calidad, inclusivo y bien remunerado, formado y capacitado para la empleabili…",
         "id_estrategia_ped": "PED.02.01.01.03",
         "descripcion_estrategia_ped": "Fortalecimiento del sistema de protección social de las personas trabajadoras.",
         "id_ods": "ODS.04",
         "descripcion_ods": "Objetivo 4: Garantizar una educación inclusiva, equitativa y de calidad y promover oportunidades de…",
         "id_metas_ods": "MM.04.0B",
         "descripción_metas_ods": "4.b Para 2020, aumentar a nivel mundial el número de becas disponibles para países en desarrollo.",
         "_deepnote_index_column": 519
        },
        {
         "id_dimension_ped": "PED.D02",
         "descripcion_dimension_ped": "Económica",
         "id_linea_estrategica_ped": "PED.02.01",
         "descripcion_linea_estrategica_ped": "Empleo y Competitividad",
         "id_objetivo_ped": "PED.02.01.01",
         "descripcion_objetivo_ped": "Promover el empleo de calidad, inclusivo y bien remunerado, formado y capacitado para la empleabili…",
         "id_estrategia_ped": "PED.02.01.01.04",
         "descripcion_estrategia_ped": "Vinculación laboral entre el sector educativo y productivo.",
         "id_ods": "ODS.04",
         "descripcion_ods": "Objetivo 4: Garantizar una educación inclusiva, equitativa y de calidad y promover oportunidades de…",
         "id_metas_ods": "MM.04.0B",
         "descripción_metas_ods": "4.b Para 2020, aumentar a nivel mundial el número de becas disponibles para países en desarrollo.",
         "_deepnote_index_column": 520
        }
       ]
      },
      "text/plain": "    id_dimension_ped                   descripcion_dimension_ped  \\\n10           PED.D04  Administración Pública y Estado de Derecho   \n11           PED.D04  Administración Pública y Estado de Derecho   \n12           PED.D04  Administración Pública y Estado de Derecho   \n13           PED.D04  Administración Pública y Estado de Derecho   \n14           PED.D04  Administración Pública y Estado de Derecho   \n..               ...                                         ...   \n516          PED.D01                             Humana y Social   \n517          PED.D02                                   Económica   \n518          PED.D02                                   Económica   \n519          PED.D02                                   Económica   \n520          PED.D02                                   Económica   \n\n    id_linea_estrategica_ped descripcion_linea_estrategica_ped  \\\n10                 PED.04.02              Seguridad y Justicia   \n11                 PED.04.02              Seguridad y Justicia   \n12                 PED.04.02              Seguridad y Justicia   \n13                 PED.04.02              Seguridad y Justicia   \n14                 PED.04.02              Seguridad y Justicia   \n..                       ...                               ...   \n516                PED.01.02            Educación para la Vida   \n517                PED.02.01           Empleo y Competitividad   \n518                PED.02.01           Empleo y Competitividad   \n519                PED.02.01           Empleo y Competitividad   \n520                PED.02.01           Empleo y Competitividad   \n\n    id_objetivo_ped                           descripcion_objetivo_ped  \\\n10     PED.04.02.02  Incrementar la efectividad del sistema de just...   \n11     PED.04.02.02  Incrementar la efectividad del sistema de just...   \n12     PED.04.02.02  Incrementar la efectividad del sistema de just...   \n13     PED.04.02.02  Incrementar la efectividad del sistema de just...   \n14     PED.04.02.02  Incrementar la efectividad del sistema de just...   \n..              ...                                                ...   \n516    PED.01.02.01  Lograr una cobertura universal en la educación...   \n517    PED.02.01.01  Promover el empleo de calidad, inclusivo y bie...   \n518    PED.02.01.01  Promover el empleo de calidad, inclusivo y bie...   \n519    PED.02.01.01  Promover el empleo de calidad, inclusivo y bie...   \n520    PED.02.01.01  Promover el empleo de calidad, inclusivo y bie...   \n\n    id_estrategia_ped                         descripcion_estrategia_ped  \\\n10    PED.04.02.02.01  Fortalecimiento de la autonomía de todos los ó...   \n11    PED.04.02.02.02  Fortalecimiento de la infraestructura, el equi...   \n12    PED.04.02.02.03  Implementación de esquemas de seguimiento y ev...   \n13    PED.04.02.02.04  Homologación, interconexión y certificación de...   \n14    PED.04.02.02.05  Instauración del servicio civil de carrera con...   \n..                ...                                                ...   \n516   PED.01.02.01.05  Fomento del involucramiento de los padres y ma...   \n517   PED.02.01.01.01  Formación y fortalecimiento de capital humano ...   \n518   PED.02.01.01.02  Promoción del autoempleo, la equidad y la igua...   \n519   PED.02.01.01.03  Fortalecimiento del sistema de protección soci...   \n520   PED.02.01.01.04  Vinculación laboral entre el sector educativo ...   \n\n     id_ods                                    descripcion_ods id_metas_ods  \\\n10   ODS.04  Objetivo 4: Garantizar una educación inclusiva...     MM.04.07   \n11   ODS.04  Objetivo 4: Garantizar una educación inclusiva...     MM.04.07   \n12   ODS.04  Objetivo 4: Garantizar una educación inclusiva...     MM.04.07   \n13   ODS.04  Objetivo 4: Garantizar una educación inclusiva...     MM.04.07   \n14   ODS.04  Objetivo 4: Garantizar una educación inclusiva...     MM.04.07   \n..      ...                                                ...          ...   \n516  ODS.04  Objetivo 4: Garantizar una educación inclusiva...     MM.04.0C   \n517  ODS.04  Objetivo 4: Garantizar una educación inclusiva...     MM.04.0B   \n518  ODS.04  Objetivo 4: Garantizar una educación inclusiva...     MM.04.0B   \n519  ODS.04  Objetivo 4: Garantizar una educación inclusiva...     MM.04.0B   \n520  ODS.04  Objetivo 4: Garantizar una educación inclusiva...     MM.04.0B   \n\n                                 descripción_metas_ods  \n10   4.7 Garantizar que todos los estudiantes adqui...  \n11   4.7 Garantizar que todos los estudiantes adqui...  \n12   4.7 Garantizar que todos los estudiantes adqui...  \n13   4.7 Garantizar que todos los estudiantes adqui...  \n14   4.7 Garantizar que todos los estudiantes adqui...  \n..                                                 ...  \n516  4.c Aumentar considerablemente la oferta de ma...  \n517  4.b Para 2020, aumentar a nivel mundial el núm...  \n518  4.b Para 2020, aumentar a nivel mundial el núm...  \n519  4.b Para 2020, aumentar a nivel mundial el núm...  \n520  4.b Para 2020, aumentar a nivel mundial el núm...  \n\n[166 rows x 12 columns]",
      "text/html": "<div>\n<style scoped>\n    .dataframe tbody tr th:only-of-type {\n        vertical-align: middle;\n    }\n\n    .dataframe tbody tr th {\n        vertical-align: top;\n    }\n\n    .dataframe thead th {\n        text-align: right;\n    }\n</style>\n<table border=\"1\" class=\"dataframe\">\n  <thead>\n    <tr style=\"text-align: right;\">\n      <th></th>\n      <th>id_dimension_ped</th>\n      <th>descripcion_dimension_ped</th>\n      <th>id_linea_estrategica_ped</th>\n      <th>descripcion_linea_estrategica_ped</th>\n      <th>id_objetivo_ped</th>\n      <th>descripcion_objetivo_ped</th>\n      <th>id_estrategia_ped</th>\n      <th>descripcion_estrategia_ped</th>\n      <th>id_ods</th>\n      <th>descripcion_ods</th>\n      <th>id_metas_ods</th>\n      <th>descripción_metas_ods</th>\n    </tr>\n  </thead>\n  <tbody>\n    <tr>\n      <th>10</th>\n      <td>PED.D04</td>\n      <td>Administración Pública y Estado de Derecho</td>\n      <td>PED.04.02</td>\n      <td>Seguridad y Justicia</td>\n      <td>PED.04.02.02</td>\n      <td>Incrementar la efectividad del sistema de just...</td>\n      <td>PED.04.02.02.01</td>\n      <td>Fortalecimiento de la autonomía de todos los ó...</td>\n      <td>ODS.04</td>\n      <td>Objetivo 4: Garantizar una educación inclusiva...</td>\n      <td>MM.04.07</td>\n      <td>4.7 Garantizar que todos los estudiantes adqui...</td>\n    </tr>\n    <tr>\n      <th>11</th>\n      <td>PED.D04</td>\n      <td>Administración Pública y Estado de Derecho</td>\n      <td>PED.04.02</td>\n      <td>Seguridad y Justicia</td>\n      <td>PED.04.02.02</td>\n      <td>Incrementar la efectividad del sistema de just...</td>\n      <td>PED.04.02.02.02</td>\n      <td>Fortalecimiento de la infraestructura, el equi...</td>\n      <td>ODS.04</td>\n      <td>Objetivo 4: Garantizar una educación inclusiva...</td>\n      <td>MM.04.07</td>\n      <td>4.7 Garantizar que todos los estudiantes adqui...</td>\n    </tr>\n    <tr>\n      <th>12</th>\n      <td>PED.D04</td>\n      <td>Administración Pública y Estado de Derecho</td>\n      <td>PED.04.02</td>\n      <td>Seguridad y Justicia</td>\n      <td>PED.04.02.02</td>\n      <td>Incrementar la efectividad del sistema de just...</td>\n      <td>PED.04.02.02.03</td>\n      <td>Implementación de esquemas de seguimiento y ev...</td>\n      <td>ODS.04</td>\n      <td>Objetivo 4: Garantizar una educación inclusiva...</td>\n      <td>MM.04.07</td>\n      <td>4.7 Garantizar que todos los estudiantes adqui...</td>\n    </tr>\n    <tr>\n      <th>13</th>\n      <td>PED.D04</td>\n      <td>Administración Pública y Estado de Derecho</td>\n      <td>PED.04.02</td>\n      <td>Seguridad y Justicia</td>\n      <td>PED.04.02.02</td>\n      <td>Incrementar la efectividad del sistema de just...</td>\n      <td>PED.04.02.02.04</td>\n      <td>Homologación, interconexión y certificación de...</td>\n      <td>ODS.04</td>\n      <td>Objetivo 4: Garantizar una educación inclusiva...</td>\n      <td>MM.04.07</td>\n      <td>4.7 Garantizar que todos los estudiantes adqui...</td>\n    </tr>\n    <tr>\n      <th>14</th>\n      <td>PED.D04</td>\n      <td>Administración Pública y Estado de Derecho</td>\n      <td>PED.04.02</td>\n      <td>Seguridad y Justicia</td>\n      <td>PED.04.02.02</td>\n      <td>Incrementar la efectividad del sistema de just...</td>\n      <td>PED.04.02.02.05</td>\n      <td>Instauración del servicio civil de carrera con...</td>\n      <td>ODS.04</td>\n      <td>Objetivo 4: Garantizar una educación inclusiva...</td>\n      <td>MM.04.07</td>\n      <td>4.7 Garantizar que todos los estudiantes adqui...</td>\n    </tr>\n    <tr>\n      <th>...</th>\n      <td>...</td>\n      <td>...</td>\n      <td>...</td>\n      <td>...</td>\n      <td>...</td>\n      <td>...</td>\n      <td>...</td>\n      <td>...</td>\n      <td>...</td>\n      <td>...</td>\n      <td>...</td>\n      <td>...</td>\n    </tr>\n    <tr>\n      <th>516</th>\n      <td>PED.D01</td>\n      <td>Humana y Social</td>\n      <td>PED.01.02</td>\n      <td>Educación para la Vida</td>\n      <td>PED.01.02.01</td>\n      <td>Lograr una cobertura universal en la educación...</td>\n      <td>PED.01.02.01.05</td>\n      <td>Fomento del involucramiento de los padres y ma...</td>\n      <td>ODS.04</td>\n      <td>Objetivo 4: Garantizar una educación inclusiva...</td>\n      <td>MM.04.0C</td>\n      <td>4.c Aumentar considerablemente la oferta de ma...</td>\n    </tr>\n    <tr>\n      <th>517</th>\n      <td>PED.D02</td>\n      <td>Económica</td>\n      <td>PED.02.01</td>\n      <td>Empleo y Competitividad</td>\n      <td>PED.02.01.01</td>\n      <td>Promover el empleo de calidad, inclusivo y bie...</td>\n      <td>PED.02.01.01.01</td>\n      <td>Formación y fortalecimiento de capital humano ...</td>\n      <td>ODS.04</td>\n      <td>Objetivo 4: Garantizar una educación inclusiva...</td>\n      <td>MM.04.0B</td>\n      <td>4.b Para 2020, aumentar a nivel mundial el núm...</td>\n    </tr>\n    <tr>\n      <th>518</th>\n      <td>PED.D02</td>\n      <td>Económica</td>\n      <td>PED.02.01</td>\n      <td>Empleo y Competitividad</td>\n      <td>PED.02.01.01</td>\n      <td>Promover el empleo de calidad, inclusivo y bie...</td>\n      <td>PED.02.01.01.02</td>\n      <td>Promoción del autoempleo, la equidad y la igua...</td>\n      <td>ODS.04</td>\n      <td>Objetivo 4: Garantizar una educación inclusiva...</td>\n      <td>MM.04.0B</td>\n      <td>4.b Para 2020, aumentar a nivel mundial el núm...</td>\n    </tr>\n    <tr>\n      <th>519</th>\n      <td>PED.D02</td>\n      <td>Económica</td>\n      <td>PED.02.01</td>\n      <td>Empleo y Competitividad</td>\n      <td>PED.02.01.01</td>\n      <td>Promover el empleo de calidad, inclusivo y bie...</td>\n      <td>PED.02.01.01.03</td>\n      <td>Fortalecimiento del sistema de protección soci...</td>\n      <td>ODS.04</td>\n      <td>Objetivo 4: Garantizar una educación inclusiva...</td>\n      <td>MM.04.0B</td>\n      <td>4.b Para 2020, aumentar a nivel mundial el núm...</td>\n    </tr>\n    <tr>\n      <th>520</th>\n      <td>PED.D02</td>\n      <td>Económica</td>\n      <td>PED.02.01</td>\n      <td>Empleo y Competitividad</td>\n      <td>PED.02.01.01</td>\n      <td>Promover el empleo de calidad, inclusivo y bie...</td>\n      <td>PED.02.01.01.04</td>\n      <td>Vinculación laboral entre el sector educativo ...</td>\n      <td>ODS.04</td>\n      <td>Objetivo 4: Garantizar una educación inclusiva...</td>\n      <td>MM.04.0B</td>\n      <td>4.b Para 2020, aumentar a nivel mundial el núm...</td>\n    </tr>\n  </tbody>\n</table>\n<p>166 rows × 12 columns</p>\n</div>"
     },
     "metadata": {}
    }
   ],
   "execution_count": null
  },
  {
   "cell_type": "markdown",
   "source": "## Oportunidad y reto para el ODS 4",
   "metadata": {
    "tags": [],
    "cell_id": "00011-75090b86-0961-4821-a745-f80dba2277f9",
    "deepnote_cell_type": "markdown"
   }
  },
  {
   "cell_type": "code",
   "metadata": {
    "tags": [],
    "cell_id": "00028-e5abefb6-79de-4afe-bbb6-978bb373809b",
    "deepnote_to_be_reexecuted": false,
    "source_hash": "802eede6",
    "execution_start": 1634263488185,
    "execution_millis": 33,
    "deepnote_cell_type": "code"
   },
   "source": "# Se agrupa y prepara el dataset de las inversiones al primer trimestre del 2021 per capita\n\n# Se agrupa el presupuesto para cada municipio y se le da el formato de millones\n# de pesos, por eso se divide entre un millón\ndf_ajuste = df_inversion_ods_4.groupby(\"Municipio\", as_index=False).sum()\n\n# Se cambian los nombres de los municipios para que se ajusten a los nombres del geojson\ndf_ajuste[\"Municipio\"] = df_ajuste[\"Municipio\"].str.replace(\"Jérecuaro\", \"Jerécuaro\")\n\n# Se hace el cálculo per cápita\ndf_ajuste_final = df_ajuste.join(df_escuela.set_index(\"Municipio\")[[\"Matricula\",\"Analfabetismo\"]], on=\"Municipio\")\ndf_ajuste_final = df_ajuste_final.join(df_gto.set_index(\"Municipio\")[\"Poblacion\"], on=\"Municipio\")\ndf_ajuste_final[\"Monto (mdp)\"] = df_ajuste_final[\"Monto\"]/1_000_000\n\ndf_ajuste_final = df_ajuste_final.dropna(axis=0)",
   "outputs": [],
   "execution_count": null
  },
  {
   "cell_type": "code",
   "metadata": {
    "tags": [],
    "cell_id": "00028-80d9c2f3-a634-4e92-961a-3b405d1d8ac1",
    "deepnote_to_be_reexecuted": false,
    "source_hash": "f649e21f",
    "execution_start": 1634263488283,
    "execution_millis": 24206931,
    "deepnote_cell_type": "code"
   },
   "source": "# Se hace una regresión lineal de las matrículas de educación básica en\n# el ciclo 2020/2021 en el estado y el dinero de inversión destinado al\n# primer trimestre\najuste = np.polyfit(df_ajuste_final[\"Matricula\"], df_ajuste_final[\"Monto (mdp)\"], deg=1)\nrecta = np.poly1d(ajuste)",
   "outputs": [],
   "execution_count": null
  },
  {
   "cell_type": "code",
   "metadata": {
    "tags": [],
    "cell_id": "00030-274ffad0-95f7-48b9-a210-fcfb9a1ff512",
    "deepnote_to_be_reexecuted": false,
    "source_hash": "8f4db47b",
    "execution_start": 1634263488284,
    "execution_millis": 345,
    "deepnote_cell_type": "code"
   },
   "source": "# Se grafica la recta\nfig = sns.scatterplot(x=df_ajuste_final[\"Matricula\"], y=df_ajuste_final[\"Monto (mdp)\"],\n                      color=colors[1]);\n\nplt.plot(df_ajuste_final[\"Matricula\"], recta(df_ajuste_final[\"Matricula\"]),\n         color=colors[0]);",
   "outputs": [
    {
     "data": {
      "text/plain": "<Figure size 432x288 with 1 Axes>",
      "image/png": "[encoded data removed]"
     },
     "metadata": {
      "needs_background": "light",
      "image/png": {
       "width": 389,
       "height": 262
      }
     },
     "output_type": "display_data"
    }
   ],
   "execution_count": null
  },
  {
   "cell_type": "code",
   "metadata": {
    "tags": [],
    "cell_id": "00032-5aae7a86-b8e5-4a9b-bc8c-8530c44cce48",
    "deepnote_to_be_reexecuted": false,
    "source_hash": "1967f5b",
    "execution_start": 1634263488640,
    "execution_millis": 239,
    "deepnote_cell_type": "code"
   },
   "source": "# La gráfica anterior pero interactiva 8)\n\n# Se hace el scatterplot\nfig = px.scatter(df_ajuste_final, x=\"Matricula\", y=\"Monto (mdp)\",\n                 hover_name=df_ajuste_final[\"Municipio\"],\n                 color_discrete_sequence=[colors[1]],\n                 title=\"Inversión en el ODS 4 por la matrícula de educación básica\",\n                 labels={\"Matricula\": \"Matrícula del ciclo 2020/2021 (educación básica)\"})\n\n# Se añade la recta del ajuste\nfig.add_trace(go.Line(x=df_ajuste_final[\"Matricula\"],\n              y=recta(df_ajuste_final[\"Matricula\"]),\n              showlegend=False,\n              line=dict(color=colors[0], width=3)))\n\n# Se ajusta el tamaño de la letra\nfig.update_layout(font_size=15)\n\n# Se guarda el html para poder usarlo en la página web de Dataket 8)\nplotly.offline.plot(fig, filename='/work/scatter_matricula.html')\n\n# Se muestra la imagen\nfig.show()",
   "outputs": [
    {
     "name": "stderr",
     "text": "/shared-libs/python3.7/py/lib/python3.7/site-packages/plotly/graph_objs/_deprecations.py:385: DeprecationWarning:\n\nplotly.graph_objs.Line is deprecated.\nPlease replace it with one of the following more specific types\n  - plotly.graph_objs.scatter.Line\n  - plotly.graph_objs.layout.shape.Line\n  - etc.\n\n\n",
     "output_type": "stream"
    },
    {
     "data": {
      "text/html": "<html>\n<head><meta charset=\"utf-8\" /></head>\n<body>\n    <div>            <script src=\"https://cdnjs.cloudflare.com/ajax/libs/mathjax/2.7.5/MathJax.js?config=TeX-AMS-MML_SVG\"></script><script type=\"text/javascript\">if (window.MathJax) {MathJax.Hub.Config({SVG: {font: \"STIX-Web\"}});}</script>                <script type=\"text/javascript\">window.PlotlyConfig = {MathJaxConfig: 'local'};</script>\n        <script src=\"https://cdn.plot.ly/plotly-2.4.2.min.js\"></script>                <div id=\"3eb19581-e1d1-4635-a3e5-804eb779b9cc\" class=\"plotly-graph-div\" style=\"height:525px; width:100%;\"></div>            <script type=\"text/javascript\">                                    window.PLOTLYENV=window.PLOTLYENV || {};                                    if (document.getElementById(\"3eb19581-e1d1-4635-a3e5-804eb779b9cc\")) {                    Plotly.newPlot(                        \"3eb19581-e1d1-4635-a3e5-804eb779b9cc\",                        [{\"hovertemplate\":\"<b>%{hovertext}</b><br><br>Matr\\u00edcula del ciclo 2020/2021 (educaci\\u00f3n b\\u00e1sica)=%{x}<br>Monto (mdp)=%{y}<extra></extra>\",\"hovertext\":[\"Abasolo\",\"Ac\\u00e1mbaro\",\"Apaseo el Alto\",\"Apaseo el Grande\",\"Atarjea\",\"Celaya\",\"Comonfort\",\"Coroneo\",\"Cortazar\",\"Cuer\\u00e1maro\",\"Doctor Mora\",\"Dolores Hidalgo Cuna de la Independencia Nacional\",\"Guanajuato\",\"Huan\\u00edmaro\",\"Irapuato\",\"Jaral del Progreso\",\"Jer\\u00e9cuaro\",\"Le\\u00f3n\",\"Manuel Doblado\",\"Morole\\u00f3n\",\"Ocampo\",\"Pueblo Nuevo\",\"Pur\\u00edsima del Rinc\\u00f3n\",\"P\\u00e9njamo\",\"Romita\",\"Salamanca\",\"Salvatierra\",\"San Diego de la Uni\\u00f3n\",\"San Felipe\",\"San Francisco del Rinc\\u00f3n\",\"San Jos\\u00e9 Iturbide\",\"San Luis de la Paz\",\"San Miguel de Allende\",\"Santa Catarina\",\"Santa Cruz de Juventino Rosas\",\"Santiago Maravat\\u00edo\",\"Silao de la Victoria\",\"Tarandacuao\",\"Tarimoro\",\"Tierra Blanca\",\"Uriangato\",\"Valle de Santiago\",\"Victoria\",\"Villagr\\u00e1n\",\"Xich\\u00fa\",\"Yuriria\"],\"legendgroup\":\"\",\"marker\":{\"color\":\"#2a9d8f\",\"symbol\":\"circle\"},\"mode\":\"markers\",\"name\":\"\",\"orientation\":\"v\",\"showlegend\":false,\"type\":\"scatter\",\"x\":[18838.0,20521.0,14641.0,22673.0,1146.0,99401.0,18447.0,2741.0,19640.0,6531.0,6988.0,38995.0,41893.0,4395.0,121012.0,7878.0,10522.0,317678.0,8228.0,10033.0,5599.0,3197.0,17347.0,31016.0,14606.0,54027.0,18620.0,8708.0,28399.0,27208.0,21604.0,29756.0,39047.0,1384.0,19824.0,1204.0,45622.0,2544.0,6950.0,4547.0,9728.0,28579.0,5101.0,14148.0,2609.0,14286.0],\"xaxis\":\"x\",\"y\":[53.70916078,14.5992142,8.524018770000001,14.89611446,1.6485859200000001,86.14974887000001,30.667276819999998,2.71558923,18.686882,4.54134704,4.093316590000001,42.48039538999999,45.283328530000006,4.01135557,88.98859152999998,8.60429411,5.3125906,212.91247924999996,8.24252979,22.72032351,3.32131502,2.7265207499999997,19.97085758,97.07359692,20.43951448,86.86758717000002,50.524486270000004,5.1600915,18.360039799999996,20.1365687,10.68541058,22.76605301,115.39479934,0.77976872,14.85458409,0.5411178500000001,43.661620140000004,2.8265963,6.774215460000001,4.04886368,13.973033699999998,35.95357765999999,5.161991120000001,10.17778235,2.29894783,27.859946280000003],\"yaxis\":\"y\"},{\"line\":{\"color\":\"#264653\",\"width\":3},\"showlegend\":false,\"type\":\"scatter\",\"x\":[18838.0,20521.0,14641.0,22673.0,1146.0,99401.0,18447.0,2741.0,19640.0,6531.0,6988.0,38995.0,41893.0,4395.0,121012.0,7878.0,10522.0,317678.0,8228.0,10033.0,5599.0,3197.0,17347.0,31016.0,14606.0,54027.0,18620.0,8708.0,28399.0,27208.0,21604.0,29756.0,39047.0,1384.0,19824.0,1204.0,45622.0,2544.0,6950.0,4547.0,9728.0,28579.0,5101.0,14148.0,2609.0,14286.0],\"y\":[22.893655663719368,24.076605295834593,19.943661839603145,25.58920637029209,10.458275454935901,79.51990118487144,22.61882898151078,11.57937151151569,23.457366658940053,14.24329254878052,14.564509412640685,37.061638869035235,39.098589572463595,12.74193757896583,94.70987414960236,15.190073983396804,17.048492775620605,232.94277512974082,15.4360825224582,16.704783702474828,13.588206953337032,11.899885493835681,21.845659287317822,31.453347059975588,19.91906098569701,47.627354180952096,22.740427487961128,15.7734656617424,29.613906069336522,28.776774154987603,24.83782600384457,30.567716319354563,37.09818870912436,10.625561261497651,23.586696862332328,10.499042584266077,41.71963483577772,11.440903848101133,14.537799914114018,12.848775573072492,16.490404832721325,29.7404247465681,13.238171946329674,19.597141240296665,11.486591148212536,19.694138892840872]}],                        {\"font\":{\"size\":15},\"legend\":{\"tracegroupgap\":0},\"template\":{\"data\":{\"bar\":[{\"error_x\":{\"color\":\"#2a3f5f\"},\"error_y\":{\"color\":\"#2a3f5f\"},\"marker\":{\"line\":{\"color\":\"#E5ECF6\",\"width\":0.5},\"pattern\":{\"fillmode\":\"overlay\",\"size\":10,\"solidity\":0.2}},\"type\":\"bar\"}],\"barpolar\":[{\"marker\":{\"line\":{\"color\":\"#E5ECF6\",\"width\":0.5},\"pattern\":{\"fillmode\":\"overlay\",\"size\":10,\"solidity\":0.2}},\"type\":\"barpolar\"}],\"carpet\":[{\"aaxis\":{\"endlinecolor\":\"#2a3f5f\",\"gridcolor\":\"white\",\"linecolor\":\"white\",\"minorgridcolor\":\"white\",\"startlinecolor\":\"#2a3f5f\"},\"baxis\":{\"endlinecolor\":\"#2a3f5f\",\"gridcolor\":\"white\",\"linecolor\":\"white\",\"minorgridcolor\":\"white\",\"startlinecolor\":\"#2a3f5f\"},\"type\":\"carpet\"}],\"choropleth\":[{\"colorbar\":{\"outlinewidth\":0,\"ticks\":\"\"},\"type\":\"choropleth\"}],\"contour\":[{\"colorbar\":{\"outlinewidth\":0,\"ticks\":\"\"},\"colorscale\":[[0.0,\"#0d0887\"],[0.1111111111111111,\"#46039f\"],[0.2222222222222222,\"#7201a8\"],[0.3333333333333333,\"#9c179e\"],[0.4444444444444444,\"#bd3786\"],[0.5555555555555556,\"#d8576b\"],[0.6666666666666666,\"#ed7953\"],[0.7777777777777778,\"#fb9f3a\"],[0.8888888888888888,\"#fdca26\"],[1.0,\"#f0f921\"]],\"type\":\"contour\"}],\"contourcarpet\":[{\"colorbar\":{\"outlinewidth\":0,\"ticks\":\"\"},\"type\":\"contourcarpet\"}],\"heatmap\":[{\"colorbar\":{\"outlinewidth\":0,\"ticks\":\"\"},\"colorscale\":[[0.0,\"#0d0887\"],[0.1111111111111111,\"#46039f\"],[0.2222222222222222,\"#7201a8\"],[0.3333333333333333,\"#9c179e\"],[0.4444444444444444,\"#bd3786\"],[0.5555555555555556,\"#d8576b\"],[0.6666666666666666,\"#ed7953\"],[0.7777777777777778,\"#fb9f3a\"],[0.8888888888888888,\"#fdca26\"],[1.0,\"#f0f921\"]],\"type\":\"heatmap\"}],\"heatmapgl\":[{\"colorbar\":{\"outlinewidth\":0,\"ticks\":\"\"},\"colorscale\":[[0.0,\"#0d0887\"],[0.1111111111111111,\"#46039f\"],[0.2222222222222222,\"#7201a8\"],[0.3333333333333333,\"#9c179e\"],[0.4444444444444444,\"#bd3786\"],[0.5555555555555556,\"#d8576b\"],[0.6666666666666666,\"#ed7953\"],[0.7777777777777778,\"#fb9f3a\"],[0.8888888888888888,\"#fdca26\"],[1.0,\"#f0f921\"]],\"type\":\"heatmapgl\"}],\"histogram\":[{\"marker\":{\"pattern\":{\"fillmode\":\"overlay\",\"size\":10,\"solidity\":0.2}},\"type\":\"histogram\"}],\"histogram2d\":[{\"colorbar\":{\"outlinewidth\":0,\"ticks\":\"\"},\"colorscale\":[[0.0,\"#0d0887\"],[0.1111111111111111,\"#46039f\"],[0.2222222222222222,\"#7201a8\"],[0.3333333333333333,\"#9c179e\"],[0.4444444444444444,\"#bd3786\"],[0.5555555555555556,\"#d8576b\"],[0.6666666666666666,\"#ed7953\"],[0.7777777777777778,\"#fb9f3a\"],[0.8888888888888888,\"#fdca26\"],[1.0,\"#f0f921\"]],\"type\":\"histogram2d\"}],\"histogram2dcontour\":[{\"colorbar\":{\"outlinewidth\":0,\"ticks\":\"\"},\"colorscale\":[[0.0,\"#0d0887\"],[0.1111111111111111,\"#46039f\"],[0.2222222222222222,\"#7201a8\"],[0.3333333333333333,\"#9c179e\"],[0.4444444444444444,\"#bd3786\"],[0.5555555555555556,\"#d8576b\"],[0.6666666666666666,\"#ed7953\"],[0.7777777777777778,\"#fb9f3a\"],[0.8888888888888888,\"#fdca26\"],[1.0,\"#f0f921\"]],\"type\":\"histogram2dcontour\"}],\"mesh3d\":[{\"colorbar\":{\"outlinewidth\":0,\"ticks\":\"\"},\"type\":\"mesh3d\"}],\"parcoords\":[{\"line\":{\"colorbar\":{\"outlinewidth\":0,\"ticks\":\"\"}},\"type\":\"parcoords\"}],\"pie\":[{\"automargin\":true,\"type\":\"pie\"}],\"scatter\":[{\"marker\":{\"colorbar\":{\"outlinewidth\":0,\"ticks\":\"\"}},\"type\":\"scatter\"}],\"scatter3d\":[{\"line\":{\"colorbar\":{\"outlinewidth\":0,\"ticks\":\"\"}},\"marker\":{\"colorbar\":{\"outlinewidth\":0,\"ticks\":\"\"}},\"type\":\"scatter3d\"}],\"scattercarpet\":[{\"marker\":{\"colorbar\":{\"outlinewidth\":0,\"ticks\":\"\"}},\"type\":\"scattercarpet\"}],\"scattergeo\":[{\"marker\":{\"colorbar\":{\"outlinewidth\":0,\"ticks\":\"\"}},\"type\":\"scattergeo\"}],\"scattergl\":[{\"marker\":{\"colorbar\":{\"outlinewidth\":0,\"ticks\":\"\"}},\"type\":\"scattergl\"}],\"scattermapbox\":[{\"marker\":{\"colorbar\":{\"outlinewidth\":0,\"ticks\":\"\"}},\"type\":\"scattermapbox\"}],\"scatterpolar\":[{\"marker\":{\"colorbar\":{\"outlinewidth\":0,\"ticks\":\"\"}},\"type\":\"scatterpolar\"}],\"scatterpolargl\":[{\"marker\":{\"colorbar\":{\"outlinewidth\":0,\"ticks\":\"\"}},\"type\":\"scatterpolargl\"}],\"scatterternary\":[{\"marker\":{\"colorbar\":{\"outlinewidth\":0,\"ticks\":\"\"}},\"type\":\"scatterternary\"}],\"surface\":[{\"colorbar\":{\"outlinewidth\":0,\"ticks\":\"\"},\"colorscale\":[[0.0,\"#0d0887\"],[0.1111111111111111,\"#46039f\"],[0.2222222222222222,\"#7201a8\"],[0.3333333333333333,\"#9c179e\"],[0.4444444444444444,\"#bd3786\"],[0.5555555555555556,\"#d8576b\"],[0.6666666666666666,\"#ed7953\"],[0.7777777777777778,\"#fb9f3a\"],[0.8888888888888888,\"#fdca26\"],[1.0,\"#f0f921\"]],\"type\":\"surface\"}],\"table\":[{\"cells\":{\"fill\":{\"color\":\"#EBF0F8\"},\"line\":{\"color\":\"white\"}},\"header\":{\"fill\":{\"color\":\"#C8D4E3\"},\"line\":{\"color\":\"white\"}},\"type\":\"table\"}]},\"layout\":{\"annotationdefaults\":{\"arrowcolor\":\"#2a3f5f\",\"arrowhead\":0,\"arrowwidth\":1},\"autotypenumbers\":\"strict\",\"coloraxis\":{\"colorbar\":{\"outlinewidth\":0,\"ticks\":\"\"}},\"colorscale\":{\"diverging\":[[0,\"#8e0152\"],[0.1,\"#c51b7d\"],[0.2,\"#de77ae\"],[0.3,\"#f1b6da\"],[0.4,\"#fde0ef\"],[0.5,\"#f7f7f7\"],[0.6,\"#e6f5d0\"],[0.7,\"#b8e186\"],[0.8,\"#7fbc41\"],[0.9,\"#4d9221\"],[1,\"#276419\"]],\"sequential\":[[0.0,\"#0d0887\"],[0.1111111111111111,\"#46039f\"],[0.2222222222222222,\"#7201a8\"],[0.3333333333333333,\"#9c179e\"],[0.4444444444444444,\"#bd3786\"],[0.5555555555555556,\"#d8576b\"],[0.6666666666666666,\"#ed7953\"],[0.7777777777777778,\"#fb9f3a\"],[0.8888888888888888,\"#fdca26\"],[1.0,\"#f0f921\"]],\"sequentialminus\":[[0.0,\"#0d0887\"],[0.1111111111111111,\"#46039f\"],[0.2222222222222222,\"#7201a8\"],[0.3333333333333333,\"#9c179e\"],[0.4444444444444444,\"#bd3786\"],[0.5555555555555556,\"#d8576b\"],[0.6666666666666666,\"#ed7953\"],[0.7777777777777778,\"#fb9f3a\"],[0.8888888888888888,\"#fdca26\"],[1.0,\"#f0f921\"]]},\"colorway\":[\"#636efa\",\"#EF553B\",\"#00cc96\",\"#ab63fa\",\"#FFA15A\",\"#19d3f3\",\"#FF6692\",\"#B6E880\",\"#FF97FF\",\"#FECB52\"],\"font\":{\"color\":\"#2a3f5f\"},\"geo\":{\"bgcolor\":\"white\",\"lakecolor\":\"white\",\"landcolor\":\"#E5ECF6\",\"showlakes\":true,\"showland\":true,\"subunitcolor\":\"white\"},\"hoverlabel\":{\"align\":\"left\"},\"hovermode\":\"closest\",\"mapbox\":{\"style\":\"light\"},\"paper_bgcolor\":\"white\",\"plot_bgcolor\":\"#E5ECF6\",\"polar\":{\"angularaxis\":{\"gridcolor\":\"white\",\"linecolor\":\"white\",\"ticks\":\"\"},\"bgcolor\":\"#E5ECF6\",\"radialaxis\":{\"gridcolor\":\"white\",\"linecolor\":\"white\",\"ticks\":\"\"}},\"scene\":{\"xaxis\":{\"backgroundcolor\":\"#E5ECF6\",\"gridcolor\":\"white\",\"gridwidth\":2,\"linecolor\":\"white\",\"showbackground\":true,\"ticks\":\"\",\"zerolinecolor\":\"white\"},\"yaxis\":{\"backgroundcolor\":\"#E5ECF6\",\"gridcolor\":\"white\",\"gridwidth\":2,\"linecolor\":\"white\",\"showbackground\":true,\"ticks\":\"\",\"zerolinecolor\":\"white\"},\"zaxis\":{\"backgroundcolor\":\"#E5ECF6\",\"gridcolor\":\"white\",\"gridwidth\":2,\"linecolor\":\"white\",\"showbackground\":true,\"ticks\":\"\",\"zerolinecolor\":\"white\"}},\"shapedefaults\":{\"line\":{\"color\":\"#2a3f5f\"}},\"ternary\":{\"aaxis\":{\"gridcolor\":\"white\",\"linecolor\":\"white\",\"ticks\":\"\"},\"baxis\":{\"gridcolor\":\"white\",\"linecolor\":\"white\",\"ticks\":\"\"},\"bgcolor\":\"#E5ECF6\",\"caxis\":{\"gridcolor\":\"white\",\"linecolor\":\"white\",\"ticks\":\"\"}},\"title\":{\"x\":0.05},\"xaxis\":{\"automargin\":true,\"gridcolor\":\"white\",\"linecolor\":\"white\",\"ticks\":\"\",\"title\":{\"standoff\":15},\"zerolinecolor\":\"white\",\"zerolinewidth\":2},\"yaxis\":{\"automargin\":true,\"gridcolor\":\"white\",\"linecolor\":\"white\",\"ticks\":\"\",\"title\":{\"standoff\":15},\"zerolinecolor\":\"white\",\"zerolinewidth\":2}}},\"title\":{\"text\":\"Inversi\\u00f3n en el ODS 4 por la matr\\u00edcula de educaci\\u00f3n b\\u00e1sica\"},\"xaxis\":{\"anchor\":\"y\",\"domain\":[0.0,1.0],\"title\":{\"text\":\"Matr\\u00edcula del ciclo 2020/2021 (educaci\\u00f3n b\\u00e1sica)\"}},\"yaxis\":{\"anchor\":\"x\",\"domain\":[0.0,1.0],\"title\":{\"text\":\"Monto (mdp)\"}}},                        {\"responsive\": true}                    ).then(function(){\n                            \nvar gd = document.getElementById('3eb19581-e1d1-4635-a3e5-804eb779b9cc');\nvar x = new MutationObserver(function (mutations, observer) {{\n        var display = window.getComputedStyle(gd).display;\n        if (!display || display === 'none') {{\n            console.log([gd, 'removed!']);\n            Plotly.purge(gd);\n            observer.disconnect();\n        }}\n}});\n\n// Listen for the removal of the full notebook cells\nvar notebookContainer = gd.closest('#notebook-container');\nif (notebookContainer) {{\n    x.observe(notebookContainer, {childList: true});\n}}\n\n// Listen for the clearing of the current output cell\nvar outputEl = gd.closest('.output');\nif (outputEl) {{\n    x.observe(outputEl, {childList: true});\n}}\n\n                        })                };                            </script>        </div>\n</body>\n</html>"
     },
     "metadata": {},
     "output_type": "display_data"
    }
   ],
   "execution_count": null
  },
  {
   "cell_type": "code",
   "metadata": {
    "tags": [],
    "cell_id": "00035-62a42199-6f0d-48c2-8218-63a1d401ebc0",
    "deepnote_to_be_reexecuted": false,
    "source_hash": "2f031e86",
    "execution_start": 1634263488885,
    "execution_millis": 24207169,
    "deepnote_cell_type": "code"
   },
   "source": "# Los componentes del ajuste\najuste",
   "outputs": [
    {
     "output_type": "execute_result",
     "execution_count": 30,
     "data": {
      "text/plain": "array([7.02881540e-04, 9.65277321e+00])"
     },
     "metadata": {}
    }
   ],
   "execution_count": null
  },
  {
   "cell_type": "code",
   "metadata": {
    "tags": [],
    "cell_id": "00032-7d4587de-9798-4763-9a97-90eb9dfd9cba",
    "deepnote_to_be_reexecuted": false,
    "source_hash": "556335ec",
    "execution_start": 1634263488912,
    "execution_millis": 545,
    "deepnote_cell_type": "code"
   },
   "source": "# Se calcula la correlación de todas las variables interesantes\n\n# Se define el tamaño de la figura\nplt.figure(figsize=(10,8))\n\n# Se hace el heatmap\nsns.heatmap(df_ajuste_final.drop([\"ciclo\", \"id_eje\", \"Monto\"], axis=1).corr(),\n            vmin=-1, vmax=1, annot=True,\n            cmap=sns.diverging_palette(300, 145, s=60, center=\"dark\", as_cmap=True));",
   "outputs": [
    {
     "data": {
      "text/plain": "<Figure size 720x576 with 2 Axes>",
      "image/png": "[encoded data removed]"
     },
     "metadata": {
      "needs_background": "light",
      "image/png": {
       "width": 565,
       "height": 470
      }
     },
     "output_type": "display_data"
    }
   ],
   "execution_count": null
  },
  {
   "cell_type": "code",
   "metadata": {
    "tags": [],
    "cell_id": "00034-2ddaced7-b6bb-46f6-9f06-17e14290abfb",
    "deepnote_to_be_reexecuted": false,
    "source_hash": "c64ad76c",
    "execution_start": 1634263489511,
    "execution_millis": 6108,
    "deepnote_cell_type": "code"
   },
   "source": "# Se hace un pairplot para ver la relación de las variables del dataset\nsns.pairplot(df_ajuste_final.drop([\"ciclo\", \"id_eje\", \"Monto\"], axis=1));",
   "outputs": [
    {
     "data": {
      "text/plain": "<Figure size 720x720 with 20 Axes>",
      "image/png": "[encoded data removed]"
     },
     "metadata": {
      "needs_background": "light",
      "image/png": {
       "width": 709,
       "height": 709
      }
     },
     "output_type": "display_data"
    }
   ],
   "execution_count": null
  },
  {
   "cell_type": "code",
   "metadata": {
    "tags": [],
    "cell_id": "00035-265b21b8-e34d-4525-a791-bb7abc68917d",
    "deepnote_to_be_reexecuted": false,
    "source_hash": "78b57334",
    "execution_start": 1634263495630,
    "execution_millis": 21,
    "deepnote_cell_type": "code"
   },
   "source": "# En el pairplot se puede ver que la matrícula y el analfabetismo siguen\n# una relación que parece exponencial\n\n# Para confirmar eso, se calcula el logaritmo de las matriculas\ndf_ajuste_final[\"logMatricula\"] = np.log(df_ajuste_final[\"Matricula\"])",
   "outputs": [],
   "execution_count": null
  },
  {
   "cell_type": "code",
   "metadata": {
    "tags": [],
    "cell_id": "00036-6bc26352-fb50-4e61-bbb1-0292d8f9cfdf",
    "deepnote_to_be_reexecuted": false,
    "source_hash": "c3cc06a",
    "execution_start": 1634263495660,
    "execution_millis": 390,
    "deepnote_cell_type": "code"
   },
   "source": "# Se hace el ajuste del logaritmo de la matrícula y la tasa de analfabetismo\najuste_2 = np.polyfit(df_ajuste_final[\"Analfabetismo\"], df_ajuste_final[\"logMatricula\"], deg=1)\nrecta_2 = np.poly1d(ajuste_2)\n\nsns.scatterplot(y=df_ajuste_final[\"logMatricula\"], x=df_ajuste_final[\"Analfabetismo\"],\n                color=colors[1]);\n\nplt.plot(df_ajuste_final[\"Analfabetismo\"], recta_2(df_ajuste_final[\"Analfabetismo\"]),\n         color=colors[0]);",
   "outputs": [
    {
     "data": {
      "text/plain": "<Figure size 432x288 with 1 Axes>",
      "image/png": "[encoded data removed]"
     },
     "metadata": {
      "needs_background": "light",
      "image/png": {
       "width": 382,
       "height": 262
      }
     },
     "output_type": "display_data"
    }
   ],
   "execution_count": null
  },
  {
   "cell_type": "code",
   "metadata": {
    "tags": [],
    "cell_id": "00037-4af60fe4-6ab4-46c8-958c-e61b69d96347",
    "deepnote_to_be_reexecuted": false,
    "source_hash": "86c92d",
    "execution_start": 1634263496052,
    "execution_millis": 247,
    "deepnote_cell_type": "code"
   },
   "source": "# La gráfica anterior pero interactiva B)\nfig = px.scatter(df_ajuste_final, x=\"Analfabetismo\", y=\"logMatricula\",\n                 hover_name=df_ajuste_final[\"Municipio\"],\n                 color_discrete_sequence=[colors[1]],\n                 title=\"La matrícula de educación básica y la tasa de analfabetismo\",\n                 labels={\"logMatricula\": \"Logaritmo de la Matrícula\",\n                         \"Analfabetismo\": \"Tasa de Analfabetismo (%)\"})\n\nfig.add_trace(go.Line(x=df_ajuste_final[\"Analfabetismo\"],\n              y=recta_2(df_ajuste_final[\"Analfabetismo\"]),\n              showlegend=False,\n              line=dict(color=colors[0], width=3)))\n\nfig.update_layout(font_size=15)\n\nplotly.offline.plot(fig, filename='/work/scatter_logmatricula.html')\n\nfig.show()",
   "outputs": [
    {
     "name": "stderr",
     "text": "/shared-libs/python3.7/py/lib/python3.7/site-packages/plotly/graph_objs/_deprecations.py:385: DeprecationWarning:\n\nplotly.graph_objs.Line is deprecated.\nPlease replace it with one of the following more specific types\n  - plotly.graph_objs.scatter.Line\n  - plotly.graph_objs.layout.shape.Line\n  - etc.\n\n\n",
     "output_type": "stream"
    },
    {
     "data": {
      "text/html": "<html>\n<head><meta charset=\"utf-8\" /></head>\n<body>\n    <div>            <script src=\"https://cdnjs.cloudflare.com/ajax/libs/mathjax/2.7.5/MathJax.js?config=TeX-AMS-MML_SVG\"></script><script type=\"text/javascript\">if (window.MathJax) {MathJax.Hub.Config({SVG: {font: \"STIX-Web\"}});}</script>                <script type=\"text/javascript\">window.PlotlyConfig = {MathJaxConfig: 'local'};</script>\n        <script src=\"https://cdn.plot.ly/plotly-2.4.2.min.js\"></script>                <div id=\"49d5827a-2455-4fc7-bf7e-9b56dd5db996\" class=\"plotly-graph-div\" style=\"height:525px; width:100%;\"></div>            <script type=\"text/javascript\">                                    window.PLOTLYENV=window.PLOTLYENV || {};                                    if (document.getElementById(\"49d5827a-2455-4fc7-bf7e-9b56dd5db996\")) {                    Plotly.newPlot(                        \"49d5827a-2455-4fc7-bf7e-9b56dd5db996\",                        [{\"hovertemplate\":\"<b>%{hovertext}</b><br><br>Tasa de Analfabetismo (%)=%{x}<br>Logaritmo de la Matr\\u00edcula=%{y}<extra></extra>\",\"hovertext\":[\"Abasolo\",\"Ac\\u00e1mbaro\",\"Apaseo el Alto\",\"Apaseo el Grande\",\"Atarjea\",\"Celaya\",\"Comonfort\",\"Coroneo\",\"Cortazar\",\"Cuer\\u00e1maro\",\"Doctor Mora\",\"Dolores Hidalgo Cuna de la Independencia Nacional\",\"Guanajuato\",\"Huan\\u00edmaro\",\"Irapuato\",\"Jaral del Progreso\",\"Jer\\u00e9cuaro\",\"Le\\u00f3n\",\"Manuel Doblado\",\"Morole\\u00f3n\",\"Ocampo\",\"Pueblo Nuevo\",\"Pur\\u00edsima del Rinc\\u00f3n\",\"P\\u00e9njamo\",\"Romita\",\"Salamanca\",\"Salvatierra\",\"San Diego de la Uni\\u00f3n\",\"San Felipe\",\"San Francisco del Rinc\\u00f3n\",\"San Jos\\u00e9 Iturbide\",\"San Luis de la Paz\",\"San Miguel de Allende\",\"Santa Catarina\",\"Santa Cruz de Juventino Rosas\",\"Santiago Maravat\\u00edo\",\"Silao de la Victoria\",\"Tarandacuao\",\"Tarimoro\",\"Tierra Blanca\",\"Uriangato\",\"Valle de Santiago\",\"Victoria\",\"Villagr\\u00e1n\",\"Xich\\u00fa\",\"Yuriria\"],\"legendgroup\":\"\",\"marker\":{\"color\":\"#2a9d8f\",\"symbol\":\"circle\"},\"mode\":\"markers\",\"name\":\"\",\"orientation\":\"v\",\"showlegend\":false,\"type\":\"scatter\",\"x\":[7.6,7.3,8.0,5.3,13.2,3.4,8.1,7.7,5.0,8.3,9.3,8.1,3.3,6.7,3.9,7.0,12.4,3.3,8.8,5.4,8.0,8.5,4.4,8.2,7.6,5.1,7.6,10.3,8.7,4.9,5.8,8.8,7.6,12.6,8.0,10.2,5.5,7.0,8.9,10.6,5.7,7.0,8.4,5.1,14.6,9.8],\"xaxis\":\"x\",\"y\":[9.843631385382762,9.929204031040765,9.591581091193483,10.028930068226643,7.044032897274685,11.506917452956234,9.82265703462158,7.916078096302786,9.885323581908457,8.784315349902657,8.851949671253948,10.571188711764599,10.64287402751427,8.388222810119277,11.703644993215226,8.971829343530851,9.261223582290752,12.6687935701419,9.015298250772847,9.213634938925614,8.630343289348893,8.069968149059841,9.76117485976141,10.342258479350765,9.589187682180055,10.897239200588063,9.831991550831058,9.071997422354437,10.25410921226176,10.211266326687031,9.980633761712781,10.300786071311231,10.572521327732806,7.232733136177615,9.894648603868923,7.093404625868766,10.728145335298285,7.841492924460013,8.846496938558838,8.42222295382501,9.182763604205949,10.260427461368563,8.537191877922927,9.557328550325371,7.866722285136729,9.567035315714918],\"yaxis\":\"y\"},{\"line\":{\"color\":\"#264653\",\"width\":3},\"showlegend\":false,\"type\":\"scatter\",\"x\":[7.6,7.3,8.0,5.3,13.2,3.4,8.1,7.7,5.0,8.3,9.3,8.1,3.3,6.7,3.9,7.0,12.4,3.3,8.8,5.4,8.0,8.5,4.4,8.2,7.6,5.1,7.6,10.3,8.7,4.9,5.8,8.8,7.6,12.6,8.0,10.2,5.5,7.0,8.9,10.6,5.7,7.0,8.4,5.1,14.6,9.8],\"y\":[9.49201384172698,9.587845602839007,9.364238160244273,10.226724010252532,7.7031543009691115,10.83365849729538,9.332294239873598,9.460069921356302,10.32255577136456,9.268406399132246,8.948967195425483,9.332294239873598,10.865602417666056,9.779509125063065,10.673938895442,9.683677363951036,7.958705663934521,10.865602417666056,9.108686797278864,10.194780089881855,9.364238160244273,9.204518558390893,10.514219293588617,9.300350319502922,9.49201384172698,10.290611850993884,9.49201384172698,8.62952799171872,9.140630717649541,10.354499691735237,10.06700440839915,9.108686797278864,9.49201384172698,7.8948178231931685,9.364238160244273,8.661471912089398,10.162836169511179,9.683677363951036,9.076742876908188,8.533696230606694,10.098948328769827,9.683677363951036,9.236462478761569,10.290611850993884,7.255939415779645,8.789247593572103]}],                        {\"font\":{\"size\":15},\"legend\":{\"tracegroupgap\":0},\"template\":{\"data\":{\"bar\":[{\"error_x\":{\"color\":\"#2a3f5f\"},\"error_y\":{\"color\":\"#2a3f5f\"},\"marker\":{\"line\":{\"color\":\"#E5ECF6\",\"width\":0.5},\"pattern\":{\"fillmode\":\"overlay\",\"size\":10,\"solidity\":0.2}},\"type\":\"bar\"}],\"barpolar\":[{\"marker\":{\"line\":{\"color\":\"#E5ECF6\",\"width\":0.5},\"pattern\":{\"fillmode\":\"overlay\",\"size\":10,\"solidity\":0.2}},\"type\":\"barpolar\"}],\"carpet\":[{\"aaxis\":{\"endlinecolor\":\"#2a3f5f\",\"gridcolor\":\"white\",\"linecolor\":\"white\",\"minorgridcolor\":\"white\",\"startlinecolor\":\"#2a3f5f\"},\"baxis\":{\"endlinecolor\":\"#2a3f5f\",\"gridcolor\":\"white\",\"linecolor\":\"white\",\"minorgridcolor\":\"white\",\"startlinecolor\":\"#2a3f5f\"},\"type\":\"carpet\"}],\"choropleth\":[{\"colorbar\":{\"outlinewidth\":0,\"ticks\":\"\"},\"type\":\"choropleth\"}],\"contour\":[{\"colorbar\":{\"outlinewidth\":0,\"ticks\":\"\"},\"colorscale\":[[0.0,\"#0d0887\"],[0.1111111111111111,\"#46039f\"],[0.2222222222222222,\"#7201a8\"],[0.3333333333333333,\"#9c179e\"],[0.4444444444444444,\"#bd3786\"],[0.5555555555555556,\"#d8576b\"],[0.6666666666666666,\"#ed7953\"],[0.7777777777777778,\"#fb9f3a\"],[0.8888888888888888,\"#fdca26\"],[1.0,\"#f0f921\"]],\"type\":\"contour\"}],\"contourcarpet\":[{\"colorbar\":{\"outlinewidth\":0,\"ticks\":\"\"},\"type\":\"contourcarpet\"}],\"heatmap\":[{\"colorbar\":{\"outlinewidth\":0,\"ticks\":\"\"},\"colorscale\":[[0.0,\"#0d0887\"],[0.1111111111111111,\"#46039f\"],[0.2222222222222222,\"#7201a8\"],[0.3333333333333333,\"#9c179e\"],[0.4444444444444444,\"#bd3786\"],[0.5555555555555556,\"#d8576b\"],[0.6666666666666666,\"#ed7953\"],[0.7777777777777778,\"#fb9f3a\"],[0.8888888888888888,\"#fdca26\"],[1.0,\"#f0f921\"]],\"type\":\"heatmap\"}],\"heatmapgl\":[{\"colorbar\":{\"outlinewidth\":0,\"ticks\":\"\"},\"colorscale\":[[0.0,\"#0d0887\"],[0.1111111111111111,\"#46039f\"],[0.2222222222222222,\"#7201a8\"],[0.3333333333333333,\"#9c179e\"],[0.4444444444444444,\"#bd3786\"],[0.5555555555555556,\"#d8576b\"],[0.6666666666666666,\"#ed7953\"],[0.7777777777777778,\"#fb9f3a\"],[0.8888888888888888,\"#fdca26\"],[1.0,\"#f0f921\"]],\"type\":\"heatmapgl\"}],\"histogram\":[{\"marker\":{\"pattern\":{\"fillmode\":\"overlay\",\"size\":10,\"solidity\":0.2}},\"type\":\"histogram\"}],\"histogram2d\":[{\"colorbar\":{\"outlinewidth\":0,\"ticks\":\"\"},\"colorscale\":[[0.0,\"#0d0887\"],[0.1111111111111111,\"#46039f\"],[0.2222222222222222,\"#7201a8\"],[0.3333333333333333,\"#9c179e\"],[0.4444444444444444,\"#bd3786\"],[0.5555555555555556,\"#d8576b\"],[0.6666666666666666,\"#ed7953\"],[0.7777777777777778,\"#fb9f3a\"],[0.8888888888888888,\"#fdca26\"],[1.0,\"#f0f921\"]],\"type\":\"histogram2d\"}],\"histogram2dcontour\":[{\"colorbar\":{\"outlinewidth\":0,\"ticks\":\"\"},\"colorscale\":[[0.0,\"#0d0887\"],[0.1111111111111111,\"#46039f\"],[0.2222222222222222,\"#7201a8\"],[0.3333333333333333,\"#9c179e\"],[0.4444444444444444,\"#bd3786\"],[0.5555555555555556,\"#d8576b\"],[0.6666666666666666,\"#ed7953\"],[0.7777777777777778,\"#fb9f3a\"],[0.8888888888888888,\"#fdca26\"],[1.0,\"#f0f921\"]],\"type\":\"histogram2dcontour\"}],\"mesh3d\":[{\"colorbar\":{\"outlinewidth\":0,\"ticks\":\"\"},\"type\":\"mesh3d\"}],\"parcoords\":[{\"line\":{\"colorbar\":{\"outlinewidth\":0,\"ticks\":\"\"}},\"type\":\"parcoords\"}],\"pie\":[{\"automargin\":true,\"type\":\"pie\"}],\"scatter\":[{\"marker\":{\"colorbar\":{\"outlinewidth\":0,\"ticks\":\"\"}},\"type\":\"scatter\"}],\"scatter3d\":[{\"line\":{\"colorbar\":{\"outlinewidth\":0,\"ticks\":\"\"}},\"marker\":{\"colorbar\":{\"outlinewidth\":0,\"ticks\":\"\"}},\"type\":\"scatter3d\"}],\"scattercarpet\":[{\"marker\":{\"colorbar\":{\"outlinewidth\":0,\"ticks\":\"\"}},\"type\":\"scattercarpet\"}],\"scattergeo\":[{\"marker\":{\"colorbar\":{\"outlinewidth\":0,\"ticks\":\"\"}},\"type\":\"scattergeo\"}],\"scattergl\":[{\"marker\":{\"colorbar\":{\"outlinewidth\":0,\"ticks\":\"\"}},\"type\":\"scattergl\"}],\"scattermapbox\":[{\"marker\":{\"colorbar\":{\"outlinewidth\":0,\"ticks\":\"\"}},\"type\":\"scattermapbox\"}],\"scatterpolar\":[{\"marker\":{\"colorbar\":{\"outlinewidth\":0,\"ticks\":\"\"}},\"type\":\"scatterpolar\"}],\"scatterpolargl\":[{\"marker\":{\"colorbar\":{\"outlinewidth\":0,\"ticks\":\"\"}},\"type\":\"scatterpolargl\"}],\"scatterternary\":[{\"marker\":{\"colorbar\":{\"outlinewidth\":0,\"ticks\":\"\"}},\"type\":\"scatterternary\"}],\"surface\":[{\"colorbar\":{\"outlinewidth\":0,\"ticks\":\"\"},\"colorscale\":[[0.0,\"#0d0887\"],[0.1111111111111111,\"#46039f\"],[0.2222222222222222,\"#7201a8\"],[0.3333333333333333,\"#9c179e\"],[0.4444444444444444,\"#bd3786\"],[0.5555555555555556,\"#d8576b\"],[0.6666666666666666,\"#ed7953\"],[0.7777777777777778,\"#fb9f3a\"],[0.8888888888888888,\"#fdca26\"],[1.0,\"#f0f921\"]],\"type\":\"surface\"}],\"table\":[{\"cells\":{\"fill\":{\"color\":\"#EBF0F8\"},\"line\":{\"color\":\"white\"}},\"header\":{\"fill\":{\"color\":\"#C8D4E3\"},\"line\":{\"color\":\"white\"}},\"type\":\"table\"}]},\"layout\":{\"annotationdefaults\":{\"arrowcolor\":\"#2a3f5f\",\"arrowhead\":0,\"arrowwidth\":1},\"autotypenumbers\":\"strict\",\"coloraxis\":{\"colorbar\":{\"outlinewidth\":0,\"ticks\":\"\"}},\"colorscale\":{\"diverging\":[[0,\"#8e0152\"],[0.1,\"#c51b7d\"],[0.2,\"#de77ae\"],[0.3,\"#f1b6da\"],[0.4,\"#fde0ef\"],[0.5,\"#f7f7f7\"],[0.6,\"#e6f5d0\"],[0.7,\"#b8e186\"],[0.8,\"#7fbc41\"],[0.9,\"#4d9221\"],[1,\"#276419\"]],\"sequential\":[[0.0,\"#0d0887\"],[0.1111111111111111,\"#46039f\"],[0.2222222222222222,\"#7201a8\"],[0.3333333333333333,\"#9c179e\"],[0.4444444444444444,\"#bd3786\"],[0.5555555555555556,\"#d8576b\"],[0.6666666666666666,\"#ed7953\"],[0.7777777777777778,\"#fb9f3a\"],[0.8888888888888888,\"#fdca26\"],[1.0,\"#f0f921\"]],\"sequentialminus\":[[0.0,\"#0d0887\"],[0.1111111111111111,\"#46039f\"],[0.2222222222222222,\"#7201a8\"],[0.3333333333333333,\"#9c179e\"],[0.4444444444444444,\"#bd3786\"],[0.5555555555555556,\"#d8576b\"],[0.6666666666666666,\"#ed7953\"],[0.7777777777777778,\"#fb9f3a\"],[0.8888888888888888,\"#fdca26\"],[1.0,\"#f0f921\"]]},\"colorway\":[\"#636efa\",\"#EF553B\",\"#00cc96\",\"#ab63fa\",\"#FFA15A\",\"#19d3f3\",\"#FF6692\",\"#B6E880\",\"#FF97FF\",\"#FECB52\"],\"font\":{\"color\":\"#2a3f5f\"},\"geo\":{\"bgcolor\":\"white\",\"lakecolor\":\"white\",\"landcolor\":\"#E5ECF6\",\"showlakes\":true,\"showland\":true,\"subunitcolor\":\"white\"},\"hoverlabel\":{\"align\":\"left\"},\"hovermode\":\"closest\",\"mapbox\":{\"style\":\"light\"},\"paper_bgcolor\":\"white\",\"plot_bgcolor\":\"#E5ECF6\",\"polar\":{\"angularaxis\":{\"gridcolor\":\"white\",\"linecolor\":\"white\",\"ticks\":\"\"},\"bgcolor\":\"#E5ECF6\",\"radialaxis\":{\"gridcolor\":\"white\",\"linecolor\":\"white\",\"ticks\":\"\"}},\"scene\":{\"xaxis\":{\"backgroundcolor\":\"#E5ECF6\",\"gridcolor\":\"white\",\"gridwidth\":2,\"linecolor\":\"white\",\"showbackground\":true,\"ticks\":\"\",\"zerolinecolor\":\"white\"},\"yaxis\":{\"backgroundcolor\":\"#E5ECF6\",\"gridcolor\":\"white\",\"gridwidth\":2,\"linecolor\":\"white\",\"showbackground\":true,\"ticks\":\"\",\"zerolinecolor\":\"white\"},\"zaxis\":{\"backgroundcolor\":\"#E5ECF6\",\"gridcolor\":\"white\",\"gridwidth\":2,\"linecolor\":\"white\",\"showbackground\":true,\"ticks\":\"\",\"zerolinecolor\":\"white\"}},\"shapedefaults\":{\"line\":{\"color\":\"#2a3f5f\"}},\"ternary\":{\"aaxis\":{\"gridcolor\":\"white\",\"linecolor\":\"white\",\"ticks\":\"\"},\"baxis\":{\"gridcolor\":\"white\",\"linecolor\":\"white\",\"ticks\":\"\"},\"bgcolor\":\"#E5ECF6\",\"caxis\":{\"gridcolor\":\"white\",\"linecolor\":\"white\",\"ticks\":\"\"}},\"title\":{\"x\":0.05},\"xaxis\":{\"automargin\":true,\"gridcolor\":\"white\",\"linecolor\":\"white\",\"ticks\":\"\",\"title\":{\"standoff\":15},\"zerolinecolor\":\"white\",\"zerolinewidth\":2},\"yaxis\":{\"automargin\":true,\"gridcolor\":\"white\",\"linecolor\":\"white\",\"ticks\":\"\",\"title\":{\"standoff\":15},\"zerolinecolor\":\"white\",\"zerolinewidth\":2}}},\"title\":{\"text\":\"La matr\\u00edcula de educaci\\u00f3n b\\u00e1sica y la tasa de analfabetismo\"},\"xaxis\":{\"anchor\":\"y\",\"domain\":[0.0,1.0],\"title\":{\"text\":\"Tasa de Analfabetismo (%)\"}},\"yaxis\":{\"anchor\":\"x\",\"domain\":[0.0,1.0],\"title\":{\"text\":\"Logaritmo de la Matr\\u00edcula\"}}},                        {\"responsive\": true}                    ).then(function(){\n                            \nvar gd = document.getElementById('49d5827a-2455-4fc7-bf7e-9b56dd5db996');\nvar x = new MutationObserver(function (mutations, observer) {{\n        var display = window.getComputedStyle(gd).display;\n        if (!display || display === 'none') {{\n            console.log([gd, 'removed!']);\n            Plotly.purge(gd);\n            observer.disconnect();\n        }}\n}});\n\n// Listen for the removal of the full notebook cells\nvar notebookContainer = gd.closest('#notebook-container');\nif (notebookContainer) {{\n    x.observe(notebookContainer, {childList: true});\n}}\n\n// Listen for the clearing of the current output cell\nvar outputEl = gd.closest('.output');\nif (outputEl) {{\n    x.observe(outputEl, {childList: true});\n}}\n\n                        })                };                            </script>        </div>\n</body>\n</html>"
     },
     "metadata": {},
     "output_type": "display_data"
    }
   ],
   "execution_count": null
  },
  {
   "cell_type": "code",
   "metadata": {
    "tags": [],
    "cell_id": "00036-5ba7a186-ac71-4653-82bf-c6e7a4c2c91d",
    "deepnote_to_be_reexecuted": false,
    "source_hash": "f8db3bcc",
    "execution_start": 1634263496295,
    "execution_millis": 16,
    "deepnote_cell_type": "code"
   },
   "source": "# Los coeficientes del ajuste. El primer componente del array corresponde a la pendiente\n# de la recta, el segundo corresponde a la ordenada en el origen de la recta.\najuste_2",
   "outputs": [
    {
     "output_type": "execute_result",
     "execution_count": 36,
     "data": {
      "text/plain": "array([-0.3194392 , 11.91975179])"
     },
     "metadata": {}
    }
   ],
   "execution_count": null
  },
  {
   "cell_type": "code",
   "metadata": {
    "tags": [],
    "cell_id": "00036-d1f23fca-fd97-4d15-b79f-1c08b73dd089",
    "deepnote_to_be_reexecuted": false,
    "source_hash": "7dac4fd",
    "execution_start": 1634263496304,
    "execution_millis": 621,
    "deepnote_cell_type": "code"
   },
   "source": "# La correlación entre variables pero ahora con el logaritmo de la matrícula\nplt.figure(figsize=(10,8))\n\nsns.heatmap(df_ajuste_final.drop([\"ciclo\", \"id_eje\", \"Monto\", \"Matricula\"], axis=1).corr(),\n            vmin=-1, vmax=1, annot=True,\n            cmap=sns.diverging_palette(300, 145, s=60, center=\"dark\", as_cmap=True));",
   "outputs": [
    {
     "data": {
      "text/plain": "<Figure size 720x576 with 2 Axes>",
      "image/png": "[encoded data removed]"
     },
     "metadata": {
      "needs_background": "light",
      "image/png": {
       "width": 565,
       "height": 470
      }
     },
     "output_type": "display_data"
    }
   ],
   "execution_count": null
  },
  {
   "cell_type": "markdown",
   "source": "<a style='text-decoration:none;line-height:16px;display:flex;color:#5B5B62;padding:10px;justify-content:end;' href='https://deepnote.com?utm_source=created-in-deepnote-cell&projectId=f2e9f3c0-13c9-4e25-81b6-4814e7ef3fbb' target=\"_blank\">\n<img alt='Created in deepnote.com' style='display:inline;max-height:16px;margin:0px;margin-right:7.5px;' src='data:image/svg+xml;base64,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' > </img>\nCreated in <span style='font-weight:600;margin-left:4px;'>Deepnote</span></a>",
   "metadata": {
    "tags": [],
    "created_in_deepnote_cell": true,
    "deepnote_cell_type": "markdown"
   }
  }
 ],
 "nbformat": 4,
 "nbformat_minor": 2,
 "metadata": {
  "orig_nbformat": 2,
  "deepnote": {
   "is_reactive": false
  },
  "deepnote_notebook_id": "1732d57c-3a8a-4d3c-a029-a23083949dcf",
  "deepnote_execution_queue": []
 }
}